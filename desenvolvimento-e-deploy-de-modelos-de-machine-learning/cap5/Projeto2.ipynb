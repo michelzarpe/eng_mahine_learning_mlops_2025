{
 "cells": [
  {
   "cell_type": "markdown",
   "metadata": {},
   "source": [
    "<!-- Projeto Desenvolvido na Data Science Academy - www.datascienceacademy.com.br -->\n",
    "# <font color='blue'>Data Science Academy</font>\n",
    "# <font color='blue'>Desenvolvimento e Deploy de Modelos de Machine Learning</font>\n",
    "## <font color='blue'>Projeto 2</font>\n",
    "### <font color='blue'>Prevendo o Churn de Clientes com RandomForest - Da Concepção do Problema ao Deploy</font>"
   ]
  },
  {
   "cell_type": "markdown",
   "metadata": {},
   "source": [
    "## Pacotes Python Usados no Projeto"
   ]
  },
  {
   "cell_type": "code",
   "execution_count": 1,
   "metadata": {},
   "outputs": [],
   "source": [
    "!pip install -q -U watermark"
   ]
  },
  {
   "cell_type": "code",
   "execution_count": 2,
   "metadata": {
    "ExecuteTime": {
     "end_time": "2021-09-13T07:25:28.577903Z",
     "start_time": "2021-09-13T07:25:28.555748Z"
    }
   },
   "outputs": [],
   "source": [
    "# Imports\n",
    "import joblib\n",
    "import sklearn\n",
    "import pandas as pd\n",
    "import numpy as np\n",
    "import matplotlib.pyplot as plt\n",
    "import seaborn as sns\n",
    "from sklearn.model_selection import train_test_split, cross_val_score, GridSearchCV\n",
    "from sklearn.preprocessing import StandardScaler, OneHotEncoder\n",
    "from sklearn.ensemble import RandomForestClassifier\n",
    "from sklearn.metrics import classification_report, accuracy_score"
   ]
  },
  {
   "cell_type": "code",
   "execution_count": 3,
   "metadata": {},
   "outputs": [],
   "source": [
    "# Configurações básicas para os gráficos\n",
    "sns.set(style=\"whitegrid\")\n",
    "plt.rcParams['figure.figsize'] = [6, 5]"
   ]
  },
  {
   "cell_type": "code",
   "execution_count": 4,
   "metadata": {},
   "outputs": [
    {
     "name": "stdout",
     "output_type": "stream",
     "text": [
      "Author: Data Science Academy\n",
      "\n"
     ]
    }
   ],
   "source": [
    "%reload_ext watermark\n",
    "%watermark -a \"Data Science Academy\""
   ]
  },
  {
   "cell_type": "markdown",
   "metadata": {},
   "source": [
    "## Carregando os Dados"
   ]
  },
  {
   "cell_type": "code",
   "execution_count": 5,
   "metadata": {},
   "outputs": [],
   "source": [
    "# Carregando o dataset\n",
    "df_dsa = pd.read_csv('dataset.csv')"
   ]
  },
  {
   "cell_type": "code",
   "execution_count": 6,
   "metadata": {},
   "outputs": [
    {
     "data": {
      "text/plain": [
       "pandas.core.frame.DataFrame"
      ]
     },
     "execution_count": 6,
     "metadata": {},
     "output_type": "execute_result"
    }
   ],
   "source": [
    "# Tipo de objeto\n",
    "type(df_dsa)"
   ]
  },
  {
   "cell_type": "code",
   "execution_count": 7,
   "metadata": {},
   "outputs": [
    {
     "data": {
      "text/plain": [
       "(1000, 7)"
      ]
     },
     "execution_count": 7,
     "metadata": {},
     "output_type": "execute_result"
    }
   ],
   "source": [
    "# Shape\n",
    "df_dsa.shape"
   ]
  },
  {
   "cell_type": "code",
   "execution_count": 8,
   "metadata": {},
   "outputs": [
    {
     "name": "stdout",
     "output_type": "stream",
     "text": [
      "<class 'pandas.core.frame.DataFrame'>\n",
      "RangeIndex: 1000 entries, 0 to 999\n",
      "Data columns (total 7 columns):\n",
      " #   Column             Non-Null Count  Dtype  \n",
      "---  ------             --------------  -----  \n",
      " 0   Idade              1000 non-null   int64  \n",
      " 1   UsoMensal          1000 non-null   int64  \n",
      " 2   Plano              1000 non-null   object \n",
      " 3   SatisfacaoCliente  1000 non-null   int64  \n",
      " 4   TempoContrato      1000 non-null   object \n",
      " 5   ValorMensal        1000 non-null   float64\n",
      " 6   Churn              1000 non-null   int64  \n",
      "dtypes: float64(1), int64(4), object(2)\n",
      "memory usage: 54.8+ KB\n"
     ]
    }
   ],
   "source": [
    "# Info\n",
    "df_dsa.info()"
   ]
  },
  {
   "cell_type": "code",
   "execution_count": 9,
   "metadata": {},
   "outputs": [
    {
     "data": {
      "text/html": [
       "<div>\n",
       "<style scoped>\n",
       "    .dataframe tbody tr th:only-of-type {\n",
       "        vertical-align: middle;\n",
       "    }\n",
       "\n",
       "    .dataframe tbody tr th {\n",
       "        vertical-align: top;\n",
       "    }\n",
       "\n",
       "    .dataframe thead th {\n",
       "        text-align: right;\n",
       "    }\n",
       "</style>\n",
       "<table border=\"1\" class=\"dataframe\">\n",
       "  <thead>\n",
       "    <tr style=\"text-align: right;\">\n",
       "      <th></th>\n",
       "      <th>Idade</th>\n",
       "      <th>UsoMensal</th>\n",
       "      <th>Plano</th>\n",
       "      <th>SatisfacaoCliente</th>\n",
       "      <th>TempoContrato</th>\n",
       "      <th>ValorMensal</th>\n",
       "      <th>Churn</th>\n",
       "    </tr>\n",
       "  </thead>\n",
       "  <tbody>\n",
       "    <tr>\n",
       "      <th>0</th>\n",
       "      <td>56</td>\n",
       "      <td>52</td>\n",
       "      <td>Premium</td>\n",
       "      <td>1</td>\n",
       "      <td>Curto</td>\n",
       "      <td>75.48</td>\n",
       "      <td>0</td>\n",
       "    </tr>\n",
       "    <tr>\n",
       "      <th>1</th>\n",
       "      <td>69</td>\n",
       "      <td>65</td>\n",
       "      <td>Basico</td>\n",
       "      <td>4</td>\n",
       "      <td>Curto</td>\n",
       "      <td>79.25</td>\n",
       "      <td>0</td>\n",
       "    </tr>\n",
       "    <tr>\n",
       "      <th>2</th>\n",
       "      <td>46</td>\n",
       "      <td>76</td>\n",
       "      <td>Standard</td>\n",
       "      <td>3</td>\n",
       "      <td>Longo</td>\n",
       "      <td>183.56</td>\n",
       "      <td>0</td>\n",
       "    </tr>\n",
       "    <tr>\n",
       "      <th>3</th>\n",
       "      <td>32</td>\n",
       "      <td>42</td>\n",
       "      <td>Basico</td>\n",
       "      <td>2</td>\n",
       "      <td>Longo</td>\n",
       "      <td>162.50</td>\n",
       "      <td>0</td>\n",
       "    </tr>\n",
       "    <tr>\n",
       "      <th>4</th>\n",
       "      <td>60</td>\n",
       "      <td>74</td>\n",
       "      <td>Standard</td>\n",
       "      <td>2</td>\n",
       "      <td>Longo</td>\n",
       "      <td>186.23</td>\n",
       "      <td>1</td>\n",
       "    </tr>\n",
       "  </tbody>\n",
       "</table>\n",
       "</div>"
      ],
      "text/plain": [
       "   Idade  UsoMensal     Plano  SatisfacaoCliente TempoContrato  ValorMensal  \\\n",
       "0     56         52   Premium                  1         Curto        75.48   \n",
       "1     69         65    Basico                  4         Curto        79.25   \n",
       "2     46         76  Standard                  3         Longo       183.56   \n",
       "3     32         42    Basico                  2         Longo       162.50   \n",
       "4     60         74  Standard                  2         Longo       186.23   \n",
       "\n",
       "   Churn  \n",
       "0      0  \n",
       "1      0  \n",
       "2      0  \n",
       "3      0  \n",
       "4      1  "
      ]
     },
     "execution_count": 9,
     "metadata": {},
     "output_type": "execute_result"
    }
   ],
   "source": [
    "# Amostra dos dados\n",
    "df_dsa.head()"
   ]
  },
  {
   "cell_type": "markdown",
   "metadata": {},
   "source": [
    "## Análise Exploratória"
   ]
  },
  {
   "cell_type": "markdown",
   "metadata": {},
   "source": [
    "Definimos a variável target (alvo do estudo).\n",
    "\n",
    "Variável Churn:\n",
    "\n",
    "- 1 --> Classe positiva (houve churn, ou seja, cancelou a assinatura)\n",
    "- 0 --> Classe negativa (não houve churn, ou seja, não cancelou a assinatura)"
   ]
  },
  {
   "cell_type": "code",
   "execution_count": 10,
   "metadata": {},
   "outputs": [],
   "source": [
    "# Análise Exploratória de Dados (EDA)\n",
    "def eda(dados):\n",
    "    \n",
    "    for column in dados.columns:\n",
    "        \n",
    "        # Se a coluna for numérica\n",
    "        if dados[column].dtype in ['int64', 'float64']:\n",
    "            \n",
    "            # Histograma e Boxplot\n",
    "            fig, axes = plt.subplots(1, 2)\n",
    "            sns.histplot(dados[column], kde = True, ax = axes[0])\n",
    "            sns.boxplot(x = 'Churn', y = column, data = dados, ax = axes[1])\n",
    "            axes[0].set_title(f'Distribuição de {column}')\n",
    "            axes[1].set_title(f'{column} vs Churn')\n",
    "            plt.tight_layout()\n",
    "            plt.show()\n",
    "            \n",
    "        # Se a coluna for categórica\n",
    "        else:\n",
    "            \n",
    "            # Contagem de frequência e relação com Churn\n",
    "            fig, axes = plt.subplots(1, 2)\n",
    "            sns.countplot(x = column, data = dados, ax = axes[0])\n",
    "            sns.countplot(x = column, hue = 'Churn', data = dados, ax = axes[1])\n",
    "            axes[0].set_title(f'Distribuição de {column}')\n",
    "            axes[1].set_title(f'{column} vs Churn')\n",
    "            plt.tight_layout()\n",
    "            plt.show()"
   ]
  },
  {
   "cell_type": "code",
   "execution_count": 11,
   "metadata": {},
   "outputs": [
    {
     "data": {
      "image/png": "[encoded data removed]",
      "text/plain": [
       "<Figure size 600x500 with 2 Axes>"
      ]
     },
     "metadata": {},
     "output_type": "display_data"
    },
    {
     "data": {
      "image/png": "[encoded data removed]",
      "text/plain": [
       "<Figure size 600x500 with 2 Axes>"
      ]
     },
     "metadata": {},
     "output_type": "display_data"
    },
    {
     "data": {
      "image/png": "[encoded data removed]",
      "text/plain": [
       "<Figure size 600x500 with 2 Axes>"
      ]
     },
     "metadata": {},
     "output_type": "display_data"
    },
    {
     "data": {
      "image/png": "[encoded data removed]",
      "text/plain": [
       "<Figure size 600x500 with 2 Axes>"
      ]
     },
     "metadata": {},
     "output_type": "display_data"
    },
    {
     "data": {
      "image/png": "[encoded data removed]",
      "text/plain": [
       "<Figure size 600x500 with 2 Axes>"
      ]
     },
     "metadata": {},
     "output_type": "display_data"
    },
    {
     "data": {
      "image/png": "[encoded data removed]",
      "text/plain": [
       "<Figure size 600x500 with 2 Axes>"
      ]
     },
     "metadata": {},
     "output_type": "display_data"
    },
    {
     "data": {
      "image/png": "[encoded data removed]",
      "text/plain": [
       "<Figure size 600x500 with 2 Axes>"
      ]
     },
     "metadata": {},
     "output_type": "display_data"
    }
   ],
   "source": [
    "# Realizando a EDA\n",
    "eda(df_dsa)"
   ]
  },
  {
   "cell_type": "markdown",
   "metadata": {},
   "source": [
    "## Automação do Processo de Divisão em Dados de Treino e Teste"
   ]
  },
  {
   "cell_type": "code",
   "execution_count": 12,
   "metadata": {},
   "outputs": [
    {
     "name": "stdout",
     "output_type": "stream",
     "text": [
      "<class 'pandas.core.frame.DataFrame'>\n",
      "RangeIndex: 1000 entries, 0 to 999\n",
      "Data columns (total 7 columns):\n",
      " #   Column             Non-Null Count  Dtype  \n",
      "---  ------             --------------  -----  \n",
      " 0   Idade              1000 non-null   int64  \n",
      " 1   UsoMensal          1000 non-null   int64  \n",
      " 2   Plano              1000 non-null   object \n",
      " 3   SatisfacaoCliente  1000 non-null   int64  \n",
      " 4   TempoContrato      1000 non-null   object \n",
      " 5   ValorMensal        1000 non-null   float64\n",
      " 6   Churn              1000 non-null   int64  \n",
      "dtypes: float64(1), int64(4), object(2)\n",
      "memory usage: 54.8+ KB\n"
     ]
    }
   ],
   "source": [
    "df_dsa.info()"
   ]
  },
  {
   "cell_type": "code",
   "execution_count": 13,
   "metadata": {},
   "outputs": [],
   "source": [
    "# Função para automatizar a divisão em treino e teste\n",
    "def split_dataset(data, target_column, test_size, random_state = 42):\n",
    "    \"\"\"\n",
    "    Divide o dataset em conjuntos de treino e teste.\n",
    "\n",
    "    Parâmetros:\n",
    "    - data (DataFrame): O DataFrame completo.\n",
    "    - target_column (str): O nome da coluna alvo (target).\n",
    "    - test_size (float): A proporção do conjunto de teste.\n",
    "    - random_state (int): Seed para a geração de números aleatórios (padrão é 42).\n",
    "\n",
    "    Retorna:\n",
    "    - X_train (DataFrame): Conjunto de treino para as variáveis independentes.\n",
    "    - X_test (DataFrame): Conjunto de teste para as variáveis independentes.\n",
    "    - y_train (Series): Conjunto de treino para a variável alvo.\n",
    "    - y_test (Series): Conjunto de teste para a variável alvo.\n",
    "    \"\"\"\n",
    "\n",
    "    # Dados de entrada\n",
    "    X = data.drop(target_column, axis = 1)\n",
    "    \n",
    "    # Dados de saída\n",
    "    y = data[target_column]\n",
    "    \n",
    "    # Divisão em treino e teste\n",
    "    X_train, X_test, y_train, y_test = train_test_split(X, \n",
    "                                                        y, \n",
    "                                                        test_size = test_size, \n",
    "                                                        random_state = random_state)\n",
    "\n",
    "    return X_train, X_test, y_train, y_test"
   ]
  },
  {
   "cell_type": "code",
   "execution_count": 14,
   "metadata": {},
   "outputs": [],
   "source": [
    "# Uso da função anterior\n",
    "valor_test_size = 0.3\n",
    "X_train, X_test, y_train, y_test = split_dataset(df_dsa, 'Churn', test_size = valor_test_size)"
   ]
  },
  {
   "cell_type": "code",
   "execution_count": 15,
   "metadata": {},
   "outputs": [
    {
     "data": {
      "text/plain": [
       "((700, 6), (300, 6), (700,), (300,))"
      ]
     },
     "execution_count": 15,
     "metadata": {},
     "output_type": "execute_result"
    }
   ],
   "source": [
    "# Verificando o tamanho dos conjuntos de treino e teste\n",
    "X_train.shape, X_test.shape, y_train.shape, y_test.shape"
   ]
  },
  {
   "cell_type": "markdown",
   "metadata": {},
   "source": [
    "## Pré-Processamento dos Dados\n",
    "\n",
    "O pré-processamento, especialmente a aplicação de técnicas de encoding e a normalização de dados, deve idealmente ser feito após a divisão do dataset em conjuntos de treino e teste. Isso evita o vazamento de informações do conjunto de teste para o conjunto de treino, o que pode acontecer se o pré-processamento for feito antes da divisão. "
   ]
  },
  {
   "cell_type": "code",
   "execution_count": 16,
   "metadata": {},
   "outputs": [
    {
     "data": {
      "text/html": [
       "<div>\n",
       "<style scoped>\n",
       "    .dataframe tbody tr th:only-of-type {\n",
       "        vertical-align: middle;\n",
       "    }\n",
       "\n",
       "    .dataframe tbody tr th {\n",
       "        vertical-align: top;\n",
       "    }\n",
       "\n",
       "    .dataframe thead th {\n",
       "        text-align: right;\n",
       "    }\n",
       "</style>\n",
       "<table border=\"1\" class=\"dataframe\">\n",
       "  <thead>\n",
       "    <tr style=\"text-align: right;\">\n",
       "      <th></th>\n",
       "      <th>Idade</th>\n",
       "      <th>UsoMensal</th>\n",
       "      <th>Plano</th>\n",
       "      <th>SatisfacaoCliente</th>\n",
       "      <th>TempoContrato</th>\n",
       "      <th>ValorMensal</th>\n",
       "      <th>Churn</th>\n",
       "    </tr>\n",
       "  </thead>\n",
       "  <tbody>\n",
       "    <tr>\n",
       "      <th>0</th>\n",
       "      <td>56</td>\n",
       "      <td>52</td>\n",
       "      <td>Premium</td>\n",
       "      <td>1</td>\n",
       "      <td>Curto</td>\n",
       "      <td>75.48</td>\n",
       "      <td>0</td>\n",
       "    </tr>\n",
       "    <tr>\n",
       "      <th>1</th>\n",
       "      <td>69</td>\n",
       "      <td>65</td>\n",
       "      <td>Basico</td>\n",
       "      <td>4</td>\n",
       "      <td>Curto</td>\n",
       "      <td>79.25</td>\n",
       "      <td>0</td>\n",
       "    </tr>\n",
       "    <tr>\n",
       "      <th>2</th>\n",
       "      <td>46</td>\n",
       "      <td>76</td>\n",
       "      <td>Standard</td>\n",
       "      <td>3</td>\n",
       "      <td>Longo</td>\n",
       "      <td>183.56</td>\n",
       "      <td>0</td>\n",
       "    </tr>\n",
       "    <tr>\n",
       "      <th>3</th>\n",
       "      <td>32</td>\n",
       "      <td>42</td>\n",
       "      <td>Basico</td>\n",
       "      <td>2</td>\n",
       "      <td>Longo</td>\n",
       "      <td>162.50</td>\n",
       "      <td>0</td>\n",
       "    </tr>\n",
       "    <tr>\n",
       "      <th>4</th>\n",
       "      <td>60</td>\n",
       "      <td>74</td>\n",
       "      <td>Standard</td>\n",
       "      <td>2</td>\n",
       "      <td>Longo</td>\n",
       "      <td>186.23</td>\n",
       "      <td>1</td>\n",
       "    </tr>\n",
       "  </tbody>\n",
       "</table>\n",
       "</div>"
      ],
      "text/plain": [
       "   Idade  UsoMensal     Plano  SatisfacaoCliente TempoContrato  ValorMensal  \\\n",
       "0     56         52   Premium                  1         Curto        75.48   \n",
       "1     69         65    Basico                  4         Curto        79.25   \n",
       "2     46         76  Standard                  3         Longo       183.56   \n",
       "3     32         42    Basico                  2         Longo       162.50   \n",
       "4     60         74  Standard                  2         Longo       186.23   \n",
       "\n",
       "   Churn  \n",
       "0      0  \n",
       "1      0  \n",
       "2      0  \n",
       "3      0  \n",
       "4      1  "
      ]
     },
     "execution_count": 16,
     "metadata": {},
     "output_type": "execute_result"
    }
   ],
   "source": [
    "# Amostra dos dados\n",
    "df_dsa.head()"
   ]
  },
  {
   "cell_type": "code",
   "execution_count": 17,
   "metadata": {},
   "outputs": [],
   "source": [
    "# Selecionando as variáveis categóricas\n",
    "categorical_cols = df_dsa.select_dtypes(include = ['object']).columns"
   ]
  },
  {
   "cell_type": "code",
   "execution_count": 18,
   "metadata": {},
   "outputs": [
    {
     "data": {
      "text/plain": [
       "Index(['Plano', 'TempoContrato'], dtype='object')"
      ]
     },
     "execution_count": 18,
     "metadata": {},
     "output_type": "execute_result"
    }
   ],
   "source": [
    "categorical_cols"
   ]
  },
  {
   "cell_type": "markdown",
   "metadata": {},
   "source": [
    "### One-Hot Encoding"
   ]
  },
  {
   "cell_type": "code",
   "execution_count": 19,
   "metadata": {},
   "outputs": [],
   "source": [
    "# Aplicando One-Hot Encoding separadamente aos conjuntos de treino e teste\n",
    "encoder = OneHotEncoder(sparse_output = False)"
   ]
  },
  {
   "cell_type": "markdown",
   "metadata": {},
   "source": [
    "Por padrão, o OneHotEncoder retorna uma matriz esparsa quando você o utiliza para transformar dados. Uma matriz esparsa é uma maneira eficiente de armazenar dados com muitos zeros (valores não presentes). No entanto, se você definir sparse_output=False, o encoder retornará uma matriz densa (numpy array) em vez de uma matriz esparsa. Uma matriz densa é mais fácil de trabalhar e entender, mas pode consumir mais memória se os dados forem grandes e a maioria dos valores for zero."
   ]
  },
  {
   "cell_type": "code",
   "execution_count": 20,
   "metadata": {},
   "outputs": [],
   "source": [
    "# Treinando o encoder com o conjunto de treino e transformando ambos treino e teste\n",
    "X_train_encoded = pd.DataFrame(encoder.fit_transform(X_train[categorical_cols]))\n",
    "X_test_encoded = pd.DataFrame(encoder.transform(X_test[categorical_cols]))"
   ]
  },
  {
   "cell_type": "code",
   "execution_count": 21,
   "metadata": {},
   "outputs": [],
   "source": [
    "# Renomeando as colunas para corresponderem aos nomes das categorias\n",
    "X_train_encoded.columns = encoder.get_feature_names_out(categorical_cols)\n",
    "X_test_encoded.columns = encoder.get_feature_names_out(categorical_cols)"
   ]
  },
  {
   "cell_type": "code",
   "execution_count": 22,
   "metadata": {},
   "outputs": [],
   "source": [
    "# Removendo as colunas categóricas originais e adicionando as codificadas\n",
    "X_train_preprocessed = X_train.drop(categorical_cols, axis = 1).reset_index(drop = True)\n",
    "X_train_preprocessed = pd.concat([X_train_preprocessed, X_train_encoded], axis = 1)"
   ]
  },
  {
   "cell_type": "code",
   "execution_count": 23,
   "metadata": {},
   "outputs": [
    {
     "data": {
      "text/html": [
       "<div>\n",
       "<style scoped>\n",
       "    .dataframe tbody tr th:only-of-type {\n",
       "        vertical-align: middle;\n",
       "    }\n",
       "\n",
       "    .dataframe tbody tr th {\n",
       "        vertical-align: top;\n",
       "    }\n",
       "\n",
       "    .dataframe thead th {\n",
       "        text-align: right;\n",
       "    }\n",
       "</style>\n",
       "<table border=\"1\" class=\"dataframe\">\n",
       "  <thead>\n",
       "    <tr style=\"text-align: right;\">\n",
       "      <th></th>\n",
       "      <th>Idade</th>\n",
       "      <th>UsoMensal</th>\n",
       "      <th>SatisfacaoCliente</th>\n",
       "      <th>ValorMensal</th>\n",
       "      <th>Plano_Basico</th>\n",
       "      <th>Plano_Premium</th>\n",
       "      <th>Plano_Standard</th>\n",
       "      <th>TempoContrato_Curto</th>\n",
       "      <th>TempoContrato_Longo</th>\n",
       "      <th>TempoContrato_Medio</th>\n",
       "    </tr>\n",
       "  </thead>\n",
       "  <tbody>\n",
       "    <tr>\n",
       "      <th>0</th>\n",
       "      <td>65</td>\n",
       "      <td>80</td>\n",
       "      <td>4</td>\n",
       "      <td>174.10</td>\n",
       "      <td>0.0</td>\n",
       "      <td>0.0</td>\n",
       "      <td>1.0</td>\n",
       "      <td>0.0</td>\n",
       "      <td>0.0</td>\n",
       "      <td>1.0</td>\n",
       "    </tr>\n",
       "    <tr>\n",
       "      <th>1</th>\n",
       "      <td>49</td>\n",
       "      <td>18</td>\n",
       "      <td>3</td>\n",
       "      <td>101.59</td>\n",
       "      <td>1.0</td>\n",
       "      <td>0.0</td>\n",
       "      <td>0.0</td>\n",
       "      <td>0.0</td>\n",
       "      <td>1.0</td>\n",
       "      <td>0.0</td>\n",
       "    </tr>\n",
       "    <tr>\n",
       "      <th>2</th>\n",
       "      <td>19</td>\n",
       "      <td>91</td>\n",
       "      <td>4</td>\n",
       "      <td>87.93</td>\n",
       "      <td>1.0</td>\n",
       "      <td>0.0</td>\n",
       "      <td>0.0</td>\n",
       "      <td>0.0</td>\n",
       "      <td>0.0</td>\n",
       "      <td>1.0</td>\n",
       "    </tr>\n",
       "    <tr>\n",
       "      <th>3</th>\n",
       "      <td>52</td>\n",
       "      <td>0</td>\n",
       "      <td>1</td>\n",
       "      <td>90.74</td>\n",
       "      <td>0.0</td>\n",
       "      <td>0.0</td>\n",
       "      <td>1.0</td>\n",
       "      <td>0.0</td>\n",
       "      <td>1.0</td>\n",
       "      <td>0.0</td>\n",
       "    </tr>\n",
       "    <tr>\n",
       "      <th>4</th>\n",
       "      <td>62</td>\n",
       "      <td>60</td>\n",
       "      <td>1</td>\n",
       "      <td>134.59</td>\n",
       "      <td>1.0</td>\n",
       "      <td>0.0</td>\n",
       "      <td>0.0</td>\n",
       "      <td>1.0</td>\n",
       "      <td>0.0</td>\n",
       "      <td>0.0</td>\n",
       "    </tr>\n",
       "  </tbody>\n",
       "</table>\n",
       "</div>"
      ],
      "text/plain": [
       "   Idade  UsoMensal  SatisfacaoCliente  ValorMensal  Plano_Basico  \\\n",
       "0     65         80                  4       174.10           0.0   \n",
       "1     49         18                  3       101.59           1.0   \n",
       "2     19         91                  4        87.93           1.0   \n",
       "3     52          0                  1        90.74           0.0   \n",
       "4     62         60                  1       134.59           1.0   \n",
       "\n",
       "   Plano_Premium  Plano_Standard  TempoContrato_Curto  TempoContrato_Longo  \\\n",
       "0            0.0             1.0                  0.0                  0.0   \n",
       "1            0.0             0.0                  0.0                  1.0   \n",
       "2            0.0             0.0                  0.0                  0.0   \n",
       "3            0.0             1.0                  0.0                  1.0   \n",
       "4            0.0             0.0                  1.0                  0.0   \n",
       "\n",
       "   TempoContrato_Medio  \n",
       "0                  1.0  \n",
       "1                  0.0  \n",
       "2                  1.0  \n",
       "3                  0.0  \n",
       "4                  0.0  "
      ]
     },
     "execution_count": 23,
     "metadata": {},
     "output_type": "execute_result"
    }
   ],
   "source": [
    "X_train_preprocessed.head()"
   ]
  },
  {
   "cell_type": "markdown",
   "metadata": {},
   "source": [
    "Toda e qualquer transformação aplicada aos dados de treino, deve ser aplicada aos dados de teste e aos novos dados."
   ]
  },
  {
   "cell_type": "code",
   "execution_count": 24,
   "metadata": {},
   "outputs": [],
   "source": [
    "# Removendo as colunas categóricas originais e adicionando as codificadas\n",
    "X_test_preprocessed = X_test.drop(categorical_cols, axis = 1).reset_index(drop = True)\n",
    "X_test_preprocessed = pd.concat([X_test_preprocessed, X_test_encoded], axis = 1)"
   ]
  },
  {
   "cell_type": "code",
   "execution_count": 25,
   "metadata": {},
   "outputs": [
    {
     "data": {
      "text/html": [
       "<div>\n",
       "<style scoped>\n",
       "    .dataframe tbody tr th:only-of-type {\n",
       "        vertical-align: middle;\n",
       "    }\n",
       "\n",
       "    .dataframe tbody tr th {\n",
       "        vertical-align: top;\n",
       "    }\n",
       "\n",
       "    .dataframe thead th {\n",
       "        text-align: right;\n",
       "    }\n",
       "</style>\n",
       "<table border=\"1\" class=\"dataframe\">\n",
       "  <thead>\n",
       "    <tr style=\"text-align: right;\">\n",
       "      <th></th>\n",
       "      <th>Idade</th>\n",
       "      <th>UsoMensal</th>\n",
       "      <th>SatisfacaoCliente</th>\n",
       "      <th>ValorMensal</th>\n",
       "      <th>Plano_Basico</th>\n",
       "      <th>Plano_Premium</th>\n",
       "      <th>Plano_Standard</th>\n",
       "      <th>TempoContrato_Curto</th>\n",
       "      <th>TempoContrato_Longo</th>\n",
       "      <th>TempoContrato_Medio</th>\n",
       "    </tr>\n",
       "  </thead>\n",
       "  <tbody>\n",
       "    <tr>\n",
       "      <th>0</th>\n",
       "      <td>65</td>\n",
       "      <td>80</td>\n",
       "      <td>4</td>\n",
       "      <td>174.10</td>\n",
       "      <td>0.0</td>\n",
       "      <td>0.0</td>\n",
       "      <td>1.0</td>\n",
       "      <td>0.0</td>\n",
       "      <td>0.0</td>\n",
       "      <td>1.0</td>\n",
       "    </tr>\n",
       "    <tr>\n",
       "      <th>1</th>\n",
       "      <td>49</td>\n",
       "      <td>18</td>\n",
       "      <td>3</td>\n",
       "      <td>101.59</td>\n",
       "      <td>1.0</td>\n",
       "      <td>0.0</td>\n",
       "      <td>0.0</td>\n",
       "      <td>0.0</td>\n",
       "      <td>1.0</td>\n",
       "      <td>0.0</td>\n",
       "    </tr>\n",
       "    <tr>\n",
       "      <th>2</th>\n",
       "      <td>19</td>\n",
       "      <td>91</td>\n",
       "      <td>4</td>\n",
       "      <td>87.93</td>\n",
       "      <td>1.0</td>\n",
       "      <td>0.0</td>\n",
       "      <td>0.0</td>\n",
       "      <td>0.0</td>\n",
       "      <td>0.0</td>\n",
       "      <td>1.0</td>\n",
       "    </tr>\n",
       "    <tr>\n",
       "      <th>3</th>\n",
       "      <td>52</td>\n",
       "      <td>0</td>\n",
       "      <td>1</td>\n",
       "      <td>90.74</td>\n",
       "      <td>0.0</td>\n",
       "      <td>0.0</td>\n",
       "      <td>1.0</td>\n",
       "      <td>0.0</td>\n",
       "      <td>1.0</td>\n",
       "      <td>0.0</td>\n",
       "    </tr>\n",
       "    <tr>\n",
       "      <th>4</th>\n",
       "      <td>62</td>\n",
       "      <td>60</td>\n",
       "      <td>1</td>\n",
       "      <td>134.59</td>\n",
       "      <td>1.0</td>\n",
       "      <td>0.0</td>\n",
       "      <td>0.0</td>\n",
       "      <td>1.0</td>\n",
       "      <td>0.0</td>\n",
       "      <td>0.0</td>\n",
       "    </tr>\n",
       "  </tbody>\n",
       "</table>\n",
       "</div>"
      ],
      "text/plain": [
       "   Idade  UsoMensal  SatisfacaoCliente  ValorMensal  Plano_Basico  \\\n",
       "0     65         80                  4       174.10           0.0   \n",
       "1     49         18                  3       101.59           1.0   \n",
       "2     19         91                  4        87.93           1.0   \n",
       "3     52          0                  1        90.74           0.0   \n",
       "4     62         60                  1       134.59           1.0   \n",
       "\n",
       "   Plano_Premium  Plano_Standard  TempoContrato_Curto  TempoContrato_Longo  \\\n",
       "0            0.0             1.0                  0.0                  0.0   \n",
       "1            0.0             0.0                  0.0                  1.0   \n",
       "2            0.0             0.0                  0.0                  0.0   \n",
       "3            0.0             1.0                  0.0                  1.0   \n",
       "4            0.0             0.0                  1.0                  0.0   \n",
       "\n",
       "   TempoContrato_Medio  \n",
       "0                  1.0  \n",
       "1                  0.0  \n",
       "2                  1.0  \n",
       "3                  0.0  \n",
       "4                  0.0  "
      ]
     },
     "execution_count": 25,
     "metadata": {},
     "output_type": "execute_result"
    }
   ],
   "source": [
    "# Visualizando as primeiras linhas dos datasets de treino e teste após pré-processamento\n",
    "X_train_preprocessed.head()"
   ]
  },
  {
   "cell_type": "code",
   "execution_count": 26,
   "metadata": {},
   "outputs": [
    {
     "data": {
      "text/html": [
       "<div>\n",
       "<style scoped>\n",
       "    .dataframe tbody tr th:only-of-type {\n",
       "        vertical-align: middle;\n",
       "    }\n",
       "\n",
       "    .dataframe tbody tr th {\n",
       "        vertical-align: top;\n",
       "    }\n",
       "\n",
       "    .dataframe thead th {\n",
       "        text-align: right;\n",
       "    }\n",
       "</style>\n",
       "<table border=\"1\" class=\"dataframe\">\n",
       "  <thead>\n",
       "    <tr style=\"text-align: right;\">\n",
       "      <th></th>\n",
       "      <th>Idade</th>\n",
       "      <th>UsoMensal</th>\n",
       "      <th>SatisfacaoCliente</th>\n",
       "      <th>ValorMensal</th>\n",
       "      <th>Plano_Basico</th>\n",
       "      <th>Plano_Premium</th>\n",
       "      <th>Plano_Standard</th>\n",
       "      <th>TempoContrato_Curto</th>\n",
       "      <th>TempoContrato_Longo</th>\n",
       "      <th>TempoContrato_Medio</th>\n",
       "    </tr>\n",
       "  </thead>\n",
       "  <tbody>\n",
       "    <tr>\n",
       "      <th>0</th>\n",
       "      <td>36</td>\n",
       "      <td>86</td>\n",
       "      <td>3</td>\n",
       "      <td>190.77</td>\n",
       "      <td>0.0</td>\n",
       "      <td>0.0</td>\n",
       "      <td>1.0</td>\n",
       "      <td>0.0</td>\n",
       "      <td>0.0</td>\n",
       "      <td>1.0</td>\n",
       "    </tr>\n",
       "    <tr>\n",
       "      <th>1</th>\n",
       "      <td>61</td>\n",
       "      <td>31</td>\n",
       "      <td>4</td>\n",
       "      <td>177.03</td>\n",
       "      <td>1.0</td>\n",
       "      <td>0.0</td>\n",
       "      <td>0.0</td>\n",
       "      <td>0.0</td>\n",
       "      <td>0.0</td>\n",
       "      <td>1.0</td>\n",
       "    </tr>\n",
       "    <tr>\n",
       "      <th>2</th>\n",
       "      <td>24</td>\n",
       "      <td>38</td>\n",
       "      <td>2</td>\n",
       "      <td>139.14</td>\n",
       "      <td>1.0</td>\n",
       "      <td>0.0</td>\n",
       "      <td>0.0</td>\n",
       "      <td>1.0</td>\n",
       "      <td>0.0</td>\n",
       "      <td>0.0</td>\n",
       "    </tr>\n",
       "    <tr>\n",
       "      <th>3</th>\n",
       "      <td>26</td>\n",
       "      <td>94</td>\n",
       "      <td>4</td>\n",
       "      <td>162.87</td>\n",
       "      <td>0.0</td>\n",
       "      <td>0.0</td>\n",
       "      <td>1.0</td>\n",
       "      <td>1.0</td>\n",
       "      <td>0.0</td>\n",
       "      <td>0.0</td>\n",
       "    </tr>\n",
       "    <tr>\n",
       "      <th>4</th>\n",
       "      <td>70</td>\n",
       "      <td>70</td>\n",
       "      <td>1</td>\n",
       "      <td>58.34</td>\n",
       "      <td>0.0</td>\n",
       "      <td>1.0</td>\n",
       "      <td>0.0</td>\n",
       "      <td>1.0</td>\n",
       "      <td>0.0</td>\n",
       "      <td>0.0</td>\n",
       "    </tr>\n",
       "  </tbody>\n",
       "</table>\n",
       "</div>"
      ],
      "text/plain": [
       "   Idade  UsoMensal  SatisfacaoCliente  ValorMensal  Plano_Basico  \\\n",
       "0     36         86                  3       190.77           0.0   \n",
       "1     61         31                  4       177.03           1.0   \n",
       "2     24         38                  2       139.14           1.0   \n",
       "3     26         94                  4       162.87           0.0   \n",
       "4     70         70                  1        58.34           0.0   \n",
       "\n",
       "   Plano_Premium  Plano_Standard  TempoContrato_Curto  TempoContrato_Longo  \\\n",
       "0            0.0             1.0                  0.0                  0.0   \n",
       "1            0.0             0.0                  0.0                  0.0   \n",
       "2            0.0             0.0                  1.0                  0.0   \n",
       "3            0.0             1.0                  1.0                  0.0   \n",
       "4            1.0             0.0                  1.0                  0.0   \n",
       "\n",
       "   TempoContrato_Medio  \n",
       "0                  1.0  \n",
       "1                  1.0  \n",
       "2                  0.0  \n",
       "3                  0.0  \n",
       "4                  0.0  "
      ]
     },
     "execution_count": 26,
     "metadata": {},
     "output_type": "execute_result"
    }
   ],
   "source": [
    "X_test_preprocessed.head()"
   ]
  },
  {
   "cell_type": "markdown",
   "metadata": {},
   "source": [
    "### StandardScaler"
   ]
  },
  {
   "cell_type": "code",
   "execution_count": 27,
   "metadata": {},
   "outputs": [],
   "source": [
    "# Variáveis numéricas\n",
    "numeric_cols = X_train_preprocessed.select_dtypes(include = ['int64', 'float64']).columns"
   ]
  },
  {
   "cell_type": "code",
   "execution_count": 28,
   "metadata": {},
   "outputs": [],
   "source": [
    "# Criando o StandardScaler\n",
    "scaler = StandardScaler()"
   ]
  },
  {
   "cell_type": "code",
   "execution_count": 29,
   "metadata": {},
   "outputs": [],
   "source": [
    "# Aplicando o StandardScaler às variáveis numéricas\n",
    "X_train_preprocessed[numeric_cols] = scaler.fit_transform(X_train_preprocessed[numeric_cols])\n",
    "X_test_preprocessed[numeric_cols] = scaler.transform(X_test_preprocessed[numeric_cols])"
   ]
  },
  {
   "cell_type": "code",
   "execution_count": 30,
   "metadata": {},
   "outputs": [
    {
     "data": {
      "text/html": [
       "<div>\n",
       "<style scoped>\n",
       "    .dataframe tbody tr th:only-of-type {\n",
       "        vertical-align: middle;\n",
       "    }\n",
       "\n",
       "    .dataframe tbody tr th {\n",
       "        vertical-align: top;\n",
       "    }\n",
       "\n",
       "    .dataframe thead th {\n",
       "        text-align: right;\n",
       "    }\n",
       "</style>\n",
       "<table border=\"1\" class=\"dataframe\">\n",
       "  <thead>\n",
       "    <tr style=\"text-align: right;\">\n",
       "      <th></th>\n",
       "      <th>Idade</th>\n",
       "      <th>UsoMensal</th>\n",
       "      <th>SatisfacaoCliente</th>\n",
       "      <th>ValorMensal</th>\n",
       "      <th>Plano_Basico</th>\n",
       "      <th>Plano_Premium</th>\n",
       "      <th>Plano_Standard</th>\n",
       "      <th>TempoContrato_Curto</th>\n",
       "      <th>TempoContrato_Longo</th>\n",
       "      <th>TempoContrato_Medio</th>\n",
       "    </tr>\n",
       "  </thead>\n",
       "  <tbody>\n",
       "    <tr>\n",
       "      <th>0</th>\n",
       "      <td>1.180292</td>\n",
       "      <td>1.069020</td>\n",
       "      <td>0.676895</td>\n",
       "      <td>1.130872</td>\n",
       "      <td>-0.668043</td>\n",
       "      <td>-0.720027</td>\n",
       "      <td>1.362770</td>\n",
       "      <td>-0.685994</td>\n",
       "      <td>-0.729197</td>\n",
       "      <td>1.415730</td>\n",
       "    </tr>\n",
       "    <tr>\n",
       "      <th>1</th>\n",
       "      <td>0.178225</td>\n",
       "      <td>-1.055509</td>\n",
       "      <td>-0.029255</td>\n",
       "      <td>-0.544723</td>\n",
       "      <td>1.496910</td>\n",
       "      <td>-0.720027</td>\n",
       "      <td>-0.733799</td>\n",
       "      <td>-0.685994</td>\n",
       "      <td>1.371371</td>\n",
       "      <td>-0.706349</td>\n",
       "    </tr>\n",
       "    <tr>\n",
       "      <th>2</th>\n",
       "      <td>-1.700652</td>\n",
       "      <td>1.445952</td>\n",
       "      <td>0.676895</td>\n",
       "      <td>-0.860385</td>\n",
       "      <td>1.496910</td>\n",
       "      <td>-0.720027</td>\n",
       "      <td>-0.733799</td>\n",
       "      <td>-0.685994</td>\n",
       "      <td>-0.729197</td>\n",
       "      <td>1.415730</td>\n",
       "    </tr>\n",
       "    <tr>\n",
       "      <th>3</th>\n",
       "      <td>0.366112</td>\n",
       "      <td>-1.672308</td>\n",
       "      <td>-1.441554</td>\n",
       "      <td>-0.795450</td>\n",
       "      <td>-0.668043</td>\n",
       "      <td>-0.720027</td>\n",
       "      <td>1.362770</td>\n",
       "      <td>-0.685994</td>\n",
       "      <td>1.371371</td>\n",
       "      <td>-0.706349</td>\n",
       "    </tr>\n",
       "    <tr>\n",
       "      <th>4</th>\n",
       "      <td>0.992405</td>\n",
       "      <td>0.383688</td>\n",
       "      <td>-1.441554</td>\n",
       "      <td>0.217856</td>\n",
       "      <td>1.496910</td>\n",
       "      <td>-0.720027</td>\n",
       "      <td>-0.733799</td>\n",
       "      <td>1.457738</td>\n",
       "      <td>-0.729197</td>\n",
       "      <td>-0.706349</td>\n",
       "    </tr>\n",
       "  </tbody>\n",
       "</table>\n",
       "</div>"
      ],
      "text/plain": [
       "      Idade  UsoMensal  SatisfacaoCliente  ValorMensal  Plano_Basico  \\\n",
       "0  1.180292   1.069020           0.676895     1.130872     -0.668043   \n",
       "1  0.178225  -1.055509          -0.029255    -0.544723      1.496910   \n",
       "2 -1.700652   1.445952           0.676895    -0.860385      1.496910   \n",
       "3  0.366112  -1.672308          -1.441554    -0.795450     -0.668043   \n",
       "4  0.992405   0.383688          -1.441554     0.217856      1.496910   \n",
       "\n",
       "   Plano_Premium  Plano_Standard  TempoContrato_Curto  TempoContrato_Longo  \\\n",
       "0      -0.720027        1.362770            -0.685994            -0.729197   \n",
       "1      -0.720027       -0.733799            -0.685994             1.371371   \n",
       "2      -0.720027       -0.733799            -0.685994            -0.729197   \n",
       "3      -0.720027        1.362770            -0.685994             1.371371   \n",
       "4      -0.720027       -0.733799             1.457738            -0.729197   \n",
       "\n",
       "   TempoContrato_Medio  \n",
       "0             1.415730  \n",
       "1            -0.706349  \n",
       "2             1.415730  \n",
       "3            -0.706349  \n",
       "4            -0.706349  "
      ]
     },
     "execution_count": 30,
     "metadata": {},
     "output_type": "execute_result"
    }
   ],
   "source": [
    "# Visualizando as primeiras linhas dos datasets de treino e teste após pré-processamento\n",
    "X_train_preprocessed.head()"
   ]
  },
  {
   "cell_type": "code",
   "execution_count": 31,
   "metadata": {},
   "outputs": [
    {
     "data": {
      "text/html": [
       "<div>\n",
       "<style scoped>\n",
       "    .dataframe tbody tr th:only-of-type {\n",
       "        vertical-align: middle;\n",
       "    }\n",
       "\n",
       "    .dataframe tbody tr th {\n",
       "        vertical-align: top;\n",
       "    }\n",
       "\n",
       "    .dataframe thead th {\n",
       "        text-align: right;\n",
       "    }\n",
       "</style>\n",
       "<table border=\"1\" class=\"dataframe\">\n",
       "  <thead>\n",
       "    <tr style=\"text-align: right;\">\n",
       "      <th></th>\n",
       "      <th>Idade</th>\n",
       "      <th>UsoMensal</th>\n",
       "      <th>SatisfacaoCliente</th>\n",
       "      <th>ValorMensal</th>\n",
       "      <th>Plano_Basico</th>\n",
       "      <th>Plano_Premium</th>\n",
       "      <th>Plano_Standard</th>\n",
       "      <th>TempoContrato_Curto</th>\n",
       "      <th>TempoContrato_Longo</th>\n",
       "      <th>TempoContrato_Medio</th>\n",
       "    </tr>\n",
       "  </thead>\n",
       "  <tbody>\n",
       "    <tr>\n",
       "      <th>0</th>\n",
       "      <td>-0.635955</td>\n",
       "      <td>1.274619</td>\n",
       "      <td>-0.029255</td>\n",
       "      <td>1.516090</td>\n",
       "      <td>-0.668043</td>\n",
       "      <td>-0.720027</td>\n",
       "      <td>1.362770</td>\n",
       "      <td>-0.685994</td>\n",
       "      <td>-0.729197</td>\n",
       "      <td>1.415730</td>\n",
       "    </tr>\n",
       "    <tr>\n",
       "      <th>1</th>\n",
       "      <td>0.929775</td>\n",
       "      <td>-0.610043</td>\n",
       "      <td>0.676895</td>\n",
       "      <td>1.198580</td>\n",
       "      <td>1.496910</td>\n",
       "      <td>-0.720027</td>\n",
       "      <td>-0.733799</td>\n",
       "      <td>-0.685994</td>\n",
       "      <td>-0.729197</td>\n",
       "      <td>1.415730</td>\n",
       "    </tr>\n",
       "    <tr>\n",
       "      <th>2</th>\n",
       "      <td>-1.387505</td>\n",
       "      <td>-0.370177</td>\n",
       "      <td>-0.735404</td>\n",
       "      <td>0.323000</td>\n",
       "      <td>1.496910</td>\n",
       "      <td>-0.720027</td>\n",
       "      <td>-0.733799</td>\n",
       "      <td>1.457738</td>\n",
       "      <td>-0.729197</td>\n",
       "      <td>-0.706349</td>\n",
       "    </tr>\n",
       "    <tr>\n",
       "      <th>3</th>\n",
       "      <td>-1.262247</td>\n",
       "      <td>1.548752</td>\n",
       "      <td>0.676895</td>\n",
       "      <td>0.871364</td>\n",
       "      <td>-0.668043</td>\n",
       "      <td>-0.720027</td>\n",
       "      <td>1.362770</td>\n",
       "      <td>1.457738</td>\n",
       "      <td>-0.729197</td>\n",
       "      <td>-0.706349</td>\n",
       "    </tr>\n",
       "    <tr>\n",
       "      <th>4</th>\n",
       "      <td>1.493438</td>\n",
       "      <td>0.726354</td>\n",
       "      <td>-1.441554</td>\n",
       "      <td>-1.544164</td>\n",
       "      <td>-0.668043</td>\n",
       "      <td>1.388838</td>\n",
       "      <td>-0.733799</td>\n",
       "      <td>1.457738</td>\n",
       "      <td>-0.729197</td>\n",
       "      <td>-0.706349</td>\n",
       "    </tr>\n",
       "  </tbody>\n",
       "</table>\n",
       "</div>"
      ],
      "text/plain": [
       "      Idade  UsoMensal  SatisfacaoCliente  ValorMensal  Plano_Basico  \\\n",
       "0 -0.635955   1.274619          -0.029255     1.516090     -0.668043   \n",
       "1  0.929775  -0.610043           0.676895     1.198580      1.496910   \n",
       "2 -1.387505  -0.370177          -0.735404     0.323000      1.496910   \n",
       "3 -1.262247   1.548752           0.676895     0.871364     -0.668043   \n",
       "4  1.493438   0.726354          -1.441554    -1.544164     -0.668043   \n",
       "\n",
       "   Plano_Premium  Plano_Standard  TempoContrato_Curto  TempoContrato_Longo  \\\n",
       "0      -0.720027        1.362770            -0.685994            -0.729197   \n",
       "1      -0.720027       -0.733799            -0.685994            -0.729197   \n",
       "2      -0.720027       -0.733799             1.457738            -0.729197   \n",
       "3      -0.720027        1.362770             1.457738            -0.729197   \n",
       "4       1.388838       -0.733799             1.457738            -0.729197   \n",
       "\n",
       "   TempoContrato_Medio  \n",
       "0             1.415730  \n",
       "1             1.415730  \n",
       "2            -0.706349  \n",
       "3            -0.706349  \n",
       "4            -0.706349  "
      ]
     },
     "execution_count": 31,
     "metadata": {},
     "output_type": "execute_result"
    }
   ],
   "source": [
    "X_test_preprocessed.head()"
   ]
  },
  {
   "cell_type": "markdown",
   "metadata": {},
   "source": [
    "## Modelagem"
   ]
  },
  {
   "cell_type": "code",
   "execution_count": 32,
   "metadata": {},
   "outputs": [],
   "source": [
    "# Criando o modelo RandomForest\n",
    "dsa_modelo_v1 = RandomForestClassifier(random_state = 42)"
   ]
  },
  {
   "cell_type": "code",
   "execution_count": 33,
   "metadata": {},
   "outputs": [
    {
     "data": {
      "text/html": [
       "<style>#sk-container-id-1 {color: black;}#sk-container-id-1 pre{padding: 0;}#sk-container-id-1 div.sk-toggleable {background-color: white;}#sk-container-id-1 label.sk-toggleable__label {cursor: pointer;display: block;width: 100%;margin-bottom: 0;padding: 0.3em;box-sizing: border-box;text-align: center;}#sk-container-id-1 label.sk-toggleable__label-arrow:before {content: \"▸\";float: left;margin-right: 0.25em;color: #696969;}#sk-container-id-1 label.sk-toggleable__label-arrow:hover:before {color: black;}#sk-container-id-1 div.sk-estimator:hover label.sk-toggleable__label-arrow:before {color: black;}#sk-container-id-1 div.sk-toggleable__content {max-height: 0;max-width: 0;overflow: hidden;text-align: left;background-color: #f0f8ff;}#sk-container-id-1 div.sk-toggleable__content pre {margin: 0.2em;color: black;border-radius: 0.25em;background-color: #f0f8ff;}#sk-container-id-1 input.sk-toggleable__control:checked~div.sk-toggleable__content {max-height: 200px;max-width: 100%;overflow: auto;}#sk-container-id-1 input.sk-toggleable__control:checked~label.sk-toggleable__label-arrow:before {content: \"▾\";}#sk-container-id-1 div.sk-estimator input.sk-toggleable__control:checked~label.sk-toggleable__label {background-color: #d4ebff;}#sk-container-id-1 div.sk-label input.sk-toggleable__control:checked~label.sk-toggleable__label {background-color: #d4ebff;}#sk-container-id-1 input.sk-hidden--visually {border: 0;clip: rect(1px 1px 1px 1px);clip: rect(1px, 1px, 1px, 1px);height: 1px;margin: -1px;overflow: hidden;padding: 0;position: absolute;width: 1px;}#sk-container-id-1 div.sk-estimator {font-family: monospace;background-color: #f0f8ff;border: 1px dotted black;border-radius: 0.25em;box-sizing: border-box;margin-bottom: 0.5em;}#sk-container-id-1 div.sk-estimator:hover {background-color: #d4ebff;}#sk-container-id-1 div.sk-parallel-item::after {content: \"\";width: 100%;border-bottom: 1px solid gray;flex-grow: 1;}#sk-container-id-1 div.sk-label:hover label.sk-toggleable__label {background-color: #d4ebff;}#sk-container-id-1 div.sk-serial::before {content: \"\";position: absolute;border-left: 1px solid gray;box-sizing: border-box;top: 0;bottom: 0;left: 50%;z-index: 0;}#sk-container-id-1 div.sk-serial {display: flex;flex-direction: column;align-items: center;background-color: white;padding-right: 0.2em;padding-left: 0.2em;position: relative;}#sk-container-id-1 div.sk-item {position: relative;z-index: 1;}#sk-container-id-1 div.sk-parallel {display: flex;align-items: stretch;justify-content: center;background-color: white;position: relative;}#sk-container-id-1 div.sk-item::before, #sk-container-id-1 div.sk-parallel-item::before {content: \"\";position: absolute;border-left: 1px solid gray;box-sizing: border-box;top: 0;bottom: 0;left: 50%;z-index: -1;}#sk-container-id-1 div.sk-parallel-item {display: flex;flex-direction: column;z-index: 1;position: relative;background-color: white;}#sk-container-id-1 div.sk-parallel-item:first-child::after {align-self: flex-end;width: 50%;}#sk-container-id-1 div.sk-parallel-item:last-child::after {align-self: flex-start;width: 50%;}#sk-container-id-1 div.sk-parallel-item:only-child::after {width: 0;}#sk-container-id-1 div.sk-dashed-wrapped {border: 1px dashed gray;margin: 0 0.4em 0.5em 0.4em;box-sizing: border-box;padding-bottom: 0.4em;background-color: white;}#sk-container-id-1 div.sk-label label {font-family: monospace;font-weight: bold;display: inline-block;line-height: 1.2em;}#sk-container-id-1 div.sk-label-container {text-align: center;}#sk-container-id-1 div.sk-container {/* jupyter's `normalize.less` sets `[hidden] { display: none; }` but bootstrap.min.css set `[hidden] { display: none !important; }` so we also need the `!important` here to be able to override the default hidden behavior on the sphinx rendered scikit-learn.org. See: https://github.com/scikit-learn/scikit-learn/issues/21755 */display: inline-block !important;position: relative;}#sk-container-id-1 div.sk-text-repr-fallback {display: none;}</style><div id=\"sk-container-id-1\" class=\"sk-top-container\"><div class=\"sk-text-repr-fallback\"><pre>RandomForestClassifier(random_state=42)</pre><b>In a Jupyter environment, please rerun this cell to show the HTML representation or trust the notebook. <br />On GitHub, the HTML representation is unable to render, please try loading this page with nbviewer.org.</b></div><div class=\"sk-container\" hidden><div class=\"sk-item\"><div class=\"sk-estimator sk-toggleable\"><input class=\"sk-toggleable__control sk-hidden--visually\" id=\"sk-estimator-id-1\" type=\"checkbox\" checked><label for=\"sk-estimator-id-1\" class=\"sk-toggleable__label sk-toggleable__label-arrow\">RandomForestClassifier</label><div class=\"sk-toggleable__content\"><pre>RandomForestClassifier(random_state=42)</pre></div></div></div></div></div>"
      ],
      "text/plain": [
       "RandomForestClassifier(random_state=42)"
      ]
     },
     "execution_count": 33,
     "metadata": {},
     "output_type": "execute_result"
    }
   ],
   "source": [
    "# Treinando o modelo\n",
    "dsa_modelo_v1.fit(X_train_preprocessed, y_train)"
   ]
  },
  {
   "cell_type": "code",
   "execution_count": 34,
   "metadata": {},
   "outputs": [],
   "source": [
    "# Fazendo previsões no conjunto de teste\n",
    "y_pred = dsa_modelo_v1.predict(X_test_preprocessed)"
   ]
  },
  {
   "cell_type": "code",
   "execution_count": 35,
   "metadata": {},
   "outputs": [],
   "source": [
    "# Avaliando o modelo\n",
    "accuracy = accuracy_score(y_test, y_pred)\n",
    "classification_rep = classification_report(y_test, y_pred)"
   ]
  },
  {
   "cell_type": "code",
   "execution_count": 36,
   "metadata": {},
   "outputs": [
    {
     "data": {
      "text/plain": [
       "0.7966666666666666"
      ]
     },
     "execution_count": 36,
     "metadata": {},
     "output_type": "execute_result"
    }
   ],
   "source": [
    "accuracy"
   ]
  },
  {
   "cell_type": "code",
   "execution_count": 37,
   "metadata": {},
   "outputs": [
    {
     "name": "stdout",
     "output_type": "stream",
     "text": [
      "              precision    recall  f1-score   support\n",
      "\n",
      "           0       0.83      0.84      0.83       182\n",
      "           1       0.74      0.74      0.74       118\n",
      "\n",
      "    accuracy                           0.80       300\n",
      "   macro avg       0.79      0.79      0.79       300\n",
      "weighted avg       0.80      0.80      0.80       300\n",
      "\n"
     ]
    }
   ],
   "source": [
    "print(classification_rep)"
   ]
  },
  {
   "cell_type": "markdown",
   "metadata": {},
   "source": [
    "## Validação Cruzada"
   ]
  },
  {
   "cell_type": "code",
   "execution_count": 38,
   "metadata": {},
   "outputs": [],
   "source": [
    "# Criando um novo modelo RandomForest para validação cruzada\n",
    "dsa_modelo_cv = RandomForestClassifier(random_state = 42)"
   ]
  },
  {
   "cell_type": "code",
   "execution_count": 39,
   "metadata": {},
   "outputs": [],
   "source": [
    "# Realizando a validação cruzada\n",
    "# Usaremos 5 folds para a validação cruzada\n",
    "cv_scores = cross_val_score(dsa_modelo_cv, X_train_preprocessed, y_train, cv = 5)"
   ]
  },
  {
   "cell_type": "code",
   "execution_count": 40,
   "metadata": {},
   "outputs": [
    {
     "data": {
      "text/plain": [
       "array([0.75714286, 0.76428571, 0.75      , 0.71428571, 0.70714286])"
      ]
     },
     "execution_count": 40,
     "metadata": {},
     "output_type": "execute_result"
    }
   ],
   "source": [
    "cv_scores"
   ]
  },
  {
   "cell_type": "markdown",
   "metadata": {},
   "source": [
    "Estes resultados fornecem uma visão mais robusta do desempenho do modelo, pois a validação cruzada avalia a capacidade do modelo de generalizar para novos dados. A variação nas pontuações de acurácia entre os diferentes folds indica que o modelo pode se comportar de maneira inconsistente em diferentes subconjuntos dos dados. Isso pode ser devido a características dos dados, como desbalanceamento de classes, ou à necessidade de um ajuste mais fino dos hiperparâmetros do modelo."
   ]
  },
  {
   "cell_type": "markdown",
   "metadata": {},
   "source": [
    "<!-- Projeto Desenvolvido na Data Science Academy - www.datascienceacademy.com.br -->\n",
    "## Otimização de Hiperparâmetros\n",
    "\n",
    "https://scikit-learn.org/stable/modules/generated/sklearn.ensemble.RandomForestClassifier.html"
   ]
  },
  {
   "cell_type": "code",
   "execution_count": 41,
   "metadata": {},
   "outputs": [],
   "source": [
    "# Definindo os hiperparâmetros para serem otimizados\n",
    "param_grid = {\n",
    "    'n_estimators': [50, 100, 200],   # Número de árvores\n",
    "    'max_depth': [None, 10, 20, 30],  # Profundidade máxima da árvore\n",
    "    'min_samples_split': [2, 4, 6],   # Número mínimo de amostras para dividir um nó\n",
    "    'min_samples_leaf': [1, 2, 4]     # Número mínimo de amostras exigido em um nó folha\n",
    "}"
   ]
  },
  {
   "cell_type": "code",
   "execution_count": 42,
   "metadata": {},
   "outputs": [],
   "source": [
    "# Criando o modelo RandomForest para a otimização\n",
    "dsa_modelo_opt = RandomForestClassifier(random_state = 42)"
   ]
  },
  {
   "cell_type": "code",
   "execution_count": 43,
   "metadata": {},
   "outputs": [],
   "source": [
    "# Configurando a busca em grade com validação cruzada\n",
    "grid_search = GridSearchCV(dsa_modelo_opt, param_grid, cv = 5, scoring = 'accuracy', n_jobs = -1)"
   ]
  },
  {
   "cell_type": "code",
   "execution_count": 44,
   "metadata": {},
   "outputs": [
    {
     "data": {
      "text/html": [
       "<style>#sk-container-id-2 {color: black;}#sk-container-id-2 pre{padding: 0;}#sk-container-id-2 div.sk-toggleable {background-color: white;}#sk-container-id-2 label.sk-toggleable__label {cursor: pointer;display: block;width: 100%;margin-bottom: 0;padding: 0.3em;box-sizing: border-box;text-align: center;}#sk-container-id-2 label.sk-toggleable__label-arrow:before {content: \"▸\";float: left;margin-right: 0.25em;color: #696969;}#sk-container-id-2 label.sk-toggleable__label-arrow:hover:before {color: black;}#sk-container-id-2 div.sk-estimator:hover label.sk-toggleable__label-arrow:before {color: black;}#sk-container-id-2 div.sk-toggleable__content {max-height: 0;max-width: 0;overflow: hidden;text-align: left;background-color: #f0f8ff;}#sk-container-id-2 div.sk-toggleable__content pre {margin: 0.2em;color: black;border-radius: 0.25em;background-color: #f0f8ff;}#sk-container-id-2 input.sk-toggleable__control:checked~div.sk-toggleable__content {max-height: 200px;max-width: 100%;overflow: auto;}#sk-container-id-2 input.sk-toggleable__control:checked~label.sk-toggleable__label-arrow:before {content: \"▾\";}#sk-container-id-2 div.sk-estimator input.sk-toggleable__control:checked~label.sk-toggleable__label {background-color: #d4ebff;}#sk-container-id-2 div.sk-label input.sk-toggleable__control:checked~label.sk-toggleable__label {background-color: #d4ebff;}#sk-container-id-2 input.sk-hidden--visually {border: 0;clip: rect(1px 1px 1px 1px);clip: rect(1px, 1px, 1px, 1px);height: 1px;margin: -1px;overflow: hidden;padding: 0;position: absolute;width: 1px;}#sk-container-id-2 div.sk-estimator {font-family: monospace;background-color: #f0f8ff;border: 1px dotted black;border-radius: 0.25em;box-sizing: border-box;margin-bottom: 0.5em;}#sk-container-id-2 div.sk-estimator:hover {background-color: #d4ebff;}#sk-container-id-2 div.sk-parallel-item::after {content: \"\";width: 100%;border-bottom: 1px solid gray;flex-grow: 1;}#sk-container-id-2 div.sk-label:hover label.sk-toggleable__label {background-color: #d4ebff;}#sk-container-id-2 div.sk-serial::before {content: \"\";position: absolute;border-left: 1px solid gray;box-sizing: border-box;top: 0;bottom: 0;left: 50%;z-index: 0;}#sk-container-id-2 div.sk-serial {display: flex;flex-direction: column;align-items: center;background-color: white;padding-right: 0.2em;padding-left: 0.2em;position: relative;}#sk-container-id-2 div.sk-item {position: relative;z-index: 1;}#sk-container-id-2 div.sk-parallel {display: flex;align-items: stretch;justify-content: center;background-color: white;position: relative;}#sk-container-id-2 div.sk-item::before, #sk-container-id-2 div.sk-parallel-item::before {content: \"\";position: absolute;border-left: 1px solid gray;box-sizing: border-box;top: 0;bottom: 0;left: 50%;z-index: -1;}#sk-container-id-2 div.sk-parallel-item {display: flex;flex-direction: column;z-index: 1;position: relative;background-color: white;}#sk-container-id-2 div.sk-parallel-item:first-child::after {align-self: flex-end;width: 50%;}#sk-container-id-2 div.sk-parallel-item:last-child::after {align-self: flex-start;width: 50%;}#sk-container-id-2 div.sk-parallel-item:only-child::after {width: 0;}#sk-container-id-2 div.sk-dashed-wrapped {border: 1px dashed gray;margin: 0 0.4em 0.5em 0.4em;box-sizing: border-box;padding-bottom: 0.4em;background-color: white;}#sk-container-id-2 div.sk-label label {font-family: monospace;font-weight: bold;display: inline-block;line-height: 1.2em;}#sk-container-id-2 div.sk-label-container {text-align: center;}#sk-container-id-2 div.sk-container {/* jupyter's `normalize.less` sets `[hidden] { display: none; }` but bootstrap.min.css set `[hidden] { display: none !important; }` so we also need the `!important` here to be able to override the default hidden behavior on the sphinx rendered scikit-learn.org. See: https://github.com/scikit-learn/scikit-learn/issues/21755 */display: inline-block !important;position: relative;}#sk-container-id-2 div.sk-text-repr-fallback {display: none;}</style><div id=\"sk-container-id-2\" class=\"sk-top-container\"><div class=\"sk-text-repr-fallback\"><pre>GridSearchCV(cv=5, estimator=RandomForestClassifier(random_state=42), n_jobs=-1,\n",
       "             param_grid={&#x27;max_depth&#x27;: [None, 10, 20, 30],\n",
       "                         &#x27;min_samples_leaf&#x27;: [1, 2, 4],\n",
       "                         &#x27;min_samples_split&#x27;: [2, 4, 6],\n",
       "                         &#x27;n_estimators&#x27;: [50, 100, 200]},\n",
       "             scoring=&#x27;accuracy&#x27;)</pre><b>In a Jupyter environment, please rerun this cell to show the HTML representation or trust the notebook. <br />On GitHub, the HTML representation is unable to render, please try loading this page with nbviewer.org.</b></div><div class=\"sk-container\" hidden><div class=\"sk-item sk-dashed-wrapped\"><div class=\"sk-label-container\"><div class=\"sk-label sk-toggleable\"><input class=\"sk-toggleable__control sk-hidden--visually\" id=\"sk-estimator-id-2\" type=\"checkbox\" ><label for=\"sk-estimator-id-2\" class=\"sk-toggleable__label sk-toggleable__label-arrow\">GridSearchCV</label><div class=\"sk-toggleable__content\"><pre>GridSearchCV(cv=5, estimator=RandomForestClassifier(random_state=42), n_jobs=-1,\n",
       "             param_grid={&#x27;max_depth&#x27;: [None, 10, 20, 30],\n",
       "                         &#x27;min_samples_leaf&#x27;: [1, 2, 4],\n",
       "                         &#x27;min_samples_split&#x27;: [2, 4, 6],\n",
       "                         &#x27;n_estimators&#x27;: [50, 100, 200]},\n",
       "             scoring=&#x27;accuracy&#x27;)</pre></div></div></div><div class=\"sk-parallel\"><div class=\"sk-parallel-item\"><div class=\"sk-item\"><div class=\"sk-label-container\"><div class=\"sk-label sk-toggleable\"><input class=\"sk-toggleable__control sk-hidden--visually\" id=\"sk-estimator-id-3\" type=\"checkbox\" ><label for=\"sk-estimator-id-3\" class=\"sk-toggleable__label sk-toggleable__label-arrow\">estimator: RandomForestClassifier</label><div class=\"sk-toggleable__content\"><pre>RandomForestClassifier(random_state=42)</pre></div></div></div><div class=\"sk-serial\"><div class=\"sk-item\"><div class=\"sk-estimator sk-toggleable\"><input class=\"sk-toggleable__control sk-hidden--visually\" id=\"sk-estimator-id-4\" type=\"checkbox\" ><label for=\"sk-estimator-id-4\" class=\"sk-toggleable__label sk-toggleable__label-arrow\">RandomForestClassifier</label><div class=\"sk-toggleable__content\"><pre>RandomForestClassifier(random_state=42)</pre></div></div></div></div></div></div></div></div></div></div>"
      ],
      "text/plain": [
       "GridSearchCV(cv=5, estimator=RandomForestClassifier(random_state=42), n_jobs=-1,\n",
       "             param_grid={'max_depth': [None, 10, 20, 30],\n",
       "                         'min_samples_leaf': [1, 2, 4],\n",
       "                         'min_samples_split': [2, 4, 6],\n",
       "                         'n_estimators': [50, 100, 200]},\n",
       "             scoring='accuracy')"
      ]
     },
     "execution_count": 44,
     "metadata": {},
     "output_type": "execute_result"
    }
   ],
   "source": [
    "# Realizando a otimização com o conjunto de treino\n",
    "grid_search.fit(X_train_preprocessed, y_train)"
   ]
  },
  {
   "cell_type": "code",
   "execution_count": 45,
   "metadata": {},
   "outputs": [],
   "source": [
    "# Melhores parâmetros e pontuação\n",
    "best_params = grid_search.best_params_\n",
    "best_score = grid_search.best_score_"
   ]
  },
  {
   "cell_type": "code",
   "execution_count": 46,
   "metadata": {},
   "outputs": [
    {
     "data": {
      "text/plain": [
       "({'max_depth': 10,\n",
       "  'min_samples_leaf': 1,\n",
       "  'min_samples_split': 2,\n",
       "  'n_estimators': 50},\n",
       " 0.7528571428571429)"
      ]
     },
     "execution_count": 46,
     "metadata": {},
     "output_type": "execute_result"
    }
   ],
   "source": [
    "best_params, best_score"
   ]
  },
  {
   "cell_type": "markdown",
   "metadata": {},
   "source": [
    "## Versão Final do Modelo"
   ]
  },
  {
   "cell_type": "code",
   "execution_count": 47,
   "metadata": {},
   "outputs": [],
   "source": [
    "# Criando o modelo RandomForest com os melhores hiperparâmetros\n",
    "dsa_modelo_final = RandomForestClassifier(n_estimators = best_params['n_estimators'],\n",
    "                                          max_depth = best_params['max_depth'],\n",
    "                                          min_samples_split = best_params['min_samples_split'],\n",
    "                                          min_samples_leaf = best_params['min_samples_leaf'],\n",
    "                                          random_state = 42)"
   ]
  },
  {
   "cell_type": "code",
   "execution_count": 48,
   "metadata": {},
   "outputs": [
    {
     "data": {
      "text/html": [
       "<style>#sk-container-id-3 {color: black;}#sk-container-id-3 pre{padding: 0;}#sk-container-id-3 div.sk-toggleable {background-color: white;}#sk-container-id-3 label.sk-toggleable__label {cursor: pointer;display: block;width: 100%;margin-bottom: 0;padding: 0.3em;box-sizing: border-box;text-align: center;}#sk-container-id-3 label.sk-toggleable__label-arrow:before {content: \"▸\";float: left;margin-right: 0.25em;color: #696969;}#sk-container-id-3 label.sk-toggleable__label-arrow:hover:before {color: black;}#sk-container-id-3 div.sk-estimator:hover label.sk-toggleable__label-arrow:before {color: black;}#sk-container-id-3 div.sk-toggleable__content {max-height: 0;max-width: 0;overflow: hidden;text-align: left;background-color: #f0f8ff;}#sk-container-id-3 div.sk-toggleable__content pre {margin: 0.2em;color: black;border-radius: 0.25em;background-color: #f0f8ff;}#sk-container-id-3 input.sk-toggleable__control:checked~div.sk-toggleable__content {max-height: 200px;max-width: 100%;overflow: auto;}#sk-container-id-3 input.sk-toggleable__control:checked~label.sk-toggleable__label-arrow:before {content: \"▾\";}#sk-container-id-3 div.sk-estimator input.sk-toggleable__control:checked~label.sk-toggleable__label {background-color: #d4ebff;}#sk-container-id-3 div.sk-label input.sk-toggleable__control:checked~label.sk-toggleable__label {background-color: #d4ebff;}#sk-container-id-3 input.sk-hidden--visually {border: 0;clip: rect(1px 1px 1px 1px);clip: rect(1px, 1px, 1px, 1px);height: 1px;margin: -1px;overflow: hidden;padding: 0;position: absolute;width: 1px;}#sk-container-id-3 div.sk-estimator {font-family: monospace;background-color: #f0f8ff;border: 1px dotted black;border-radius: 0.25em;box-sizing: border-box;margin-bottom: 0.5em;}#sk-container-id-3 div.sk-estimator:hover {background-color: #d4ebff;}#sk-container-id-3 div.sk-parallel-item::after {content: \"\";width: 100%;border-bottom: 1px solid gray;flex-grow: 1;}#sk-container-id-3 div.sk-label:hover label.sk-toggleable__label {background-color: #d4ebff;}#sk-container-id-3 div.sk-serial::before {content: \"\";position: absolute;border-left: 1px solid gray;box-sizing: border-box;top: 0;bottom: 0;left: 50%;z-index: 0;}#sk-container-id-3 div.sk-serial {display: flex;flex-direction: column;align-items: center;background-color: white;padding-right: 0.2em;padding-left: 0.2em;position: relative;}#sk-container-id-3 div.sk-item {position: relative;z-index: 1;}#sk-container-id-3 div.sk-parallel {display: flex;align-items: stretch;justify-content: center;background-color: white;position: relative;}#sk-container-id-3 div.sk-item::before, #sk-container-id-3 div.sk-parallel-item::before {content: \"\";position: absolute;border-left: 1px solid gray;box-sizing: border-box;top: 0;bottom: 0;left: 50%;z-index: -1;}#sk-container-id-3 div.sk-parallel-item {display: flex;flex-direction: column;z-index: 1;position: relative;background-color: white;}#sk-container-id-3 div.sk-parallel-item:first-child::after {align-self: flex-end;width: 50%;}#sk-container-id-3 div.sk-parallel-item:last-child::after {align-self: flex-start;width: 50%;}#sk-container-id-3 div.sk-parallel-item:only-child::after {width: 0;}#sk-container-id-3 div.sk-dashed-wrapped {border: 1px dashed gray;margin: 0 0.4em 0.5em 0.4em;box-sizing: border-box;padding-bottom: 0.4em;background-color: white;}#sk-container-id-3 div.sk-label label {font-family: monospace;font-weight: bold;display: inline-block;line-height: 1.2em;}#sk-container-id-3 div.sk-label-container {text-align: center;}#sk-container-id-3 div.sk-container {/* jupyter's `normalize.less` sets `[hidden] { display: none; }` but bootstrap.min.css set `[hidden] { display: none !important; }` so we also need the `!important` here to be able to override the default hidden behavior on the sphinx rendered scikit-learn.org. See: https://github.com/scikit-learn/scikit-learn/issues/21755 */display: inline-block !important;position: relative;}#sk-container-id-3 div.sk-text-repr-fallback {display: none;}</style><div id=\"sk-container-id-3\" class=\"sk-top-container\"><div class=\"sk-text-repr-fallback\"><pre>RandomForestClassifier(max_depth=10, n_estimators=50, random_state=42)</pre><b>In a Jupyter environment, please rerun this cell to show the HTML representation or trust the notebook. <br />On GitHub, the HTML representation is unable to render, please try loading this page with nbviewer.org.</b></div><div class=\"sk-container\" hidden><div class=\"sk-item\"><div class=\"sk-estimator sk-toggleable\"><input class=\"sk-toggleable__control sk-hidden--visually\" id=\"sk-estimator-id-5\" type=\"checkbox\" checked><label for=\"sk-estimator-id-5\" class=\"sk-toggleable__label sk-toggleable__label-arrow\">RandomForestClassifier</label><div class=\"sk-toggleable__content\"><pre>RandomForestClassifier(max_depth=10, n_estimators=50, random_state=42)</pre></div></div></div></div></div>"
      ],
      "text/plain": [
       "RandomForestClassifier(max_depth=10, n_estimators=50, random_state=42)"
      ]
     },
     "execution_count": 48,
     "metadata": {},
     "output_type": "execute_result"
    }
   ],
   "source": [
    "# Treinando o modelo final com o conjunto de treino\n",
    "dsa_modelo_final.fit(X_train_preprocessed, y_train)"
   ]
  },
  {
   "cell_type": "code",
   "execution_count": 49,
   "metadata": {},
   "outputs": [],
   "source": [
    "# Previsões com dados de teste\n",
    "y_pred_final = dsa_modelo_final.predict(X_test_preprocessed)"
   ]
  },
  {
   "cell_type": "code",
   "execution_count": 50,
   "metadata": {},
   "outputs": [],
   "source": [
    "# Avaliando o modelo final no conjunto de teste\n",
    "final_accuracy = accuracy_score(y_test, y_pred_final)\n",
    "final_classification_report = classification_report(y_test, y_pred_final)"
   ]
  },
  {
   "cell_type": "code",
   "execution_count": 51,
   "metadata": {},
   "outputs": [
    {
     "data": {
      "text/plain": [
       "0.8"
      ]
     },
     "execution_count": 51,
     "metadata": {},
     "output_type": "execute_result"
    }
   ],
   "source": [
    "final_accuracy"
   ]
  },
  {
   "cell_type": "code",
   "execution_count": 52,
   "metadata": {},
   "outputs": [
    {
     "name": "stdout",
     "output_type": "stream",
     "text": [
      "              precision    recall  f1-score   support\n",
      "\n",
      "           0       0.85      0.82      0.83       182\n",
      "           1       0.73      0.77      0.75       118\n",
      "\n",
      "    accuracy                           0.80       300\n",
      "   macro avg       0.79      0.79      0.79       300\n",
      "weighted avg       0.80      0.80      0.80       300\n",
      "\n"
     ]
    }
   ],
   "source": [
    "print(final_classification_report)"
   ]
  },
  {
   "cell_type": "code",
   "execution_count": 53,
   "metadata": {},
   "outputs": [
    {
     "data": {
      "text/plain": [
       "['dsa_modelo_final.pkl']"
      ]
     },
     "execution_count": 53,
     "metadata": {},
     "output_type": "execute_result"
    }
   ],
   "source": [
    "joblib.dump(dsa_modelo_final, 'dsa_modelo_final.pkl')"
   ]
  },
  {
   "cell_type": "code",
   "execution_count": 54,
   "metadata": {},
   "outputs": [
    {
     "data": {
      "text/plain": [
       "['dsa_padronizador.pkl']"
      ]
     },
     "execution_count": 54,
     "metadata": {},
     "output_type": "execute_result"
    }
   ],
   "source": [
    "joblib.dump(scaler, 'dsa_padronizador.pkl')"
   ]
  },
  {
   "cell_type": "code",
   "execution_count": 55,
   "metadata": {},
   "outputs": [
    {
     "data": {
      "text/html": [
       "<div>\n",
       "<style scoped>\n",
       "    .dataframe tbody tr th:only-of-type {\n",
       "        vertical-align: middle;\n",
       "    }\n",
       "\n",
       "    .dataframe tbody tr th {\n",
       "        vertical-align: top;\n",
       "    }\n",
       "\n",
       "    .dataframe thead th {\n",
       "        text-align: right;\n",
       "    }\n",
       "</style>\n",
       "<table border=\"1\" class=\"dataframe\">\n",
       "  <thead>\n",
       "    <tr style=\"text-align: right;\">\n",
       "      <th></th>\n",
       "      <th>Idade</th>\n",
       "      <th>UsoMensal</th>\n",
       "      <th>SatisfacaoCliente</th>\n",
       "      <th>ValorMensal</th>\n",
       "      <th>Plano_Basico</th>\n",
       "      <th>Plano_Premium</th>\n",
       "      <th>Plano_Standard</th>\n",
       "      <th>TempoContrato_Curto</th>\n",
       "      <th>TempoContrato_Longo</th>\n",
       "      <th>TempoContrato_Medio</th>\n",
       "    </tr>\n",
       "  </thead>\n",
       "  <tbody>\n",
       "    <tr>\n",
       "      <th>0</th>\n",
       "      <td>1.180292</td>\n",
       "      <td>1.069020</td>\n",
       "      <td>0.676895</td>\n",
       "      <td>1.130872</td>\n",
       "      <td>-0.668043</td>\n",
       "      <td>-0.720027</td>\n",
       "      <td>1.362770</td>\n",
       "      <td>-0.685994</td>\n",
       "      <td>-0.729197</td>\n",
       "      <td>1.415730</td>\n",
       "    </tr>\n",
       "    <tr>\n",
       "      <th>1</th>\n",
       "      <td>0.178225</td>\n",
       "      <td>-1.055509</td>\n",
       "      <td>-0.029255</td>\n",
       "      <td>-0.544723</td>\n",
       "      <td>1.496910</td>\n",
       "      <td>-0.720027</td>\n",
       "      <td>-0.733799</td>\n",
       "      <td>-0.685994</td>\n",
       "      <td>1.371371</td>\n",
       "      <td>-0.706349</td>\n",
       "    </tr>\n",
       "    <tr>\n",
       "      <th>2</th>\n",
       "      <td>-1.700652</td>\n",
       "      <td>1.445952</td>\n",
       "      <td>0.676895</td>\n",
       "      <td>-0.860385</td>\n",
       "      <td>1.496910</td>\n",
       "      <td>-0.720027</td>\n",
       "      <td>-0.733799</td>\n",
       "      <td>-0.685994</td>\n",
       "      <td>-0.729197</td>\n",
       "      <td>1.415730</td>\n",
       "    </tr>\n",
       "    <tr>\n",
       "      <th>3</th>\n",
       "      <td>0.366112</td>\n",
       "      <td>-1.672308</td>\n",
       "      <td>-1.441554</td>\n",
       "      <td>-0.795450</td>\n",
       "      <td>-0.668043</td>\n",
       "      <td>-0.720027</td>\n",
       "      <td>1.362770</td>\n",
       "      <td>-0.685994</td>\n",
       "      <td>1.371371</td>\n",
       "      <td>-0.706349</td>\n",
       "    </tr>\n",
       "    <tr>\n",
       "      <th>4</th>\n",
       "      <td>0.992405</td>\n",
       "      <td>0.383688</td>\n",
       "      <td>-1.441554</td>\n",
       "      <td>0.217856</td>\n",
       "      <td>1.496910</td>\n",
       "      <td>-0.720027</td>\n",
       "      <td>-0.733799</td>\n",
       "      <td>1.457738</td>\n",
       "      <td>-0.729197</td>\n",
       "      <td>-0.706349</td>\n",
       "    </tr>\n",
       "  </tbody>\n",
       "</table>\n",
       "</div>"
      ],
      "text/plain": [
       "      Idade  UsoMensal  SatisfacaoCliente  ValorMensal  Plano_Basico  \\\n",
       "0  1.180292   1.069020           0.676895     1.130872     -0.668043   \n",
       "1  0.178225  -1.055509          -0.029255    -0.544723      1.496910   \n",
       "2 -1.700652   1.445952           0.676895    -0.860385      1.496910   \n",
       "3  0.366112  -1.672308          -1.441554    -0.795450     -0.668043   \n",
       "4  0.992405   0.383688          -1.441554     0.217856      1.496910   \n",
       "\n",
       "   Plano_Premium  Plano_Standard  TempoContrato_Curto  TempoContrato_Longo  \\\n",
       "0      -0.720027        1.362770            -0.685994            -0.729197   \n",
       "1      -0.720027       -0.733799            -0.685994             1.371371   \n",
       "2      -0.720027       -0.733799            -0.685994            -0.729197   \n",
       "3      -0.720027        1.362770            -0.685994             1.371371   \n",
       "4      -0.720027       -0.733799             1.457738            -0.729197   \n",
       "\n",
       "   TempoContrato_Medio  \n",
       "0             1.415730  \n",
       "1            -0.706349  \n",
       "2             1.415730  \n",
       "3            -0.706349  \n",
       "4            -0.706349  "
      ]
     },
     "execution_count": 55,
     "metadata": {},
     "output_type": "execute_result"
    }
   ],
   "source": [
    "X_train_preprocessed.head()"
   ]
  },
  {
   "cell_type": "code",
   "execution_count": 56,
   "metadata": {},
   "outputs": [
    {
     "name": "stdout",
     "output_type": "stream",
     "text": [
      "Author: Data Science Academy\n",
      "\n"
     ]
    }
   ],
   "source": [
    "%watermark -a \"Data Science Academy\""
   ]
  },
  {
   "cell_type": "code",
   "execution_count": 57,
   "metadata": {},
   "outputs": [],
   "source": [
    "#%watermark -v -m"
   ]
  },
  {
   "cell_type": "code",
   "execution_count": 58,
   "metadata": {},
   "outputs": [],
   "source": [
    "#%watermark --iversions"
   ]
  },
  {
   "cell_type": "markdown",
   "metadata": {},
   "source": [
    "# Fim"
   ]
  }
 ],
 "metadata": {
  "kernelspec": {
   "display_name": "Python 3 (ipykernel)",
   "language": "python",
   "name": "python3"
  },
  "language_info": {
   "codemirror_mode": {
    "name": "ipython",
    "version": 3
   },
   "file_extension": ".py",
   "mimetype": "text/x-python",
   "name": "python",
   "nbconvert_exporter": "python",
   "pygments_lexer": "ipython3",
   "version": "3.11.5"
  },
  "toc": {
   "base_numbering": 1,
   "nav_menu": {},
   "number_sections": true,
   "sideBar": true,
   "skip_h1_title": false,
   "title_cell": "Table of Contents",
   "title_sidebar": "Contents",
   "toc_cell": false,
   "toc_position": {
    "height": "calc(100% - 180px)",
    "left": "10px",
    "top": "150px",
    "width": "320.263px"
   },
   "toc_section_display": true,
   "toc_window_display": true
  }
 },
 "nbformat": 4,
 "nbformat_minor": 4
}
