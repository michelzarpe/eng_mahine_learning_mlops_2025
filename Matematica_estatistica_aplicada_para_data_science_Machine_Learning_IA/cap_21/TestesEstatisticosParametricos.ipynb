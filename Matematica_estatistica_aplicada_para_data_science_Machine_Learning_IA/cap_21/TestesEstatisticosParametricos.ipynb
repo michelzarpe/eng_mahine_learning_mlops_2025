{
 "cells": [
  {
   "cell_type": "markdown",
   "metadata": {},
   "source": [
    "<!-- Projeto Desenvolvido na Data Science Academy - www.datascienceacademy.com.br -->\n",
    "# <font color='blue'>Data Science Academy</font>\n",
    "## <font color='blue'>Matemática e Estatística Aplicada Para Data Science, Machine Learning e IA</font>\n",
    "## <font color='blue'>Testes Estatísticos Paramétricos</font>"
   ]
  },
  {
   "cell_type": "markdown",
   "metadata": {},
   "source": [
    "## Instalando e Carregando os Pacotes"
   ]
  },
  {
   "cell_type": "code",
   "execution_count": 1,
   "metadata": {},
   "outputs": [],
   "source": [
    "# Para atualizar um pacote, execute o comando abaixo no terminal ou prompt de comando:\n",
    "# pip install -U nome_pacote\n",
    "\n",
    "# Para instalar a versão exata de um pacote, execute o comando abaixo no terminal ou prompt de comando:\n",
    "# !pip install nome_pacote==versão_desejada\n",
    "\n",
    "# Depois de instalar ou atualizar o pacote, reinicie o jupyter notebook.\n",
    "\n",
    "# Instala o pacote watermark. \n",
    "# Esse pacote é usado para gravar as versões de outros pacotes usados neste jupyter notebook.\n",
    "!pip install -q -U watermark"
   ]
  },
  {
   "cell_type": "code",
   "execution_count": 2,
   "metadata": {},
   "outputs": [],
   "source": [
    "# Imports\n",
    "import scipy\n",
    "import numpy as np\n",
    "import pandas as pd\n",
    "import statsmodels.api as sm\n",
    "from scipy.stats import shapiro, ttest_ind, levene, bartlett, f_oneway\n",
    "from statsmodels.formula.api import ols"
   ]
  },
  {
   "cell_type": "code",
   "execution_count": 3,
   "metadata": {},
   "outputs": [
    {
     "name": "stdout",
     "output_type": "stream",
     "text": [
      "Author: Data Science Academy\n",
      "\n"
     ]
    }
   ],
   "source": [
    "# Versões dos pacotes usados neste jupyter notebook\n",
    "%reload_ext watermark\n",
    "%watermark -a \"Data Science Academy\" "
   ]
  },
  {
   "cell_type": "markdown",
   "metadata": {},
   "source": [
    "## O Que São Testes Paramétricos?\n",
    "\n",
    "Leia o e-book no Capítulo 21."
   ]
  },
  {
   "cell_type": "markdown",
   "metadata": {},
   "source": [
    "## Estimação Pontual e Intervalar\n",
    "\n",
    "Leia o e-book no Capítulo 21."
   ]
  },
  {
   "cell_type": "markdown",
   "metadata": {},
   "source": [
    "## Propriedades dos Testes Paramétricos\n",
    "\n",
    "Os testes paramétricos, incluindo o Teste t de Student, o Teste F (ANOVA de Um Fator) e a ANOVA de dois fatores, partem do pressuposto de que os dados seguem uma distribuição específica, geralmente a distribuição normal. Isso significa que os testes assumem que os dados têm uma distribuição de probabilidade conhecida e definida. Essa é uma suposição fundamental que permite o uso de parâmetros da distribuição, como média e desvio padrão, na análise.\n",
    "\n",
    "Estes testes fazem inferências sobre parâmetros da população, como a média (μ) ou a variância, a partir de estatísticas amostrais. Eles são projetados para testar hipóteses relacionadas a esses parâmetros, como a igualdade de médias ou variações entre grupos.\n",
    "\n",
    "Os valores das estatísticas de teste (como o valor t no Teste t de Student e o valor F na ANOVA) são calculados usando parâmetros estimados dos dados, como a média e a variância. Estes valores são então comparados com uma distribuição teórica (distribuição t para o Teste t e distribuição F para a ANOVA) para determinar a significância estatística das observações.\n",
    "\n",
    "Quando as suposições dos testes paramétricos são atendidas, eles são geralmente mais eficientes (no sentido estatístico de ter maior poder para detectar um efeito real) do que seus equivalentes não paramétricos. Isso se deve ao fato de que utilizam mais informações sobre a distribuição dos dados.\n",
    "\n",
    "Além da normalidade, a ANOVA, por exemplo, assume que as variâncias dos grupos são iguais (homocedasticidade). Esta é outra suposição paramétrica que facilita a comparação entre grupos.\n",
    "\n",
    "Devido a essas características, os testes são classificados como paramétricos, e é essencial que os dados analisados atendam às suposições dos testes para garantir a validade dos resultados. Quando as suposições paramétricas não são satisfeitas, os testes não paramétricos, que não fazem suposições específicas sobre a distribuição dos dados, podem ser uma alternativa apropriada."
   ]
  },
  {
   "cell_type": "markdown",
   "metadata": {},
   "source": [
    "## Teste t de Student"
   ]
  },
  {
   "cell_type": "markdown",
   "metadata": {},
   "source": [
    "O Teste t de Student é um teste estatístico usado para determinar se há uma diferença significativa entre as médias de dois grupos, que pode ser aplicado em diversas situações, incluindo quando as variações são desconhecidas e assumindo que as distribuições dos dois grupos são normais. Existem três principais variantes do teste t:\n",
    "\n",
    "- Teste t de uma amostra: Compara a média da amostra com uma média populacional conhecida.\n",
    "- Teste t de duas amostras independentes: Compara as médias de duas amostras independentes.\n",
    "- Teste t pareado: Compara as médias de duas amostras relacionadas ou emparelhadas.\n",
    "\n",
    "O teste calcula um valor t, que indica a diferença entre as médias das amostras em relação à variação observada nas amostras. Esse valor é então usado para calcular a probabilidade (valor-p) de observar tal diferença se, na realidade, não houver diferença entre as médias da população (hipótese nula).\n",
    "\n",
    "Vejamos um exemplo de Teste t de duas amostras independentes.\n",
    "\n",
    "Suponha que queremos testar se existe uma diferença significativa nas alturas médias de plantas tratadas com dois diferentes tipos de fertilizantes."
   ]
  },
  {
   "cell_type": "code",
   "execution_count": 4,
   "metadata": {},
   "outputs": [],
   "source": [
    "# Alturas das plantas (em cm) para cada tipo de fertilizante\n",
    "alturas_fertilizante_A = np.array([20, 21, 22, 24, 26, 28, 23, 25, 27, 29])\n",
    "alturas_fertilizante_B = np.array([19, 20, 21, 22, 24, 25, 26, 27, 28, 30])"
   ]
  },
  {
   "cell_type": "code",
   "execution_count": 5,
   "metadata": {},
   "outputs": [],
   "source": [
    "# Realizando o teste t de duas amostras independentes\n",
    "t_stat, p_valor = ttest_ind(alturas_fertilizante_A, alturas_fertilizante_B)"
   ]
  },
  {
   "cell_type": "markdown",
   "metadata": {},
   "source": [
    "As hipóteses desse teste são formuladas da seguinte maneira:\n",
    "\n",
    "- Hipótese Nula (H0): Não há diferença significativa entre as médias das duas populações. \n",
    "- Hipótese Alternativa (H1 ou Ha): Existe uma diferença significativa entre as médias das duas populações.\n",
    "\n",
    "O teste t de duas amostras independentes pressupõe que as amostras são aleatórias, independentes entre si e que as populações de origem têm distribuições normais com variâncias iguais (homocedasticidade). Quando essas suposições não são atendidas, podem ser necessários testes alternativos ou ajustes nos procedimentos.\n",
    "\n",
    "O valor-p no teste t de duas amostras independentes é usado para determinar se a diferença observada entre as médias das duas amostras é estatisticamente significativa. A interpretação do valor-p depende do nível de significância escolhido para o teste, que é geralmente indicado por α (alfa). O nível de significância é a probabilidade de rejeitar a hipótese nula quando ela é verdadeira (erro do tipo I). Os valores de α mais comuns são 0,05 (5%) ou 0,01 (1%).\n",
    "\n",
    "Aqui está como você pode interpretar o valor-p:\n",
    "\n",
    "- Se o valor-p ≤ α: Há evidências estatísticas suficientes para rejeitar a hipótese nula. Isso significa que existe uma diferença significativa entre as médias das duas populações. A natureza dessa diferença (se uma média é maior ou menor que a outra) dependerá da direção da hipótese alternativa.\n",
    "\n",
    "- Se o valor-p > α: Não há evidências estatísticas suficientes para rejeitar a hipótese nula. Isso significa que não há diferença significativa entre as médias das duas populações, com base nos dados da amostra e no nível de significância escolhido."
   ]
  },
  {
   "cell_type": "code",
   "execution_count": 6,
   "metadata": {},
   "outputs": [
    {
     "name": "stdout",
     "output_type": "stream",
     "text": [
      "Estatística t: 0.200\n",
      "Valor-p: 0.844\n"
     ]
    }
   ],
   "source": [
    "print(f\"Estatística t: {t_stat:.3f}\")\n",
    "print(f\"Valor-p: {p_valor:.3f}\")"
   ]
  },
  {
   "cell_type": "markdown",
   "metadata": {},
   "source": [
    "A estatística t no teste t de duas amostras independentes é uma medida da diferença entre as médias das duas amostras em relação à variabilidade combinada das duas amostras. \n",
    "\n",
    "**Valor de t próximo de zero**: Indica que a diferença entre as médias das duas amostras é pequena em relação à variabilidade das amostras. Isso sugere que não há uma diferença significativa entre as duas populações.\n",
    "\n",
    "**Valor de t positivo**: Indica que a média da primeira amostra é maior do que a média da segunda amostra. Quanto maior o valor de t, maior é a diferença entre as médias em relação à variabilidade.\n",
    "\n",
    "**Valor de t negativo**: Indica que a média da primeira amostra é menor do que a média da segunda amostra. Novamente, quanto maior o valor absoluto de t, maior é a diferença entre as médias em relação à variabilidade."
   ]
  },
  {
   "cell_type": "code",
   "execution_count": 7,
   "metadata": {},
   "outputs": [
    {
     "name": "stdout",
     "output_type": "stream",
     "text": [
      "Não há evidências suficientes para rejeitar a hipótese nula. Não existe uma diferença significativa entre as médias.\n"
     ]
    }
   ],
   "source": [
    "# Interpretando o resultado\n",
    "\n",
    "nivel_significancia = 0.05\n",
    "\n",
    "if p_valor <= nivel_significancia:\n",
    "    print(\"Há evidências suficientes para rejeitar a hipótese nula. Existe uma diferença significativa entre as médias.\")\n",
    "else:\n",
    "    print(\"Não há evidências suficientes para rejeitar a hipótese nula. Não existe uma diferença significativa entre as médias.\")"
   ]
  },
  {
   "cell_type": "markdown",
   "metadata": {},
   "source": [
    "Enretanto, não checamos uma das suposições do Teste t de Student, que as variáveis seguem uma Distribuição Normal. Podemos fazer essa checagem usando o Teste Shapiro-Wilk. Veja os detalhes no videobook a seguir.\n",
    "\n",
    "## Teste de Shapiro-Wilk"
   ]
  },
  {
   "cell_type": "code",
   "execution_count": 8,
   "metadata": {},
   "outputs": [],
   "source": [
    "# Teste de Shapiro-Wilk para verificar a normalidade\n",
    "stat_A, p_A = shapiro(alturas_fertilizante_A)\n",
    "stat_B, p_B = shapiro(alturas_fertilizante_B)"
   ]
  },
  {
   "cell_type": "markdown",
   "metadata": {},
   "source": [
    "O teste Shapiro é aplicado separadamente aos dados de altura das plantas para cada tipo de fertilizante. Se o Valor-p obtido for maior que o nível de significância (tipicamente 0.05), então não temos evidências suficientes para rejeitar a hipótese nula de normalidade, sugerindo que os dados podem ser considerados normalmente distribuídos. Se o p-valor for menor que o nível de significância, há evidências suficientes para rejeitar a hipótese de normalidade, indicando que os dados podem não seguir uma distribuição normal.\n",
    "\n",
    "Lembrando que a decisão de usar o teste t de Student depende fortemente da suposição de normalidade dos dados. Se essa suposição for violada, outros testes, como testes não paramétricos, podem ser mais adequados."
   ]
  },
  {
   "cell_type": "code",
   "execution_count": 9,
   "metadata": {},
   "outputs": [
    {
     "name": "stdout",
     "output_type": "stream",
     "text": [
      "Resultado do teste de Shapiro-Wilk para o fertilizante A: Estatística=0.970, Valor-p=0.892\n",
      "Resultado do teste de Shapiro-Wilk para o fertilizante B: Estatística=0.968, Valor-p=0.872\n"
     ]
    }
   ],
   "source": [
    "print(f\"Resultado do teste de Shapiro-Wilk para o fertilizante A: Estatística={stat_A:.3f}, Valor-p={p_A:.3f}\")\n",
    "print(f\"Resultado do teste de Shapiro-Wilk para o fertilizante B: Estatística={stat_B:.3f}, Valor-p={p_B:.3f}\")"
   ]
  },
  {
   "cell_type": "code",
   "execution_count": 10,
   "metadata": {},
   "outputs": [
    {
     "name": "stdout",
     "output_type": "stream",
     "text": [
      "Não há evidências suficientes para rejeitar a hipótese de normalidade para o fertilizante A.\n",
      "Não há evidências suficientes para rejeitar a hipótese de normalidade para o fertilizante B.\n"
     ]
    }
   ],
   "source": [
    "# Interpretando os resultados\n",
    "\n",
    "nivel_significancia = 0.05\n",
    "\n",
    "if p_A > nivel_significancia:\n",
    "    print(\"Não há evidências suficientes para rejeitar a hipótese de normalidade para o fertilizante A.\")\n",
    "else:\n",
    "    print(\"Há evidências suficientes para rejeitar a hipótese de normalidade para o fertilizante A.\")\n",
    "\n",
    "if p_B > nivel_significancia:\n",
    "    print(\"Não há evidências suficientes para rejeitar a hipótese de normalidade para o fertilizante B.\")\n",
    "else:\n",
    "    print(\"Há evidências suficientes para rejeitar a hipótese de normalidade para o fertilizante B.\")"
   ]
  },
  {
   "cell_type": "markdown",
   "metadata": {},
   "source": [
    "## Teste F (ANOVA de Um Fator)\n",
    "\n",
    "O Teste F, também conhecido como análise de variância (ANOVA), é um procedimento estatístico usado para comparar as médias de três ou mais grupos para determinar se pelo menos um dos grupos difere significativamente dos outros em termos de sua média. O Teste F avalia a hipótese nula de que todas as populações das quais as amostras foram retiradas têm a mesma média, contra a hipótese alternativa de que pelo menos uma média de população é diferente.\n",
    "\n",
    "O valor F é calculado dividindo a variância entre os grupos pela variância dentro dos grupos. Se a variância entre os grupos é significativamente maior do que a variância dentro dos grupos, isso sugere que pelo menos um dos grupos difere dos outros em termos de sua média, levando à rejeição da hipótese nula.\n",
    "\n",
    "Exemplo: Teste F (ANOVA de um fator).\n",
    "\n",
    "Suponhamos que você deseja testar se três diferentes dietas têm efeitos distintos sobre o peso de grupos de indivíduos. As três dietas são o Grupo A, Grupo B e Grupo C. Você mediu o peso perdido por um mês em cada grupo e deseja saber se há diferenças significativas entre os efeitos das dietas."
   ]
  },
  {
   "cell_type": "code",
   "execution_count": 11,
   "metadata": {},
   "outputs": [],
   "source": [
    "# Peso perdido por indivíduos em cada grupo de dieta (em kg)\n",
    "peso_perdido_A = np.array([2.1, 1.9, 2.2, 2.4, 2.3, 2.1, 2.2, 2.0])\n",
    "peso_perdido_B = np.array([1.5, 1.7, 1.6, 1.8, 1.5, 1.7, 1.6])\n",
    "peso_perdido_C = np.array([3.1, 3.2, 3.0, 3.3, 3.1, 3.2, 3.1, 3.0])"
   ]
  },
  {
   "cell_type": "code",
   "execution_count": 12,
   "metadata": {},
   "outputs": [],
   "source": [
    "# Realizando ANOVA de um fator\n",
    "f_stat, p_valor = f_oneway(peso_perdido_A, peso_perdido_B, peso_perdido_C)"
   ]
  },
  {
   "cell_type": "code",
   "execution_count": 13,
   "metadata": {},
   "outputs": [
    {
     "name": "stdout",
     "output_type": "stream",
     "text": [
      "Estatística F: 266.012\n",
      "Valor-P: 0.000\n"
     ]
    }
   ],
   "source": [
    "print(f\"Estatística F: {f_stat:.3f}\")\n",
    "print(f\"Valor-P: {p_valor:.3f}\")"
   ]
  },
  {
   "cell_type": "code",
   "execution_count": 14,
   "metadata": {},
   "outputs": [
    {
     "name": "stdout",
     "output_type": "stream",
     "text": [
      "Há evidências suficientes para rejeitar a hipótese nula. Pelo menos uma das dietas tem um efeito significativamente diferente sobre o peso perdido.\n"
     ]
    }
   ],
   "source": [
    "# Interpretando o resultado\n",
    "\n",
    "nivel_significancia = 0.05\n",
    "\n",
    "if p_valor <= nivel_significancia:\n",
    "    print(\"Há evidências suficientes para rejeitar a hipótese nula. Pelo menos uma das dietas tem um efeito significativamente diferente sobre o peso perdido.\")\n",
    "else:\n",
    "    print(\"Não há evidências suficientes para rejeitar a hipótese nula. Não há diferenças significativas entre os efeitos das dietas no peso perdido.\")"
   ]
  },
  {
   "cell_type": "markdown",
   "metadata": {},
   "source": [
    "Para verificar as suposições para o teste F (ANOVA), você precisa considerar principalmente duas suposições: normalidade dos resíduos e homogeneidade das variâncias entre os grupos.\n",
    "\n",
    "1. Normalidade dos Resíduos\n",
    "\n",
    "A normalidade dos resíduos pode ser verificada usando o teste de Shapiro-Wilk, similarmente ao que foi feito anteriormente. Contudo, para a ANOVA, o teste é aplicado aos resíduos do modelo, que são as diferenças entre os valores observados e os valores previstos (ajustados) pelo modelo. Normalmente, isso exigiria a construção de um modelo ANOVA usando, por exemplo, statsmodels para acessar os resíduos diretamente. Por simplicidade e como não construímos o modelo aqui, podemos verificar a normalidade dos grupos individualmente como uma aproximação inicial.\n",
    "\n",
    "2. Homogeneidade das Variâncias\n",
    "\n",
    "A homogeneidade das variâncias (também conhecida como homocedasticidade) entre os grupos pode ser verificada pelo teste de Levene ou pelo teste de Bartlett. O teste de Levene é mais robusto para distribuições que não seguem a normalidade, enquanto o teste de Bartlett é mais sensível a desvios da normalidade."
   ]
  },
  {
   "cell_type": "code",
   "execution_count": 15,
   "metadata": {},
   "outputs": [
    {
     "name": "stdout",
     "output_type": "stream",
     "text": [
      "Valor-p do teste de Shapiro-Wilk para os resíduos: 0.713\n",
      "Os resíduos seguem uma distribuição normal.\n"
     ]
    }
   ],
   "source": [
    "# Verificando a suposição de Normalidade dos Resíduos\n",
    "\n",
    "# Calculando as médias dos grupos\n",
    "media_A = np.mean(peso_perdido_A)\n",
    "media_B = np.mean(peso_perdido_B)\n",
    "media_C = np.mean(peso_perdido_C)\n",
    "\n",
    "# Calculando os resíduos\n",
    "residuos_A = peso_perdido_A - media_A\n",
    "residuos_B = peso_perdido_B - media_B\n",
    "residuos_C = peso_perdido_C - media_C\n",
    "\n",
    "# Concatenando os resíduos\n",
    "residuos = np.concatenate([residuos_A, residuos_B, residuos_C])\n",
    "\n",
    "# Testando a normalidade dos resíduos\n",
    "_, p_valor_shapiro = shapiro(residuos)\n",
    "print(f\"Valor-p do teste de Shapiro-Wilk para os resíduos: {p_valor_shapiro:.3f}\")\n",
    "\n",
    "# Interpretando o resultado do teste de Shapiro-Wilk\n",
    "if p_valor_shapiro > 0.05:\n",
    "    print(\"Os resíduos seguem uma distribuição normal.\")\n",
    "else:\n",
    "    print(\"Os resíduos não seguem uma distribuição normal.\")"
   ]
  },
  {
   "cell_type": "code",
   "execution_count": 16,
   "metadata": {},
   "outputs": [
    {
     "name": "stdout",
     "output_type": "stream",
     "text": [
      "Valor-P de Levene: 0.412\n",
      "Valor-P de Bartlett: 0.473\n",
      "Não há evidências suficientes para rejeitar a hipótese de homogeneidade das variâncias (Levene).\n",
      "Não há evidências suficientes para rejeitar a hipótese de homogeneidade das variâncias (Bartlett).\n"
     ]
    }
   ],
   "source": [
    "# Verificando a suposição de Homogeneidade das Variâncias\n",
    "\n",
    "# Teste de Levene para homogeneidade das variâncias\n",
    "_, p_levene = levene(peso_perdido_A, peso_perdido_B, peso_perdido_C)\n",
    "\n",
    "# Teste de Bartlett para homogeneidade das variâncias\n",
    "_, p_bartlett = bartlett(peso_perdido_A, peso_perdido_B, peso_perdido_C)\n",
    "\n",
    "print(f\"Valor-P de Levene: {p_levene:.3f}\")\n",
    "print(f\"Valor-P de Bartlett: {p_bartlett:.3f}\")\n",
    "\n",
    "# Interpretando os resultados\n",
    "\n",
    "nivel_significancia = 0.05\n",
    "\n",
    "if p_levene > nivel_significancia:\n",
    "    print(\"Não há evidências suficientes para rejeitar a hipótese de homogeneidade das variâncias (Levene).\")\n",
    "else:\n",
    "    print(\"Há evidências suficientes para rejeitar a hipótese de homogeneidade das variâncias (Levene).\")\n",
    "\n",
    "if p_bartlett > nivel_significancia:\n",
    "    print(\"Não há evidências suficientes para rejeitar a hipótese de homogeneidade das variâncias (Bartlett).\")\n",
    "else:\n",
    "    print(\"Há evidências suficientes para rejeitar a hipótese de homogeneidade das variâncias (Bartlett).\")"
   ]
  },
  {
   "cell_type": "markdown",
   "metadata": {},
   "source": [
    "Neste exemplo, primeiro aplicamos o teste de Shapiro-Wilk para verificar a normalidade dos resíduos. Depois, usamos o teste de Levene e o teste de Bartlett para verificar a homogeneidade das variâncias entre os grupos. Se os valores-p são maiores que o nível de significância (0.05), não rejeitamos as hipóteses nulas, o que significa que as suposições de normalidade e homogeneidade das variâncias são atendidas. \n",
    "<!-- Projeto Desenvolvido na Data Science Academy - www.datascienceacademy.com.br -->"
   ]
  },
  {
   "cell_type": "markdown",
   "metadata": {},
   "source": [
    "## Análise de Variância (ANOVA) "
   ]
  },
  {
   "cell_type": "markdown",
   "metadata": {},
   "source": [
    "A Análise de Variância (ANOVA) de dois fatores é um teste estatístico utilizado para examinar a influência de dois fatores (variáveis independentes) diferentes sobre uma variável dependente. Ao contrário da ANOVA de um fator, que avalia o efeito de um único fator, a ANOVA de dois fatores permite aos pesquisadores estudar simultaneamente os efeitos principais de cada um dos dois fatores, bem como a possível interação entre eles sobre a variável dependente. A interação ocorre quando o efeito de um fator sobre a variável dependente varia de acordo com os níveis do outro fator.\n",
    "\n",
    "Efeitos Principais: Refere-se ao impacto direto de cada fator na variável dependente, ignorando a presença do outro fator.\n",
    "\n",
    "Efeito de Interação: Ocorre quando o efeito de um fator sobre a variável dependente muda em diferentes níveis do outro fator.\n",
    "\n",
    "Exemplo: ANOVA de Dois Fatores\n",
    "\n",
    "Imagine que você está estudando o efeito de dois fatores diferentes - Tipo de Dieta (A, B) e Intensidade de Exercícios (baixo, médio, alto) - no peso perdido por indivíduos. Você quer saber não apenas o efeito de cada fator individualmente mas também se há alguma interação entre Tipo de Dieta e Intensidade de Exercícios sobre a quantidade de peso perdido."
   ]
  },
  {
   "cell_type": "code",
   "execution_count": 17,
   "metadata": {},
   "outputs": [],
   "source": [
    "# Criando dados de exemplo\n",
    "dados = pd.DataFrame({\n",
    "    'PesoPerdido': [1.2, 1.5, 1.7, 2.0, 2.3, 2.5, 2.8, 3.0, 2.4, 2.6, 2.9, 3.1,\n",
    "                    1.8, 2.0, 2.2, 2.5, 2.7, 2.9, 3.2, 3.5, 3.1, 3.3, 3.6, 3.8],\n",
    "    'Dieta': ['A', 'A', 'A', 'A', 'A', 'A', 'A', 'A', 'B', 'B', 'B', 'B', 'B', 'B', 'B', 'B', 'B', 'B', 'B', 'B', 'B', 'B', 'B', 'B'],\n",
    "    'Exercicio': ['Baixo', 'Baixo', 'Baixo', 'Baixo', 'Medio', 'Medio', 'Medio', 'Medio', 'Alto', 'Alto', 'Alto', 'Alto', 'Baixo', 'Baixo', 'Baixo', 'Baixo', 'Medio', 'Medio', 'Medio', 'Medio', 'Alto', 'Alto', 'Alto', 'Alto']\n",
    "})"
   ]
  },
  {
   "cell_type": "code",
   "execution_count": 18,
   "metadata": {},
   "outputs": [
    {
     "data": {
      "text/html": [
       "<div>\n",
       "<style scoped>\n",
       "    .dataframe tbody tr th:only-of-type {\n",
       "        vertical-align: middle;\n",
       "    }\n",
       "\n",
       "    .dataframe tbody tr th {\n",
       "        vertical-align: top;\n",
       "    }\n",
       "\n",
       "    .dataframe thead th {\n",
       "        text-align: right;\n",
       "    }\n",
       "</style>\n",
       "<table border=\"1\" class=\"dataframe\">\n",
       "  <thead>\n",
       "    <tr style=\"text-align: right;\">\n",
       "      <th></th>\n",
       "      <th>PesoPerdido</th>\n",
       "      <th>Dieta</th>\n",
       "      <th>Exercicio</th>\n",
       "    </tr>\n",
       "  </thead>\n",
       "  <tbody>\n",
       "    <tr>\n",
       "      <th>0</th>\n",
       "      <td>1.2</td>\n",
       "      <td>A</td>\n",
       "      <td>Baixo</td>\n",
       "    </tr>\n",
       "    <tr>\n",
       "      <th>1</th>\n",
       "      <td>1.5</td>\n",
       "      <td>A</td>\n",
       "      <td>Baixo</td>\n",
       "    </tr>\n",
       "    <tr>\n",
       "      <th>2</th>\n",
       "      <td>1.7</td>\n",
       "      <td>A</td>\n",
       "      <td>Baixo</td>\n",
       "    </tr>\n",
       "    <tr>\n",
       "      <th>3</th>\n",
       "      <td>2.0</td>\n",
       "      <td>A</td>\n",
       "      <td>Baixo</td>\n",
       "    </tr>\n",
       "    <tr>\n",
       "      <th>4</th>\n",
       "      <td>2.3</td>\n",
       "      <td>A</td>\n",
       "      <td>Medio</td>\n",
       "    </tr>\n",
       "  </tbody>\n",
       "</table>\n",
       "</div>"
      ],
      "text/plain": [
       "   PesoPerdido Dieta Exercicio\n",
       "0          1.2     A     Baixo\n",
       "1          1.5     A     Baixo\n",
       "2          1.7     A     Baixo\n",
       "3          2.0     A     Baixo\n",
       "4          2.3     A     Medio"
      ]
     },
     "execution_count": 18,
     "metadata": {},
     "output_type": "execute_result"
    }
   ],
   "source": [
    "dados.head()"
   ]
  },
  {
   "cell_type": "code",
   "execution_count": 19,
   "metadata": {},
   "outputs": [],
   "source": [
    "# Ajustando o modelo\n",
    "modelo = ols('PesoPerdido ~ C(Dieta) + C(Exercicio) + C(Dieta):C(Exercicio)', data = dados).fit()"
   ]
  },
  {
   "cell_type": "code",
   "execution_count": 20,
   "metadata": {},
   "outputs": [],
   "source": [
    "# Realizando a ANOVA\n",
    "resultado_anova = sm.stats.anova_lm(modelo, typ = 2)"
   ]
  },
  {
   "cell_type": "code",
   "execution_count": 21,
   "metadata": {},
   "outputs": [
    {
     "name": "stdout",
     "output_type": "stream",
     "text": [
      "                          sum_sq    df          F        PR(>F)\n",
      "C(Dieta)               13.387531   1.0  90.040034  1.216885e-08\n",
      "C(Exercicio)            5.747203   2.0  19.326878  2.632067e-05\n",
      "C(Dieta):C(Exercicio)   2.747241   2.0   9.238511  1.575401e-03\n",
      "Residual                2.825000  19.0        NaN           NaN\n"
     ]
    }
   ],
   "source": [
    "print(resultado_anova)"
   ]
  },
  {
   "cell_type": "markdown",
   "metadata": {},
   "source": [
    "A tabela ANOVA resume os resultados de uma análise de variância para o modelo que examina os efeitos do tipo de dieta, intensidade de exercícios e sua interação sobre o peso perdido. Aqui está a interpretação de cada componente da tabela:\n",
    "\n",
    "**sum_sq**: Soma dos quadrados representa a variabilidade total atribuída a cada fonte de variação.\n",
    "\n",
    "**df**: Graus de liberdade associados a cada fonte de variação.\n",
    "\n",
    "**F**: Estatística F, que é a razão entre a variância média devido a uma fonte de variação e a variância média residual (dentro dos grupos).\n",
    "\n",
    "**PR(>F)**: Valor-p associado ao teste F, que indica a probabilidade de observar uma estatística F tão extrema quanto, ou mais do que, a estatística calculada, assumindo que a hipótese nula é verdadeira.\n",
    "\n",
    "Interpretação dos Resultados\n",
    "\n",
    "**C(Dieta)**:\n",
    "\n",
    "Soma dos quadrados: 13.387531, indica a variabilidade no peso perdido atribuída ao tipo de dieta.\n",
    "\n",
    "Graus de liberdade: 1, refletindo as categorias de dieta menos um.\n",
    "\n",
    "Estatística F: 90.040034, sugerindo que o tipo de dieta tem um efeito significativo no peso perdido.\n",
    "\n",
    "Valor-p: Muito abaixo do nível de significância comum de 0.05, indicando que é extremamente improvável observar essa estatística F sob a hipótese nula de que a dieta não afeta o peso perdido. Isso leva à rejeição da hipótese nula, confirmando que o tipo de dieta tem um efeito significativo.\n",
    "\n",
    "**C(Exercicio)**:\n",
    "\n",
    "Soma dos quadrados: 5.747203, indicando a variabilidade no peso perdido atribuída ao regime de exercícios.\n",
    "\n",
    "Graus de liberdade: 2, correspondendo aos níveis de exercício menos um.\n",
    "\n",
    "Estatística F: 19.326878, sugerindo que o regime de exercícios tem um efeito significativo no peso perdido.\n",
    "\n",
    "Valor-p: Também muito abaixo do nível de significância de 0.05, indicando que a influência da intensidade de exercícios no peso perdido é estatisticamente significativa.\n",
    "\n",
    "**C(Dieta):C(Exercicio) (interação)**:\n",
    "\n",
    "Soma dos quadrados: 2.747241, refletindo a variabilidade no peso perdido devido à interação entre dieta e exercício.\n",
    "\n",
    "Graus de liberdade: 2, associados aos níveis de interação entre dieta e exercício.\n",
    "\n",
    "Estatística F: 9.238511, indicando que a interação entre dieta e exercício afeta significativamente o peso perdido.\n",
    "\n",
    "Valor-p: Abaixo de 0.05, sugerindo que a maneira como a dieta afeta o peso perdido varia de acordo com a intensidade de exercícios. Isso indica uma interação significativa entre os dois fatores.\n",
    "\n",
    "**Residual**:\n",
    "\n",
    "Soma dos quadrados: 2.825000, representando a variabilidade no peso perdido que não é explicada pelos modelos de dieta e exercício.\n",
    "\n",
    "Graus de liberdade: 19, relacionados ao número de observações menos o número de grupos estimados.\n",
    "\n",
    "**Conclusão**\n",
    "\n",
    "Os resultados indicam que tanto o tipo de dieta quanto a intensidade de exercícios têm efeitos significativos no peso perdido, com a dieta tendo o maior efeito. Além disso, existe uma interação significativa entre dieta e exercício, o que significa que o efeito de uma dieta sobre o peso perdido varia dependendo do nível de exercício. Isso destaca a importância de considerar ambos os fatores ao avaliar o impacto na perda de peso.\n",
    "\n",
    "Vamos agora validar as suposições do teste."
   ]
  },
  {
   "cell_type": "markdown",
   "metadata": {},
   "source": [
    "## Validando as Suposições da ANOVA de 2 Fatores\n",
    "\n",
    "As suposições para a realização desse teste são:\n",
    "\n",
    "**Independência das observações**: Os dados devem ser independentes, ou seja, a medida de uma observação não deve influenciar a medida de outra observação. Isso geralmente é garantido pelo desenho experimental.\n",
    "\n",
    "**Normalidade**: As distribuições dos resíduos (erros) para cada combinação de níveis dos fatores devem ser aproximadamente normais. Isso pode ser verificado usando gráficos de probabilidade normal ou testes de normalidade, como o teste de Shapiro-Wilk.\n",
    "\n",
    "**Homogeneidade de variâncias**: As variâncias dos resíduos para cada combinação de níveis dos fatores devem ser iguais. Isso pode ser verificado usando o teste de Levene ou o teste de Bartlett.\n",
    "\n",
    "É importante verificar essas suposições ao realizar o teste ANOVA de 2 fatores para garantir a validade dos resultados. Caso alguma das suposições não seja atendida, pode ser necessário transformar os dados ou utilizar métodos alternativos de análise."
   ]
  },
  {
   "cell_type": "code",
   "execution_count": 22,
   "metadata": {},
   "outputs": [],
   "source": [
    "# Resíduos do modelo\n",
    "residuos = modelo.resid"
   ]
  },
  {
   "cell_type": "code",
   "execution_count": 23,
   "metadata": {},
   "outputs": [
    {
     "name": "stdout",
     "output_type": "stream",
     "text": [
      "Valor-P do teste de Shapiro-Wilk: 0.984581470489502\n"
     ]
    }
   ],
   "source": [
    "# Verificando a normalidade dos resíduos\n",
    "_, p_valor_shapiro = shapiro(residuos)\n",
    "print(f'Valor-P do teste de Shapiro-Wilk: {p_valor_shapiro}')"
   ]
  },
  {
   "cell_type": "markdown",
   "metadata": {},
   "source": [
    "O teste de Shapiro-Wilk foi utilizado para verificar a normalidade dos resíduos. O resultado do valor-p é bastante alto, significando que não há evidências suficientes para rejeitar a hipótese nula de normalidade. Em outras palavras, com base nesse teste, você pode assumir que os resíduos seguem uma distribuição normal, o que é uma das suposições importantes para a validade do teste ANOVA.\n",
    "\n",
    "Em geral, um valor-p maior que 0.05 no teste de Shapiro-Wilk indica que os resíduos podem ser considerados normalmente distribuídos, enquanto um valor-p menor que 0.05 sugere que os resíduos podem não ser normalmente distribuídos, violando assim essa suposição da ANOVA. Em nosso caso, a suposição de normalidade foi atendida."
   ]
  },
  {
   "cell_type": "code",
   "execution_count": 24,
   "metadata": {},
   "outputs": [
    {
     "data": {
      "image/png": "[encoded data removed]",
      "text/plain": [
       "<Figure size 640x480 with 1 Axes>"
      ]
     },
     "metadata": {},
     "output_type": "display_data"
    }
   ],
   "source": [
    "# Gráfico de probabilidade normal (Q-Q plot) dos resíduos\n",
    "import matplotlib.pyplot as plt\n",
    "sm.qqplot(residuos, line = 's')\n",
    "plt.title('Q-Q Plot dos Resíduos')\n",
    "plt.show()"
   ]
  },
  {
   "cell_type": "code",
   "execution_count": 25,
   "metadata": {},
   "outputs": [
    {
     "name": "stdout",
     "output_type": "stream",
     "text": [
      "Valor-p do teste de Levene: 0.6563431792477592\n"
     ]
    }
   ],
   "source": [
    "# Verificando a homogeneidade das variâncias\n",
    "_, p_valor_levene = levene(dados['PesoPerdido'][dados['Dieta'] == 'A'], \n",
    "                           dados['PesoPerdido'][dados['Dieta'] == 'B'])\n",
    "print(f'Valor-p do teste de Levene: {p_valor_levene}')"
   ]
  },
  {
   "cell_type": "markdown",
   "metadata": {},
   "source": [
    "O teste de Levene foi utilizado para verificar a homogeneidade das variâncias, ou seja, se as variâncias dos resíduos são iguais entre os grupos. Em nosso caso o valor-p do teste de Levene é é maior que o nível de significância de 0.05\n",
    "\n",
    "Um valor-p maior que 0.05 geralmente indica que não há evidências suficientes para rejeitar a hipótese nula de igualdade das variâncias. Portanto, com base nesse teste, você pode assumir que as variâncias dos resíduos são homogêneas entre os grupos, o que é outra suposição atendida para a validade do teste ANOVA.\n",
    "\n",
    "As conclusões da ANOVA podem ser usadas com segurança."
   ]
  },
  {
   "cell_type": "markdown",
   "metadata": {},
   "source": [
    "Nota:\n",
    "\n",
    "A definição de H0 e H1 em um teste estatístico segue um princípio fundamental da metodologia científica e estatística. A hipótese nula geralmente representa a ideia de \"não há efeito\" ou \"não há diferença\", enquanto a hipótese alternativa sugere que \"há um efeito\" ou \"há uma diferença\". Esta escolha não é arbitrária, mas sim orientada pelo objetivo de prover uma afirmação clara que possa ser testada objetivamente."
   ]
  },
  {
   "cell_type": "code",
   "execution_count": 26,
   "metadata": {},
   "outputs": [
    {
     "name": "stdout",
     "output_type": "stream",
     "text": [
      "Author: Data Science Academy\n",
      "\n"
     ]
    }
   ],
   "source": [
    "%reload_ext watermark\n",
    "%watermark -a \"Data Science Academy\""
   ]
  },
  {
   "cell_type": "code",
   "execution_count": 27,
   "metadata": {},
   "outputs": [],
   "source": [
    "#%watermark -v -m"
   ]
  },
  {
   "cell_type": "code",
   "execution_count": 28,
   "metadata": {},
   "outputs": [],
   "source": [
    "#%watermark --iversions"
   ]
  },
  {
   "cell_type": "markdown",
   "metadata": {
    "collapsed": true
   },
   "source": [
    "# Fim"
   ]
  }
 ],
 "metadata": {
  "anaconda-cloud": {},
  "kernelspec": {
   "display_name": "Python 3 (ipykernel)",
   "language": "python",
   "name": "python3"
  },
  "language_info": {
   "codemirror_mode": {
    "name": "ipython",
    "version": 3
   },
   "file_extension": ".py",
   "mimetype": "text/x-python",
   "name": "python",
   "nbconvert_exporter": "python",
   "pygments_lexer": "ipython3",
   "version": "3.11.5"
  }
 },
 "nbformat": 4,
 "nbformat_minor": 1
}
