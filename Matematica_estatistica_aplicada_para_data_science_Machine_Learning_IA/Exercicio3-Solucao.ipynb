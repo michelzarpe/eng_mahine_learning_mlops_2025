{
 "cells": [
  {
   "cell_type": "markdown",
   "metadata": {},
   "source": [
    "<!-- Projeto Desenvolvido na Data Science Academy - www.datascienceacademy.com.br -->\n",
    "# <font color='blue'>Data Science Academy</font>\n",
    "## <font color='blue'>Matemática e Estatística Aplicada Para Data Science, Machine Learning e IA</font>\n",
    "## <font color='blue'>Lista de Exercícios 3</font>\n",
    "## <font color='blue'>Operações com Vetores</font>"
   ]
  },
  {
   "cell_type": "markdown",
   "metadata": {},
   "source": [
    "### Instalando e Carregando Pacotes"
   ]
  },
  {
   "cell_type": "code",
   "execution_count": 1,
   "metadata": {},
   "outputs": [],
   "source": [
    "# Para atualizar um pacote, execute o comando abaixo no terminal ou prompt de comando:\n",
    "# pip install -U nome_pacote\n",
    "\n",
    "# Para instalar a versão exata de um pacote, execute o comando abaixo no terminal ou prompt de comando:\n",
    "# !pip install nome_pacote==versão_desejada\n",
    "\n",
    "# Depois de instalar ou atualizar o pacote, reinicie o jupyter notebook.\n",
    "\n",
    "# Instala o pacote watermark. \n",
    "# Esse pacote é usado para gravar as versões de outros pacotes usados neste jupyter notebook.\n",
    "!pip install -q -U watermark"
   ]
  },
  {
   "cell_type": "code",
   "execution_count": 2,
   "metadata": {},
   "outputs": [],
   "source": [
    "# Imports\n",
    "import numpy as np"
   ]
  },
  {
   "cell_type": "code",
   "execution_count": 3,
   "metadata": {},
   "outputs": [
    {
     "name": "stdout",
     "output_type": "stream",
     "text": [
      "Author: Data Science Academy\n",
      "\n"
     ]
    }
   ],
   "source": [
    "# Versões dos pacotes usados neste jupyter notebook\n",
    "%reload_ext watermark\n",
    "%watermark -a \"Data Science Academy\" "
   ]
  },
  {
   "cell_type": "markdown",
   "metadata": {},
   "source": [
    "**Resolva os exercícios abaixo usando Linguagem Python. Faça pesquisa complementar se necessário.**"
   ]
  },
  {
   "cell_type": "markdown",
   "metadata": {},
   "source": [
    "### Exercício 1: Soma de Vetores\n",
    "\n",
    "Descrição: Escreva uma função em Python que some dois vetores. Suponha que os vetores têm o mesmo tamanho. Resolva o exercício de forma diferente do que foi mostrado nas aulas."
   ]
  },
  {
   "cell_type": "code",
   "execution_count": 4,
   "metadata": {},
   "outputs": [
    {
     "data": {
      "text/plain": [
       "[5, 7, 9]"
      ]
     },
     "execution_count": 4,
     "metadata": {},
     "output_type": "execute_result"
    }
   ],
   "source": [
    "# Solução 1\n",
    "def somar_vetores(vetor1, vetor2):\n",
    "    \n",
    "    # Doc string\n",
    "    \"\"\"\n",
    "    Soma dois vetores de mesmo tamanho e retorna o vetor resultante.\n",
    "    \n",
    "    Argumentos:\n",
    "    vetor1 (list): Primeiro vetor.\n",
    "    vetor2 (list): Segundo vetor.\n",
    "\n",
    "    Retorna:\n",
    "    list: Vetor resultante da soma.\n",
    "    \"\"\"\n",
    "    \n",
    "    return [x + y for x, y in zip(vetor1, vetor2)]\n",
    "\n",
    "# Exemplo de uso da função\n",
    "vetor_a = [1, 2, 3]\n",
    "vetor_b = [4, 5, 6]\n",
    "vetor_soma = somar_vetores(vetor_a, vetor_b)\n",
    "vetor_soma"
   ]
  },
  {
   "cell_type": "code",
   "execution_count": 5,
   "metadata": {},
   "outputs": [
    {
     "data": {
      "text/plain": [
       "[5, 7, 9]"
      ]
     },
     "execution_count": 5,
     "metadata": {},
     "output_type": "execute_result"
    }
   ],
   "source": [
    "# Solução 2\n",
    "def adicionar_vetores(primeiro_vetor, segundo_vetor):\n",
    "    \"\"\"\n",
    "    Esta função realiza a adição de dois vetores, elemento por elemento,\n",
    "    e retorna o vetor somado.\n",
    "\n",
    "    Argumentos:\n",
    "    primeiro_vetor (list): O primeiro vetor a ser somado.\n",
    "    segundo_vetor (list): O segundo vetor a ser somado.\n",
    "\n",
    "    Retorna:\n",
    "    list: O vetor resultante da adição dos dois vetores.\n",
    "    \"\"\"\n",
    "    \n",
    "    resultado_vetor = []\n",
    "    \n",
    "    # Loop\n",
    "    for i in range(len(primeiro_vetor)):\n",
    "        resultado_vetor.append(primeiro_vetor[i] + segundo_vetor[i])\n",
    "    \n",
    "    return resultado_vetor\n",
    "\n",
    "# Exemplo de uso da função\n",
    "vetor_a = [1, 2, 3]\n",
    "vetor_b = [4, 5, 6]\n",
    "vetor_soma = adicionar_vetores(vetor_a, vetor_b)\n",
    "vetor_soma"
   ]
  },
  {
   "cell_type": "markdown",
   "metadata": {},
   "source": [
    "### Exercício 2: Produto Escalar\n",
    "\n",
    "Descrição: Implemente uma função que calcule o produto escalar entre dois vetores. Resolva o exercício de forma diferente do que foi mostrado nas aulas."
   ]
  },
  {
   "cell_type": "code",
   "execution_count": 6,
   "metadata": {},
   "outputs": [
    {
     "data": {
      "text/plain": [
       "3"
      ]
     },
     "execution_count": 6,
     "metadata": {},
     "output_type": "execute_result"
    }
   ],
   "source": [
    "# Solução 1\n",
    "def produto_escalar(vetor1, vetor2):\n",
    "    \"\"\"\n",
    "    Calcula o produto escalar entre dois vetores.\n",
    "\n",
    "    Argumentos:\n",
    "    vetor1 (list): Primeiro vetor.\n",
    "    vetor2 (list): Segundo vetor.\n",
    "\n",
    "    Retorna:\n",
    "    int: Resultado do produto escalar entre os dois vetores.\n",
    "    \"\"\"\n",
    "    \n",
    "    return sum(x * y for x, y in zip(vetor1, vetor2))\n",
    "\n",
    "# Exemplo de uso da função\n",
    "vetor_a = [1, 3, -5]\n",
    "vetor_b = [4, -2, -1]\n",
    "resultado = produto_escalar(vetor_a, vetor_b)\n",
    "resultado"
   ]
  },
  {
   "cell_type": "code",
   "execution_count": 7,
   "metadata": {},
   "outputs": [
    {
     "data": {
      "text/plain": [
       "3"
      ]
     },
     "execution_count": 7,
     "metadata": {},
     "output_type": "execute_result"
    }
   ],
   "source": [
    "# Solução 2\n",
    "def calcular_produto_escalar(v1, v2):\n",
    "    \"\"\"\n",
    "    Realiza o cálculo do produto escalar entre dois vetores.\n",
    "\n",
    "    Argumentos:\n",
    "    v1 (list): O primeiro vetor para o cálculo do produto escalar.\n",
    "    v2 (list): O segundo vetor para o cálculo do produto escalar.\n",
    "\n",
    "    Retorna:\n",
    "    int: O resultado do produto escalar dos vetores fornecidos.\n",
    "    \"\"\"\n",
    "    \n",
    "    resultado = 0\n",
    "    \n",
    "    for i in range(len(v1)):\n",
    "        resultado += v1[i] * v2[i]\n",
    "        \n",
    "    return resultado\n",
    "\n",
    "# Exemplo de uso da função\n",
    "vetor_a = [1, 3, -5]\n",
    "vetor_b = [4, -2, -1]\n",
    "resultado = calcular_produto_escalar(vetor_a, vetor_b)\n",
    "resultado"
   ]
  },
  {
   "cell_type": "markdown",
   "metadata": {},
   "source": [
    "### Exercício 3: Norma de um Vetor\n",
    "\n",
    "Descrição: Escreva uma função que calcule a norma (ou comprimento) de um vetor.\n",
    "\n",
    "A norma de um vetor, frequentemente referida como o comprimento ou magnitude de um vetor, é uma medida da \"extensão\" ou \"tamanho\" desse vetor. Em matemática e física, a norma de um vetor é um conceito fundamental, usado para quantificar a distância de um ponto no espaço em relação à origem ou a distância entre dois pontos. Existem diferentes tipos de normas, mas a mais comum é a norma euclidiana, que é a que geralmente se refere quando falamos em \"comprimento\" de um vetor."
   ]
  },
  {
   "cell_type": "code",
   "execution_count": 8,
   "metadata": {},
   "outputs": [
    {
     "data": {
      "text/plain": [
       "5.0"
      ]
     },
     "execution_count": 8,
     "metadata": {},
     "output_type": "execute_result"
    }
   ],
   "source": [
    "# Solução\n",
    "import math\n",
    "\n",
    "def calcular_norma(vetor):\n",
    "    \"\"\"\n",
    "    Calcula a norma (ou comprimento) de um vetor.\n",
    "\n",
    "    Argumentos:\n",
    "    vetor (list): Vetor cuja norma será calculada.\n",
    "\n",
    "    Retorna:\n",
    "    float: Norma do vetor.\n",
    "    \"\"\"\n",
    "    \n",
    "    return math.sqrt(sum(x**2 for x in vetor))\n",
    "\n",
    "# Exemplo de uso da função\n",
    "vetor = [3, 4]\n",
    "norma_vetor = calcular_norma(vetor)\n",
    "norma_vetor"
   ]
  },
  {
   "cell_type": "markdown",
   "metadata": {},
   "source": [
    "### Exercício 4: Ângulo entre Dois Vetores\n",
    "\n",
    "Descrição: Implemente uma função que calcule o ângulo (em graus) entre dois vetores."
   ]
  },
  {
   "cell_type": "code",
   "execution_count": 9,
   "metadata": {},
   "outputs": [
    {
     "data": {
      "text/plain": [
       "90.0"
      ]
     },
     "execution_count": 9,
     "metadata": {},
     "output_type": "execute_result"
    }
   ],
   "source": [
    "# Solução\n",
    "import math\n",
    "\n",
    "def calcular_angulo(vetor1, vetor2):\n",
    "    \"\"\"\n",
    "    Calcula o ângulo (em graus) entre dois vetores.\n",
    "\n",
    "    Argumentos:\n",
    "    vetor1 (list): Primeiro vetor.\n",
    "    vetor2 (list): Segundo vetor.\n",
    "\n",
    "    Retorna:\n",
    "    float: Ângulo entre os dois vetores em graus.\n",
    "    \"\"\"\n",
    "    \n",
    "    # Calcula o produto escalar dos vetores\n",
    "    produto_escalar = sum(x * y for x, y in zip(vetor1, vetor2))\n",
    "\n",
    "    # Calcula as normas dos vetores\n",
    "    norma_vetor1 = math.sqrt(sum(x**2 for x in vetor1))\n",
    "    norma_vetor2 = math.sqrt(sum(x**2 for x in vetor2))\n",
    "\n",
    "    # Calcula o cosseno do ângulo entre os vetores\n",
    "    cos_angulo = produto_escalar / (norma_vetor1 * norma_vetor2)\n",
    "\n",
    "    # Converte o cosseno do ângulo para graus\n",
    "    angulo = math.acos(cos_angulo) * (180 / math.pi)\n",
    "\n",
    "    return angulo\n",
    "\n",
    "# Exemplo de uso da função\n",
    "vetor_a = [1, 0]\n",
    "vetor_b = [0, 1]\n",
    "angulo = calcular_angulo(vetor_a, vetor_b)\n",
    "angulo"
   ]
  },
  {
   "cell_type": "markdown",
   "metadata": {},
   "source": [
    "### Exercício 5: Projeção de um Vetor sobre Outro\n",
    "\n",
    "Descrição: Escreva uma função que encontre a projeção de um vetor sobre outro vetor.\n",
    "\n",
    "Descrição Geométrica\n",
    "Imagine que b é fixo e a é projetado sobre b como se uma luz estivesse brilhando perpendicularmente a b. A sombra de a sobre b é a projeção de a sobre b.\n",
    "\n",
    "Geometricamente, a projeção de a sobre b é o ponto mais próximo de a na linha definida por b.\n",
    "\n",
    "A projeção de vetores é usada em várias áreas, como em análise de componentes principais (PCA) em estatística, em processamento de sinal e imagem, em física para decompor vetores em componentes independentes, e em muitos outros campos da ciência e engenharia."
   ]
  },
  {
   "cell_type": "code",
   "execution_count": 10,
   "metadata": {},
   "outputs": [
    {
     "data": {
      "text/plain": [
       "[3.0, 0.0]"
      ]
     },
     "execution_count": 10,
     "metadata": {},
     "output_type": "execute_result"
    }
   ],
   "source": [
    "# Solução\n",
    "def projetar_vetor(vetor_a, vetor_b):\n",
    "    \"\"\"\n",
    "    Calcula a projeção do vetor_a sobre o vetor_b.\n",
    "\n",
    "    Args:\n",
    "    vetor_a (list): Vetor a ser projetado.\n",
    "    vetor_b (list): Vetor sobre o qual o vetor_a será projetado.\n",
    "\n",
    "    Returns:\n",
    "    list: Projeção do vetor_a sobre o vetor_b.\n",
    "    \"\"\"\n",
    "    \n",
    "    # Calcula o produto escalar de vetor_a e vetor_b\n",
    "    produto_escalar = sum(a * b for a, b in zip(vetor_a, vetor_b))\n",
    "\n",
    "    # Calcula a norma ao quadrado de vetor_b\n",
    "    norma_quadrado_vetor_b = sum(b ** 2 for b in vetor_b)\n",
    "\n",
    "    # Calcula o fator de escala para a projeção\n",
    "    escala = produto_escalar / norma_quadrado_vetor_b\n",
    "\n",
    "    # Calcula a projeção de vetor_a sobre vetor_b\n",
    "    projecao = [escala * b for b in vetor_b]\n",
    "\n",
    "    return projecao\n",
    "\n",
    "# Exemplo de uso da função\n",
    "vetor_a = [3, 4]\n",
    "vetor_b = [1, 0]\n",
    "projecao_vetor_a_sobre_b = projetar_vetor(vetor_a, vetor_b)\n",
    "projecao_vetor_a_sobre_b"
   ]
  },
  {
   "cell_type": "code",
   "execution_count": 11,
   "metadata": {},
   "outputs": [
    {
     "name": "stdout",
     "output_type": "stream",
     "text": [
      "Author: Data Science Academy\n",
      "\n"
     ]
    }
   ],
   "source": [
    "%reload_ext watermark\n",
    "%watermark -a \"Data Science Academy\""
   ]
  },
  {
   "cell_type": "code",
   "execution_count": 12,
   "metadata": {},
   "outputs": [],
   "source": [
    "#%watermark -v -m"
   ]
  },
  {
   "cell_type": "code",
   "execution_count": 13,
   "metadata": {},
   "outputs": [],
   "source": [
    "#%watermark --iversions"
   ]
  },
  {
   "cell_type": "markdown",
   "metadata": {},
   "source": [
    "# Fim"
   ]
  }
 ],
 "metadata": {
  "kernelspec": {
   "display_name": "Python 3 (ipykernel)",
   "language": "python",
   "name": "python3"
  },
  "language_info": {
   "codemirror_mode": {
    "name": "ipython",
    "version": 3
   },
   "file_extension": ".py",
   "mimetype": "text/x-python",
   "name": "python",
   "nbconvert_exporter": "python",
   "pygments_lexer": "ipython3",
   "version": "3.11.5"
  }
 },
 "nbformat": 4,
 "nbformat_minor": 2
}
