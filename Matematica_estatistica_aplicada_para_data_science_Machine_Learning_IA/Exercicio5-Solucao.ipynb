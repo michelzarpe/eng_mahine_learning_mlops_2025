{
 "cells": [
  {
   "cell_type": "markdown",
   "metadata": {},
   "source": [
    "<!-- Projeto Desenvolvido na Data Science Academy - www.datascienceacademy.com.br -->\n",
    "# <font color='blue'>Data Science Academy</font>\n",
    "## <font color='blue'>Matemática e Estatística Aplicada Para Data Science, Machine Learning e IA</font>\n",
    "## <font color='blue'>Lista de Exercícios 5</font>\n",
    "## <font color='blue'>Calculando a Similaridade Entre Vetores de Dados</font>"
   ]
  },
  {
   "cell_type": "markdown",
   "metadata": {},
   "source": [
    "### Instalando e Carregando Pacotes"
   ]
  },
  {
   "cell_type": "code",
   "execution_count": 1,
   "metadata": {},
   "outputs": [],
   "source": [
    "# Para atualizar um pacote, execute o comando abaixo no terminal ou prompt de comando:\n",
    "# pip install -U nome_pacote\n",
    "\n",
    "# Para instalar a versão exata de um pacote, execute o comando abaixo no terminal ou prompt de comando:\n",
    "# !pip install nome_pacote==versão_desejada\n",
    "\n",
    "# Depois de instalar ou atualizar o pacote, reinicie o jupyter notebook.\n",
    "\n",
    "# Instala o pacote watermark. \n",
    "# Esse pacote é usado para gravar as versões de outros pacotes usados neste jupyter notebook.\n",
    "!pip install -q -U watermark"
   ]
  },
  {
   "cell_type": "code",
   "execution_count": 2,
   "metadata": {},
   "outputs": [
    {
     "name": "stdout",
     "output_type": "stream",
     "text": [
      "Author: Data Science Academy\n",
      "\n"
     ]
    }
   ],
   "source": [
    "# Versões dos pacotes usados neste jupyter notebook\n",
    "%reload_ext watermark\n",
    "%watermark -a \"Data Science Academy\" "
   ]
  },
  {
   "cell_type": "markdown",
   "metadata": {},
   "source": [
    "**Resolva os exercícios abaixo usando Linguagem Python. Faça pesquisa complementar se necessário.**"
   ]
  },
  {
   "cell_type": "markdown",
   "metadata": {},
   "source": [
    "### Exercício 1: Cálculo de Distância Euclidiana\n",
    "\n",
    "Descrição: Escreva uma função em Python que receba dois vetores (listas de números) de mesma dimensão e retorne a distância euclidiana entre eles."
   ]
  },
  {
   "cell_type": "code",
   "execution_count": 3,
   "metadata": {},
   "outputs": [],
   "source": [
    "# Função\n",
    "def distancia_euclidiana(vetor1, vetor2):\n",
    "    \n",
    "    \"\"\"\n",
    "    Calcula a distância euclidiana entre dois vetores.\n",
    "\n",
    "    :param vetor1: Lista de números representando o primeiro vetor.\n",
    "    :param vetor2: Lista de números representando o segundo vetor.\n",
    "    :return: A distância euclidiana entre os dois vetores.\n",
    "    \"\"\"\n",
    "\n",
    "    # Calcula a soma das diferenças quadradas entre os elementos correspondentes dos vetores\n",
    "    soma_diferencas_quadradas = sum((a - b) ** 2 for a, b in zip(vetor1, vetor2))\n",
    "\n",
    "    # Retorna a raiz quadrada da soma\n",
    "    return soma_diferencas_quadradas ** 0.5"
   ]
  },
  {
   "cell_type": "code",
   "execution_count": 4,
   "metadata": {},
   "outputs": [],
   "source": [
    "# Vetores de exemplo\n",
    "vetor_a = [1, 2, 3]\n",
    "vetor_b = [4, 5, 6]"
   ]
  },
  {
   "cell_type": "code",
   "execution_count": 5,
   "metadata": {},
   "outputs": [
    {
     "name": "stdout",
     "output_type": "stream",
     "text": [
      "5.196152422706632\n"
     ]
    }
   ],
   "source": [
    "# Executa a função\n",
    "distancia = distancia_euclidiana(vetor_a, vetor_b)\n",
    "print(distancia)"
   ]
  },
  {
   "cell_type": "markdown",
   "metadata": {},
   "source": [
    "O valor 5.196 representa a distância euclidiana entre os dois vetores fornecidos. A distância euclidiana, também conhecida como norma L2 ou norma euclidiana, é uma medida de distância no espaço euclidiano, que é o espaço geométrico mais comum.\n",
    "\n",
    "Para interpretar esse valor:\n",
    "\n",
    "**Contexto Geométrico**: Imagine que cada vetor representa um ponto em um espaço tridimensional (pois cada vetor tem três componentes). O valor 5.196 é a distância \"em linha reta\" entre esses dois pontos. Se você pudesse traçar uma linha entre os pontos representados pelos vetores [1, 2, 3] e [4, 5, 6], essa linha teria um comprimento de aproximadamente 5.196 unidades.\n",
    "\n",
    "**Similaridade**: Em algumas aplicações, como aprendizado de máquina e estatística, a distância euclidiana pode ser usada para avaliar a similaridade entre dois conjuntos de dados. Menores distâncias indicam maior similaridade, enquanto maiores distâncias indicam menor similaridade.\n",
    "\n",
    "**Interpretação Numérica**: O número 5.196, em si, é uma medida absoluta e sua interpretação pode depender do contexto. Por exemplo, se os vetores representam coordenadas em metros, então a distância entre os pontos é de 5.196 metros. Se não houver uma unidade específica ou um contexto, este valor é apenas uma medida de \"quão longe\" os pontos estão um do outro em termos matemáticos."
   ]
  },
  {
   "cell_type": "markdown",
   "metadata": {},
   "source": [
    "### Exercício 2: Distância Euclidiana com Validação de Dados\n",
    "\n",
    "Descrição: Modifique a função do Exercício 1 para validar se os dois vetores têm o mesmo tamanho. Se não tiverem, a função deve retornar um erro."
   ]
  },
  {
   "cell_type": "code",
   "execution_count": 6,
   "metadata": {},
   "outputs": [],
   "source": [
    "# Função\n",
    "def distancia_euclidiana_com_validacao(vetor1, vetor2):\n",
    "    \n",
    "    \"\"\"\n",
    "    Calcula a distância euclidiana entre dois vetores com validação de tamanho.\n",
    "\n",
    "    :param vetor1: Lista de números representando o primeiro vetor.\n",
    "    :param vetor2: Lista de números representando o segundo vetor.\n",
    "    :return: A distância euclidiana entre os dois vetores.\n",
    "    :raises: ValueError se os vetores têm tamanhos diferentes.\n",
    "    \"\"\"\n",
    "    \n",
    "    # Verifica se os vetores têm o mesmo tamanho\n",
    "    if len(vetor1) != len(vetor2):\n",
    "        raise ValueError(\"Os vetores devem ter a mesma dimensão para calcular a distância.\")\n",
    "\n",
    "    # Calcula a soma das diferenças quadradas entre os elementos correspondentes dos vetores\n",
    "    soma_diferencas_quadradas = sum((a - b) ** 2 for a, b in zip(vetor1, vetor2))\n",
    "\n",
    "    # Retorna a raiz quadrada da soma\n",
    "    return soma_diferencas_quadradas ** 0.5"
   ]
  },
  {
   "cell_type": "code",
   "execution_count": 7,
   "metadata": {},
   "outputs": [
    {
     "name": "stdout",
     "output_type": "stream",
     "text": [
      "A distância é: 5.196152422706632\n"
     ]
    }
   ],
   "source": [
    "# Exemplo de uso da função com vetores de tamanhos iguais\n",
    "\n",
    "vetor_a = [1, 2, 3]\n",
    "vetor_b = [4, 5, 6]\n",
    "\n",
    "try:\n",
    "    distancia = distancia_euclidiana_com_validacao(vetor_a, vetor_b)\n",
    "    print(f\"A distância é: {distancia}\")\n",
    "except ValueError as e:\n",
    "    print(f\"Erro: {e}\")"
   ]
  },
  {
   "cell_type": "code",
   "execution_count": 8,
   "metadata": {},
   "outputs": [
    {
     "name": "stdout",
     "output_type": "stream",
     "text": [
      "Erro: Os vetores devem ter a mesma dimensão para calcular a distância.\n"
     ]
    }
   ],
   "source": [
    "# Exemplo com vetores de tamanhos diferentes\n",
    "\n",
    "vetor_c = [1, 2]\n",
    "vetor_d = [3, 4, 5]\n",
    "\n",
    "try:\n",
    "    distancia = distancia_euclidiana_com_validacao(vetor_c, vetor_d)\n",
    "    print(f\"A distância é: {distancia}\")\n",
    "except ValueError as e:\n",
    "    print(f\"Erro: {e}\")"
   ]
  },
  {
   "cell_type": "markdown",
   "metadata": {},
   "source": [
    "### Exercício 3: Distância Euclidiana em N-Dimensões\n",
    "\n",
    "Descrição: Generalize a função do Exercício 1 para que ela possa calcular a distância euclidiana entre dois vetores em um espaço de qualquer número de dimensões."
   ]
  },
  {
   "cell_type": "code",
   "execution_count": 9,
   "metadata": {},
   "outputs": [],
   "source": [
    "# Função\n",
    "def distancia_euclidiana_nd(vetor1, vetor2):\n",
    "    \n",
    "    \"\"\"\n",
    "    Calcula a distância euclidiana entre dois vetores em um espaço de qualquer número de dimensões.\n",
    "\n",
    "    :param vetor1: Lista de números representando o primeiro vetor.\n",
    "    :param vetor2: Lista de números representando o segundo vetor.\n",
    "    :return: A distância euclidiana entre os dois vetores.\n",
    "    :raises: ValueError se os vetores têm tamanhos diferentes.\n",
    "    \"\"\"\n",
    "    \n",
    "    # Verifica se os vetores têm o mesmo tamanho\n",
    "    if len(vetor1) != len(vetor2):\n",
    "        raise ValueError(\"Os vetores devem ter a mesma dimensão para calcular a distância.\")\n",
    "\n",
    "    # Calcula a soma das diferenças quadradas entre os elementos correspondentes dos vetores\n",
    "    soma_diferencas_quadradas = sum((a - b) ** 2 for a, b in zip(vetor1, vetor2))\n",
    "\n",
    "    # Retorna a raiz quadrada da soma\n",
    "    return soma_diferencas_quadradas ** 0.5"
   ]
  },
  {
   "cell_type": "code",
   "execution_count": 10,
   "metadata": {},
   "outputs": [
    {
     "name": "stdout",
     "output_type": "stream",
     "text": [
      "8.0\n"
     ]
    }
   ],
   "source": [
    "# Usando a função\n",
    "\n",
    "vetor_a = [1, 2, 3, 4]\n",
    "vetor_b = [5, 6, 7, 8]\n",
    "\n",
    "distancia = distancia_euclidiana_nd(vetor_a, vetor_b)\n",
    "print(distancia)"
   ]
  },
  {
   "cell_type": "code",
   "execution_count": 11,
   "metadata": {},
   "outputs": [
    {
     "name": "stdout",
     "output_type": "stream",
     "text": [
      "200.18922207251816\n"
     ]
    }
   ],
   "source": [
    "# Usando a função\n",
    "\n",
    "vetor_a = [0.1, 200, 3/2, 4.9, 10]\n",
    "vetor_b = [1.2, 1/8, 0.78, 0.003, 20]\n",
    "\n",
    "distancia = distancia_euclidiana_nd(vetor_a, vetor_b)\n",
    "print(distancia)"
   ]
  },
  {
   "cell_type": "code",
   "execution_count": 12,
   "metadata": {},
   "outputs": [
    {
     "name": "stdout",
     "output_type": "stream",
     "text": [
      "Erro: Os vetores devem ter a mesma dimensão para calcular a distância.\n"
     ]
    }
   ],
   "source": [
    "# Exemplo com vetores de tamanhos diferentes\n",
    "\n",
    "vetor_a = [0.1, 200, 3/2, 4.9]\n",
    "vetor_b = [1.2, 1/8, 0.78, 0.003, 20]\n",
    "\n",
    "try:\n",
    "    distancia = distancia_euclidiana_nd(vetor_a, vetor_b)\n",
    "    print(f\"A distância é: {distancia}\")\n",
    "except ValueError as e:\n",
    "    print(f\"Erro: {e}\")"
   ]
  },
  {
   "cell_type": "markdown",
   "metadata": {},
   "source": [
    "### Exercício 4: Comparando Distâncias\n",
    "\n",
    "Descrição: Escreva um script que receba três vetores de mesma dimensão. Calcule a distância euclidiana entre o primeiro e os outros dois vetores. Imprima qual dos dois vetores está mais próximo do primeiro, baseado na distância euclidiana."
   ]
  },
  {
   "cell_type": "code",
   "execution_count": 13,
   "metadata": {},
   "outputs": [],
   "source": [
    "# Função\n",
    "def distancia_euclidiana(vetor1, vetor2):\n",
    "    \n",
    "    \"\"\"\n",
    "    Calcula a distância euclidiana entre dois vetores.\n",
    "\n",
    "    :param vetor1: Lista de números representando o primeiro vetor.\n",
    "    :param vetor2: Lista de números representando o segundo vetor.\n",
    "    :return: A distância euclidiana entre os dois vetores.\n",
    "    \"\"\"\n",
    "    \n",
    "    return sum((a - b) ** 2 for a, b in zip(vetor1, vetor2)) ** 0.5"
   ]
  },
  {
   "cell_type": "code",
   "execution_count": 14,
   "metadata": {},
   "outputs": [],
   "source": [
    "# Função\n",
    "def comparar_distancias(vetor1, vetor2, vetor3):\n",
    "    \n",
    "    \"\"\"\n",
    "    Compara as distâncias euclidianas entre o primeiro vetor e outros dois vetores.\n",
    "\n",
    "    :param vetor1: Lista de números representando o primeiro vetor.\n",
    "    :param vetor2: Lista de números representando o segundo vetor.\n",
    "    :param vetor3: Lista de números representando o terceiro vetor.\n",
    "    :return: Imprime qual dos dois vetores (vetor2 ou vetor3) está mais próximo do vetor1.\n",
    "    \"\"\"\n",
    "    \n",
    "    # Calcula as distâncias\n",
    "    distancia1 = distancia_euclidiana(vetor1, vetor2)\n",
    "    distancia2 = distancia_euclidiana(vetor1, vetor3)\n",
    "\n",
    "    # Compara as distâncias e imprime o resultado\n",
    "    # Menores distâncias indicam maior similaridade, enquanto maiores distâncias indicam menor similaridade\n",
    "    if distancia1 < distancia2:\n",
    "        return \"O segundo vetor está mais próximo do primeiro.\"\n",
    "    elif distancia2 < distancia1:\n",
    "        return \"O terceiro vetor está mais próximo do primeiro.\"\n",
    "    else:\n",
    "        return \"Os dois vetores estão à mesma distância do primeiro.\""
   ]
  },
  {
   "cell_type": "code",
   "execution_count": 15,
   "metadata": {},
   "outputs": [],
   "source": [
    "# Vetores de exemplo\n",
    "vetor_a = [1, 2, 3]\n",
    "vetor_b = [5.0, 0.7, 1/6]\n",
    "vetor_c = [1.4, 0.33, 2.2]"
   ]
  },
  {
   "cell_type": "code",
   "execution_count": 16,
   "metadata": {},
   "outputs": [
    {
     "name": "stdout",
     "output_type": "stream",
     "text": [
      "O terceiro vetor está mais próximo do primeiro.\n"
     ]
    }
   ],
   "source": [
    "# Aplica a função\n",
    "resultado = comparar_distancias(vetor_a, vetor_b, vetor_c)\n",
    "print(resultado)"
   ]
  },
  {
   "cell_type": "markdown",
   "metadata": {},
   "source": [
    "### Exercício 5: Aplicação em Data Science\n",
    "\n",
    "Descrição: Dada uma matriz de dados (lista de listas, onde cada sublista é um vetor de características) e um vetor de referência, escreva uma função que calcule a distância euclidiana de cada vetor na matriz até o vetor de referência. A função deve retornar uma lista de distâncias."
   ]
  },
  {
   "cell_type": "code",
   "execution_count": 17,
   "metadata": {},
   "outputs": [],
   "source": [
    "# Função\n",
    "def calcular_distancias(matriz, vetor_referencia):\n",
    "    \n",
    "    \"\"\"\n",
    "    Calcula a distância euclidiana de cada vetor em uma matriz até um vetor de referência.\n",
    "\n",
    "    :param matriz: Lista de listas, onde cada sublista é um vetor de características.\n",
    "    :param vetor_referencia: Lista de números representando o vetor de referência.\n",
    "    :return: Lista de distâncias euclidianas de cada vetor na matriz até o vetor de referência.\n",
    "    \"\"\"\n",
    "    \n",
    "    distancias = []\n",
    "    \n",
    "    for vetor in matriz:\n",
    "        distancia = distancia_euclidiana(vetor, vetor_referencia)\n",
    "        distancias.append(distancia)\n",
    "        \n",
    "    return distancias"
   ]
  },
  {
   "cell_type": "code",
   "execution_count": 18,
   "metadata": {},
   "outputs": [],
   "source": [
    "# Matriz de exemplo\n",
    "matriz_dados = [\n",
    "    [1, 2, 3],\n",
    "    [4, 5, 6],\n",
    "    [7, 8, 9]\n",
    "]"
   ]
  },
  {
   "cell_type": "code",
   "execution_count": 19,
   "metadata": {},
   "outputs": [],
   "source": [
    "# Vetor de referência\n",
    "vetor_ref = [1.2, 3.4, 0.998]"
   ]
  },
  {
   "cell_type": "code",
   "execution_count": 20,
   "metadata": {},
   "outputs": [
    {
     "name": "stdout",
     "output_type": "stream",
     "text": [
      "[2.4511230079292226, 5.9514707425980005, 10.901009311068403]\n"
     ]
    }
   ],
   "source": [
    "# Executa a função\n",
    "distancias = calcular_distancias(matriz_dados, vetor_ref)\n",
    "print(distancias)"
   ]
  },
  {
   "cell_type": "code",
   "execution_count": 21,
   "metadata": {},
   "outputs": [
    {
     "name": "stdout",
     "output_type": "stream",
     "text": [
      "Author: Data Science Academy\n",
      "\n"
     ]
    }
   ],
   "source": [
    "%reload_ext watermark\n",
    "%watermark -a \"Data Science Academy\""
   ]
  },
  {
   "cell_type": "code",
   "execution_count": 22,
   "metadata": {},
   "outputs": [],
   "source": [
    "#%watermark -v -m"
   ]
  },
  {
   "cell_type": "code",
   "execution_count": 23,
   "metadata": {},
   "outputs": [],
   "source": [
    "#%watermark --iversions"
   ]
  },
  {
   "cell_type": "markdown",
   "metadata": {},
   "source": [
    "# Fim"
   ]
  }
 ],
 "metadata": {
  "kernelspec": {
   "display_name": "Python 3 (ipykernel)",
   "language": "python",
   "name": "python3"
  },
  "language_info": {
   "codemirror_mode": {
    "name": "ipython",
    "version": 3
   },
   "file_extension": ".py",
   "mimetype": "text/x-python",
   "name": "python",
   "nbconvert_exporter": "python",
   "pygments_lexer": "ipython3",
   "version": "3.11.5"
  }
 },
 "nbformat": 4,
 "nbformat_minor": 2
}
