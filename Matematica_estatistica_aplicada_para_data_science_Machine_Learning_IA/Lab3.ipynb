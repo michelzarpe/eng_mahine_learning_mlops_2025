{
 "cells": [
  {
   "cell_type": "markdown",
   "metadata": {},
   "source": [
    "<!-- Projeto Desenvolvido na Data Science Academy - www.datascienceacademy.com.br -->\n",
    "# <font color='blue'>Data Science Academy</font>\n",
    "## <font color='blue'>Matemática e Estatística Aplicada Para Data Science, Machine Learning e IA</font>\n",
    "## <font color='blue'>Lab 3</font>\n",
    "## <font color='blue'>Regras Básicas da Álgebra, Operações com Vetores e Algoritmo de Machine Learning</font>"
   ]
  },
  {
   "cell_type": "markdown",
   "metadata": {},
   "source": [
    "### Instalando e Carregando Pacotes"
   ]
  },
  {
   "cell_type": "code",
   "execution_count": 1,
   "metadata": {},
   "outputs": [],
   "source": [
    "# Para atualizar um pacote, execute o comando abaixo no terminal ou prompt de comando:\n",
    "# pip install -U nome_pacote\n",
    "\n",
    "# Para instalar a versão exata de um pacote, execute o comando abaixo no terminal ou prompt de comando:\n",
    "# !pip install nome_pacote==versão_desejada\n",
    "\n",
    "# Depois de instalar ou atualizar o pacote, reinicie o jupyter notebook.\n",
    "\n",
    "# Instala o pacote watermark. \n",
    "# Esse pacote é usado para gravar as versões de outros pacotes usados neste jupyter notebook.\n",
    "!pip install -q -U watermark"
   ]
  },
  {
   "cell_type": "code",
   "execution_count": 2,
   "metadata": {},
   "outputs": [],
   "source": [
    "# Imports\n",
    "import math\n",
    "import numpy as np"
   ]
  },
  {
   "cell_type": "code",
   "execution_count": 3,
   "metadata": {},
   "outputs": [
    {
     "name": "stdout",
     "output_type": "stream",
     "text": [
      "Author: Data Science Academy\n",
      "\n"
     ]
    }
   ],
   "source": [
    "# Versões dos pacotes usados neste jupyter notebook\n",
    "%reload_ext watermark\n",
    "%watermark -a \"Data Science Academy\" "
   ]
  },
  {
   "cell_type": "markdown",
   "metadata": {},
   "source": [
    "## Regras Básicas da Álgebra"
   ]
  },
  {
   "cell_type": "markdown",
   "metadata": {},
   "source": [
    "> Propriedades da Igualdade"
   ]
  },
  {
   "cell_type": "code",
   "execution_count": 4,
   "metadata": {},
   "outputs": [
    {
     "name": "stdout",
     "output_type": "stream",
     "text": [
      "True\n"
     ]
    }
   ],
   "source": [
    "# Reflexiva\n",
    "# Qualquer número ou expressão é igual a si mesmo\n",
    "a = 5\n",
    "print(a == a)  # True"
   ]
  },
  {
   "cell_type": "code",
   "execution_count": 5,
   "metadata": {},
   "outputs": [
    {
     "name": "stdout",
     "output_type": "stream",
     "text": [
      "True\n",
      "True\n"
     ]
    }
   ],
   "source": [
    "# Simétrica\n",
    "a = 5\n",
    "b = 5\n",
    "print(a == b)  # True\n",
    "print(b == a)  # True"
   ]
  },
  {
   "cell_type": "code",
   "execution_count": 6,
   "metadata": {},
   "outputs": [
    {
     "name": "stdout",
     "output_type": "stream",
     "text": [
      "True\n",
      "True\n"
     ]
    }
   ],
   "source": [
    "# Transitiva\n",
    "a = 5\n",
    "b = 5\n",
    "c = 5\n",
    "print(a == b and b == c)  # True\n",
    "print(a == c)  # True"
   ]
  },
  {
   "cell_type": "markdown",
   "metadata": {},
   "source": [
    "> Propriedades das Operações"
   ]
  },
  {
   "cell_type": "code",
   "execution_count": 7,
   "metadata": {},
   "outputs": [
    {
     "name": "stdout",
     "output_type": "stream",
     "text": [
      "True\n",
      "True\n"
     ]
    }
   ],
   "source": [
    "# Comutativa (Adição e Multiplicação) \n",
    "# A ordem dos números não afeta a soma ou o produto\n",
    "a = 3\n",
    "b = 4\n",
    "print(a + b == b + a)  # True\n",
    "print(a * b == b * a)  # True"
   ]
  },
  {
   "cell_type": "code",
   "execution_count": 8,
   "metadata": {},
   "outputs": [
    {
     "name": "stdout",
     "output_type": "stream",
     "text": [
      "True\n",
      "True\n"
     ]
    }
   ],
   "source": [
    "# Associativa (Adição e Multiplicação)\n",
    "# A maneira como os números são agrupados não afeta a soma ou o produto\n",
    "a = 3\n",
    "b = 4\n",
    "c = 5\n",
    "print((a + b) + c == a + (b + c))  # True\n",
    "print((a * b) * c == a * (b * c))  # True"
   ]
  },
  {
   "cell_type": "code",
   "execution_count": 9,
   "metadata": {},
   "outputs": [
    {
     "name": "stdout",
     "output_type": "stream",
     "text": [
      "True\n"
     ]
    }
   ],
   "source": [
    "# Distributiva\n",
    "a = 3\n",
    "b = 4\n",
    "c = 5\n",
    "print(a * (b + c) == a * b + a * c)  # True"
   ]
  },
  {
   "cell_type": "markdown",
   "metadata": {},
   "source": [
    "> Elementos Neutros e Inversos"
   ]
  },
  {
   "cell_type": "code",
   "execution_count": 10,
   "metadata": {},
   "outputs": [
    {
     "name": "stdout",
     "output_type": "stream",
     "text": [
      "True\n"
     ]
    }
   ],
   "source": [
    "# Elemento Neutro da Adição (0)\n",
    "a = 7\n",
    "print(a + 0 == a)  # True"
   ]
  },
  {
   "cell_type": "code",
   "execution_count": 11,
   "metadata": {},
   "outputs": [
    {
     "name": "stdout",
     "output_type": "stream",
     "text": [
      "True\n"
     ]
    }
   ],
   "source": [
    "# Elemento Neutro da Multiplicação (1)\n",
    "a = 7\n",
    "print(a * 1 == a)  # True"
   ]
  },
  {
   "cell_type": "code",
   "execution_count": 12,
   "metadata": {},
   "outputs": [
    {
     "name": "stdout",
     "output_type": "stream",
     "text": [
      "True\n"
     ]
    }
   ],
   "source": [
    "# Inverso Aditivo\n",
    "a = 7\n",
    "print(a + (-a) == 0)  # True"
   ]
  },
  {
   "cell_type": "code",
   "execution_count": 13,
   "metadata": {},
   "outputs": [
    {
     "name": "stdout",
     "output_type": "stream",
     "text": [
      "True\n"
     ]
    }
   ],
   "source": [
    "# Inverso Multiplicativo\n",
    "a = 7\n",
    "print(a * (1/a) == 1)  # True"
   ]
  },
  {
   "cell_type": "markdown",
   "metadata": {},
   "source": [
    "> Regras de Exponenciação"
   ]
  },
  {
   "cell_type": "code",
   "execution_count": 14,
   "metadata": {},
   "outputs": [
    {
     "name": "stdout",
     "output_type": "stream",
     "text": [
      "True\n"
     ]
    }
   ],
   "source": [
    "# Produto de Mesma Base\n",
    "print(2**3 * 2**4 == 2**(3+4))  # True"
   ]
  },
  {
   "cell_type": "code",
   "execution_count": 15,
   "metadata": {},
   "outputs": [
    {
     "name": "stdout",
     "output_type": "stream",
     "text": [
      "True\n"
     ]
    }
   ],
   "source": [
    "# Divisão de Mesma Base\n",
    "print(2**5 / 2**2 == 2**(5-2))  # True"
   ]
  },
  {
   "cell_type": "code",
   "execution_count": 16,
   "metadata": {},
   "outputs": [
    {
     "name": "stdout",
     "output_type": "stream",
     "text": [
      "True\n"
     ]
    }
   ],
   "source": [
    "# Potência de uma Potência\n",
    "print((2**3)**2 == 2**(3*2))  # True"
   ]
  },
  {
   "cell_type": "code",
   "execution_count": 17,
   "metadata": {},
   "outputs": [
    {
     "name": "stdout",
     "output_type": "stream",
     "text": [
      "True\n"
     ]
    }
   ],
   "source": [
    "# Potência de um Produto\n",
    "print((2*3)**2 == 2**2 * 3**2)  # True "
   ]
  },
  {
   "cell_type": "code",
   "execution_count": 18,
   "metadata": {},
   "outputs": [
    {
     "name": "stdout",
     "output_type": "stream",
     "text": [
      "True\n"
     ]
    }
   ],
   "source": [
    "# Exponencial Zero\n",
    "print(2**0 == 1)  # True"
   ]
  },
  {
   "cell_type": "markdown",
   "metadata": {},
   "source": [
    "> Regras de Radicais"
   ]
  },
  {
   "cell_type": "code",
   "execution_count": 19,
   "metadata": {},
   "outputs": [
    {
     "name": "stdout",
     "output_type": "stream",
     "text": [
      "False\n"
     ]
    }
   ],
   "source": [
    "# Raiz de um Produto ** ATENÇÃO AO CÁLCULO DE PONTO FLUTUANTE **\n",
    "print(math.sqrt(2*8) == math.sqrt(2) * math.sqrt(8))  # True"
   ]
  },
  {
   "cell_type": "code",
   "execution_count": 20,
   "metadata": {},
   "outputs": [
    {
     "name": "stdout",
     "output_type": "stream",
     "text": [
      "True\n"
     ]
    }
   ],
   "source": [
    "# Vamos adicionar tolerância ao cálculo (afinal, o mundo precisa mesmo de mais tolerância! :-)\n",
    "a = math.sqrt(2*8)\n",
    "b = math.sqrt(2) * math.sqrt(8)\n",
    "tolerance = 1e-10\n",
    "\n",
    "print(abs(a - b) < tolerance)  # Deve retornar True"
   ]
  },
  {
   "cell_type": "code",
   "execution_count": 21,
   "metadata": {},
   "outputs": [
    {
     "name": "stdout",
     "output_type": "stream",
     "text": [
      "True\n"
     ]
    }
   ],
   "source": [
    "# Raiz de um Quociente\n",
    "print(math.sqrt(16/4) == math.sqrt(16) / math.sqrt(4))  # True"
   ]
  },
  {
   "cell_type": "markdown",
   "metadata": {},
   "source": [
    "> Regras de Polinômios (Adição e Subtração de Termos Semelhantes)"
   ]
  },
  {
   "cell_type": "code",
   "execution_count": 22,
   "metadata": {},
   "outputs": [
    {
     "name": "stdout",
     "output_type": "stream",
     "text": [
      "27\n"
     ]
    }
   ],
   "source": [
    "# Regras de Polinômios (Adição e Subtração de Termos Semelhantes):\n",
    "\n",
    "# Polinômios: 2x^2 + 3x + 4 e 3x^2 - 2x + 1\n",
    "# Adição: (2x^2 + 3x^2) + (3x - 2x) + (4 + 1)\n",
    "\n",
    "# Variável\n",
    "x = 2\n",
    "\n",
    "# Calcula a adição dos polinômios\n",
    "print((2*x**2 + 3*x**2) + (3*x - 2*x) + (4 + 1))  "
   ]
  },
  {
   "cell_type": "markdown",
   "metadata": {},
   "source": [
    "> Regras de Frações"
   ]
  },
  {
   "cell_type": "code",
   "execution_count": 23,
   "metadata": {},
   "outputs": [
    {
     "name": "stdout",
     "output_type": "stream",
     "text": [
      "0.375\n"
     ]
    }
   ],
   "source": [
    "# Multiplicação\n",
    "# Frações: (1/2) * (3/4)\n",
    "print((1/2) * (3/4))  # 0.375"
   ]
  },
  {
   "cell_type": "code",
   "execution_count": 24,
   "metadata": {},
   "outputs": [
    {
     "name": "stdout",
     "output_type": "stream",
     "text": [
      "0.6666666666666666\n"
     ]
    }
   ],
   "source": [
    "# Divisão\n",
    "# Frações: (1/2) / (3/4) = (1/2) * (4/3)\n",
    "print((1/2) / (3/4))  # 0.666..."
   ]
  },
  {
   "cell_type": "code",
   "execution_count": 25,
   "metadata": {},
   "outputs": [
    {
     "name": "stdout",
     "output_type": "stream",
     "text": [
      "1.0\n"
     ]
    }
   ],
   "source": [
    "# Soma e Subtração com Denominador Comum:\n",
    "# Frações: (1/4) + (3/4)\n",
    "print((1/4) + (3/4))  # 1.0"
   ]
  },
  {
   "cell_type": "markdown",
   "metadata": {},
   "source": [
    "## Operações com Vetores - Adição e Subtração"
   ]
  },
  {
   "cell_type": "code",
   "execution_count": 26,
   "metadata": {},
   "outputs": [],
   "source": [
    "# Definindo dois vetores como listas\n",
    "vetor_a = [3, 4, 5]\n",
    "vetor_b = [1, 2, 3]"
   ]
  },
  {
   "cell_type": "code",
   "execution_count": 27,
   "metadata": {},
   "outputs": [],
   "source": [
    "# Função para adição de vetores\n",
    "def adicionar_vetores(a, b):\n",
    "    return [a[i] + b[i] for i in range(len(a))]"
   ]
  },
  {
   "cell_type": "code",
   "execution_count": 28,
   "metadata": {},
   "outputs": [],
   "source": [
    "# Função para subtração de vetores\n",
    "def subtrair_vetores(a, b):\n",
    "    return [a[i] - b[i] for i in range(len(a))]"
   ]
  },
  {
   "cell_type": "code",
   "execution_count": 29,
   "metadata": {},
   "outputs": [],
   "source": [
    "# Realizando as operações\n",
    "vetor_soma = adicionar_vetores(vetor_a, vetor_b)\n",
    "vetor_diferenca = subtrair_vetores(vetor_a, vetor_b)"
   ]
  },
  {
   "cell_type": "code",
   "execution_count": 30,
   "metadata": {},
   "outputs": [
    {
     "name": "stdout",
     "output_type": "stream",
     "text": [
      "Vetor A: [3, 4, 5]\n",
      "Vetor B: [1, 2, 3]\n",
      "Soma dos Vetores: [4, 6, 8]\n",
      "Diferença dos Vetores: [2, 2, 2]\n"
     ]
    }
   ],
   "source": [
    "# Mostrando os resultados\n",
    "print(\"Vetor A:\", vetor_a)\n",
    "print(\"Vetor B:\", vetor_b)\n",
    "print(\"Soma dos Vetores:\", vetor_soma)\n",
    "print(\"Diferença dos Vetores:\", vetor_diferenca)"
   ]
  },
  {
   "cell_type": "markdown",
   "metadata": {},
   "source": [
    "## Operações com Vetores - Cross Product (Produto Vetorial)\n",
    "\n",
    "O produto vetorial entre dois vetores resulta em um terceiro vetor que é perpendicular aos dois vetores originais. "
   ]
  },
  {
   "cell_type": "code",
   "execution_count": 31,
   "metadata": {},
   "outputs": [],
   "source": [
    "# Função para calcular o produto vetorial entre 2 vetores\n",
    "def produto_vetorial(v1, v2):\n",
    "    x = v1[1] * v2[2] - v1[2] * v2[1]\n",
    "    y = v1[2] * v2[0] - v1[0] * v2[2]\n",
    "    z = v1[0] * v2[1] - v1[1] * v2[0]\n",
    "    return [x, y, z]"
   ]
  },
  {
   "cell_type": "code",
   "execution_count": 32,
   "metadata": {},
   "outputs": [],
   "source": [
    "# Cria os vetores\n",
    "vetor_a = [2, -3, 1]\n",
    "vetor_b = [5, 7, 6]"
   ]
  },
  {
   "cell_type": "code",
   "execution_count": 33,
   "metadata": {},
   "outputs": [
    {
     "name": "stdout",
     "output_type": "stream",
     "text": [
      "Produto Vetorial: [-25, -7, 29]\n"
     ]
    }
   ],
   "source": [
    "# Calculando o produto vetorial\n",
    "resultado = produto_vetorial(vetor_a, vetor_b)\n",
    "print(\"Produto Vetorial:\", resultado)"
   ]
  },
  {
   "cell_type": "markdown",
   "metadata": {},
   "source": [
    "https://www.wolframalpha.com/input/?i=cross+product+calculator\n",
    "\n",
    "https://www.mathsisfun.com/algebra/vectors-cross-product.html"
   ]
  },
  {
   "cell_type": "markdown",
   "metadata": {},
   "source": [
    "## Operações com Vetores - Dot Product (Produto Escalar)\n",
    "\n",
    "O produto escalar de dois vetores é uma operação que resulta em um escalar (um número). Matematicamente, é a soma dos produtos dos componentes correspondentes dos vetores."
   ]
  },
  {
   "cell_type": "code",
   "execution_count": 34,
   "metadata": {},
   "outputs": [],
   "source": [
    "# Função para calcular o produto escalar\n",
    "def produto_escalar(v1, v2):\n",
    "    return sum(a * b for a, b in zip(v1, v2))"
   ]
  },
  {
   "cell_type": "code",
   "execution_count": 35,
   "metadata": {},
   "outputs": [],
   "source": [
    "# Cria os vetores\n",
    "vetor_a = [2, -3, 1]\n",
    "vetor_b = [5, 7, 6]"
   ]
  },
  {
   "cell_type": "code",
   "execution_count": 36,
   "metadata": {},
   "outputs": [
    {
     "name": "stdout",
     "output_type": "stream",
     "text": [
      "Produto Escalar: -5\n"
     ]
    }
   ],
   "source": [
    "# Calculando o produto escalar\n",
    "resultado = produto_escalar(vetor_a, vetor_b)\n",
    "print(\"Produto Escalar:\", resultado)"
   ]
  },
  {
   "cell_type": "markdown",
   "metadata": {},
   "source": [
    "https://www.wolframalpha.com/input?i=dot+product\n",
    "\n",
    "https://www.mathsisfun.com/algebra/vectors-dot-product.html"
   ]
  },
  {
   "cell_type": "markdown",
   "metadata": {},
   "source": [
    "<!-- Projeto Desenvolvido na Data Science Academy - www.datascienceacademy.com.br -->\n",
    "\n",
    "## Machine Learning Apenas com Operações Matemáticas (Sem Uso de Frameworks)\n",
    "\n",
    "Vamos criar um modelo capaz de prever o preço de um ativo financeiro com base na taxa nominal de juros."
   ]
  },
  {
   "cell_type": "code",
   "execution_count": 37,
   "metadata": {},
   "outputs": [],
   "source": [
    "# Gerando dados sintéticos\n",
    "np.random.seed(0)\n",
    "X = np.random.randint(1, 10, size = (100, 1))  # 100 instâncias, valores entre 1 e 10\n",
    "y = 50000 + 30000 * X + np.random.randn(100, 1) * 15000  # Relação linear: preço base + preço por ativo + ruído"
   ]
  },
  {
   "cell_type": "code",
   "execution_count": 38,
   "metadata": {},
   "outputs": [
    {
     "data": {
      "text/plain": [
       "array([[1],\n",
       "       [4],\n",
       "       [4],\n",
       "       [8]])"
      ]
     },
     "execution_count": 38,
     "metadata": {},
     "output_type": "execute_result"
    }
   ],
   "source": [
    "# Visualizando alguns registros\n",
    "X[1:5]"
   ]
  },
  {
   "cell_type": "code",
   "execution_count": 39,
   "metadata": {},
   "outputs": [
    {
     "data": {
      "text/plain": [
       "array([[ 85385.04146705],\n",
       "       [186141.81556278],\n",
       "       [172882.11251578],\n",
       "       [302793.88936252]])"
      ]
     },
     "execution_count": 39,
     "metadata": {},
     "output_type": "execute_result"
    }
   ],
   "source": [
    "# Visualizando alguns registros\n",
    "y[1:5]"
   ]
  },
  {
   "cell_type": "code",
   "execution_count": 40,
   "metadata": {},
   "outputs": [],
   "source": [
    "# Adicionar coluna de uns para o termo de interceptação\n",
    "X_b = np.c_[np.ones((100, 1)), X]  # Adiciona x0 = 1 a cada instância"
   ]
  },
  {
   "cell_type": "markdown",
   "metadata": {},
   "source": [
    "### Função de Custo MSE com Operações Entre Vetores\n",
    "\n",
    "Esta função dsa_func_custo é uma implementação da função de custo de erro quadrático médio, que é amplamente usada em regressão linear. O objetivo dessa função é medir quão bem o modelo de regressão (representado pelos parâmetros theta) está desempenhando em relação ao conjunto de dados (X e y). Um custo mais baixo indica que o modelo está fazendo previsões mais precisas."
   ]
  },
  {
   "cell_type": "code",
   "execution_count": 41,
   "metadata": {},
   "outputs": [],
   "source": [
    "# Função de Custo MSE com Operações Entre Vetores\n",
    "def dsa_func_custo(X, y, theta):\n",
    "    \n",
    "    # m é o número de exemplos de treinamento (observações) no conjunto de dados\n",
    "    m = len(y)\n",
    "\n",
    "    # Calcula a função de custo para a regressão linear\n",
    "    # A função de custo é a média dos erros quadrados entre as previsões e os valores reais\n",
    "    # (1/(2*m)) é um fator de escala comum na função de custo do erro quadrático médio\n",
    "    # np.sum(np.square(X.dot(theta) - y)) é a soma dos quadrados dos erros\n",
    "    # X.dot(theta) é o produto escalar de X (dados de entrada) e theta (parâmetros do modelo)\n",
    "    # X.dot(theta) - y é a diferença entre as previsões e os valores reais\n",
    "    cost = (1/(2*m)) * np.sum(np.square(X.dot(theta) - y))\n",
    "\n",
    "    # Retorna o custo calculado\n",
    "    return cost"
   ]
  },
  {
   "cell_type": "markdown",
   "metadata": {},
   "source": [
    "### Algoritmo Gradiente Descendente com Operações Entre Vetores"
   ]
  },
  {
   "cell_type": "code",
   "execution_count": 42,
   "metadata": {},
   "outputs": [],
   "source": [
    "# Gradiente descendente\n",
    "def dsa_gradient_descent(X, y, theta, learning_rate, iterations):\n",
    "    \n",
    "    # m é o número de exemplos de treinamento no conjunto de dados\n",
    "    m = len(y)\n",
    "\n",
    "    # Inicializa um array para armazenar o histórico de custo em cada iteração\n",
    "    cost_history = np.zeros(iterations)\n",
    "\n",
    "    # Loop para realizar o número especificado de iterações\n",
    "    for i in range(iterations):\n",
    "        \n",
    "        # Calcula o gradiente da função de custo em relação a theta\n",
    "        # O gradiente é a média dos produtos dos erros e as características de entrada\n",
    "        gradients = 1/m * X.T.dot(X.dot(theta) - y)\n",
    "\n",
    "        # Atualiza os parâmetros theta subtraindo o produto da taxa de aprendizado e o gradiente\n",
    "        # Esta é a etapa de descida do gradiente, movendo-se em direção ao mínimo da função de custo\n",
    "        theta = theta - learning_rate * gradients\n",
    "\n",
    "        # Calcula o custo com o theta atualizado e armazena no histórico de custo\n",
    "        cost_history[i] = dsa_func_custo(X, y, theta)\n",
    "    \n",
    "    # Retorna os parâmetros theta otimizados e o histórico de custo\n",
    "    return theta, cost_history"
   ]
  },
  {
   "cell_type": "markdown",
   "metadata": {},
   "source": [
    "### Treinamento do Modelo"
   ]
  },
  {
   "cell_type": "code",
   "execution_count": 43,
   "metadata": {},
   "outputs": [],
   "source": [
    "# Parâmetros iniciais\n",
    "\n",
    "# Inicializa os parâmetros randomicamente\n",
    "theta = np.random.randn(2, 1)\n",
    "\n",
    "# Taxa de aprendizado\n",
    "learning_rate = 0.01\n",
    "\n",
    "# Número de passadas de treino\n",
    "iterations = 1000"
   ]
  },
  {
   "cell_type": "code",
   "execution_count": 44,
   "metadata": {},
   "outputs": [],
   "source": [
    "# Treinando o modelo\n",
    "theta_final, cost_history = dsa_gradient_descent(X_b, y, theta, learning_rate, iterations)"
   ]
  },
  {
   "cell_type": "code",
   "execution_count": 45,
   "metadata": {},
   "outputs": [
    {
     "name": "stdout",
     "output_type": "stream",
     "text": [
      "Modelo de Machine Learning - Parâmetros Finais:\n",
      " [[44287.25556464]\n",
      " [31108.64267429]]\n"
     ]
    }
   ],
   "source": [
    "print(\"Modelo de Machine Learning - Parâmetros Finais:\\n\", theta_final)"
   ]
  },
  {
   "cell_type": "markdown",
   "metadata": {},
   "source": [
    "### Deploy e Previsão com Novos Dados"
   ]
  },
  {
   "cell_type": "code",
   "execution_count": 46,
   "metadata": {},
   "outputs": [],
   "source": [
    "# Novo valor de X\n",
    "X_new = np.array([[4.5]])"
   ]
  },
  {
   "cell_type": "code",
   "execution_count": 47,
   "metadata": {},
   "outputs": [],
   "source": [
    "# Novo valor do bias\n",
    "X_new_b = np.c_[np.ones((1, 1)), X_new]"
   ]
  },
  {
   "cell_type": "code",
   "execution_count": 48,
   "metadata": {},
   "outputs": [],
   "source": [
    "# Previsão\n",
    "y_predict = X_new_b.dot(theta_final)"
   ]
  },
  {
   "cell_type": "code",
   "execution_count": 49,
   "metadata": {},
   "outputs": [
    {
     "name": "stdout",
     "output_type": "stream",
     "text": [
      "Com base na taxa de juros nominal, esta é a previsão do preço do ativo: [[184276.15]]\n"
     ]
    }
   ],
   "source": [
    "print(\"Com base na taxa de juros nominal, esta é a previsão do preço do ativo:\", np.round(y_predict, 2))"
   ]
  },
  {
   "cell_type": "code",
   "execution_count": 50,
   "metadata": {},
   "outputs": [
    {
     "name": "stdout",
     "output_type": "stream",
     "text": [
      "Author: Data Science Academy\n",
      "\n"
     ]
    }
   ],
   "source": [
    "%reload_ext watermark\n",
    "%watermark -a \"Data Science Academy\""
   ]
  },
  {
   "cell_type": "code",
   "execution_count": 51,
   "metadata": {},
   "outputs": [],
   "source": [
    "#%watermark -v -m"
   ]
  },
  {
   "cell_type": "code",
   "execution_count": 52,
   "metadata": {},
   "outputs": [],
   "source": [
    "#%watermark --iversions"
   ]
  },
  {
   "cell_type": "markdown",
   "metadata": {},
   "source": [
    "# Fim"
   ]
  }
 ],
 "metadata": {
  "kernelspec": {
   "display_name": "Python 3 (ipykernel)",
   "language": "python",
   "name": "python3"
  },
  "language_info": {
   "codemirror_mode": {
    "name": "ipython",
    "version": 3
   },
   "file_extension": ".py",
   "mimetype": "text/x-python",
   "name": "python",
   "nbconvert_exporter": "python",
   "pygments_lexer": "ipython3",
   "version": "3.11.5"
  }
 },
 "nbformat": 4,
 "nbformat_minor": 2
}
