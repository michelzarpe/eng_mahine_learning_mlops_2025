{
 "cells": [
  {
   "cell_type": "markdown",
   "metadata": {},
   "source": [
    "<!-- Projeto Desenvolvido na Data Science Academy - www.datascienceacademy.com.br -->\n",
    "# <font color='blue'>Data Science Academy</font>\n",
    "## <font color='blue'>Matemática e Estatística Aplicada Para Data Science, Machine Learning e IA</font>\n",
    "## <font color='blue'>Projeto 10</font>\n",
    "## <font color='blue'>Análise de Teste A/B em Campanha de Marketing Digital</font>"
   ]
  },
  {
   "cell_type": "markdown",
   "metadata": {},
   "source": [
    "## Instalando e Carregando os Pacotes"
   ]
  },
  {
   "cell_type": "code",
   "execution_count": 1,
   "metadata": {},
   "outputs": [],
   "source": [
    "# Para atualizar um pacote, execute o comando abaixo no terminal ou prompt de comando:\n",
    "# pip install -U nome_pacote\n",
    "\n",
    "# Para instalar a versão exata de um pacote, execute o comando abaixo no terminal ou prompt de comando:\n",
    "# !pip install nome_pacote==versão_desejada\n",
    "\n",
    "# Depois de instalar ou atualizar o pacote, reinicie o jupyter notebook.\n",
    "\n",
    "# Instala o pacote watermark. \n",
    "# Esse pacote é usado para gravar as versões de outros pacotes usados neste jupyter notebook.\n",
    "# !pip install -q -U watermark"
   ]
  },
  {
   "cell_type": "code",
   "execution_count": 2,
   "metadata": {},
   "outputs": [],
   "source": [
    "# Imports\n",
    "import random\n",
    "import numpy as np\n",
    "import pandas as pd\n",
    "import matplotlib.pyplot as plt\n",
    "import seaborn as sns\n",
    "import statsmodels.api as sm\n",
    "from scipy import stats\n",
    "%matplotlib inline\n",
    "import warnings\n",
    "warnings.filterwarnings('ignore')\n",
    "random.seed(42)"
   ]
  },
  {
   "cell_type": "code",
   "execution_count": 3,
   "metadata": {},
   "outputs": [
    {
     "name": "stdout",
     "output_type": "stream",
     "text": [
      "Author: Data Science Academy\n",
      "\n"
     ]
    }
   ],
   "source": [
    "# Versões dos pacotes usados neste jupyter notebook\n",
    "%reload_ext watermark\n",
    "%watermark -a \"Data Science Academy\" "
   ]
  },
  {
   "cell_type": "markdown",
   "metadata": {},
   "source": [
    "## Carregando os Dados"
   ]
  },
  {
   "cell_type": "code",
   "execution_count": 4,
   "metadata": {
    "colab": {
     "base_uri": "https://localhost:8080/",
     "height": 206
    },
    "id": "agN1KEBr6ecI",
    "outputId": "b25fe00b-37f1-439d-a827-4ee838bc31bc"
   },
   "outputs": [],
   "source": [
    "dados = pd.read_csv(\"dataset.csv\")"
   ]
  },
  {
   "cell_type": "code",
   "execution_count": 5,
   "metadata": {},
   "outputs": [
    {
     "data": {
      "text/plain": [
       "(294460, 5)"
      ]
     },
     "execution_count": 5,
     "metadata": {},
     "output_type": "execute_result"
    }
   ],
   "source": [
    "dados.shape"
   ]
  },
  {
   "cell_type": "code",
   "execution_count": 6,
   "metadata": {},
   "outputs": [
    {
     "data": {
      "text/html": [
       "<div>\n",
       "<style scoped>\n",
       "    .dataframe tbody tr th:only-of-type {\n",
       "        vertical-align: middle;\n",
       "    }\n",
       "\n",
       "    .dataframe tbody tr th {\n",
       "        vertical-align: top;\n",
       "    }\n",
       "\n",
       "    .dataframe thead th {\n",
       "        text-align: right;\n",
       "    }\n",
       "</style>\n",
       "<table border=\"1\" class=\"dataframe\">\n",
       "  <thead>\n",
       "    <tr style=\"text-align: right;\">\n",
       "      <th></th>\n",
       "      <th>id_usuario</th>\n",
       "      <th>timestamp</th>\n",
       "      <th>grupo</th>\n",
       "      <th>pagina</th>\n",
       "      <th>converteu</th>\n",
       "    </tr>\n",
       "  </thead>\n",
       "  <tbody>\n",
       "    <tr>\n",
       "      <th>168940</th>\n",
       "      <td>737826</td>\n",
       "      <td>2024-01-09 02:07:49.521384</td>\n",
       "      <td>tratamento</td>\n",
       "      <td>pagina_com_cta</td>\n",
       "      <td>0</td>\n",
       "    </tr>\n",
       "    <tr>\n",
       "      <th>62856</th>\n",
       "      <td>759390</td>\n",
       "      <td>2024-01-06 13:07:54.812137</td>\n",
       "      <td>tratamento</td>\n",
       "      <td>pagina_com_cta</td>\n",
       "      <td>0</td>\n",
       "    </tr>\n",
       "    <tr>\n",
       "      <th>92339</th>\n",
       "      <td>859344</td>\n",
       "      <td>2024-01-05 06:19:43.591394</td>\n",
       "      <td>tratamento</td>\n",
       "      <td>pagina_com_cta</td>\n",
       "      <td>1</td>\n",
       "    </tr>\n",
       "    <tr>\n",
       "      <th>4564</th>\n",
       "      <td>813315</td>\n",
       "      <td>2024-01-15 04:25:29.324217</td>\n",
       "      <td>tratamento</td>\n",
       "      <td>pagina_com_cta</td>\n",
       "      <td>0</td>\n",
       "    </tr>\n",
       "    <tr>\n",
       "      <th>230492</th>\n",
       "      <td>866000</td>\n",
       "      <td>2024-01-06 02:34:09.438225</td>\n",
       "      <td>tratamento</td>\n",
       "      <td>pagina_com_cta</td>\n",
       "      <td>0</td>\n",
       "    </tr>\n",
       "    <tr>\n",
       "      <th>72203</th>\n",
       "      <td>635656</td>\n",
       "      <td>2024-01-11 03:42:11.597673</td>\n",
       "      <td>controle</td>\n",
       "      <td>pagina_sem_cta</td>\n",
       "      <td>0</td>\n",
       "    </tr>\n",
       "    <tr>\n",
       "      <th>3357</th>\n",
       "      <td>732908</td>\n",
       "      <td>2024-01-11 18:52:29.700867</td>\n",
       "      <td>tratamento</td>\n",
       "      <td>pagina_com_cta</td>\n",
       "      <td>0</td>\n",
       "    </tr>\n",
       "    <tr>\n",
       "      <th>109334</th>\n",
       "      <td>711795</td>\n",
       "      <td>2024-01-03 06:07:04.017134</td>\n",
       "      <td>controle</td>\n",
       "      <td>pagina_sem_cta</td>\n",
       "      <td>0</td>\n",
       "    </tr>\n",
       "    <tr>\n",
       "      <th>168241</th>\n",
       "      <td>835481</td>\n",
       "      <td>2024-01-06 17:30:59.303000</td>\n",
       "      <td>controle</td>\n",
       "      <td>pagina_sem_cta</td>\n",
       "      <td>0</td>\n",
       "    </tr>\n",
       "    <tr>\n",
       "      <th>35866</th>\n",
       "      <td>640017</td>\n",
       "      <td>2024-01-13 14:27:13.111249</td>\n",
       "      <td>controle</td>\n",
       "      <td>pagina_sem_cta</td>\n",
       "      <td>0</td>\n",
       "    </tr>\n",
       "  </tbody>\n",
       "</table>\n",
       "</div>"
      ],
      "text/plain": [
       "        id_usuario                   timestamp       grupo          pagina  \\\n",
       "168940      737826  2024-01-09 02:07:49.521384  tratamento  pagina_com_cta   \n",
       "62856       759390  2024-01-06 13:07:54.812137  tratamento  pagina_com_cta   \n",
       "92339       859344  2024-01-05 06:19:43.591394  tratamento  pagina_com_cta   \n",
       "4564        813315  2024-01-15 04:25:29.324217  tratamento  pagina_com_cta   \n",
       "230492      866000  2024-01-06 02:34:09.438225  tratamento  pagina_com_cta   \n",
       "72203       635656  2024-01-11 03:42:11.597673    controle  pagina_sem_cta   \n",
       "3357        732908  2024-01-11 18:52:29.700867  tratamento  pagina_com_cta   \n",
       "109334      711795  2024-01-03 06:07:04.017134    controle  pagina_sem_cta   \n",
       "168241      835481  2024-01-06 17:30:59.303000    controle  pagina_sem_cta   \n",
       "35866       640017  2024-01-13 14:27:13.111249    controle  pagina_sem_cta   \n",
       "\n",
       "        converteu  \n",
       "168940          0  \n",
       "62856           0  \n",
       "92339           1  \n",
       "4564            0  \n",
       "230492          0  \n",
       "72203           0  \n",
       "3357            0  \n",
       "109334          0  \n",
       "168241          0  \n",
       "35866           0  "
      ]
     },
     "execution_count": 6,
     "metadata": {},
     "output_type": "execute_result"
    }
   ],
   "source": [
    "dados.sample(10)"
   ]
  },
  {
   "cell_type": "markdown",
   "metadata": {},
   "source": [
    "O grupo de controle representa a versão atual ou padrão que está sendo usado, enquanto o grupo de tratamento representa a versão modificada que você deseja testar."
   ]
  },
  {
   "cell_type": "markdown",
   "metadata": {},
   "source": [
    "## Análise Exploratória"
   ]
  },
  {
   "cell_type": "code",
   "execution_count": 7,
   "metadata": {},
   "outputs": [
    {
     "name": "stdout",
     "output_type": "stream",
     "text": [
      "id_usuario    0\n",
      "timestamp     0\n",
      "grupo         0\n",
      "pagina        0\n",
      "converteu     0\n",
      "dtype: int64\n"
     ]
    }
   ],
   "source": [
    "# Verifica se há valores nulos\n",
    "print(dados.isnull().sum())"
   ]
  },
  {
   "cell_type": "code",
   "execution_count": 8,
   "metadata": {},
   "outputs": [
    {
     "name": "stdout",
     "output_type": "stream",
     "text": [
      "grupo\n",
      "controle      147270\n",
      "tratamento    147190\n",
      "Name: count, dtype: int64\n"
     ]
    }
   ],
   "source": [
    "# Verifica a distribuição dos grupos (controle e tratamento)\n",
    "print(dados['grupo'].value_counts())"
   ]
  },
  {
   "cell_type": "code",
   "execution_count": 9,
   "metadata": {},
   "outputs": [
    {
     "data": {
      "image/png": "[encoded data removed]",
      "text/plain": [
       "<Figure size 640x480 with 1 Axes>"
      ]
     },
     "metadata": {},
     "output_type": "display_data"
    }
   ],
   "source": [
    "# Visualiza a distribuição dos grupos\n",
    "sns.countplot(data = dados, x = 'grupo')\n",
    "plt.show()"
   ]
  },
  {
   "cell_type": "code",
   "execution_count": 10,
   "metadata": {},
   "outputs": [
    {
     "name": "stdout",
     "output_type": "stream",
     "text": [
      "converteu        0      1\n",
      "grupo                    \n",
      "controle    129756  17514\n",
      "tratamento  129467  17723\n"
     ]
    }
   ],
   "source": [
    "# Verifica a distribuição de conversões nos grupos\n",
    "print(pd.crosstab(dados['grupo'], dados['converteu']))"
   ]
  },
  {
   "cell_type": "code",
   "execution_count": 11,
   "metadata": {},
   "outputs": [
    {
     "data": {
      "image/png": "[encoded data removed]",
      "text/plain": [
       "<Figure size 640x480 with 1 Axes>"
      ]
     },
     "metadata": {},
     "output_type": "display_data"
    }
   ],
   "source": [
    "# Visualiza a distribuição de conversões nos grupos\n",
    "sns.countplot(data = dados, x = 'grupo', hue = 'converteu')\n",
    "plt.show()"
   ]
  },
  {
   "cell_type": "code",
   "execution_count": 12,
   "metadata": {},
   "outputs": [
    {
     "name": "stdout",
     "output_type": "stream",
     "text": [
      "pagina      pagina_com_cta  pagina_sem_cta\n",
      "grupo                                     \n",
      "controle              1965          145305\n",
      "tratamento          145262            1928\n"
     ]
    }
   ],
   "source": [
    "# Verifica a relação entre a coluna 'grupo' e a coluna 'pagina'\n",
    "print(pd.crosstab(dados['grupo'], dados['pagina']))"
   ]
  },
  {
   "cell_type": "code",
   "execution_count": 13,
   "metadata": {},
   "outputs": [
    {
     "name": "stdout",
     "output_type": "stream",
     "text": [
      "Número de observações no grupo controle: 147270\n",
      "Número de observações no grupo tratamento: 147190\n"
     ]
    }
   ],
   "source": [
    "# Verifica se o número de observações nos grupos é balanceado\n",
    "print(\"Número de observações no grupo controle:\", len(dados[dados['grupo'] == 'controle']))\n",
    "print(\"Número de observações no grupo tratamento:\", len(dados[dados['grupo'] == 'tratamento']))"
   ]
  },
  {
   "cell_type": "code",
   "execution_count": 14,
   "metadata": {},
   "outputs": [],
   "source": [
    "# Filtrar os dados para garantir a consistência entre 'grupo' e 'pagina'\n",
    "dados_filtrados = dados[((dados['grupo'] == 'controle') & (dados['pagina'] == 'pagina_sem_cta')) | \n",
    "                     ((dados['grupo'] == 'tratamento') & (dados['pagina'] == 'pagina_com_cta'))]"
   ]
  },
  {
   "cell_type": "code",
   "execution_count": 15,
   "metadata": {},
   "outputs": [
    {
     "data": {
      "text/plain": [
       "(290567, 5)"
      ]
     },
     "execution_count": 15,
     "metadata": {},
     "output_type": "execute_result"
    }
   ],
   "source": [
    "dados_filtrados.shape"
   ]
  },
  {
   "cell_type": "code",
   "execution_count": 16,
   "metadata": {},
   "outputs": [],
   "source": [
    "# Calcular a taxa de conversão para cada grupo\n",
    "taxas_conversao = dados_filtrados.groupby('grupo')['converteu'].mean() "
   ]
  },
  {
   "cell_type": "code",
   "execution_count": 17,
   "metadata": {},
   "outputs": [
    {
     "data": {
      "text/plain": [
       "grupo\n",
       "controle      0.118812\n",
       "tratamento    0.120396\n",
       "Name: converteu, dtype: float64"
      ]
     },
     "execution_count": 17,
     "metadata": {},
     "output_type": "execute_result"
    }
   ],
   "source": [
    "taxas_conversao"
   ]
  },
  {
   "cell_type": "markdown",
   "metadata": {},
   "source": [
    "## Analisando Teste A/B com Teste do Qui-Quadrado\n",
    "\n",
    "O Teste do Qui-Quadrado (ou Chi-quadrado) é uma técnica estatística usada para determinar se há uma associação significativa entre duas variáveis categóricas. É amplamente utilizado em pesquisa para testar hipóteses sobre a independência de variáveis em tabelas de contingência (tabelas que mostram a distribuição de frequências de variáveis).\n",
    "\n",
    "Existem vários tipos de Testes do Qui-Quadrado, mas os mais comuns são:\n",
    "\n",
    "- Teste de Independência: Usado para avaliar se duas variáveis categóricas são independentes uma da outra. Por exemplo, pode-se usar esse teste para determinar se há uma relação entre gênero (masculino e feminino) e preferência por um produto (gosta ou não gosta).\n",
    "\n",
    "- Teste de Adequação ao Modelo: Usado para ver se uma distribuição observada de dados se ajusta a uma distribuição teórica esperada. Por exemplo, ele pode ser usado para verificar se o número de acidentes em diferentes dias da semana se encaixa em uma distribuição uniforme."
   ]
  },
  {
   "cell_type": "markdown",
   "metadata": {},
   "source": [
    "Vamos realizar um Teste do Qui-Quadrado de independência usando uma tabela de contingência entre duas variáveis categóricas ('grupo' e 'converteu'). As hipóteses seriam formuladas da seguinte maneira:\n",
    "\n",
    "**Hipótese Nula (H0)**: Não existe associação entre as variáveis 'grupo' e 'converteu'. Isso significa que o usuário pertencer a um grupo ou outro não afeta a probabilidade de conversão.\n",
    "\n",
    "**Hipótese Alternativa (H1)**: Existe uma associação entre as variáveis 'grupo' e 'converteu'. Em outras palavras, o usuário pertencer a um grupo ou outro influencia a probabilidade de conversão.\n",
    "\n",
    "Se o valor-p do teste for menor que o nível de significância estabelecido (geralmente 0,05), você rejeitaria a hipótese nula, concluindo que há evidências estatísticas suficientes para afirmar que existe uma associação entre pertencer a um grupo específico e a probabilidade de conversão. Se o valor-p for maior que 0.05, você não rejeitaria a hipótese nula, indicando que não há evidências suficientes para afirmar que há uma associação significativa."
   ]
  },
  {
   "cell_type": "code",
   "execution_count": 18,
   "metadata": {},
   "outputs": [],
   "source": [
    "# Import\n",
    "from scipy.stats import chi2_contingency"
   ]
  },
  {
   "cell_type": "code",
   "execution_count": 19,
   "metadata": {},
   "outputs": [],
   "source": [
    "# Cria tabela de contingência\n",
    "contingency_table = pd.crosstab(dados_filtrados['grupo'], dados_filtrados['converteu'])"
   ]
  },
  {
   "cell_type": "code",
   "execution_count": 20,
   "metadata": {},
   "outputs": [
    {
     "data": {
      "text/html": [
       "<div>\n",
       "<style scoped>\n",
       "    .dataframe tbody tr th:only-of-type {\n",
       "        vertical-align: middle;\n",
       "    }\n",
       "\n",
       "    .dataframe tbody tr th {\n",
       "        vertical-align: top;\n",
       "    }\n",
       "\n",
       "    .dataframe thead th {\n",
       "        text-align: right;\n",
       "    }\n",
       "</style>\n",
       "<table border=\"1\" class=\"dataframe\">\n",
       "  <thead>\n",
       "    <tr style=\"text-align: right;\">\n",
       "      <th>converteu</th>\n",
       "      <th>0</th>\n",
       "      <th>1</th>\n",
       "    </tr>\n",
       "    <tr>\n",
       "      <th>grupo</th>\n",
       "      <th></th>\n",
       "      <th></th>\n",
       "    </tr>\n",
       "  </thead>\n",
       "  <tbody>\n",
       "    <tr>\n",
       "      <th>controle</th>\n",
       "      <td>128041</td>\n",
       "      <td>17264</td>\n",
       "    </tr>\n",
       "    <tr>\n",
       "      <th>tratamento</th>\n",
       "      <td>127773</td>\n",
       "      <td>17489</td>\n",
       "    </tr>\n",
       "  </tbody>\n",
       "</table>\n",
       "</div>"
      ],
      "text/plain": [
       "converteu        0      1\n",
       "grupo                    \n",
       "controle    128041  17264\n",
       "tratamento  127773  17489"
      ]
     },
     "execution_count": 20,
     "metadata": {},
     "output_type": "execute_result"
    }
   ],
   "source": [
    "contingency_table"
   ]
  },
  {
   "cell_type": "code",
   "execution_count": 21,
   "metadata": {},
   "outputs": [],
   "source": [
    "# Teste de Qui-quadrado\n",
    "chi2, p_value, _, _ = chi2_contingency(contingency_table)"
   ]
  },
  {
   "cell_type": "code",
   "execution_count": 22,
   "metadata": {},
   "outputs": [
    {
     "data": {
      "text/plain": [
       "grupo\n",
       "controle      0.118812\n",
       "tratamento    0.120396\n",
       "Name: converteu, dtype: float64"
      ]
     },
     "execution_count": 22,
     "metadata": {},
     "output_type": "execute_result"
    }
   ],
   "source": [
    "taxas_conversao"
   ]
  },
  {
   "cell_type": "code",
   "execution_count": 23,
   "metadata": {},
   "outputs": [
    {
     "data": {
      "text/plain": [
       "1.7161007736557263"
      ]
     },
     "execution_count": 23,
     "metadata": {},
     "output_type": "execute_result"
    }
   ],
   "source": [
    "chi2"
   ]
  },
  {
   "cell_type": "code",
   "execution_count": 24,
   "metadata": {},
   "outputs": [
    {
     "data": {
      "text/plain": [
       "0.19019573569633683"
      ]
     },
     "execution_count": 24,
     "metadata": {},
     "output_type": "execute_result"
    }
   ],
   "source": [
    "p_value"
   ]
  },
  {
   "cell_type": "markdown",
   "metadata": {},
   "source": [
    "As taxas de conversão são as seguintes:\n",
    "\n",
    "- Grupo controle (página sem CTA): 11.88%\n",
    "- Grupo tratamento (página com CTA): 12.04%\n",
    "\n",
    "O resultado do teste qui-quadrado para comparar as taxas de conversão entre os dois grupos produziu um valor-p de aproximadamente 0.190. Isso indica que falhamos em rejeitar a H0 e que não há uma diferença estatisticamente significativa entre as taxas de conversão das duas páginas, dado que o valor-p é maior que o limiar comum de 0.05 para significância estatística.\n",
    "\n",
    "Portanto, com base nos dados fornecidos e no teste realizado, parece que uso do CTA (Call-To-Action) não teve um impacto significativo na taxa de conversão dos usuários. "
   ]
  },
  {
   "cell_type": "markdown",
   "metadata": {},
   "source": [
    "## Analisando Teste A/B com Teste t de Student Para Amostras Independentes\n",
    "\n",
    "O Teste t de Student para duas amostras independentes é um método estatístico usado para comparar as médias de duas amostras independentes para determinar se há uma diferença estatisticamente significativa entre elas. Este teste é amplamente utilizado em pesquisas que comparam dois grupos distintos, como tratamentos em estudos clínicos ou métodos educacionais em pesquisas acadêmicas.\n",
    "\n",
    "Para aplicar o teste t de Student para duas amostras independentes, algumas suposições devem ser satisfeitas:\n",
    "\n",
    "- Independência das Observações: As amostras devem ser coletadas de forma independente uma da outra.\n",
    "- Normalidade: As distribuições das duas populações devem ser aproximadamente normais. Isso é menos preocupante com tamanhos de amostra grandes devido ao Teorema do Limite Central.\n",
    "- Homogeneidade das Variâncias: As variâncias das duas populações devem ser iguais. Quando as variâncias não são iguais, variantes do teste t, como o teste de Welch, são usadas.\n",
    "\n",
    "Hipóteses:\n",
    "\n",
    "- Hipótese Nula (H0): As médias das duas populações são iguais. Ou seja, não há diferença significativa.\n",
    "- Hipótese Alternativa (H1): As médias das duas populações são diferentes. Ou seja, há diferença significativa."
   ]
  },
  {
   "cell_type": "code",
   "execution_count": 25,
   "metadata": {},
   "outputs": [],
   "source": [
    "# Separa os grupos de controle e tratamento\n",
    "grupo_controle = dados[dados['grupo'] == 'controle']\n",
    "grupo_tratamento = dados[dados['grupo'] == 'tratamento']"
   ]
  },
  {
   "cell_type": "code",
   "execution_count": 26,
   "metadata": {},
   "outputs": [
    {
     "data": {
      "text/html": [
       "<div>\n",
       "<style scoped>\n",
       "    .dataframe tbody tr th:only-of-type {\n",
       "        vertical-align: middle;\n",
       "    }\n",
       "\n",
       "    .dataframe tbody tr th {\n",
       "        vertical-align: top;\n",
       "    }\n",
       "\n",
       "    .dataframe thead th {\n",
       "        text-align: right;\n",
       "    }\n",
       "</style>\n",
       "<table border=\"1\" class=\"dataframe\">\n",
       "  <thead>\n",
       "    <tr style=\"text-align: right;\">\n",
       "      <th></th>\n",
       "      <th>id_usuario</th>\n",
       "      <th>timestamp</th>\n",
       "      <th>grupo</th>\n",
       "      <th>pagina</th>\n",
       "      <th>converteu</th>\n",
       "    </tr>\n",
       "  </thead>\n",
       "  <tbody>\n",
       "    <tr>\n",
       "      <th>1</th>\n",
       "      <td>888545</td>\n",
       "      <td>2024-01-08 06:37:26.332945</td>\n",
       "      <td>controle</td>\n",
       "      <td>pagina_sem_cta</td>\n",
       "      <td>1</td>\n",
       "    </tr>\n",
       "    <tr>\n",
       "      <th>4</th>\n",
       "      <td>892356</td>\n",
       "      <td>2024-01-05 09:35:14.904865</td>\n",
       "      <td>controle</td>\n",
       "      <td>pagina_sem_cta</td>\n",
       "      <td>1</td>\n",
       "    </tr>\n",
       "    <tr>\n",
       "      <th>5</th>\n",
       "      <td>661590</td>\n",
       "      <td>2024-01-11 16:55:06.154213</td>\n",
       "      <td>controle</td>\n",
       "      <td>pagina_sem_cta</td>\n",
       "      <td>0</td>\n",
       "    </tr>\n",
       "    <tr>\n",
       "      <th>6</th>\n",
       "      <td>853541</td>\n",
       "      <td>2024-01-08 18:28:03.143765</td>\n",
       "      <td>controle</td>\n",
       "      <td>pagina_sem_cta</td>\n",
       "      <td>0</td>\n",
       "    </tr>\n",
       "    <tr>\n",
       "      <th>9</th>\n",
       "      <td>679687</td>\n",
       "      <td>2024-01-19 03:26:46.940749</td>\n",
       "      <td>controle</td>\n",
       "      <td>pagina_sem_cta</td>\n",
       "      <td>1</td>\n",
       "    </tr>\n",
       "  </tbody>\n",
       "</table>\n",
       "</div>"
      ],
      "text/plain": [
       "   id_usuario                   timestamp     grupo          pagina  converteu\n",
       "1      888545  2024-01-08 06:37:26.332945  controle  pagina_sem_cta          1\n",
       "4      892356  2024-01-05 09:35:14.904865  controle  pagina_sem_cta          1\n",
       "5      661590  2024-01-11 16:55:06.154213  controle  pagina_sem_cta          0\n",
       "6      853541  2024-01-08 18:28:03.143765  controle  pagina_sem_cta          0\n",
       "9      679687  2024-01-19 03:26:46.940749  controle  pagina_sem_cta          1"
      ]
     },
     "execution_count": 26,
     "metadata": {},
     "output_type": "execute_result"
    }
   ],
   "source": [
    "grupo_controle.head()"
   ]
  },
  {
   "cell_type": "code",
   "execution_count": 27,
   "metadata": {},
   "outputs": [
    {
     "data": {
      "text/html": [
       "<div>\n",
       "<style scoped>\n",
       "    .dataframe tbody tr th:only-of-type {\n",
       "        vertical-align: middle;\n",
       "    }\n",
       "\n",
       "    .dataframe tbody tr th {\n",
       "        vertical-align: top;\n",
       "    }\n",
       "\n",
       "    .dataframe thead th {\n",
       "        text-align: right;\n",
       "    }\n",
       "</style>\n",
       "<table border=\"1\" class=\"dataframe\">\n",
       "  <thead>\n",
       "    <tr style=\"text-align: right;\">\n",
       "      <th></th>\n",
       "      <th>id_usuario</th>\n",
       "      <th>timestamp</th>\n",
       "      <th>grupo</th>\n",
       "      <th>pagina</th>\n",
       "      <th>converteu</th>\n",
       "    </tr>\n",
       "  </thead>\n",
       "  <tbody>\n",
       "    <tr>\n",
       "      <th>0</th>\n",
       "      <td>847721</td>\n",
       "      <td>2024-01-17 14:01:00.090575</td>\n",
       "      <td>tratamento</td>\n",
       "      <td>pagina_com_cta</td>\n",
       "      <td>0</td>\n",
       "    </tr>\n",
       "    <tr>\n",
       "      <th>2</th>\n",
       "      <td>851104</td>\n",
       "      <td>2024-01-21 22:11:48.556739</td>\n",
       "      <td>tratamento</td>\n",
       "      <td>pagina_com_cta</td>\n",
       "      <td>0</td>\n",
       "    </tr>\n",
       "    <tr>\n",
       "      <th>3</th>\n",
       "      <td>804228</td>\n",
       "      <td>2024-01-12 08:01:45.159739</td>\n",
       "      <td>tratamento</td>\n",
       "      <td>pagina_com_cta</td>\n",
       "      <td>0</td>\n",
       "    </tr>\n",
       "    <tr>\n",
       "      <th>7</th>\n",
       "      <td>864975</td>\n",
       "      <td>2024-01-21 01:52:26.210827</td>\n",
       "      <td>tratamento</td>\n",
       "      <td>pagina_com_cta</td>\n",
       "      <td>1</td>\n",
       "    </tr>\n",
       "    <tr>\n",
       "      <th>8</th>\n",
       "      <td>936923</td>\n",
       "      <td>2024-01-10 15:20:49.083499</td>\n",
       "      <td>tratamento</td>\n",
       "      <td>pagina_com_cta</td>\n",
       "      <td>0</td>\n",
       "    </tr>\n",
       "  </tbody>\n",
       "</table>\n",
       "</div>"
      ],
      "text/plain": [
       "   id_usuario                   timestamp       grupo          pagina  \\\n",
       "0      847721  2024-01-17 14:01:00.090575  tratamento  pagina_com_cta   \n",
       "2      851104  2024-01-21 22:11:48.556739  tratamento  pagina_com_cta   \n",
       "3      804228  2024-01-12 08:01:45.159739  tratamento  pagina_com_cta   \n",
       "7      864975  2024-01-21 01:52:26.210827  tratamento  pagina_com_cta   \n",
       "8      936923  2024-01-10 15:20:49.083499  tratamento  pagina_com_cta   \n",
       "\n",
       "   converteu  \n",
       "0          0  \n",
       "2          0  \n",
       "3          0  \n",
       "7          1  \n",
       "8          0  "
      ]
     },
     "execution_count": 27,
     "metadata": {},
     "output_type": "execute_result"
    }
   ],
   "source": [
    "grupo_tratamento.head()"
   ]
  },
  {
   "cell_type": "code",
   "execution_count": 28,
   "metadata": {},
   "outputs": [],
   "source": [
    "# Calcule a média das taxas de conversão\n",
    "taxa_controle = grupo_controle['converteu'].mean()\n",
    "taxa_tratamento = grupo_tratamento['converteu'].mean()"
   ]
  },
  {
   "cell_type": "code",
   "execution_count": 29,
   "metadata": {},
   "outputs": [
    {
     "name": "stdout",
     "output_type": "stream",
     "text": [
      "Taxa de conversão do grupo controle: 11.89%\n",
      "Taxa de conversão do grupo tratamento: 12.04%\n"
     ]
    }
   ],
   "source": [
    "print(f\"Taxa de conversão do grupo controle: {taxa_controle:.2%}\")\n",
    "print(f\"Taxa de conversão do grupo tratamento: {taxa_tratamento:.2%}\")"
   ]
  },
  {
   "cell_type": "code",
   "execution_count": 30,
   "metadata": {},
   "outputs": [],
   "source": [
    "# Teste de hipóteses\n",
    "alfa = 0.05\n",
    "hipotese_nula = \"Não há diferença na taxa de conversão entre a pagina_com_cta e a pagina_sem_cta.\"\n",
    "hipotese_alternativa = \"Há diferença na taxa de conversão entre a pagina_com_cta e a pagina_sem_cta.\""
   ]
  },
  {
   "cell_type": "markdown",
   "metadata": {},
   "source": [
    "A função stats.ttest_ind() é uma função da biblioteca SciPy. Esta função realiza um Teste t de Student independente para duas amostras. O objetivo do Teste t é determinar se existe uma diferença estatisticamente significativa entre as médias de duas populações independentes.\n",
    "<!-- Projeto Desenvolvido na Data Science Academy - www.datascienceacademy.com.br -->\n",
    "A função stats.ttest_ind() recebe dois argumentos principais, que são as duas amostras (geralmente na forma de listas, arrays ou séries do pandas) para as quais você deseja testar a diferença entre as médias. A função retorna dois valores: a estatística t e o valor p.\n",
    "\n",
    "A estatística t é um valor calculado que ajuda a determinar a diferença entre as médias das duas amostras em relação ao erro padrão combinado das amostras. Um valor t grande (positivo ou negativo) indica uma diferença maior entre as médias, enquanto um valor t próximo de zero indica que as médias são semelhantes.\n",
    "\n",
    "O valor-p é uma medida de significância estatística. Ele indica a probabilidade de observar uma diferença igual ou maior do que a encontrada, assumindo que não há diferença real entre as médias das populações (ou seja, a hipótese nula é verdadeira). Um valor-p baixo (geralmente menor que 0,05) sugere que podemos rejeitar a hipótese nula e concluir que há uma diferença estatisticamente significativa entre as médias das duas populações."
   ]
  },
  {
   "cell_type": "markdown",
   "metadata": {},
   "source": [
    "https://docs.scipy.org/doc/scipy/reference/generated/scipy.stats.ttest_ind.html"
   ]
  },
  {
   "cell_type": "code",
   "execution_count": 31,
   "metadata": {},
   "outputs": [],
   "source": [
    "# Aplica o teste\n",
    "estatistica_t, p_valor = stats.ttest_ind(grupo_controle['converteu'], grupo_tratamento['converteu'])"
   ]
  },
  {
   "cell_type": "code",
   "execution_count": 32,
   "metadata": {},
   "outputs": [
    {
     "name": "stdout",
     "output_type": "stream",
     "text": [
      "Estatística t: -1.2410056296293919\n",
      "Valor-p: 0.21460465788124802\n"
     ]
    }
   ],
   "source": [
    "print(f\"Estatística t: {estatistica_t}\")\n",
    "print(f\"Valor-p: {p_valor}\")"
   ]
  },
  {
   "cell_type": "code",
   "execution_count": 33,
   "metadata": {},
   "outputs": [
    {
     "name": "stdout",
     "output_type": "stream",
     "text": [
      "Falhamos em rejeitar a hipótese nula.\n",
      "Não há diferença na taxa de conversão entre a pagina_com_cta e a pagina_sem_cta.\n"
     ]
    }
   ],
   "source": [
    "# Resultado\n",
    "if p_valor < alfa:\n",
    "    print(f\"Rejeitamos a hipótese nula.\\n{hipotese_alternativa}\")\n",
    "else:\n",
    "    print(f\"Falhamos em rejeitar a hipótese nula.\\n{hipotese_nula}\")"
   ]
  },
  {
   "cell_type": "markdown",
   "metadata": {},
   "source": [
    "> Vamos testar a normalidade das amostras."
   ]
  },
  {
   "cell_type": "code",
   "execution_count": 34,
   "metadata": {},
   "outputs": [],
   "source": [
    "# Import\n",
    "from scipy.stats import shapiro"
   ]
  },
  {
   "cell_type": "code",
   "execution_count": 35,
   "metadata": {},
   "outputs": [],
   "source": [
    "# Teste de Shapiro-Wilk para verificar a normalidade\n",
    "stat_A, p_A = shapiro(grupo_controle['converteu'])\n",
    "stat_B, p_B = shapiro(grupo_tratamento['converteu'])"
   ]
  },
  {
   "cell_type": "code",
   "execution_count": 36,
   "metadata": {},
   "outputs": [
    {
     "name": "stdout",
     "output_type": "stream",
     "text": [
      "Resultado do teste de Shapiro-Wilk para o Grupo de Controle: Estatística=0.377, Valor-p=0.000\n",
      "Resultado do teste de Shapiro-Wilk para o Grupo de Tratamento: Estatística=0.380, Valor-p=0.000\n"
     ]
    }
   ],
   "source": [
    "print(f\"Resultado do teste de Shapiro-Wilk para o Grupo de Controle: Estatística={stat_A:.3f}, Valor-p={p_A:.3f}\")\n",
    "print(f\"Resultado do teste de Shapiro-Wilk para o Grupo de Tratamento: Estatística={stat_B:.3f}, Valor-p={p_B:.3f}\")"
   ]
  },
  {
   "cell_type": "code",
   "execution_count": 37,
   "metadata": {},
   "outputs": [
    {
     "name": "stdout",
     "output_type": "stream",
     "text": [
      "Há evidências suficientes para rejeitar a hipótese de normalidade para o Grupo de Controle.\n",
      "Há evidências suficientes para rejeitar a hipótese de normalidade para o Grupo de Tratamento.\n"
     ]
    }
   ],
   "source": [
    "# Interpretando os resultados\n",
    "\n",
    "nivel_significancia = 0.05\n",
    "\n",
    "if p_A > nivel_significancia:\n",
    "    print(\"Não há evidências suficientes para rejeitar a hipótese de normalidade para o Grupo de Controle.\")\n",
    "else:\n",
    "    print(\"Há evidências suficientes para rejeitar a hipótese de normalidade para o Grupo de Controle.\")\n",
    "\n",
    "if p_B > nivel_significancia:\n",
    "    print(\"Não há evidências suficientes para rejeitar a hipótese de normalidade para o Grupo de Tratamento.\")\n",
    "else:\n",
    "    print(\"Há evidências suficientes para rejeitar a hipótese de normalidade para o Grupo de Tratamento.\")"
   ]
  },
  {
   "cell_type": "markdown",
   "metadata": {},
   "source": [
    "<!-- Projeto Desenvolvido na Data Science Academy - www.datascienceacademy.com.br -->\n",
    "Opa! Nossos dados não passaram na validação de uma das suposições do teste t. Logo, não poderemos usar as conclusões do teste t. Vamos aplicar uma alternativa não paramétrica."
   ]
  },
  {
   "cell_type": "markdown",
   "metadata": {},
   "source": [
    "## Teste de Mann-Whitney U\n",
    "\n",
    "O Teste de Mann-Whitney U é um teste estatístico não paramétrico utilizado para comparar as medianas de duas amostras independentes. É especialmente útil quando as premissas de normalidade dos dados não são atendidas, o que é comum em muitas situações práticas. O teste é uma alternativa ao teste t de Student para amostras independentes quando os dados não são normalmente distribuídos.\n",
    "<!-- Projeto Desenvolvido na Data Science Academy - www.datascienceacademy.com.br -->\n",
    "O Teste de Mann-Whitney U é adequado para testar a hipótese de que duas amostras provêm de distribuições com a mesma mediana. Ele é particularmente útil em estudos médicos, pesquisas sociais e outros campos onde as premissas de normalidade muitas vezes falham. Se o valor-p é pequeno (geralmente abaixo de 0,05), rejeita-se a hipótese nula, sugerindo uma diferença estatisticamente significativa entre as medianas dos grupos."
   ]
  },
  {
   "cell_type": "markdown",
   "metadata": {},
   "source": [
    "**Hipótese Nula (H0):**\n",
    "\n",
    "A hipótese nula afirma que as medianas das duas distribuições são iguais. Em outras palavras, não há diferença significativa na mediana entre o grupo de controle e o grupo de tratamento. \n",
    "\n",
    "**Hipótese Alternativa (H1):**\n",
    "\n",
    "A hipótese alternativa, no caso de um teste bicaudal (two-sided), afirma que as medianas das duas distribuições são diferentes. Isso não especifica qual grupo tem a mediana maior, apenas que uma diferença existe. "
   ]
  },
  {
   "cell_type": "code",
   "execution_count": 38,
   "metadata": {},
   "outputs": [],
   "source": [
    "# Teste de hipóteses\n",
    "alfa = 0.05\n",
    "hipotese_nula = \"Não há diferença significativa na mediana entre o grupo de controle e o grupo de tratamento.\"\n",
    "hipotese_alternativa = \"Há diferença significativa na mediana entre o grupo de controle e o grupo de tratamento.\""
   ]
  },
  {
   "cell_type": "code",
   "execution_count": 39,
   "metadata": {},
   "outputs": [],
   "source": [
    "# Import\n",
    "from scipy.stats import mannwhitneyu"
   ]
  },
  {
   "cell_type": "code",
   "execution_count": 40,
   "metadata": {},
   "outputs": [],
   "source": [
    "# Aplica o teste de Mann-Whitney\n",
    "estatistica_u, valor_p = mannwhitneyu(grupo_controle['converteu'], \n",
    "                                      grupo_tratamento['converteu'], \n",
    "                                      alternative = 'two-sided')"
   ]
  },
  {
   "cell_type": "markdown",
   "metadata": {},
   "source": [
    "Neste código, alternative='two-sided' especifica que o teste é bicaudal, o que é equivalente ao teste t bicaudal no contexto do teste t de Student. Esse teste é adequado quando você não tem uma hipótese específica sobre a direção da diferença entre os grupos."
   ]
  },
  {
   "cell_type": "code",
   "execution_count": 41,
   "metadata": {},
   "outputs": [
    {
     "name": "stdout",
     "output_type": "stream",
     "text": [
      "Estatística t: 10822245375.0\n",
      "Valor-p: 0.21460410389182238\n"
     ]
    }
   ],
   "source": [
    "print(f\"Estatística t: {estatistica_u}\")\n",
    "print(f\"Valor-p: {valor_p}\")"
   ]
  },
  {
   "cell_type": "code",
   "execution_count": 42,
   "metadata": {},
   "outputs": [
    {
     "name": "stdout",
     "output_type": "stream",
     "text": [
      "Falhamos em rejeitar a hipótese nula.\n",
      "Não há diferença significativa na mediana entre o grupo de controle e o grupo de tratamento.\n"
     ]
    }
   ],
   "source": [
    "# Resultado\n",
    "if p_valor < alfa:\n",
    "    print(f\"Rejeitamos a hipótese nula.\\n{hipotese_alternativa}\")\n",
    "else:\n",
    "    print(f\"Falhamos em rejeitar a hipótese nula.\\n{hipotese_nula}\")"
   ]
  },
  {
   "cell_type": "markdown",
   "metadata": {},
   "source": [
    "## Bônus - Teste A/B com Regressão Logística\n",
    "\n",
    "A regressão logística é um método estatístico utilizado para modelar a probabilidade de um evento ocorrer, com base na relação entre a variável dependente binária e uma ou mais variáveis independentes. Especificamente, ela é usada quando a variável de resposta é categórica e pode assumir apenas dois valores (por exemplo, sim ou não, sucesso ou fracasso, convertido ou não convertido).\n",
    "\n",
    "A regressão logística pode ser usada em modelagem estatística quando o objetivo é compreender a relação entre as variáveis (nosso caso neste projeto) e pode ser usada em Machine Learning quando o objetivo é construir um modelo para prever a variável alvo."
   ]
  },
  {
   "cell_type": "code",
   "execution_count": 43,
   "metadata": {},
   "outputs": [],
   "source": [
    "# Import\n",
    "from sklearn.linear_model import LogisticRegression"
   ]
  },
  {
   "cell_type": "code",
   "execution_count": 44,
   "metadata": {},
   "outputs": [
    {
     "data": {
      "text/html": [
       "<div>\n",
       "<style scoped>\n",
       "    .dataframe tbody tr th:only-of-type {\n",
       "        vertical-align: middle;\n",
       "    }\n",
       "\n",
       "    .dataframe tbody tr th {\n",
       "        vertical-align: top;\n",
       "    }\n",
       "\n",
       "    .dataframe thead th {\n",
       "        text-align: right;\n",
       "    }\n",
       "</style>\n",
       "<table border=\"1\" class=\"dataframe\">\n",
       "  <thead>\n",
       "    <tr style=\"text-align: right;\">\n",
       "      <th></th>\n",
       "      <th>id_usuario</th>\n",
       "      <th>timestamp</th>\n",
       "      <th>grupo</th>\n",
       "      <th>pagina</th>\n",
       "      <th>converteu</th>\n",
       "    </tr>\n",
       "  </thead>\n",
       "  <tbody>\n",
       "    <tr>\n",
       "      <th>0</th>\n",
       "      <td>847721</td>\n",
       "      <td>2024-01-17 14:01:00.090575</td>\n",
       "      <td>tratamento</td>\n",
       "      <td>pagina_com_cta</td>\n",
       "      <td>0</td>\n",
       "    </tr>\n",
       "    <tr>\n",
       "      <th>1</th>\n",
       "      <td>888545</td>\n",
       "      <td>2024-01-08 06:37:26.332945</td>\n",
       "      <td>controle</td>\n",
       "      <td>pagina_sem_cta</td>\n",
       "      <td>1</td>\n",
       "    </tr>\n",
       "    <tr>\n",
       "      <th>2</th>\n",
       "      <td>851104</td>\n",
       "      <td>2024-01-21 22:11:48.556739</td>\n",
       "      <td>tratamento</td>\n",
       "      <td>pagina_com_cta</td>\n",
       "      <td>0</td>\n",
       "    </tr>\n",
       "    <tr>\n",
       "      <th>3</th>\n",
       "      <td>804228</td>\n",
       "      <td>2024-01-12 08:01:45.159739</td>\n",
       "      <td>tratamento</td>\n",
       "      <td>pagina_com_cta</td>\n",
       "      <td>0</td>\n",
       "    </tr>\n",
       "    <tr>\n",
       "      <th>4</th>\n",
       "      <td>892356</td>\n",
       "      <td>2024-01-05 09:35:14.904865</td>\n",
       "      <td>controle</td>\n",
       "      <td>pagina_sem_cta</td>\n",
       "      <td>1</td>\n",
       "    </tr>\n",
       "  </tbody>\n",
       "</table>\n",
       "</div>"
      ],
      "text/plain": [
       "   id_usuario                   timestamp       grupo          pagina  \\\n",
       "0      847721  2024-01-17 14:01:00.090575  tratamento  pagina_com_cta   \n",
       "1      888545  2024-01-08 06:37:26.332945    controle  pagina_sem_cta   \n",
       "2      851104  2024-01-21 22:11:48.556739  tratamento  pagina_com_cta   \n",
       "3      804228  2024-01-12 08:01:45.159739  tratamento  pagina_com_cta   \n",
       "4      892356  2024-01-05 09:35:14.904865    controle  pagina_sem_cta   \n",
       "\n",
       "   converteu  \n",
       "0          0  \n",
       "1          1  \n",
       "2          0  \n",
       "3          0  \n",
       "4          1  "
      ]
     },
     "execution_count": 44,
     "metadata": {},
     "output_type": "execute_result"
    }
   ],
   "source": [
    "dados_filtrados.head()"
   ]
  },
  {
   "cell_type": "code",
   "execution_count": 45,
   "metadata": {},
   "outputs": [],
   "source": [
    "# Prepara os dados para a regressão\n",
    "\n",
    "# Adiciona uma coluna dummy onde 1 representa 'pagina_com_cta' e 0 'pagina_sem_cta'\n",
    "dados_filtrados['pagina_cta_dummy'] = np.where(dados_filtrados['pagina'] == 'pagina_com_cta', 1, 0)\n",
    "\n",
    "# Define a variável dependente (y) e independente (X)\n",
    "X = dados_filtrados[['pagina_cta_dummy']]\n",
    "y = dados_filtrados['converteu']\n",
    "\n",
    "# Ajusta o modelo de regressão logística\n",
    "modelo_dsa = LogisticRegression()\n",
    "modelo_dsa.fit(X, y)\n",
    "\n",
    "# Coeficientes do modelo\n",
    "coeficiente = modelo_dsa.coef_[0][0]\n",
    "odds_ratio = np.exp(coeficiente)"
   ]
  },
  {
   "cell_type": "code",
   "execution_count": 46,
   "metadata": {},
   "outputs": [
    {
     "name": "stdout",
     "output_type": "stream",
     "text": [
      "0.015575832009267005\n"
     ]
    }
   ],
   "source": [
    "print(coeficiente)"
   ]
  },
  {
   "cell_type": "code",
   "execution_count": 47,
   "metadata": {},
   "outputs": [
    {
     "name": "stdout",
     "output_type": "stream",
     "text": [
      "1.0156977675405234\n"
     ]
    }
   ],
   "source": [
    "print(odds_ratio)"
   ]
  },
  {
   "cell_type": "markdown",
   "metadata": {},
   "source": [
    "### Interpretação\n",
    "\n",
    "A interpretação do coeficiente e do odds ratio no contexto de uma regressão logística envolve entender como a variável independente afeta a probabilidade do evento de interesse (neste caso, conversão).\n",
    "\n",
    "Os coeficientes do modelo de regressão logística podem ser interpretados em termos de log-odds (logit ou coef) e odds ratios. \n",
    "\n",
    "Vamos entender como interpretar essas medidas:\n",
    "\n",
    "**Log-odds (coeficientes)**:\n",
    "\n",
    "Os coeficientes do modelo de regressão logística representam o efeito de uma unidade de mudança na variável independente (explicativa) sobre o log-odds da variável dependente (resposta). \n",
    "\n",
    "Um coeficiente positivo indica que, à medida que a variável independente aumenta, o log-odds da variável dependente também aumenta, tornando o evento mais provável. Por outro lado, um coeficiente negativo indica que, à medida que a variável independente aumenta, o log-odds da variável dependente diminui, tornando o evento menos provável.\n",
    "\n",
    "**Odds ratios**:\n",
    "\n",
    "As odds ratios são obtidas ao exponenciar os coeficientes do modelo de regressão logística. Uma odds ratio (OR) representa o fator de mudança nas odds da variável dependente em resposta a uma unidade de mudança na variável independente. Aqui estão algumas interpretações básicas para as odds ratios:\n",
    "\n",
    "- OR = 1: A variável independente não tem efeito sobre a variável dependente.\n",
    "\n",
    "\n",
    "- OR > 1: A variável independente tem um efeito positivo sobre a variável dependente. À medida que a variável independente aumenta, as odds da variável dependente também aumentam.\n",
    "\n",
    "\n",
    "- OR < 1: A variável independente tem um efeito negativo sobre a variável dependente. À medida que a variável independente aumenta, as odds da variável dependente diminuem."
   ]
  },
  {
   "cell_type": "markdown",
   "metadata": {},
   "source": [
    "Logo...\n",
    "\n",
    "O coeficiente na regressão logística, também conhecido como logit, representa a mudança no logaritmo das odds (chances) de o evento ocorrer (por exemplo, uma conversão) para cada unidade de aumento na variável independente, mantendo constantes todas as outras variáveis. Em nosso exemplo:\n",
    "\n",
    "**Coeficiente = 0.015042010392362316**\n",
    "\n",
    "Este valor indica que, para cada mudança unitária na variável pagina_cta_dummy (de 0 para 1, ou seja, mudando de uma página sem CTA para uma página com CTA), o logaritmo das odds de conversão aumenta em 0.015042. Em termos mais simples, isso sugere um efeito positivo, ainda que pequeno, da presença de um CTA na probabilidade de conversão.\n",
    "\n",
    "O odds ratio é a exponenciação do coeficiente da regressão logística e oferece uma interpretação mais direta em termos de multiplicador de odds:\n",
    "\n",
    "**Odds Ratio = 1.015155710809641**\n",
    "\n",
    "Este valor significa que a presença de um CTA na página (comparada à ausência) multiplica as odds de conversão por aproximadamente 1.015. Isso indica que, quando um CTA está presente, as odds de conversão são 1.5% mais altas do que quando não está presente.\n",
    "\n",
    "Interpretação Prática\n",
    "\n",
    "Em nosso contexto, um odds ratio de 1.015 não representa uma mudança muito grande nas odds de conversão. No entanto, ainda é uma mudança positiva, indicando que a presença de um CTA tem um impacto ligeiramente positivo na probabilidade de conversão. É importante notar que a magnitude deste efeito pode ser considerada pequena e que devemos avaliar se essa mudança é estatisticamente significativa e relevante do ponto de vista prático para as decisões de negócios ou de design de página. Foi exatamente o que fizemos ao aplicar os testes estatísticos nas etapas anteriores deste projeto."
   ]
  },
  {
   "cell_type": "markdown",
   "metadata": {},
   "source": [
    "## Conclusão\n",
    "\n",
    "- Fizemos a análise de um Teste A/B para um site de comércio eletrônico a fim de ajudar a decidir se a empresa deveria implementar uma nova página, manter a página antiga ou talvez executar o experimento por mais tempo.\n",
    "\n",
    "- A partir do resultado da análise, descobrimos que a hipótese de a nova página obter maior taxa de conversão tem uma probabilidade muito baixa, portanto, acreditamos que permanecer com a página antiga é uma decisão mais adequada.\n",
    "\n",
    "Projeto concluído com sucesso!"
   ]
  },
  {
   "cell_type": "code",
   "execution_count": 48,
   "metadata": {},
   "outputs": [
    {
     "name": "stdout",
     "output_type": "stream",
     "text": [
      "Author: Data Science Academy\n",
      "\n"
     ]
    }
   ],
   "source": [
    "%reload_ext watermark\n",
    "%watermark -a \"Data Science Academy\""
   ]
  },
  {
   "cell_type": "code",
   "execution_count": 49,
   "metadata": {},
   "outputs": [],
   "source": [
    "#%watermark -v -m"
   ]
  },
  {
   "cell_type": "code",
   "execution_count": 50,
   "metadata": {},
   "outputs": [],
   "source": [
    "#%watermark --iversions"
   ]
  },
  {
   "cell_type": "markdown",
   "metadata": {},
   "source": [
    "# Fim"
   ]
  }
 ],
 "metadata": {
  "colab": {
   "collapsed_sections": [
    "Km-PPppD6ecu"
   ],
   "name": "Analyze_ab_test_results_notebook.ipynb",
   "provenance": []
  },
  "kernelspec": {
   "display_name": "Python 3 (ipykernel)",
   "language": "python",
   "name": "python3"
  },
  "language_info": {
   "codemirror_mode": {
    "name": "ipython",
    "version": 3
   },
   "file_extension": ".py",
   "mimetype": "text/x-python",
   "name": "python",
   "nbconvert_exporter": "python",
   "pygments_lexer": "ipython3",
   "version": "3.11.5"
  },
  "vscode": {
   "interpreter": {
    "hash": "495ea94611aaceeb69760baf3d5aae885e1a594ff5e369c87eccf4be1e364dd3"
   }
  }
 },
 "nbformat": 4,
 "nbformat_minor": 1
}
