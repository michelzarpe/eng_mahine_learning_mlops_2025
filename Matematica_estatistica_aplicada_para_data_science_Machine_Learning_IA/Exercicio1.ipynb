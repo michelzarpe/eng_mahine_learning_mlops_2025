{
 "cells": [
  {
   "cell_type": "markdown",
   "metadata": {},
   "source": [
    "<!-- Projeto Desenvolvido na Data Science Academy - www.datascienceacademy.com.br -->\n",
    "# <font color='blue'>Data Science Academy</font>\n",
    "## <font color='blue'>Matemática e Estatística Aplicada Para Data Science, Machine Learning e IA</font>\n",
    "## <font color='blue'>Lista de Exercícios 1</font>\n",
    "## <font color='blue'>Matemática Fundamental com Linguagem Python</font>"
   ]
  },
  {
   "cell_type": "markdown",
   "metadata": {},
   "source": [
    "### Instalando e Carregando Pacotes"
   ]
  },
  {
   "cell_type": "code",
   "execution_count": 1,
   "metadata": {},
   "outputs": [],
   "source": [
    "# Para atualizar um pacote, execute o comando abaixo no terminal ou prompt de comando:\n",
    "# pip install -U nome_pacote\n",
    "\n",
    "# Para instalar a versão exata de um pacote, execute o comando abaixo no terminal ou prompt de comando:\n",
    "# !pip install nome_pacote==versão_desejada\n",
    "\n",
    "# Depois de instalar ou atualizar o pacote, reinicie o jupyter notebook.\n",
    "\n",
    "# Instala o pacote watermark. \n",
    "# Esse pacote é usado para gravar as versões de outros pacotes usados neste jupyter notebook.\n",
    "!pip install -q -U watermark"
   ]
  },
  {
   "cell_type": "code",
   "execution_count": 2,
   "metadata": {},
   "outputs": [
    {
     "name": "stdout",
     "output_type": "stream",
     "text": [
      "Author: Michel Zarpelon\n",
      "\n"
     ]
    }
   ],
   "source": [
    "# Versões dos pacotes usados neste jupyter notebook\n",
    "%reload_ext watermark\n",
    "%watermark -a \"Michel Zarpelon\" --iversions"
   ]
  },
  {
   "cell_type": "markdown",
   "metadata": {},
   "source": [
    "**Resolva os exercícios abaixo usando Linguagem Python. Faça pesquisa complementar se necessário.**"
   ]
  },
  {
   "cell_type": "markdown",
   "metadata": {},
   "source": [
    "### Exercício 1: Cálculo de Área de um Círculo\n",
    "\n",
    "Escreva um programa que calcula a área de um círculo. O usuário deve fornecer o raio e o programa deve retornar a área."
   ]
  },
  {
   "cell_type": "code",
   "execution_count": 66,
   "metadata": {},
   "outputs": [
    {
     "data": {
      "text/plain": [
       "6361.5375"
      ]
     },
     "execution_count": 66,
     "metadata": {},
     "output_type": "execute_result"
    }
   ],
   "source": [
    "valor_digitado = 45\n",
    "pi = 3.1415\n",
    "area_circulo = pi * valor_digitado ** 2\n",
    "area_circulo\n"
   ]
  },
  {
   "cell_type": "markdown",
   "metadata": {},
   "source": [
    "### Exercício 2: Conversão de Temperatura\n",
    "\n",
    "Crie uma função que converte a temperatura de Celsius para Fahrenheit e vice-versa. O usuário deve informar a temperatura e a escala de origem."
   ]
  },
  {
   "cell_type": "code",
   "execution_count": 69,
   "metadata": {},
   "outputs": [
    {
     "data": {
      "text/plain": [
       "32.0"
      ]
     },
     "execution_count": 69,
     "metadata": {},
     "output_type": "execute_result"
    }
   ],
   "source": [
    "def convert(temperatura, escala_origin):\n",
    "    if(escala_origin.upper()=='C'):\n",
    "        return (temperatura * (5 / 9)) + 32 #retorna em F\n",
    "    elif(escala_origin.upper() =='F'):\n",
    "        return ((temperatura - 32) * (5 / 9)) #retorna em C\n",
    "    else:\n",
    "        return \"F ou C\"\n",
    "\n",
    "convert(0,'c')"
   ]
  },
  {
   "cell_type": "markdown",
   "metadata": {},
   "source": [
    "### Exercício 3: Resolver uma Equação Linear\n",
    "\n",
    "Faça um programa que resolve uma equação linear do tipo ax + b = 0. Os valores de a e b são fornecidos pelo usuário."
   ]
  },
  {
   "cell_type": "code",
   "execution_count": 70,
   "metadata": {},
   "outputs": [
    {
     "name": "stdout",
     "output_type": "stream",
     "text": [
      "-0.7142857142857143\n"
     ]
    }
   ],
   "source": [
    "a = 7\n",
    "b = 5\n",
    "if(a>0):\n",
    "    print(str(-b/a))"
   ]
  },
  {
   "cell_type": "markdown",
   "metadata": {},
   "source": [
    "### Exercício 4: Cálculo de Média Aritmética\n",
    "\n",
    "Escreva um programa que calcula a média aritmética de uma lista de números fornecida pelo usuário."
   ]
  },
  {
   "cell_type": "code",
   "execution_count": 23,
   "metadata": {},
   "outputs": [
    {
     "data": {
      "text/plain": [
       "8.166666666666666"
      ]
     },
     "execution_count": 23,
     "metadata": {},
     "output_type": "execute_result"
    }
   ],
   "source": [
    "list_numeros = [1,3,5,7,11,22]\n",
    "soma = sum(list_numeros)\n",
    "media = soma / len(list_numeros)\n",
    "media"
   ]
  },
  {
   "cell_type": "markdown",
   "metadata": {},
   "source": [
    "### Exercício 5: Determinar as Raízes de uma Equação Quadrática\n",
    "\n",
    "Crie um programa que encontra as raízes de uma equação quadrática do tipo ax^2 + bx + c = 0. O programa deve lidar com todos os tipos de raízes (reais e complexas)."
   ]
  },
  {
   "cell_type": "code",
   "execution_count": 72,
   "metadata": {},
   "outputs": [
    {
     "name": "stdout",
     "output_type": "stream",
     "text": [
      "Qual o valor de a: 45\n",
      "Qual o valor de b: 12\n",
      "Qual o valor de c: 75\n",
      "delta = 115.56816170554933j\n",
      "raiz = (-0.13333333333333333+1.2840906856172147j)\n",
      "raiz2 = (-0.13333333333333333-1.2840906856172147j)\n",
      "Retorno x': (-0.13333333333333333+1.2840906856172147j) x'': (-0.13333333333333333-1.2840906856172147j)\n"
     ]
    }
   ],
   "source": [
    "import cmath\n",
    "\n",
    "def raizQuadratica(a,b,c):\n",
    "    delta = cmath.sqrt(b**2 - 4*a*c)\n",
    "    print(\"delta = \"+ str(delta))\n",
    "    raiz = ((-1 * b) + delta) / (2 * a)\n",
    "    print(\"raiz = \" + str(raiz))\n",
    "    raiz2 = ((-1 * b) - delta) / (2*a)\n",
    "    print(\"raiz2 = \" + str(raiz2))\n",
    "    \n",
    "    print(\"Retorno x': \"+str(raiz) +\" x'': \"+str(raiz2))\n",
    "    \n",
    "a = int(input (\"Qual o valor de a: \" ))\n",
    "b = int(input (\"Qual o valor de b: \" ))\n",
    "c = int(input (\"Qual o valor de c: \" ))\n",
    "\n",
    "raizQuadratica(a,b,c)\n",
    "    "
   ]
  },
  {
   "cell_type": "markdown",
   "metadata": {},
   "source": [
    "### Exercício 6: Calcular o Fatorial de um Número\n",
    "\n",
    "Escreva uma função que calcula o fatorial de um número inteiro fornecido pelo usuário."
   ]
  },
  {
   "cell_type": "code",
   "execution_count": 75,
   "metadata": {},
   "outputs": [
    {
     "name": "stdout",
     "output_type": "stream",
     "text": [
      "Fatorial de: 5\n"
     ]
    },
    {
     "data": {
      "text/plain": [
       "120"
      ]
     },
     "execution_count": 75,
     "metadata": {},
     "output_type": "execute_result"
    }
   ],
   "source": [
    "def fatorial(numero):\n",
    "    return 1 if numero == 0 else numero * fatorial(numero -1)\n",
    "\n",
    "numero = int(input(\"Fatorial de: \") )\n",
    "fatorial(numero)"
   ]
  },
  {
   "cell_type": "code",
   "execution_count": 73,
   "metadata": {},
   "outputs": [
    {
     "name": "stdout",
     "output_type": "stream",
     "text": [
      "Fatorial de: 5\n",
      "resultado (1) = resultado (1) *  contador (1)\n",
      "resultado (2) = resultado (1) *  contador (2)\n",
      "resultado (6) = resultado (2) *  contador (3)\n",
      "resultado (24) = resultado (6) *  contador (4)\n",
      "resultado (120) = resultado (24) *  contador (5)\n",
      "resultador: 120\n"
     ]
    }
   ],
   "source": [
    "numero = int(input(\"Fatorial de: \") )\n",
    "resultado = 1\n",
    "contador = 1\n",
    "\n",
    "while contador <= numero:\n",
    "    print(\"resultado (\" + str(resultado * contador) + \") = resultado (\" + str(resultado) + \") *  contador (\" + str(contador) + \")\")\n",
    "    resultado = resultado * contador\n",
    "    contador = contador + 1\n",
    "\n",
    "print(\"resultador: \"+str(resultado))"
   ]
  },
  {
   "cell_type": "markdown",
   "metadata": {},
   "source": [
    "### Exercício 7: Sequência de Fibonacci\n",
    "\n",
    "Crie um programa que gera a sequência de Fibonacci até um determinado número n fornecido pelo usuário."
   ]
  },
  {
   "cell_type": "code",
   "execution_count": 85,
   "metadata": {},
   "outputs": [
    {
     "name": "stdout",
     "output_type": "stream",
     "text": [
      "Quantidade de termos para retornar: 1\n",
      "[0, 1]\n"
     ]
    }
   ],
   "source": [
    "n = int(input(\"Quantidade de termos para retornar: \") )\n",
    "\n",
    "t1 = 0\n",
    "t2 = 1\n",
    "t3 = 0\n",
    "t4 = []\n",
    "t4.append(t1)\n",
    "t4.append(t2)\n",
    "contador = 0\n",
    "\n",
    "while contador < n-2:\n",
    "    print(contador)\n",
    "    t3 = t1 + t2\n",
    "    t4.append(t3)\n",
    "    t1 = t2\n",
    "    t2 = t3\n",
    "    contador = contador + 1\n",
    "    \n",
    "\n",
    "print(t4)\n",
    "\n",
    "\n"
   ]
  },
  {
   "cell_type": "markdown",
   "metadata": {},
   "source": [
    "### Exercício 8: Cálculo de Juros Compostos\n",
    "\n",
    "Faça um programa que calcula o montante final de um investimento com juros compostos. O usuário deve fornecer o capital inicial, a taxa de juros anual, e o número de anos."
   ]
  },
  {
   "cell_type": "code",
   "execution_count": 92,
   "metadata": {},
   "outputs": [
    {
     "name": "stdout",
     "output_type": "stream",
     "text": [
      "Capital Inicial: 10000\n",
      "Taxa de juros a.a: 0.05\n",
      "Numero anos: 6\n"
     ]
    },
    {
     "data": {
      "text/plain": [
       "13400.956406250005"
      ]
     },
     "execution_count": 92,
     "metadata": {},
     "output_type": "execute_result"
    }
   ],
   "source": [
    "cp = float(input (\"Capital Inicial: \" ))\n",
    "tx = float(input (\"Taxa de juros a.a: \" ))\n",
    "na = int(input (\"Numero anos: \" ))\n",
    "\n",
    "m = cp * (1 + tx) ** na\n",
    "m"
   ]
  },
  {
   "cell_type": "markdown",
   "metadata": {},
   "source": [
    "### Exercício 9: Conversão de Moedas\n",
    "\n",
    "Escreva um programa que converte uma quantidade de uma moeda (como dólar) para outra (como euro), considerando uma taxa de câmbio fornecida pelo usuário."
   ]
  },
  {
   "cell_type": "code",
   "execution_count": 64,
   "metadata": {},
   "outputs": [
    {
     "name": "stdout",
     "output_type": "stream",
     "text": [
      "Dolar: 2345.34\n",
      "Taxa de cambio para real: 5.76\n"
     ]
    },
    {
     "data": {
      "text/plain": [
       "13509.1584"
      ]
     },
     "execution_count": 64,
     "metadata": {},
     "output_type": "execute_result"
    }
   ],
   "source": [
    "cp = float(input (\"Dolar: \" ))\n",
    "tx = float(input (\"Taxa de cambio para real: \" ))\n",
    "cp * tx"
   ]
  },
  {
   "cell_type": "markdown",
   "metadata": {},
   "source": [
    "### Exercício 10: Verificar se um Número é Primo\n",
    "\n",
    "Crie uma função que verifica se um número fornecido pelo usuário é primo ou não."
   ]
  },
  {
   "cell_type": "code",
   "execution_count": 95,
   "metadata": {},
   "outputs": [
    {
     "name": "stdout",
     "output_type": "stream",
     "text": [
      "Digite um numero47\n",
      "equação: 7\n",
      "primo\n"
     ]
    },
    {
     "data": {
      "text/plain": [
       "True"
      ]
     },
     "execution_count": 95,
     "metadata": {},
     "output_type": "execute_result"
    }
   ],
   "source": [
    "def e_primo(n):\n",
    "    if n<2:\n",
    "        print(\"não primo\")\n",
    "        return False\n",
    "    print(\"equação: \"+str(int(n**0.5)+1))\n",
    "    for i in range(2, int(n**0.5)+1):\n",
    "        if n % i == 0:\n",
    "            print(\"não é primo\")\n",
    "            return False\n",
    "        \n",
    "    print(\"primo\")    \n",
    "    return True\n",
    "    \n",
    "\n",
    "n = float(input (\"Digite um numero\" ))\n",
    "e_primo(n)\n",
    "    \n",
    "    "
   ]
  },
  {
   "cell_type": "code",
   "execution_count": null,
   "metadata": {},
   "outputs": [],
   "source": [
    "%reload_ext watermark\n",
    "%watermark -a \"Data Science Academy\""
   ]
  },
  {
   "cell_type": "code",
   "execution_count": null,
   "metadata": {},
   "outputs": [],
   "source": [
    "#%watermark -v -m"
   ]
  },
  {
   "cell_type": "markdown",
   "metadata": {},
   "source": [
    "# Fim"
   ]
  }
 ],
 "metadata": {
  "kernelspec": {
   "display_name": "Python 3 (ipykernel)",
   "language": "python",
   "name": "python3"
  },
  "language_info": {
   "codemirror_mode": {
    "name": "ipython",
    "version": 3
   },
   "file_extension": ".py",
   "mimetype": "text/x-python",
   "name": "python",
   "nbconvert_exporter": "python",
   "pygments_lexer": "ipython3",
   "version": "3.11.5"
  }
 },
 "nbformat": 4,
 "nbformat_minor": 2
}
