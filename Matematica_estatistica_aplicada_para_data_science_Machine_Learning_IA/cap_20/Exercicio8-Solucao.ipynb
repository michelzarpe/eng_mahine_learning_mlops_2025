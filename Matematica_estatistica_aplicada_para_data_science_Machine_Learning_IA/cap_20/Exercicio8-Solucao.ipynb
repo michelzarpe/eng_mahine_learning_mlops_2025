{
 "cells": [
  {
   "cell_type": "markdown",
   "metadata": {},
   "source": [
    "<!-- Projeto Desenvolvido na Data Science Academy - www.datascienceacademy.com.br -->\n",
    "# <font color='blue'>Data Science Academy</font>\n",
    "## <font color='blue'>Matemática e Estatística Aplicada Para Data Science, Machine Learning e IA</font>\n",
    "## <font color='blue'>Lista de Exercícios 8</font>\n",
    "### <font color='blue'>Distribuições de Probabilidade Para Resolver Problemas de Negócio</font>"
   ]
  },
  {
   "cell_type": "markdown",
   "metadata": {},
   "source": [
    "## Instalando e Carregando os Pacotes"
   ]
  },
  {
   "cell_type": "code",
   "execution_count": 1,
   "metadata": {},
   "outputs": [],
   "source": [
    "# Para atualizar um pacote, execute o comando abaixo no terminal ou prompt de comando:\n",
    "# pip install -U nome_pacote\n",
    "\n",
    "# Para instalar a versão exata de um pacote, execute o comando abaixo no terminal ou prompt de comando:\n",
    "# !pip install nome_pacote==versão_desejada\n",
    "\n",
    "# Depois de instalar ou atualizar o pacote, reinicie o jupyter notebook.\n",
    "\n",
    "# Instala o pacote watermark. \n",
    "# Esse pacote é usado para gravar as versões de outros pacotes usados neste jupyter notebook.\n",
    "!pip install -q -U watermark"
   ]
  },
  {
   "cell_type": "code",
   "execution_count": 2,
   "metadata": {},
   "outputs": [
    {
     "name": "stdout",
     "output_type": "stream",
     "text": [
      "Author: Data Science Academy\n",
      "\n"
     ]
    }
   ],
   "source": [
    "# Versões dos pacotes usados neste jupyter notebook\n",
    "%reload_ext watermark\n",
    "%watermark -a \"Data Science Academy\" "
   ]
  },
  {
   "cell_type": "markdown",
   "metadata": {},
   "source": [
    "## Exercício 1\n",
    "\n",
    "Vamos imaginar um cenário de negócios onde uma empresa de consultoria realiza análises de mercado para cinco diferentes setores: tecnologia, saúde, finanças, energia e varejo. A empresa tem um modelo de negócios no qual, a cada mês, escolhe aleatoriamente um desses setores para oferecer uma análise de mercado gratuita como parte de sua estratégia de marketing para atrair novos clientes. Suponha que a escolha do setor seja feita de forma que cada um tenha igual probabilidade de ser selecionado. \n",
    "\n",
    "Calcule a probabilidade de cada setor ser escolhido ao longo de um ano."
   ]
  },
  {
   "cell_type": "code",
   "execution_count": 3,
   "metadata": {},
   "outputs": [
    {
     "name": "stdout",
     "output_type": "stream",
     "text": [
      "0.2\n"
     ]
    }
   ],
   "source": [
    "# Definindo os parâmetros do problema\n",
    "numero_de_setores = 5\n",
    "meses_no_ano = 12\n",
    "\n",
    "# Cada setor tem uma igual probabilidade de ser escolhido a cada mês,\n",
    "# então a probabilidade de cada setor ser escolhido em um mês específico é 1/numero_de_setores.\n",
    "# Ao longo de um ano, essa probabilidade não muda, pois cada mês é um evento independente.\n",
    "\n",
    "# Calculando a probabilidade\n",
    "probabilidade_por_mes = 1 / numero_de_setores\n",
    "\n",
    "# Como queremos a probabilidade ao longo de um ano, mas cada mês é independente,\n",
    "# e estamos interessados apenas na probabilidade de escolha mensal (não acumulativa ao longo do ano),\n",
    "# a probabilidade de um setor ser escolhido em qualquer mês específico permanece a mesma.\n",
    "probabilidade_ao_longo_do_ano = probabilidade_por_mes\n",
    "\n",
    "print(probabilidade_ao_longo_do_ano)"
   ]
  },
  {
   "cell_type": "markdown",
   "metadata": {},
   "source": [
    "## Exercício 2\n",
    "\n",
    "Considere uma empresa que está lançando uma nova campanha de marketing por e-mail, destinada a promover um de seus produtos. A partir de experiências passadas, a empresa sabe que a taxa de abertura esperada para esses e-mails é de 20%. A campanha envolve o envio de 100 e-mails para potenciais clientes. \n",
    "\n",
    "A empresa está interessada em saber qual é a probabilidade de pelo menos 25 desses e-mails serem abertos, o que considera um indicador de sucesso da campanha.\n",
    "\n",
    "Este é um problema clássico que pode ser modelado usando a distribuição binomial, onde o número de ensaios n é igual a 100 (e-mails enviados), a probabilidade de sucesso p (abertura de um e-mail) é de 0,2, e queremos encontrar a probabilidade de k ≥ 25 sucessos (e-mails abertos).\n",
    "\n",
    "Para calcular essa probabilidade em Python, podemos usar a biblioteca scipy.stats e a função binom.cdf(k, n, p), que retorna a probabilidade cumulativa de obter até k sucessos em n ensaios Bernoulli, cada um com probabilidade p de sucesso. A probabilidade de obter pelo menos 25 sucessos é o complemento da probabilidade de obter até 24 sucessos."
   ]
  },
  {
   "cell_type": "code",
   "execution_count": 4,
   "metadata": {},
   "outputs": [
    {
     "name": "stdout",
     "output_type": "stream",
     "text": [
      "A probabilidade de pelo menos 25 e-mails serem abertos é de 13.14%\n"
     ]
    }
   ],
   "source": [
    "from scipy.stats import binom\n",
    "\n",
    "# Define os parâmetros da distribuição binomial\n",
    "n = 100  # número total de e-mails enviados\n",
    "p = 0.2  # probabilidade de abertura de cada e-mail\n",
    "\n",
    "# Calcula a probabilidade de obter até 24 aberturas de e-mail\n",
    "probabilidade_ate_24 = binom.cdf(24, n, p)\n",
    "\n",
    "# Calcula a probabilidade de obter pelo menos 25 aberturas de e-mail\n",
    "probabilidade_pelo_menos_25 = 1 - probabilidade_ate_24\n",
    "\n",
    "print(f\"A probabilidade de pelo menos 25 e-mails serem abertos é de {probabilidade_pelo_menos_25 * 100:.2f}%\")"
   ]
  },
  {
   "cell_type": "markdown",
   "metadata": {},
   "source": [
    "Este exemplo ilustra como a distribuição binomial pode ser aplicada a problemas do mundo dos negócios, especialmente na análise de resultados de campanhas de marketing, onde eventos binários (como a abertura ou não de um e-mail) ocorrem com uma certa probabilidade.\n",
    "\n",
    "\n",
    "\n",
    "\n",
    "\n"
   ]
  },
  {
   "cell_type": "markdown",
   "metadata": {},
   "source": [
    "## Exercício 3\n",
    "\n",
    "Imagine uma loja de varejo online que, historicamente, recebe em média 12 pedidos por hora. A gerente deseja entender melhor como isso se traduz em termos de fluxo de pedidos ao longo do dia para otimizar suas operações, incluindo alocação de pessoal, gestão de estoque e capacidade de atendimento ao cliente. Uma questão específica é: qual a probabilidade de a loja receber exatamente 15 pedidos em uma determinada hora?\n",
    "\n",
    "Este cenário é ideal para ser modelado pela distribuição de Poisson, que é usada para prever a probabilidade de ocorrência de um número de eventos em um intervalo de tempo fixo, dado uma taxa média de ocorrência (λ) conhecida e eventos ocorrendo independentemente um do outro.\n",
    "\n",
    "Para calcular a probabilidade de ocorrerem exatamente 15 pedidos em uma hora, dada uma taxa média de 12 pedidos por hora, podemos usar Python com a biblioteca scipy.stats e sua função poisson.pmf(k, lambda), onde k é o número de ocorrências que queremos calcular a probabilidade (15 pedidos), e lambda é a taxa média de ocorrências por intervalo de tempo (12 pedidos/hora).\n"
   ]
  },
  {
   "cell_type": "code",
   "execution_count": 5,
   "metadata": {},
   "outputs": [
    {
     "name": "stdout",
     "output_type": "stream",
     "text": [
      "A probabilidade de receber exatamente 15 pedidos em uma hora é de 7.24%\n"
     ]
    }
   ],
   "source": [
    "from scipy.stats import poisson\n",
    "\n",
    "# Define a taxa média de pedidos por hora\n",
    "lambda_ = 12\n",
    "\n",
    "# Número de pedidos para o qual queremos calcular a probabilidade\n",
    "k = 15\n",
    "\n",
    "# Calcula a probabilidade de receber exatamente 15 pedidos em uma hora\n",
    "probabilidade = poisson.pmf(k, lambda_)\n",
    "\n",
    "print(f\"A probabilidade de receber exatamente 15 pedidos em uma hora é de {probabilidade * 100:.2f}%\")"
   ]
  },
  {
   "cell_type": "markdown",
   "metadata": {},
   "source": [
    "Este cálculo oferece à gestão da loja insights valiosos sobre o padrão de chegada dos pedidos, permitindo-lhes planejar de forma mais eficaz a alocação de recursos para maximizar a eficiência operacional e a satisfação do cliente. Este exemplo mostra a aplicabilidade da distribuição de Poisson para modelar e analisar a frequência de eventos em um intervalo de tempo no contexto empresarial, especialmente em operações, logística e planejamento de capacidade."
   ]
  },
  {
   "cell_type": "markdown",
   "metadata": {},
   "source": [
    "## Exercício 4\n",
    "\n",
    "Considere uma startup de tecnologia que está testando uma nova funcionalidade no seu aplicativo. A partir de testes anteriores, a empresa estima que a probabilidade de um teste de usuário resultar em uma avaliação positiva da nova funcionalidade é de 10%. A startup está interessada em entender qual é a probabilidade de que o primeiro feedback positivo ocorra apenas no quinto teste de usuário. Este é um cenário típico para aplicar a distribuição geométrica, que modela o número de tentativas até o primeiro sucesso, onde cada tentativa é independente e tem a mesma probabilidade de sucesso.\n",
    "\n",
    "Para calcular essa probabilidade em Python, podemos usar a biblioteca scipy.stats e sua função geom.pmf(k, p), onde k é o número de tentativas até o primeiro sucesso (neste caso, 5) e p é a probabilidade de sucesso em cada tentativa (neste caso, 10% ou 0.1)."
   ]
  },
  {
   "cell_type": "code",
   "execution_count": 6,
   "metadata": {},
   "outputs": [
    {
     "name": "stdout",
     "output_type": "stream",
     "text": [
      "A probabilidade de o primeiro feedback positivo ocorrer na 5ª tentativa é de 6.56%\n"
     ]
    }
   ],
   "source": [
    "from scipy.stats import geom\n",
    "\n",
    "# Define a probabilidade de sucesso em cada tentativa\n",
    "p = 0.1  # 10%\n",
    "\n",
    "# Número de tentativas até o primeiro sucesso\n",
    "k = 5\n",
    "\n",
    "# Calcula a probabilidade de o primeiro sucesso ocorrer na 5ª tentativa\n",
    "probabilidade = geom.pmf(k, p)\n",
    "\n",
    "print(f\"A probabilidade de o primeiro feedback positivo ocorrer na 5ª tentativa é de {probabilidade * 100:.2f}%\")"
   ]
  },
  {
   "cell_type": "markdown",
   "metadata": {},
   "source": [
    "Este cálculo ajuda a startup a entender melhor a dinâmica dos testes de usuários e a gerenciar as expectativas quanto ao número de tentativas que podem ser necessárias para obter um feedback positivo sobre a nova funcionalidade. Ao aplicar a distribuição geométrica, a empresa pode planejar melhor suas sessões de teste, otimizar o processo de coleta de feedback e aprimorar suas estratégias de desenvolvimento de produto com base em dados reais de aceitação do usuário."
   ]
  },
  {
   "cell_type": "markdown",
   "metadata": {},
   "source": [
    "## Exercício 5\n",
    "\n",
    "Imagine uma empresa de desenvolvimento de software que está trabalhando em um novo produto. Com base em projetos anteriores, a empresa sabe que a probabilidade de um teste de qualidade de software (QA) ser bem-sucedido (ou seja, o software passar no teste sem encontrar bugs) é de 80%. No entanto, para garantir a alta qualidade do produto final, a empresa define uma política de que o software deve passar por 3 testes de QA consecutivos antes de ser considerado pronto para o lançamento. A questão é: qual a probabilidade de que sejam necessários realizar 5 testes de QA para que o software passe por 3 testes consecutivos com sucesso?\n",
    "\n",
    "Este cenário é ideal para ser modelado usando a distribuição binomial negativa, que nos permite calcular a probabilidade de um determinado número de tentativas ser necessário para alcançar um número predeterminado de sucessos, assumindo que cada tentativa é independente e tem a mesma probabilidade de sucesso.\n",
    "\n",
    "Para calcular essa probabilidade em Python, podemos usar a biblioteca scipy.stats e a função nbinom.pmf(k, r, p), onde k é o número total de tentativas menos o número de sucessos desejados (5 - 3 = 2 falhas), r é o número de sucessos desejados (3 testes de QA bem-sucedidos) e p é a probabilidade de sucesso em cada tentativa (80% ou 0.8)."
   ]
  },
  {
   "cell_type": "code",
   "execution_count": 7,
   "metadata": {},
   "outputs": [
    {
     "name": "stdout",
     "output_type": "stream",
     "text": [
      "A probabilidade de precisar de 5 testes de QA para alcançar 3 sucessos é de 12.29%\n"
     ]
    }
   ],
   "source": [
    "from scipy.stats import nbinom\n",
    "\n",
    "# Define os parâmetros da distribuição binomial negativa\n",
    "r = 3  # Número de sucessos desejados (testes de QA bem-sucedidos)\n",
    "p = 0.8  # Probabilidade de sucesso em cada tentativa (teste de QA)\n",
    "\n",
    "# Calcula a probabilidade de serem necessárias 5 tentativas para 3 sucessos\n",
    "probabilidade = nbinom.pmf(5 - r, r, p)\n",
    "\n",
    "print(f\"A probabilidade de precisar de 5 testes de QA para alcançar 3 sucessos é de {probabilidade * 100:.2f}%\")"
   ]
  },
  {
   "cell_type": "markdown",
   "metadata": {},
   "source": [
    "Este exemplo demonstra a utilidade da distribuição binomial negativa para analisar problemas no mundo dos negócios, especialmente em processos que exigem a repetição de tentativas até atingir um número específico de sucessos. No contexto do desenvolvimento de software, essa análise pode ajudar a empresa a entender melhor os recursos necessários para a garantia de qualidade e a planejar mais eficientemente o ciclo de desenvolvimento do produto."
   ]
  },
  {
   "cell_type": "code",
   "execution_count": 8,
   "metadata": {},
   "outputs": [
    {
     "name": "stdout",
     "output_type": "stream",
     "text": [
      "Author: Data Science Academy\n",
      "\n"
     ]
    }
   ],
   "source": [
    "%reload_ext watermark\n",
    "%watermark -a \"Data Science Academy\""
   ]
  },
  {
   "cell_type": "code",
   "execution_count": 9,
   "metadata": {},
   "outputs": [],
   "source": [
    "#%watermark -v -m"
   ]
  },
  {
   "cell_type": "code",
   "execution_count": 10,
   "metadata": {},
   "outputs": [],
   "source": [
    "#%watermark --iversions"
   ]
  },
  {
   "cell_type": "markdown",
   "metadata": {
    "collapsed": true
   },
   "source": [
    "# Fim"
   ]
  }
 ],
 "metadata": {
  "anaconda-cloud": {},
  "kernelspec": {
   "display_name": "Python 3 (ipykernel)",
   "language": "python",
   "name": "python3"
  },
  "language_info": {
   "codemirror_mode": {
    "name": "ipython",
    "version": 3
   },
   "file_extension": ".py",
   "mimetype": "text/x-python",
   "name": "python",
   "nbconvert_exporter": "python",
   "pygments_lexer": "ipython3",
   "version": "3.11.5"
  }
 },
 "nbformat": 4,
 "nbformat_minor": 1
}
