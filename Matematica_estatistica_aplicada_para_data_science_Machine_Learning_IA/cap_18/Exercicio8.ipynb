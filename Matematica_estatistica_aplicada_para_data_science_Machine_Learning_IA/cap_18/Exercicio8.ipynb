{
 "cells": [
  {
   "cell_type": "markdown",
   "metadata": {},
   "source": [
    "<!-- Projeto Desenvolvido na Data Science Academy - www.datascienceacademy.com.br -->\n",
    "# <font color='blue'>Data Science Academy</font>\n",
    "## <font color='blue'>Matemática e Estatística Aplicada Para Data Science, Machine Learning e IA</font>\n",
    "## <font color='blue'>Lista de Exercícios 8</font>\n",
    "### <font color='blue'>Distribuições de Probabilidade Para Resolver Problemas de Negócio</font>"
   ]
  },
  {
   "cell_type": "markdown",
   "metadata": {},
   "source": [
    "## Instalando e Carregando os Pacotes"
   ]
  },
  {
   "cell_type": "code",
   "execution_count": 1,
   "metadata": {},
   "outputs": [],
   "source": [
    "# Para atualizar um pacote, execute o comando abaixo no terminal ou prompt de comando:\n",
    "# pip install -U nome_pacote\n",
    "\n",
    "# Para instalar a versão exata de um pacote, execute o comando abaixo no terminal ou prompt de comando:\n",
    "# !pip install nome_pacote==versão_desejada\n",
    "\n",
    "# Depois de instalar ou atualizar o pacote, reinicie o jupyter notebook.\n",
    "\n",
    "# Instala o pacote watermark. \n",
    "# Esse pacote é usado para gravar as versões de outros pacotes usados neste jupyter notebook.\n",
    "!pip install -q -U watermark"
   ]
  },
  {
   "cell_type": "code",
   "execution_count": 2,
   "metadata": {},
   "outputs": [
    {
     "name": "stdout",
     "output_type": "stream",
     "text": [
      "Author: Data Science Academy\n",
      "\n"
     ]
    }
   ],
   "source": [
    "# Versões dos pacotes usados neste jupyter notebook\n",
    "%reload_ext watermark\n",
    "%watermark -a \"Data Science Academy\" "
   ]
  },
  {
   "cell_type": "markdown",
   "metadata": {},
   "source": [
    "## Exercício 1\n",
    "\n",
    "Vamos imaginar um cenário de negócios onde uma empresa de consultoria realiza análises de mercado para cinco diferentes setores: tecnologia, saúde, finanças, energia e varejo. A empresa tem um modelo de negócios no qual, a cada mês, escolhe aleatoriamente um desses setores para oferecer uma análise de mercado gratuita como parte de sua estratégia de marketing para atrair novos clientes. Suponha que a escolha do setor seja feita de forma que cada um tenha igual probabilidade de ser selecionado. \n",
    "\n",
    "Calcule a probabilidade de cada setor ser escolhido ao longo de um ano."
   ]
  },
  {
   "cell_type": "code",
   "execution_count": null,
   "metadata": {},
   "outputs": [],
   "source": []
  },
  {
   "cell_type": "markdown",
   "metadata": {},
   "source": [
    "## Exercício 2\n",
    "\n",
    "Considere uma empresa que está lançando uma nova campanha de marketing por e-mail, destinada a promover um de seus produtos. A partir de experiências passadas, a empresa sabe que a taxa de abertura esperada para esses e-mails é de 20%. A campanha envolve o envio de 100 e-mails para potenciais clientes. \n",
    "\n",
    "A empresa está interessada em saber qual é a probabilidade de pelo menos 25 desses e-mails serem abertos, o que considera um indicador de sucesso da campanha."
   ]
  },
  {
   "cell_type": "code",
   "execution_count": null,
   "metadata": {},
   "outputs": [],
   "source": []
  },
  {
   "cell_type": "markdown",
   "metadata": {},
   "source": [
    "## Exercício 3\n",
    "\n",
    "Imagine uma loja de varejo online que, historicamente, recebe em média 12 pedidos por hora. A gestão deseja entender melhor como isso se traduz em termos de fluxo de pedidos ao longo do dia para otimizar suas operações, incluindo alocação de pessoal, gestão de estoque e capacidade de atendimento ao cliente.\n",
    "\n",
    "Qual a probabilidade da loja receber exatamente 15 pedidos em uma determinada hora?"
   ]
  },
  {
   "cell_type": "code",
   "execution_count": null,
   "metadata": {},
   "outputs": [],
   "source": []
  },
  {
   "cell_type": "markdown",
   "metadata": {},
   "source": [
    "## Exercício 4\n",
    "\n",
    "Considere uma startup de tecnologia que está testando uma nova funcionalidade no seu aplicativo. A partir de testes anteriores, a empresa estima que a probabilidade de um teste de usuário resultar em uma avaliação positiva da nova funcionalidade é de 10%. A startup está interessada em entender qual é a probabilidade de que o primeiro feedback positivo ocorra apenas no quinto teste de usuário. "
   ]
  },
  {
   "cell_type": "code",
   "execution_count": null,
   "metadata": {},
   "outputs": [],
   "source": []
  },
  {
   "cell_type": "markdown",
   "metadata": {},
   "source": [
    "## Exercício 5\n",
    "\n",
    "Imagine uma empresa de desenvolvimento de software que está trabalhando em um novo produto. Com base em projetos anteriores, a empresa sabe que a probabilidade de um teste de qualidade de software (QA) ser bem-sucedido (ou seja, o software passar no teste sem encontrar bugs) é de 80%. No entanto, para garantir a alta qualidade do produto final, a empresa define uma política de que o software deve passar por 3 testes de QA consecutivos antes de ser considerado pronto para o lançamento. A questão é: qual a probabilidade de que sejam necessários realizar 5 testes de QA para que o software passe por 3 testes consecutivos com sucesso?"
   ]
  },
  {
   "cell_type": "code",
   "execution_count": null,
   "metadata": {},
   "outputs": [],
   "source": []
  },
  {
   "cell_type": "code",
   "execution_count": 3,
   "metadata": {},
   "outputs": [
    {
     "name": "stdout",
     "output_type": "stream",
     "text": [
      "Author: Data Science Academy\n",
      "\n"
     ]
    }
   ],
   "source": [
    "%reload_ext watermark\n",
    "%watermark -a \"Data Science Academy\""
   ]
  },
  {
   "cell_type": "code",
   "execution_count": 4,
   "metadata": {},
   "outputs": [],
   "source": [
    "#%watermark -v -m"
   ]
  },
  {
   "cell_type": "code",
   "execution_count": 5,
   "metadata": {},
   "outputs": [],
   "source": [
    "#%watermark --iversions"
   ]
  },
  {
   "cell_type": "markdown",
   "metadata": {
    "collapsed": true
   },
   "source": [
    "# Fim"
   ]
  }
 ],
 "metadata": {
  "anaconda-cloud": {},
  "kernelspec": {
   "display_name": "Python 3 (ipykernel)",
   "language": "python",
   "name": "python3"
  },
  "language_info": {
   "codemirror_mode": {
    "name": "ipython",
    "version": 3
   },
   "file_extension": ".py",
   "mimetype": "text/x-python",
   "name": "python",
   "nbconvert_exporter": "python",
   "pygments_lexer": "ipython3",
   "version": "3.11.5"
  }
 },
 "nbformat": 4,
 "nbformat_minor": 1
}
