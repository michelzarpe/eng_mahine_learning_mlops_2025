{
 "cells": [
  {
   "cell_type": "markdown",
   "metadata": {},
   "source": [
    "<!-- Projeto Desenvolvido na Data Science Academy - www.datascienceacademy.com.br -->\n",
    "# <font color='blue'>Data Science Academy</font>\n",
    "## <font color='blue'>Matemática e Estatística Aplicada Para Data Science, Machine Learning e IA</font>\n",
    "## <font color='blue'>Lab 5</font>\n",
    "### <font color='blue'>Operações com Matrizes, Determinantes, Autovalores e Autovetores em Ciência de Dados</font>"
   ]
  },
  {
   "cell_type": "markdown",
   "metadata": {},
   "source": [
    "## Instalando e Carregando os Pacotes"
   ]
  },
  {
   "cell_type": "code",
   "execution_count": 1,
   "metadata": {},
   "outputs": [],
   "source": [
    "# Para atualizar um pacote, execute o comando abaixo no terminal ou prompt de comando:\n",
    "# pip install -U nome_pacote\n",
    "\n",
    "# Para instalar a versão exata de um pacote, execute o comando abaixo no terminal ou prompt de comando:\n",
    "# !pip install nome_pacote==versão_desejada\n",
    "\n",
    "# Depois de instalar ou atualizar o pacote, reinicie o jupyter notebook.\n",
    "\n",
    "# Instala o pacote watermark. \n",
    "# Esse pacote é usado para gravar as versões de outros pacotes usados neste jupyter notebook.\n",
    "#!pip install -q -U watermark"
   ]
  },
  {
   "cell_type": "code",
   "execution_count": 2,
   "metadata": {},
   "outputs": [],
   "source": [
    "# Imports\n",
    "import numpy as np"
   ]
  },
  {
   "cell_type": "code",
   "execution_count": 3,
   "metadata": {},
   "outputs": [
    {
     "name": "stdout",
     "output_type": "stream",
     "text": [
      "Author: Data Science Academy\n",
      "\n"
     ]
    }
   ],
   "source": [
    "# Versões dos pacotes usados neste jupyter notebook\n",
    "%reload_ext watermark\n",
    "%watermark -a \"Data Science Academy\" "
   ]
  },
  {
   "cell_type": "markdown",
   "metadata": {},
   "source": [
    "## Multiplicação de Matrizes"
   ]
  },
  {
   "cell_type": "code",
   "execution_count": 4,
   "metadata": {},
   "outputs": [
    {
     "name": "stdout",
     "output_type": "stream",
     "text": [
      "[[1 3]\n",
      " [5 7]]\n"
     ]
    }
   ],
   "source": [
    "x = np.array([[1,3],[5,7]])\n",
    "print(x)"
   ]
  },
  {
   "cell_type": "code",
   "execution_count": 5,
   "metadata": {},
   "outputs": [
    {
     "name": "stdout",
     "output_type": "stream",
     "text": [
      "[[2 4]\n",
      " [6 8]]\n"
     ]
    }
   ],
   "source": [
    "y = np.array([[2,4],[6,8]])\n",
    "print(y)"
   ]
  },
  {
   "cell_type": "code",
   "execution_count": 6,
   "metadata": {},
   "outputs": [
    {
     "data": {
      "text/plain": [
       "array([[ 2, 12],\n",
       "       [30, 56]])"
      ]
     },
     "execution_count": 6,
     "metadata": {},
     "output_type": "execute_result"
    }
   ],
   "source": [
    "x * y"
   ]
  },
  {
   "cell_type": "code",
   "execution_count": 7,
   "metadata": {},
   "outputs": [
    {
     "data": {
      "text/plain": [
       "array([[20, 28],\n",
       "       [52, 76]])"
      ]
     },
     "execution_count": 7,
     "metadata": {},
     "output_type": "execute_result"
    }
   ],
   "source": [
    "np.matmul(x, y)"
   ]
  },
  {
   "cell_type": "code",
   "execution_count": 8,
   "metadata": {},
   "outputs": [
    {
     "data": {
      "text/plain": [
       "array([[20, 28],\n",
       "       [52, 76]])"
      ]
     },
     "execution_count": 8,
     "metadata": {},
     "output_type": "execute_result"
    }
   ],
   "source": [
    "x @ y"
   ]
  },
  {
   "cell_type": "code",
   "execution_count": 9,
   "metadata": {},
   "outputs": [
    {
     "data": {
      "text/plain": [
       "array([-2, -2])"
      ]
     },
     "execution_count": 9,
     "metadata": {},
     "output_type": "execute_result"
    }
   ],
   "source": [
    "np.cross(x, y)"
   ]
  },
  {
   "cell_type": "code",
   "execution_count": 10,
   "metadata": {},
   "outputs": [
    {
     "data": {
      "text/plain": [
       "array([[20, 28],\n",
       "       [52, 76]])"
      ]
     },
     "execution_count": 10,
     "metadata": {},
     "output_type": "execute_result"
    }
   ],
   "source": [
    "np.dot(x, y)"
   ]
  },
  {
   "cell_type": "code",
   "execution_count": 11,
   "metadata": {},
   "outputs": [
    {
     "data": {
      "text/plain": [
       "array([[10, 26],\n",
       "       [26, 74]])"
      ]
     },
     "execution_count": 11,
     "metadata": {},
     "output_type": "execute_result"
    }
   ],
   "source": [
    "np.dot(x, x.T)"
   ]
  },
  {
   "cell_type": "code",
   "execution_count": 12,
   "metadata": {},
   "outputs": [
    {
     "data": {
      "text/plain": [
       "9.16515138991168"
      ]
     },
     "execution_count": 12,
     "metadata": {},
     "output_type": "execute_result"
    }
   ],
   "source": [
    "np.sqrt(np.sum(x ** 2))"
   ]
  },
  {
   "cell_type": "markdown",
   "metadata": {},
   "source": [
    "Vamos analisar cada uma das operações utilizando as matrizes x e y:\n",
    "\n",
    "**x * y**: Esta é uma multiplicação elemento a elemento (element-wise). Cada elemento da matriz x é multiplicado pelo elemento correspondente na mesma posição na matriz y. Não é uma multiplicação de matrizes, mas sim uma operação aplicada individualmente a cada par de elementos correspondentes.\n",
    "\n",
    "**np.matmul(x, y)**: Esta é a multiplicação de matrizes propriamente dita, também conhecida como produto matricial. Aqui, o resultado é uma nova matriz onde cada elemento é calculado como a soma dos produtos dos elementos correspondentes nas linhas de x e nas colunas de y. Referência:\n",
    "\n",
    "https://mathworld.wolfram.com/MatrixMultiplication.html\n",
    "\n",
    "**x @ y**: Este é o operador de multiplicação de matrizes. Funciona da mesma forma que np.matmul(x, y), realizando a multiplicação de matrizes.\n",
    "\n",
    "**np.cross(x, y)**: Esta operação calcula o produto vetorial (ou produto cruzado) de x e y. Como x e y são matrizes 2x2, a função np.cross tratará as linhas de cada matriz como vetores e calculará o produto vetorial linha a linha.\n",
    "\n",
    "**np.dot(x, y)**: Para matrizes bidimensionais, np.dot(x, y) é equivalente a np.matmul(x, y). Calcula o produto matricial de x e y.\n",
    "\n",
    "**np.dot(x, x.T)**: Aqui, x.T é a transposta de x. Esta operação realiza o produto matricial de x com sua transposta. O resultado é uma matriz que representa, de certa forma, o \"produto escalar\" da matriz com ela mesma, mas em termos de suas linhas ou colunas, dependendo da orientação da multiplicação.\n",
    "\n",
    "**np.sqrt(np.sum(x ** 2))**: Esta expressão calcula a norma Frobenius da matriz x. Primeiro, eleva cada elemento de x ao quadrado e soma todos esses quadrados. Em seguida, calcula a raiz quadrada do resultado. Isso dá uma medida geral da magnitude da matriz x.\n",
    "\n",
    "Cada uma dessas operações tem seu uso específico e é fundamental entender essas diferenças para aplicá-las corretamente em contextos matemáticos e de programação."
   ]
  },
  {
   "cell_type": "markdown",
   "metadata": {},
   "source": [
    "### Multiplicação Element-wise"
   ]
  },
  {
   "cell_type": "markdown",
   "metadata": {},
   "source": [
    "Já vimos a multiplicação de matrizes com element-wise. Apenas para relembrar:"
   ]
  },
  {
   "cell_type": "code",
   "execution_count": 13,
   "metadata": {},
   "outputs": [
    {
     "name": "stdout",
     "output_type": "stream",
     "text": [
      "[[1 2 3]\n",
      " [4 5 6]]\n"
     ]
    }
   ],
   "source": [
    "# Definimos uma matriz\n",
    "m = np.array([[1,2,3], [4,5,6]])\n",
    "print(m)"
   ]
  },
  {
   "cell_type": "code",
   "execution_count": 14,
   "metadata": {},
   "outputs": [
    {
     "data": {
      "text/plain": [
       "(2, 3)"
      ]
     },
     "execution_count": 14,
     "metadata": {},
     "output_type": "execute_result"
    }
   ],
   "source": [
    "m.shape"
   ]
  },
  {
   "cell_type": "code",
   "execution_count": 15,
   "metadata": {},
   "outputs": [
    {
     "name": "stdout",
     "output_type": "stream",
     "text": [
      "[[ 3  6  9]\n",
      " [12 15 18]]\n"
     ]
    }
   ],
   "source": [
    "# Usamos o operador de multiplicação para multiplicar cada elemento da matriz por 3. \n",
    "# Isso vai gerar uma nova matriz n.\n",
    "n = m * 3\n",
    "print(n)"
   ]
  },
  {
   "cell_type": "code",
   "execution_count": 16,
   "metadata": {},
   "outputs": [
    {
     "data": {
      "text/plain": [
       "(2, 3)"
      ]
     },
     "execution_count": 16,
     "metadata": {},
     "output_type": "execute_result"
    }
   ],
   "source": [
    "n.shape"
   ]
  },
  {
   "cell_type": "code",
   "execution_count": 17,
   "metadata": {},
   "outputs": [],
   "source": [
    "# Multiplicamos as duas matrizes, element-wise\n",
    "matriz_resultado = m * n"
   ]
  },
  {
   "cell_type": "code",
   "execution_count": 18,
   "metadata": {},
   "outputs": [
    {
     "name": "stdout",
     "output_type": "stream",
     "text": [
      "[[  3  12  27]\n",
      " [ 48  75 108]]\n"
     ]
    }
   ],
   "source": [
    "print(matriz_resultado)"
   ]
  },
  {
   "cell_type": "code",
   "execution_count": 19,
   "metadata": {},
   "outputs": [
    {
     "data": {
      "text/plain": [
       "(2, 3)"
      ]
     },
     "execution_count": 19,
     "metadata": {},
     "output_type": "execute_result"
    }
   ],
   "source": [
    "matriz_resultado.shape"
   ]
  },
  {
   "cell_type": "markdown",
   "metadata": {},
   "source": [
    "### Multiplicação de Matrizes x Multiplicação Element-wise"
   ]
  },
  {
   "cell_type": "markdown",
   "metadata": {},
   "source": [
    "> Imagine agora que precisamos multiplicar as duas matrizes abaixo:"
   ]
  },
  {
   "cell_type": "code",
   "execution_count": 20,
   "metadata": {},
   "outputs": [],
   "source": [
    "a = np.array([[1,2,3,4],[5,6,7,8]])"
   ]
  },
  {
   "cell_type": "code",
   "execution_count": 21,
   "metadata": {},
   "outputs": [
    {
     "data": {
      "text/plain": [
       "(2, 4)"
      ]
     },
     "execution_count": 21,
     "metadata": {},
     "output_type": "execute_result"
    }
   ],
   "source": [
    "a.shape"
   ]
  },
  {
   "cell_type": "code",
   "execution_count": 22,
   "metadata": {},
   "outputs": [],
   "source": [
    "b = np.array([[1,2,3],[4,5,6],[7,8,9],[10,11,12]])"
   ]
  },
  {
   "cell_type": "code",
   "execution_count": 23,
   "metadata": {},
   "outputs": [
    {
     "data": {
      "text/plain": [
       "(4, 3)"
      ]
     },
     "execution_count": 23,
     "metadata": {},
     "output_type": "execute_result"
    }
   ],
   "source": [
    "b.shape"
   ]
  },
  {
   "cell_type": "code",
   "execution_count": 24,
   "metadata": {},
   "outputs": [
    {
     "ename": "ValueError",
     "evalue": "operands could not be broadcast together with shapes (2,4) (4,3) ",
     "output_type": "error",
     "traceback": [
      "\u001b[0;31m---------------------------------------------------------------------------\u001b[0m",
      "\u001b[0;31mValueError\u001b[0m                                Traceback (most recent call last)",
      "Cell \u001b[0;32mIn[24], line 2\u001b[0m\n\u001b[1;32m      1\u001b[0m \u001b[38;5;66;03m# Operação element-wise\u001b[39;00m\n\u001b[0;32m----> 2\u001b[0m a \u001b[38;5;241m*\u001b[39m b\n",
      "\u001b[0;31mValueError\u001b[0m: operands could not be broadcast together with shapes (2,4) (4,3) "
     ]
    }
   ],
   "source": [
    "# Operação element-wise\n",
    "a * b"
   ]
  },
  {
   "cell_type": "markdown",
   "metadata": {},
   "source": [
    "Por que a mensagem de erro?"
   ]
  },
  {
   "cell_type": "markdown",
   "metadata": {},
   "source": [
    "A operação a * b usando arrays NumPy não funciona no contexto acima porque representa uma multiplicação elemento a elemento e não uma multiplicação de matrizes. Para que a multiplicação elemento a elemento funcione, as matrizes envolvidas devem ter o mesmo tamanho (número de linhas e colunas) ou devem ser compatíveis de acordo com as regras de broadcasting do NumPy.\n",
    "\n",
    "A operação a * b tenta multiplicar elemento a elemento duas matrizes que não são compatíveis em termos de forma (shape). Em outras palavras, não há um mapeamento um-para-um entre cada elemento de a e b que permita essa multiplicação.\n",
    "\n",
    "Se você quiser realizar a multiplicação de matrizes, você deve usar np.dot(a, b) ou np.matmul(a, b). Estas funções são projetadas para lidar com a multiplicação de matrizes onde as dimensões internas das matrizes (colunas de a, linhas de b) são compatíveis."
   ]
  },
  {
   "cell_type": "code",
   "execution_count": 25,
   "metadata": {},
   "outputs": [
    {
     "data": {
      "text/plain": [
       "array([[ 70,  80,  90],\n",
       "       [158, 184, 210]])"
      ]
     },
     "execution_count": 25,
     "metadata": {},
     "output_type": "execute_result"
    }
   ],
   "source": [
    "np.matmul(a, b)"
   ]
  },
  {
   "cell_type": "code",
   "execution_count": 26,
   "metadata": {},
   "outputs": [
    {
     "data": {
      "text/plain": [
       "array([[ 70,  80,  90],\n",
       "       [158, 184, 210]])"
      ]
     },
     "execution_count": 26,
     "metadata": {},
     "output_type": "execute_result"
    }
   ],
   "source": [
    "# Essa notação é a mesma coisa que matmul()\n",
    "a @ b"
   ]
  },
  {
   "cell_type": "markdown",
   "metadata": {},
   "source": [
    "### Matrix Product\n",
    "\n",
    "https://numpy.org/doc/stable/reference/generated/numpy.matmul.html\n",
    "\n",
    "A definição de multiplicação de matrizes indica uma multiplicação linha por coluna, onde as entradas na i-ésima linha de A são multiplicados pelas entradas correspondentes no jth coluna de B e, em seguida, somando os resultados.\n",
    "\n",
    "A multiplicação de matrizes NÃO é comutativa."
   ]
  },
  {
   "cell_type": "markdown",
   "metadata": {},
   "source": [
    "Para encontrar o produto da matriz, você usa a função matmul() do NumPy. **O shape das matrizes precisa ser compatível.**\n",
    "\n",
    "**Aqui estão as regras para o produto das matrizes:**"
   ]
  },
  {
   "cell_type": "markdown",
   "metadata": {},
   "source": [
    "•\tO número de colunas na matriz esquerda deve ser igual ao número de linhas na matriz direita (logo, a ordem das matrizes na multiplicação é importante).\n",
    "\n",
    "•\tA matriz resultante da operação possui o mesmo número de linhas que a matriz esquerda e o mesmo número de colunas que a matriz direita.\n",
    "\n",
    "•\tOrdem importa aqui. Multiplicar A • B não é o mesmo que multiplicar B • A.\n",
    "\n",
    "•\tOs dados na matriz esquerda devem ser organizados como linhas, enquanto os dados na matriz direita devem ser organizados como colunas.\n"
   ]
  },
  {
   "cell_type": "code",
   "execution_count": 27,
   "metadata": {},
   "outputs": [
    {
     "ename": "ValueError",
     "evalue": "matmul: Input operand 1 has a mismatch in its core dimension 0, with gufunc signature (n?,k),(k,m?)->(n?,m?) (size 2 is different from 3)",
     "output_type": "error",
     "traceback": [
      "\u001b[0;31m---------------------------------------------------------------------------\u001b[0m",
      "\u001b[0;31mValueError\u001b[0m                                Traceback (most recent call last)",
      "Cell \u001b[0;32mIn[27], line 2\u001b[0m\n\u001b[1;32m      1\u001b[0m \u001b[38;5;66;03m# Não podemos usar matmul nas matrizes do exemplo anterior pois viola uma das regras\u001b[39;00m\n\u001b[0;32m----> 2\u001b[0m np\u001b[38;5;241m.\u001b[39mmatmul(m, n)\n",
      "\u001b[0;31mValueError\u001b[0m: matmul: Input operand 1 has a mismatch in its core dimension 0, with gufunc signature (n?,k),(k,m?)->(n?,m?) (size 2 is different from 3)"
     ]
    }
   ],
   "source": [
    "# Não podemos usar matmul nas matrizes do exemplo anterior pois viola uma das regras\n",
    "np.matmul(m, n)"
   ]
  },
  {
   "cell_type": "code",
   "execution_count": 28,
   "metadata": {},
   "outputs": [
    {
     "name": "stdout",
     "output_type": "stream",
     "text": [
      "[[1 2 3 4]\n",
      " [5 6 7 8]]\n"
     ]
    }
   ],
   "source": [
    "a = np.array([[1,2,3,4], [5,6,7,8]])\n",
    "print(a)"
   ]
  },
  {
   "cell_type": "code",
   "execution_count": 29,
   "metadata": {},
   "outputs": [
    {
     "data": {
      "text/plain": [
       "(2, 4)"
      ]
     },
     "execution_count": 29,
     "metadata": {},
     "output_type": "execute_result"
    }
   ],
   "source": [
    "a.shape"
   ]
  },
  {
   "cell_type": "code",
   "execution_count": 30,
   "metadata": {},
   "outputs": [
    {
     "name": "stdout",
     "output_type": "stream",
     "text": [
      "[[ 1  2  3]\n",
      " [ 4  5  6]\n",
      " [ 7  8  9]\n",
      " [10 11 12]]\n"
     ]
    }
   ],
   "source": [
    "b = np.array([[1,2,3],[4,5,6],[7,8,9],[10,11,12]])\n",
    "print(b)"
   ]
  },
  {
   "cell_type": "code",
   "execution_count": 31,
   "metadata": {},
   "outputs": [
    {
     "data": {
      "text/plain": [
       "(4, 3)"
      ]
     },
     "execution_count": 31,
     "metadata": {},
     "output_type": "execute_result"
    }
   ],
   "source": [
    "b.shape"
   ]
  },
  {
   "cell_type": "code",
   "execution_count": 32,
   "metadata": {},
   "outputs": [],
   "source": [
    "# Matrix Product\n",
    "matriz_reposta = np.matmul(a, b)"
   ]
  },
  {
   "cell_type": "code",
   "execution_count": 33,
   "metadata": {},
   "outputs": [
    {
     "name": "stdout",
     "output_type": "stream",
     "text": [
      "[[ 70  80  90]\n",
      " [158 184 210]]\n"
     ]
    }
   ],
   "source": [
    "print(matriz_reposta)"
   ]
  },
  {
   "cell_type": "code",
   "execution_count": 34,
   "metadata": {},
   "outputs": [
    {
     "data": {
      "text/plain": [
       "(2, 3)"
      ]
     },
     "execution_count": 34,
     "metadata": {},
     "output_type": "execute_result"
    }
   ],
   "source": [
    "matriz_reposta.shape"
   ]
  },
  {
   "cell_type": "code",
   "execution_count": 35,
   "metadata": {},
   "outputs": [
    {
     "ename": "ValueError",
     "evalue": "matmul: Input operand 1 has a mismatch in its core dimension 0, with gufunc signature (n?,k),(k,m?)->(n?,m?) (size 2 is different from 3)",
     "output_type": "error",
     "traceback": [
      "\u001b[0;31m---------------------------------------------------------------------------\u001b[0m",
      "\u001b[0;31mValueError\u001b[0m                                Traceback (most recent call last)",
      "Cell \u001b[0;32mIn[35], line 3\u001b[0m\n\u001b[1;32m      1\u001b[0m \u001b[38;5;66;03m# Se as matrizes tiverem shape incompatível, você recebe a mensagem de erro abaixo.\u001b[39;00m\n\u001b[1;32m      2\u001b[0m \u001b[38;5;66;03m# Veja que A x B não é a mesma coisa que B x A na multiplicação de matrizes.\u001b[39;00m\n\u001b[0;32m----> 3\u001b[0m np\u001b[38;5;241m.\u001b[39mmatmul(b, a)\n",
      "\u001b[0;31mValueError\u001b[0m: matmul: Input operand 1 has a mismatch in its core dimension 0, with gufunc signature (n?,k),(k,m?)->(n?,m?) (size 2 is different from 3)"
     ]
    }
   ],
   "source": [
    "# Se as matrizes tiverem shape incompatível, você recebe a mensagem de erro abaixo.\n",
    "# Veja que A x B não é a mesma coisa que B x A na multiplicação de matrizes.\n",
    "np.matmul(b, a)"
   ]
  },
  {
   "cell_type": "markdown",
   "metadata": {},
   "source": [
    "### Produto Escalar de Matrizes\n",
    "\n",
    "https://numpy.org/doc/stable/reference/generated/numpy.dot.html\n",
    "\n",
    "O produto escalar (dot product) é a soma dos produtos dos elementos correspondentes nas duas matrizes. Para obter o produto escalar, o número de colunas da primeira matriz deve ser igual ao número de linhas da segunda matriz.\n",
    "\n",
    "O mesmo problema do exemplo anterior aconteceria aqui devido à diferença nos shapes."
   ]
  },
  {
   "cell_type": "code",
   "execution_count": 36,
   "metadata": {},
   "outputs": [
    {
     "ename": "ValueError",
     "evalue": "shapes (4,3) and (2,4) not aligned: 3 (dim 1) != 2 (dim 0)",
     "output_type": "error",
     "traceback": [
      "\u001b[0;31m---------------------------------------------------------------------------\u001b[0m",
      "\u001b[0;31mValueError\u001b[0m                                Traceback (most recent call last)",
      "Cell \u001b[0;32mIn[36], line 1\u001b[0m\n\u001b[0;32m----> 1\u001b[0m np\u001b[38;5;241m.\u001b[39mdot(b, a)\n",
      "\u001b[0;31mValueError\u001b[0m: shapes (4,3) and (2,4) not aligned: 3 (dim 1) != 2 (dim 0)"
     ]
    }
   ],
   "source": [
    "np.dot(b, a)"
   ]
  },
  {
   "cell_type": "markdown",
   "metadata": {},
   "source": [
    "Agora sim:"
   ]
  },
  {
   "cell_type": "code",
   "execution_count": 37,
   "metadata": {},
   "outputs": [
    {
     "data": {
      "text/plain": [
       "array([[ 70,  80,  90],\n",
       "       [158, 184, 210]])"
      ]
     },
     "execution_count": 37,
     "metadata": {},
     "output_type": "execute_result"
    }
   ],
   "source": [
    "np.dot(a, b)"
   ]
  },
  {
   "cell_type": "markdown",
   "metadata": {},
   "source": [
    "> Dot product com escalares:"
   ]
  },
  {
   "cell_type": "code",
   "execution_count": 38,
   "metadata": {},
   "outputs": [
    {
     "name": "stdout",
     "output_type": "stream",
     "text": [
      "35\n"
     ]
    }
   ],
   "source": [
    "# Dois escalares\n",
    "k = 5\n",
    "j = 7\n",
    "\n",
    "print(np.dot(k, j))"
   ]
  },
  {
   "cell_type": "markdown",
   "metadata": {},
   "source": [
    "> Dot product com vetores:"
   ]
  },
  {
   "cell_type": "code",
   "execution_count": 39,
   "metadata": {},
   "outputs": [
    {
     "name": "stdout",
     "output_type": "stream",
     "text": [
      "86\n"
     ]
    }
   ],
   "source": [
    "# Vetores\n",
    "c = [3, 4, 5]\n",
    "d = [6, 7, 8]\n",
    " \n",
    "print(np.dot(c, d))"
   ]
  },
  {
   "cell_type": "markdown",
   "metadata": {},
   "source": [
    "> Dot product com matrizes:"
   ]
  },
  {
   "cell_type": "code",
   "execution_count": 40,
   "metadata": {},
   "outputs": [
    {
     "name": "stdout",
     "output_type": "stream",
     "text": [
      "[[5 4]\n",
      " [9 6]]\n"
     ]
    }
   ],
   "source": [
    "# Matrizes\n",
    "m1 = [[2, 1], [0, 3]]\n",
    "m2 = [[1, 1], [3, 2]]\n",
    " \n",
    "print(np.dot(m1, m2))"
   ]
  },
  {
   "cell_type": "markdown",
   "metadata": {},
   "source": [
    "> Dot product com matrizes (se inverter a ordem o resultado é diferente):"
   ]
  },
  {
   "cell_type": "code",
   "execution_count": 41,
   "metadata": {},
   "outputs": [
    {
     "name": "stdout",
     "output_type": "stream",
     "text": [
      "[[2 4]\n",
      " [6 9]]\n"
     ]
    }
   ],
   "source": [
    "print(np.dot(m2, m1))"
   ]
  },
  {
   "cell_type": "code",
   "execution_count": 42,
   "metadata": {},
   "outputs": [
    {
     "name": "stdout",
     "output_type": "stream",
     "text": [
      "[[1 2]\n",
      " [3 4]]\n"
     ]
    }
   ],
   "source": [
    "z = np.array([[1,2],[3,4]])\n",
    "print(z)"
   ]
  },
  {
   "cell_type": "code",
   "execution_count": 43,
   "metadata": {},
   "outputs": [
    {
     "data": {
      "text/plain": [
       "array([[ 7, 10],\n",
       "       [15, 22]])"
      ]
     },
     "execution_count": 43,
     "metadata": {},
     "output_type": "execute_result"
    }
   ],
   "source": [
    "np.dot(z, z)"
   ]
  },
  {
   "cell_type": "code",
   "execution_count": 44,
   "metadata": {},
   "outputs": [
    {
     "data": {
      "text/plain": [
       "array([[ 7, 10],\n",
       "       [15, 22]])"
      ]
     },
     "execution_count": 44,
     "metadata": {},
     "output_type": "execute_result"
    }
   ],
   "source": [
    "# Podemos chamar a função dot() diretamente do objeto ndarray\n",
    "z.dot(z) "
   ]
  },
  {
   "cell_type": "code",
   "execution_count": 45,
   "metadata": {},
   "outputs": [
    {
     "data": {
      "text/plain": [
       "array([[ 7, 10],\n",
       "       [15, 22]])"
      ]
     },
     "execution_count": 45,
     "metadata": {},
     "output_type": "execute_result"
    }
   ],
   "source": [
    "# Matmul gera o mesmo resultado porque as dimensões são as mesmas (mesma matriz)\n",
    "np.matmul(z, z)"
   ]
  },
  {
   "cell_type": "markdown",
   "metadata": {},
   "source": [
    "Por que o resultado é o mesmo nas duas operações abaixo?"
   ]
  },
  {
   "cell_type": "code",
   "execution_count": 46,
   "metadata": {},
   "outputs": [],
   "source": [
    "a = np.array([[1,2,3,4], [5,6,7,8]])"
   ]
  },
  {
   "cell_type": "code",
   "execution_count": 47,
   "metadata": {},
   "outputs": [],
   "source": [
    "b = np.array([[1,2,3],[4,5,6],[7,8,9],[10,11,12]])"
   ]
  },
  {
   "cell_type": "code",
   "execution_count": 48,
   "metadata": {},
   "outputs": [
    {
     "data": {
      "text/plain": [
       "array([[ 70,  80,  90],\n",
       "       [158, 184, 210]])"
      ]
     },
     "execution_count": 48,
     "metadata": {},
     "output_type": "execute_result"
    }
   ],
   "source": [
    "np.matmul(a, b)"
   ]
  },
  {
   "cell_type": "code",
   "execution_count": 49,
   "metadata": {},
   "outputs": [
    {
     "data": {
      "text/plain": [
       "array([[ 70,  80,  90],\n",
       "       [158, 184, 210]])"
      ]
     },
     "execution_count": 49,
     "metadata": {},
     "output_type": "execute_result"
    }
   ],
   "source": [
    "np.dot(a, b)"
   ]
  },
  {
   "cell_type": "markdown",
   "metadata": {},
   "source": [
    "As duas expressões np.matmul(a, b) e np.dot(a, b) geram o mesmo resultado neste caso específico porque ambas realizam a multiplicação de matrizes entre a e b. No entanto, é importante entender que np.matmul e np.dot são diferentes em termos mais gerais e podem produzir resultados diferentes em outros contextos (como veremos a seguir).\n",
    "\n",
    "**np.matmul**: Esta função é usada especificamente para a multiplicação de matrizes. No caso de arrays bidimensionais (matrizes), np.matmul(a, b) é equivalente à multiplicação de matrizes padrão.\n",
    "\n",
    "**np.dot**: A função np.dot é usado para realizar tanto o produto escalar (dot product) quanto a multiplicação de matrizes. Para arrays bidimensionais, np.dot(a, b) comporta-se como uma multiplicação de matrizes. No entanto, para arrays com mais de duas dimensões, np.dot e np.matmul podem se comportar de maneira diferente.\n",
    "\n",
    "Em nosso caso, ambas as matrizes a e b são bidimensionais. A matriz a tem dimensões 2x4 e a matriz b tem dimensões 4x3. A regra de multiplicação de matrizes diz que, para multiplicar duas matrizes, o número de colunas da primeira matriz (a) deve ser igual ao número de linhas da segunda matriz (b). Aqui, a (2x4) e b (4x3) satisfazem essa condição. O resultado é uma nova matriz de dimensões 2x3, que é o número de linhas da primeira matriz e o número de colunas da segunda matriz.\n",
    "\n",
    "Desde que a e b são bidimensionais, np.dot(a, b) e np.matmul(a, b) realizam a mesma operação de multiplicação de matrizes e, portanto, produzem o mesmo resultado."
   ]
  },
  {
   "cell_type": "markdown",
   "metadata": {},
   "source": [
    "> Multiplicação de Arrays Multidimensionais (N > 2)"
   ]
  },
  {
   "cell_type": "code",
   "execution_count": 50,
   "metadata": {},
   "outputs": [],
   "source": [
    "# Dois arrays de 3 dimensões cada um\n",
    "a = np.random.rand(2,3,3)\n",
    "b = np.random.rand(2,3,3)"
   ]
  },
  {
   "cell_type": "code",
   "execution_count": 51,
   "metadata": {},
   "outputs": [
    {
     "data": {
      "text/plain": [
       "(2, 3, 3)"
      ]
     },
     "execution_count": 51,
     "metadata": {},
     "output_type": "execute_result"
    }
   ],
   "source": [
    "a.shape"
   ]
  },
  {
   "cell_type": "code",
   "execution_count": 52,
   "metadata": {},
   "outputs": [
    {
     "data": {
      "text/plain": [
       "(2, 3, 3)"
      ]
     },
     "execution_count": 52,
     "metadata": {},
     "output_type": "execute_result"
    }
   ],
   "source": [
    "b.shape"
   ]
  },
  {
   "cell_type": "code",
   "execution_count": 53,
   "metadata": {},
   "outputs": [],
   "source": [
    "c = np.matmul(a, b)"
   ]
  },
  {
   "cell_type": "code",
   "execution_count": 54,
   "metadata": {},
   "outputs": [],
   "source": [
    "d = np.dot(a, b)"
   ]
  },
  {
   "cell_type": "code",
   "execution_count": 55,
   "metadata": {},
   "outputs": [
    {
     "name": "stdout",
     "output_type": "stream",
     "text": [
      "[[[1.50389419 0.18794399 0.74554223]\n",
      "  [1.51969686 0.17957493 0.53666115]\n",
      "  [1.90474531 0.23361319 0.73847203]]\n",
      "\n",
      " [[0.15866109 0.70919519 0.19808669]\n",
      "  [0.20983728 1.54369218 1.03962793]\n",
      "  [0.12641806 0.66432001 0.28399011]]] (2, 3, 3)\n"
     ]
    }
   ],
   "source": [
    "print(c, c.shape)"
   ]
  },
  {
   "cell_type": "code",
   "execution_count": 56,
   "metadata": {},
   "outputs": [
    {
     "name": "stdout",
     "output_type": "stream",
     "text": [
      "[[[[1.50389419 0.18794399 0.74554223]\n",
      "   [0.22163397 1.25284158 0.61237223]]\n",
      "\n",
      "  [[1.51969686 0.17957493 0.53666115]\n",
      "   [0.16484934 1.25650905 0.87197327]]\n",
      "\n",
      "  [[1.90474531 0.23361319 0.73847203]\n",
      "   [0.20622902 1.49887762 0.9966946 ]]]\n",
      "\n",
      "\n",
      " [[[0.7485504  0.09318426 0.4793761 ]\n",
      "   [0.15866109 0.70919519 0.19808669]]\n",
      "\n",
      "  [[1.62734402 0.17626701 0.52599264]\n",
      "   [0.20983728 1.54369218 1.03962793]]\n",
      "\n",
      "  [[0.95493118 0.13144543 0.53510238]\n",
      "   [0.12641806 0.66432001 0.28399011]]]] (2, 3, 2, 3)\n"
     ]
    }
   ],
   "source": [
    "print(d, d.shape)"
   ]
  },
  {
   "cell_type": "markdown",
   "metadata": {},
   "source": [
    "**Atenção:**\n",
    "\n",
    "- A função matmul() usa o array como uma pilha de matrizes como elementos que residem nos dois últimos índices, respectivamente. \n",
    "\n",
    "- A função dot(), por outro lado, realiza a multiplicação como a soma dos produtos sobre o último eixo da primeira matriz e o penúltimo da segunda.\n",
    "\n",
    "- Outra diferença entre matmul() e a função numpy.dot é que a função matmul() não pode realizar multiplicação de array com valores escalares."
   ]
  },
  {
   "cell_type": "markdown",
   "metadata": {},
   "source": [
    "Resumindo, o produto escalar é a soma dos produtos de valores em dois vetores de mesmo tamanho e a multiplicação de matrizes é uma versão matricial do produto escalar com duas matrizes."
   ]
  },
  {
   "cell_type": "markdown",
   "metadata": {},
   "source": [
    "### Norma da Matriz\n",
    "\n",
    "> Isso é o produto escalar com apenas um valor (norma):"
   ]
  },
  {
   "cell_type": "code",
   "execution_count": 57,
   "metadata": {},
   "outputs": [
    {
     "name": "stdout",
     "output_type": "stream",
     "text": [
      "2.8319845789792817\n"
     ]
    }
   ],
   "source": [
    "# Calculando a norma Frobenius, que é a raiz quadrada da soma dos quadrados de todos os elementos\n",
    "produto_escalar_matriz = np.sqrt(np.sum(a ** 2))\n",
    "print(produto_escalar_matriz)"
   ]
  },
  {
   "cell_type": "markdown",
   "metadata": {},
   "source": [
    "A norma Frobenius de uma matriz é definida como a raiz quadrada da soma dos quadrados de todos os seus elementos. Essencialmente, é como se você \"achatasse\" a matriz em um longo vetor e calculasse seu produto escalar."
   ]
  },
  {
   "cell_type": "code",
   "execution_count": 58,
   "metadata": {},
   "outputs": [
    {
     "name": "stdout",
     "output_type": "stream",
     "text": [
      "Author: Data Science Academy\n",
      "\n"
     ]
    }
   ],
   "source": [
    "%reload_ext watermark\n",
    "%watermark -a \"Data Science Academy\""
   ]
  },
  {
   "cell_type": "code",
   "execution_count": 59,
   "metadata": {},
   "outputs": [],
   "source": [
    "#%watermark -v -m"
   ]
  },
  {
   "cell_type": "code",
   "execution_count": 60,
   "metadata": {},
   "outputs": [],
   "source": [
    "#%watermark --iversions"
   ]
  },
  {
   "cell_type": "markdown",
   "metadata": {},
   "source": [
    "## Fim"
   ]
  }
 ],
 "metadata": {
  "kernelspec": {
   "display_name": "Python 3 (ipykernel)",
   "language": "python",
   "name": "python3"
  },
  "language_info": {
   "codemirror_mode": {
    "name": "ipython",
    "version": 3
   },
   "file_extension": ".py",
   "mimetype": "text/x-python",
   "name": "python",
   "nbconvert_exporter": "python",
   "pygments_lexer": "ipython3",
   "version": "3.11.5"
  }
 },
 "nbformat": 4,
 "nbformat_minor": 2
}
