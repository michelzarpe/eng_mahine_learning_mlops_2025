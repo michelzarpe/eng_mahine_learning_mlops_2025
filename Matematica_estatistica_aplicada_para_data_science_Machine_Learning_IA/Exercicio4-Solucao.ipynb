{
 "cells": [
  {
   "cell_type": "markdown",
   "metadata": {},
   "source": [
    "<!-- Projeto Desenvolvido na Data Science Academy - www.datascienceacademy.com.br -->\n",
    "# <font color='blue'>Data Science Academy</font>\n",
    "## <font color='blue'>Matemática e Estatística Aplicada Para Data Science, Machine Learning e IA</font>\n",
    "## <font color='blue'>Lista de Exercícios 4</font>\n",
    "## <font color='blue'>Operações com Vetores em Análise de Dados e Data Science</font>"
   ]
  },
  {
   "cell_type": "markdown",
   "metadata": {},
   "source": [
    "### Instalando e Carregando Pacotes"
   ]
  },
  {
   "cell_type": "code",
   "execution_count": 1,
   "metadata": {},
   "outputs": [],
   "source": [
    "# Para atualizar um pacote, execute o comando abaixo no terminal ou prompt de comando:\n",
    "# pip install -U nome_pacote\n",
    "\n",
    "# Para instalar a versão exata de um pacote, execute o comando abaixo no terminal ou prompt de comando:\n",
    "# !pip install nome_pacote==versão_desejada\n",
    "\n",
    "# Depois de instalar ou atualizar o pacote, reinicie o jupyter notebook.\n",
    "\n",
    "# Instala o pacote watermark. \n",
    "# Esse pacote é usado para gravar as versões de outros pacotes usados neste jupyter notebook.\n",
    "!pip install -q -U watermark"
   ]
  },
  {
   "cell_type": "code",
   "execution_count": 2,
   "metadata": {},
   "outputs": [],
   "source": [
    "# Imports\n",
    "import numpy as np\n",
    "import scipy"
   ]
  },
  {
   "cell_type": "code",
   "execution_count": 3,
   "metadata": {},
   "outputs": [
    {
     "name": "stdout",
     "output_type": "stream",
     "text": [
      "Author: Data Science Academy\n",
      "\n"
     ]
    }
   ],
   "source": [
    "# Versões dos pacotes usados neste jupyter notebook\n",
    "%reload_ext watermark\n",
    "%watermark -a \"Data Science Academy\" "
   ]
  },
  {
   "cell_type": "markdown",
   "metadata": {},
   "source": [
    "**Resolva os exercícios abaixo usando Linguagem Python. Faça pesquisa complementar se necessário.**"
   ]
  },
  {
   "cell_type": "markdown",
   "metadata": {},
   "source": [
    "### Exercício 1: Produto Escalar em Aplicação Prática\n",
    "\n",
    "Descrição: Dados dois vetores que representam preferências de usuários em três categorias diferentes user1 = [4, 3, 2] e user2 = [1, 5, 4], calcule a similaridade entre esses usuários usando o produto escalar. "
   ]
  },
  {
   "cell_type": "code",
   "execution_count": 4,
   "metadata": {},
   "outputs": [
    {
     "name": "stdout",
     "output_type": "stream",
     "text": [
      "27\n"
     ]
    }
   ],
   "source": [
    "# Vetores\n",
    "user1 = np.array([4, 3, 2])\n",
    "user2 = np.array([1, 5, 4])\n",
    "\n",
    "# Produto escalar\n",
    "similaridade = np.dot(user1, user2)\n",
    "print(similaridade)"
   ]
  },
  {
   "cell_type": "markdown",
   "metadata": {},
   "source": [
    "O produto escalar entre dois vetores, também conhecido como produto interno ou dot product, é uma operação matemática que resulta em um único número. Este número é uma medida de certos tipos de similaridade entre os dois vetores. Agora, interpretando o valor de 27:\n",
    "\n",
    "**Magnitude da Similaridade**: O valor absoluto (27 neste caso) indica a magnitude da similaridade. Quanto maior esse número, maior é a similaridade sob a métrica específica que o produto escalar representa.\n",
    "\n",
    "**Direção e Orientação**: O produto escalar é positivo quando os vetores apontam na mesma direção geral e negativo quando apontam em direções opostas. Um valor de 27, sendo positivo, sugere que user1 e user2 têm uma orientação geral semelhante no espaço vetorial considerado.\n",
    "\n",
    "**Contexto Específico**: A interpretação mais precisa depende do contexto onde esses vetores são aplicados. Por exemplo, se estes vetores representam preferências ou características em um sistema de recomendação, um valor alto pode indicar uma alta similaridade nessas preferências ou características.\n",
    "\n",
    "**Normalização**: É importante considerar a magnitude dos vetores originais. Se os vetores forem muito grandes, até mesmo vetores relativamente diferentes podem ter um produto escalar alto. Em muitos casos, é útil normalizar os vetores antes de calcular o produto escalar para obter uma medida de similaridade mais significativa."
   ]
  },
  {
   "cell_type": "markdown",
   "metadata": {},
   "source": [
    "### Exercício 2: Multiplicação de Escalar por Vetor em Dados Reais\n",
    "\n",
    "Descrição: Dada uma série de preços de ações prices = [120, 125, 130, 128, 135], ajuste os preços em 15% e calcule o novo preço das ações."
   ]
  },
  {
   "cell_type": "code",
   "execution_count": 5,
   "metadata": {},
   "outputs": [
    {
     "name": "stdout",
     "output_type": "stream",
     "text": [
      "[138.   143.75 149.5  147.2  155.25]\n"
     ]
    }
   ],
   "source": [
    "# Preços\n",
    "prices = np.array([120, 125, 130, 128, 135])\n",
    "\n",
    "# Fator de ajuste\n",
    "fator = 1.15\n",
    "\n",
    "# Cálculo\n",
    "precos_ajustados = prices * fator\n",
    "\n",
    "# Resultado\n",
    "print(precos_ajustados)"
   ]
  },
  {
   "cell_type": "markdown",
   "metadata": {},
   "source": [
    "### Exercício 3: Otimização de Produto Escalar\n",
    "\n",
    "Descrição: Encontre o vetor unitário que maximiza o produto escalar com o vetor v = [3, 4, 5]. Use técnicas de otimização para encontrar a solução."
   ]
  },
  {
   "cell_type": "code",
   "execution_count": 6,
   "metadata": {},
   "outputs": [
    {
     "name": "stdout",
     "output_type": "stream",
     "text": [
      "[0.42427197 0.56568183 0.70710492]\n"
     ]
    }
   ],
   "source": [
    "from scipy.optimize import minimize\n",
    "\n",
    "# Array\n",
    "v = np.array([3, 4, 5])\n",
    "\n",
    "# Função objetivo\n",
    "def funcao_objetivo(x):\n",
    "    return -np.dot(v, x)\n",
    "\n",
    "# Restrição para garantir que o vetor seja unitário\n",
    "constraint = {'type': 'eq', 'fun': lambda x: np.linalg.norm(x) - 1}\n",
    "\n",
    "# Solução de otimização\n",
    "resultado = minimize(funcao_objetivo, np.ones(3), constraints = constraint)\n",
    "vetor_otimizado = resultado.x\n",
    "\n",
    "print(vetor_otimizado)"
   ]
  },
  {
   "cell_type": "markdown",
   "metadata": {},
   "source": [
    "O objetivo é encontrar um vetor que maximize o produto escalar com um vetor dado v, sob a restrição de que o vetor resultante seja unitário (isto é, tenha norma igual a 1). \n",
    "\n",
    "No SciPy, **minimize** é uma função geral para otimização numérica de funções escalares.\n",
    "\n",
    "A função \"funcao_objetivo\" é a função objetivo a ser otimizada. Ela calcula o produto escalar negativo do vetor v com um vetor x. O sinal negativo é usado porque a função minimize procura minimizar o valor da função objetivo. Neste caso, minimizar o negativo do produto escalar é o mesmo que maximizar o produto escalar.\n",
    "\n",
    "A variável **constraint** é a restrição que exige que a norma (ou magnitude) do vetor x seja 1, tornando-o um vetor unitário. A chave 'type': 'eq' indica que é uma restrição de igualdade, ou seja, a função deve resultar em zero.\n",
    "\n",
    "Esta linha abaixo:\n",
    "\n",
    "resultado = minimize(funcao_objetivo, np.ones(3), constraints = constraint)\n",
    "\n",
    "chama a função minimize, passando a função objetivo, um vetor inicial de [1, 1, 1] (três uns) e a restrição definida. A função minimize irá ajustar o vetor inicial para encontrar o vetor que maximiza o produto escalar com v enquanto mantém sua norma igual a 1.\n",
    "\n",
    "Após a otimização, o vetor resultante é armazenado na propriedade x do objeto resultado. Este vetor é o vetor unitário que maximiza o produto escalar com v sob a restrição dada.\n",
    "\n",
    "O código acima usa otimização numérica para encontrar um vetor unitário que tenha o máximo produto escalar possível com o vetor [3, 4, 5].\n",
    "\n",
    "Acabamos de reproduzir (de forma simplificada) a ideia por trás do algoritmo de descida do gradiente, a principal técnica usada no treinamento de modelos de Deep Learning e diversos algoritmos mais simples de Machine Learning.\n",
    "\n",
    "Machine Learning é, de fato, um problema de otimização matemática, onde queremos minimizar a função objetivo (função de erro), encontrando valores que façam com que a função tenha o menor resultado possível, ou seja, o modelo de Machine Learning tenha o menor erro possível."
   ]
  },
  {
   "cell_type": "code",
   "execution_count": null,
   "metadata": {},
   "outputs": [],
   "source": [
    "# Calculando o produto escalar entre o vetor inicial e o vetor resultante\n",
    "produto_escalar = np.dot(v, vetor_otimizado)\n",
    "produto_escalar"
   ]
  },
  {
   "cell_type": "markdown",
   "metadata": {},
   "source": [
    "O produto escalar entre o vetor inicial e o vetor resultante da otimização é aproximadamente \n",
    "7.1. Este resultado indica a máxima similaridade alcançada entre o vetor inicial e um vetor unitário sob as condições definidas na otimização. "
   ]
  },
  {
   "cell_type": "markdown",
   "metadata": {},
   "source": [
    "### Exercício 4: Produto Vetorial e Direção Normal\n",
    "\n",
    "Descrição: Dados três pontos no espaço 3D A = [1, 2, 3], B = [4, 5, 6], e C = [7, 8, 9], encontre um vetor normal ao plano definido por esses três pontos."
   ]
  },
  {
   "cell_type": "code",
   "execution_count": 7,
   "metadata": {},
   "outputs": [
    {
     "name": "stdout",
     "output_type": "stream",
     "text": [
      "[0 0 0]\n"
     ]
    }
   ],
   "source": [
    "# Definição dos pontos\n",
    "A = np.array([1, 2, 3])\n",
    "B = np.array([4, 5, 6])\n",
    "C = np.array([7, 8, 9])\n",
    "\n",
    "# Cálculo dos vetores direcionais a partir dos pontos\n",
    "AB = B - A\n",
    "AC = C - A\n",
    "\n",
    "# Cálculo do produto vetorial para encontrar o vetor normal\n",
    "vetor_normal = np.cross(AB, AC)\n",
    "print(vetor_normal)"
   ]
  },
  {
   "cell_type": "markdown",
   "metadata": {},
   "source": [
    "### Exercício 5: Produto Vetorial em Análise de Dados\n",
    "\n",
    "Descrição: Em um conjunto de dados 3D com pontos p1 = [1, 2, 3], p2 = [4, 5, 6], e p3 = [7, 8, 9], encontre o vetor normal ao plano formado por esses três pontos e interprete seu significado em termos de orientação do plano."
   ]
  },
  {
   "cell_type": "markdown",
   "metadata": {},
   "source": [
    "Resposta:\n",
    "\n",
    "O vetor normal ao plano definido pelos pontos A = [1, 2, 3], B = [4, 5, 6], e C = [7, 8, 9] resultou em [0, 0, 0]. Isso ocorre porque os pontos A, B, e C são colineares no espaço 3D, ou seja, eles estão alinhados em uma única linha reta. Portanto, não formam um plano distinto no qual um vetor normal único possa ser definido.\n",
    "\n",
    "Em termos geométricos, quando três pontos são colineares, os vetores que os conectam (neste caso, AB e AC) são paralelos ou antiparalelos. O produto vetorial de dois vetores paralelos ou antiparalelos é sempre zero, o que explica o resultado obtido. "
   ]
  },
  {
   "cell_type": "code",
   "execution_count": 8,
   "metadata": {},
   "outputs": [
    {
     "name": "stdout",
     "output_type": "stream",
     "text": [
      "Author: Data Science Academy\n",
      "\n"
     ]
    }
   ],
   "source": [
    "%reload_ext watermark\n",
    "%watermark -a \"Data Science Academy\""
   ]
  },
  {
   "cell_type": "code",
   "execution_count": 9,
   "metadata": {},
   "outputs": [],
   "source": [
    "#%watermark -v -m"
   ]
  },
  {
   "cell_type": "code",
   "execution_count": 10,
   "metadata": {},
   "outputs": [],
   "source": [
    "#%watermark --iversions"
   ]
  },
  {
   "cell_type": "markdown",
   "metadata": {},
   "source": [
    "# Fim"
   ]
  }
 ],
 "metadata": {
  "kernelspec": {
   "display_name": "Python 3 (ipykernel)",
   "language": "python",
   "name": "python3"
  },
  "language_info": {
   "codemirror_mode": {
    "name": "ipython",
    "version": 3
   },
   "file_extension": ".py",
   "mimetype": "text/x-python",
   "name": "python",
   "nbconvert_exporter": "python",
   "pygments_lexer": "ipython3",
   "version": "3.11.5"
  }
 },
 "nbformat": 4,
 "nbformat_minor": 2
}
