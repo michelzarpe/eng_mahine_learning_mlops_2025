{
 "cells": [
  {
   "cell_type": "markdown",
   "metadata": {},
   "source": [
    "<!-- Projeto Desenvolvido na Data Science Academy - www.datascienceacademy.com.br -->\n",
    "# <font color='blue'>Data Science Academy</font>\n",
    "## <font color='blue'>Matemática e Estatística Aplicada Para Data Science, Machine Learning e IA</font>\n",
    "## <font color='blue'>Lista de Exercícios 6</font>\n",
    "## <font color='blue'>Operações com Matrizes e Programação Python</font>"
   ]
  },
  {
   "cell_type": "markdown",
   "metadata": {},
   "source": [
    "### Instalando e Carregando Pacotes"
   ]
  },
  {
   "cell_type": "code",
   "execution_count": 1,
   "metadata": {},
   "outputs": [],
   "source": [
    "# Para atualizar um pacote, execute o comando abaixo no terminal ou prompt de comando:\n",
    "# pip install -U nome_pacote\n",
    "\n",
    "# Para instalar a versão exata de um pacote, execute o comando abaixo no terminal ou prompt de comando:\n",
    "# !pip install nome_pacote==versão_desejada\n",
    "\n",
    "# Depois de instalar ou atualizar o pacote, reinicie o jupyter notebook.\n",
    "\n",
    "# Instala o pacote watermark. \n",
    "# Esse pacote é usado para gravar as versões de outros pacotes usados neste jupyter notebook.\n",
    "!pip install -q -U watermark"
   ]
  },
  {
   "cell_type": "code",
   "execution_count": 2,
   "metadata": {},
   "outputs": [],
   "source": [
    "# Imports\n",
    "import numpy as np"
   ]
  },
  {
   "cell_type": "code",
   "execution_count": 3,
   "metadata": {},
   "outputs": [
    {
     "name": "stdout",
     "output_type": "stream",
     "text": [
      "Author: Data Science Academy\n",
      "\n"
     ]
    }
   ],
   "source": [
    "# Versões dos pacotes usados neste jupyter notebook\n",
    "%reload_ext watermark\n",
    "%watermark -a \"Data Science Academy\" "
   ]
  },
  {
   "cell_type": "markdown",
   "metadata": {},
   "source": [
    "**Resolva os exercícios abaixo usando Linguagem Python. Faça pesquisa complementar se necessário.**"
   ]
  },
  {
   "cell_type": "code",
   "execution_count": 3,
   "metadata": {},
   "outputs": [],
   "source": [
    "# Criando duas matrizes de exemplo\n",
    "matriz1 = [[1, 2, 3], [0, 1, 4], [5, 6, 0]]\n",
    "matriz2 = [[5, 2, 8], [3, 1, 2], [7, 0, 2]]"
   ]
  },
  {
   "cell_type": "code",
   "execution_count": 4,
   "metadata": {},
   "outputs": [
    {
     "name": "stdout",
     "output_type": "stream",
     "text": [
      "[[1, 2, 3], [0, 1, 4], [5, 6, 0]]\n"
     ]
    }
   ],
   "source": [
    "print(matriz1)"
   ]
  },
  {
   "cell_type": "code",
   "execution_count": 5,
   "metadata": {},
   "outputs": [
    {
     "name": "stdout",
     "output_type": "stream",
     "text": [
      "[[5, 2, 8], [3, 1, 2], [7, 0, 2]]\n"
     ]
    }
   ],
   "source": [
    "print(matriz2)"
   ]
  },
  {
   "cell_type": "markdown",
   "metadata": {},
   "source": [
    "###  Exercício 1: Soma de Matrizes\n",
    "\n",
    "Escreva um programa em Python que soma duas matrizes de mesmo tamanho. As matrizes devem ser lidas como listas de listas e o resultado deve ser exibido na tela. Apresente a solução com e sem o uso do NumPy. Pratique suas habilidades de programação ao mesmo tempo que estuda Matemática."
   ]
  },
  {
   "cell_type": "code",
   "execution_count": 6,
   "metadata": {},
   "outputs": [],
   "source": [
    "# Com NumPy - Versão 1 (mais simples de todas)\n",
    "def dsa_soma_matrizes_v1(m1, m2):\n",
    "    return np.array(m1) + np.array(m2)"
   ]
  },
  {
   "cell_type": "code",
   "execution_count": 7,
   "metadata": {},
   "outputs": [
    {
     "data": {
      "text/plain": [
       "array([[ 6,  4, 11],\n",
       "       [ 3,  2,  6],\n",
       "       [12,  6,  2]])"
      ]
     },
     "execution_count": 7,
     "metadata": {},
     "output_type": "execute_result"
    }
   ],
   "source": [
    "dsa_soma_matrizes_v1(matriz1, matriz2)"
   ]
  },
  {
   "cell_type": "code",
   "execution_count": 8,
   "metadata": {},
   "outputs": [],
   "source": [
    "# Com NumPy - Versão 2\n",
    "def dsa_soma_matrizes_v2(A, B):\n",
    "    \n",
    "    A_np = np.array(A)\n",
    "    B_np = np.array(B)\n",
    "    \n",
    "    return A_np + B_np"
   ]
  },
  {
   "cell_type": "code",
   "execution_count": 9,
   "metadata": {},
   "outputs": [
    {
     "data": {
      "text/plain": [
       "array([[ 6,  4, 11],\n",
       "       [ 3,  2,  6],\n",
       "       [12,  6,  2]])"
      ]
     },
     "execution_count": 9,
     "metadata": {},
     "output_type": "execute_result"
    }
   ],
   "source": [
    "dsa_soma_matrizes_v2(matriz1, matriz2)"
   ]
  },
  {
   "cell_type": "code",
   "execution_count": 11,
   "metadata": {},
   "outputs": [],
   "source": [
    "# Sem NumPy - Versão 3\n",
    "def dsa_soma_matrizes_v3(m1, m2):\n",
    "    \n",
    "    # Verifica se as matrizes têm o mesmo número de linhas e colunas\n",
    "    if len(m1) != len(m2) or len(m1[0]) != len(m2[0]):\n",
    "        \n",
    "        # Retorna uma mensagem de erro se as matrizes não tiverem o mesmo tamanho\n",
    "        return \"As matrizes devem ter o mesmo tamanho\"  \n",
    "    \n",
    "    # Inicializa a matriz de resultado como uma lista vazia\n",
    "    resultado = [] \n",
    "    \n",
    "    # Loop através de cada linha da matriz\n",
    "    for i in range(len(m1)):\n",
    "        \n",
    "        # Inicializa uma nova linha para a matriz de resultado\n",
    "        linha = []  \n",
    "        \n",
    "        # Loop através de cada coluna da linha atual\n",
    "        for j in range(len(m1[0])):\n",
    "            \n",
    "            # Soma os elementos correspondentes das duas matrizes e adiciona à linha\n",
    "            linha.append(m1[i][j] + m2[i][j])  \n",
    "        \n",
    "        # Adiciona a linha recém-calculada à matriz de resultado\n",
    "        resultado.append(linha)  \n",
    "    \n",
    "    # Retorna a matriz de resultado após somar todos os elementos\n",
    "    return resultado  "
   ]
  },
  {
   "cell_type": "code",
   "execution_count": 12,
   "metadata": {},
   "outputs": [
    {
     "data": {
      "text/plain": [
       "[[6, 4, 11], [3, 2, 6], [12, 6, 2]]"
      ]
     },
     "execution_count": 12,
     "metadata": {},
     "output_type": "execute_result"
    }
   ],
   "source": [
    "dsa_soma_matrizes_v3(matriz1, matriz2)"
   ]
  },
  {
   "cell_type": "code",
   "execution_count": 13,
   "metadata": {},
   "outputs": [],
   "source": [
    "# Sem NumPy - Versão 4 (mais complexa)\n",
    "def dsa_soma_matrizes_v4(A, B):\n",
    "    \n",
    "    if len(A) != len(B) or len(A[0]) != len(B[0]):\n",
    "        \n",
    "        return \"Matrizes de tamanhos diferentes\"\n",
    "    \n",
    "    return [[A[i][j] + B[i][j] for j in range(len(A[0]))] for i in range(len(A))]"
   ]
  },
  {
   "cell_type": "code",
   "execution_count": 14,
   "metadata": {},
   "outputs": [
    {
     "data": {
      "text/plain": [
       "[[6, 4, 11], [3, 2, 6], [12, 6, 2]]"
      ]
     },
     "execution_count": 14,
     "metadata": {},
     "output_type": "execute_result"
    }
   ],
   "source": [
    "dsa_soma_matrizes_v4(matriz1, matriz2)"
   ]
  },
  {
   "cell_type": "markdown",
   "metadata": {},
   "source": [
    "### Exercício 2: Multiplicação de Matrizes\n",
    "\n",
    "Implemente uma função em Python que multiplica duas matrizes. Verifique se as dimensões das matrizes são compatíveis para a multiplicação e retorne a matriz resultante. Apresente a solução com e sem o uso do NumPy. Pratique suas habilidades de programação ao mesmo tempo que estuda Matemática."
   ]
  },
  {
   "cell_type": "code",
   "execution_count": 15,
   "metadata": {},
   "outputs": [],
   "source": [
    "# Sem NumPy - Versão 1 (mais complexa)\n",
    "def dsa_multiplica_matrizes_v1(A, B):\n",
    "    \n",
    "    if len(A[0]) != len(B):\n",
    "        \n",
    "        return \"Matrizes com dimensões incompatíveis para multiplicação\"\n",
    "    \n",
    "    return [[sum(A[i][k] * B[k][j] for k in range(len(B))) for j in range(len(B[0]))] for i in range(len(A))]"
   ]
  },
  {
   "cell_type": "code",
   "execution_count": 16,
   "metadata": {},
   "outputs": [
    {
     "data": {
      "text/plain": [
       "[[32, 4, 18], [31, 1, 10], [43, 16, 52]]"
      ]
     },
     "execution_count": 16,
     "metadata": {},
     "output_type": "execute_result"
    }
   ],
   "source": [
    "dsa_multiplica_matrizes_v1(matriz1, matriz2)"
   ]
  },
  {
   "cell_type": "code",
   "execution_count": 17,
   "metadata": {},
   "outputs": [],
   "source": [
    "# Sem NumPy - Versão 2\n",
    "def dsa_multiplica_matrizes_v2(m1, m2):\n",
    "    \n",
    "    if len(m1[0]) != len(m2):\n",
    "        \n",
    "        return \"As matrizes não são compatíveis para a multiplicação\"\n",
    "\n",
    "    resultado = []\n",
    "    \n",
    "    for i in range(len(m1)):\n",
    "        \n",
    "        linha = []\n",
    "        \n",
    "        for j in range(len(m2[0])):\n",
    "            \n",
    "            soma = 0\n",
    "            \n",
    "            for k in range(len(m2)):\n",
    "                \n",
    "                soma += m1[i][k] * m2[k][j]\n",
    "            \n",
    "            linha.append(soma)\n",
    "        \n",
    "        resultado.append(linha)\n",
    "    \n",
    "    return resultado"
   ]
  },
  {
   "cell_type": "code",
   "execution_count": 18,
   "metadata": {},
   "outputs": [
    {
     "data": {
      "text/plain": [
       "[[32, 4, 18], [31, 1, 10], [43, 16, 52]]"
      ]
     },
     "execution_count": 18,
     "metadata": {},
     "output_type": "execute_result"
    }
   ],
   "source": [
    "dsa_multiplica_matrizes_v2(matriz1, matriz2)"
   ]
  },
  {
   "cell_type": "code",
   "execution_count": 19,
   "metadata": {},
   "outputs": [],
   "source": [
    "# Com NumPy - Versão 3\n",
    "def dsa_multiplica_matrizes_v3(A, B):\n",
    "    \n",
    "    A_np = np.array(A)\n",
    "    B_np = np.array(B)\n",
    "    \n",
    "    return np.dot(A_np, B_np)"
   ]
  },
  {
   "cell_type": "code",
   "execution_count": 20,
   "metadata": {},
   "outputs": [
    {
     "data": {
      "text/plain": [
       "array([[32,  4, 18],\n",
       "       [31,  1, 10],\n",
       "       [43, 16, 52]])"
      ]
     },
     "execution_count": 20,
     "metadata": {},
     "output_type": "execute_result"
    }
   ],
   "source": [
    "dsa_multiplica_matrizes_v3(matriz1, matriz2)"
   ]
  },
  {
   "cell_type": "code",
   "execution_count": 21,
   "metadata": {},
   "outputs": [],
   "source": [
    "# Com NumPy - Versão 4 (mais simples)\n",
    "def dsa_multiplica_matrizes_v4(m1, m2):\n",
    "    return np.dot(m1, m2)"
   ]
  },
  {
   "cell_type": "code",
   "execution_count": 22,
   "metadata": {},
   "outputs": [
    {
     "data": {
      "text/plain": [
       "array([[32,  4, 18],\n",
       "       [31,  1, 10],\n",
       "       [43, 16, 52]])"
      ]
     },
     "execution_count": 22,
     "metadata": {},
     "output_type": "execute_result"
    }
   ],
   "source": [
    "dsa_multiplica_matrizes_v4(matriz1, matriz2)"
   ]
  },
  {
   "cell_type": "markdown",
   "metadata": {},
   "source": [
    "### Exercício 3: Transposição de Matriz\n",
    "\n",
    "Crie um programa que calcula a transposta de uma matriz. A matriz deve ser inserida pelo usuário e o programa deve exibir a matriz transposta. Apresente a solução com e sem o uso do NumPy. Pratique suas habilidades de programação ao mesmo tempo que estuda Matemática."
   ]
  },
  {
   "cell_type": "code",
   "execution_count": 23,
   "metadata": {},
   "outputs": [
    {
     "name": "stdout",
     "output_type": "stream",
     "text": [
      "[[1 2 3]\n",
      " [0 1 4]\n",
      " [5 6 0]]\n"
     ]
    }
   ],
   "source": [
    "print(np.array(matriz1))"
   ]
  },
  {
   "cell_type": "code",
   "execution_count": 24,
   "metadata": {},
   "outputs": [],
   "source": [
    "# Com NumPy\n",
    "def dsa_transposicao_v1(matriz):\n",
    "    return np.transpose(matriz)"
   ]
  },
  {
   "cell_type": "code",
   "execution_count": 25,
   "metadata": {},
   "outputs": [
    {
     "data": {
      "text/plain": [
       "array([[1, 0, 5],\n",
       "       [2, 1, 6],\n",
       "       [3, 4, 0]])"
      ]
     },
     "execution_count": 25,
     "metadata": {},
     "output_type": "execute_result"
    }
   ],
   "source": [
    "dsa_transposicao_v1(matriz1)"
   ]
  },
  {
   "cell_type": "code",
   "execution_count": 26,
   "metadata": {},
   "outputs": [],
   "source": [
    "# Sem NumPy\n",
    "def dsa_transposicao_v2(matriz):\n",
    "    \n",
    "    return [[matriz[j][i] for j in range(len(matriz))] for i in range(len(matriz[0]))]"
   ]
  },
  {
   "cell_type": "code",
   "execution_count": 27,
   "metadata": {},
   "outputs": [
    {
     "data": {
      "text/plain": [
       "[[1, 0, 5], [2, 1, 6], [3, 4, 0]]"
      ]
     },
     "execution_count": 27,
     "metadata": {},
     "output_type": "execute_result"
    }
   ],
   "source": [
    "dsa_transposicao_v2(matriz1)"
   ]
  },
  {
   "cell_type": "markdown",
   "metadata": {},
   "source": [
    "### Exercício 4: Traço de uma Matriz\n",
    "\n",
    "Desenvolva um script em Python que calcula o traço de uma matriz (soma dos elementos da diagonal principal). O programa deve funcionar para matrizes quadradas de qualquer tamanho. Apresente a solução com e sem o uso do NumPy. Pratique suas habilidades de programação ao mesmo tempo que estuda Matemática."
   ]
  },
  {
   "cell_type": "markdown",
   "metadata": {},
   "source": [
    "O traço de uma matriz é a soma dos elementos da diagonal principal da matriz. "
   ]
  },
  {
   "cell_type": "code",
   "execution_count": 28,
   "metadata": {},
   "outputs": [
    {
     "name": "stdout",
     "output_type": "stream",
     "text": [
      "[[5 2 8]\n",
      " [3 1 2]\n",
      " [7 0 2]]\n"
     ]
    }
   ],
   "source": [
    "print(np.array(matriz2))"
   ]
  },
  {
   "cell_type": "code",
   "execution_count": 29,
   "metadata": {},
   "outputs": [
    {
     "data": {
      "text/plain": [
       "3"
      ]
     },
     "execution_count": 29,
     "metadata": {},
     "output_type": "execute_result"
    }
   ],
   "source": [
    "len(matriz2)"
   ]
  },
  {
   "cell_type": "code",
   "execution_count": 30,
   "metadata": {},
   "outputs": [],
   "source": [
    "# Com NumPy - Versão 1\n",
    "def dsa_traco_matriz_v1(matriz):\n",
    "    return np.trace(matriz)"
   ]
  },
  {
   "cell_type": "code",
   "execution_count": 31,
   "metadata": {},
   "outputs": [
    {
     "data": {
      "text/plain": [
       "8"
      ]
     },
     "execution_count": 31,
     "metadata": {},
     "output_type": "execute_result"
    }
   ],
   "source": [
    "dsa_traco_matriz_v1(matriz2)"
   ]
  },
  {
   "cell_type": "code",
   "execution_count": 32,
   "metadata": {},
   "outputs": [],
   "source": [
    "# Sem NumPy - Versão 2 (usando generator expression ou expressão geradora)\n",
    "# As expressões geradoras são semelhantes a list comprehensions, mas em vez de criar uma lista completa \n",
    "# na memória, elas geram os itens um por um, o que é mais eficiente em termos de memória.\n",
    "def dsa_traco_matriz_v2(matriz):\n",
    "    \n",
    "    if len(matriz) != len(matriz[0]):\n",
    "        \n",
    "        return \"A matriz deve ser quadrada\"\n",
    "    \n",
    "    soma = sum(matriz[i][i] for i in range(len(matriz)))\n",
    "    \n",
    "    return soma"
   ]
  },
  {
   "cell_type": "code",
   "execution_count": 33,
   "metadata": {},
   "outputs": [
    {
     "data": {
      "text/plain": [
       "8"
      ]
     },
     "execution_count": 33,
     "metadata": {},
     "output_type": "execute_result"
    }
   ],
   "source": [
    "dsa_traco_matriz_v2(matriz2)"
   ]
  },
  {
   "cell_type": "code",
   "execution_count": 34,
   "metadata": {},
   "outputs": [],
   "source": [
    "# Sem NumPy - Versão 3 (usando apenas loop for)\n",
    "def dsa_traco_matriz_v3(matriz):\n",
    "    \n",
    "    if len(matriz) != len(matriz[0]):\n",
    "        \n",
    "        return \"A matriz deve ser quadrada\"\n",
    "\n",
    "    soma = 0\n",
    "    \n",
    "    for i in range(len(matriz)):\n",
    "        \n",
    "        print(\"Valor do Elemento na Posição\", i, i, \":\", matriz[i][i])\n",
    "        \n",
    "        soma += matriz[i][i]\n",
    "    \n",
    "    return soma"
   ]
  },
  {
   "cell_type": "code",
   "execution_count": 35,
   "metadata": {},
   "outputs": [
    {
     "name": "stdout",
     "output_type": "stream",
     "text": [
      "Valor do Elemento na Posição 0 0 : 5\n",
      "Valor do Elemento na Posição 1 1 : 1\n",
      "Valor do Elemento na Posição 2 2 : 2\n"
     ]
    },
    {
     "data": {
      "text/plain": [
       "8"
      ]
     },
     "execution_count": 35,
     "metadata": {},
     "output_type": "execute_result"
    }
   ],
   "source": [
    "dsa_traco_matriz_v3(matriz2)"
   ]
  },
  {
   "cell_type": "markdown",
   "metadata": {},
   "source": [
    "### Exercício 5: Determinante de uma Matriz (Desafio)\n",
    "\n",
    "Escreva uma função que calcula o determinante de uma matriz quadrada. Utilize a recursividade ou o método de Laplace para calcular o determinante. Apresente a solução com e sem o uso do NumPy. Pratique suas habilidades de programação ao mesmo tempo que estuda Matemática."
   ]
  },
  {
   "cell_type": "markdown",
   "metadata": {},
   "source": [
    "O determinante de uma matriz é um valor escalar que fornece informações importantes sobre a matriz. Ele é aplicável apenas a matrizes quadradas (matrizes com o mesmo número de linhas e colunas). O determinante tem várias interpretações e aplicações na matemática, particularmente em álgebra linear, análise e geometria.\n",
    "\n",
    "Algumas das principais propriedades e interpretações do determinante são:\n",
    "\n",
    "**Interpretação Geométrica**: Para matrizes 2x2 e 3x3, o determinante pode ser interpretado como a área (para matrizes 2x2) ou o volume (para matrizes 3x3) do paralelogramo ou paralelepípedo formado pelos vetores que compõem as linhas ou colunas da matriz.\n",
    "\n",
    "**Singularidade**: Um determinante igual a zero indica que a matriz é singular (não invertível). Isso acontece quando as linhas ou colunas da matriz são linearmente dependentes, ou seja, uma linha ou coluna pode ser expressa como uma combinação linear das outras.\n",
    "\n",
    "**Transformações Lineares**: Em termos de transformações lineares, o determinante de uma matriz que representa uma transformação linear indica se a transformação preserva, inverte ou deforma o espaço. Um determinante negativo indica que a orientação foi invertida.\n",
    "\n",
    "**Solução de Sistemas Lineares**: O determinante é usado na regra de Cramer para resolver sistemas de equações lineares. Se o determinante da matriz dos coeficientes for diferente de zero, existe uma única solução para o sistema."
   ]
  },
  {
   "cell_type": "code",
   "execution_count": 36,
   "metadata": {},
   "outputs": [],
   "source": [
    "# Com NumPy - Versão 1\n",
    "def dsa_determinante_v1(matriz):\n",
    "    return np.linalg.det(matriz)"
   ]
  },
  {
   "cell_type": "code",
   "execution_count": 37,
   "metadata": {},
   "outputs": [
    {
     "data": {
      "text/plain": [
       "0.9999999999999987"
      ]
     },
     "execution_count": 37,
     "metadata": {},
     "output_type": "execute_result"
    }
   ],
   "source": [
    "dsa_determinante_v1(matriz1)"
   ]
  },
  {
   "cell_type": "code",
   "execution_count": 38,
   "metadata": {},
   "outputs": [],
   "source": [
    "# Sem NumPy - Versão 2 (usando expansão de Laplace)\n",
    "def dsa_determinante_v2(matriz):\n",
    "    \n",
    "    \"\"\"\n",
    "    Calcula o determinante de uma matriz quadrada usando a expansão de Laplace.\n",
    "    \n",
    "    Args:\n",
    "    matriz (list of list of int/float): Matriz quadrada para a qual o determinante será calculado.\n",
    "    \n",
    "    Returns:\n",
    "    int/float: Determinante da matriz.\n",
    "    \"\"\"\n",
    "    \n",
    "    # Verifica se a matriz é quadrada (número de linhas igual ao número de colunas)\n",
    "    if len(matriz) != len(matriz[0]):\n",
    "        return \"A matriz deve ser quadrada\"\n",
    "\n",
    "    # Caso base para uma matriz 1x1\n",
    "    if len(matriz) == 1:\n",
    "        return matriz[0][0]\n",
    "    \n",
    "    # Caso base para uma matriz 2x2\n",
    "    if len(matriz) == 2:\n",
    "        return matriz[0][0] * matriz[1][1] - matriz[0][1] * matriz[1][0]\n",
    "\n",
    "    # Inicializa o determinante como 0\n",
    "    det = 0\n",
    "    \n",
    "    # Loop sobre os elementos da primeira linha\n",
    "    for c in range(len(matriz)):\n",
    "        \n",
    "        # Cria uma submatriz removendo a linha atual e a coluna c\n",
    "        submatriz = [linha[:c] + linha[c+1:] for linha in matriz[1:]]\n",
    "        \n",
    "        # Adiciona ao determinante o valor do elemento atual multiplicado pelo determinante\n",
    "        # da submatriz, ajustado pelo sinal (-1)^c\n",
    "        det += ((-1) ** c) * matriz[0][c] * dsa_determinante_v2(submatriz)\n",
    "        #det += ((-1) ** c) * matriz[0][c] * dsa_determinante_v1(submatriz)\n",
    "    \n",
    "    return det"
   ]
  },
  {
   "cell_type": "code",
   "execution_count": 39,
   "metadata": {},
   "outputs": [
    {
     "data": {
      "text/plain": [
       "1"
      ]
     },
     "execution_count": 39,
     "metadata": {},
     "output_type": "execute_result"
    }
   ],
   "source": [
    "dsa_determinante_v2(matriz1)"
   ]
  },
  {
   "cell_type": "code",
   "execution_count": 40,
   "metadata": {},
   "outputs": [
    {
     "name": "stdout",
     "output_type": "stream",
     "text": [
      "Author: Data Science Academy\n",
      "\n"
     ]
    }
   ],
   "source": [
    "%reload_ext watermark\n",
    "%watermark -a \"Data Science Academy\""
   ]
  },
  {
   "cell_type": "code",
   "execution_count": 41,
   "metadata": {},
   "outputs": [],
   "source": [
    "#%watermark -v -m"
   ]
  },
  {
   "cell_type": "code",
   "execution_count": 42,
   "metadata": {},
   "outputs": [],
   "source": [
    "#%watermark --iversions"
   ]
  },
  {
   "cell_type": "markdown",
   "metadata": {},
   "source": [
    "# Fim"
   ]
  }
 ],
 "metadata": {
  "kernelspec": {
   "display_name": "Python 3 (ipykernel)",
   "language": "python",
   "name": "python3"
  },
  "language_info": {
   "codemirror_mode": {
    "name": "ipython",
    "version": 3
   },
   "file_extension": ".py",
   "mimetype": "text/x-python",
   "name": "python",
   "nbconvert_exporter": "python",
   "pygments_lexer": "ipython3",
   "version": "3.11.5"
  }
 },
 "nbformat": 4,
 "nbformat_minor": 2
}
