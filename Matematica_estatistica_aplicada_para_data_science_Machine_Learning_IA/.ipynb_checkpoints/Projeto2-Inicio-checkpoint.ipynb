{
 "cells": [
  {
   "cell_type": "markdown",
   "metadata": {},
   "source": [
    "<!-- Projeto Desenvolvido na Data Science Academy - www.datascienceacademy.com.br -->\n",
    "# <font color='blue'>Data Science Academy</font>\n",
    "## <font color='blue'>Matemática e Estatística Aplicada Para Data Science, Machine Learning e IA</font>\n",
    "## <font color='blue'>Projeto 2</font>\n",
    "### <font color='blue'>Construindo Algoritmo de Rede Neural Artificial Através de Operações com Matrizes</font>"
   ]
  },
  {
   "cell_type": "markdown",
   "metadata": {},
   "source": [
    "## Instalando e Carregando os Pacotes"
   ]
  },
  {
   "cell_type": "code",
   "execution_count": 1,
   "metadata": {},
   "outputs": [],
   "source": [
    "# Para atualizar um pacote, execute o comando abaixo no terminal ou prompt de comando:\n",
    "# pip install -U nome_pacote\n",
    "\n",
    "# Para instalar a versão exata de um pacote, execute o comando abaixo no terminal ou prompt de comando:\n",
    "# !pip install nome_pacote==versão_desejada\n",
    "\n",
    "# Depois de instalar ou atualizar o pacote, reinicie o jupyter notebook.\n",
    "\n",
    "# Instala o pacote watermark. \n",
    "# Esse pacote é usado para gravar as versões de outros pacotes usados neste jupyter notebook.\n",
    "#!pip install -q -U watermark"
   ]
  },
  {
   "cell_type": "code",
   "execution_count": 1,
   "metadata": {},
   "outputs": [],
   "source": [
    "# Imports\n",
    "import numpy as np"
   ]
  },
  {
   "cell_type": "code",
   "execution_count": 2,
   "metadata": {},
   "outputs": [
    {
     "name": "stdout",
     "output_type": "stream",
     "text": [
      "Author: Data Science Academy\n",
      "\n"
     ]
    }
   ],
   "source": [
    "# Versões dos pacotes usados neste jupyter notebook\n",
    "%reload_ext watermark\n",
    "%watermark -a \"Data Science Academy\" "
   ]
  },
  {
   "cell_type": "markdown",
   "metadata": {},
   "source": [
    "## Parte 1 - Escrever o Algoritmo"
   ]
  },
  {
   "cell_type": "code",
   "execution_count": 39,
   "metadata": {},
   "outputs": [],
   "source": [
    "class NND:\n",
    "    def __init__(self, taxa_aprendizado, num_interacoes):\n",
    "        self.taxa_aprendizado=taxa_aprendizado\n",
    "        self.num_interacoes=num_interacoes\n",
    "        #pesos e bias são coeficientes ou parametros do modelo\n",
    "        self.pesos=None\n",
    "        self.bias=None\n",
    "        \n",
    "        #funcao de ativaçao\n",
    "        #valores entre 0 e 1 para cada classe prevista\n",
    "    def fun_act_sigmoid(self, pred):\n",
    "        sig = 1 / (1 + np.exp(-pred))\n",
    "        \n",
    "        #reinar modelo\n",
    "    def fit(self, entrada, saida):\n",
    "        num_registros, num_atributos = entrada.shape\n",
    "        self.pesos = np.zeros(num_atributos)\n",
    "        self.bias = 0\n",
    "        print(\"\\nTreinamento Inicialdo!\")\n",
    "        \n",
    "        for i in range(self.num_interacoes):\n",
    "            print('\\nInicio Treinamento do modelo época: ', i)\n",
    "            print('vlrs iniciais de pesos: ',self.pesos)\n",
    "            print('vlrs iniciais de bias: ',self.bias)\n",
    "            \n",
    "            # primeira parte: forward pass (passada para frente)\n",
    "            \n",
    "            # np.dot =  produto escalar\n",
    "            previsao = np.dot(entrada, self.pesos) + self.bias\n",
    "            print('Previsao antes da função de ativação: ',previsao)\n",
    "            previsao_final = self.fun_act_sigmoid(previsao)\n",
    "            print('Previsao depois da fun act ', previsao_final)\n",
    "            erro = (previsao_final - saida)\n",
    "            print('Erro do modelo: ',erro)\n",
    "            \n",
    "            #segunda parte: backward pass (passada para trás) ou backpropagation\n",
    "            \n",
    "            #calcula os gradientes (derivadas da matriz de pesos e do bias)\n",
    "            dw = (1 / num_registros) * np.dot(entrada.T, erro)\n",
    "            db = (1 / num_registros) * np.sum(previsao_final - saida)\n",
    "            \n",
    "            #atualiza pesos e bias usando o valor das derivadas e a taxa de aprendizado\n",
    "            self.pesos -= self.taxa_aprendizado * dw    \n",
    "            print('vlrs de pesos calculado: ', self.pesos) \n",
    "            self.bias -= self.taxa_aprendizado * db\n",
    "            print('vvlrs de bias calculado: ', self.bias)\n",
    "            print('_______________________________________________')\n",
    "            \n",
    "        print('\\nTreinamento Concluido!')\n",
    "        \n",
    "    def predicao(self, entrada):\n",
    "        # faz previsao com dados de entrada e pesos e bias\n",
    "        previsao = np.dot(entrada, self.pesos) + self.bias\n",
    "        print('Previsão antes de passar pela funcao de ativação: ', previsao)\n",
    "        previsao_final = self.fun_act_sigmoid(previsao)\n",
    "        print('Previsão depois de passar pela funcao de ativação: ', previsao_final)\n",
    "        #aplica o cut-off e converte probabilidade para classes binarias\n",
    "        classe_prevista = [1 if i>0.5 else 0 for i in previsao_final]\n",
    "        return classe_prevista\n",
    "        "
   ]
  },
  {
   "cell_type": "markdown",
   "metadata": {},
   "source": [
    "## Parte 2 - Preparar os Dados de Treino e Teste"
   ]
  },
  {
   "cell_type": "code",
   "execution_count": 28,
   "metadata": {},
   "outputs": [
    {
     "data": {
      "text/plain": [
       "array([[1. , 2.5],\n",
       "       [2. , 3. ],\n",
       "       [3. , 5. ],\n",
       "       [1. , 4. ],\n",
       "       [1.5, 2. ],\n",
       "       [5. , 6. ],\n",
       "       [6. , 7. ],\n",
       "       [4. , 5.5]])"
      ]
     },
     "execution_count": 28,
     "metadata": {},
     "output_type": "execute_result"
    }
   ],
   "source": [
    "dados_entrada = np.array([\n",
    "    [1,2.5], [2,3], [3,5], [1,4], [1.5, 2], [5,6], [6,7], [4, 5.5]\n",
    "])\n",
    "dados_entrada"
   ]
  },
  {
   "cell_type": "code",
   "execution_count": 29,
   "metadata": {},
   "outputs": [
    {
     "data": {
      "text/plain": [
       "array([0, 0, 1, 0, 1, 0, 1, 1])"
      ]
     },
     "execution_count": 29,
     "metadata": {},
     "output_type": "execute_result"
    }
   ],
   "source": [
    "#classe 0 = não é transação suspeita\n",
    "#classe 1 = é uma transação suspeita\n",
    "dados_saida = np.array(\n",
    "    [0, 0, 1, 0, 1, 0, 1, 1]\n",
    ")\n",
    "dados_saida"
   ]
  },
  {
   "cell_type": "code",
   "execution_count": 30,
   "metadata": {},
   "outputs": [
    {
     "data": {
      "text/plain": [
       "(8, 2)"
      ]
     },
     "execution_count": 30,
     "metadata": {},
     "output_type": "execute_result"
    }
   ],
   "source": [
    "dados_entrada.shape"
   ]
  },
  {
   "cell_type": "code",
   "execution_count": 31,
   "metadata": {},
   "outputs": [
    {
     "data": {
      "text/plain": [
       "(8,)"
      ]
     },
     "execution_count": 31,
     "metadata": {},
     "output_type": "execute_result"
    }
   ],
   "source": [
    "dados_saida.shape"
   ]
  },
  {
   "cell_type": "code",
   "execution_count": 32,
   "metadata": {},
   "outputs": [],
   "source": [
    "x_treino = np.array([[1,2.5],[2,3],[3,5],[1,4],[5,6],[6,7]]) \n",
    "y_treino = np.array([0,0,1,0,1,1])"
   ]
  },
  {
   "cell_type": "markdown",
   "metadata": {},
   "source": [
    "## Parte 3 - Treinamento do Modelo"
   ]
  },
  {
   "cell_type": "code",
   "execution_count": 40,
   "metadata": {},
   "outputs": [
    {
     "name": "stdout",
     "output_type": "stream",
     "text": [
      "\n",
      "Treinamento Inicialdo!\n",
      "\n",
      "Inicio Treinamento do modelo época:  0\n",
      "vlrs iniciais de pesos:  [0. 0.]\n",
      "vlrs iniciais de bias:  0\n",
      "Previsao antes da função de ativação:  [0. 0. 0. 0. 0. 0.]\n",
      "Previsao depois da fun act  None\n"
     ]
    },
    {
     "ename": "TypeError",
     "evalue": "unsupported operand type(s) for -: 'NoneType' and 'int'",
     "output_type": "error",
     "traceback": [
      "\u001b[1;31m---------------------------------------------------------------------------\u001b[0m",
      "\u001b[1;31mTypeError\u001b[0m                                 Traceback (most recent call last)",
      "Cell \u001b[1;32mIn[40], line 5\u001b[0m\n\u001b[0;32m      3\u001b[0m num_interacoes \u001b[38;5;241m=\u001b[39m \u001b[38;5;241m1000\u001b[39m\n\u001b[0;32m      4\u001b[0m modelo \u001b[38;5;241m=\u001b[39m NND(taxa_aprendizado, num_interacoes)\n\u001b[1;32m----> 5\u001b[0m modelo\u001b[38;5;241m.\u001b[39mfit(x_treino, y_treino)\n",
      "Cell \u001b[1;32mIn[39], line 33\u001b[0m, in \u001b[0;36mNND.fit\u001b[1;34m(self, entrada, saida)\u001b[0m\n\u001b[0;32m     31\u001b[0m previsao_final \u001b[38;5;241m=\u001b[39m \u001b[38;5;28mself\u001b[39m\u001b[38;5;241m.\u001b[39mfun_act_sigmoid(previsao)\n\u001b[0;32m     32\u001b[0m \u001b[38;5;28mprint\u001b[39m(\u001b[38;5;124m'\u001b[39m\u001b[38;5;124mPrevisao depois da fun act \u001b[39m\u001b[38;5;124m'\u001b[39m, previsao_final)\n\u001b[1;32m---> 33\u001b[0m erro \u001b[38;5;241m=\u001b[39m (previsao_final \u001b[38;5;241m-\u001b[39m saida)\n\u001b[0;32m     34\u001b[0m \u001b[38;5;28mprint\u001b[39m(\u001b[38;5;124m'\u001b[39m\u001b[38;5;124mErro do modelo: \u001b[39m\u001b[38;5;124m'\u001b[39m,erro)\n\u001b[0;32m     36\u001b[0m \u001b[38;5;66;03m#segunda parte: backward pass (passada para trás) ou backpropagation\u001b[39;00m\n\u001b[0;32m     37\u001b[0m \n\u001b[0;32m     38\u001b[0m \u001b[38;5;66;03m#calcula os gradientes (derivadas da matriz de pesos e do bias)\u001b[39;00m\n",
      "\u001b[1;31mTypeError\u001b[0m: unsupported operand type(s) for -: 'NoneType' and 'int'"
     ]
    }
   ],
   "source": [
    "#hiperparametros\n",
    "taxa_aprendizado = 0.01\n",
    "num_interacoes = 1000\n",
    "modelo = NND(taxa_aprendizado, num_interacoes)\n",
    "modelo.fit(x_treino, y_treino)"
   ]
  },
  {
   "cell_type": "markdown",
   "metadata": {},
   "source": [
    "## Parte 4 - Avaliação do Modelo"
   ]
  },
  {
   "cell_type": "code",
   "execution_count": null,
   "metadata": {},
   "outputs": [],
   "source": []
  },
  {
   "cell_type": "code",
   "execution_count": null,
   "metadata": {},
   "outputs": [],
   "source": []
  },
  {
   "cell_type": "code",
   "execution_count": null,
   "metadata": {},
   "outputs": [],
   "source": []
  },
  {
   "cell_type": "markdown",
   "metadata": {},
   "source": [
    "## Parte 5 - Deploy do Modelo"
   ]
  },
  {
   "cell_type": "code",
   "execution_count": null,
   "metadata": {},
   "outputs": [],
   "source": []
  },
  {
   "cell_type": "code",
   "execution_count": null,
   "metadata": {},
   "outputs": [],
   "source": []
  },
  {
   "cell_type": "code",
   "execution_count": null,
   "metadata": {},
   "outputs": [],
   "source": []
  },
  {
   "cell_type": "code",
   "execution_count": 4,
   "metadata": {},
   "outputs": [
    {
     "name": "stdout",
     "output_type": "stream",
     "text": [
      "Author: Data Science Academy\n",
      "\n"
     ]
    }
   ],
   "source": [
    "%reload_ext watermark\n",
    "%watermark -a \"Data Science Academy\""
   ]
  },
  {
   "cell_type": "code",
   "execution_count": 5,
   "metadata": {},
   "outputs": [],
   "source": [
    "#%watermark -v -m"
   ]
  },
  {
   "cell_type": "code",
   "execution_count": 6,
   "metadata": {},
   "outputs": [],
   "source": [
    "#%watermark --iversions"
   ]
  },
  {
   "cell_type": "markdown",
   "metadata": {},
   "source": [
    "## Fim"
   ]
  }
 ],
 "metadata": {
  "kernelspec": {
   "display_name": "Python 3 (ipykernel)",
   "language": "python",
   "name": "python3"
  },
  "language_info": {
   "codemirror_mode": {
    "name": "ipython",
    "version": 3
   },
   "file_extension": ".py",
   "mimetype": "text/x-python",
   "name": "python",
   "nbconvert_exporter": "python",
   "pygments_lexer": "ipython3",
   "version": "3.11.5"
  }
 },
 "nbformat": 4,
 "nbformat_minor": 2
}
