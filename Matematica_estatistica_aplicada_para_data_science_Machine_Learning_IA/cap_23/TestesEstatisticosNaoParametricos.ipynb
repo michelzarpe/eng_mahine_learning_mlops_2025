{
 "cells": [
  {
   "cell_type": "markdown",
   "metadata": {},
   "source": [
    "<!-- Projeto Desenvolvido na Data Science Academy - www.datascienceacademy.com.br -->\n",
    "# <font color='blue'>Data Science Academy</font>\n",
    "## <font color='blue'>Matemática e Estatística Aplicada Para Data Science, Machine Learning e IA</font>\n",
    "## <font color='blue'>Testes Estatísticos Não Paramétricos</font>"
   ]
  },
  {
   "cell_type": "markdown",
   "metadata": {},
   "source": [
    "## Instalando e Carregando os Pacotes"
   ]
  },
  {
   "cell_type": "code",
   "execution_count": 1,
   "metadata": {},
   "outputs": [],
   "source": [
    "# Para atualizar um pacote, execute o comando abaixo no terminal ou prompt de comando:\n",
    "# pip install -U nome_pacote\n",
    "\n",
    "# Para instalar a versão exata de um pacote, execute o comando abaixo no terminal ou prompt de comando:\n",
    "# !pip install nome_pacote==versão_desejada\n",
    "\n",
    "# Depois de instalar ou atualizar o pacote, reinicie o jupyter notebook.\n",
    "\n",
    "# Instala o pacote watermark. \n",
    "# Esse pacote é usado para gravar as versões de outros pacotes usados neste jupyter notebook.\n",
    "!pip install -q -U watermark"
   ]
  },
  {
   "cell_type": "code",
   "execution_count": 2,
   "metadata": {},
   "outputs": [],
   "source": [
    "!pip install -q scikit-posthocs"
   ]
  },
  {
   "cell_type": "code",
   "execution_count": 3,
   "metadata": {},
   "outputs": [],
   "source": [
    "# Imports\n",
    "import numpy as np\n",
    "import pandas as pd\n",
    "import matplotlib.pyplot as plt\n",
    "import scikit_posthocs as sp\n",
    "from scipy.stats import wilcoxon\n",
    "from scipy.stats import mannwhitneyu\n",
    "from scipy.stats import kruskal\n",
    "from scipy.stats import friedmanchisquare\n",
    "from scipy.stats import spearmanr\n",
    "from scipy.stats import shapiro"
   ]
  },
  {
   "cell_type": "code",
   "execution_count": 4,
   "metadata": {},
   "outputs": [
    {
     "name": "stdout",
     "output_type": "stream",
     "text": [
      "Author: Data Science Academy\n",
      "\n"
     ]
    }
   ],
   "source": [
    "# Versões dos pacotes usados neste jupyter notebook\n",
    "%reload_ext watermark\n",
    "%watermark -a \"Data Science Academy\" "
   ]
  },
  {
   "cell_type": "markdown",
   "metadata": {},
   "source": [
    "## O Que São Testes Não Paramétricos?\n",
    "\n",
    "Veja o ebook no Capítulo 23 do curso com a definição completa."
   ]
  },
  {
   "cell_type": "markdown",
   "metadata": {},
   "source": [
    "## Quando Usar Testes Não Paramétricos?\n",
    "\n",
    "Testes não paramétricos são uma ferramenta estatística essencial que você pode usar em diversas situações onde os testes paramétricos podem não ser adequados. Aqui estão alguns dos principais cenários e considerações para decidir quando usar testes não paramétricos:\n",
    "\n",
    "1. Distribuição dos Dados\n",
    "\n",
    "Quando os dados não seguem uma distribuição normal (ou qualquer outra distribuição específica assumida por testes paramétricos), os testes não paramétricos são uma opção viável. Isso é comum com amostras pequenas, onde é difícil verificar a normalidade, ou com dados que são claramente assimétricos ou têm outliers significativos.\n",
    "\n",
    "2. Tamanho da Amostra\n",
    "\n",
    "Testes não paramétricos são particularmente úteis em situações com amostras pequenas. Eles não dependem do Teorema Central do Limite, que é a base para muitos testes paramétricos que assumem uma distribuição normal nas amostras maiores. Assim, para amostras pequenas, testes não paramétricos podem fornecer análises mais confiáveis.\n",
    "\n",
    "3. Nível de Medida dos Dados\n",
    "\n",
    "Quando os dados são ordinais ou nominais (categóricos), os testes não paramétricos são geralmente necessários, pois os testes paramétricos geralmente requerem dados de intervalo ou de razão (numéricos) que suportem operações aritméticas como média e desvio padrão.\n",
    "\n",
    "4. Robustez contra Violações de Suposições\n",
    "\n",
    "Testes não paramétricos não são tão sensíveis a outliers e outros tipos de violações de suposições como homogeneidade de variâncias (homocedasticidade) que são críticas para testes paramétricos. Se você suspeita que seus dados podem violar essas suposições, os testes não paramétricos podem fornecer resultados mais confiáveis.\n",
    "\n",
    "5. Modelagem de Dados\n",
    "\n",
    "Em análises onde a forma funcional da relação entre variáveis não é conhecida ou é muito complexa, os métodos não paramétricos podem fornecer modelos flexíveis sem a necessidade de especificar uma forma funcional a priori, como é o caso da regressão não paramétrica (que aplicaremos no Projeto 9 do curso)."
   ]
  },
  {
   "cell_type": "markdown",
   "metadata": {},
   "source": [
    "## Teste de Wilcoxon\n",
    "\n",
    "O teste de Wilcoxon é uma alternativa não paramétrica ao teste t. Ele é usado para comparar duas amostras relacionadas quando não se pode assumir que a diferença entre as amostras segue uma distribuição normal. \n",
    "\n",
    "Vejamos um exemplo. Temos amostras de tamanhos de plantas antes e depois do uso de fertilizantes. Não conhecemos a distribuição dos dados."
   ]
  },
  {
   "cell_type": "code",
   "execution_count": 5,
   "metadata": {},
   "outputs": [],
   "source": [
    "# Gerando dados que não seguem uma distribuição normal\n",
    "\n",
    "# Para reprodutibilidade\n",
    "np.random.seed(42)  \n",
    "\n",
    "# Dados antes de usar fertilizante\n",
    "# Utilizando uma distribuição exponencial, comumente usada para modelar tempos de espera\n",
    "dados_antes = np.random.exponential(scale = 10, size = 10) + 15  \n",
    "\n",
    "# Dados depois de usar fertilizante\n",
    "# Utilizando uma mistura de distribuições para aumentar a assimetria\n",
    "dados_depois = np.concatenate([np.random.exponential(scale = 15, size = 5),  \n",
    "                               np.random.exponential(scale = 5, size = 5)]) + 20  \n",
    "\n",
    "# Adicionando um pequeno ruído para evitar zeros nas diferenças\n",
    "ruído = np.random.normal(0, 0.01, size = dados_antes.shape)\n",
    "dados_depois_modificados = dados_depois + ruído"
   ]
  },
  {
   "cell_type": "code",
   "execution_count": 6,
   "metadata": {},
   "outputs": [
    {
     "name": "stdout",
     "output_type": "stream",
     "text": [
      "Tamanho das Plantas Antes de Aplicar o Fertilizante:\n",
      " [19.6926809  45.10121431 28.16745694 24.12942554 16.6962487  16.69596292\n",
      " 15.59838769 35.11230864 24.19082154 27.31250062]\n"
     ]
    }
   ],
   "source": [
    "print(\"Tamanho das Plantas Antes de Aplicar o Fertilizante:\\n\", dados_antes)"
   ]
  },
  {
   "cell_type": "code",
   "execution_count": 7,
   "metadata": {},
   "outputs": [
    {
     "name": "stdout",
     "output_type": "stream",
     "text": [
      "Tamanho das Plantas Depois de Aplicar o Fertilizante:\n",
      " [20.30186131 72.5565046  46.78736291 23.56619134 23.02484132 21.01079935\n",
      " 21.81444393 23.70539167 22.82224151 21.72222419]\n"
     ]
    }
   ],
   "source": [
    "print(\"Tamanho das Plantas Depois de Aplicar o Fertilizante:\\n\", dados_depois_modificados)"
   ]
  },
  {
   "cell_type": "code",
   "execution_count": 8,
   "metadata": {},
   "outputs": [],
   "source": [
    "# Teste de Shapiro-Wilk para verificar a normalidade\n",
    "stat_A, p_A = shapiro(dados_antes)\n",
    "stat_B, p_B = shapiro(dados_depois_modificados)"
   ]
  },
  {
   "cell_type": "code",
   "execution_count": 9,
   "metadata": {},
   "outputs": [
    {
     "name": "stdout",
     "output_type": "stream",
     "text": [
      "Não há evidências suficientes para rejeitar a hipótese de normalidade para a amostra A.\n",
      "Há evidências suficientes para rejeitar a hipótese de normalidade para a amostra B.\n"
     ]
    }
   ],
   "source": [
    "# Interpretando os resultados do Teste de Shapiro-Wilk\n",
    "\n",
    "nivel_significancia = 0.05\n",
    "\n",
    "if p_A > nivel_significancia:\n",
    "    print(\"Não há evidências suficientes para rejeitar a hipótese de normalidade para a amostra A.\")\n",
    "else:\n",
    "    print(\"Há evidências suficientes para rejeitar a hipótese de normalidade para a amostra A.\")\n",
    "\n",
    "if p_B > nivel_significancia:\n",
    "    print(\"Não há evidências suficientes para rejeitar a hipótese de normalidade para a amostra B.\")\n",
    "else:\n",
    "    print(\"Há evidências suficientes para rejeitar a hipótese de normalidade para a amostra B.\")"
   ]
  },
  {
   "cell_type": "code",
   "execution_count": 10,
   "metadata": {},
   "outputs": [],
   "source": [
    "# Aplicação do teste de Wilcoxon\n",
    "stat, p = wilcoxon(dados_antes, dados_depois_modificados)"
   ]
  },
  {
   "cell_type": "markdown",
   "metadata": {},
   "source": [
    "O teste de Wilcoxon testa duas hipóteses sobre as diferenças entre os pares de observações nas duas amostras relacionadas. Aqui estão as hipóteses:\n",
    "\n",
    "**Hipótese Nula (H0)**: Não há diferença mediana entre os pares de grupos. Isso significa que a mediana das diferenças entre os pares de amostras é zero. Em termos mais técnicos, a hipótese nula afirma que a distribuição da diferença entre os pares é simétrica em torno de zero.\n",
    "\n",
    "**Hipótese Alternativa (H1 ou Ha)**: Existe uma diferença mediana entre os pares de grupos. A mediana das diferenças entre os pares de amostras não é zero, indicando que uma das amostras tende a ter valores maiores ou menores que a outra. Esta hipótese pode ser bidirecional (simplesmente indicando que as medianas são diferentes) ou unidirecional (especificando se a mediana da primeira amostra é maior ou menor que a da segunda)."
   ]
  },
  {
   "cell_type": "code",
   "execution_count": 11,
   "metadata": {},
   "outputs": [
    {
     "name": "stdout",
     "output_type": "stream",
     "text": [
      "Estatística do Teste: 17.0\n",
      "Valor-p: 0.322265625\n"
     ]
    }
   ],
   "source": [
    "print(\"Estatística do Teste:\", stat)\n",
    "print(\"Valor-p:\", p)"
   ]
  },
  {
   "cell_type": "code",
   "execution_count": 12,
   "metadata": {},
   "outputs": [
    {
     "name": "stdout",
     "output_type": "stream",
     "text": [
      "Não há evidências suficientes para rejeitar a hipótese nula (as medianas provavelmente são iguais).\n",
      "Logo, não há diferença significativa no tamanho das plantas ao aplicar o fertilizante.\n"
     ]
    }
   ],
   "source": [
    "# Interpretação do resultado\n",
    "if p > 0.05:\n",
    "    print(\"Não há evidências suficientes para rejeitar a hipótese nula (as medianas provavelmente são iguais).\")\n",
    "    print(\"Logo, não há diferença significativa no tamanho das plantas ao aplicar o fertilizante.\")\n",
    "else:\n",
    "    print(\"Rejeita-se a hipótese nula (as medianas provavelmente são diferentes).\")"
   ]
  },
  {
   "cell_type": "markdown",
   "metadata": {},
   "source": [
    "## Teste Mann-Whitney\n",
    "\n",
    "O Teste Mann-Whitney, também conhecido como Teste U de Mann-Whitney, é um teste estatístico  não  paramétrico  que  é  utilizado  para  comparar  duas  amostras  independentes."
   ]
  },
  {
   "cell_type": "markdown",
   "metadata": {},
   "source": [
    "### Exemplo 1\n",
    "\n",
    "Neste exemplo, geramos duas amostras hipotéticas (amostra1 e amostra2) e aplicamos o Teste Mann-Whitney utilizando a função mannwhitneyu da biblioteca SciPy. O resultado inclui a estatística U e o valor-p. O valor-p é utilizado para determinar se há diferença significativa entre as distribuições das duas amostras. \n",
    "\n",
    "Se o valor-p for menor que o nível de significância estabelecido (geralmente 0,05), rejeita-se a hipótese nula e conclui-se que as distribuições das duas amostras são significativamente diferentes. Caso contrário, não se pode rejeitar a hipótese nula."
   ]
  },
  {
   "cell_type": "code",
   "execution_count": 13,
   "metadata": {},
   "outputs": [
    {
     "name": "stdout",
     "output_type": "stream",
     "text": [
      "Estatística U: 38.0\n",
      "Valor-p: 0.5737373737373737\n"
     ]
    }
   ],
   "source": [
    "# Exemplo de duas amostras independentes\n",
    "amostra1 = np.array([3, 5, 7, 9, 11, 15, 18, 21])\n",
    "amostra2 = np.array([1, 4, 6, 8, 10, 12, 14, 16])\n",
    "\n",
    "# H0: Não há diferença significativa entre as distribuições das amostras\n",
    "# H1: As distribuições das amostras são significativamente diferentes\n",
    "\n",
    "# Realiza o Teste Mann-Whitney\n",
    "resultado = mannwhitneyu(amostra1, amostra2)\n",
    "\n",
    "# Exibe o resultado\n",
    "print(\"Estatística U:\", resultado.statistic)\n",
    "print(\"Valor-p:\", resultado.pvalue)"
   ]
  },
  {
   "cell_type": "markdown",
   "metadata": {},
   "source": [
    "**Conclusão do Exemplo 1:** O valor-p é maior que o nível de significância, logo falhamos em rejeitar a H0. Não há diferença significativa entre as distribuições das amostras."
   ]
  },
  {
   "cell_type": "markdown",
   "metadata": {},
   "source": [
    "### Exemplo 2\n",
    "\n",
    "Neste exemplo, geramos duas amostras com distribuições normais distintas: amostra1 possui média 10 e desvio padrão 3, enquanto amostra2 possui média 14 e desvio padrão 2. Em seguida, aplicamos o Teste Mann-Whitney utilizando a função mannwhitneyu e exibimos os resultados.\n",
    "\n",
    "Além disso, usamos a biblioteca Matplotlib para criar um histograma das duas amostras, a fim de visualizar as distribuições e verificar se são distintas.\n",
    "\n",
    "O valor-p resultante do Teste Mann-Whitney pode ser usado para avaliar se as duas amostras têm distribuições significativamente diferentes, considerando um nível de significância pré-estabelecido (como 0,05). Se o valor-p for menor que o nível de significância, rejeita-se a hipótese nula e conclui-se que as distribuições são significativamente diferentes."
   ]
  },
  {
   "cell_type": "code",
   "execution_count": 14,
   "metadata": {},
   "outputs": [
    {
     "name": "stdout",
     "output_type": "stream",
     "text": [
      "Estatística U: 243.0\n",
      "Valor-p: 4.6008399005444884e-14\n"
     ]
    },
    {
     "data": {
      "image/png": "[encoded data removed]",
      "text/plain": [
       "<Figure size 640x480 with 1 Axes>"
      ]
     },
     "metadata": {},
     "output_type": "display_data"
    }
   ],
   "source": [
    "# Gera duas amostras com distribuições diferentes\n",
    "np.random.seed(42)\n",
    "amostra1 = np.random.normal(loc = 10, scale = 3, size = 50)\n",
    "amostra2 = np.random.normal(loc = 14, scale = 2, size = 60)\n",
    "\n",
    "# H0: Não há diferença significativa entre as distribuições das amostras\n",
    "# H1: As distribuições das amostras são significativamente diferentes\n",
    "\n",
    "# Realiza o Teste Mann-Whitney\n",
    "resultado = mannwhitneyu(amostra1, amostra2)\n",
    "\n",
    "# Exibe o resultado\n",
    "print(\"Estatística U:\", resultado.statistic)\n",
    "print(\"Valor-p:\", resultado.pvalue)\n",
    "\n",
    "# Visualiza as distribuições das amostras\n",
    "plt.hist(amostra1, bins = 10, alpha = 0.5, label = \"Amostra 1\")\n",
    "plt.hist(amostra2, bins = 10, alpha = 0.5, label = \"Amostra 2\")\n",
    "plt.xlabel(\"Valores\")\n",
    "plt.ylabel(\"Frequência\")\n",
    "plt.legend(loc=\"upper right\")\n",
    "plt.show()"
   ]
  },
  {
   "cell_type": "markdown",
   "metadata": {},
   "source": [
    "**Conclusão do Exemplo 2:** O valor-p é menor que o nível de significância, logo podemos rejeitar a H0. As distribuições das amostras são significativamente diferentes."
   ]
  },
  {
   "cell_type": "markdown",
   "metadata": {},
   "source": [
    "## Teste Kruskal-Wallis\n",
    "<!-- Projeto Desenvolvido na Data Science Academy - www.datascienceacademy.com.br -->\n",
    "O teste de Kruskal-Wallis é um exemplo de teste não paramétrico usado como alternativa à ANOVA. Ele compara as distribuições de três ou mais grupos independentes, semelhante ao teste de Mann-Whitney. O teste de Kruskal-Wallis não assume normalidade dos dados nem homocedasticidade, tornando-se uma opção mais robusta em comparação à ANOVA quando as suposições não são atendidas."
   ]
  },
  {
   "cell_type": "markdown",
   "metadata": {},
   "source": [
    "### Exemplo 1\n",
    "\n",
    "Neste exemplo, utilizamos três amostras hipotéticas e aplicamos o Teste de Kruskal-Wallis usando a função kruskal da biblioteca SciPy. O resultado inclui a estatística H e o valor-p. O valor-p é utilizado para determinar se há diferença significativa entre as distribuições das amostras. Se o valor-p for menor que o nível de significância estabelecido (geralmente 0,05), rejeita-se a hipótese nula e conclui-se que as distribuições das amostras são significativamente diferentes. Caso contrário, não se pode rejeitar a hipótese nula."
   ]
  },
  {
   "cell_type": "code",
   "execution_count": 15,
   "metadata": {},
   "outputs": [
    {
     "name": "stdout",
     "output_type": "stream",
     "text": [
      "Estatística H: 0.48584494773519105\n",
      "Valor-p: 0.784332317665689\n"
     ]
    }
   ],
   "source": [
    "# Exemplo de três amostras independentes\n",
    "amostra1 = np.array([3, 5, 7, 9, 11, 15, 18, 21])\n",
    "amostra2 = np.array([1, 4, 6, 8, 10, 12, 14, 16])\n",
    "amostra3 = np.array([2, 3, 5, 7, 11, 13, 17, 19])\n",
    "\n",
    "# H0: Não há diferença significativa entre as distribuições das amostras\n",
    "# H1: As distribuições das amostras são significativamente diferentes\n",
    "\n",
    "# Realiza o Teste de Kruskal-Wallis\n",
    "resultado = kruskal(amostra1, amostra2, amostra3)\n",
    "\n",
    "# Exibe o resultado\n",
    "print(\"Estatística H:\", resultado.statistic)\n",
    "print(\"Valor-p:\", resultado.pvalue)"
   ]
  },
  {
   "cell_type": "markdown",
   "metadata": {},
   "source": [
    "**Conclusão do Exemplo 1:** O valor-p é maior que o nível de significância, logo não podemos rejeitar a H0. Não há diferença significativa entre as distribuições das amostras."
   ]
  },
  {
   "cell_type": "markdown",
   "metadata": {},
   "source": [
    "### Exemplo 2\n",
    "\n",
    "Neste exemplo, geramos três amostras com distribuições normais distintas: amostra1 possui média 10 e desvio padrão 3, amostra2 possui média 15 e desvio padrão 2, e amostra3 possui média 18 e desvio padrão 4. Em seguida, aplicamos o Teste de Kruskal-Wallis utilizando a função kruskal e exibimos os resultados.\n",
    "\n",
    "Além disso, usamos a biblioteca Matplotlib para criar um histograma das três amostras, a fim de visualizar as distribuições e verificar se são distintas.\n",
    "\n",
    "O valor-p resultante do Teste de Kruskal-Wallis pode ser usado para avaliar se as três amostras têm distribuições significativamente diferentes, considerando um nível de significância preestabelecido (como 0,05). Se o valor-p for menor que o nível de significância, rejeita-se a hipótese nula e conclui-se que as distribuições são significativamente diferentes."
   ]
  },
  {
   "cell_type": "code",
   "execution_count": 16,
   "metadata": {},
   "outputs": [
    {
     "name": "stdout",
     "output_type": "stream",
     "text": [
      "Estatística H: 64.19345911949694\n",
      "Valor-p: 1.1496548215758738e-14\n"
     ]
    },
    {
     "data": {
      "image/png": "[encoded data removed]",
      "text/plain": [
       "<Figure size 640x480 with 1 Axes>"
      ]
     },
     "metadata": {},
     "output_type": "display_data"
    }
   ],
   "source": [
    "# Gera três amostras com distribuições diferentes\n",
    "np.random.seed(42)\n",
    "amostra1 = np.random.normal(loc = 10, scale = 3, size = 30)\n",
    "amostra2 = np.random.normal(loc = 15, scale = 2, size = 35)\n",
    "amostra3 = np.random.normal(loc = 18, scale = 4, size = 40)\n",
    "\n",
    "# H0: As distribuições das amostras não são significativamente diferentes\n",
    "# H1: As distribuições das amostras são significativamente diferentes\n",
    "\n",
    "# Realiza o Teste de Kruskal-Wallis\n",
    "resultado = kruskal(amostra1, amostra2, amostra3)\n",
    "\n",
    "# Exibe o resultado\n",
    "print(\"Estatística H:\", resultado.statistic)\n",
    "print(\"Valor-p:\", resultado.pvalue)\n",
    "\n",
    "# Visualiza as distribuições das amostras\n",
    "plt.hist(amostra1, bins = 10, alpha = 0.5, label = \"Amostra 1\")\n",
    "plt.hist(amostra2, bins = 10, alpha = 0.5, label = \"Amostra 2\")\n",
    "plt.hist(amostra3, bins = 10, alpha = 0.5, label = \"Amostra 3\")\n",
    "plt.xlabel(\"Valores\")\n",
    "plt.ylabel(\"Frequência\")\n",
    "plt.legend(loc = \"upper right\")\n",
    "plt.show()"
   ]
  },
  {
   "cell_type": "markdown",
   "metadata": {},
   "source": [
    "**Conclusão do Exemplo 2:** O valor-p é menor que o nível de significância, logo podemos rejeitar a H0. As distribuições das amostras, provavelmente, são diferentes."
   ]
  },
  {
   "cell_type": "markdown",
   "metadata": {},
   "source": [
    "## Teste de Dunn"
   ]
  },
  {
   "cell_type": "markdown",
   "metadata": {},
   "source": [
    "<!-- Projeto Desenvolvido na Data Science Academy - www.datascienceacademy.com.br -->O teste de Dunn é um teste estatístico não paramétrico usado para análise post-hoc após um teste de Kruskal-Wallis. Quando o teste de Kruskal-Wallis rejeita a hipótese nula, indicando diferenças significativas entre três ou mais grupos, o teste de Dunn é usado para identificar quais pares de grupos têm diferenças significativas. O teste de Dunn é uma alternativa ao teste de comparações múltiplas de Tukey (HSD) usado na análise post-hoc após ANOVA."
   ]
  },
  {
   "cell_type": "markdown",
   "metadata": {},
   "source": [
    "Neste exemplo, geramos três amostras com distribuições normais distintas e realizamos o Teste de Kruskal-Wallis. Se o resultado do Teste de Kruskal-Wallis rejeitar a hipótese nula (valor-p < 0,05), prosseguimos com o Teste de Dunn usando a função posthoc_dunn da biblioteca scikit-posthocs.\n",
    "\n",
    "O resultado do teste de Dunn é uma matriz que mostra os valores-p corrigidos para cada par de comparações entre os grupos. A correção de Bonferroni é aplicada para ajustar os valores-p, levando em consideração o problema das comparações múltiplas. Se o valor-p corrigido para uma comparação específica for menor que o nível de significância estabelecido (geralmente 0,05), conclui-se que há uma diferença."
   ]
  },
  {
   "cell_type": "code",
   "execution_count": 17,
   "metadata": {},
   "outputs": [
    {
     "name": "stdout",
     "output_type": "stream",
     "text": [
      "Estatística H: 64.19345911949694\n",
      "Valor-p: 1.1496548215758738e-14\n",
      "\n",
      "Resultados do Teste de Dunn:\n",
      "              Amostra 1  Amostra 2     Amostra 3\n",
      "Amostra 1  1.000000e+00   0.000013  3.446265e-15\n",
      "Amostra 2  1.258889e-05   1.000000  1.935620e-03\n",
      "Amostra 3  3.446265e-15   0.001936  1.000000e+00\n"
     ]
    }
   ],
   "source": [
    "# Gera três amostras com distribuições diferentes\n",
    "np.random.seed(42)\n",
    "amostra1 = np.random.normal(loc = 10, scale = 3, size = 30)\n",
    "amostra2 = np.random.normal(loc = 15, scale = 2, size = 35)\n",
    "amostra3 = np.random.normal(loc = 18, scale = 4, size = 40)\n",
    "\n",
    "# Realiza o Teste de Kruskal-Wallis\n",
    "resultado = kruskal(amostra1, amostra2, amostra3)\n",
    "print(\"Estatística H:\", resultado.statistic)\n",
    "print(\"Valor-p:\", resultado.pvalue)\n",
    "\n",
    "# Se o Teste de Kruskal-Wallis rejeitar a hipótese nula, realiza o Teste de Dunn\n",
    "if resultado.pvalue < 0.05:\n",
    "    \n",
    "    # Combina as amostras em um único DataFrame\n",
    "    df1 = pd.DataFrame({\"Valores\": amostra1, \"Grupo\": \"Amostra 1\"})\n",
    "    df2 = pd.DataFrame({\"Valores\": amostra2, \"Grupo\": \"Amostra 2\"})\n",
    "    df3 = pd.DataFrame({\"Valores\": amostra3, \"Grupo\": \"Amostra 3\"})\n",
    "    dados = pd.concat([df1, df2, df3])\n",
    "\n",
    "    # Realiza o Teste de Dunn\n",
    "    resultado_dunn = sp.posthoc_dunn(dados, val_col = \"Valores\", group_col = \"Grupo\", p_adjust = \"bonferroni\")\n",
    "    print(\"\\nResultados do Teste de Dunn:\")\n",
    "    print(resultado_dunn)"
   ]
  },
  {
   "cell_type": "markdown",
   "metadata": {},
   "source": [
    "O Teste de Dunn avalia as seguintes hipóteses para cada par de grupos:\n",
    "\n",
    "- Hipótese Nula (H0): A mediana dos dois grupos sendo comparados é igual. Não há diferença significativa entre os grupos.\n",
    "- Hipótese Alternativa (H1): A mediana dos dois grupos não é igual. Há uma diferença significativa entre os grupos.\n",
    "\n",
    "Interpretação:\n",
    "\n",
    "- Amostra 1 vs Amostra 2: Rejeitamos a H0. O valor-p indica que há uma diferença significativa entre as medianas da Amostra 1 e da Amostra 2.\n",
    "\n",
    "- Amostra 1 vs Amostra 3: Rejeitamos a H0. O valor-p é extremamente baixo, indicando uma diferença altamente significativa entre as medianas da Amostra 1 e da Amostra 3.\n",
    "\n",
    "- Amostra 2 vs Amostra 3: Rejeitamos a H0. O valor-p também sugere uma diferença significativa entre as medianas da Amostra 2 e da Amostra 3.\n",
    "\n",
    "Portanto, todas as comparações entre os grupos mostraram diferenças significativas entre suas medianas, com os valores-p muito abaixo do nível típico de significância (0.05), mesmo após o ajuste de Bonferroni. Isso confirma que as diferenças observadas no Teste de Kruskal-Wallis são estatisticamente robustas e que cada grupo tem uma mediana distinta dos outros."
   ]
  },
  {
   "cell_type": "markdown",
   "metadata": {},
   "source": [
    "Nota: O ajuste de Bonferroni é uma técnica usada em estatística para controlar o problema do aumento da taxa de erro do tipo I que ocorre quando múltiplos testes de hipóteses são realizados simultaneamente. O erro do tipo I acontece quando uma hipótese nula verdadeira é incorretamente rejeitada, isto é, quando se conclui que existe um efeito quando, na verdade, ele não existe."
   ]
  },
  {
   "cell_type": "markdown",
   "metadata": {},
   "source": [
    "## Teste de Friedman \n",
    "\n",
    "Teste de Friedman é um teste estatístico não paramétrico usado para detectar diferenças nas distribuições de três ou mais amostras pareadas. É útil especialmente quando os dados não cumprem as premissas de normalidade. Este teste é frequentemente usado em análises de dados provenientes de experimentos de medidas repetidas."
   ]
  },
  {
   "cell_type": "code",
   "execution_count": 18,
   "metadata": {},
   "outputs": [
    {
     "name": "stdout",
     "output_type": "stream",
     "text": [
      "Estatística do teste: 9.578947368421062\n",
      "P-valor: 0.00831683351100441\n",
      "Rejeita-se a hipótese nula (as medianas provavelmente são diferentes).\n"
     ]
    }
   ],
   "source": [
    "# Dados de exemplo: três grupos com medidas pareadas\n",
    "# Cada coluna representa um grupo, e cada linha representa um indivído, por exemplo\n",
    "data = np.array([\n",
    "    [7, 6, 8],\n",
    "    [6, 5, 7],\n",
    "    [8, 7, 9],\n",
    "    [5, 4, 6],\n",
    "    [6, 6, 8]\n",
    "])\n",
    "\n",
    "# Separando os dados por grupos\n",
    "group1 = data[:, 0]\n",
    "group2 = data[:, 1]\n",
    "group3 = data[:, 2]\n",
    "\n",
    "# Realizando o Teste de Friedman\n",
    "stat, p = friedmanchisquare(group1, group2, group3)\n",
    "\n",
    "print('Estatística do teste:', stat)\n",
    "print('P-valor:', p)\n",
    "\n",
    "# Interpretando o resultado\n",
    "if p > 0.05:\n",
    "    print('Falhamos em rejeitar a H0. Não há diferença significativa entre as medianas.')\n",
    "else:\n",
    "    print('Rejeita-se a hipótese nula (as medianas provavelmente são diferentes).')"
   ]
  },
  {
   "cell_type": "markdown",
   "metadata": {},
   "source": [
    "## Estatística Spearman Rank\n",
    "\n",
    "A estatística Spearman Rank, ou coeficiente de correlação de postos de Spearman, é uma medida não paramétrica da correlação entre duas variáveis. Ela avalia o quão bem a relação entre as duas variáveis pode ser descrita usando uma função monotônica, ou seja, se uma variável aumenta, a outra também aumenta, e se uma diminui, a outra também diminui."
   ]
  },
  {
   "cell_type": "markdown",
   "metadata": {},
   "source": [
    "### Exemplo 1\n",
    "<!-- Projeto Desenvolvido na Data Science Academy - www.datascienceacademy.com.br -->\n",
    "Neste exemplo, criamos duas variáveis x e y, e utilizamos a função spearmanr da biblioteca SciPy para calcular o coeficiente de correlação de Spearman e o valor-p associado. O valor-p pode ser usado para testar a hipótese nula de que a correlação de Spearman entre as duas variáveis é zero. Se o valor-p for menor que o nível de significância estabelecido (geralmente 0,05), rejeita-se a hipótese nula e conclui-se que existe uma correlação significativa entre as variáveis."
   ]
  },
  {
   "cell_type": "code",
   "execution_count": 19,
   "metadata": {},
   "outputs": [
    {
     "name": "stdout",
     "output_type": "stream",
     "text": [
      "Coeficiente de correlação de Spearman: 1.0\n",
      "Valor-p: 0.0\n"
     ]
    }
   ],
   "source": [
    "# Exemplo de dados\n",
    "x = np.array([1, 2, 3, 4, 5, 6, 7, 8, 9])\n",
    "y = np.array([2, 3, 4, 5, 6, 7, 8, 9, 10])\n",
    "\n",
    "# Calcula a correlação de Spearman\n",
    "coeficiente, p_valor = spearmanr(x, y)\n",
    "\n",
    "# Exibe o resultado\n",
    "print(\"Coeficiente de correlação de Spearman:\", coeficiente)\n",
    "print(\"Valor-p:\", p_valor)"
   ]
  },
  {
   "cell_type": "markdown",
   "metadata": {},
   "source": [
    "O valor-p reportado como 0.0 (pode ser um valor muito pequeno que é arredondado para zero) sugere que a probabilidade de obter uma correlação de Spearman tão extrema como 1.0 sob a hipótese nula (que não há associação entre as variáveis) é extremamente baixa. Este resultado é estatisticamente significativo, o que significa que você pode rejeitar a hipótese nula de que não existe uma correlação monotônica entre x e y."
   ]
  },
  {
   "cell_type": "markdown",
   "metadata": {},
   "source": [
    "### Exemplo 2\n",
    "\n",
    "Neste exemplo, geramos duas variáveis x e y, onde y é uma função linear de x com ruído gaussiano adicionado. Além disso, adicionamos um ruído não linear usando a função seno para tornar a relação entre x e y menos linear.\n",
    "\n",
    "Calculamos a correlação de Spearman entre as variáveis usando a função spearmanr da biblioteca SciPy e exibimos o coeficiente de correlação e o valor-p. Em seguida, usamos a biblioteca Matplotlib para criar um gráfico de dispersão das variáveis, mostrando a relação entre elas.\n",
    "\n",
    "A correlação de Spearman neste exemplo será capaz de capturar a relação monotônica entre as variáveis, apesar da relação não ser estritamente linear."
   ]
  },
  {
   "cell_type": "code",
   "execution_count": 20,
   "metadata": {},
   "outputs": [
    {
     "name": "stdout",
     "output_type": "stream",
     "text": [
      "Coeficiente de correlação de Spearman: 0.30741074107410743\n",
      "Valor-p: 0.001863541153704252\n"
     ]
    },
    {
     "data": {
      "image/png": "[encoded data removed]",
      "text/plain": [
       "<Figure size 640x480 with 1 Axes>"
      ]
     },
     "metadata": {},
     "output_type": "display_data"
    }
   ],
   "source": [
    "# Gera dados aleatórios\n",
    "np.random.seed(42)\n",
    "x = np.random.normal(loc = 10, scale = 3, size = 100)\n",
    "y = 2 * x + 3 + np.random.normal(loc = 0, scale = 5, size = 100)\n",
    "\n",
    "# Adiciona ruído não linear para tornar a relação menos linear\n",
    "y = y + 10 * np.sin(x)\n",
    "\n",
    "# Calcula a correlação de Spearman\n",
    "coeficiente, p_valor = spearmanr(x, y)\n",
    "\n",
    "# Exibe o resultado\n",
    "print(\"Coeficiente de correlação de Spearman:\", coeficiente)\n",
    "print(\"Valor-p:\", p_valor)\n",
    "\n",
    "# Visualiza a relação entre as variáveis\n",
    "plt.scatter(x, y, alpha=0.5)\n",
    "plt.xlabel(\"X\")\n",
    "plt.ylabel(\"Y\")\n",
    "plt.title(\"Relação entre X e Y com correlação de Spearman {:.2f}\".format(coeficiente))\n",
    "plt.show()"
   ]
  },
  {
   "cell_type": "markdown",
   "metadata": {},
   "source": [
    "O valor-p de aproximadamente 0.0019 é muito baixo e, tipicamente, um resultado como este seria considerado estatisticamente significativo (normalmente, compara-se com um nível de significância de 0.05 ou 0.01). Isso significa que há evidências estatísticas suficientes para rejeitar a hipótese nula de que não existe correlação monotônica entre as variáveis."
   ]
  },
  {
   "cell_type": "code",
   "execution_count": 21,
   "metadata": {},
   "outputs": [
    {
     "name": "stdout",
     "output_type": "stream",
     "text": [
      "Author: Data Science Academy\n",
      "\n"
     ]
    }
   ],
   "source": [
    "%reload_ext watermark\n",
    "%watermark -a \"Data Science Academy\""
   ]
  },
  {
   "cell_type": "code",
   "execution_count": 22,
   "metadata": {},
   "outputs": [],
   "source": [
    "#%watermark -v -m"
   ]
  },
  {
   "cell_type": "code",
   "execution_count": 23,
   "metadata": {},
   "outputs": [],
   "source": [
    "#%watermark --iversions"
   ]
  },
  {
   "cell_type": "markdown",
   "metadata": {},
   "source": [
    "# Fim"
   ]
  }
 ],
 "metadata": {
  "colab": {
   "collapsed_sections": [
    "Km-PPppD6ecu"
   ],
   "name": "Analyze_ab_test_results_notebook.ipynb",
   "provenance": []
  },
  "kernelspec": {
   "display_name": "Python 3 (ipykernel)",
   "language": "python",
   "name": "python3"
  },
  "language_info": {
   "codemirror_mode": {
    "name": "ipython",
    "version": 3
   },
   "file_extension": ".py",
   "mimetype": "text/x-python",
   "name": "python",
   "nbconvert_exporter": "python",
   "pygments_lexer": "ipython3",
   "version": "3.11.5"
  },
  "vscode": {
   "interpreter": {
    "hash": "495ea94611aaceeb69760baf3d5aae885e1a594ff5e369c87eccf4be1e364dd3"
   }
  }
 },
 "nbformat": 4,
 "nbformat_minor": 1
}
