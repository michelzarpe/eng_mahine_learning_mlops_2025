{
 "cells": [
  {
   "cell_type": "markdown",
   "id": "d835750b",
   "metadata": {
    "id": "d835750b"
   },
   "source": [
    "# <font color='blue'>Data Science Academy</font>\n",
    "# <font color='blue'>Matemática Para Data Science</font>\n",
    "\n",
    "## <font color='blue'>Projeto 4</font>\n",
    "### <font color='blue'>Matemática da Arquitetura Transformer na Análise e Forecast de Séries Temporais</font>"
   ]
  },
  {
   "cell_type": "markdown",
   "id": "2ae32c90",
   "metadata": {
    "id": "2ae32c90"
   },
   "source": [
    "ATENÇÃO É TUDO QUE VOCÊ PRECISA!\n",
    "\n",
    "https://arxiv.org/abs/1706.03762"
   ]
  },
  {
   "cell_type": "markdown",
   "id": "45fb8f2f",
   "metadata": {
    "id": "45fb8f2f"
   },
   "source": [
    "## Instalando e Carregando os Pacotes"
   ]
  },
  {
   "cell_type": "code",
   "execution_count": null,
   "id": "954fa517",
   "metadata": {
    "id": "954fa517"
   },
   "outputs": [],
   "source": [
    "# Para atualizar um pacote, execute o comando abaixo no terminal ou prompt de comando:\n",
    "# pip install -U nome_pacote\n",
    "\n",
    "# Para instalar a versão exata de um pacote, execute o comando abaixo no terminal ou prompt de comando:\n",
    "# !pip install nome_pacote==versão_desejada\n",
    "\n",
    "# Depois de instalar ou atualizar o pacote, reinicie o jupyter notebook.\n",
    "\n",
    "# Instala o pacote watermark.\n",
    "# Esse pacote é usado para gravar as versões de outros pacotes usados neste jupyter notebook.\n",
    "!pip install -q -U watermark"
   ]
  },
  {
   "cell_type": "markdown",
   "id": "6d6953f1",
   "metadata": {
    "id": "6d6953f1"
   },
   "source": [
    "Visite o PyPi e pesquise sobre cada um dos pacotes abaixo:\n",
    "    \n",
    "https://pypi.org/"
   ]
  },
  {
   "cell_type": "markdown",
   "id": "IBvxYZijU9yv",
   "metadata": {
    "id": "IBvxYZijU9yv"
   },
   "source": [
    "Usaremos o HuggingFace como fonte de dados e do modelo pré-treinado.\n",
    "\n",
    "https://huggingface.co/"
   ]
  },
  {
   "cell_type": "code",
   "execution_count": null,
   "id": "c1a05d15",
   "metadata": {
    "id": "c1a05d15"
   },
   "outputs": [],
   "source": [
    "!pip install -q transformers==4.37.2"
   ]
  },
  {
   "cell_type": "code",
   "execution_count": null,
   "id": "0700cc27",
   "metadata": {
    "id": "0700cc27"
   },
   "outputs": [],
   "source": [
    "!pip install -q datasets==2.16.1"
   ]
  },
  {
   "cell_type": "code",
   "execution_count": null,
   "id": "47ffbf5b",
   "metadata": {
    "id": "47ffbf5b"
   },
   "outputs": [],
   "source": [
    "!pip install -q evaluate==0.4.1"
   ]
  },
  {
   "cell_type": "code",
   "execution_count": null,
   "id": "55391e54",
   "metadata": {
    "id": "55391e54"
   },
   "outputs": [],
   "source": [
    "!pip install -q accelerate==0.26.1"
   ]
  },
  {
   "cell_type": "code",
   "execution_count": null,
   "id": "1146b3b0",
   "metadata": {
    "id": "1146b3b0"
   },
   "outputs": [],
   "source": [
    "!pip install -q -U gluonts==0.14.4"
   ]
  },
  {
   "cell_type": "code",
   "execution_count": null,
   "id": "fd7e41bc",
   "metadata": {
    "id": "fd7e41bc"
   },
   "outputs": [],
   "source": [
    "!pip install -q ujson==5.4.0"
   ]
  },
  {
   "cell_type": "code",
   "execution_count": null,
   "id": "73abfac2",
   "metadata": {
    "id": "73abfac2"
   },
   "outputs": [],
   "source": [
    "!pip install -q urllib3==1.26.16"
   ]
  },
  {
   "cell_type": "code",
   "execution_count": null,
   "id": "98c34e1a",
   "metadata": {
    "id": "98c34e1a"
   },
   "outputs": [],
   "source": [
    "%env TF_CPP_MIN_LOG_LEVEL=3"
   ]
  },
  {
   "cell_type": "code",
   "execution_count": null,
   "id": "31fe873d",
   "metadata": {
    "id": "31fe873d"
   },
   "outputs": [],
   "source": [
    "import os\n",
    "os.environ['TF_ENABLE_ONEDNN_OPTS'] = '0'"
   ]
  },
  {
   "cell_type": "code",
   "execution_count": null,
   "id": "e5f9acb2",
   "metadata": {
    "id": "e5f9acb2"
   },
   "outputs": [],
   "source": [
    "import os\n",
    "os.environ['PYTORCH_ENABLE_MPS_FALLBACK'] = '1'"
   ]
  },
  {
   "cell_type": "markdown",
   "id": "bdbe33c5",
   "metadata": {
    "id": "bdbe33c5"
   },
   "source": [
    "https://ts.gluon.ai"
   ]
  },
  {
   "cell_type": "code",
   "execution_count": null,
   "id": "549f85de",
   "metadata": {
    "id": "549f85de"
   },
   "outputs": [],
   "source": [
    "# Imports\n",
    "import evaluate\n",
    "import torch\n",
    "import transformers\n",
    "import accelerate\n",
    "import gluonts\n",
    "import pandas as pd\n",
    "import numpy as np\n",
    "from datasets import load_dataset\n",
    "import matplotlib.pyplot as plt\n",
    "import matplotlib.dates as mdates\n",
    "from functools import lru_cache\n",
    "from functools import partial\n",
    "from transformers import TimeSeriesTransformerConfig, TimeSeriesTransformerForPrediction\n",
    "from transformers import PretrainedConfig\n",
    "from typing import Optional\n",
    "from accelerate import Accelerator\n",
    "from torch.optim import AdamW\n",
    "from evaluate import load\n",
    "from typing import Iterable\n",
    "from gluonts.itertools import Cached, Cyclic\n",
    "from gluonts.dataset.loader import as_stacked_batches\n",
    "from gluonts.time_feature import get_seasonality\n",
    "from gluonts.time_feature import get_lags_for_frequency\n",
    "from gluonts.time_feature import time_features_from_frequency_str\n",
    "from gluonts.transform.sampler import InstanceSampler\n",
    "from gluonts.time_feature import (time_features_from_frequency_str, TimeFeature, get_lags_for_frequency)\n",
    "from gluonts.dataset.field_names import FieldName\n",
    "from gluonts.transform import (\n",
    "    AddAgeFeature,\n",
    "    AddObservedValuesIndicator,\n",
    "    AddTimeFeatures,\n",
    "    AsNumpyArray,\n",
    "    Chain,\n",
    "    ExpectedNumInstanceSampler,\n",
    "    InstanceSplitter,\n",
    "    RemoveFields,\n",
    "    SelectFields,\n",
    "    SetField,\n",
    "    TestSplitSampler,\n",
    "    Transformation,\n",
    "    ValidationSplitSampler,\n",
    "    VstackFeatures,\n",
    "    RenameFields,\n",
    ")\n",
    "import warnings\n",
    "warnings.filterwarnings('ignore')"
   ]
  },
  {
   "cell_type": "code",
   "execution_count": null,
   "id": "ab885c94",
   "metadata": {
    "id": "ab885c94"
   },
   "outputs": [],
   "source": [
    "%reload_ext watermark\n",
    "%watermark -a \"Data Science Academy\""
   ]
  },
  {
   "cell_type": "code",
   "execution_count": null,
   "id": "rR7Fpp7NCfYV",
   "metadata": {
    "id": "rR7Fpp7NCfYV"
   },
   "outputs": [],
   "source": []
  },
  {
   "cell_type": "code",
   "execution_count": null,
   "id": "tGlXtoyQCfbd",
   "metadata": {
    "id": "tGlXtoyQCfbd"
   },
   "outputs": [],
   "source": []
  },
  {
   "cell_type": "code",
   "execution_count": null,
   "id": "KK-CECrmCffH",
   "metadata": {
    "id": "KK-CECrmCffH"
   },
   "outputs": [],
   "source": []
  },
  {
   "cell_type": "code",
   "execution_count": null,
   "id": "9wwVngEbCfiQ",
   "metadata": {
    "id": "9wwVngEbCfiQ"
   },
   "outputs": [],
   "source": []
  },
  {
   "cell_type": "code",
   "execution_count": null,
   "id": "IkTPkDUBCflm",
   "metadata": {
    "id": "IkTPkDUBCflm"
   },
   "outputs": [],
   "source": []
  },
  {
   "cell_type": "code",
   "execution_count": null,
   "id": "rKZzwc4iCfpl",
   "metadata": {
    "id": "rKZzwc4iCfpl"
   },
   "outputs": [],
   "source": []
  },
  {
   "cell_type": "code",
   "execution_count": null,
   "id": "HSB0TTaXCftL",
   "metadata": {
    "id": "HSB0TTaXCftL"
   },
   "outputs": [],
   "source": []
  },
  {
   "cell_type": "code",
   "execution_count": null,
   "id": "h_xEwIOiCfw2",
   "metadata": {
    "id": "h_xEwIOiCfw2"
   },
   "outputs": [],
   "source": []
  },
  {
   "cell_type": "code",
   "execution_count": null,
   "id": "-Aq-YmY5CfzJ",
   "metadata": {
    "id": "-Aq-YmY5CfzJ"
   },
   "outputs": [],
   "source": []
  },
  {
   "cell_type": "code",
   "execution_count": null,
   "id": "pl1Ygtp0Cf2R",
   "metadata": {
    "id": "pl1Ygtp0Cf2R"
   },
   "outputs": [],
   "source": []
  },
  {
   "cell_type": "code",
   "execution_count": null,
   "id": "uLM3iZpRCf44",
   "metadata": {
    "id": "uLM3iZpRCf44"
   },
   "outputs": [],
   "source": []
  },
  {
   "cell_type": "code",
   "execution_count": null,
   "id": "V4EqIVxHCf7x",
   "metadata": {
    "id": "V4EqIVxHCf7x"
   },
   "outputs": [],
   "source": []
  },
  {
   "cell_type": "code",
   "execution_count": null,
   "id": "DChWfm4LCf-5",
   "metadata": {
    "id": "DChWfm4LCf-5"
   },
   "outputs": [],
   "source": []
  },
  {
   "cell_type": "code",
   "execution_count": null,
   "id": "HIeUDlHwCgBv",
   "metadata": {
    "id": "HIeUDlHwCgBv"
   },
   "outputs": [],
   "source": []
  },
  {
   "cell_type": "code",
   "execution_count": null,
   "id": "W4s13UF4CgE3",
   "metadata": {
    "id": "W4s13UF4CgE3"
   },
   "outputs": [],
   "source": []
  },
  {
   "cell_type": "code",
   "execution_count": null,
   "id": "Dpg6VyPjCgHw",
   "metadata": {
    "id": "Dpg6VyPjCgHw"
   },
   "outputs": [],
   "source": []
  },
  {
   "cell_type": "code",
   "execution_count": null,
   "id": "8YL53ZkaCgKm",
   "metadata": {
    "id": "8YL53ZkaCgKm"
   },
   "outputs": [],
   "source": []
  },
  {
   "cell_type": "code",
   "execution_count": null,
   "id": "hxNyIIOzCgNu",
   "metadata": {
    "id": "hxNyIIOzCgNu"
   },
   "outputs": [],
   "source": []
  },
  {
   "cell_type": "code",
   "execution_count": null,
   "id": "qpWTwioICgQm",
   "metadata": {
    "id": "qpWTwioICgQm"
   },
   "outputs": [],
   "source": []
  },
  {
   "cell_type": "code",
   "execution_count": null,
   "id": "7MYPJKqoCgTc",
   "metadata": {
    "id": "7MYPJKqoCgTc"
   },
   "outputs": [],
   "source": []
  },
  {
   "cell_type": "code",
   "execution_count": null,
   "id": "vj02SccoCgWk",
   "metadata": {
    "id": "vj02SccoCgWk"
   },
   "outputs": [],
   "source": []
  },
  {
   "cell_type": "code",
   "execution_count": null,
   "id": "jfw5plFQCgZc",
   "metadata": {
    "id": "jfw5plFQCgZc"
   },
   "outputs": [],
   "source": []
  },
  {
   "cell_type": "code",
   "execution_count": null,
   "id": "nPsp8s0dCgck",
   "metadata": {
    "id": "nPsp8s0dCgck"
   },
   "outputs": [],
   "source": []
  },
  {
   "cell_type": "code",
   "execution_count": null,
   "id": "kITUlrE8CgfL",
   "metadata": {
    "id": "kITUlrE8CgfL"
   },
   "outputs": [],
   "source": []
  },
  {
   "cell_type": "code",
   "execution_count": null,
   "id": "O3X3ErziCgiB",
   "metadata": {
    "id": "O3X3ErziCgiB"
   },
   "outputs": [],
   "source": []
  },
  {
   "cell_type": "code",
   "execution_count": null,
   "id": "MnBGkUvNCglJ",
   "metadata": {
    "id": "MnBGkUvNCglJ"
   },
   "outputs": [],
   "source": []
  },
  {
   "cell_type": "code",
   "execution_count": null,
   "id": "bm1vYxUMCgoC",
   "metadata": {
    "id": "bm1vYxUMCgoC"
   },
   "outputs": [],
   "source": []
  },
  {
   "cell_type": "code",
   "execution_count": null,
   "id": "ptzNmOyoCgq4",
   "metadata": {
    "id": "ptzNmOyoCgq4"
   },
   "outputs": [],
   "source": []
  },
  {
   "cell_type": "code",
   "execution_count": null,
   "id": "9m9xFh_TCguA",
   "metadata": {
    "id": "9m9xFh_TCguA"
   },
   "outputs": [],
   "source": []
  },
  {
   "cell_type": "code",
   "execution_count": null,
   "id": "LRKmF1TaCgxJ",
   "metadata": {
    "id": "LRKmF1TaCgxJ"
   },
   "outputs": [],
   "source": []
  },
  {
   "cell_type": "code",
   "execution_count": null,
   "id": "2b600187",
   "metadata": {
    "id": "2b600187"
   },
   "outputs": [],
   "source": [
    "%reload_ext watermark\n",
    "%watermark -a \"Data Science Academy\""
   ]
  },
  {
   "cell_type": "code",
   "execution_count": null,
   "id": "40e27128",
   "metadata": {
    "id": "40e27128"
   },
   "outputs": [],
   "source": [
    "#%watermark -v -m"
   ]
  },
  {
   "cell_type": "code",
   "execution_count": null,
   "id": "707b54a1",
   "metadata": {
    "id": "707b54a1"
   },
   "outputs": [],
   "source": [
    "#%watermark --iversions"
   ]
  },
  {
   "cell_type": "markdown",
   "id": "e84e6c8f",
   "metadata": {
    "id": "e84e6c8f"
   },
   "source": [
    "# Fim"
   ]
  }
 ],
 "metadata": {
  "accelerator": "GPU",
  "colab": {
   "gpuType": "A100",
   "machine_shape": "hm",
   "provenance": []
  },
  "kernelspec": {
   "display_name": "Python 3 (ipykernel)",
   "language": "python",
   "name": "python3"
  },
  "language_info": {
   "codemirror_mode": {
    "name": "ipython",
    "version": 3
   },
   "file_extension": ".py",
   "mimetype": "text/x-python",
   "name": "python",
   "nbconvert_exporter": "python",
   "pygments_lexer": "ipython3",
   "version": "3.11.5"
  }
 },
 "nbformat": 4,
 "nbformat_minor": 5
}
