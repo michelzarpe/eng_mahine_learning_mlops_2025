{
 "cells": [
  {
   "cell_type": "markdown",
   "id": "d835750b",
   "metadata": {
    "id": "d835750b"
   },
   "source": [
    "# <font color='blue'>Data Science Academy</font>\n",
    "# <font color='blue'>Matemática Para Data Science</font>\n",
    "\n",
    "## <font color='blue'>Projeto 4</font>\n",
    "### <font color='blue'>Matemática da Arquitetura Transformer na Análise e Forecast de Séries Temporais</font>"
   ]
  },
  {
   "cell_type": "markdown",
   "id": "2ae32c90",
   "metadata": {
    "id": "2ae32c90"
   },
   "source": [
    "ATENÇÃO É TUDO QUE VOCÊ PRECISA!\n",
    "\n",
    "https://arxiv.org/abs/1706.03762"
   ]
  },
  {
   "cell_type": "markdown",
   "id": "45fb8f2f",
   "metadata": {
    "id": "45fb8f2f"
   },
   "source": [
    "## Instalando e Carregando os Pacotes"
   ]
  },
  {
   "cell_type": "code",
   "execution_count": 1,
   "id": "954fa517",
   "metadata": {
    "id": "954fa517"
   },
   "outputs": [],
   "source": [
    "# Para atualizar um pacote, execute o comando abaixo no terminal ou prompt de comando:\n",
    "# pip install -U nome_pacote\n",
    "\n",
    "# Para instalar a versão exata de um pacote, execute o comando abaixo no terminal ou prompt de comando:\n",
    "# !pip install nome_pacote==versão_desejada\n",
    "\n",
    "# Depois de instalar ou atualizar o pacote, reinicie o jupyter notebook.\n",
    "\n",
    "# Instala o pacote watermark.\n",
    "# Esse pacote é usado para gravar as versões de outros pacotes usados neste jupyter notebook.\n",
    "!pip install -q -U watermark"
   ]
  },
  {
   "cell_type": "markdown",
   "id": "6d6953f1",
   "metadata": {
    "id": "6d6953f1"
   },
   "source": [
    "Visite o PyPi e pesquise sobre cada um dos pacotes abaixo:\n",
    "    \n",
    "https://pypi.org/"
   ]
  },
  {
   "cell_type": "markdown",
   "id": "IBvxYZijU9yv",
   "metadata": {
    "id": "IBvxYZijU9yv"
   },
   "source": [
    "Usaremos o HuggingFace como fonte de dados e do modelo pré-treinado.\n",
    "\n",
    "https://huggingface.co/"
   ]
  },
  {
   "cell_type": "code",
   "execution_count": 2,
   "id": "c1a05d15",
   "metadata": {
    "id": "c1a05d15"
   },
   "outputs": [],
   "source": [
    "!pip install -q transformers==4.37.2"
   ]
  },
  {
   "cell_type": "code",
   "execution_count": 3,
   "id": "0700cc27",
   "metadata": {
    "id": "0700cc27"
   },
   "outputs": [],
   "source": [
    "!pip install -q datasets==2.16.1"
   ]
  },
  {
   "cell_type": "code",
   "execution_count": 4,
   "id": "47ffbf5b",
   "metadata": {
    "id": "47ffbf5b"
   },
   "outputs": [],
   "source": [
    "!pip install -q evaluate==0.4.1"
   ]
  },
  {
   "cell_type": "code",
   "execution_count": 5,
   "id": "55391e54",
   "metadata": {
    "id": "55391e54"
   },
   "outputs": [],
   "source": [
    "!pip install -q accelerate==0.26.1"
   ]
  },
  {
   "cell_type": "code",
   "execution_count": 6,
   "id": "1146b3b0",
   "metadata": {
    "id": "1146b3b0"
   },
   "outputs": [],
   "source": [
    "!pip install -q -U gluonts==0.14.4"
   ]
  },
  {
   "cell_type": "code",
   "execution_count": 7,
   "id": "fd7e41bc",
   "metadata": {
    "id": "fd7e41bc"
   },
   "outputs": [],
   "source": [
    "!pip install -q ujson==5.4.0"
   ]
  },
  {
   "cell_type": "code",
   "execution_count": 8,
   "id": "73abfac2",
   "metadata": {
    "id": "73abfac2"
   },
   "outputs": [],
   "source": [
    "!pip install -q urllib3==1.26.16"
   ]
  },
  {
   "cell_type": "code",
   "execution_count": 9,
   "id": "98c34e1a",
   "metadata": {
    "colab": {
     "base_uri": "https://localhost:8080/"
    },
    "id": "98c34e1a",
    "outputId": "8b1cf982-6503-4eb0-b98f-ad34a7b9bdf6"
   },
   "outputs": [
    {
     "name": "stdout",
     "output_type": "stream",
     "text": [
      "env: TF_CPP_MIN_LOG_LEVEL=3\n"
     ]
    }
   ],
   "source": [
    "%env TF_CPP_MIN_LOG_LEVEL=3"
   ]
  },
  {
   "cell_type": "code",
   "execution_count": 10,
   "id": "31fe873d",
   "metadata": {
    "id": "31fe873d"
   },
   "outputs": [],
   "source": [
    "import os\n",
    "os.environ['TF_ENABLE_ONEDNN_OPTS'] = '0'"
   ]
  },
  {
   "cell_type": "code",
   "execution_count": 11,
   "id": "e5f9acb2",
   "metadata": {
    "id": "e5f9acb2"
   },
   "outputs": [],
   "source": [
    "import os\n",
    "os.environ['PYTORCH_ENABLE_MPS_FALLBACK'] = '1'"
   ]
  },
  {
   "cell_type": "markdown",
   "id": "bdbe33c5",
   "metadata": {
    "id": "bdbe33c5"
   },
   "source": [
    "https://ts.gluon.ai"
   ]
  },
  {
   "cell_type": "code",
   "execution_count": 12,
   "id": "549f85de",
   "metadata": {
    "id": "549f85de"
   },
   "outputs": [],
   "source": [
    "# Imports\n",
    "import evaluate\n",
    "import torch\n",
    "import transformers\n",
    "import accelerate\n",
    "import gluonts\n",
    "import pandas as pd\n",
    "import numpy as np\n",
    "from datasets import load_dataset\n",
    "import matplotlib.pyplot as plt\n",
    "import matplotlib.dates as mdates\n",
    "from functools import lru_cache\n",
    "from functools import partial\n",
    "from transformers import TimeSeriesTransformerConfig, TimeSeriesTransformerForPrediction\n",
    "from transformers import PretrainedConfig\n",
    "from typing import Optional\n",
    "from accelerate import Accelerator\n",
    "from torch.optim import AdamW\n",
    "from evaluate import load\n",
    "from typing import Iterable\n",
    "from gluonts.itertools import Cached, Cyclic\n",
    "from gluonts.dataset.loader import as_stacked_batches\n",
    "from gluonts.time_feature import get_seasonality\n",
    "from gluonts.time_feature import get_lags_for_frequency\n",
    "from gluonts.time_feature import time_features_from_frequency_str\n",
    "from gluonts.transform.sampler import InstanceSampler\n",
    "from gluonts.time_feature import (time_features_from_frequency_str, TimeFeature, get_lags_for_frequency)\n",
    "from gluonts.dataset.field_names import FieldName\n",
    "from gluonts.transform import (\n",
    "    AddAgeFeature,\n",
    "    AddObservedValuesIndicator,\n",
    "    AddTimeFeatures,\n",
    "    AsNumpyArray,\n",
    "    Chain,\n",
    "    ExpectedNumInstanceSampler,\n",
    "    InstanceSplitter,\n",
    "    RemoveFields,\n",
    "    SelectFields,\n",
    "    SetField,\n",
    "    TestSplitSampler,\n",
    "    Transformation,\n",
    "    ValidationSplitSampler,\n",
    "    VstackFeatures,\n",
    "    RenameFields,\n",
    ")\n",
    "import warnings\n",
    "warnings.filterwarnings('ignore')"
   ]
  },
  {
   "cell_type": "code",
   "execution_count": 13,
   "id": "ab885c94",
   "metadata": {
    "colab": {
     "base_uri": "https://localhost:8080/"
    },
    "id": "ab885c94",
    "outputId": "59e2ec4f-4308-4a96-a1d6-f285bd37346c"
   },
   "outputs": [
    {
     "name": "stdout",
     "output_type": "stream",
     "text": [
      "Author: Data Science Academy\n",
      "\n"
     ]
    }
   ],
   "source": [
    "%reload_ext watermark\n",
    "%watermark -a \"Data Science Academy\""
   ]
  },
  {
   "cell_type": "markdown",
   "id": "srddc00CYF5H",
   "metadata": {
    "id": "srddc00CYF5H"
   },
   "source": [
    "## Carregando os Dados de Séries Temporais\n",
    "\n",
    "https://huggingface.co/datasets/monash_tsf"
   ]
  },
  {
   "cell_type": "code",
   "execution_count": 14,
   "id": "rR7Fpp7NCfYV",
   "metadata": {
    "id": "rR7Fpp7NCfYV"
   },
   "outputs": [],
   "source": [
    "# Carrega o dataset\n",
    "dsa_dataset = load_dataset(\"monash_tsf\", \"tourism_monthly\")"
   ]
  },
  {
   "cell_type": "code",
   "execution_count": 15,
   "id": "tGlXtoyQCfbd",
   "metadata": {
    "colab": {
     "base_uri": "https://localhost:8080/"
    },
    "id": "tGlXtoyQCfbd",
    "outputId": "66fc2de3-8da6-489a-8e82-c2649862152b"
   },
   "outputs": [
    {
     "name": "stdout",
     "output_type": "stream",
     "text": [
      "DatasetDict({\n",
      "    train: Dataset({\n",
      "        features: ['start', 'target', 'feat_static_cat', 'feat_dynamic_real', 'item_id'],\n",
      "        num_rows: 366\n",
      "    })\n",
      "    test: Dataset({\n",
      "        features: ['start', 'target', 'feat_static_cat', 'feat_dynamic_real', 'item_id'],\n",
      "        num_rows: 366\n",
      "    })\n",
      "    validation: Dataset({\n",
      "        features: ['start', 'target', 'feat_static_cat', 'feat_dynamic_real', 'item_id'],\n",
      "        num_rows: 366\n",
      "    })\n",
      "})\n"
     ]
    }
   ],
   "source": [
    "print(dsa_dataset)"
   ]
  },
  {
   "cell_type": "code",
   "execution_count": 16,
   "id": "KK-CECrmCffH",
   "metadata": {
    "colab": {
     "base_uri": "https://localhost:8080/"
    },
    "id": "KK-CECrmCffH",
    "outputId": "9fd36396-dce2-45e5-eb58-b398611b2c78"
   },
   "outputs": [
    {
     "data": {
      "text/plain": [
       "Dataset({\n",
       "    features: ['start', 'target', 'feat_static_cat', 'feat_dynamic_real', 'item_id'],\n",
       "    num_rows: 366\n",
       "})"
      ]
     },
     "execution_count": 16,
     "metadata": {},
     "output_type": "execute_result"
    }
   ],
   "source": [
    "# Dados de treino\n",
    "dsa_dataset['train']"
   ]
  },
  {
   "cell_type": "markdown",
   "id": "l3MGGUQ7crDO",
   "metadata": {
    "id": "l3MGGUQ7crDO"
   },
   "source": [
    "## Explorando os Dados de Séries Temporais"
   ]
  },
  {
   "cell_type": "code",
   "execution_count": 17,
   "id": "9wwVngEbCfiQ",
   "metadata": {
    "id": "9wwVngEbCfiQ"
   },
   "outputs": [],
   "source": [
    "# Vamos extrair os dados no índice zero\n",
    "exemplo_treino = dsa_dataset['train'][0]"
   ]
  },
  {
   "cell_type": "code",
   "execution_count": 18,
   "id": "IkTPkDUBCflm",
   "metadata": {
    "colab": {
     "base_uri": "https://localhost:8080/"
    },
    "id": "IkTPkDUBCflm",
    "outputId": "d857f2c3-fea8-4fac-ca7a-370acc3bb93d"
   },
   "outputs": [
    {
     "data": {
      "text/plain": [
       "dict"
      ]
     },
     "execution_count": 18,
     "metadata": {},
     "output_type": "execute_result"
    }
   ],
   "source": [
    "type(exemplo_treino)"
   ]
  },
  {
   "cell_type": "code",
   "execution_count": null,
   "id": "rKZzwc4iCfpl",
   "metadata": {
    "id": "rKZzwc4iCfpl"
   },
   "outputs": [],
   "source": [
    "exemplo_treino"
   ]
  },
  {
   "cell_type": "code",
   "execution_count": 20,
   "id": "HSB0TTaXCftL",
   "metadata": {
    "colab": {
     "base_uri": "https://localhost:8080/"
    },
    "id": "HSB0TTaXCftL",
    "outputId": "d7c68256-80d9-45e2-8c7e-8d61f2740418"
   },
   "outputs": [
    {
     "data": {
      "text/plain": [
       "dict_keys(['start', 'target', 'feat_static_cat', 'feat_dynamic_real', 'item_id'])"
      ]
     },
     "execution_count": 20,
     "metadata": {},
     "output_type": "execute_result"
    }
   ],
   "source": [
    "# Como é um dicionário, vamos extrair a chave\n",
    "exemplo_treino.keys()"
   ]
  },
  {
   "cell_type": "code",
   "execution_count": 21,
   "id": "h_xEwIOiCfw2",
   "metadata": {
    "colab": {
     "base_uri": "https://localhost:8080/"
    },
    "id": "h_xEwIOiCfw2",
    "outputId": "b2addccb-2df8-4d68-d941-fecbe0ceb87f"
   },
   "outputs": [
    {
     "name": "stdout",
     "output_type": "stream",
     "text": [
      "1979-01-01 00:00:00\n"
     ]
    }
   ],
   "source": [
    "print(exemplo_treino['start'])"
   ]
  },
  {
   "cell_type": "code",
   "execution_count": 22,
   "id": "-Aq-YmY5CfzJ",
   "metadata": {
    "colab": {
     "base_uri": "https://localhost:8080/"
    },
    "id": "-Aq-YmY5CfzJ",
    "outputId": "48be6cb6-8eea-4260-a244-494b4c33d90e"
   },
   "outputs": [
    {
     "name": "stdout",
     "output_type": "stream",
     "text": [
      "[1149.8699951171875, 1053.8001708984375, 1388.8797607421875, 1783.3702392578125, 1921.025146484375, 2704.94482421875, 4184.41357421875, 4148.35400390625, 2620.72509765625, 1650.300048828125, 1115.9200439453125, 1370.6251220703125, 1096.31494140625, 978.4600219726562, 1294.68505859375, 1480.465087890625, 1748.865234375, 2216.920166015625, 4690.5185546875, 4682.8642578125, 2459.579833984375, 1484.4901123046875, 1028.985107421875, 1109.3648681640625, 960.8751220703125, 896.35009765625, 1118.6551513671875, 1619.9949951171875, 1847.994873046875, 2367.044921875, 4991.16015625, 4772.9443359375, 2894.678466796875, 1860.4801025390625, 1185.150146484375, 1313.659912109375, 1160.9150390625, 1061.5048828125, 1301.77001953125, 1794.3797607421875, 2106.455078125, 2789.034912109375, 4917.8466796875, 4994.4833984375, 3016.754150390625, 1941.505126953125, 1234.135009765625, 1378.72021484375, 1182.9749755859375, 1081.6600341796875, 1424.110107421875, 1774.5350341796875, 2115.420166015625, 2804.840087890625, 4849.498046875, 4937.47509765625, 3074.2236328125, 2063.42529296875, 1297.355224609375, 1350.710205078125, 1224.360107421875, 1165.815185546875, 1409.3299560546875, 2116.5498046875, 2357.135009765625, 2995.0703125, 5295.2119140625, 4957.90478515625, 3321.959228515625, 2221.18017578125, 1345.9000244140625, 1514.01513671875, 1239.5501708984375, 1172.159912109375, 1518.9752197265625, 1996.8751220703125, 2248.68505859375, 3053.440185546875, 5019.45361328125, 5466.7802734375, 3235.167724609375, 2157.97998046875, 1379.7252197265625, 1728.0400390625, 1350.10986328125, 1216.014892578125, 1751.3251953125, 1805.320068359375, 2570.02490234375, 3204.240234375, 5395.72021484375, 6078.82861328125, 3587.098388671875, 2285.195068359375, 1582.18994140625, 1787.4298095703125, 1554.8701171875, 1409.8648681640625, 1612.125, 2286.239990234375, 2913.755126953125, 3645.908447265625, 5956.70849609375, 6326.97509765625, 3914.66015625, 2617.675048828125, 1675.1650390625, 2139.219970703125, 1715.4898681640625, 1663.5799560546875, 2053.699951171875, 2354.929931640625, 3038.591796875, 3470.609375, 6606.18359375, 6587.63671875, 4133.78271484375, 2960.0244140625, 1762.5849609375, 2125.64013671875, 1815.9150390625, 1632.31494140625, 2210.39501953125, 2210.215087890625, 3099.269287109375, 3468.77783203125, 6482.92529296875, 6665.48486328125, 4006.36181640625, 2882.3349609375, 1775.2498779296875, 2171.64990234375, 1796.4749755859375, 1692.349853515625, 1949.78515625, 2680.630126953125, 2645.949951171875, 3414.742919921875, 5772.876953125]\n"
     ]
    }
   ],
   "source": [
    "print(exemplo_treino['target'])"
   ]
  },
  {
   "cell_type": "code",
   "execution_count": 23,
   "id": "pl1Ygtp0Cf2R",
   "metadata": {
    "id": "pl1Ygtp0Cf2R"
   },
   "outputs": [],
   "source": [
    "# Vamos extrair um elemento de validação\n",
    "exemplo_valid = dsa_dataset['validation'][0]"
   ]
  },
  {
   "cell_type": "code",
   "execution_count": 24,
   "id": "uLM3iZpRCf44",
   "metadata": {
    "colab": {
     "base_uri": "https://localhost:8080/"
    },
    "id": "uLM3iZpRCf44",
    "outputId": "e7812643-74fc-4718-cb84-6673e6135c7d"
   },
   "outputs": [
    {
     "data": {
      "text/plain": [
       "dict_keys(['start', 'target', 'feat_static_cat', 'feat_dynamic_real', 'item_id'])"
      ]
     },
     "execution_count": 24,
     "metadata": {},
     "output_type": "execute_result"
    }
   ],
   "source": [
    "exemplo_valid.keys()"
   ]
  },
  {
   "cell_type": "code",
   "execution_count": 25,
   "id": "V4EqIVxHCf7x",
   "metadata": {
    "colab": {
     "base_uri": "https://localhost:8080/"
    },
    "id": "V4EqIVxHCf7x",
    "outputId": "a70a6a48-878e-40b8-fd59-df80837c78af"
   },
   "outputs": [
    {
     "name": "stdout",
     "output_type": "stream",
     "text": [
      "1979-01-01 00:00:00\n"
     ]
    }
   ],
   "source": [
    "print(exemplo_valid['start'])"
   ]
  },
  {
   "cell_type": "code",
   "execution_count": 26,
   "id": "IKmhuvQfgfBL",
   "metadata": {
    "colab": {
     "base_uri": "https://localhost:8080/"
    },
    "id": "IKmhuvQfgfBL",
    "outputId": "6ee34f53-963a-47ac-97b8-9066ad6fa778"
   },
   "outputs": [
    {
     "name": "stdout",
     "output_type": "stream",
     "text": [
      "[1149.8699951171875, 1053.8001708984375, 1388.8797607421875, 1783.3702392578125, 1921.025146484375, 2704.94482421875, 4184.41357421875, 4148.35400390625, 2620.72509765625, 1650.300048828125, 1115.9200439453125, 1370.6251220703125, 1096.31494140625, 978.4600219726562, 1294.68505859375, 1480.465087890625, 1748.865234375, 2216.920166015625, 4690.5185546875, 4682.8642578125, 2459.579833984375, 1484.4901123046875, 1028.985107421875, 1109.3648681640625, 960.8751220703125, 896.35009765625, 1118.6551513671875, 1619.9949951171875, 1847.994873046875, 2367.044921875, 4991.16015625, 4772.9443359375, 2894.678466796875, 1860.4801025390625, 1185.150146484375, 1313.659912109375, 1160.9150390625, 1061.5048828125, 1301.77001953125, 1794.3797607421875, 2106.455078125, 2789.034912109375, 4917.8466796875, 4994.4833984375, 3016.754150390625, 1941.505126953125, 1234.135009765625, 1378.72021484375, 1182.9749755859375, 1081.6600341796875, 1424.110107421875, 1774.5350341796875, 2115.420166015625, 2804.840087890625, 4849.498046875, 4937.47509765625, 3074.2236328125, 2063.42529296875, 1297.355224609375, 1350.710205078125, 1224.360107421875, 1165.815185546875, 1409.3299560546875, 2116.5498046875, 2357.135009765625, 2995.0703125, 5295.2119140625, 4957.90478515625, 3321.959228515625, 2221.18017578125, 1345.9000244140625, 1514.01513671875, 1239.5501708984375, 1172.159912109375, 1518.9752197265625, 1996.8751220703125, 2248.68505859375, 3053.440185546875, 5019.45361328125, 5466.7802734375, 3235.167724609375, 2157.97998046875, 1379.7252197265625, 1728.0400390625, 1350.10986328125, 1216.014892578125, 1751.3251953125, 1805.320068359375, 2570.02490234375, 3204.240234375, 5395.72021484375, 6078.82861328125, 3587.098388671875, 2285.195068359375, 1582.18994140625, 1787.4298095703125, 1554.8701171875, 1409.8648681640625, 1612.125, 2286.239990234375, 2913.755126953125, 3645.908447265625, 5956.70849609375, 6326.97509765625, 3914.66015625, 2617.675048828125, 1675.1650390625, 2139.219970703125, 1715.4898681640625, 1663.5799560546875, 2053.699951171875, 2354.929931640625, 3038.591796875, 3470.609375, 6606.18359375, 6587.63671875, 4133.78271484375, 2960.0244140625, 1762.5849609375, 2125.64013671875, 1815.9150390625, 1632.31494140625, 2210.39501953125, 2210.215087890625, 3099.269287109375, 3468.77783203125, 6482.92529296875, 6665.48486328125, 4006.36181640625, 2882.3349609375, 1775.2498779296875, 2171.64990234375, 1796.4749755859375, 1692.349853515625, 1949.78515625, 2680.630126953125, 2645.949951171875, 3414.742919921875, 5772.876953125, 6053.7041015625, 3878.12841796875, 2806.514892578125, 1735.5382080078125, 2128.919921875, 1608.01416015625, 1441.330078125, 2068.235107421875, 2207.610107421875, 2918.409912109375, 3400.81787109375, 6048.7421875, 6483.14013671875, 4063.502685546875, 2900.22998046875, 1907.094970703125, 2338.510009765625, 1787.1650390625, 1699.6451416015625, 1979.105224609375, 2824.260009765625, 3076.5048828125, 3402.5849609375, 5985.830078125]\n"
     ]
    }
   ],
   "source": [
    "print(exemplo_valid['target'])"
   ]
  },
  {
   "cell_type": "code",
   "execution_count": 27,
   "id": "HIeUDlHwCgBv",
   "metadata": {
    "id": "HIeUDlHwCgBv"
   },
   "outputs": [],
   "source": [
    "# Vamos extrair um elemento de teste\n",
    "exemplo_test = dsa_dataset['test'][0]"
   ]
  },
  {
   "cell_type": "code",
   "execution_count": 28,
   "id": "W4s13UF4CgE3",
   "metadata": {
    "colab": {
     "base_uri": "https://localhost:8080/"
    },
    "id": "W4s13UF4CgE3",
    "outputId": "a45bbb54-395e-4803-a5f8-05846b83680d"
   },
   "outputs": [
    {
     "name": "stdout",
     "output_type": "stream",
     "text": [
      "1979-01-01 00:00:00\n"
     ]
    }
   ],
   "source": [
    "print(exemplo_test['start'])"
   ]
  },
  {
   "cell_type": "code",
   "execution_count": 29,
   "id": "Dpg6VyPjCgHw",
   "metadata": {
    "colab": {
     "base_uri": "https://localhost:8080/"
    },
    "id": "Dpg6VyPjCgHw",
    "outputId": "db115672-ed00-4db9-9d38-d182c8b8b5a2"
   },
   "outputs": [
    {
     "name": "stdout",
     "output_type": "stream",
     "text": [
      "[1149.8699951171875, 1053.8001708984375, 1388.8797607421875, 1783.3702392578125, 1921.025146484375, 2704.94482421875, 4184.41357421875, 4148.35400390625, 2620.72509765625, 1650.300048828125, 1115.9200439453125, 1370.6251220703125, 1096.31494140625, 978.4600219726562, 1294.68505859375, 1480.465087890625, 1748.865234375, 2216.920166015625, 4690.5185546875, 4682.8642578125, 2459.579833984375, 1484.4901123046875, 1028.985107421875, 1109.3648681640625, 960.8751220703125, 896.35009765625, 1118.6551513671875, 1619.9949951171875, 1847.994873046875, 2367.044921875, 4991.16015625, 4772.9443359375, 2894.678466796875, 1860.4801025390625, 1185.150146484375, 1313.659912109375, 1160.9150390625, 1061.5048828125, 1301.77001953125, 1794.3797607421875, 2106.455078125, 2789.034912109375, 4917.8466796875, 4994.4833984375, 3016.754150390625, 1941.505126953125, 1234.135009765625, 1378.72021484375, 1182.9749755859375, 1081.6600341796875, 1424.110107421875, 1774.5350341796875, 2115.420166015625, 2804.840087890625, 4849.498046875, 4937.47509765625, 3074.2236328125, 2063.42529296875, 1297.355224609375, 1350.710205078125, 1224.360107421875, 1165.815185546875, 1409.3299560546875, 2116.5498046875, 2357.135009765625, 2995.0703125, 5295.2119140625, 4957.90478515625, 3321.959228515625, 2221.18017578125, 1345.9000244140625, 1514.01513671875, 1239.5501708984375, 1172.159912109375, 1518.9752197265625, 1996.8751220703125, 2248.68505859375, 3053.440185546875, 5019.45361328125, 5466.7802734375, 3235.167724609375, 2157.97998046875, 1379.7252197265625, 1728.0400390625, 1350.10986328125, 1216.014892578125, 1751.3251953125, 1805.320068359375, 2570.02490234375, 3204.240234375, 5395.72021484375, 6078.82861328125, 3587.098388671875, 2285.195068359375, 1582.18994140625, 1787.4298095703125, 1554.8701171875, 1409.8648681640625, 1612.125, 2286.239990234375, 2913.755126953125, 3645.908447265625, 5956.70849609375, 6326.97509765625, 3914.66015625, 2617.675048828125, 1675.1650390625, 2139.219970703125, 1715.4898681640625, 1663.5799560546875, 2053.699951171875, 2354.929931640625, 3038.591796875, 3470.609375, 6606.18359375, 6587.63671875, 4133.78271484375, 2960.0244140625, 1762.5849609375, 2125.64013671875, 1815.9150390625, 1632.31494140625, 2210.39501953125, 2210.215087890625, 3099.269287109375, 3468.77783203125, 6482.92529296875, 6665.48486328125, 4006.36181640625, 2882.3349609375, 1775.2498779296875, 2171.64990234375, 1796.4749755859375, 1692.349853515625, 1949.78515625, 2680.630126953125, 2645.949951171875, 3414.742919921875, 5772.876953125, 6053.7041015625, 3878.12841796875, 2806.514892578125, 1735.5382080078125, 2128.919921875, 1608.01416015625, 1441.330078125, 2068.235107421875, 2207.610107421875, 2918.409912109375, 3400.81787109375, 6048.7421875, 6483.14013671875, 4063.502685546875, 2900.22998046875, 1907.094970703125, 2338.510009765625, 1787.1650390625, 1699.6451416015625, 1979.105224609375, 2824.260009765625, 3076.5048828125, 3402.5849609375, 5985.830078125, 6611.115234375, 4150.2392578125, 2841.0, 1813.43994140625, 2261.080078125, 1873.60498046875, 1772.8399658203125, 2049.56494140625, 2932.264892578125, 3113.2548828125, 3461.5048828125, 6265.740234375, 6857.7998046875, 4346.08984375, 3154.72998046875, 2142.2099609375, 2375.72509765625, 1981.1099853515625, 1959.864990234375, 2466.31005859375, 2851.715087890625, 3671.804931640625, 3806.780029296875, 6995.0498046875]\n"
     ]
    }
   ],
   "source": [
    "print(exemplo_test['target'])"
   ]
  },
  {
   "cell_type": "code",
   "execution_count": 30,
   "id": "hxNyIIOzCgNu",
   "metadata": {
    "colab": {
     "base_uri": "https://localhost:8080/"
    },
    "id": "hxNyIIOzCgNu",
    "outputId": "3c00f52f-30ca-49e5-ad57-35c9dd03279c"
   },
   "outputs": [
    {
     "data": {
      "text/plain": [
       "139"
      ]
     },
     "execution_count": 30,
     "metadata": {},
     "output_type": "execute_result"
    }
   ],
   "source": [
    "len(exemplo_treino['target'])"
   ]
  },
  {
   "cell_type": "code",
   "execution_count": 31,
   "id": "qpWTwioICgQm",
   "metadata": {
    "colab": {
     "base_uri": "https://localhost:8080/"
    },
    "id": "qpWTwioICgQm",
    "outputId": "63bf050c-20b9-423b-fbe8-6892397ac45f"
   },
   "outputs": [
    {
     "data": {
      "text/plain": [
       "163"
      ]
     },
     "execution_count": 31,
     "metadata": {},
     "output_type": "execute_result"
    }
   ],
   "source": [
    "len(exemplo_valid['target'])"
   ]
  },
  {
   "cell_type": "code",
   "execution_count": 32,
   "id": "7MYPJKqoCgTc",
   "metadata": {
    "colab": {
     "base_uri": "https://localhost:8080/"
    },
    "id": "7MYPJKqoCgTc",
    "outputId": "2115351d-e378-4bb4-e630-b950463c7dfa"
   },
   "outputs": [
    {
     "data": {
      "text/plain": [
       "187"
      ]
     },
     "execution_count": 32,
     "metadata": {},
     "output_type": "execute_result"
    }
   ],
   "source": [
    "len(exemplo_test['target'])"
   ]
  },
  {
   "cell_type": "markdown",
   "id": "CrGX07UXrj2f",
   "metadata": {
    "id": "CrGX07UXrj2f"
   },
   "source": [
    "## Visualizando a Série Temporal"
   ]
  },
  {
   "cell_type": "code",
   "execution_count": 33,
   "id": "vj02SccoCgWk",
   "metadata": {
    "id": "vj02SccoCgWk"
   },
   "outputs": [],
   "source": [
    "# Frequência da série temporal (1 mês)\n",
    "freq = \"1M\""
   ]
  },
  {
   "cell_type": "code",
   "execution_count": 34,
   "id": "jfw5plFQCgZc",
   "metadata": {
    "id": "jfw5plFQCgZc"
   },
   "outputs": [],
   "source": [
    "# Janela de previsão (24 meses)\n",
    "prediction_length = 24"
   ]
  },
  {
   "cell_type": "code",
   "execution_count": 35,
   "id": "nPsp8s0dCgck",
   "metadata": {
    "id": "nPsp8s0dCgck"
   },
   "outputs": [],
   "source": [
    "# Verifica se o comprimento dos dados de validação permite a janela de previsão\n",
    "assert len(exemplo_treino[\"target\"]) + prediction_length == len(exemplo_valid[\"target\"])"
   ]
  },
  {
   "cell_type": "code",
   "execution_count": 36,
   "id": "kITUlrE8CgfL",
   "metadata": {
    "colab": {
     "base_uri": "https://localhost:8080/",
     "height": 445
    },
    "id": "kITUlrE8CgfL",
    "outputId": "5b85042d-f659-432d-dd08-b88efd037b6b"
   },
   "outputs": [
    {
     "data": {
      "image/png": "[encoded data removed]",
      "text/plain": [
       "<Figure size 1000x500 with 1 Axes>"
      ]
     },
     "metadata": {},
     "output_type": "display_data"
    }
   ],
   "source": [
    "# Plot\n",
    "figure, axes = plt.subplots(figsize = (10, 5))\n",
    "axes.plot(exemplo_treino[\"target\"], color = \"blue\")\n",
    "axes.plot(exemplo_valid[\"target\"], color = \"red\", alpha = 0.5)\n",
    "plt.show()"
   ]
  },
  {
   "cell_type": "markdown",
   "id": "52f24072",
   "metadata": {
    "id": "52f24072"
   },
   "source": [
    "## Convertendo o Formato de Data Para Períodos"
   ]
  },
  {
   "cell_type": "code",
   "execution_count": 37,
   "id": "64bf8d7e",
   "metadata": {
    "id": "64bf8d7e"
   },
   "outputs": [],
   "source": [
    "# Datasets de treino e teste\n",
    "dsa_dataset_treino = dsa_dataset[\"train\"]\n",
    "dsa_dataset_teste = dsa_dataset[\"test\"]"
   ]
  },
  {
   "cell_type": "markdown",
   "id": "6fa2dc12",
   "metadata": {
    "id": "6fa2dc12"
   },
   "source": [
    "A função abaixo é usada para converter objetos de data em períodos de datas usando pandas. Essa conversão é útil para trabalhar com séries temporais, pois os períodos podem representar melhor a granularidade dos dados (por exemplo, dia, mês, ano), dependendo da frequência (freq) fornecida. Esta função recebe uma data e a frequência desejada como argumentos, retornando um objeto pd.Period correspondente."
   ]
  },
  {
   "cell_type": "code",
   "execution_count": 38,
   "id": "82f0c79b",
   "metadata": {
    "id": "82f0c79b"
   },
   "outputs": [],
   "source": [
    "# Função para converter datas para períodos de datas (muda o formato da data)\n",
    "def dsa_convert_to_pandas_period(date, freq):\n",
    "    return pd.Period(date, freq)"
   ]
  },
  {
   "cell_type": "markdown",
   "id": "89cdc23f",
   "metadata": {
    "id": "89cdc23f"
   },
   "source": [
    "A função abaixo é usada para ajustar o início de cada batch de dados. Ela aplica a função de conversão dsa_convert_to_pandas_period() a cada elemento na chave \"start\" do batch, transformando as datas de início em períodos pandas. Isso é feito para cada elemento do batch, garantindo que todos os pontos de dados tenham um marcador de início formatado corretamente de acordo com a frequência especificada. A função retorna o batch com os inícios ajustados."
   ]
  },
  {
   "cell_type": "code",
   "execution_count": 39,
   "id": "c7e22e93",
   "metadata": {
    "id": "c7e22e93"
   },
   "outputs": [],
   "source": [
    "# Função para definir o início do batch de dados\n",
    "def dsa_define_start(batch, freq):\n",
    "    batch[\"start\"] = [dsa_convert_to_pandas_period(date, freq) for date in batch[\"start\"]]\n",
    "    return batch"
   ]
  },
  {
   "cell_type": "markdown",
   "id": "03fc7644",
   "metadata": {
    "id": "03fc7644"
   },
   "source": [
    "Finalmente, os datasets de treino e teste são ajustados para utilizar a função dsa_define_start() como uma transformação. Isso é feito usando o método set_transform() e aplicando a função partial() para fixar o argumento freq na função dsa_define_start(), garantindo que a frequência especificada seja usada na conversão de todas as datas de início nos datasets. Essa etapa prepara os datasets para que estejam no formato adequado para as etapas subsequentes de modelagem, com todos os pontos de dados tendo um marcador de período de início consistente de acordo com a granularidade temporal desejada.\n",
    "\n",
    "Ou seja, preparamos os dados no formato de sequência, exatamete o que um modelo com arquitetura Transformer espera receber."
   ]
  },
  {
   "cell_type": "code",
   "execution_count": 40,
   "id": "9d31a6bb",
   "metadata": {
    "id": "9d31a6bb"
   },
   "outputs": [],
   "source": [
    "# Ajusta os datasets das séries temporais no formato apropriado\n",
    "dsa_dataset_treino.set_transform(partial(dsa_define_start, freq = freq))\n",
    "dsa_dataset_teste.set_transform(partial(dsa_define_start, freq = freq))"
   ]
  },
  {
   "cell_type": "code",
   "execution_count": 41,
   "id": "2695e019",
   "metadata": {
    "colab": {
     "base_uri": "https://localhost:8080/"
    },
    "id": "2695e019",
    "outputId": "59efe66a-d51c-43ac-bac7-3fa06ef618b3"
   },
   "outputs": [
    {
     "data": {
      "text/plain": [
       "366"
      ]
     },
     "execution_count": 41,
     "metadata": {},
     "output_type": "execute_result"
    }
   ],
   "source": [
    "len(dsa_dataset_treino)"
   ]
  },
  {
   "cell_type": "code",
   "execution_count": 42,
   "id": "855df5dd",
   "metadata": {
    "colab": {
     "base_uri": "https://localhost:8080/"
    },
    "id": "855df5dd",
    "outputId": "d6d9cfe5-afc9-45ff-d709-a35b7af9e20e"
   },
   "outputs": [
    {
     "data": {
      "text/plain": [
       "Dataset({\n",
       "    features: ['start', 'target', 'feat_static_cat', 'feat_dynamic_real', 'item_id'],\n",
       "    num_rows: 366\n",
       "})"
      ]
     },
     "execution_count": 42,
     "metadata": {},
     "output_type": "execute_result"
    }
   ],
   "source": [
    "dsa_dataset_treino"
   ]
  },
  {
   "cell_type": "code",
   "execution_count": 43,
   "id": "d866af0e",
   "metadata": {
    "colab": {
     "base_uri": "https://localhost:8080/"
    },
    "id": "d866af0e",
    "outputId": "6825b9d3-b8e0-4710-888f-4a262bd63c93"
   },
   "outputs": [
    {
     "data": {
      "text/plain": [
       "[Period('1979-01', 'M'),\n",
       " Period('1979-01', 'M'),\n",
       " Period('1985-01', 'M'),\n",
       " Period('1985-01', 'M'),\n",
       " Period('1985-01', 'M'),\n",
       " Period('1985-01', 'M'),\n",
       " Period('1985-01', 'M'),\n",
       " Period('1985-01', 'M'),\n",
       " Period('1985-01', 'M'),\n",
       " Period('1985-01', 'M'),\n",
       " Period('1985-01', 'M'),\n",
       " Period('1985-01', 'M'),\n",
       " Period('1985-01', 'M'),\n",
       " Period('1985-01', 'M'),\n",
       " Period('1986-01', 'M'),\n",
       " Period('1986-01', 'M'),\n",
       " Period('1986-01', 'M'),\n",
       " Period('1986-01', 'M'),\n",
       " Period('1980-01', 'M'),\n",
       " Period('1980-01', 'M'),\n",
       " Period('1980-01', 'M'),\n",
       " Period('1980-01', 'M'),\n",
       " Period('1980-01', 'M'),\n",
       " Period('1980-01', 'M'),\n",
       " Period('1980-01', 'M'),\n",
       " Period('1980-01', 'M'),\n",
       " Period('1980-01', 'M'),\n",
       " Period('1980-01', 'M'),\n",
       " Period('1980-01', 'M'),\n",
       " Period('1980-01', 'M'),\n",
       " Period('1980-01', 'M'),\n",
       " Period('1980-01', 'M'),\n",
       " Period('1980-01', 'M'),\n",
       " Period('1980-01', 'M'),\n",
       " Period('1980-01', 'M'),\n",
       " Period('1980-01', 'M'),\n",
       " Period('1980-01', 'M'),\n",
       " Period('1980-01', 'M'),\n",
       " Period('1980-01', 'M'),\n",
       " Period('1980-01', 'M'),\n",
       " Period('1980-01', 'M'),\n",
       " Period('1980-01', 'M'),\n",
       " Period('1980-01', 'M'),\n",
       " Period('1980-01', 'M'),\n",
       " Period('1980-01', 'M'),\n",
       " Period('1980-01', 'M'),\n",
       " Period('1980-01', 'M'),\n",
       " Period('1980-01', 'M'),\n",
       " Period('1980-01', 'M'),\n",
       " Period('1980-01', 'M'),\n",
       " Period('1980-01', 'M'),\n",
       " Period('1980-01', 'M'),\n",
       " Period('1980-01', 'M'),\n",
       " Period('1980-01', 'M'),\n",
       " Period('1980-01', 'M'),\n",
       " Period('1980-01', 'M'),\n",
       " Period('1980-01', 'M'),\n",
       " Period('1980-01', 'M'),\n",
       " Period('1980-01', 'M'),\n",
       " Period('1980-01', 'M'),\n",
       " Period('1980-01', 'M'),\n",
       " Period('1980-01', 'M'),\n",
       " Period('1980-01', 'M'),\n",
       " Period('1980-01', 'M'),\n",
       " Period('1980-01', 'M'),\n",
       " Period('1980-01', 'M'),\n",
       " Period('1980-01', 'M'),\n",
       " Period('1980-01', 'M'),\n",
       " Period('1980-01', 'M'),\n",
       " Period('1980-01', 'M'),\n",
       " Period('1980-01', 'M'),\n",
       " Period('1980-01', 'M'),\n",
       " Period('1980-01', 'M'),\n",
       " Period('1980-01', 'M'),\n",
       " Period('1980-01', 'M'),\n",
       " Period('1980-01', 'M'),\n",
       " Period('1980-01', 'M'),\n",
       " Period('1980-01', 'M'),\n",
       " Period('1980-01', 'M'),\n",
       " Period('1980-01', 'M'),\n",
       " Period('1980-01', 'M'),\n",
       " Period('1980-01', 'M'),\n",
       " Period('1980-01', 'M'),\n",
       " Period('1980-01', 'M'),\n",
       " Period('1980-01', 'M'),\n",
       " Period('1980-01', 'M'),\n",
       " Period('1980-01', 'M'),\n",
       " Period('1980-01', 'M'),\n",
       " Period('1980-01', 'M'),\n",
       " Period('1980-01', 'M'),\n",
       " Period('1980-01', 'M'),\n",
       " Period('1980-01', 'M'),\n",
       " Period('1980-01', 'M'),\n",
       " Period('1980-01', 'M'),\n",
       " Period('1980-01', 'M'),\n",
       " Period('1980-01', 'M'),\n",
       " Period('1980-01', 'M'),\n",
       " Period('1980-01', 'M'),\n",
       " Period('1980-01', 'M'),\n",
       " Period('1980-01', 'M'),\n",
       " Period('1980-01', 'M'),\n",
       " Period('1980-01', 'M'),\n",
       " Period('1980-01', 'M'),\n",
       " Period('1980-01', 'M'),\n",
       " Period('1980-01', 'M'),\n",
       " Period('1980-01', 'M'),\n",
       " Period('1980-01', 'M'),\n",
       " Period('1980-01', 'M'),\n",
       " Period('1991-01', 'M'),\n",
       " Period('1991-01', 'M'),\n",
       " Period('1991-01', 'M'),\n",
       " Period('1991-01', 'M'),\n",
       " Period('1991-01', 'M'),\n",
       " Period('1991-01', 'M'),\n",
       " Period('1991-01', 'M'),\n",
       " Period('1991-01', 'M'),\n",
       " Period('1991-01', 'M'),\n",
       " Period('1991-01', 'M'),\n",
       " Period('1991-01', 'M'),\n",
       " Period('1991-01', 'M'),\n",
       " Period('1991-01', 'M'),\n",
       " Period('1991-01', 'M'),\n",
       " Period('1991-01', 'M'),\n",
       " Period('1991-01', 'M'),\n",
       " Period('1991-01', 'M'),\n",
       " Period('1991-01', 'M'),\n",
       " Period('1991-01', 'M'),\n",
       " Period('1991-01', 'M'),\n",
       " Period('1991-01', 'M'),\n",
       " Period('1991-01', 'M'),\n",
       " Period('1991-01', 'M'),\n",
       " Period('1991-01', 'M'),\n",
       " Period('1991-01', 'M'),\n",
       " Period('1991-01', 'M'),\n",
       " Period('1991-01', 'M'),\n",
       " Period('1991-01', 'M'),\n",
       " Period('1991-01', 'M'),\n",
       " Period('1991-01', 'M'),\n",
       " Period('1991-01', 'M'),\n",
       " Period('1991-01', 'M'),\n",
       " Period('1991-01', 'M'),\n",
       " Period('1991-01', 'M'),\n",
       " Period('1991-01', 'M'),\n",
       " Period('1991-01', 'M'),\n",
       " Period('1991-01', 'M'),\n",
       " Period('2000-01', 'M'),\n",
       " Period('1991-01', 'M'),\n",
       " Period('1991-01', 'M'),\n",
       " Period('1991-01', 'M'),\n",
       " Period('1991-01', 'M'),\n",
       " Period('1991-01', 'M'),\n",
       " Period('1991-01', 'M'),\n",
       " Period('1991-01', 'M'),\n",
       " Period('1991-01', 'M'),\n",
       " Period('1991-01', 'M'),\n",
       " Period('1991-01', 'M'),\n",
       " Period('1991-01', 'M'),\n",
       " Period('1991-01', 'M'),\n",
       " Period('1991-01', 'M'),\n",
       " Period('1991-01', 'M'),\n",
       " Period('1991-01', 'M'),\n",
       " Period('1991-01', 'M'),\n",
       " Period('1991-01', 'M'),\n",
       " Period('1991-01', 'M'),\n",
       " Period('1991-01', 'M'),\n",
       " Period('1991-01', 'M'),\n",
       " Period('1991-01', 'M'),\n",
       " Period('1991-01', 'M'),\n",
       " Period('1991-01', 'M'),\n",
       " Period('1991-01', 'M'),\n",
       " Period('1991-01', 'M'),\n",
       " Period('1991-01', 'M'),\n",
       " Period('1991-01', 'M'),\n",
       " Period('1991-01', 'M'),\n",
       " Period('1991-01', 'M'),\n",
       " Period('1991-01', 'M'),\n",
       " Period('1991-01', 'M'),\n",
       " Period('1991-01', 'M'),\n",
       " Period('1991-01', 'M'),\n",
       " Period('1991-01', 'M'),\n",
       " Period('1980-01', 'M'),\n",
       " Period('1980-01', 'M'),\n",
       " Period('1980-01', 'M'),\n",
       " Period('1980-01', 'M'),\n",
       " Period('1980-01', 'M'),\n",
       " Period('1980-01', 'M'),\n",
       " Period('1980-01', 'M'),\n",
       " Period('1980-01', 'M'),\n",
       " Period('1980-01', 'M'),\n",
       " Period('1980-01', 'M'),\n",
       " Period('1980-01', 'M'),\n",
       " Period('1980-01', 'M'),\n",
       " Period('1980-01', 'M'),\n",
       " Period('1980-01', 'M'),\n",
       " Period('1980-01', 'M'),\n",
       " Period('1980-01', 'M'),\n",
       " Period('1980-01', 'M'),\n",
       " Period('1980-01', 'M'),\n",
       " Period('1980-01', 'M'),\n",
       " Period('1980-01', 'M'),\n",
       " Period('1980-01', 'M'),\n",
       " Period('1980-01', 'M'),\n",
       " Period('1980-01', 'M'),\n",
       " Period('1980-01', 'M'),\n",
       " Period('1980-01', 'M'),\n",
       " Period('1980-01', 'M'),\n",
       " Period('1980-01', 'M'),\n",
       " Period('1980-01', 'M'),\n",
       " Period('1980-01', 'M'),\n",
       " Period('1980-01', 'M'),\n",
       " Period('1980-01', 'M'),\n",
       " Period('1980-01', 'M'),\n",
       " Period('1980-01', 'M'),\n",
       " Period('1980-01', 'M'),\n",
       " Period('1980-01', 'M'),\n",
       " Period('1980-01', 'M'),\n",
       " Period('1980-01', 'M'),\n",
       " Period('1980-01', 'M'),\n",
       " Period('1980-01', 'M'),\n",
       " Period('1980-01', 'M'),\n",
       " Period('1980-01', 'M'),\n",
       " Period('1980-01', 'M'),\n",
       " Period('1980-01', 'M'),\n",
       " Period('1980-01', 'M'),\n",
       " Period('1980-01', 'M'),\n",
       " Period('1980-01', 'M'),\n",
       " Period('1980-01', 'M'),\n",
       " Period('1980-01', 'M'),\n",
       " Period('1980-01', 'M'),\n",
       " Period('1980-01', 'M'),\n",
       " Period('1980-01', 'M'),\n",
       " Period('1980-01', 'M'),\n",
       " Period('1980-01', 'M'),\n",
       " Period('1980-01', 'M'),\n",
       " Period('1980-01', 'M'),\n",
       " Period('1980-01', 'M'),\n",
       " Period('1980-01', 'M'),\n",
       " Period('1980-01', 'M'),\n",
       " Period('1980-01', 'M'),\n",
       " Period('1980-01', 'M'),\n",
       " Period('1980-01', 'M'),\n",
       " Period('1980-01', 'M'),\n",
       " Period('1980-01', 'M'),\n",
       " Period('1980-01', 'M'),\n",
       " Period('1980-01', 'M'),\n",
       " Period('1980-01', 'M'),\n",
       " Period('1980-01', 'M'),\n",
       " Period('1980-01', 'M'),\n",
       " Period('1980-01', 'M'),\n",
       " Period('1980-01', 'M'),\n",
       " Period('1980-01', 'M'),\n",
       " Period('1980-01', 'M'),\n",
       " Period('1980-01', 'M'),\n",
       " Period('1980-01', 'M'),\n",
       " Period('1980-01', 'M'),\n",
       " Period('1980-01', 'M'),\n",
       " Period('1980-01', 'M'),\n",
       " Period('1980-01', 'M'),\n",
       " Period('1980-01', 'M'),\n",
       " Period('1980-01', 'M'),\n",
       " Period('1980-01', 'M'),\n",
       " Period('1980-01', 'M'),\n",
       " Period('1980-01', 'M'),\n",
       " Period('1980-01', 'M'),\n",
       " Period('1980-01', 'M'),\n",
       " Period('1980-01', 'M'),\n",
       " Period('1980-01', 'M'),\n",
       " Period('1980-01', 'M'),\n",
       " Period('1980-01', 'M'),\n",
       " Period('1980-01', 'M'),\n",
       " Period('1980-01', 'M'),\n",
       " Period('1980-01', 'M'),\n",
       " Period('1980-01', 'M'),\n",
       " Period('1980-01', 'M'),\n",
       " Period('1980-01', 'M'),\n",
       " Period('1980-01', 'M'),\n",
       " Period('1980-01', 'M'),\n",
       " Period('1980-01', 'M'),\n",
       " Period('1980-01', 'M'),\n",
       " Period('1980-01', 'M'),\n",
       " Period('1980-01', 'M'),\n",
       " Period('1980-01', 'M'),\n",
       " Period('1980-01', 'M'),\n",
       " Period('1980-01', 'M'),\n",
       " Period('1980-01', 'M'),\n",
       " Period('1980-01', 'M'),\n",
       " Period('1980-01', 'M'),\n",
       " Period('1980-01', 'M'),\n",
       " Period('1980-01', 'M'),\n",
       " Period('1980-01', 'M'),\n",
       " Period('1980-01', 'M'),\n",
       " Period('1980-01', 'M'),\n",
       " Period('1980-01', 'M'),\n",
       " Period('1980-01', 'M'),\n",
       " Period('1980-01', 'M'),\n",
       " Period('1980-01', 'M'),\n",
       " Period('1980-01', 'M'),\n",
       " Period('1980-01', 'M'),\n",
       " Period('1980-01', 'M'),\n",
       " Period('1980-01', 'M'),\n",
       " Period('1980-01', 'M'),\n",
       " Period('1980-01', 'M'),\n",
       " Period('1980-01', 'M'),\n",
       " Period('1980-01', 'M'),\n",
       " Period('1980-01', 'M'),\n",
       " Period('1980-01', 'M'),\n",
       " Period('1980-01', 'M'),\n",
       " Period('1980-01', 'M'),\n",
       " Period('1980-01', 'M'),\n",
       " Period('1980-01', 'M'),\n",
       " Period('1980-01', 'M'),\n",
       " Period('1980-01', 'M'),\n",
       " Period('1980-01', 'M'),\n",
       " Period('1980-01', 'M'),\n",
       " Period('1980-01', 'M'),\n",
       " Period('1980-01', 'M'),\n",
       " Period('1980-01', 'M'),\n",
       " Period('1980-01', 'M'),\n",
       " Period('1980-01', 'M'),\n",
       " Period('1980-01', 'M'),\n",
       " Period('1980-01', 'M'),\n",
       " Period('1980-01', 'M'),\n",
       " Period('1980-01', 'M'),\n",
       " Period('1980-01', 'M'),\n",
       " Period('1980-01', 'M'),\n",
       " Period('1980-01', 'M'),\n",
       " Period('1980-01', 'M'),\n",
       " Period('1980-01', 'M'),\n",
       " Period('1980-01', 'M'),\n",
       " Period('1980-01', 'M'),\n",
       " Period('1980-01', 'M'),\n",
       " Period('1980-01', 'M'),\n",
       " Period('1980-01', 'M'),\n",
       " Period('1980-01', 'M'),\n",
       " Period('1980-01', 'M'),\n",
       " Period('1980-01', 'M'),\n",
       " Period('1980-01', 'M'),\n",
       " Period('1980-01', 'M'),\n",
       " Period('1980-01', 'M'),\n",
       " Period('1980-01', 'M'),\n",
       " Period('1980-01', 'M'),\n",
       " Period('1980-01', 'M'),\n",
       " Period('1980-01', 'M'),\n",
       " Period('1980-01', 'M'),\n",
       " Period('1980-01', 'M'),\n",
       " Period('1980-01', 'M'),\n",
       " Period('1980-01', 'M'),\n",
       " Period('1980-01', 'M'),\n",
       " Period('1980-01', 'M'),\n",
       " Period('1980-01', 'M'),\n",
       " Period('1980-01', 'M'),\n",
       " Period('1980-01', 'M'),\n",
       " Period('1980-01', 'M'),\n",
       " Period('1980-01', 'M'),\n",
       " Period('1981-01', 'M'),\n",
       " Period('1981-01', 'M'),\n",
       " Period('1981-01', 'M'),\n",
       " Period('1981-01', 'M'),\n",
       " Period('1981-01', 'M'),\n",
       " Period('1981-01', 'M'),\n",
       " Period('1981-01', 'M'),\n",
       " Period('1981-01', 'M'),\n",
       " Period('1981-01', 'M'),\n",
       " Period('1981-01', 'M'),\n",
       " Period('1981-01', 'M'),\n",
       " Period('1981-01', 'M')]"
      ]
     },
     "execution_count": 43,
     "metadata": {},
     "output_type": "execute_result"
    }
   ],
   "source": [
    "dsa_dataset_treino['start']"
   ]
  },
  {
   "cell_type": "markdown",
   "id": "ceb8ce49",
   "metadata": {
    "id": "ceb8ce49"
   },
   "source": [
    "## TimeSeries Transformer Config\n",
    "\n",
    "Lembre-se de visitar sua amiga documentação periodicamente:\n",
    "\n",
    "https://huggingface.co/docs/transformers/en/model_doc/time_series_transformer"
   ]
  },
  {
   "cell_type": "code",
   "execution_count": 44,
   "id": "9b29bad4",
   "metadata": {
    "id": "9b29bad4"
   },
   "outputs": [],
   "source": [
    "# TimeSeries Transformer Config\n",
    "dsa_config = TimeSeriesTransformerConfig(\n",
    "\n",
    "    # Comprimento de previsão\n",
    "    prediction_length = prediction_length,\n",
    "\n",
    "    # Comprimento do contexto\n",
    "    context_length = prediction_length * 2,\n",
    "\n",
    "    # Lags sequence\n",
    "    # \"Lags\" em séries temporais referem-se a pontos de dados anteriores em uma série de tempo.\n",
    "    # Em outras palavras, um \"lag\" é um atraso temporal. Por exemplo, em uma série temporal mensal, o \"lag\"\n",
    "    # de um mês refere-se aos dados do mês anterior.\n",
    "    lags_sequence = get_lags_for_frequency(freq),\n",
    "\n",
    "    # Adicionaremos 2 características de tempo (\"mês do ano\" e \"idade da série\"):\n",
    "    num_time_features = len(time_features_from_frequency_str(freq)) + 1,\n",
    "\n",
    "    # Temos um único recurso categórico estático, ou seja, o ID da série temporal\n",
    "    num_static_categorical_features = 1,\n",
    "\n",
    "    # Temos 366 valores possíveis\n",
    "    cardinality = [len(dsa_dataset_treino)],\n",
    "\n",
    "    # O modelo receberá uma embedding de tamanho 2 para cada um dos 366 valores possíveis:\n",
    "    embedding_dimension = [2],\n",
    "\n",
    "    # Parâmetros da rede neural do Transformer\n",
    "    encoder_layers = 4,\n",
    "    decoder_layers = 4,\n",
    "    d_model = 32,\n",
    ")"
   ]
  },
  {
   "cell_type": "markdown",
   "id": "N2lsrWzKDXc6",
   "metadata": {
    "id": "N2lsrWzKDXc6"
   },
   "source": [
    "## TimeSeries Transformer For Prediction\n",
    "\n",
    "Agora criamos o modelo (instância da classe)."
   ]
  },
  {
   "cell_type": "code",
   "execution_count": 45,
   "id": "c5e8b4ba",
   "metadata": {
    "id": "c5e8b4ba"
   },
   "outputs": [],
   "source": [
    "# Cria o modelo com a config criada\n",
    "modelo_dsa = TimeSeriesTransformerForPrediction(dsa_config)"
   ]
  },
  {
   "cell_type": "markdown",
   "id": "2e06f360",
   "metadata": {
    "id": "2e06f360"
   },
   "source": [
    "Vamos compreender parte da Matemática por trás do Transformer, especificamente o módulo de atenção.\n",
    "\n",
    "### Matemática do Modelo Transformer\n",
    "\n",
    "https://arxiv.org/pdf/1706.03762.pdf\n",
    "\n",
    "Vamos descrever as partes do modelo Transformer com algumas fórmulas. Os termos a seguir serão úteis para entender os cálculos.\n",
    "\n",
    "- Q: vetor de consulta\n",
    "- K: vetor de chave\n",
    "- V: vetor de valor\n",
    "\n",
    "As fórmulas para o mecanismo de atenção no Transformer são as seguintes:\n",
    "\n",
    "1- Atenção Escalada por Produto Escalar\n",
    "\n",
    "A função de atenção é usada para calcular a importância de diferentes partes da entrada. Ela recebe três entradas: Q, K e V. A saída é calculada como:\n",
    "\n",
    "**Attention(Q, K, V) = softmax((QK^T) / sqrt(d_k))V**\n",
    "\n",
    "onde d_k é a dimensão dos vetores-chave e o operador ^T indica a transposição de uma matriz. A operação de produto escalar entre Q e K ajuda a determinar a relevância entre cada par de consulta e chave. O resultado é então dividido pela raiz quadrada de d_k para evitar que os valores do produto escalar fiquem muito grandes. Por fim, a função softmax é aplicada para transformar os pesos em probabilidades que somam 1. Esses pesos são então usados para ponderar os vetores de valor.\n",
    "\n",
    "2- Atenção Multi-cabeça\n",
    "\n",
    "A atenção multi-cabeça permite que o modelo se concentre em diferentes partes da entrada para cada cabeça de atenção. Suponha que temos h cabeças de atenção. Para cada cabeça, primeiro transformamos Q, K e V com diferentes pesos aprendidos:\n",
    "\n",
    "- Q_i = QW^Q_i\n",
    "- K_i = KW^K_i\n",
    "- V_i = VW^V_i\n",
    "\n",
    "onde W^Q_i, W^K_i e W^V_i são os pesos aprendidos para a i-ésima cabeça.\n",
    "\n",
    "Em seguida, aplicamos a atenção escalada por produto escalar para cada conjunto de Q_i, K_i e V_i:\n",
    "\n",
    "**head_i = Attention(Q_i, K_i, V_i)**\n",
    "\n",
    "A saída de todas as cabeças é então concatenada e linearmente transformada para produzir a saída final:\n",
    "\n",
    "**MultiHead(Q, K, V) = Concat(head_1, ..., head_h)W^O**\n",
    "\n",
    "onde W^O é uma matriz de pesos aprendida.\n",
    "\n",
    "3- Codificador e Decodificador\n",
    "\n",
    "No codificador, cada camada consiste em atenção multi-cabeça seguida por uma rede neural feed-forward. A entrada passa pela atenção multi-cabeça e é então somada à entrada original (conexão residual) e normalizada. O resultado passa pela rede feed-forward, é somado à entrada e normalizado novamente.\n",
    "\n",
    "No decodificador, temos uma camada adicional de atenção multi-cabeça que leva a saída do codificador como K e V. Isso permite que o decodificador leve em consideração a entrada inteira ao produzir cada token de saída."
   ]
  },
  {
   "cell_type": "markdown",
   "id": "f3e940d4",
   "metadata": {
    "id": "f3e940d4"
   },
   "source": [
    "## Pré-Processamento dos Dados"
   ]
  },
  {
   "cell_type": "code",
   "execution_count": 46,
   "id": "cd326d62",
   "metadata": {
    "id": "cd326d62"
   },
   "outputs": [],
   "source": [
    "# Função para criar a transformação (sequência de dados)\n",
    "def dsa_cria_transformacao(freq: str, config: PretrainedConfig) -> Transformation:\n",
    "\n",
    "    remove_field_names = []\n",
    "\n",
    "    if config.num_static_real_features == 0:\n",
    "        remove_field_names.append(FieldName.FEAT_STATIC_REAL)\n",
    "\n",
    "    if config.num_dynamic_real_features == 0:\n",
    "        remove_field_names.append(FieldName.FEAT_DYNAMIC_REAL)\n",
    "\n",
    "    if config.num_static_categorical_features == 0:\n",
    "        remove_field_names.append(FieldName.FEAT_STATIC_CAT)\n",
    "\n",
    "    return Chain(\n",
    "\n",
    "        # Passo 1: Remove campos estáticos/dinâmicos se não for especificado\n",
    "        [RemoveFields(field_names = remove_field_names)]\n",
    "\n",
    "        # Passo 2: Converte os dados para formato NumPy\n",
    "        + (\n",
    "            [\n",
    "                AsNumpyArray(field = FieldName.FEAT_STATIC_CAT, expected_ndim = 1, dtype = int)\n",
    "            ]\n",
    "            if config.num_static_categorical_features > 0\n",
    "            else []\n",
    "        )\n",
    "        + (\n",
    "            [\n",
    "                AsNumpyArray(field = FieldName.FEAT_STATIC_REAL, expected_ndim = 1)\n",
    "            ]\n",
    "            if config.num_static_real_features > 0\n",
    "            else []\n",
    "        )\n",
    "        + [\n",
    "            AsNumpyArray(field = FieldName.TARGET, expected_ndim = 1 if config.input_size == 1 else 2,\n",
    "            ),\n",
    "\n",
    "            # Passo 3: Trata os NaN's preenchendo o alvo com zero e retornando a máscara\n",
    "            AddObservedValuesIndicator(target_field = FieldName.TARGET, output_field = FieldName.OBSERVED_VALUES),\n",
    "\n",
    "            # Passo 4: Adiciona recursos temporais com base na freq do mês do ano do conjunto de dados\n",
    "            # no caso em que freq=\"M\" eles servem como codificações posicionais\n",
    "            AddTimeFeatures(\n",
    "                start_field = FieldName.START,\n",
    "                target_field = FieldName.TARGET,\n",
    "                output_field = FieldName.FEAT_TIME,\n",
    "                time_features = time_features_from_frequency_str(freq),\n",
    "                pred_length = config.prediction_length,\n",
    "            ),\n",
    "\n",
    "            # Passo 5: Adiciona outro recurso temporal (apenas um único número)\n",
    "            # Informa ao modelo onde está o valor da série temporal, uma espécie de contador em execução\n",
    "            AddAgeFeature(\n",
    "                target_field = FieldName.TARGET,\n",
    "                output_field = FieldName.FEAT_AGE,\n",
    "                pred_length = config.prediction_length,\n",
    "                log_scale = True,\n",
    "            ),\n",
    "\n",
    "            # Passo 6: Empilha verticalmente todos os recursos temporais na chave FEAT_TIME\n",
    "            VstackFeatures(\n",
    "                output_field = FieldName.FEAT_TIME,\n",
    "                input_fields = [FieldName.FEAT_TIME, FieldName.FEAT_AGE]\n",
    "                + (\n",
    "                    [FieldName.FEAT_DYNAMIC_REAL]\n",
    "                    if config.num_dynamic_real_features > 0\n",
    "                    else []\n",
    "                ),\n",
    "            ),\n",
    "\n",
    "            # Passo 7: Renomeia para corresponder aos nomes no dataset extraído do HuggingFace\n",
    "            RenameFields(\n",
    "                mapping = {\n",
    "                    FieldName.FEAT_STATIC_CAT: \"static_categorical_features\",\n",
    "                    FieldName.FEAT_STATIC_REAL: \"static_real_features\",\n",
    "                    FieldName.FEAT_TIME: \"time_features\",\n",
    "                    FieldName.TARGET: \"values\",\n",
    "                    FieldName.OBSERVED_VALUES: \"observed_mask\",\n",
    "                }\n",
    "            ),\n",
    "        ]\n",
    "    )"
   ]
  },
  {
   "cell_type": "markdown",
   "id": "cd319519",
   "metadata": {
    "id": "cd319519"
   },
   "source": [
    "## Divisão nas Amostras de Treino, Validação e Teste"
   ]
  },
  {
   "cell_type": "code",
   "execution_count": 47,
   "id": "MnBGkUvNCglJ",
   "metadata": {
    "id": "MnBGkUvNCglJ"
   },
   "outputs": [],
   "source": [
    "# Define uma função para criar um divisor de instâncias e separar os dados em conjuntos de treino, validação e teste\n",
    "def dsa_create_instance_splitter(\n",
    "    config: PretrainedConfig,\n",
    "    mode: str,\n",
    "    train_sampler: Optional[InstanceSampler] = None,\n",
    "    validation_sampler: Optional[InstanceSampler] = None,\n",
    ") -> Transformation:\n",
    "\n",
    "    # Garante que o modo especificado seja um dos modos aceitos: treino, validação ou teste\n",
    "    assert mode in [\"train\", \"validation\", \"test\"]\n",
    "\n",
    "    # Define um dicionário mapeando cada modo para um sampler específico ou utiliza samplers padrões baseados na configuração\n",
    "    instance_sampler = {\n",
    "        \"train\": train_sampler\n",
    "        or ExpectedNumInstanceSampler(\n",
    "\n",
    "            # Sampler para treino, esperando um número específico de instâncias com um mínimo de pontos futuros\n",
    "            num_instances = 1.0, min_future = config.prediction_length\n",
    "        ),\n",
    "        \"validation\": validation_sampler\n",
    "\n",
    "        # Sampler para validação, dividindo com base em um mínimo de pontos futuros\n",
    "        or ValidationSplitSampler(min_future = config.prediction_length),\n",
    "\n",
    "        # Sampler para teste, sem necessidade de pontos futuros específicos\n",
    "        \"test\": TestSplitSampler(),\n",
    "    }[mode]\n",
    "\n",
    "    # Cria e retorna um divisor de instâncias configurado com o sampler adequado e outras definições relevantes\n",
    "    return InstanceSplitter(\n",
    "\n",
    "        # Campo alvo para a previsão\n",
    "        target_field = \"values\",\n",
    "\n",
    "        # Campo que indica se um ponto de dados é um preenchimento (padding)\n",
    "        is_pad_field = FieldName.IS_PAD,\n",
    "\n",
    "        # Campo que indica o início da série temporal\n",
    "        start_field = FieldName.START,\n",
    "\n",
    "        # Campo que indica o início da previsão\n",
    "        forecast_start_field = FieldName.FORECAST_START,\n",
    "\n",
    "        # O sampler de instâncias escolhido baseado no modo\n",
    "        instance_sampler = instance_sampler,\n",
    "\n",
    "        # Define o comprimento do contexto passado\n",
    "        past_length = config.context_length + max(config.lags_sequence),\n",
    "\n",
    "        # Define o comprimento da previsão futura\n",
    "        future_length = config.prediction_length,\n",
    "\n",
    "        # Campos adicionais da série temporal a serem incluídos\n",
    "        time_series_fields = [\"time_features\", \"observed_mask\"],\n",
    "    )"
   ]
  },
  {
   "cell_type": "markdown",
   "id": "a001f916",
   "metadata": {
    "id": "a001f916"
   },
   "source": [
    "## Criação dos Dataloaders"
   ]
  },
  {
   "cell_type": "code",
   "execution_count": 48,
   "id": "c1fa5f4b",
   "metadata": {
    "id": "c1fa5f4b"
   },
   "outputs": [],
   "source": [
    "# Define uma função para criar um DataLoader de treinamento com base nas configurações e dados fornecidos\n",
    "def dsa_cria_dataloader_treino(config: PretrainedConfig,\n",
    "                               freq,\n",
    "                               data,\n",
    "                               batch_size: int,\n",
    "                               num_batches_per_epoch: int,\n",
    "                               shuffle_buffer_length: Optional[int] = None,\n",
    "                               cache_data: bool = True,\n",
    "                               **kwargs) -> Iterable:\n",
    "\n",
    "    # Inicia a lista de nomes de entradas para previsão baseando-se na configuração de características estáticas e temporais\n",
    "    PREDICTION_INPUT_NAMES = [\"past_time_features\", \"past_values\", \"past_observed_mask\", \"future_time_features\"]\n",
    "\n",
    "    # Adiciona o nome da característica categórica estática à lista se presente na configuração\n",
    "    if config.num_static_categorical_features > 0:\n",
    "        PREDICTION_INPUT_NAMES.append(\"static_categorical_features\")\n",
    "\n",
    "    # Adiciona o nome da característica real estática à lista se presente na configuração\n",
    "    if config.num_static_real_features > 0:\n",
    "        PREDICTION_INPUT_NAMES.append(\"static_real_features\")\n",
    "\n",
    "    # Estende a lista de nomes de entradas para incluir os dados de treinamento específicos\n",
    "    TRAINING_INPUT_NAMES = PREDICTION_INPUT_NAMES + [\n",
    "        \"future_values\",\n",
    "        \"future_observed_mask\",\n",
    "    ]\n",
    "\n",
    "    # Cria a transformação dos dados com base na frequência e configuração fornecida\n",
    "    transformation = dsa_cria_transformacao(freq, config)\n",
    "\n",
    "    # Aplica a transformação nos dados no modo de treinamento\n",
    "    transformed_data = transformation.apply(data, is_train = True)\n",
    "\n",
    "    # Se solicitado, armazena em cache os dados transformados para otimizar o treinamento\n",
    "    if cache_data:\n",
    "        transformed_data = Cached(transformed_data)\n",
    "\n",
    "    # Cria um divisor de instâncias para o treinamento que define como as janelas de dados serão amostradas\n",
    "    instance_splitter = dsa_create_instance_splitter(config, \"train\")\n",
    "\n",
    "    # Cria um fluxo cíclico dos dados transformados para amostragem contínua\n",
    "    stream = Cyclic(transformed_data).stream()\n",
    "\n",
    "    # Aplica o divisor de instâncias ao fluxo de dados para gerar instâncias de treinamento\n",
    "    training_instances = instance_splitter.apply(stream, is_train = True)\n",
    "\n",
    "    # Retorna os lotes empilhados das instâncias de treinamento conforme especificado\n",
    "    return as_stacked_batches(\n",
    "        training_instances,\n",
    "        batch_size = batch_size,\n",
    "        shuffle_buffer_length = shuffle_buffer_length,  # Define o comprimento do buffer de embaralhamento, se aplicável\n",
    "        field_names = TRAINING_INPUT_NAMES,  # Especifica os nomes dos campos a serem incluídos nos lotes\n",
    "        output_type = torch.tensor,  # Define o tipo de saída dos lotes\n",
    "        num_batches_per_epoch = num_batches_per_epoch,  # Especifica o número de lotes por época\n",
    "    )"
   ]
  },
  {
   "cell_type": "code",
   "execution_count": 49,
   "id": "3430bf9f",
   "metadata": {
    "id": "3430bf9f"
   },
   "outputs": [],
   "source": [
    "# Define uma função para criar um DataLoader de teste a partir de configurações pré-definidas e dados\n",
    "def dsa_cria_dataloader_teste(config: PretrainedConfig, freq, data, batch_size: int, **kwargs):\n",
    "\n",
    "    # Define os nomes das entradas necessárias para previsão baseadas na configuração\n",
    "    PREDICTION_INPUT_NAMES = [\"past_time_features\", \"past_values\", \"past_observed_mask\", \"future_time_features\"]\n",
    "\n",
    "    # Se houver características categóricas estáticas, adiciona ao conjunto de entradas de previsão\n",
    "    if config.num_static_categorical_features > 0:\n",
    "        PREDICTION_INPUT_NAMES.append(\"static_categorical_features\")\n",
    "\n",
    "    # Se houver características reais estáticas, adiciona ao conjunto de entradas de previsão\n",
    "    if config.num_static_real_features > 0:\n",
    "        PREDICTION_INPUT_NAMES.append(\"static_real_features\")\n",
    "\n",
    "    # Cria a transformação a ser aplicada nos dados com base na frequência e configuração\n",
    "    transformation = dsa_cria_transformacao(freq, config)\n",
    "\n",
    "    # Aplica a transformação aos dados no modo de teste (não treinamento)\n",
    "    transformed_data = transformation.apply(data, is_train=False)\n",
    "\n",
    "    # Cria um amostrador de instâncias para o modo de teste que irá selecionar a última janela de contexto vista durante o treinamento\n",
    "    instance_sampler = dsa_create_instance_splitter(config, \"test\")\n",
    "\n",
    "    # Aplica o amostrador de instâncias aos dados transformados no modo de teste\n",
    "    testing_instances = instance_sampler.apply(transformed_data, is_train = False)\n",
    "\n",
    "    # Retorna os lotes empilhados como tensores PyTorch, com um tamanho de lote especificado e usando os nomes de campos definidos\n",
    "    return as_stacked_batches(\n",
    "        testing_instances,\n",
    "        batch_size = batch_size,\n",
    "        output_type = torch.tensor,\n",
    "        field_names = PREDICTION_INPUT_NAMES,\n",
    "    )"
   ]
  },
  {
   "cell_type": "code",
   "execution_count": 50,
   "id": "8a0caf03",
   "metadata": {
    "id": "8a0caf03"
   },
   "outputs": [],
   "source": [
    "# Cria o dataloader de treino\n",
    "dl_treino = dsa_cria_dataloader_treino(config = dsa_config,\n",
    "                                       freq = freq,\n",
    "                                       data = dsa_dataset_treino,\n",
    "                                       batch_size = 256,\n",
    "                                       num_batches_per_epoch = 100)"
   ]
  },
  {
   "cell_type": "code",
   "execution_count": 51,
   "id": "be332b85",
   "metadata": {
    "colab": {
     "base_uri": "https://localhost:8080/"
    },
    "id": "be332b85",
    "outputId": "49296ec6-a12b-45c1-c342-964fabc37e53"
   },
   "outputs": [
    {
     "name": "stdout",
     "output_type": "stream",
     "text": [
      "past_time_features\n",
      "past_values\n",
      "past_observed_mask\n",
      "future_time_features\n",
      "static_categorical_features\n",
      "future_values\n",
      "future_observed_mask\n"
     ]
    }
   ],
   "source": [
    "# Imprime as chaves de um batch de dados\n",
    "batch = next(iter(dl_treino))\n",
    "for k, v in batch.items():\n",
    "    print(k)"
   ]
  },
  {
   "cell_type": "code",
   "execution_count": 52,
   "id": "611470ed",
   "metadata": {
    "colab": {
     "base_uri": "https://localhost:8080/"
    },
    "id": "611470ed",
    "outputId": "1055d710-872c-4c46-80a4-0381f411b908"
   },
   "outputs": [
    {
     "name": "stdout",
     "output_type": "stream",
     "text": [
      "past_time_features tensor([[[ 0.3182,  1.3617],\n",
      "         [ 0.4091,  1.3802],\n",
      "         [ 0.5000,  1.3979],\n",
      "         ...,\n",
      "         [ 0.1364,  2.0212],\n",
      "         [ 0.2273,  2.0253],\n",
      "         [ 0.3182,  2.0294]],\n",
      "\n",
      "        [[ 0.5000,  2.1959],\n",
      "         [-0.5000,  2.1987],\n",
      "         [-0.4091,  2.2014],\n",
      "         ...,\n",
      "         [ 0.3182,  2.3784],\n",
      "         [ 0.4091,  2.3802],\n",
      "         [ 0.5000,  2.3820]],\n",
      "\n",
      "        [[ 0.0000,  0.0000],\n",
      "         [ 0.0000,  0.0000],\n",
      "         [ 0.0000,  0.0000],\n",
      "         ...,\n",
      "         [-0.4091,  1.7993],\n",
      "         [-0.3182,  1.8062],\n",
      "         [-0.2273,  1.8129]],\n",
      "\n",
      "        ...,\n",
      "\n",
      "        [[-0.4091,  2.1673],\n",
      "         [-0.3182,  2.1703],\n",
      "         [-0.2273,  2.1732],\n",
      "         ...,\n",
      "         [ 0.5000,  2.3598],\n",
      "         [-0.5000,  2.3617],\n",
      "         [-0.4091,  2.3636]],\n",
      "\n",
      "        [[ 0.0455,  1.7482],\n",
      "         [ 0.1364,  1.7559],\n",
      "         [ 0.2273,  1.7634],\n",
      "         ...,\n",
      "         [-0.1364,  2.1399],\n",
      "         [-0.0455,  2.1430],\n",
      "         [ 0.0455,  2.1461]],\n",
      "\n",
      "        [[ 0.1364,  1.9685],\n",
      "         [ 0.2273,  1.9731],\n",
      "         [ 0.3182,  1.9777],\n",
      "         ...,\n",
      "         [-0.0455,  2.2430],\n",
      "         [ 0.0455,  2.2455],\n",
      "         [ 0.1364,  2.2480]]])\n",
      "past_values tensor([[ 140.,   52.,   56.,  ...,  190.,  250.,  484.],\n",
      "        [ 900.,  696.,  648.,  ..., 3374., 2156., 1680.],\n",
      "        [   0.,    0.,    0.,  ...,   48.,  136.,   68.],\n",
      "        ...,\n",
      "        [2902.,  509.,  410.,  ..., 1150., 1805., 5081.],\n",
      "        [   8.,    8.,   45.,  ...,  104.,  137.,  268.],\n",
      "        [  66.,   99.,  130.,  ...,  241., 1252.,  554.]])\n",
      "past_observed_mask tensor([[1., 1., 1.,  ..., 1., 1., 1.],\n",
      "        [1., 1., 1.,  ..., 1., 1., 1.],\n",
      "        [0., 0., 0.,  ..., 1., 1., 1.],\n",
      "        ...,\n",
      "        [1., 1., 1.,  ..., 1., 1., 1.],\n",
      "        [1., 1., 1.,  ..., 1., 1., 1.],\n",
      "        [1., 1., 1.,  ..., 1., 1., 1.]])\n",
      "future_time_features tensor([[[ 0.4091,  2.0334],\n",
      "         [ 0.5000,  2.0374],\n",
      "         [-0.5000,  2.0414],\n",
      "         ...,\n",
      "         [ 0.1364,  2.1106],\n",
      "         [ 0.2273,  2.1139],\n",
      "         [ 0.3182,  2.1173]],\n",
      "\n",
      "        [[-0.5000,  2.3838],\n",
      "         [-0.4091,  2.3856],\n",
      "         [-0.3182,  2.3874],\n",
      "         ...,\n",
      "         [ 0.3182,  2.4200],\n",
      "         [ 0.4091,  2.4216],\n",
      "         [ 0.5000,  2.4232]],\n",
      "\n",
      "        [[-0.1364,  1.8195],\n",
      "         [-0.0455,  1.8261],\n",
      "         [ 0.0455,  1.8325],\n",
      "         ...,\n",
      "         [-0.4091,  1.9395],\n",
      "         [-0.3182,  1.9445],\n",
      "         [-0.2273,  1.9494]],\n",
      "\n",
      "        ...,\n",
      "\n",
      "        [[-0.3182,  2.3655],\n",
      "         [-0.2273,  2.3674],\n",
      "         [-0.1364,  2.3692],\n",
      "         ...,\n",
      "         [ 0.5000,  2.4031],\n",
      "         [-0.5000,  2.4048],\n",
      "         [-0.4091,  2.4065]],\n",
      "\n",
      "        [[ 0.1364,  2.1492],\n",
      "         [ 0.2273,  2.1523],\n",
      "         [ 0.3182,  2.1553],\n",
      "         ...,\n",
      "         [-0.1364,  2.2095],\n",
      "         [-0.0455,  2.2122],\n",
      "         [ 0.0455,  2.2148]],\n",
      "\n",
      "        [[ 0.2273,  2.2504],\n",
      "         [ 0.3182,  2.2529],\n",
      "         [ 0.4091,  2.2553],\n",
      "         ...,\n",
      "         [-0.0455,  2.2989],\n",
      "         [ 0.0455,  2.3010],\n",
      "         [ 0.1364,  2.3032]]])\n",
      "static_categorical_features tensor([[255],\n",
      "        [255],\n",
      "        [256],\n",
      "        [256],\n",
      "        [257],\n",
      "        [257],\n",
      "        [258],\n",
      "        [259],\n",
      "        [260],\n",
      "        [260],\n",
      "        [260],\n",
      "        [260],\n",
      "        [261],\n",
      "        [261],\n",
      "        [261],\n",
      "        [262],\n",
      "        [263],\n",
      "        [264],\n",
      "        [264],\n",
      "        [266],\n",
      "        [267],\n",
      "        [267],\n",
      "        [268],\n",
      "        [269],\n",
      "        [270],\n",
      "        [271],\n",
      "        [272],\n",
      "        [273],\n",
      "        [273],\n",
      "        [274],\n",
      "        [275],\n",
      "        [276],\n",
      "        [276],\n",
      "        [278],\n",
      "        [278],\n",
      "        [279],\n",
      "        [280],\n",
      "        [280],\n",
      "        [280],\n",
      "        [283],\n",
      "        [283],\n",
      "        [286],\n",
      "        [287],\n",
      "        [288],\n",
      "        [288],\n",
      "        [288],\n",
      "        [288],\n",
      "        [289],\n",
      "        [289],\n",
      "        [289],\n",
      "        [289],\n",
      "        [290],\n",
      "        [290],\n",
      "        [292],\n",
      "        [293],\n",
      "        [294],\n",
      "        [297],\n",
      "        [299],\n",
      "        [300],\n",
      "        [300],\n",
      "        [301],\n",
      "        [302],\n",
      "        [303],\n",
      "        [305],\n",
      "        [305],\n",
      "        [305],\n",
      "        [305],\n",
      "        [305],\n",
      "        [307],\n",
      "        [307],\n",
      "        [308],\n",
      "        [308],\n",
      "        [308],\n",
      "        [310],\n",
      "        [310],\n",
      "        [311],\n",
      "        [311],\n",
      "        [311],\n",
      "        [312],\n",
      "        [314],\n",
      "        [315],\n",
      "        [316],\n",
      "        [316],\n",
      "        [319],\n",
      "        [320],\n",
      "        [323],\n",
      "        [323],\n",
      "        [323],\n",
      "        [325],\n",
      "        [326],\n",
      "        [326],\n",
      "        [328],\n",
      "        [328],\n",
      "        [329],\n",
      "        [330],\n",
      "        [330],\n",
      "        [331],\n",
      "        [331],\n",
      "        [331],\n",
      "        [332],\n",
      "        [333],\n",
      "        [334],\n",
      "        [334],\n",
      "        [335],\n",
      "        [337],\n",
      "        [339],\n",
      "        [339],\n",
      "        [339],\n",
      "        [339],\n",
      "        [339],\n",
      "        [340],\n",
      "        [341],\n",
      "        [342],\n",
      "        [342],\n",
      "        [343],\n",
      "        [343],\n",
      "        [343],\n",
      "        [345],\n",
      "        [345],\n",
      "        [346],\n",
      "        [347],\n",
      "        [347],\n",
      "        [349],\n",
      "        [349],\n",
      "        [350],\n",
      "        [352],\n",
      "        [352],\n",
      "        [353],\n",
      "        [354],\n",
      "        [354],\n",
      "        [355],\n",
      "        [357],\n",
      "        [357],\n",
      "        [358],\n",
      "        [359],\n",
      "        [359],\n",
      "        [360],\n",
      "        [360],\n",
      "        [361],\n",
      "        [365],\n",
      "        [365],\n",
      "        [  0],\n",
      "        [  0],\n",
      "        [  1],\n",
      "        [  1],\n",
      "        [  3],\n",
      "        [  3],\n",
      "        [  4],\n",
      "        [  7],\n",
      "        [  9],\n",
      "        [  9],\n",
      "        [ 12],\n",
      "        [ 14],\n",
      "        [ 14],\n",
      "        [ 15],\n",
      "        [ 17],\n",
      "        [ 18],\n",
      "        [ 19],\n",
      "        [ 19],\n",
      "        [ 20],\n",
      "        [ 21],\n",
      "        [ 21],\n",
      "        [ 21],\n",
      "        [ 22],\n",
      "        [ 24],\n",
      "        [ 24],\n",
      "        [ 25],\n",
      "        [ 25],\n",
      "        [ 25],\n",
      "        [ 27],\n",
      "        [ 27],\n",
      "        [ 28],\n",
      "        [ 28],\n",
      "        [ 29],\n",
      "        [ 31],\n",
      "        [ 32],\n",
      "        [ 32],\n",
      "        [ 34],\n",
      "        [ 34],\n",
      "        [ 36],\n",
      "        [ 38],\n",
      "        [ 38],\n",
      "        [ 39],\n",
      "        [ 39],\n",
      "        [ 40],\n",
      "        [ 41],\n",
      "        [ 42],\n",
      "        [ 43],\n",
      "        [ 43],\n",
      "        [ 43],\n",
      "        [ 44],\n",
      "        [ 44],\n",
      "        [ 45],\n",
      "        [ 45],\n",
      "        [ 45],\n",
      "        [ 46],\n",
      "        [ 46],\n",
      "        [ 47],\n",
      "        [ 47],\n",
      "        [ 50],\n",
      "        [ 50],\n",
      "        [ 52],\n",
      "        [ 52],\n",
      "        [ 54],\n",
      "        [ 55],\n",
      "        [ 56],\n",
      "        [ 57],\n",
      "        [ 58],\n",
      "        [ 58],\n",
      "        [ 58],\n",
      "        [ 59],\n",
      "        [ 59],\n",
      "        [ 60],\n",
      "        [ 62],\n",
      "        [ 62],\n",
      "        [ 65],\n",
      "        [ 66],\n",
      "        [ 66],\n",
      "        [ 67],\n",
      "        [ 67],\n",
      "        [ 67],\n",
      "        [ 69],\n",
      "        [ 72],\n",
      "        [ 72],\n",
      "        [ 72],\n",
      "        [ 73],\n",
      "        [ 74],\n",
      "        [ 75],\n",
      "        [ 75],\n",
      "        [ 76],\n",
      "        [ 76],\n",
      "        [ 76],\n",
      "        [ 79],\n",
      "        [ 80],\n",
      "        [ 80],\n",
      "        [ 80],\n",
      "        [ 80],\n",
      "        [ 80],\n",
      "        [ 82],\n",
      "        [ 82],\n",
      "        [ 82],\n",
      "        [ 83],\n",
      "        [ 84],\n",
      "        [ 86],\n",
      "        [ 86],\n",
      "        [ 86],\n",
      "        [ 87],\n",
      "        [ 87],\n",
      "        [ 91],\n",
      "        [ 91],\n",
      "        [ 93],\n",
      "        [ 93],\n",
      "        [ 94],\n",
      "        [ 94],\n",
      "        [ 96],\n",
      "        [ 96]])\n",
      "future_values tensor([[ 253.,  275.,   99.,  ...,  429.,  330., 1023.],\n",
      "        [ 799., 1290., 2370.,  ..., 2788.,  975., 1428.],\n",
      "        [  40.,  148.,   60.,  ...,  144.,  108.,  102.],\n",
      "        ...,\n",
      "        [1280., 1116., 1467.,  ..., 1288., 2099., 5191.],\n",
      "        [ 162.,  296.,  245.,  ...,  531.,  286., 1236.],\n",
      "        [ 438.,  995.,  425.,  ...,  889., 2948., 1514.]])\n",
      "future_observed_mask tensor([[1., 1., 1.,  ..., 1., 1., 1.],\n",
      "        [1., 1., 1.,  ..., 1., 1., 1.],\n",
      "        [1., 1., 1.,  ..., 1., 1., 1.],\n",
      "        ...,\n",
      "        [1., 1., 1.,  ..., 1., 1., 1.],\n",
      "        [1., 1., 1.,  ..., 1., 1., 1.],\n",
      "        [1., 1., 1.,  ..., 1., 1., 1.]])\n"
     ]
    }
   ],
   "source": [
    "# Imprime as chaves e respectivos valores de um batch de dados\n",
    "batch = next(iter(dl_treino))\n",
    "for k, v in batch.items():\n",
    "    print(k, v)"
   ]
  },
  {
   "cell_type": "code",
   "execution_count": 53,
   "id": "347f946e",
   "metadata": {
    "id": "347f946e"
   },
   "outputs": [],
   "source": [
    "# Cria o dataloader de teste\n",
    "dl_teste = dsa_cria_dataloader_teste(config = dsa_config,\n",
    "                                     freq = freq,\n",
    "                                     data = dsa_dataset_teste,\n",
    "                                     batch_size = 64)"
   ]
  },
  {
   "cell_type": "markdown",
   "id": "de842f2e",
   "metadata": {
    "id": "de842f2e"
   },
   "source": [
    "## Loop de Treinamento do Modelo"
   ]
  },
  {
   "cell_type": "code",
   "execution_count": 54,
   "id": "1e8ac81a",
   "metadata": {
    "id": "1e8ac81a"
   },
   "outputs": [],
   "source": [
    "# Cria o acelerador\n",
    "accelerator = Accelerator()"
   ]
  },
  {
   "cell_type": "code",
   "execution_count": 55,
   "id": "a08aeda6",
   "metadata": {
    "id": "a08aeda6"
   },
   "outputs": [],
   "source": [
    "# Registra o device\n",
    "device = accelerator.device"
   ]
  },
  {
   "cell_type": "code",
   "execution_count": 56,
   "id": "mawCRMU8YQGa",
   "metadata": {
    "colab": {
     "base_uri": "https://localhost:8080/"
    },
    "id": "mawCRMU8YQGa",
    "outputId": "8726dace-39d1-4bbb-e4d0-7b5567f0fd36"
   },
   "outputs": [
    {
     "data": {
      "text/plain": [
       "device(type='cuda')"
      ]
     },
     "execution_count": 56,
     "metadata": {},
     "output_type": "execute_result"
    }
   ],
   "source": [
    "device"
   ]
  },
  {
   "cell_type": "code",
   "execution_count": 57,
   "id": "c6e3ac87",
   "metadata": {
    "colab": {
     "base_uri": "https://localhost:8080/"
    },
    "id": "c6e3ac87",
    "outputId": "a65e10be-5060-477f-e327-b772f117f327"
   },
   "outputs": [
    {
     "data": {
      "text/plain": [
       "TimeSeriesTransformerForPrediction(\n",
       "  (model): TimeSeriesTransformerModel(\n",
       "    (scaler): TimeSeriesMeanScaler()\n",
       "    (embedder): TimeSeriesFeatureEmbedder(\n",
       "      (embedders): ModuleList(\n",
       "        (0): Embedding(366, 2)\n",
       "      )\n",
       "    )\n",
       "    (encoder): TimeSeriesTransformerEncoder(\n",
       "      (value_embedding): TimeSeriesValueEmbedding(\n",
       "        (value_projection): Linear(in_features=22, out_features=32, bias=False)\n",
       "      )\n",
       "      (embed_positions): TimeSeriesSinusoidalPositionalEmbedding(72, 32)\n",
       "      (layers): ModuleList(\n",
       "        (0-3): 4 x TimeSeriesTransformerEncoderLayer(\n",
       "          (self_attn): TimeSeriesTransformerAttention(\n",
       "            (k_proj): Linear(in_features=32, out_features=32, bias=True)\n",
       "            (v_proj): Linear(in_features=32, out_features=32, bias=True)\n",
       "            (q_proj): Linear(in_features=32, out_features=32, bias=True)\n",
       "            (out_proj): Linear(in_features=32, out_features=32, bias=True)\n",
       "          )\n",
       "          (self_attn_layer_norm): LayerNorm((32,), eps=1e-05, elementwise_affine=True)\n",
       "          (activation_fn): GELUActivation()\n",
       "          (fc1): Linear(in_features=32, out_features=32, bias=True)\n",
       "          (fc2): Linear(in_features=32, out_features=32, bias=True)\n",
       "          (final_layer_norm): LayerNorm((32,), eps=1e-05, elementwise_affine=True)\n",
       "        )\n",
       "      )\n",
       "      (layernorm_embedding): LayerNorm((32,), eps=1e-05, elementwise_affine=True)\n",
       "    )\n",
       "    (decoder): TimeSeriesTransformerDecoder(\n",
       "      (value_embedding): TimeSeriesValueEmbedding(\n",
       "        (value_projection): Linear(in_features=22, out_features=32, bias=False)\n",
       "      )\n",
       "      (embed_positions): TimeSeriesSinusoidalPositionalEmbedding(72, 32)\n",
       "      (layers): ModuleList(\n",
       "        (0-3): 4 x TimeSeriesTransformerDecoderLayer(\n",
       "          (self_attn): TimeSeriesTransformerAttention(\n",
       "            (k_proj): Linear(in_features=32, out_features=32, bias=True)\n",
       "            (v_proj): Linear(in_features=32, out_features=32, bias=True)\n",
       "            (q_proj): Linear(in_features=32, out_features=32, bias=True)\n",
       "            (out_proj): Linear(in_features=32, out_features=32, bias=True)\n",
       "          )\n",
       "          (activation_fn): GELUActivation()\n",
       "          (self_attn_layer_norm): LayerNorm((32,), eps=1e-05, elementwise_affine=True)\n",
       "          (encoder_attn): TimeSeriesTransformerAttention(\n",
       "            (k_proj): Linear(in_features=32, out_features=32, bias=True)\n",
       "            (v_proj): Linear(in_features=32, out_features=32, bias=True)\n",
       "            (q_proj): Linear(in_features=32, out_features=32, bias=True)\n",
       "            (out_proj): Linear(in_features=32, out_features=32, bias=True)\n",
       "          )\n",
       "          (encoder_attn_layer_norm): LayerNorm((32,), eps=1e-05, elementwise_affine=True)\n",
       "          (fc1): Linear(in_features=32, out_features=32, bias=True)\n",
       "          (fc2): Linear(in_features=32, out_features=32, bias=True)\n",
       "          (final_layer_norm): LayerNorm((32,), eps=1e-05, elementwise_affine=True)\n",
       "        )\n",
       "      )\n",
       "      (layernorm_embedding): LayerNorm((32,), eps=1e-05, elementwise_affine=True)\n",
       "    )\n",
       "  )\n",
       "  (parameter_projection): ParameterProjection(\n",
       "    (proj): ModuleList(\n",
       "      (0-2): 3 x Linear(in_features=32, out_features=1, bias=True)\n",
       "    )\n",
       "    (domain_map): LambdaLayer()\n",
       "  )\n",
       ")"
      ]
     },
     "execution_count": 57,
     "metadata": {},
     "output_type": "execute_result"
    }
   ],
   "source": [
    "# Envia o modelo para o device\n",
    "modelo_dsa.to(device)"
   ]
  },
  {
   "cell_type": "code",
   "execution_count": 58,
   "id": "39c17d19",
   "metadata": {
    "id": "39c17d19"
   },
   "outputs": [],
   "source": [
    "# Otimizador\n",
    "optimizer = AdamW(modelo_dsa.parameters(), lr = 6e-4, betas = (0.9, 0.95), weight_decay = 1e-1)"
   ]
  },
  {
   "cell_type": "code",
   "execution_count": 59,
   "id": "fbcfa504",
   "metadata": {
    "id": "fbcfa504"
   },
   "outputs": [],
   "source": [
    "# Carrega o modelo, o otimizador e o dataloader de treino\n",
    "modelo_dsa, optimizer, dl_treino = accelerator.prepare(modelo_dsa, optimizer, dl_treino)"
   ]
  },
  {
   "cell_type": "markdown",
   "id": "-uJ1gXWFT-Dy",
   "metadata": {
    "id": "-uJ1gXWFT-Dy"
   },
   "source": [
    "### Matemática da Otimização do Modelo\n",
    "\n",
    "Aqui estão as etapas do AdamW em termos matemáticos:\n",
    "\n",
    "**Cálculo dos Momentos de Primeira e Segunda Ordem**\n",
    "\n",
    "Para cada parâmetro θ, Adam mantém uma estimativa do primeiro momento (a média móvel dos gradientes passados) e do segundo momento (a média móvel dos quadrados dos gradientes passados). Para uma dada etapa t, gradiente g_t e parâmetros de decaimento β1 e β2, essas estimativas são atualizadas da seguinte forma:\n",
    "\n",
    "- m_t = β1 * m_(t-1) + (1 - β1) * g_t\n",
    "- v_t = β2 * v_(t-1) + (1 - β2) * g_t^2\n",
    "\n",
    "**Correção de Viés**\n",
    "\n",
    "Como m_t e v_t são inicializados como zero, eles são tendenciosos para zero no início do treinamento. Portanto, Adam realiza uma correção de viés para compensar isso:\n",
    "\n",
    "- m_t_hat = m_t / (1 - β1^t)\n",
    "- v_t_hat = v_t / (1 - β2^t)\n",
    "\n",
    "**Atualização de Peso**\n",
    "\n",
    "Finalmente, os pesos são atualizados com uma taxa de aprendizado η e um termo de decaimento de peso w:\n",
    "\n",
    "**θ = θ - η * (m_t_hat / (sqrt(v_t_hat) + ε) + w * θ)**\n",
    "\n",
    "Onde ε é um termo de suavização para evitar a divisão por zero (geralmente algo como 1e-8).\n",
    "\n",
    "AdamW difere do Adam na forma como o termo de decaimento de peso é aplicado. No Adam original, o decaimento de peso é aplicado antes do cálculo do gradiente, o que pode levar a um acoplamento entre a atualização do peso e a escala do gradiente. AdamW aplica o decaimento de peso diretamente na etapa de atualização do peso, o que \"desacopla\" a regularização do decaimento de peso da escala do gradiente.\n",
    "\n",
    "O cálculo das derivadas é uma parte fundamental do treinamento de redes neurais e é aplicado durante o processo de retropropagação (backpropagation), que é usado para atualizar os pesos da rede. No contexto do otimizador AdamW (ou qualquer otimizador baseado em gradiente), a derivada é usada para calcular o gradiente da função de perda com relação a cada peso na rede.\n",
    "\n",
    "Na prática, você não precisa calcular essas derivadas manualmente. Frameworks modernos de aprendizado profundo, como TensorFlow e PyTorch, usam diferenciação automática para calcular as derivadas. Você simplesmente define a função de perda e o framework cuida de calcular os gradientes para você.\n",
    "\n",
    "No caso específico do AdamW, a derivada é usada para calcular o gradiente g_t na etapa de atualização de momentos. Esse gradiente é simplesmente a derivada da função de perda com relação ao peso específico que está sendo atualizado. O gradiente indica a direção e a magnitude da mudança no peso que resultará no maior decréscimo na função de perda.\n",
    "\n",
    "Então, em resumo, a derivada é usada no cálculo do gradiente, que é então usado para atualizar os pesos da rede neural na direção que minimiza a função de perda. Queremos os pesos que levem ao menor erro possível."
   ]
  },
  {
   "cell_type": "code",
   "execution_count": 60,
   "id": "6aae1c19",
   "metadata": {
    "colab": {
     "base_uri": "https://localhost:8080/"
    },
    "id": "6aae1c19",
    "outputId": "a79cb546-e47a-4b4b-d47d-9824ce500687"
   },
   "outputs": [
    {
     "name": "stdout",
     "output_type": "stream",
     "text": [
      "Erro do Modelo: 8.376242637634277\n",
      "Erro do Modelo: 8.381827354431152\n",
      "Erro do Modelo: 7.73274040222168\n",
      "Erro do Modelo: 7.8461174964904785\n",
      "Erro do Modelo: 7.522694110870361\n",
      "Erro do Modelo: 7.649569034576416\n",
      "Erro do Modelo: 7.465839385986328\n",
      "Erro do Modelo: 7.408222675323486\n",
      "Erro do Modelo: 6.849145412445068\n",
      "Erro do Modelo: 7.36736536026001\n",
      "CPU times: user 1min 24s, sys: 599 ms, total: 1min 24s\n",
      "Wall time: 58.6 s\n"
     ]
    }
   ],
   "source": [
    "%%time\n",
    "\n",
    "modelo_dsa.train()\n",
    "\n",
    "# Inicia o loop de treinamento para um número pré-definido de épocas\n",
    "for epoch in range(10):\n",
    "\n",
    "    # Itera sobre os lotes do DataLoader de treinamento\n",
    "    for idx, batch in enumerate(dl_treino):\n",
    "\n",
    "        # Zera os gradientes do otimizador para evitar acumulação de gradientes de iterações anteriores\n",
    "        optimizer.zero_grad()\n",
    "\n",
    "        # Gera as saídas do modelo passando as características adequadas do lote atual\n",
    "        outputs = modelo_dsa(\n",
    "\n",
    "            # Passa características categóricas estáticas para o dispositivo se configurado\n",
    "            static_categorical_features = batch[\"static_categorical_features\"].to(device)\n",
    "            if dsa_config.num_static_categorical_features > 0\n",
    "            else None,\n",
    "\n",
    "            # Passa características reais estáticas para o dispositivo se configurado\n",
    "            static_real_features = batch[\"static_real_features\"].to(device)\n",
    "            if dsa_config.num_static_real_features > 0\n",
    "            else None,\n",
    "\n",
    "            # Passa características temporais passadas para o dispositivo\n",
    "            past_time_features = batch[\"past_time_features\"].to(device),\n",
    "\n",
    "            # Passa valores passados para o dispositivo\n",
    "            past_values = batch[\"past_values\"].to(device),\n",
    "\n",
    "            # Passa características temporais futuras para o dispositivo\n",
    "            future_time_features = batch[\"future_time_features\"].to(device),\n",
    "\n",
    "            # Passa valores futuros para o dispositivo (usado para treinamento supervisionado)\n",
    "            future_values = batch[\"future_values\"].to(device),\n",
    "\n",
    "            # Passa a máscara de observações passadas para o dispositivo\n",
    "            past_observed_mask = batch[\"past_observed_mask\"].to(device),\n",
    "\n",
    "            # Passa a máscara de observações futuras para o dispositivo\n",
    "            future_observed_mask = batch[\"future_observed_mask\"].to(device),\n",
    "        )\n",
    "\n",
    "        # Atribui a perda calculada pelas saídas do modelo\n",
    "        loss = outputs.loss\n",
    "\n",
    "        # Realiza a retropropagação do erro para ajustar os pesos do modelo\n",
    "        accelerator.backward(loss)\n",
    "\n",
    "        # Atualiza os pesos do modelo com base nos gradientes calculados\n",
    "        optimizer.step()\n",
    "\n",
    "        # A cada 100 lotes, imprime o erro atual do modelo\n",
    "        if idx % 100 == 0:\n",
    "            print(\"Erro do Modelo:\", loss.item())"
   ]
  },
  {
   "cell_type": "markdown",
   "id": "b2f46984",
   "metadata": {
    "id": "b2f46984"
   },
   "source": [
    "## Avaliação do Modelo"
   ]
  },
  {
   "cell_type": "code",
   "execution_count": 61,
   "id": "82b2abf1",
   "metadata": {
    "colab": {
     "base_uri": "https://localhost:8080/"
    },
    "id": "82b2abf1",
    "outputId": "d0bab8e4-431d-45a5-87ea-b025777d4836"
   },
   "outputs": [
    {
     "data": {
      "text/plain": [
       "TimeSeriesTransformerForPrediction(\n",
       "  (model): TimeSeriesTransformerModel(\n",
       "    (scaler): TimeSeriesMeanScaler()\n",
       "    (embedder): TimeSeriesFeatureEmbedder(\n",
       "      (embedders): ModuleList(\n",
       "        (0): Embedding(366, 2)\n",
       "      )\n",
       "    )\n",
       "    (encoder): TimeSeriesTransformerEncoder(\n",
       "      (value_embedding): TimeSeriesValueEmbedding(\n",
       "        (value_projection): Linear(in_features=22, out_features=32, bias=False)\n",
       "      )\n",
       "      (embed_positions): TimeSeriesSinusoidalPositionalEmbedding(72, 32)\n",
       "      (layers): ModuleList(\n",
       "        (0-3): 4 x TimeSeriesTransformerEncoderLayer(\n",
       "          (self_attn): TimeSeriesTransformerAttention(\n",
       "            (k_proj): Linear(in_features=32, out_features=32, bias=True)\n",
       "            (v_proj): Linear(in_features=32, out_features=32, bias=True)\n",
       "            (q_proj): Linear(in_features=32, out_features=32, bias=True)\n",
       "            (out_proj): Linear(in_features=32, out_features=32, bias=True)\n",
       "          )\n",
       "          (self_attn_layer_norm): LayerNorm((32,), eps=1e-05, elementwise_affine=True)\n",
       "          (activation_fn): GELUActivation()\n",
       "          (fc1): Linear(in_features=32, out_features=32, bias=True)\n",
       "          (fc2): Linear(in_features=32, out_features=32, bias=True)\n",
       "          (final_layer_norm): LayerNorm((32,), eps=1e-05, elementwise_affine=True)\n",
       "        )\n",
       "      )\n",
       "      (layernorm_embedding): LayerNorm((32,), eps=1e-05, elementwise_affine=True)\n",
       "    )\n",
       "    (decoder): TimeSeriesTransformerDecoder(\n",
       "      (value_embedding): TimeSeriesValueEmbedding(\n",
       "        (value_projection): Linear(in_features=22, out_features=32, bias=False)\n",
       "      )\n",
       "      (embed_positions): TimeSeriesSinusoidalPositionalEmbedding(72, 32)\n",
       "      (layers): ModuleList(\n",
       "        (0-3): 4 x TimeSeriesTransformerDecoderLayer(\n",
       "          (self_attn): TimeSeriesTransformerAttention(\n",
       "            (k_proj): Linear(in_features=32, out_features=32, bias=True)\n",
       "            (v_proj): Linear(in_features=32, out_features=32, bias=True)\n",
       "            (q_proj): Linear(in_features=32, out_features=32, bias=True)\n",
       "            (out_proj): Linear(in_features=32, out_features=32, bias=True)\n",
       "          )\n",
       "          (activation_fn): GELUActivation()\n",
       "          (self_attn_layer_norm): LayerNorm((32,), eps=1e-05, elementwise_affine=True)\n",
       "          (encoder_attn): TimeSeriesTransformerAttention(\n",
       "            (k_proj): Linear(in_features=32, out_features=32, bias=True)\n",
       "            (v_proj): Linear(in_features=32, out_features=32, bias=True)\n",
       "            (q_proj): Linear(in_features=32, out_features=32, bias=True)\n",
       "            (out_proj): Linear(in_features=32, out_features=32, bias=True)\n",
       "          )\n",
       "          (encoder_attn_layer_norm): LayerNorm((32,), eps=1e-05, elementwise_affine=True)\n",
       "          (fc1): Linear(in_features=32, out_features=32, bias=True)\n",
       "          (fc2): Linear(in_features=32, out_features=32, bias=True)\n",
       "          (final_layer_norm): LayerNorm((32,), eps=1e-05, elementwise_affine=True)\n",
       "        )\n",
       "      )\n",
       "      (layernorm_embedding): LayerNorm((32,), eps=1e-05, elementwise_affine=True)\n",
       "    )\n",
       "  )\n",
       "  (parameter_projection): ParameterProjection(\n",
       "    (proj): ModuleList(\n",
       "      (0-2): 3 x Linear(in_features=32, out_features=1, bias=True)\n",
       "    )\n",
       "    (domain_map): LambdaLayer()\n",
       "  )\n",
       ")"
      ]
     },
     "execution_count": 61,
     "metadata": {},
     "output_type": "execute_result"
    }
   ],
   "source": [
    "# Coloca o modelo em modo de avaliação\n",
    "modelo_dsa.eval()"
   ]
  },
  {
   "cell_type": "code",
   "execution_count": 62,
   "id": "f43657a3",
   "metadata": {
    "id": "f43657a3"
   },
   "outputs": [],
   "source": [
    "# Cria lista para armazenar o forecast\n",
    "forecasts = []"
   ]
  },
  {
   "cell_type": "code",
   "execution_count": 63,
   "id": "b6297233",
   "metadata": {
    "id": "b6297233"
   },
   "outputs": [],
   "source": [
    "# Itera sobre os lotes do DataLoader de teste\n",
    "for batch in dl_teste:\n",
    "\n",
    "    # Gera previsões usando o modelo para o lote atual, passando as características conforme a configuração\n",
    "    outputs = modelo_dsa.generate(\n",
    "\n",
    "        # Passa características categóricas estáticas para o dispositivo se houver alguma\n",
    "        static_categorical_features = batch[\"static_categorical_features\"].to(device)\n",
    "        if dsa_config.num_static_categorical_features > 0\n",
    "        else None,\n",
    "\n",
    "        # Passa características reais estáticas para o dispositivo se houver alguma\n",
    "        static_real_features = batch[\"static_real_features\"].to(device)\n",
    "        if dsa_config.num_static_real_features > 0\n",
    "        else None,\n",
    "\n",
    "        # Passa características temporais passadas para o dispositivo\n",
    "        past_time_features = batch[\"past_time_features\"].to(device),\n",
    "\n",
    "        # Passa valores passados para o dispositivo\n",
    "        past_values = batch[\"past_values\"].to(device),\n",
    "\n",
    "        # Passa características temporais futuras para o dispositivo\n",
    "        future_time_features = batch[\"future_time_features\"].to(device),\n",
    "\n",
    "        # Passa a máscara de observações passadas para o dispositivo\n",
    "        past_observed_mask = batch[\"past_observed_mask\"].to(device),\n",
    "    )\n",
    "\n",
    "    # Adiciona as sequências de previsões geradas à lista de previsões, movendo para a CPU e convertendo para numpy\n",
    "    forecasts.append(outputs.sequences.cpu().numpy())"
   ]
  },
  {
   "cell_type": "code",
   "execution_count": 64,
   "id": "ptzNmOyoCgq4",
   "metadata": {
    "colab": {
     "base_uri": "https://localhost:8080/"
    },
    "id": "ptzNmOyoCgq4",
    "outputId": "2ee98096-6bec-4664-d6c2-2510e91e960e"
   },
   "outputs": [
    {
     "data": {
      "text/plain": [
       "(64, 100, 24)"
      ]
     },
     "execution_count": 64,
     "metadata": {},
     "output_type": "execute_result"
    }
   ],
   "source": [
    "# Shape das previsões\n",
    "forecasts[0].shape"
   ]
  },
  {
   "cell_type": "code",
   "execution_count": 65,
   "id": "dc3617a0",
   "metadata": {
    "id": "dc3617a0"
   },
   "outputs": [],
   "source": [
    "# Ajuste do shape\n",
    "forecasts = np.vstack(forecasts)"
   ]
  },
  {
   "cell_type": "code",
   "execution_count": 66,
   "id": "548a2b8a",
   "metadata": {
    "colab": {
     "base_uri": "https://localhost:8080/"
    },
    "id": "548a2b8a",
    "outputId": "03ad707f-e39c-4fc7-a2bd-951e24208902"
   },
   "outputs": [
    {
     "name": "stdout",
     "output_type": "stream",
     "text": [
      "(366, 100, 24)\n"
     ]
    }
   ],
   "source": [
    "print(forecasts.shape)"
   ]
  },
  {
   "cell_type": "markdown",
   "id": "5142cae0",
   "metadata": {
    "id": "5142cae0"
   },
   "source": [
    "## Calculando as Métricas MASE e SMAPE"
   ]
  },
  {
   "cell_type": "code",
   "execution_count": 67,
   "id": "3d724e5e",
   "metadata": {
    "id": "3d724e5e"
   },
   "outputs": [],
   "source": [
    "# Métricas\n",
    "mase_metric = load(\"evaluate-metric/mase\")\n",
    "smape_metric = load(\"evaluate-metric/smape\")"
   ]
  },
  {
   "cell_type": "code",
   "execution_count": 68,
   "id": "1815059c",
   "metadata": {
    "id": "1815059c"
   },
   "outputs": [],
   "source": [
    "# Mediana das previsões\n",
    "forecast_median = np.median(forecasts, 1)"
   ]
  },
  {
   "cell_type": "code",
   "execution_count": 69,
   "id": "6a10ae47",
   "metadata": {
    "id": "6a10ae47"
   },
   "outputs": [],
   "source": [
    "# Listas das métricas\n",
    "mase_metrics = []\n",
    "smape_metrics = []"
   ]
  },
  {
   "cell_type": "code",
   "execution_count": 70,
   "id": "15e3bba0",
   "metadata": {
    "id": "15e3bba0"
   },
   "outputs": [],
   "source": [
    "# Inicializa o loop para percorrer os itens do conjunto de teste\n",
    "for item_id, ts in enumerate(dsa_dataset_teste):\n",
    "\n",
    "    # Separa os dados de treinamento excluindo o comprimento da previsão do final\n",
    "    training_data = ts[\"target\"][:-prediction_length]\n",
    "\n",
    "    # Separa os dados reais (ground truth) para o comprimento da previsão\n",
    "    ground_truth = ts[\"target\"][-prediction_length:]\n",
    "\n",
    "    # Calcula o MASE usando as previsões, os dados reais, os dados de treinamento e a periodicidade\n",
    "    mase = mase_metric.compute(predictions = forecast_median[item_id],\n",
    "                               references = np.array(ground_truth),\n",
    "                               training = np.array(training_data),\n",
    "                               periodicity = get_seasonality(freq))\n",
    "\n",
    "    # Adiciona o valor calculado de MASE à lista de métricas MASE\n",
    "    mase_metrics.append(mase[\"mase\"])\n",
    "\n",
    "    # Calcula o sMAPE usando as previsões e os dados reais\n",
    "    smape = smape_metric.compute(predictions = forecast_median[item_id],\n",
    "                                 references = np.array(ground_truth))\n",
    "\n",
    "    # Adiciona o valor calculado de sMAPE à lista de métricas sMAPE\n",
    "    smape_metrics.append(smape[\"smape\"])"
   ]
  },
  {
   "cell_type": "code",
   "execution_count": 71,
   "id": "85fa8619",
   "metadata": {
    "colab": {
     "base_uri": "https://localhost:8080/"
    },
    "id": "85fa8619",
    "outputId": "e3f12780-ce59-4889-a4f3-d612e21eeb98"
   },
   "outputs": [
    {
     "name": "stdout",
     "output_type": "stream",
     "text": [
      "MASE: 1.306641444319927\n"
     ]
    }
   ],
   "source": [
    "print(f\"MASE: {np.mean(mase_metrics)}\")"
   ]
  },
  {
   "cell_type": "code",
   "execution_count": 72,
   "id": "04389e9c",
   "metadata": {
    "colab": {
     "base_uri": "https://localhost:8080/"
    },
    "id": "04389e9c",
    "outputId": "b6f63253-9a09-47ec-d6a9-dc5a5e39c4a8"
   },
   "outputs": [
    {
     "name": "stdout",
     "output_type": "stream",
     "text": [
      "sMAPE: 0.16220990420788003\n"
     ]
    }
   ],
   "source": [
    "print(f\"sMAPE: {np.mean(smape_metrics)}\")"
   ]
  },
  {
   "cell_type": "code",
   "execution_count": 73,
   "id": "39ace7bc",
   "metadata": {
    "colab": {
     "base_uri": "https://localhost:8080/",
     "height": 449
    },
    "id": "39ace7bc",
    "outputId": "e47f78d4-8b49-44ac-ff86-8ebd759987ee"
   },
   "outputs": [
    {
     "data": {
      "image/png": "[encoded data removed]",
      "text/plain": [
       "<Figure size 640x480 with 1 Axes>"
      ]
     },
     "metadata": {},
     "output_type": "display_data"
    }
   ],
   "source": [
    "# Plot\n",
    "plt.scatter(mase_metrics, smape_metrics, alpha = 0.3)\n",
    "plt.xlabel(\"MASE\")\n",
    "plt.ylabel(\"sMAPE\")\n",
    "plt.show()"
   ]
  },
  {
   "cell_type": "code",
   "execution_count": 74,
   "id": "95a2b997",
   "metadata": {
    "id": "95a2b997"
   },
   "outputs": [],
   "source": [
    "# Define a função para plotar a série temporal e previsões para um índice específico\n",
    "def plot(ts_index):\n",
    "\n",
    "    # Cria uma figura e um eixo para o plot\n",
    "    fig, ax = plt.subplots(figsize = (10, 5))\n",
    "\n",
    "    # Gera o índice de datas para a série temporal a partir dos metadados e do comprimento do alvo\n",
    "    index = pd.period_range(start = dsa_dataset_teste[ts_index][FieldName.START],\n",
    "                            periods = len(dsa_dataset_teste[ts_index][FieldName.TARGET]),\n",
    "                            freq = freq).to_timestamp()\n",
    "\n",
    "    # Configura os locais principais do eixo x para serem nos meses de janeiro e julho\n",
    "    ax.xaxis.set_major_locator(mdates.MonthLocator(bymonth=(1, 7)))\n",
    "\n",
    "    # Configura os locais secundários do eixo x para serem em todos os meses\n",
    "    ax.xaxis.set_minor_locator(mdates.MonthLocator())\n",
    "\n",
    "    # Plota os valores reais da série temporal para os últimos 2 períodos de previsão\n",
    "    ax.plot(index[-2*prediction_length:],\n",
    "            dsa_dataset_teste[ts_index][\"target\"][-2*prediction_length:],\n",
    "            label=\"Valor Real\")\n",
    "\n",
    "    # Plota a mediana das previsões para o último período de previsão\n",
    "    plt.plot(index[-prediction_length:],\n",
    "             np.median(forecasts[ts_index], axis=0),\n",
    "             label = \"Mediana das Previsões\")\n",
    "\n",
    "    # Preenche a área entre a média menos o desvio padrão e a média mais o desvio padrão das previsões\n",
    "    plt.fill_between(\n",
    "        index[-prediction_length:],\n",
    "        forecasts[ts_index].mean(0) - forecasts[ts_index].std(axis=0),\n",
    "        forecasts[ts_index].mean(0) + forecasts[ts_index].std(axis=0),\n",
    "        alpha = 0.3,\n",
    "        interpolate = True,\n",
    "        label = \"+/- 1-std\",\n",
    "    )\n",
    "\n",
    "    # Adiciona uma legenda ao plot\n",
    "    plt.legend()\n",
    "\n",
    "    # Exibe o plot\n",
    "    plt.show()"
   ]
  },
  {
   "cell_type": "code",
   "execution_count": 75,
   "id": "ac06a535",
   "metadata": {
    "colab": {
     "base_uri": "https://localhost:8080/",
     "height": 445
    },
    "id": "ac06a535",
    "outputId": "417288ec-6f21-4292-c671-c844e00b7978"
   },
   "outputs": [
    {
     "data": {
      "image/png": "[encoded data removed]",
      "text/plain": [
       "<Figure size 1000x500 with 1 Axes>"
      ]
     },
     "metadata": {},
     "output_type": "display_data"
    }
   ],
   "source": [
    "# Previsão para o índice 334\n",
    "plot(334)"
   ]
  },
  {
   "cell_type": "code",
   "execution_count": 76,
   "id": "2b600187",
   "metadata": {
    "colab": {
     "base_uri": "https://localhost:8080/"
    },
    "id": "2b600187",
    "outputId": "8f9f3192-fff8-4fd5-d16f-f2570ed08a77"
   },
   "outputs": [
    {
     "name": "stdout",
     "output_type": "stream",
     "text": [
      "Author: Data Science Academy\n",
      "\n"
     ]
    }
   ],
   "source": [
    "%reload_ext watermark\n",
    "%watermark -a \"Data Science Academy\""
   ]
  },
  {
   "cell_type": "code",
   "execution_count": 77,
   "id": "40e27128",
   "metadata": {
    "id": "40e27128"
   },
   "outputs": [],
   "source": [
    "#%watermark -v -m"
   ]
  },
  {
   "cell_type": "code",
   "execution_count": 78,
   "id": "707b54a1",
   "metadata": {
    "id": "707b54a1"
   },
   "outputs": [],
   "source": [
    "#%watermark --iversions"
   ]
  },
  {
   "cell_type": "markdown",
   "id": "e84e6c8f",
   "metadata": {
    "id": "e84e6c8f"
   },
   "source": [
    "# Fim"
   ]
  }
 ],
 "metadata": {
  "accelerator": "GPU",
  "colab": {
   "gpuType": "A100",
   "machine_shape": "hm",
   "provenance": []
  },
  "kernelspec": {
   "display_name": "Python 3 (ipykernel)",
   "language": "python",
   "name": "python3"
  },
  "language_info": {
   "codemirror_mode": {
    "name": "ipython",
    "version": 3
   },
   "file_extension": ".py",
   "mimetype": "text/x-python",
   "name": "python",
   "nbconvert_exporter": "python",
   "pygments_lexer": "ipython3",
   "version": "3.11.5"
  }
 },
 "nbformat": 4,
 "nbformat_minor": 5
}
