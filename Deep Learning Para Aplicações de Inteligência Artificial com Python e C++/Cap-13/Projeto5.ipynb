{
 "cells": [
  {
   "cell_type": "markdown",
   "metadata": {
    "id": "bZUTYqRGx7Pn",
    "papermill": {
     "duration": 0.009148,
     "end_time": "2021-01-09T23:01:20.421134",
     "exception": false,
     "start_time": "2021-01-09T23:01:20.411986",
     "status": "completed"
    },
    "tags": []
   },
   "source": [
    "<!-- Projeto Desenvolvido na Data Science Academy - www.datascienceacademy.com.br -->\n",
    "# <font color='blue'>Data Science Academy</font>\n",
    "## <font color='blue'>Deep Learning Para Aplicações de Inteligência Artificial com Python e C++</font>\n",
    "## <font color='blue'>Projeto 5</font>\n",
    "### <font color='blue'>Deep Learning Para Detecção de Fraudes em Transações Financeiras com Criptomoedas</font>"
   ]
  },
  {
   "cell_type": "markdown",
   "metadata": {},
   "source": [
    "## Instalando e Carregando os Pacotes"
   ]
  },
  {
   "cell_type": "code",
   "execution_count": 1,
   "metadata": {},
   "outputs": [],
   "source": [
    "!pip install -q -U watermark"
   ]
  },
  {
   "cell_type": "code",
   "execution_count": 2,
   "metadata": {},
   "outputs": [
    {
     "name": "stdout",
     "output_type": "stream",
     "text": [
      "env: TF_CPP_MIN_LOG_LEVEL=3\n"
     ]
    }
   ],
   "source": [
    "%env TF_CPP_MIN_LOG_LEVEL=3"
   ]
  },
  {
   "cell_type": "code",
   "execution_count": 3,
   "metadata": {
    "_cell_guid": "b1076dfc-b9ad-4769-8c92-a6c4dae69d19",
    "_uuid": "8f2839f25d086af736a60e9eeb907d3b93b6e0e5",
    "id": "Fc2whys2x7Pn",
    "papermill": {
     "duration": 2.223615,
     "end_time": "2021-01-09T23:01:22.654007",
     "exception": false,
     "start_time": "2021-01-09T23:01:20.430392",
     "status": "completed"
    },
    "tags": []
   },
   "outputs": [],
   "source": [
    "# Imports\n",
    "import sklearn\n",
    "import numpy as np \n",
    "import pandas as pd \n",
    "import matplotlib.pyplot as plt\n",
    "import tensorflow as tf\n",
    "from keras.utils import to_categorical\n",
    "from keras.models import Sequential\n",
    "from keras.layers import Dense\n",
    "from keras import Input\n",
    "from sklearn.model_selection import train_test_split\n",
    "from sklearn.pipeline import Pipeline\n",
    "from sklearn.base import BaseEstimator, TransformerMixin\n",
    "from sklearn.preprocessing import StandardScaler\n",
    "from sklearn import metrics\n",
    "import warnings\n",
    "warnings.filterwarnings('ignore')"
   ]
  },
  {
   "cell_type": "code",
   "execution_count": 4,
   "metadata": {},
   "outputs": [
    {
     "name": "stdout",
     "output_type": "stream",
     "text": [
      "Author: Data Science Academy\n",
      "\n"
     ]
    }
   ],
   "source": [
    "%reload_ext watermark\n",
    "%watermark -a \"Data Science Academy\""
   ]
  },
  {
   "cell_type": "markdown",
   "metadata": {},
   "source": [
    "## Carregando e Compreendendos Dados"
   ]
  },
  {
   "cell_type": "code",
   "execution_count": 5,
   "metadata": {
    "_cell_guid": "79c7e3d0-c299-4dcb-8224-4455121ee9b0",
    "_uuid": "d629ff2d2480ee46fbb7e2d37f6b5fab8052498a",
    "id": "HH3lnR8wx7Pn",
    "papermill": {
     "duration": 0.105625,
     "end_time": "2021-01-09T23:01:22.767205",
     "exception": false,
     "start_time": "2021-01-09T23:01:22.661580",
     "status": "completed"
    },
    "tags": []
   },
   "outputs": [],
   "source": [
    "# Carrega os dados\n",
    "df_dsa = pd.read_csv('dataset.csv')"
   ]
  },
  {
   "cell_type": "code",
   "execution_count": 6,
   "metadata": {},
   "outputs": [
    {
     "data": {
      "text/plain": [
       "(9841, 51)"
      ]
     },
     "execution_count": 6,
     "metadata": {},
     "output_type": "execute_result"
    }
   ],
   "source": [
    "# Shape\n",
    "df_dsa.shape"
   ]
  },
  {
   "cell_type": "code",
   "execution_count": 7,
   "metadata": {},
   "outputs": [
    {
     "data": {
      "text/html": [
       "<div>\n",
       "<style scoped>\n",
       "    .dataframe tbody tr th:only-of-type {\n",
       "        vertical-align: middle;\n",
       "    }\n",
       "\n",
       "    .dataframe tbody tr th {\n",
       "        vertical-align: top;\n",
       "    }\n",
       "\n",
       "    .dataframe thead th {\n",
       "        text-align: right;\n",
       "    }\n",
       "</style>\n",
       "<table border=\"1\" class=\"dataframe\">\n",
       "  <thead>\n",
       "    <tr style=\"text-align: right;\">\n",
       "      <th></th>\n",
       "      <th>Unnamed: 0</th>\n",
       "      <th>Index</th>\n",
       "      <th>Address</th>\n",
       "      <th>FLAG</th>\n",
       "      <th>Avg min between sent tnx</th>\n",
       "      <th>Avg min between received tnx</th>\n",
       "      <th>Time Diff between first and last (Mins)</th>\n",
       "      <th>Sent tnx</th>\n",
       "      <th>Received Tnx</th>\n",
       "      <th>Number of Created Contracts</th>\n",
       "      <th>...</th>\n",
       "      <th>ERC20 min val sent</th>\n",
       "      <th>ERC20 max val sent</th>\n",
       "      <th>ERC20 avg val sent</th>\n",
       "      <th>ERC20 min val sent contract</th>\n",
       "      <th>ERC20 max val sent contract</th>\n",
       "      <th>ERC20 avg val sent contract</th>\n",
       "      <th>ERC20 uniq sent token name</th>\n",
       "      <th>ERC20 uniq rec token name</th>\n",
       "      <th>ERC20 most sent token type</th>\n",
       "      <th>ERC20_most_rec_token_type</th>\n",
       "    </tr>\n",
       "  </thead>\n",
       "  <tbody>\n",
       "    <tr>\n",
       "      <th>0</th>\n",
       "      <td>0</td>\n",
       "      <td>1</td>\n",
       "      <td>0x00009277775ac7d0d59eaad8fee3d10ac6c805e8</td>\n",
       "      <td>0</td>\n",
       "      <td>844.26</td>\n",
       "      <td>1093.71</td>\n",
       "      <td>704785.63</td>\n",
       "      <td>721</td>\n",
       "      <td>89</td>\n",
       "      <td>0</td>\n",
       "      <td>...</td>\n",
       "      <td>0.000000</td>\n",
       "      <td>1.683100e+07</td>\n",
       "      <td>271779.920000</td>\n",
       "      <td>0.0</td>\n",
       "      <td>0.0</td>\n",
       "      <td>0.0</td>\n",
       "      <td>39.0</td>\n",
       "      <td>57.0</td>\n",
       "      <td>Cofoundit</td>\n",
       "      <td>Numeraire</td>\n",
       "    </tr>\n",
       "    <tr>\n",
       "      <th>1</th>\n",
       "      <td>1</td>\n",
       "      <td>2</td>\n",
       "      <td>0x0002b44ddb1476db43c868bd494422ee4c136fed</td>\n",
       "      <td>0</td>\n",
       "      <td>12709.07</td>\n",
       "      <td>2958.44</td>\n",
       "      <td>1218216.73</td>\n",
       "      <td>94</td>\n",
       "      <td>8</td>\n",
       "      <td>0</td>\n",
       "      <td>...</td>\n",
       "      <td>2.260809</td>\n",
       "      <td>2.260809e+00</td>\n",
       "      <td>2.260809</td>\n",
       "      <td>0.0</td>\n",
       "      <td>0.0</td>\n",
       "      <td>0.0</td>\n",
       "      <td>1.0</td>\n",
       "      <td>7.0</td>\n",
       "      <td>Livepeer Token</td>\n",
       "      <td>Livepeer Token</td>\n",
       "    </tr>\n",
       "    <tr>\n",
       "      <th>2</th>\n",
       "      <td>2</td>\n",
       "      <td>3</td>\n",
       "      <td>0x0002bda54cb772d040f779e88eb453cac0daa244</td>\n",
       "      <td>0</td>\n",
       "      <td>246194.54</td>\n",
       "      <td>2434.02</td>\n",
       "      <td>516729.30</td>\n",
       "      <td>2</td>\n",
       "      <td>10</td>\n",
       "      <td>0</td>\n",
       "      <td>...</td>\n",
       "      <td>0.000000</td>\n",
       "      <td>0.000000e+00</td>\n",
       "      <td>0.000000</td>\n",
       "      <td>0.0</td>\n",
       "      <td>0.0</td>\n",
       "      <td>0.0</td>\n",
       "      <td>0.0</td>\n",
       "      <td>8.0</td>\n",
       "      <td>NaN</td>\n",
       "      <td>XENON</td>\n",
       "    </tr>\n",
       "    <tr>\n",
       "      <th>3</th>\n",
       "      <td>3</td>\n",
       "      <td>4</td>\n",
       "      <td>0x00038e6ba2fd5c09aedb96697c8d7b8fa6632e5e</td>\n",
       "      <td>0</td>\n",
       "      <td>10219.60</td>\n",
       "      <td>15785.09</td>\n",
       "      <td>397555.90</td>\n",
       "      <td>25</td>\n",
       "      <td>9</td>\n",
       "      <td>0</td>\n",
       "      <td>...</td>\n",
       "      <td>100.000000</td>\n",
       "      <td>9.029231e+03</td>\n",
       "      <td>3804.076893</td>\n",
       "      <td>0.0</td>\n",
       "      <td>0.0</td>\n",
       "      <td>0.0</td>\n",
       "      <td>1.0</td>\n",
       "      <td>11.0</td>\n",
       "      <td>Raiden</td>\n",
       "      <td>XENON</td>\n",
       "    </tr>\n",
       "    <tr>\n",
       "      <th>4</th>\n",
       "      <td>4</td>\n",
       "      <td>5</td>\n",
       "      <td>0x00062d1dd1afb6fb02540ddad9cdebfe568e0d89</td>\n",
       "      <td>0</td>\n",
       "      <td>36.61</td>\n",
       "      <td>10707.77</td>\n",
       "      <td>382472.42</td>\n",
       "      <td>4598</td>\n",
       "      <td>20</td>\n",
       "      <td>1</td>\n",
       "      <td>...</td>\n",
       "      <td>0.000000</td>\n",
       "      <td>4.500000e+04</td>\n",
       "      <td>13726.659220</td>\n",
       "      <td>0.0</td>\n",
       "      <td>0.0</td>\n",
       "      <td>0.0</td>\n",
       "      <td>6.0</td>\n",
       "      <td>27.0</td>\n",
       "      <td>StatusNetwork</td>\n",
       "      <td>EOS</td>\n",
       "    </tr>\n",
       "  </tbody>\n",
       "</table>\n",
       "<p>5 rows × 51 columns</p>\n",
       "</div>"
      ],
      "text/plain": [
       "   Unnamed: 0  Index                                     Address  FLAG  \\\n",
       "0           0      1  0x00009277775ac7d0d59eaad8fee3d10ac6c805e8     0   \n",
       "1           1      2  0x0002b44ddb1476db43c868bd494422ee4c136fed     0   \n",
       "2           2      3  0x0002bda54cb772d040f779e88eb453cac0daa244     0   \n",
       "3           3      4  0x00038e6ba2fd5c09aedb96697c8d7b8fa6632e5e     0   \n",
       "4           4      5  0x00062d1dd1afb6fb02540ddad9cdebfe568e0d89     0   \n",
       "\n",
       "   Avg min between sent tnx  Avg min between received tnx  \\\n",
       "0                    844.26                       1093.71   \n",
       "1                  12709.07                       2958.44   \n",
       "2                 246194.54                       2434.02   \n",
       "3                  10219.60                      15785.09   \n",
       "4                     36.61                      10707.77   \n",
       "\n",
       "   Time Diff between first and last (Mins)  Sent tnx  Received Tnx  \\\n",
       "0                                704785.63       721            89   \n",
       "1                               1218216.73        94             8   \n",
       "2                                516729.30         2            10   \n",
       "3                                397555.90        25             9   \n",
       "4                                382472.42      4598            20   \n",
       "\n",
       "   Number of Created Contracts  ...   ERC20 min val sent   ERC20 max val sent  \\\n",
       "0                            0  ...             0.000000         1.683100e+07   \n",
       "1                            0  ...             2.260809         2.260809e+00   \n",
       "2                            0  ...             0.000000         0.000000e+00   \n",
       "3                            0  ...           100.000000         9.029231e+03   \n",
       "4                            1  ...             0.000000         4.500000e+04   \n",
       "\n",
       "    ERC20 avg val sent   ERC20 min val sent contract  \\\n",
       "0        271779.920000                           0.0   \n",
       "1             2.260809                           0.0   \n",
       "2             0.000000                           0.0   \n",
       "3          3804.076893                           0.0   \n",
       "4         13726.659220                           0.0   \n",
       "\n",
       "    ERC20 max val sent contract   ERC20 avg val sent contract  \\\n",
       "0                           0.0                           0.0   \n",
       "1                           0.0                           0.0   \n",
       "2                           0.0                           0.0   \n",
       "3                           0.0                           0.0   \n",
       "4                           0.0                           0.0   \n",
       "\n",
       "    ERC20 uniq sent token name   ERC20 uniq rec token name  \\\n",
       "0                         39.0                        57.0   \n",
       "1                          1.0                         7.0   \n",
       "2                          0.0                         8.0   \n",
       "3                          1.0                        11.0   \n",
       "4                          6.0                        27.0   \n",
       "\n",
       "    ERC20 most sent token type   ERC20_most_rec_token_type  \n",
       "0                    Cofoundit                   Numeraire  \n",
       "1               Livepeer Token              Livepeer Token  \n",
       "2                          NaN                       XENON  \n",
       "3                       Raiden                       XENON  \n",
       "4                StatusNetwork                         EOS  \n",
       "\n",
       "[5 rows x 51 columns]"
      ]
     },
     "execution_count": 7,
     "metadata": {},
     "output_type": "execute_result"
    }
   ],
   "source": [
    "# Visualiza as primeiras linhas\n",
    "df_dsa.head()"
   ]
  },
  {
   "cell_type": "code",
   "execution_count": 8,
   "metadata": {},
   "outputs": [
    {
     "data": {
      "text/plain": [
       "FLAG\n",
       "0    7662\n",
       "1    2179\n",
       "Name: count, dtype: int64"
      ]
     },
     "execution_count": 8,
     "metadata": {},
     "output_type": "execute_result"
    }
   ],
   "source": [
    "# Variável alvo\n",
    "df_dsa.FLAG.value_counts()"
   ]
  },
  {
   "cell_type": "code",
   "execution_count": 9,
   "metadata": {},
   "outputs": [
    {
     "name": "stdout",
     "output_type": "stream",
     "text": [
      "<class 'pandas.core.frame.DataFrame'>\n",
      "RangeIndex: 9841 entries, 0 to 9840\n",
      "Data columns (total 51 columns):\n",
      " #   Column                                                Non-Null Count  Dtype  \n",
      "---  ------                                                --------------  -----  \n",
      " 0   Unnamed: 0                                            9841 non-null   int64  \n",
      " 1   Index                                                 9841 non-null   int64  \n",
      " 2   Address                                               9841 non-null   object \n",
      " 3   FLAG                                                  9841 non-null   int64  \n",
      " 4   Avg min between sent tnx                              9841 non-null   float64\n",
      " 5   Avg min between received tnx                          9841 non-null   float64\n",
      " 6   Time Diff between first and last (Mins)               9841 non-null   float64\n",
      " 7   Sent tnx                                              9841 non-null   int64  \n",
      " 8   Received Tnx                                          9841 non-null   int64  \n",
      " 9   Number of Created Contracts                           9841 non-null   int64  \n",
      " 10  Unique Received From Addresses                        9841 non-null   int64  \n",
      " 11  Unique Sent To Addresses                              9841 non-null   int64  \n",
      " 12  min value received                                    9841 non-null   float64\n",
      " 13  max value received                                    9841 non-null   float64\n",
      " 14  avg val received                                      9841 non-null   float64\n",
      " 15  min val sent                                          9841 non-null   float64\n",
      " 16  max val sent                                          9841 non-null   float64\n",
      " 17  avg val sent                                          9841 non-null   float64\n",
      " 18  min value sent to contract                            9841 non-null   float64\n",
      " 19  max val sent to contract                              9841 non-null   float64\n",
      " 20  avg value sent to contract                            9841 non-null   float64\n",
      " 21  total transactions (including tnx to create contract  9841 non-null   int64  \n",
      " 22  total Ether sent                                      9841 non-null   float64\n",
      " 23  total ether received                                  9841 non-null   float64\n",
      " 24  total ether sent contracts                            9841 non-null   float64\n",
      " 25  total ether balance                                   9841 non-null   float64\n",
      " 26   Total ERC20 tnxs                                     9012 non-null   float64\n",
      " 27   ERC20 total Ether received                           9012 non-null   float64\n",
      " 28   ERC20 total ether sent                               9012 non-null   float64\n",
      " 29   ERC20 total Ether sent contract                      9012 non-null   float64\n",
      " 30   ERC20 uniq sent addr                                 9012 non-null   float64\n",
      " 31   ERC20 uniq rec addr                                  9012 non-null   float64\n",
      " 32   ERC20 uniq sent addr.1                               9012 non-null   float64\n",
      " 33   ERC20 uniq rec contract addr                         9012 non-null   float64\n",
      " 34   ERC20 avg time between sent tnx                      9012 non-null   float64\n",
      " 35   ERC20 avg time between rec tnx                       9012 non-null   float64\n",
      " 36   ERC20 avg time between rec 2 tnx                     9012 non-null   float64\n",
      " 37   ERC20 avg time between contract tnx                  9012 non-null   float64\n",
      " 38   ERC20 min val rec                                    9012 non-null   float64\n",
      " 39   ERC20 max val rec                                    9012 non-null   float64\n",
      " 40   ERC20 avg val rec                                    9012 non-null   float64\n",
      " 41   ERC20 min val sent                                   9012 non-null   float64\n",
      " 42   ERC20 max val sent                                   9012 non-null   float64\n",
      " 43   ERC20 avg val sent                                   9012 non-null   float64\n",
      " 44   ERC20 min val sent contract                          9012 non-null   float64\n",
      " 45   ERC20 max val sent contract                          9012 non-null   float64\n",
      " 46   ERC20 avg val sent contract                          9012 non-null   float64\n",
      " 47   ERC20 uniq sent token name                           9012 non-null   float64\n",
      " 48   ERC20 uniq rec token name                            9012 non-null   float64\n",
      " 49   ERC20 most sent token type                           7144 non-null   object \n",
      " 50   ERC20_most_rec_token_type                            8970 non-null   object \n",
      "dtypes: float64(39), int64(9), object(3)\n",
      "memory usage: 3.8+ MB\n"
     ]
    }
   ],
   "source": [
    "df_dsa.info()"
   ]
  },
  {
   "cell_type": "markdown",
   "metadata": {},
   "source": [
    "## Limpeza dos Dados"
   ]
  },
  {
   "cell_type": "code",
   "execution_count": 10,
   "metadata": {},
   "outputs": [
    {
     "data": {
      "text/html": [
       "<div>\n",
       "<style scoped>\n",
       "    .dataframe tbody tr th:only-of-type {\n",
       "        vertical-align: middle;\n",
       "    }\n",
       "\n",
       "    .dataframe tbody tr th {\n",
       "        vertical-align: top;\n",
       "    }\n",
       "\n",
       "    .dataframe thead th {\n",
       "        text-align: right;\n",
       "    }\n",
       "</style>\n",
       "<table border=\"1\" class=\"dataframe\">\n",
       "  <thead>\n",
       "    <tr style=\"text-align: right;\">\n",
       "      <th></th>\n",
       "      <th>Unnamed: 0</th>\n",
       "      <th>Index</th>\n",
       "      <th>Address</th>\n",
       "      <th>FLAG</th>\n",
       "      <th>Avg min between sent tnx</th>\n",
       "      <th>Avg min between received tnx</th>\n",
       "      <th>Time Diff between first and last (Mins)</th>\n",
       "      <th>Sent tnx</th>\n",
       "      <th>Received Tnx</th>\n",
       "      <th>Number of Created Contracts</th>\n",
       "      <th>...</th>\n",
       "      <th>ERC20 min val sent</th>\n",
       "      <th>ERC20 max val sent</th>\n",
       "      <th>ERC20 avg val sent</th>\n",
       "      <th>ERC20 min val sent contract</th>\n",
       "      <th>ERC20 max val sent contract</th>\n",
       "      <th>ERC20 avg val sent contract</th>\n",
       "      <th>ERC20 uniq sent token name</th>\n",
       "      <th>ERC20 uniq rec token name</th>\n",
       "      <th>ERC20 most sent token type</th>\n",
       "      <th>ERC20_most_rec_token_type</th>\n",
       "    </tr>\n",
       "  </thead>\n",
       "  <tbody>\n",
       "    <tr>\n",
       "      <th>0</th>\n",
       "      <td>0</td>\n",
       "      <td>1</td>\n",
       "      <td>0x00009277775ac7d0d59eaad8fee3d10ac6c805e8</td>\n",
       "      <td>0</td>\n",
       "      <td>844.26</td>\n",
       "      <td>1093.71</td>\n",
       "      <td>704785.63</td>\n",
       "      <td>721</td>\n",
       "      <td>89</td>\n",
       "      <td>0</td>\n",
       "      <td>...</td>\n",
       "      <td>0.000000</td>\n",
       "      <td>1.683100e+07</td>\n",
       "      <td>271779.920000</td>\n",
       "      <td>0.0</td>\n",
       "      <td>0.0</td>\n",
       "      <td>0.0</td>\n",
       "      <td>39.0</td>\n",
       "      <td>57.0</td>\n",
       "      <td>Cofoundit</td>\n",
       "      <td>Numeraire</td>\n",
       "    </tr>\n",
       "    <tr>\n",
       "      <th>1</th>\n",
       "      <td>1</td>\n",
       "      <td>2</td>\n",
       "      <td>0x0002b44ddb1476db43c868bd494422ee4c136fed</td>\n",
       "      <td>0</td>\n",
       "      <td>12709.07</td>\n",
       "      <td>2958.44</td>\n",
       "      <td>1218216.73</td>\n",
       "      <td>94</td>\n",
       "      <td>8</td>\n",
       "      <td>0</td>\n",
       "      <td>...</td>\n",
       "      <td>2.260809</td>\n",
       "      <td>2.260809e+00</td>\n",
       "      <td>2.260809</td>\n",
       "      <td>0.0</td>\n",
       "      <td>0.0</td>\n",
       "      <td>0.0</td>\n",
       "      <td>1.0</td>\n",
       "      <td>7.0</td>\n",
       "      <td>Livepeer Token</td>\n",
       "      <td>Livepeer Token</td>\n",
       "    </tr>\n",
       "    <tr>\n",
       "      <th>2</th>\n",
       "      <td>2</td>\n",
       "      <td>3</td>\n",
       "      <td>0x0002bda54cb772d040f779e88eb453cac0daa244</td>\n",
       "      <td>0</td>\n",
       "      <td>246194.54</td>\n",
       "      <td>2434.02</td>\n",
       "      <td>516729.30</td>\n",
       "      <td>2</td>\n",
       "      <td>10</td>\n",
       "      <td>0</td>\n",
       "      <td>...</td>\n",
       "      <td>0.000000</td>\n",
       "      <td>0.000000e+00</td>\n",
       "      <td>0.000000</td>\n",
       "      <td>0.0</td>\n",
       "      <td>0.0</td>\n",
       "      <td>0.0</td>\n",
       "      <td>0.0</td>\n",
       "      <td>8.0</td>\n",
       "      <td>NaN</td>\n",
       "      <td>XENON</td>\n",
       "    </tr>\n",
       "    <tr>\n",
       "      <th>3</th>\n",
       "      <td>3</td>\n",
       "      <td>4</td>\n",
       "      <td>0x00038e6ba2fd5c09aedb96697c8d7b8fa6632e5e</td>\n",
       "      <td>0</td>\n",
       "      <td>10219.60</td>\n",
       "      <td>15785.09</td>\n",
       "      <td>397555.90</td>\n",
       "      <td>25</td>\n",
       "      <td>9</td>\n",
       "      <td>0</td>\n",
       "      <td>...</td>\n",
       "      <td>100.000000</td>\n",
       "      <td>9.029231e+03</td>\n",
       "      <td>3804.076893</td>\n",
       "      <td>0.0</td>\n",
       "      <td>0.0</td>\n",
       "      <td>0.0</td>\n",
       "      <td>1.0</td>\n",
       "      <td>11.0</td>\n",
       "      <td>Raiden</td>\n",
       "      <td>XENON</td>\n",
       "    </tr>\n",
       "    <tr>\n",
       "      <th>4</th>\n",
       "      <td>4</td>\n",
       "      <td>5</td>\n",
       "      <td>0x00062d1dd1afb6fb02540ddad9cdebfe568e0d89</td>\n",
       "      <td>0</td>\n",
       "      <td>36.61</td>\n",
       "      <td>10707.77</td>\n",
       "      <td>382472.42</td>\n",
       "      <td>4598</td>\n",
       "      <td>20</td>\n",
       "      <td>1</td>\n",
       "      <td>...</td>\n",
       "      <td>0.000000</td>\n",
       "      <td>4.500000e+04</td>\n",
       "      <td>13726.659220</td>\n",
       "      <td>0.0</td>\n",
       "      <td>0.0</td>\n",
       "      <td>0.0</td>\n",
       "      <td>6.0</td>\n",
       "      <td>27.0</td>\n",
       "      <td>StatusNetwork</td>\n",
       "      <td>EOS</td>\n",
       "    </tr>\n",
       "  </tbody>\n",
       "</table>\n",
       "<p>5 rows × 51 columns</p>\n",
       "</div>"
      ],
      "text/plain": [
       "   Unnamed: 0  Index                                     Address  FLAG  \\\n",
       "0           0      1  0x00009277775ac7d0d59eaad8fee3d10ac6c805e8     0   \n",
       "1           1      2  0x0002b44ddb1476db43c868bd494422ee4c136fed     0   \n",
       "2           2      3  0x0002bda54cb772d040f779e88eb453cac0daa244     0   \n",
       "3           3      4  0x00038e6ba2fd5c09aedb96697c8d7b8fa6632e5e     0   \n",
       "4           4      5  0x00062d1dd1afb6fb02540ddad9cdebfe568e0d89     0   \n",
       "\n",
       "   Avg min between sent tnx  Avg min between received tnx  \\\n",
       "0                    844.26                       1093.71   \n",
       "1                  12709.07                       2958.44   \n",
       "2                 246194.54                       2434.02   \n",
       "3                  10219.60                      15785.09   \n",
       "4                     36.61                      10707.77   \n",
       "\n",
       "   Time Diff between first and last (Mins)  Sent tnx  Received Tnx  \\\n",
       "0                                704785.63       721            89   \n",
       "1                               1218216.73        94             8   \n",
       "2                                516729.30         2            10   \n",
       "3                                397555.90        25             9   \n",
       "4                                382472.42      4598            20   \n",
       "\n",
       "   Number of Created Contracts  ...   ERC20 min val sent   ERC20 max val sent  \\\n",
       "0                            0  ...             0.000000         1.683100e+07   \n",
       "1                            0  ...             2.260809         2.260809e+00   \n",
       "2                            0  ...             0.000000         0.000000e+00   \n",
       "3                            0  ...           100.000000         9.029231e+03   \n",
       "4                            1  ...             0.000000         4.500000e+04   \n",
       "\n",
       "    ERC20 avg val sent   ERC20 min val sent contract  \\\n",
       "0        271779.920000                           0.0   \n",
       "1             2.260809                           0.0   \n",
       "2             0.000000                           0.0   \n",
       "3          3804.076893                           0.0   \n",
       "4         13726.659220                           0.0   \n",
       "\n",
       "    ERC20 max val sent contract   ERC20 avg val sent contract  \\\n",
       "0                           0.0                           0.0   \n",
       "1                           0.0                           0.0   \n",
       "2                           0.0                           0.0   \n",
       "3                           0.0                           0.0   \n",
       "4                           0.0                           0.0   \n",
       "\n",
       "    ERC20 uniq sent token name   ERC20 uniq rec token name  \\\n",
       "0                         39.0                        57.0   \n",
       "1                          1.0                         7.0   \n",
       "2                          0.0                         8.0   \n",
       "3                          1.0                        11.0   \n",
       "4                          6.0                        27.0   \n",
       "\n",
       "    ERC20 most sent token type   ERC20_most_rec_token_type  \n",
       "0                    Cofoundit                   Numeraire  \n",
       "1               Livepeer Token              Livepeer Token  \n",
       "2                          NaN                       XENON  \n",
       "3                       Raiden                       XENON  \n",
       "4                StatusNetwork                         EOS  \n",
       "\n",
       "[5 rows x 51 columns]"
      ]
     },
     "execution_count": 10,
     "metadata": {},
     "output_type": "execute_result"
    }
   ],
   "source": [
    "# Visualiza as primeiras linhas\n",
    "df_dsa.head()"
   ]
  },
  {
   "cell_type": "code",
   "execution_count": 11,
   "metadata": {},
   "outputs": [],
   "source": [
    "# Ajusta o nome para minúsculo\n",
    "df_dsa.columns = [x.lower() for x in df_dsa.columns]"
   ]
  },
  {
   "cell_type": "code",
   "execution_count": 12,
   "metadata": {
    "id": "J-du5_BKx7Pn",
    "papermill": {
     "duration": 0.072717,
     "end_time": "2021-01-09T23:01:22.850115",
     "exception": false,
     "start_time": "2021-01-09T23:01:22.777398",
     "status": "completed"
    },
    "tags": []
   },
   "outputs": [],
   "source": [
    "# Essas colunas não serão relevantes para análise\n",
    "cols_to_drop = [' erc20 most sent token type',\n",
    "                ' erc20_most_rec_token_type',\n",
    "                'address',\n",
    "                'index',\n",
    "                'unnamed: 0']"
   ]
  },
  {
   "cell_type": "code",
   "execution_count": 13,
   "metadata": {},
   "outputs": [],
   "source": [
    "# Seleciona os atributos filtrando as colunas que serão removidas e a variável alvo\n",
    "atributos = [x for x in df_dsa.columns if (x != 'flag' and x not in cols_to_drop)]"
   ]
  },
  {
   "cell_type": "code",
   "execution_count": 14,
   "metadata": {},
   "outputs": [
    {
     "data": {
      "text/plain": [
       "['avg min between sent tnx',\n",
       " 'avg min between received tnx',\n",
       " 'time diff between first and last (mins)',\n",
       " 'sent tnx',\n",
       " 'received tnx',\n",
       " 'number of created contracts',\n",
       " 'unique received from addresses',\n",
       " 'unique sent to addresses',\n",
       " 'min value received',\n",
       " 'max value received ',\n",
       " 'avg val received',\n",
       " 'min val sent',\n",
       " 'max val sent',\n",
       " 'avg val sent',\n",
       " 'min value sent to contract',\n",
       " 'max val sent to contract',\n",
       " 'avg value sent to contract',\n",
       " 'total transactions (including tnx to create contract',\n",
       " 'total ether sent',\n",
       " 'total ether received',\n",
       " 'total ether sent contracts',\n",
       " 'total ether balance',\n",
       " ' total erc20 tnxs',\n",
       " ' erc20 total ether received',\n",
       " ' erc20 total ether sent',\n",
       " ' erc20 total ether sent contract',\n",
       " ' erc20 uniq sent addr',\n",
       " ' erc20 uniq rec addr',\n",
       " ' erc20 uniq sent addr.1',\n",
       " ' erc20 uniq rec contract addr',\n",
       " ' erc20 avg time between sent tnx',\n",
       " ' erc20 avg time between rec tnx',\n",
       " ' erc20 avg time between rec 2 tnx',\n",
       " ' erc20 avg time between contract tnx',\n",
       " ' erc20 min val rec',\n",
       " ' erc20 max val rec',\n",
       " ' erc20 avg val rec',\n",
       " ' erc20 min val sent',\n",
       " ' erc20 max val sent',\n",
       " ' erc20 avg val sent',\n",
       " ' erc20 min val sent contract',\n",
       " ' erc20 max val sent contract',\n",
       " ' erc20 avg val sent contract',\n",
       " ' erc20 uniq sent token name',\n",
       " ' erc20 uniq rec token name']"
      ]
     },
     "execution_count": 14,
     "metadata": {},
     "output_type": "execute_result"
    }
   ],
   "source": [
    "atributos"
   ]
  },
  {
   "cell_type": "code",
   "execution_count": 15,
   "metadata": {},
   "outputs": [],
   "source": [
    "# Extrai valores únicos\n",
    "valores_unicos = df_dsa.nunique()"
   ]
  },
  {
   "cell_type": "code",
   "execution_count": 16,
   "metadata": {},
   "outputs": [
    {
     "data": {
      "text/plain": [
       "unnamed: 0                                              9841\n",
       "index                                                   4729\n",
       "address                                                 9816\n",
       "flag                                                       2\n",
       "avg min between sent tnx                                5013\n",
       "avg min between received tnx                            6223\n",
       "time diff between first and last (mins)                 7810\n",
       "sent tnx                                                 641\n",
       "received tnx                                             727\n",
       "number of created contracts                               20\n",
       "unique received from addresses                           256\n",
       "unique sent to addresses                                 258\n",
       "min value received                                      4589\n",
       "max value received                                      6302\n",
       "avg val received                                        6767\n",
       "min val sent                                            4719\n",
       "max val sent                                            6647\n",
       "avg val sent                                            5854\n",
       "min value sent to contract                                 3\n",
       "max val sent to contract                                   4\n",
       "avg value sent to contract                                 4\n",
       "total transactions (including tnx to create contract     897\n",
       "total ether sent                                        5868\n",
       "total ether received                                    6728\n",
       "total ether sent contracts                                 4\n",
       "total ether balance                                     5717\n",
       " total erc20 tnxs                                        300\n",
       " erc20 total ether received                             3460\n",
       " erc20 total ether sent                                 1415\n",
       " erc20 total ether sent contract                          29\n",
       " erc20 uniq sent addr                                    107\n",
       " erc20 uniq rec addr                                     147\n",
       " erc20 uniq sent addr.1                                    4\n",
       " erc20 uniq rec contract addr                            123\n",
       " erc20 avg time between sent tnx                           1\n",
       " erc20 avg time between rec tnx                            1\n",
       " erc20 avg time between rec 2 tnx                          1\n",
       " erc20 avg time between contract tnx                       1\n",
       " erc20 min val rec                                      1276\n",
       " erc20 max val rec                                      2647\n",
       " erc20 avg val rec                                      3380\n",
       " erc20 min val sent                                      476\n",
       " erc20 max val sent                                     1130\n",
       " erc20 avg val sent                                     1309\n",
       " erc20 min val sent contract                               1\n",
       " erc20 max val sent contract                               1\n",
       " erc20 avg val sent contract                               1\n",
       " erc20 uniq sent token name                               70\n",
       " erc20 uniq rec token name                               121\n",
       " erc20 most sent token type                              304\n",
       " erc20_most_rec_token_type                               466\n",
       "dtype: int64"
      ]
     },
     "execution_count": 16,
     "metadata": {},
     "output_type": "execute_result"
    }
   ],
   "source": [
    "valores_unicos"
   ]
  },
  {
   "cell_type": "code",
   "execution_count": 17,
   "metadata": {},
   "outputs": [],
   "source": [
    "# Mantém somente atributos com mais de um valor único (atributos que não são constantes)\n",
    "atributos = [x for x in atributos if x in valores_unicos.loc[(valores_unicos > 1)]]"
   ]
  },
  {
   "cell_type": "code",
   "execution_count": 18,
   "metadata": {
    "colab": {
     "base_uri": "https://localhost:8080/"
    },
    "id": "KE1jd9ltx7Po",
    "outputId": "ad55da5b-733c-4d12-8df7-c6561d2e35bd",
    "papermill": {
     "duration": 0.03654,
     "end_time": "2021-01-09T23:01:22.894005",
     "exception": false,
     "start_time": "2021-01-09T23:01:22.857465",
     "status": "completed"
    },
    "tags": []
   },
   "outputs": [
    {
     "name": "stdout",
     "output_type": "stream",
     "text": [
      "<class 'pandas.core.frame.DataFrame'>\n",
      "RangeIndex: 9841 entries, 0 to 9840\n",
      "Data columns (total 38 columns):\n",
      " #   Column                                                Non-Null Count  Dtype  \n",
      "---  ------                                                --------------  -----  \n",
      " 0   avg min between sent tnx                              9841 non-null   float64\n",
      " 1   avg min between received tnx                          9841 non-null   float64\n",
      " 2   time diff between first and last (mins)               9841 non-null   float64\n",
      " 3   sent tnx                                              9841 non-null   int64  \n",
      " 4   received tnx                                          9841 non-null   int64  \n",
      " 5   number of created contracts                           9841 non-null   int64  \n",
      " 6   unique received from addresses                        9841 non-null   int64  \n",
      " 7   unique sent to addresses                              9841 non-null   int64  \n",
      " 8   min value received                                    9841 non-null   float64\n",
      " 9   max value received                                    9841 non-null   float64\n",
      " 10  avg val received                                      9841 non-null   float64\n",
      " 11  min val sent                                          9841 non-null   float64\n",
      " 12  max val sent                                          9841 non-null   float64\n",
      " 13  avg val sent                                          9841 non-null   float64\n",
      " 14  min value sent to contract                            9841 non-null   float64\n",
      " 15  max val sent to contract                              9841 non-null   float64\n",
      " 16  avg value sent to contract                            9841 non-null   float64\n",
      " 17  total transactions (including tnx to create contract  9841 non-null   int64  \n",
      " 18  total ether sent                                      9841 non-null   float64\n",
      " 19  total ether received                                  9841 non-null   float64\n",
      " 20  total ether sent contracts                            9841 non-null   float64\n",
      " 21  total ether balance                                   9841 non-null   float64\n",
      " 22   total erc20 tnxs                                     9012 non-null   float64\n",
      " 23   erc20 total ether received                           9012 non-null   float64\n",
      " 24   erc20 total ether sent                               9012 non-null   float64\n",
      " 25   erc20 total ether sent contract                      9012 non-null   float64\n",
      " 26   erc20 uniq sent addr                                 9012 non-null   float64\n",
      " 27   erc20 uniq rec addr                                  9012 non-null   float64\n",
      " 28   erc20 uniq sent addr.1                               9012 non-null   float64\n",
      " 29   erc20 uniq rec contract addr                         9012 non-null   float64\n",
      " 30   erc20 min val rec                                    9012 non-null   float64\n",
      " 31   erc20 max val rec                                    9012 non-null   float64\n",
      " 32   erc20 avg val rec                                    9012 non-null   float64\n",
      " 33   erc20 min val sent                                   9012 non-null   float64\n",
      " 34   erc20 max val sent                                   9012 non-null   float64\n",
      " 35   erc20 avg val sent                                   9012 non-null   float64\n",
      " 36   erc20 uniq sent token name                           9012 non-null   float64\n",
      " 37   erc20 uniq rec token name                            9012 non-null   float64\n",
      "dtypes: float64(32), int64(6)\n",
      "memory usage: 2.9 MB\n"
     ]
    }
   ],
   "source": [
    "df_dsa[atributos].info()"
   ]
  },
  {
   "cell_type": "markdown",
   "metadata": {},
   "source": [
    "## Criação do Pipeline de Pré-Processamento\n",
    "\n",
    "**BaseEstimator**: Esta é a classe base para todos os estimadores no scikit-learn. Um estimador é qualquer objeto que pode estimar alguns parâmetros baseados em um conjunto de dados. Por exemplo, um algoritmo de Machine Learning como uma regressão linear ou uma árvore de decisão é um estimador. A classe BaseEstimator fornece funcionalidades básicas, como métodos para configurar os parâmetros de um estimador e para obter esses parâmetros com get_params() e set_params(). \n",
    "\n",
    "**TransformerMixin**: Esta é uma classe mista (mixin) usada para adicionar funcionalidade de transformação a um estimador. No scikit-learn, um \"transformador\" é um tipo de estimador que pode transformar um conjunto de dados. Por exemplo, ele pode ser usado para normalizar ou padronizar dados, selecionar ou extrair características, etc. A classe TransformerMixin adiciona o método fit_transform(), que é um método conveniente que primeiro ajusta o transformador ao conjunto de dados (usando fit()) e então aplica a transformação ao mesmo conjunto de dados (usando transform()). Isso é útil para evitar ter que chamar fit() e transform() separadamente durante o pré-processamento dos dados.\n",
    "\n",
    "A combinação dessas duas classes é frequentemente usada ao criar um estimador personalizado ou transformador com o scikit-learn. Ao herdar dessas classes, você garante que seu estimador personalizado se integre bem com outras funcionalidades de scikit-learn, como pipelines e outras ferramentas de modelagem."
   ]
  },
  {
   "cell_type": "code",
   "execution_count": 19,
   "metadata": {},
   "outputs": [],
   "source": [
    "# Definição de uma classe personalizada que herda de BaseEstimator e TransformerMixin\n",
    "class DSAPipeSteps(BaseEstimator, TransformerMixin):\n",
    "\n",
    "    # Método construtor para inicializar a classe com uma lista de colunas\n",
    "    def __init__(self, columns=[]):\n",
    "        \n",
    "        # Atribuição do argumento columns ao atributo de instância self.columns\n",
    "        self.columns = columns\n",
    "\n",
    "    # Método fit usado para ajustar (treinar) a transformação nos dados de treinamento\n",
    "    def fit(self, X, y = None):\n",
    "        \n",
    "        # Retorna a própria instância, indicando que o método não faz modificações\n",
    "        return self\n",
    "\n",
    "    # Método transform para transformar os dados de entrada\n",
    "    def transform(self, X):\n",
    "        \n",
    "        # Faz uma cópia dos dados de entrada para evitar alterar os dados originais\n",
    "        X = X.copy()\n",
    "        \n",
    "        # Retorna os dados sem modificações\n",
    "        return X"
   ]
  },
  {
   "cell_type": "code",
   "execution_count": 20,
   "metadata": {},
   "outputs": [],
   "source": [
    "# Definição de uma classe que herda de DSAPipeSteps\n",
    "class DSASelecionaColunas(DSAPipeSteps):\n",
    "\n",
    "    # Método transform para transformar os dados de entrada\n",
    "    def transform(self, X):\n",
    "        \n",
    "        # Faz uma cópia dos dados de entrada para evitar alterar os dados originais\n",
    "        X = X.copy()\n",
    "        \n",
    "        # Seleciona e retorna apenas as colunas especificadas em self.columns\n",
    "        return X[self.columns]"
   ]
  },
  {
   "cell_type": "code",
   "execution_count": 21,
   "metadata": {},
   "outputs": [],
   "source": [
    "# Definição de uma classe que herda de DSAPipeSteps\n",
    "class DSAPreencheDados(DSAPipeSteps):\n",
    "\n",
    "    # Método fit para ajustar a transformação nos dados de treinamento\n",
    "    def fit(self, X, y = None):\n",
    "        \n",
    "        # Calcula a média de cada coluna especificada em self.columns e armazena no dicionário self.means\n",
    "        self.means = { col: X[col].mean() for col in self.columns }\n",
    "        \n",
    "        # Retorna a própria instância, indicando que o método não faz modificações\n",
    "        return self\n",
    "\n",
    "    # Método transform para transformar os dados de entrada\n",
    "    def transform(self, X):\n",
    "        \n",
    "        # Faz uma cópia dos dados de entrada para evitar alterar os dados originais\n",
    "        X = X.copy()\n",
    "        \n",
    "        # Itera sobre cada coluna especificada em self.columns\n",
    "        for col in self.columns:\n",
    "            \n",
    "            # Preenche valores ausentes na coluna com a média calculada na fase de ajuste\n",
    "            X[col] = X[col].fillna(self.means[col])\n",
    "        \n",
    "        # Retorna os dados transformados\n",
    "        return X"
   ]
  },
  {
   "cell_type": "code",
   "execution_count": 22,
   "metadata": {},
   "outputs": [],
   "source": [
    "# Definição de uma classe que herda de DSAPipeSteps\n",
    "class DSAPadronizaDados(DSAPipeSteps):\n",
    "\n",
    "    # Método fit para ajustar o scaler nos dados de treinamento\n",
    "    def fit(self, X, y = None):\n",
    "        \n",
    "        # Inicializa uma instância de StandardScaler para padronizar os dados\n",
    "        self.scaler = StandardScaler()\n",
    "        \n",
    "        # Ajusta o scaler nas colunas especificadas em self.columns\n",
    "        self.scaler.fit(X[self.columns])\n",
    "        \n",
    "        # Retorna a própria instância, indicando que o método não faz modificações\n",
    "        return self\n",
    "\n",
    "    # Método transform para transformar os dados de entrada\n",
    "    def transform(self, X):\n",
    "        \n",
    "        # Faz uma cópia dos dados de entrada para evitar alterar os dados originais\n",
    "        X = X.copy()\n",
    "        \n",
    "        # Aplica a transformação de padronização nas colunas especificadas\n",
    "        X[self.columns] = self.scaler.transform(X[self.columns])\n",
    "        \n",
    "        # Retorna os dados transformados\n",
    "        return X"
   ]
  },
  {
   "cell_type": "code",
   "execution_count": 23,
   "metadata": {
    "id": "YwgM7esXx7Po",
    "papermill": {
     "duration": 0.022327,
     "end_time": "2021-01-09T23:01:22.924645",
     "exception": false,
     "start_time": "2021-01-09T23:01:22.902318",
     "status": "completed"
    },
    "tags": []
   },
   "outputs": [],
   "source": [
    "# Definição de uma classe que herda de DSAPipeSteps\n",
    "class DSAObtemDados(DSAPipeSteps):\n",
    "\n",
    "    # Método transform para transformar os dados de entrada\n",
    "    def transform(self, X):\n",
    "        \n",
    "        # Faz uma cópia dos dados de entrada para evitar alterar os dados originais\n",
    "        X = X.copy()\n",
    "        \n",
    "        # Retorna os valores do DataFrame como um array NumPy\n",
    "        return X.values"
   ]
  },
  {
   "cell_type": "markdown",
   "metadata": {},
   "source": [
    "Pipeline no scikit-learn é uma ferramenta que encadeia várias etapas de transformação e um estimador final em um único objeto. Isso permite que você configure um processo de Machine Learning que inclui etapas de pré-processamento (como normalização, padronização e extração de características) seguidas pela aplicação de um modelo de aprendizado de máquina. Cada etapa da pipeline é representada por uma tupla contendo um nome e um objeto de transformação ou modelo."
   ]
  },
  {
   "cell_type": "code",
   "execution_count": 24,
   "metadata": {
    "id": "h6mUSs8ix7Po",
    "papermill": {
     "duration": 0.013941,
     "end_time": "2021-01-09T23:01:22.946228",
     "exception": false,
     "start_time": "2021-01-09T23:01:22.932287",
     "status": "completed"
    },
    "tags": []
   },
   "outputs": [],
   "source": [
    "# Cria o pipeline\n",
    "dsa_pipe_prepropcessamento = Pipeline([('feature_selection', DSASelecionaColunas(atributos)),\n",
    "                                       ('fill_missing', DSAPreencheDados(atributos)),\n",
    "                                       ('standard_scaling', DSAPadronizaDados(atributos)),\n",
    "                                       ('returnValues', DSAObtemDados())])"
   ]
  },
  {
   "cell_type": "code",
   "execution_count": 25,
   "metadata": {},
   "outputs": [],
   "source": [
    "# Variáveis de entrada\n",
    "X = df_dsa[atributos]"
   ]
  },
  {
   "cell_type": "code",
   "execution_count": 26,
   "metadata": {},
   "outputs": [],
   "source": [
    "# Variável de saída\n",
    "y = df_dsa['flag']"
   ]
  },
  {
   "cell_type": "code",
   "execution_count": 27,
   "metadata": {},
   "outputs": [],
   "source": [
    "# Ajusta o tipo da variável de saída\n",
    "y = to_categorical(y)"
   ]
  },
  {
   "cell_type": "code",
   "execution_count": 28,
   "metadata": {
    "id": "lbh2sYU5x7Po",
    "papermill": {
     "duration": 5.723611,
     "end_time": "2021-01-09T23:01:28.677500",
     "exception": false,
     "start_time": "2021-01-09T23:01:22.953889",
     "status": "completed"
    },
    "tags": []
   },
   "outputs": [],
   "source": [
    "# Divide os dados em treino e teste\n",
    "X_treino, X_teste, y_treino, y_teste = train_test_split(X, y, test_size = 0.30, random_state = 42)"
   ]
  },
  {
   "cell_type": "code",
   "execution_count": 29,
   "metadata": {
    "id": "qJW_nBgLx7Pp",
    "papermill": {
     "duration": 0.211707,
     "end_time": "2021-01-09T23:01:28.897202",
     "exception": false,
     "start_time": "2021-01-09T23:01:28.685495",
     "status": "completed"
    },
    "tags": []
   },
   "outputs": [],
   "source": [
    "# Padroniza os dados\n",
    "X_treino = dsa_pipe_prepropcessamento.fit_transform(X_treino)\n",
    "X_teste = dsa_pipe_prepropcessamento.transform(X_teste)"
   ]
  },
  {
   "cell_type": "code",
   "execution_count": 30,
   "metadata": {},
   "outputs": [
    {
     "data": {
      "text/plain": [
       "array([[-0.23259911, -0.35751318, -0.67960935, ..., -0.01331307,\n",
       "        -0.21172682, -0.2313969 ],\n",
       "       [-0.23259911,  0.0138933 , -0.06181513, ..., -0.01331307,\n",
       "        -0.21172682, -0.17365057],\n",
       "       [-0.23259911, -0.34333968, -0.67254633, ..., -0.01331307,\n",
       "        -0.21172682, -0.2313969 ],\n",
       "       ...,\n",
       "       [-0.23259911, -0.35751318, -0.67960389, ..., -0.01331307,\n",
       "        -0.21172682, -0.28914324],\n",
       "       [-0.22473065, -0.35751318, -0.67858957, ..., -0.01331307,\n",
       "        -0.21172682, -0.28914324],\n",
       "       [-0.23250192, -0.35750828, -0.67958981, ..., -0.01331307,\n",
       "        -0.21172682, -0.28914324]])"
      ]
     },
     "execution_count": 30,
     "metadata": {},
     "output_type": "execute_result"
    }
   ],
   "source": [
    "X_treino"
   ]
  },
  {
   "cell_type": "code",
   "execution_count": 31,
   "metadata": {},
   "outputs": [
    {
     "data": {
      "text/plain": [
       "array([[-1.54379550e-01, -2.63825638e-01,  3.32086109e-01, ...,\n",
       "        -1.33130727e-02, -2.11726819e-01, -4.11559255e-04],\n",
       "       [-9.86466733e-02, -3.20183744e-01, -6.49312398e-01, ...,\n",
       "        -1.33130727e-02, -2.11726819e-01, -2.31396905e-01],\n",
       "       [-2.25103708e-01, -3.57513182e-01, -6.78637885e-01, ...,\n",
       "        -1.33130727e-02, -2.11726819e-01, -2.89143241e-01],\n",
       "       ...,\n",
       "       [-2.32514779e-01, -3.57494918e-01, -6.79590458e-01, ...,\n",
       "        -1.33130727e-02, -2.11726819e-01, -2.89143241e-01],\n",
       "       [-2.32599109e-01, -3.57233873e-01, -6.75564107e-01, ...,\n",
       "        -1.33130727e-02, -2.11726819e-01, -2.31396905e-01],\n",
       "       [-2.31476133e-01, -3.57513182e-01, -6.79391008e-01, ...,\n",
       "        -1.33130727e-02, -2.11726819e-01, -2.89143241e-01]])"
      ]
     },
     "execution_count": 31,
     "metadata": {},
     "output_type": "execute_result"
    }
   ],
   "source": [
    "X_teste"
   ]
  },
  {
   "cell_type": "markdown",
   "metadata": {},
   "source": [
    "## Construção do Modelo de Deep Learning"
   ]
  },
  {
   "cell_type": "code",
   "execution_count": 32,
   "metadata": {},
   "outputs": [],
   "source": [
    "# Cria sequência de camadas\n",
    "modelo_dsa = Sequential()"
   ]
  },
  {
   "cell_type": "code",
   "execution_count": 33,
   "metadata": {},
   "outputs": [],
   "source": [
    "# Adiciona uma camada de entrada ao modelo com a forma especificada pelo comprimento de 'atributos'\n",
    "modelo_dsa.add(Input(shape = (len(atributos),)))\n",
    "\n",
    "# Adiciona uma camada densa ao modelo com 'len(atributos)' unidades e a função de ativação 'relu'\n",
    "modelo_dsa.add(Dense(len(atributos), activation = 'relu'))\n",
    "\n",
    "# Adiciona uma camada densa ao modelo com 20 unidades e a função de ativação 'relu'\n",
    "modelo_dsa.add(Dense(20, activation = 'relu'))\n",
    "\n",
    "# Adiciona uma camada densa ao modelo com 5 unidades e a função de ativação 'relu'\n",
    "modelo_dsa.add(Dense(5, activation = 'relu'))\n",
    "\n",
    "# Adiciona uma camada densa ao modelo com 2 unidades e a função de ativação 'softmax' (camada de saída)\n",
    "modelo_dsa.add(Dense(2, activation = 'softmax'))"
   ]
  },
  {
   "cell_type": "code",
   "execution_count": 34,
   "metadata": {},
   "outputs": [],
   "source": [
    "# Compilação do modelo\n",
    "modelo_dsa.compile(optimizer = 'adam', loss = 'categorical_crossentropy', metrics = ['accuracy'])"
   ]
  },
  {
   "cell_type": "code",
   "execution_count": 35,
   "metadata": {
    "colab": {
     "base_uri": "https://localhost:8080/"
    },
    "id": "CHtocbGdx7Pp",
    "outputId": "4534562f-cb54-4991-f753-3e01c97b1995",
    "papermill": {
     "duration": 0.16792,
     "end_time": "2021-01-09T23:01:29.076531",
     "exception": false,
     "start_time": "2021-01-09T23:01:28.908611",
     "status": "completed"
    },
    "tags": []
   },
   "outputs": [
    {
     "data": {
      "text/html": [
       "<pre style=\"white-space:pre;overflow-x:auto;line-height:normal;font-family:Menlo,'DejaVu Sans Mono',consolas,'Courier New',monospace\"><span style=\"font-weight: bold\">Model: \"sequential\"</span>\n",
       "</pre>\n"
      ],
      "text/plain": [
       "\u001b[1mModel: \"sequential\"\u001b[0m\n"
      ]
     },
     "metadata": {},
     "output_type": "display_data"
    },
    {
     "data": {
      "text/html": [
       "<pre style=\"white-space:pre;overflow-x:auto;line-height:normal;font-family:Menlo,'DejaVu Sans Mono',consolas,'Courier New',monospace\">┏━━━━━━━━━━━━━━━━━━━━━━━━━━━━━━━━━┳━━━━━━━━━━━━━━━━━━━━━━━━┳━━━━━━━━━━━━━━━┓\n",
       "┃<span style=\"font-weight: bold\"> Layer (type)                    </span>┃<span style=\"font-weight: bold\"> Output Shape           </span>┃<span style=\"font-weight: bold\">       Param # </span>┃\n",
       "┡━━━━━━━━━━━━━━━━━━━━━━━━━━━━━━━━━╇━━━━━━━━━━━━━━━━━━━━━━━━╇━━━━━━━━━━━━━━━┩\n",
       "│ dense (<span style=\"color: #0087ff; text-decoration-color: #0087ff\">Dense</span>)                   │ (<span style=\"color: #00d7ff; text-decoration-color: #00d7ff\">None</span>, <span style=\"color: #00af00; text-decoration-color: #00af00\">38</span>)             │         <span style=\"color: #00af00; text-decoration-color: #00af00\">1,482</span> │\n",
       "├─────────────────────────────────┼────────────────────────┼───────────────┤\n",
       "│ dense_1 (<span style=\"color: #0087ff; text-decoration-color: #0087ff\">Dense</span>)                 │ (<span style=\"color: #00d7ff; text-decoration-color: #00d7ff\">None</span>, <span style=\"color: #00af00; text-decoration-color: #00af00\">20</span>)             │           <span style=\"color: #00af00; text-decoration-color: #00af00\">780</span> │\n",
       "├─────────────────────────────────┼────────────────────────┼───────────────┤\n",
       "│ dense_2 (<span style=\"color: #0087ff; text-decoration-color: #0087ff\">Dense</span>)                 │ (<span style=\"color: #00d7ff; text-decoration-color: #00d7ff\">None</span>, <span style=\"color: #00af00; text-decoration-color: #00af00\">5</span>)              │           <span style=\"color: #00af00; text-decoration-color: #00af00\">105</span> │\n",
       "├─────────────────────────────────┼────────────────────────┼───────────────┤\n",
       "│ dense_3 (<span style=\"color: #0087ff; text-decoration-color: #0087ff\">Dense</span>)                 │ (<span style=\"color: #00d7ff; text-decoration-color: #00d7ff\">None</span>, <span style=\"color: #00af00; text-decoration-color: #00af00\">2</span>)              │            <span style=\"color: #00af00; text-decoration-color: #00af00\">12</span> │\n",
       "└─────────────────────────────────┴────────────────────────┴───────────────┘\n",
       "</pre>\n"
      ],
      "text/plain": [
       "┏━━━━━━━━━━━━━━━━━━━━━━━━━━━━━━━━━┳━━━━━━━━━━━━━━━━━━━━━━━━┳━━━━━━━━━━━━━━━┓\n",
       "┃\u001b[1m \u001b[0m\u001b[1mLayer (type)                   \u001b[0m\u001b[1m \u001b[0m┃\u001b[1m \u001b[0m\u001b[1mOutput Shape          \u001b[0m\u001b[1m \u001b[0m┃\u001b[1m \u001b[0m\u001b[1m      Param #\u001b[0m\u001b[1m \u001b[0m┃\n",
       "┡━━━━━━━━━━━━━━━━━━━━━━━━━━━━━━━━━╇━━━━━━━━━━━━━━━━━━━━━━━━╇━━━━━━━━━━━━━━━┩\n",
       "│ dense (\u001b[38;5;33mDense\u001b[0m)                   │ (\u001b[38;5;45mNone\u001b[0m, \u001b[38;5;34m38\u001b[0m)             │         \u001b[38;5;34m1,482\u001b[0m │\n",
       "├─────────────────────────────────┼────────────────────────┼───────────────┤\n",
       "│ dense_1 (\u001b[38;5;33mDense\u001b[0m)                 │ (\u001b[38;5;45mNone\u001b[0m, \u001b[38;5;34m20\u001b[0m)             │           \u001b[38;5;34m780\u001b[0m │\n",
       "├─────────────────────────────────┼────────────────────────┼───────────────┤\n",
       "│ dense_2 (\u001b[38;5;33mDense\u001b[0m)                 │ (\u001b[38;5;45mNone\u001b[0m, \u001b[38;5;34m5\u001b[0m)              │           \u001b[38;5;34m105\u001b[0m │\n",
       "├─────────────────────────────────┼────────────────────────┼───────────────┤\n",
       "│ dense_3 (\u001b[38;5;33mDense\u001b[0m)                 │ (\u001b[38;5;45mNone\u001b[0m, \u001b[38;5;34m2\u001b[0m)              │            \u001b[38;5;34m12\u001b[0m │\n",
       "└─────────────────────────────────┴────────────────────────┴───────────────┘\n"
      ]
     },
     "metadata": {},
     "output_type": "display_data"
    },
    {
     "data": {
      "text/html": [
       "<pre style=\"white-space:pre;overflow-x:auto;line-height:normal;font-family:Menlo,'DejaVu Sans Mono',consolas,'Courier New',monospace\"><span style=\"font-weight: bold\"> Total params: </span><span style=\"color: #00af00; text-decoration-color: #00af00\">2,379</span> (9.29 KB)\n",
       "</pre>\n"
      ],
      "text/plain": [
       "\u001b[1m Total params: \u001b[0m\u001b[38;5;34m2,379\u001b[0m (9.29 KB)\n"
      ]
     },
     "metadata": {},
     "output_type": "display_data"
    },
    {
     "data": {
      "text/html": [
       "<pre style=\"white-space:pre;overflow-x:auto;line-height:normal;font-family:Menlo,'DejaVu Sans Mono',consolas,'Courier New',monospace\"><span style=\"font-weight: bold\"> Trainable params: </span><span style=\"color: #00af00; text-decoration-color: #00af00\">2,379</span> (9.29 KB)\n",
       "</pre>\n"
      ],
      "text/plain": [
       "\u001b[1m Trainable params: \u001b[0m\u001b[38;5;34m2,379\u001b[0m (9.29 KB)\n"
      ]
     },
     "metadata": {},
     "output_type": "display_data"
    },
    {
     "data": {
      "text/html": [
       "<pre style=\"white-space:pre;overflow-x:auto;line-height:normal;font-family:Menlo,'DejaVu Sans Mono',consolas,'Courier New',monospace\"><span style=\"font-weight: bold\"> Non-trainable params: </span><span style=\"color: #00af00; text-decoration-color: #00af00\">0</span> (0.00 B)\n",
       "</pre>\n"
      ],
      "text/plain": [
       "\u001b[1m Non-trainable params: \u001b[0m\u001b[38;5;34m0\u001b[0m (0.00 B)\n"
      ]
     },
     "metadata": {},
     "output_type": "display_data"
    }
   ],
   "source": [
    "# Sumário\n",
    "modelo_dsa.summary()"
   ]
  },
  {
   "cell_type": "markdown",
   "metadata": {},
   "source": [
    "## Treinamento e Avaliação do Modelo"
   ]
  },
  {
   "cell_type": "code",
   "execution_count": 36,
   "metadata": {
    "colab": {
     "base_uri": "https://localhost:8080/"
    },
    "id": "jgPvcbL_x7Pp",
    "outputId": "1739cd27-2e84-43b5-975b-ec1ac2dc3535",
    "papermill": {
     "duration": 4.337858,
     "end_time": "2021-01-09T23:01:33.426610",
     "exception": false,
     "start_time": "2021-01-09T23:01:29.088752",
     "status": "completed"
    },
    "tags": []
   },
   "outputs": [
    {
     "name": "stdout",
     "output_type": "stream",
     "text": [
      "Epoch 1/10\n",
      "\u001b[1m216/216\u001b[0m \u001b[32m━━━━━━━━━━━━━━━━━━━━\u001b[0m\u001b[37m\u001b[0m \u001b[1m0s\u001b[0m 665us/step - accuracy: 0.7175 - loss: 0.5995 - val_accuracy: 0.8490 - val_loss: 0.3920\n",
      "Epoch 2/10\n",
      "\u001b[1m216/216\u001b[0m \u001b[32m━━━━━━━━━━━━━━━━━━━━\u001b[0m\u001b[37m\u001b[0m \u001b[1m0s\u001b[0m 413us/step - accuracy: 0.8412 - loss: 0.3807 - val_accuracy: 0.8557 - val_loss: 0.3119\n",
      "Epoch 3/10\n",
      "\u001b[1m216/216\u001b[0m \u001b[32m━━━━━━━━━━━━━━━━━━━━\u001b[0m\u001b[37m\u001b[0m \u001b[1m0s\u001b[0m 407us/step - accuracy: 0.8529 - loss: 0.3081 - val_accuracy: 0.8612 - val_loss: 0.2817\n",
      "Epoch 4/10\n",
      "\u001b[1m216/216\u001b[0m \u001b[32m━━━━━━━━━━━━━━━━━━━━\u001b[0m\u001b[37m\u001b[0m \u001b[1m0s\u001b[0m 406us/step - accuracy: 0.8892 - loss: 0.2563 - val_accuracy: 0.9309 - val_loss: 0.2569\n",
      "Epoch 5/10\n",
      "\u001b[1m216/216\u001b[0m \u001b[32m━━━━━━━━━━━━━━━━━━━━\u001b[0m\u001b[37m\u001b[0m \u001b[1m0s\u001b[0m 407us/step - accuracy: 0.9146 - loss: 0.2359 - val_accuracy: 0.9279 - val_loss: 0.2304\n",
      "Epoch 6/10\n",
      "\u001b[1m216/216\u001b[0m \u001b[32m━━━━━━━━━━━━━━━━━━━━\u001b[0m\u001b[37m\u001b[0m \u001b[1m0s\u001b[0m 405us/step - accuracy: 0.9329 - loss: 0.2105 - val_accuracy: 0.9370 - val_loss: 0.2065\n",
      "Epoch 7/10\n",
      "\u001b[1m216/216\u001b[0m \u001b[32m━━━━━━━━━━━━━━━━━━━━\u001b[0m\u001b[37m\u001b[0m \u001b[1m0s\u001b[0m 479us/step - accuracy: 0.9394 - loss: 0.1794 - val_accuracy: 0.9421 - val_loss: 0.2013\n",
      "Epoch 8/10\n",
      "\u001b[1m216/216\u001b[0m \u001b[32m━━━━━━━━━━━━━━━━━━━━\u001b[0m\u001b[37m\u001b[0m \u001b[1m0s\u001b[0m 406us/step - accuracy: 0.9427 - loss: 0.1696 - val_accuracy: 0.9438 - val_loss: 0.1773\n",
      "Epoch 9/10\n",
      "\u001b[1m216/216\u001b[0m \u001b[32m━━━━━━━━━━━━━━━━━━━━\u001b[0m\u001b[37m\u001b[0m \u001b[1m0s\u001b[0m 391us/step - accuracy: 0.9518 - loss: 0.1480 - val_accuracy: 0.9468 - val_loss: 0.1820\n",
      "Epoch 10/10\n",
      "\u001b[1m216/216\u001b[0m \u001b[32m━━━━━━━━━━━━━━━━━━━━\u001b[0m\u001b[37m\u001b[0m \u001b[1m0s\u001b[0m 390us/step - accuracy: 0.9480 - loss: 0.1504 - val_accuracy: 0.9492 - val_loss: 0.1642\n",
      "CPU times: user 1.43 s, sys: 423 ms, total: 1.85 s\n",
      "Wall time: 1.25 s\n"
     ]
    },
    {
     "data": {
      "text/plain": [
       "<keras.src.callbacks.history.History at 0x31d6e6d80>"
      ]
     },
     "execution_count": 36,
     "metadata": {},
     "output_type": "execute_result"
    }
   ],
   "source": [
    "%%time\n",
    "modelo_dsa.fit(X_treino, y_treino, validation_data = (X_teste, y_teste), epochs = 10)"
   ]
  },
  {
   "cell_type": "code",
   "execution_count": 37,
   "metadata": {},
   "outputs": [
    {
     "name": "stdout",
     "output_type": "stream",
     "text": [
      "\u001b[1m93/93\u001b[0m \u001b[32m━━━━━━━━━━━━━━━━━━━━\u001b[0m\u001b[37m\u001b[0m \u001b[1m0s\u001b[0m 266us/step\n"
     ]
    }
   ],
   "source": [
    "# Previsões com dados de teste\n",
    "previsoes_teste = [np.argmax(x) for x in modelo_dsa.predict(X_teste)]"
   ]
  },
  {
   "cell_type": "code",
   "execution_count": 38,
   "metadata": {},
   "outputs": [],
   "source": [
    "# Calcula a Acurácia\n",
    "acc = metrics.accuracy_score(previsoes_teste, [np.argmax(y) for y in y_teste])"
   ]
  },
  {
   "cell_type": "markdown",
   "metadata": {},
   "source": [
    "A acurácia é uma métrica de avaliação de modelos de classificação. Ela representa a proporção de previsões corretas feitas pelo modelo em relação ao total de amostras avaliadas. Em outras palavras, é a quantidade de previsões corretas dividida pelo total de previsões feitas, indicando o quão bem o modelo está classificando as amostras corretamente."
   ]
  },
  {
   "cell_type": "code",
   "execution_count": 39,
   "metadata": {
    "colab": {
     "base_uri": "https://localhost:8080/"
    },
    "id": "I3t6sercx7Pp",
    "outputId": "68bc678a-3a2b-46ec-ebf7-00504d81aa53",
    "papermill": {
     "duration": 0.272715,
     "end_time": "2021-01-09T23:01:33.734847",
     "exception": false,
     "start_time": "2021-01-09T23:01:33.462132",
     "status": "completed"
    },
    "tags": []
   },
   "outputs": [
    {
     "name": "stdout",
     "output_type": "stream",
     "text": [
      "Acurácia nos Dados de Teste: 94.92%\n"
     ]
    }
   ],
   "source": [
    "print(f'Acurácia nos Dados de Teste: {acc:,.2%}')"
   ]
  },
  {
   "cell_type": "code",
   "execution_count": 40,
   "metadata": {},
   "outputs": [
    {
     "name": "stdout",
     "output_type": "stream",
     "text": [
      "\u001b[1m93/93\u001b[0m \u001b[32m━━━━━━━━━━━━━━━━━━━━\u001b[0m\u001b[37m\u001b[0m \u001b[1m0s\u001b[0m 187us/step\n"
     ]
    }
   ],
   "source": [
    "# Calcula AUC\n",
    "auc = metrics.roc_auc_score([np.argmax(y) for y in y_teste], modelo_dsa.predict(X_teste)[:,1])"
   ]
  },
  {
   "cell_type": "markdown",
   "metadata": {},
   "source": [
    "A Área Sob a Curva (AUC, na sigla em inglês) é uma métrica usada para avaliar o desempenho de modelos de classificação binária. Ela é baseada na curva ROC (Receiver Operating Characteristic), que é um gráfico que mostra a relação entre a taxa de verdadeiros positivos (sensibilidade) e a taxa de falsos positivos (1 - especificidade) para diferentes limiares de decisão.\n",
    "\n",
    "A AUC representa a área total sob a curva ROC e pode variar de 0 a 1. Uma AUC de 0,5 indica um desempenho aleatório, enquanto uma AUC de 1,0 indica uma classificação perfeita. Portanto, quanto mais próximo de 1 for o valor da AUC, melhor será a capacidade do modelo de distinguir entre as classes positivas e negativas."
   ]
  },
  {
   "cell_type": "code",
   "execution_count": 41,
   "metadata": {
    "colab": {
     "base_uri": "https://localhost:8080/"
    },
    "id": "jwnf-BUfx7Pp",
    "outputId": "0174ffc0-718b-4731-abbf-39cf11522f36",
    "papermill": {
     "duration": 0.152696,
     "end_time": "2021-01-09T23:01:33.923290",
     "exception": false,
     "start_time": "2021-01-09T23:01:33.770594",
     "status": "completed"
    },
    "tags": []
   },
   "outputs": [
    {
     "name": "stdout",
     "output_type": "stream",
     "text": [
      "AUC nos Dados de Teste - 97.53%\n"
     ]
    }
   ],
   "source": [
    "print(f'AUC nos Dados de Teste - {auc:,.2%}')"
   ]
  },
  {
   "cell_type": "markdown",
   "metadata": {},
   "source": [
    "## Deploy do Modelo e Detecção de Fraudes em Novas Transações com Criptomoedas"
   ]
  },
  {
   "cell_type": "code",
   "execution_count": 42,
   "metadata": {},
   "outputs": [],
   "source": [
    "# Carrega os novos dados de uma transação\n",
    "novos_dados = pd.read_csv('novos_dados.csv')"
   ]
  },
  {
   "cell_type": "code",
   "execution_count": 43,
   "metadata": {},
   "outputs": [
    {
     "data": {
      "text/html": [
       "<div>\n",
       "<style scoped>\n",
       "    .dataframe tbody tr th:only-of-type {\n",
       "        vertical-align: middle;\n",
       "    }\n",
       "\n",
       "    .dataframe tbody tr th {\n",
       "        vertical-align: top;\n",
       "    }\n",
       "\n",
       "    .dataframe thead th {\n",
       "        text-align: right;\n",
       "    }\n",
       "</style>\n",
       "<table border=\"1\" class=\"dataframe\">\n",
       "  <thead>\n",
       "    <tr style=\"text-align: right;\">\n",
       "      <th></th>\n",
       "      <th>avg min between sent tnx</th>\n",
       "      <th>avg min between received tnx</th>\n",
       "      <th>time diff between first and last (mins)</th>\n",
       "      <th>sent tnx</th>\n",
       "      <th>received tnx</th>\n",
       "      <th>number of created contracts</th>\n",
       "      <th>unique received from addresses</th>\n",
       "      <th>unique sent to addresses</th>\n",
       "      <th>min value received</th>\n",
       "      <th>max value received</th>\n",
       "      <th>...</th>\n",
       "      <th>erc20 uniq sent addr.1</th>\n",
       "      <th>erc20 uniq rec contract addr</th>\n",
       "      <th>erc20 min val rec</th>\n",
       "      <th>erc20 max val rec</th>\n",
       "      <th>erc20 avg val rec</th>\n",
       "      <th>erc20 min val sent</th>\n",
       "      <th>erc20 max val sent</th>\n",
       "      <th>erc20 avg val sent</th>\n",
       "      <th>erc20 uniq sent token name</th>\n",
       "      <th>erc20 uniq rec token name</th>\n",
       "    </tr>\n",
       "  </thead>\n",
       "  <tbody>\n",
       "    <tr>\n",
       "      <th>0</th>\n",
       "      <td>2570.59</td>\n",
       "      <td>3336.01</td>\n",
       "      <td>30572.7</td>\n",
       "      <td>8</td>\n",
       "      <td>3</td>\n",
       "      <td>0</td>\n",
       "      <td>2</td>\n",
       "      <td>4</td>\n",
       "      <td>0.1</td>\n",
       "      <td>40.0</td>\n",
       "      <td>...</td>\n",
       "      <td>0.0</td>\n",
       "      <td>1.0</td>\n",
       "      <td>600.0</td>\n",
       "      <td>600.0</td>\n",
       "      <td>600.0</td>\n",
       "      <td>0.0</td>\n",
       "      <td>0.0</td>\n",
       "      <td>0.0</td>\n",
       "      <td>0.0</td>\n",
       "      <td>1.0</td>\n",
       "    </tr>\n",
       "  </tbody>\n",
       "</table>\n",
       "<p>1 rows × 38 columns</p>\n",
       "</div>"
      ],
      "text/plain": [
       "   avg min between sent tnx  avg min between received tnx  \\\n",
       "0                   2570.59                       3336.01   \n",
       "\n",
       "   time diff between first and last (mins)  sent tnx  received tnx  \\\n",
       "0                                  30572.7         8             3   \n",
       "\n",
       "   number of created contracts  unique received from addresses  \\\n",
       "0                            0                               2   \n",
       "\n",
       "   unique sent to addresses  min value received  max value received   ...  \\\n",
       "0                         4                 0.1                 40.0  ...   \n",
       "\n",
       "    erc20 uniq sent addr.1   erc20 uniq rec contract addr   erc20 min val rec  \\\n",
       "0                      0.0                            1.0               600.0   \n",
       "\n",
       "    erc20 max val rec   erc20 avg val rec   erc20 min val sent  \\\n",
       "0               600.0               600.0                  0.0   \n",
       "\n",
       "    erc20 max val sent   erc20 avg val sent   erc20 uniq sent token name  \\\n",
       "0                  0.0                  0.0                          0.0   \n",
       "\n",
       "    erc20 uniq rec token name  \n",
       "0                         1.0  \n",
       "\n",
       "[1 rows x 38 columns]"
      ]
     },
     "execution_count": 43,
     "metadata": {},
     "output_type": "execute_result"
    }
   ],
   "source": [
    "# Dados no formato original\n",
    "novos_dados"
   ]
  },
  {
   "cell_type": "code",
   "execution_count": 44,
   "metadata": {},
   "outputs": [],
   "source": [
    "# Aplica o mesmo pipeline aplicado aos dados de treino\n",
    "novos_dados_transformados = dsa_pipe_prepropcessamento.transform(novos_dados)"
   ]
  },
  {
   "cell_type": "code",
   "execution_count": 45,
   "metadata": {},
   "outputs": [
    {
     "data": {
      "text/plain": [
       "array([[-0.11012514, -0.20890417, -0.5852175 , -0.14846488, -0.17435227,\n",
       "        -0.02949086, -0.10071957, -0.08219271, -0.12770293, -0.03945017,\n",
       "        -0.0281488 , -0.04686515, -0.05420181, -0.110975  ,  0.        ,\n",
       "        -0.01204994, -0.01204994, -0.20568049, -0.02975031, -0.03630726,\n",
       "        -0.01204994, -0.0197842 , -0.08228942, -0.06411176, -0.01425745,\n",
       "        -0.02258837, -0.05367989, -0.09036273, -0.05319145, -0.22783703,\n",
       "         0.00627018, -0.05510854, -0.02401607, -0.01364824, -0.0135741 ,\n",
       "        -0.01331307, -0.21172682, -0.2313969 ]])"
      ]
     },
     "execution_count": 45,
     "metadata": {},
     "output_type": "execute_result"
    }
   ],
   "source": [
    "# Dados no formato que o modelo espera receber\n",
    "novos_dados_transformados"
   ]
  },
  {
   "cell_type": "code",
   "execution_count": 46,
   "metadata": {},
   "outputs": [
    {
     "name": "stdout",
     "output_type": "stream",
     "text": [
      "\u001b[1m1/1\u001b[0m \u001b[32m━━━━━━━━━━━━━━━━━━━━\u001b[0m\u001b[37m\u001b[0m \u001b[1m0s\u001b[0m 7ms/step\n"
     ]
    }
   ],
   "source": [
    "# Extrai a previsão de maior probabilidade\n",
    "previsao = [np.argmax(x) for x in modelo_dsa.predict(novos_dados_transformados)]"
   ]
  },
  {
   "cell_type": "code",
   "execution_count": 47,
   "metadata": {},
   "outputs": [
    {
     "data": {
      "text/plain": [
       "list"
      ]
     },
     "execution_count": 47,
     "metadata": {},
     "output_type": "execute_result"
    }
   ],
   "source": [
    "type(previsao)"
   ]
  },
  {
   "cell_type": "code",
   "execution_count": 48,
   "metadata": {},
   "outputs": [
    {
     "name": "stdout",
     "output_type": "stream",
     "text": [
      "Segundo o modelo, essa transação não representa uma Fraude.\n"
     ]
    }
   ],
   "source": [
    "# Resultado\n",
    "if previsao[0] == 0:\n",
    "    print(\"Segundo o modelo, essa transação não representa uma Fraude.\")\n",
    "else:\n",
    "    print(\"Segundo o modelo, essa transação pode representar uma Fraude. Acione a verificação humana!\")"
   ]
  },
  {
   "cell_type": "code",
   "execution_count": 49,
   "metadata": {},
   "outputs": [
    {
     "name": "stdout",
     "output_type": "stream",
     "text": [
      "Author: Data Science Academy\n",
      "\n"
     ]
    }
   ],
   "source": [
    "%watermark -a \"Data Science Academy\""
   ]
  },
  {
   "cell_type": "code",
   "execution_count": 50,
   "metadata": {},
   "outputs": [],
   "source": [
    "#%watermark -v -m"
   ]
  },
  {
   "cell_type": "code",
   "execution_count": 51,
   "metadata": {},
   "outputs": [],
   "source": [
    "#%watermark --iversions"
   ]
  },
  {
   "cell_type": "markdown",
   "metadata": {},
   "source": [
    "# Fim"
   ]
  }
 ],
 "metadata": {
  "accelerator": "GPU",
  "colab": {
   "gpuType": "A100",
   "machine_shape": "hm",
   "provenance": []
  },
  "kernelspec": {
   "display_name": "Python 3 (ipykernel)",
   "language": "python",
   "name": "python3"
  },
  "language_info": {
   "codemirror_mode": {
    "name": "ipython",
    "version": 3
   },
   "file_extension": ".py",
   "mimetype": "text/x-python",
   "name": "python",
   "nbconvert_exporter": "python",
   "pygments_lexer": "ipython3",
   "version": "3.12.11"
  },
  "papermill": {
   "duration": 19.941404,
   "end_time": "2021-01-09T23:01:35.008480",
   "environment_variables": {},
   "exception": null,
   "input_path": "__notebook__.ipynb",
   "output_path": "__notebook__.ipynb",
   "parameters": {},
   "start_time": "2021-01-09T23:01:15.067076",
   "version": "2.1.0"
  }
 },
 "nbformat": 4,
 "nbformat_minor": 4
}
