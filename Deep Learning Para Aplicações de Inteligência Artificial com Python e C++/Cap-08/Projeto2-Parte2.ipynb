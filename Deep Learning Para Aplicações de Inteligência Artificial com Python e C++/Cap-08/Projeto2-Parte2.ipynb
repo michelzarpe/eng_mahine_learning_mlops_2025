{
 "cells": [
  {
   "cell_type": "markdown",
   "metadata": {
    "id": "OR1aEDVb_B8d"
   },
   "source": [
    "<!-- Projeto Desenvolvido na Data Science Academy - www.datascienceacademy.com.br -->\n",
    "# <font color='blue'>Data Science Academy</font>\n",
    "## <font color='blue'>Deep Learning Para Aplicações de Inteligência Artificial com Python e C++</font>\n",
    "## <font color='blue'>Projeto 2</font>\n",
    "## <font color='blue'>Fine-Tuning de Um Modelo Transformer Para Classificação de Sentimento</font>"
   ]
  },
  {
   "cell_type": "markdown",
   "metadata": {},
   "source": [
    "Obs: Os pacotes abaixo estão aqui apenas para referência. Todos os pacotes, versões e dependências estão disponíveis no arquivo requirements.txt e o procedimento de instalação no arquivo LEIAME.txt"
   ]
  },
  {
   "cell_type": "code",
   "execution_count": 1,
   "metadata": {
    "id": "Avr6DgH4_B8f"
   },
   "outputs": [],
   "source": [
    "!pip install -q -U watermark"
   ]
  },
  {
   "cell_type": "code",
   "execution_count": 2,
   "metadata": {
    "id": "1HmZ12BxSOP2"
   },
   "outputs": [],
   "source": [
    "# Use esta versão no ambiente local\n",
    "#!pip install -q numpy==2.1.3"
   ]
  },
  {
   "cell_type": "code",
   "execution_count": 3,
   "metadata": {
    "id": "sld0LISXUbfn"
   },
   "outputs": [],
   "source": [
    "# Use esta versão no Colab\n",
    "#!pip install -q numpy==2.0.2"
   ]
  },
  {
   "cell_type": "code",
   "execution_count": 4,
   "metadata": {
    "id": "9soAjmK7_B8g"
   },
   "outputs": [],
   "source": [
    "#!pip install -q spacy"
   ]
  },
  {
   "cell_type": "code",
   "execution_count": 5,
   "metadata": {
    "id": "iathhTFF_B8g"
   },
   "outputs": [],
   "source": [
    "#!pip install -q tensorflow"
   ]
  },
  {
   "cell_type": "code",
   "execution_count": 6,
   "metadata": {
    "id": "ISPYYXl7SOP2"
   },
   "outputs": [],
   "source": [
    "#!pip install -q keras"
   ]
  },
  {
   "cell_type": "code",
   "execution_count": 7,
   "metadata": {
    "id": "H1iZ-CInSOP2"
   },
   "outputs": [],
   "source": [
    "#!pip install -q tf-keras"
   ]
  },
  {
   "cell_type": "code",
   "execution_count": 8,
   "metadata": {
    "id": "FpskLxLySOP2"
   },
   "outputs": [],
   "source": [
    "#!pip install -q keras-preprocessing"
   ]
  },
  {
   "cell_type": "code",
   "execution_count": 9,
   "metadata": {
    "id": "REFEXI--_B8g"
   },
   "outputs": [],
   "source": [
    "#!pip install -q transformers"
   ]
  },
  {
   "cell_type": "code",
   "execution_count": 10,
   "metadata": {
    "colab": {
     "base_uri": "https://localhost:8080/"
    },
    "id": "XpP6xKN__B8g",
    "outputId": "0fbe9a9b-a6e0-4289-fccd-b57d5e3565df"
   },
   "outputs": [
    {
     "name": "stdout",
     "output_type": "stream",
     "text": [
      "env: TF_CPP_MIN_LOG_LEVEL=3\n"
     ]
    }
   ],
   "source": [
    "%env TF_CPP_MIN_LOG_LEVEL=3"
   ]
  },
  {
   "cell_type": "code",
   "execution_count": 11,
   "metadata": {
    "id": "mrIhYRfK_B8g"
   },
   "outputs": [],
   "source": [
    "# Imports\n",
    "import math\n",
    "import nltk\n",
    "import spacy\n",
    "import numpy as np\n",
    "import pandas as pd\n",
    "import tensorflow as tf\n",
    "import matplotlib.pyplot as plt\n",
    "import transformers\n",
    "from tokenizers import BertWordPieceTokenizer\n",
    "from tqdm import tqdm\n",
    "from nltk.corpus import stopwords\n",
    "from sklearn.preprocessing import LabelEncoder\n",
    "from sklearn.feature_extraction.text import TfidfVectorizer\n",
    "from sklearn.model_selection import train_test_split\n",
    "from sklearn.utils.class_weight import compute_class_weight\n",
    "from sklearn.metrics import confusion_matrix, accuracy_score, classification_report\n",
    "from tensorflow.keras.utils import to_categorical\n",
    "from tensorflow.keras.models import Sequential\n",
    "from tensorflow.keras.models import load_model\n",
    "from keras_preprocessing.text import Tokenizer\n",
    "from keras_preprocessing.sequence import pad_sequences\n",
    "from keras.metrics import Precision, Recall, AUC\n",
    "from keras.layers import Embedding, LSTM, Dense, Dropout, Bidirectional\n",
    "from keras.callbacks import EarlyStopping, LearningRateScheduler, CallbackList, ReduceLROnPlateau\n",
    "from tensorflow.keras.optimizers import Adam\n",
    "from tensorflow.keras.regularizers import l1_l2\n",
    "from keras.saving import register_keras_serializable\n",
    "from tensorflow.keras.layers import Layer, Dense\n",
    "from transformers import TFDistilBertModel, DistilBertConfig\n",
    "from tensorflow.keras.metrics import Precision, Recall, AUC\n",
    "import warnings\n",
    "warnings.filterwarnings('ignore')"
   ]
  },
  {
   "cell_type": "code",
   "execution_count": 12,
   "metadata": {
    "colab": {
     "base_uri": "https://localhost:8080/"
    },
    "id": "u9-bP3S9_B8h",
    "outputId": "535aa388-c2bf-41a3-8bc6-45ff28829570"
   },
   "outputs": [
    {
     "name": "stdout",
     "output_type": "stream",
     "text": [
      "Author: Data Science Academy\n",
      "\n"
     ]
    }
   ],
   "source": [
    "%reload_ext watermark\n",
    "%watermark -a \"Data Science Academy\""
   ]
  },
  {
   "cell_type": "markdown",
   "metadata": {
    "id": "4IJd1Egg_B8h"
   },
   "source": [
    "## Carregando os Dados de Texto"
   ]
  },
  {
   "cell_type": "code",
   "execution_count": 13,
   "metadata": {
    "id": "Ql3PfUAw_B8h"
   },
   "outputs": [],
   "source": [
    "# Carrega os dados de treino\n",
    "dados_dsa_treino = pd.read_csv('dados_treino.txt', header = None, delimiter = ';')"
   ]
  },
  {
   "cell_type": "code",
   "execution_count": 14,
   "metadata": {
    "id": "9bXNAjeT_B8h"
   },
   "outputs": [],
   "source": [
    "# Carrega os dados de teste\n",
    "dados_dsa_teste = pd.read_csv('dados_teste.txt', header = None, delimiter = ';')"
   ]
  },
  {
   "cell_type": "code",
   "execution_count": 15,
   "metadata": {
    "id": "L-eheibo_B8i"
   },
   "outputs": [],
   "source": [
    "# Ajusta os nomes das colunas\n",
    "dados_dsa_treino = dados_dsa_treino.rename(columns = {0: 'texto', 1: 'sentimento'})\n",
    "dados_dsa_teste = dados_dsa_teste.rename(columns = {0: 'texto', 1: 'sentimento'})"
   ]
  },
  {
   "cell_type": "code",
   "execution_count": 16,
   "metadata": {
    "colab": {
     "base_uri": "https://localhost:8080/"
    },
    "id": "IWKgZwQ9_B8i",
    "outputId": "027a84df-3ea3-4c76-dd84-35258fbbd444"
   },
   "outputs": [
    {
     "data": {
      "text/plain": [
       "(16000, 2)"
      ]
     },
     "execution_count": 16,
     "metadata": {},
     "output_type": "execute_result"
    }
   ],
   "source": [
    "# Shape\n",
    "dados_dsa_treino.shape"
   ]
  },
  {
   "cell_type": "code",
   "execution_count": 17,
   "metadata": {
    "colab": {
     "base_uri": "https://localhost:8080/"
    },
    "id": "j2e--IbB_B8i",
    "outputId": "e3b60f0d-3a9e-4102-b21e-05f8809dc2bc"
   },
   "outputs": [
    {
     "data": {
      "text/plain": [
       "(2000, 2)"
      ]
     },
     "execution_count": 17,
     "metadata": {},
     "output_type": "execute_result"
    }
   ],
   "source": [
    "# Shape\n",
    "dados_dsa_teste.shape"
   ]
  },
  {
   "cell_type": "code",
   "execution_count": 18,
   "metadata": {
    "colab": {
     "base_uri": "https://localhost:8080/",
     "height": 206
    },
    "id": "V7kA_ABx_B8i",
    "outputId": "4e36470e-a7c7-4a05-d8e5-e0d365870649"
   },
   "outputs": [
    {
     "data": {
      "text/html": [
       "<div>\n",
       "<style scoped>\n",
       "    .dataframe tbody tr th:only-of-type {\n",
       "        vertical-align: middle;\n",
       "    }\n",
       "\n",
       "    .dataframe tbody tr th {\n",
       "        vertical-align: top;\n",
       "    }\n",
       "\n",
       "    .dataframe thead th {\n",
       "        text-align: right;\n",
       "    }\n",
       "</style>\n",
       "<table border=\"1\" class=\"dataframe\">\n",
       "  <thead>\n",
       "    <tr style=\"text-align: right;\">\n",
       "      <th></th>\n",
       "      <th>texto</th>\n",
       "      <th>sentimento</th>\n",
       "    </tr>\n",
       "  </thead>\n",
       "  <tbody>\n",
       "    <tr>\n",
       "      <th>0</th>\n",
       "      <td>i am feeling completely overwhelmed i have two...</td>\n",
       "      <td>fear</td>\n",
       "    </tr>\n",
       "    <tr>\n",
       "      <th>1</th>\n",
       "      <td>i have the feeling she was amused and delighted</td>\n",
       "      <td>joy</td>\n",
       "    </tr>\n",
       "    <tr>\n",
       "      <th>2</th>\n",
       "      <td>i was able to help chai lifeline with your sup...</td>\n",
       "      <td>joy</td>\n",
       "    </tr>\n",
       "    <tr>\n",
       "      <th>3</th>\n",
       "      <td>i already feel like i fucked up though because...</td>\n",
       "      <td>anger</td>\n",
       "    </tr>\n",
       "    <tr>\n",
       "      <th>4</th>\n",
       "      <td>i still love my so and wish the best for him i...</td>\n",
       "      <td>sadness</td>\n",
       "    </tr>\n",
       "  </tbody>\n",
       "</table>\n",
       "</div>"
      ],
      "text/plain": [
       "                                               texto sentimento\n",
       "0  i am feeling completely overwhelmed i have two...       fear\n",
       "1    i have the feeling she was amused and delighted        joy\n",
       "2  i was able to help chai lifeline with your sup...        joy\n",
       "3  i already feel like i fucked up though because...      anger\n",
       "4  i still love my so and wish the best for him i...    sadness"
      ]
     },
     "execution_count": 18,
     "metadata": {},
     "output_type": "execute_result"
    }
   ],
   "source": [
    "# Amostra de treino\n",
    "dados_dsa_treino.head()"
   ]
  },
  {
   "cell_type": "markdown",
   "metadata": {
    "id": "T5NBhRcJ_B8i"
   },
   "source": [
    "> A coluna **texto** será a variável de entrada e **sentimento** a variável de saída."
   ]
  },
  {
   "cell_type": "code",
   "execution_count": 19,
   "metadata": {
    "colab": {
     "base_uri": "https://localhost:8080/",
     "height": 304
    },
    "id": "41dAL7vU_B8i",
    "outputId": "c2ac936b-22fd-4509-d1c4-36e1f4437d54"
   },
   "outputs": [
    {
     "data": {
      "text/plain": [
       "sentimento\n",
       "joy         5362\n",
       "sadness     4666\n",
       "anger       2159\n",
       "fear        1937\n",
       "love        1304\n",
       "surprise     572\n",
       "Name: count, dtype: int64"
      ]
     },
     "execution_count": 19,
     "metadata": {},
     "output_type": "execute_result"
    }
   ],
   "source": [
    "# Sentimentos presentes nos dados de treino\n",
    "dados_dsa_treino['sentimento'].value_counts()"
   ]
  },
  {
   "cell_type": "code",
   "execution_count": 20,
   "metadata": {
    "colab": {
     "base_uri": "https://localhost:8080/",
     "height": 304
    },
    "id": "Op1vebEi_B8j",
    "outputId": "6293c0f5-e0e3-4066-ab99-a9b577d2ffc5"
   },
   "outputs": [
    {
     "data": {
      "text/plain": [
       "sentimento\n",
       "joy         695\n",
       "sadness     581\n",
       "anger       275\n",
       "fear        224\n",
       "love        159\n",
       "surprise     66\n",
       "Name: count, dtype: int64"
      ]
     },
     "execution_count": 20,
     "metadata": {},
     "output_type": "execute_result"
    }
   ],
   "source": [
    "# Sentimentos presentes nos dados de teste\n",
    "dados_dsa_teste['sentimento'].value_counts()"
   ]
  },
  {
   "cell_type": "markdown",
   "metadata": {
    "id": "HTNI6uDD_B8j"
   },
   "source": [
    "## Pré-Processamento dos Dados de Texto com SpaCy\n",
    "\n",
    "https://spacy.io/"
   ]
  },
  {
   "cell_type": "code",
   "execution_count": 21,
   "metadata": {
    "colab": {
     "base_uri": "https://localhost:8080/"
    },
    "id": "bAgMimio_B8j",
    "outputId": "ffeba572-5274-44a4-b0da-e509831fb4f8"
   },
   "outputs": [
    {
     "name": "stdout",
     "output_type": "stream",
     "text": [
      "\u001b[38;5;2m✔ Download and installation successful\u001b[0m\n",
      "You can now load the package via spacy.load('en_core_web_md')\n"
     ]
    }
   ],
   "source": [
    "!python -m spacy download en_core_web_md -q"
   ]
  },
  {
   "cell_type": "code",
   "execution_count": 22,
   "metadata": {
    "id": "uNCFek9w_B8j"
   },
   "outputs": [],
   "source": [
    "# Carrega o dicionário\n",
    "dsa_nlp = spacy.load('en_core_web_md')"
   ]
  },
  {
   "cell_type": "code",
   "execution_count": 23,
   "metadata": {
    "id": "epbG8NVe_B8j"
   },
   "outputs": [],
   "source": [
    "# Definição da função 'dsa_preprocessa_texto' que recebe um texto como parâmetro\n",
    "def dsa_preprocessa_texto(text):\n",
    "\n",
    "    # Processa o texto usando o dicionário\n",
    "    doc = dsa_nlp(text)\n",
    "\n",
    "    # Cria uma lista de lemas dos tokens, convertidos para minúsculas e sem espaços em branco,\n",
    "    # excluindo as palavras que são stopwords\n",
    "    tokens = [token.lemma_.lower().strip() for token in doc if not token.is_stop]\n",
    "\n",
    "    # Retorna os tokens processados como uma string única, unindo-os com espaços\n",
    "    return ' '.join(tokens)"
   ]
  },
  {
   "cell_type": "code",
   "execution_count": 24,
   "metadata": {
    "id": "c8id0as__B8j"
   },
   "outputs": [],
   "source": [
    "# Aplica a função em treino\n",
    "dados_dsa_treino['texto_processado'] = dados_dsa_treino['texto'].apply(dsa_preprocessa_texto)"
   ]
  },
  {
   "cell_type": "code",
   "execution_count": 25,
   "metadata": {
    "id": "-DjiqZu__B8j"
   },
   "outputs": [],
   "source": [
    "# Aplica a função em teste\n",
    "dados_dsa_teste['texto_processado'] = dados_dsa_teste['texto'].apply(dsa_preprocessa_texto)"
   ]
  },
  {
   "cell_type": "code",
   "execution_count": 26,
   "metadata": {
    "colab": {
     "base_uri": "https://localhost:8080/",
     "height": 206
    },
    "id": "3S1u1jwW_B8k",
    "outputId": "95ca69fa-1ff2-4549-f3a6-f534b37da810"
   },
   "outputs": [
    {
     "data": {
      "text/html": [
       "<div>\n",
       "<style scoped>\n",
       "    .dataframe tbody tr th:only-of-type {\n",
       "        vertical-align: middle;\n",
       "    }\n",
       "\n",
       "    .dataframe tbody tr th {\n",
       "        vertical-align: top;\n",
       "    }\n",
       "\n",
       "    .dataframe thead th {\n",
       "        text-align: right;\n",
       "    }\n",
       "</style>\n",
       "<table border=\"1\" class=\"dataframe\">\n",
       "  <thead>\n",
       "    <tr style=\"text-align: right;\">\n",
       "      <th></th>\n",
       "      <th>texto</th>\n",
       "      <th>sentimento</th>\n",
       "      <th>texto_processado</th>\n",
       "    </tr>\n",
       "  </thead>\n",
       "  <tbody>\n",
       "    <tr>\n",
       "      <th>0</th>\n",
       "      <td>i am feeling completely overwhelmed i have two...</td>\n",
       "      <td>fear</td>\n",
       "      <td>feel completely overwhelmed strategy help feel...</td>\n",
       "    </tr>\n",
       "    <tr>\n",
       "      <th>1</th>\n",
       "      <td>i have the feeling she was amused and delighted</td>\n",
       "      <td>joy</td>\n",
       "      <td>feeling amuse delight</td>\n",
       "    </tr>\n",
       "    <tr>\n",
       "      <th>2</th>\n",
       "      <td>i was able to help chai lifeline with your sup...</td>\n",
       "      <td>joy</td>\n",
       "      <td>able help chai lifeline support encouragement ...</td>\n",
       "    </tr>\n",
       "    <tr>\n",
       "      <th>3</th>\n",
       "      <td>i already feel like i fucked up though because...</td>\n",
       "      <td>anger</td>\n",
       "      <td>feel like fuck not usually eat morning</td>\n",
       "    </tr>\n",
       "    <tr>\n",
       "      <th>4</th>\n",
       "      <td>i still love my so and wish the best for him i...</td>\n",
       "      <td>sadness</td>\n",
       "      <td>love wish good long tolerate effect bm life fa...</td>\n",
       "    </tr>\n",
       "  </tbody>\n",
       "</table>\n",
       "</div>"
      ],
      "text/plain": [
       "                                               texto sentimento  \\\n",
       "0  i am feeling completely overwhelmed i have two...       fear   \n",
       "1    i have the feeling she was amused and delighted        joy   \n",
       "2  i was able to help chai lifeline with your sup...        joy   \n",
       "3  i already feel like i fucked up though because...      anger   \n",
       "4  i still love my so and wish the best for him i...    sadness   \n",
       "\n",
       "                                    texto_processado  \n",
       "0  feel completely overwhelmed strategy help feel...  \n",
       "1                              feeling amuse delight  \n",
       "2  able help chai lifeline support encouragement ...  \n",
       "3             feel like fuck not usually eat morning  \n",
       "4  love wish good long tolerate effect bm life fa...  "
      ]
     },
     "execution_count": 26,
     "metadata": {},
     "output_type": "execute_result"
    }
   ],
   "source": [
    "# Amostra de dados\n",
    "dados_dsa_treino.head()"
   ]
  },
  {
   "cell_type": "markdown",
   "metadata": {
    "id": "89C7Nu5b_B8k"
   },
   "source": [
    "## Versão 1 do Modelo - Arquitetura Fully Connected Neural Network"
   ]
  },
  {
   "cell_type": "markdown",
   "metadata": {
    "id": "-nf4z0-P_B8k"
   },
   "source": [
    "### Passo1: Vetorização com TF-IDF"
   ]
  },
  {
   "cell_type": "code",
   "execution_count": 27,
   "metadata": {
    "id": "zSYgriUW_B8k"
   },
   "outputs": [],
   "source": [
    "# Cria o vetorizador\n",
    "dsa_tfidf = TfidfVectorizer(max_df = 0.95, min_df = 2, stop_words = 'english')"
   ]
  },
  {
   "cell_type": "markdown",
   "metadata": {
    "id": "9vPqYDeA_B8k"
   },
   "source": [
    "Esta linha acima cria uma instância do TfidfVectorizer da biblioteca scikit-learn, que é uma ferramenta utilizada para converter uma coleção de documentos brutos em uma matriz de recursos TF-IDF (Term Frequency-Inverse Document Frequency). O TF-IDF é uma técnica estatística usada para quantificar a importância de uma palavra em um conjunto de documentos, comumente utilizada em tarefas de processamento de linguagem natural e recuperação de informações.\n",
    "\n",
    "**Parâmetro max_df=0.95**: Este parâmetro define o limite máximo de frequência de documento para os termos que serão considerados. Aqui, está definido como 0.95, o que significa que palavras que aparecem em mais de 95% dos documentos serão ignoradas. Isso ajuda a eliminar palavras comuns que não contribuem muito para o significado do texto.\n",
    "\n",
    "**Parâmetro min_df=2**: Este parâmetro estabelece a frequência mínima de documento para os termos. Neste caso, termos que aparecem em menos de 2 documentos serão ignorados. Isso ajuda a filtrar termos raros que podem ocorrer apenas em poucas amostras e, portanto, são menos relevantes para a análise geral.\n",
    "\n",
    "**Parâmetro stop_words='english'**: Este parâmetro instrui o vetorizador a remover todas as palavras de parada em inglês da análise. Palavras de parada são palavras comuns (como \"e\", \"o\", \"em\") que geralmente são filtradas em processamento de linguagem natural porque são muito frequentes e não carregam informações significativas para a análise de texto."
   ]
  },
  {
   "cell_type": "code",
   "execution_count": 28,
   "metadata": {
    "id": "mXS9Zpw8_B8k"
   },
   "outputs": [],
   "source": [
    "# Aplica o vetorizador\n",
    "dados_treino_tfidf = dsa_tfidf.fit_transform(dados_dsa_treino['texto_processado'])\n",
    "dados_teste_tfidf = dsa_tfidf.transform(dados_dsa_teste['texto_processado'])"
   ]
  },
  {
   "cell_type": "code",
   "execution_count": 29,
   "metadata": {
    "colab": {
     "base_uri": "https://localhost:8080/"
    },
    "id": "wCxWLN3X_B8k",
    "outputId": "15326f8d-ff0e-4dba-b78f-1c4181e829f7"
   },
   "outputs": [
    {
     "data": {
      "text/plain": [
       "(16000, 5587)"
      ]
     },
     "execution_count": 29,
     "metadata": {},
     "output_type": "execute_result"
    }
   ],
   "source": [
    "dados_treino_tfidf.shape"
   ]
  },
  {
   "cell_type": "code",
   "execution_count": 30,
   "metadata": {
    "colab": {
     "base_uri": "https://localhost:8080/",
     "height": 187
    },
    "id": "9nxCwrS9_B8k",
    "outputId": "5c85fc67-ef7c-4495-879a-d194c2208670"
   },
   "outputs": [
    {
     "data": {
      "text/plain": [
       "scipy.sparse._csr.csr_matrix"
      ]
     },
     "execution_count": 30,
     "metadata": {},
     "output_type": "execute_result"
    }
   ],
   "source": [
    "type(dados_treino_tfidf)"
   ]
  },
  {
   "cell_type": "code",
   "execution_count": 31,
   "metadata": {
    "id": "1Pd3pjcX_B8l"
   },
   "outputs": [],
   "source": [
    "# Converte os dados de entrada (texto) para array\n",
    "X_treino_array = dados_treino_tfidf.toarray()\n",
    "X_teste_array = dados_teste_tfidf.toarray()"
   ]
  },
  {
   "cell_type": "markdown",
   "metadata": {
    "id": "O1pS96Ye_B8l"
   },
   "source": [
    "### Passo 2: Preparação dos Dados"
   ]
  },
  {
   "cell_type": "markdown",
   "metadata": {
    "id": "1bptWqnl_B8l"
   },
   "source": [
    "Precisamos agora converter a variável alvo para representação numérica. Usaremos Label Encoding."
   ]
  },
  {
   "cell_type": "code",
   "execution_count": 32,
   "metadata": {
    "id": "0gqhSQfZ_B8l"
   },
   "outputs": [],
   "source": [
    "# Cria o label encoder\n",
    "dsa_le_v1 = LabelEncoder()"
   ]
  },
  {
   "cell_type": "code",
   "execution_count": 33,
   "metadata": {
    "id": "XgeZucUD_B8l"
   },
   "outputs": [],
   "source": [
    "# Faz o fit e transform na variável alvo em treino\n",
    "y_treino_le = dsa_le_v1.fit_transform(dados_dsa_treino['sentimento'])"
   ]
  },
  {
   "cell_type": "code",
   "execution_count": 34,
   "metadata": {
    "id": "pAg9SmaA_B8l"
   },
   "outputs": [],
   "source": [
    "# Faz transform na variável alvo em teste\n",
    "y_teste_le = dsa_le_v1.transform(dados_dsa_teste['sentimento'])"
   ]
  },
  {
   "cell_type": "markdown",
   "metadata": {
    "id": "lsWglRJ-_B8l"
   },
   "source": [
    "Vamos tratar de forma automática o desbalanceamento de classe."
   ]
  },
  {
   "cell_type": "code",
   "execution_count": 35,
   "metadata": {
    "id": "NLYjH-p__B8q"
   },
   "outputs": [],
   "source": [
    "# Peso das classes\n",
    "pesos_classes = compute_class_weight('balanced', classes = np.unique(y_treino_le), y = y_treino_le)"
   ]
  },
  {
   "cell_type": "code",
   "execution_count": 36,
   "metadata": {
    "colab": {
     "base_uri": "https://localhost:8080/"
    },
    "id": "cT7EuDPZ_B8q",
    "outputId": "16eec486-0620-4a30-a658-eede2858f6f9"
   },
   "outputs": [
    {
     "data": {
      "text/plain": [
       "numpy.ndarray"
      ]
     },
     "execution_count": 36,
     "metadata": {},
     "output_type": "execute_result"
    }
   ],
   "source": [
    "type(pesos_classes)"
   ]
  },
  {
   "cell_type": "markdown",
   "metadata": {
    "id": "2yoBRF-F_B8q"
   },
   "source": [
    "**compute_class_weight**: Esta é uma função do scikit-learn que calcula os pesos para as classes. Esses pesos podem ser usados em modelos de classificação para dar mais importância a classes que são sub-representadas no conjunto de dados.\n",
    "\n",
    "**'balanced'**: Este parâmetro indica que os pesos das classes devem ser calculados de forma que equilibrem o conjunto de dados. Isso é feito inversamente proporcional à frequência das classes no conjunto de dados. Classes mais frequentes recebem um peso menor, enquanto classes menos frequentes recebem um peso maior.\n",
    "\n",
    "**classes = np.unique(y_treino_le)**: Aqui, np.unique(y_treino_le) encontra todas as classes únicas no conjunto de dados de treinamento. O parâmetro classes informa à função compute_class_weight quais são essas classes únicas.\n",
    "\n",
    "**y = y_treino_le**: Este é o vetor de rótulos do conjunto de dados de treinamento. A função usará esses rótulos para calcular a frequência de cada classe.\n",
    "\n",
    "O resultado, armazenado em pesos_classes, é um array onde cada classe tem um peso associado. Esses pesos podem ser usados em modelos de classificação (como uma árvore de decisão, um modelo de regressão logística, SVM, etc.) para compensar o desequilíbrio entre as classes."
   ]
  },
  {
   "cell_type": "code",
   "execution_count": 37,
   "metadata": {
    "id": "lBA6fUD__B8q"
   },
   "outputs": [],
   "source": [
    "# Divisão em Dados de Treino e Teste (validação)\n",
    "X_treino, X_val, y_treino, y_val = train_test_split(X_treino_array,\n",
    "                                                    y_treino_le,\n",
    "                                                    test_size = 0.2,\n",
    "                                                    random_state = 42,\n",
    "                                                    stratify = y_treino_le)"
   ]
  },
  {
   "cell_type": "code",
   "execution_count": 38,
   "metadata": {
    "id": "LHlKB5LN_B8q"
   },
   "outputs": [],
   "source": [
    "# Ajusta a variável alvo como tipo categórico\n",
    "y_treino_encoded = to_categorical(y_treino)\n",
    "y_teste_encoded = to_categorical(y_teste_le)\n",
    "y_val_encoded = to_categorical(y_val)"
   ]
  },
  {
   "cell_type": "code",
   "execution_count": 39,
   "metadata": {
    "colab": {
     "base_uri": "https://localhost:8080/"
    },
    "id": "bKjZhw4__B8r",
    "outputId": "9632e681-3d85-450d-9322-da4bc1f4fc0f"
   },
   "outputs": [
    {
     "data": {
      "text/plain": [
       "((12800, 6), (2000, 6), (3200, 6))"
      ]
     },
     "execution_count": 39,
     "metadata": {},
     "output_type": "execute_result"
    }
   ],
   "source": [
    "# Shape\n",
    "y_treino_encoded.shape, y_teste_encoded.shape, y_val_encoded.shape"
   ]
  },
  {
   "cell_type": "markdown",
   "metadata": {
    "id": "cFKx6KI1_B8r"
   },
   "source": [
    "### Passo 3:  Construção do Modelo"
   ]
  },
  {
   "cell_type": "code",
   "execution_count": 40,
   "metadata": {
    "id": "EfCTRUYy_B8r"
   },
   "outputs": [],
   "source": [
    "# Cria o modelo\n",
    "\n",
    "# Inicializa um modelo sequencial. Modelos sequenciais são uma pilha linear de camadas.\n",
    "modelo_dsa_v1 = Sequential()\n",
    "\n",
    "# Adiciona a primeira camada densa (fully-connected) ao modelo\n",
    "modelo_dsa_v1.add(Dense(4096,\n",
    "\n",
    "                        # Utiliza a função de ativação SELU (Scaled Exponential Linear Unit)\n",
    "                        activation = 'selu',\n",
    "\n",
    "                        # Inicializa os pesos com a distribuição LeCun normal\n",
    "                        kernel_initializer = 'lecun_normal',\n",
    "\n",
    "                        # Define o formato da entrada com base no número de features do X_treino\n",
    "                        input_shape = (X_treino.shape[1],),\n",
    "\n",
    "                        # Aplica regularização L2 para reduzir o overfitting\n",
    "                        kernel_regularizer = tf.keras.regularizers.l2(0.01)))\n",
    "\n",
    "# Adiciona a segunda camada densa\n",
    "modelo_dsa_v1.add(Dense(2048,\n",
    "                        activation = 'selu',\n",
    "                        kernel_initializer = 'lecun_normal',\n",
    "                        kernel_regularizer = tf.keras.regularizers.l2(0.01)))\n",
    "\n",
    "# Adiciona a terceira camada densa\n",
    "modelo_dsa_v1.add(Dense(1024,\n",
    "                        activation = 'selu',\n",
    "                        kernel_initializer = 'lecun_normal',\n",
    "                        kernel_regularizer = tf.keras.regularizers.l2(0.1)))\n",
    "\n",
    "# Adiciona a quarta camada densa\n",
    "# Camada com 64 neurônios e ativação SELU\n",
    "modelo_dsa_v1.add(Dense(64, activation = 'selu',))\n",
    "\n",
    "# Adiciona a camada de saída\n",
    "# Camada de saída com 6 neurônios e ativação softmax para classificação multiclasse\n",
    "modelo_dsa_v1.add(Dense(6, activation = 'softmax'))"
   ]
  },
  {
   "cell_type": "markdown",
   "metadata": {
    "id": "u0zEy5qy_B8r"
   },
   "source": [
    "### Passo 4:  Compilação e Sumário do Modelo"
   ]
  },
  {
   "cell_type": "code",
   "execution_count": 41,
   "metadata": {
    "colab": {
     "base_uri": "https://localhost:8080/"
    },
    "id": "rFdTO8jw_B8r",
    "outputId": "8234de33-3734-4346-e84a-28db00684460"
   },
   "outputs": [
    {
     "data": {
      "text/plain": [
       "<tf.Tensor: shape=(6,), dtype=float32, numpy=\n",
       "array([1.2351397 , 1.3766993 , 0.49732688, 2.0449898 , 0.5715102 ,\n",
       "       4.6620045 ], dtype=float32)>"
      ]
     },
     "execution_count": 41,
     "metadata": {},
     "output_type": "execute_result"
    }
   ],
   "source": [
    "# Atribui pesos específicos ao vetor de bias da última camada do modelo\n",
    "modelo_dsa_v1.layers[-1].bias.assign(pesos_classes)"
   ]
  },
  {
   "cell_type": "code",
   "execution_count": 42,
   "metadata": {
    "id": "-tSDsCV9_B8r"
   },
   "outputs": [],
   "source": [
    "# Compila o modelo\n",
    "# Define o otimizador como 'Adam'.\n",
    "# Adam é um algoritmo de otimização que pode ser usado no lugar do procedimento clássico de descida\n",
    "# do gradiente estocástica para atualizar os pesos da rede iterativamente com base nos dados de treinamento.\n",
    "# Define a função de perda como 'categorical_crossentropy'. É adequada para problemas de classificação\n",
    "# multiclasse, onde os rótulos são fornecidos em um formato one-hot encoded.\n",
    "# Define a métrica de avaliação do modelo como 'accuracy' (acurácia).\n",
    "# A acurácia é uma métrica comum para avaliar o desempenho de modelos de classificação.\n",
    "modelo_dsa_v1.compile(optimizer = 'Adam',\n",
    "                      loss = tf.losses.categorical_crossentropy,\n",
    "                      metrics = ['accuracy', Precision(), Recall(), AUC()])"
   ]
  },
  {
   "cell_type": "code",
   "execution_count": 43,
   "metadata": {
    "colab": {
     "base_uri": "https://localhost:8080/",
     "height": 298
    },
    "id": "kWyECLkR_B8s",
    "outputId": "dc22fc86-5831-4666-a10a-3582c54bcb8a"
   },
   "outputs": [
    {
     "data": {
      "text/html": [
       "<pre style=\"white-space:pre;overflow-x:auto;line-height:normal;font-family:Menlo,'DejaVu Sans Mono',consolas,'Courier New',monospace\"><span style=\"font-weight: bold\">Model: \"sequential\"</span>\n",
       "</pre>\n"
      ],
      "text/plain": [
       "\u001b[1mModel: \"sequential\"\u001b[0m\n"
      ]
     },
     "metadata": {},
     "output_type": "display_data"
    },
    {
     "data": {
      "text/html": [
       "<pre style=\"white-space:pre;overflow-x:auto;line-height:normal;font-family:Menlo,'DejaVu Sans Mono',consolas,'Courier New',monospace\">┏━━━━━━━━━━━━━━━━━━━━━━━━━━━━━━━━━┳━━━━━━━━━━━━━━━━━━━━━━━━┳━━━━━━━━━━━━━━━┓\n",
       "┃<span style=\"font-weight: bold\"> Layer (type)                    </span>┃<span style=\"font-weight: bold\"> Output Shape           </span>┃<span style=\"font-weight: bold\">       Param # </span>┃\n",
       "┡━━━━━━━━━━━━━━━━━━━━━━━━━━━━━━━━━╇━━━━━━━━━━━━━━━━━━━━━━━━╇━━━━━━━━━━━━━━━┩\n",
       "│ dense (<span style=\"color: #0087ff; text-decoration-color: #0087ff\">Dense</span>)                   │ (<span style=\"color: #00d7ff; text-decoration-color: #00d7ff\">None</span>, <span style=\"color: #00af00; text-decoration-color: #00af00\">4096</span>)           │    <span style=\"color: #00af00; text-decoration-color: #00af00\">22,888,448</span> │\n",
       "├─────────────────────────────────┼────────────────────────┼───────────────┤\n",
       "│ dense_1 (<span style=\"color: #0087ff; text-decoration-color: #0087ff\">Dense</span>)                 │ (<span style=\"color: #00d7ff; text-decoration-color: #00d7ff\">None</span>, <span style=\"color: #00af00; text-decoration-color: #00af00\">2048</span>)           │     <span style=\"color: #00af00; text-decoration-color: #00af00\">8,390,656</span> │\n",
       "├─────────────────────────────────┼────────────────────────┼───────────────┤\n",
       "│ dense_2 (<span style=\"color: #0087ff; text-decoration-color: #0087ff\">Dense</span>)                 │ (<span style=\"color: #00d7ff; text-decoration-color: #00d7ff\">None</span>, <span style=\"color: #00af00; text-decoration-color: #00af00\">1024</span>)           │     <span style=\"color: #00af00; text-decoration-color: #00af00\">2,098,176</span> │\n",
       "├─────────────────────────────────┼────────────────────────┼───────────────┤\n",
       "│ dense_3 (<span style=\"color: #0087ff; text-decoration-color: #0087ff\">Dense</span>)                 │ (<span style=\"color: #00d7ff; text-decoration-color: #00d7ff\">None</span>, <span style=\"color: #00af00; text-decoration-color: #00af00\">64</span>)             │        <span style=\"color: #00af00; text-decoration-color: #00af00\">65,600</span> │\n",
       "├─────────────────────────────────┼────────────────────────┼───────────────┤\n",
       "│ dense_4 (<span style=\"color: #0087ff; text-decoration-color: #0087ff\">Dense</span>)                 │ (<span style=\"color: #00d7ff; text-decoration-color: #00d7ff\">None</span>, <span style=\"color: #00af00; text-decoration-color: #00af00\">6</span>)              │           <span style=\"color: #00af00; text-decoration-color: #00af00\">390</span> │\n",
       "└─────────────────────────────────┴────────────────────────┴───────────────┘\n",
       "</pre>\n"
      ],
      "text/plain": [
       "┏━━━━━━━━━━━━━━━━━━━━━━━━━━━━━━━━━┳━━━━━━━━━━━━━━━━━━━━━━━━┳━━━━━━━━━━━━━━━┓\n",
       "┃\u001b[1m \u001b[0m\u001b[1mLayer (type)                   \u001b[0m\u001b[1m \u001b[0m┃\u001b[1m \u001b[0m\u001b[1mOutput Shape          \u001b[0m\u001b[1m \u001b[0m┃\u001b[1m \u001b[0m\u001b[1m      Param #\u001b[0m\u001b[1m \u001b[0m┃\n",
       "┡━━━━━━━━━━━━━━━━━━━━━━━━━━━━━━━━━╇━━━━━━━━━━━━━━━━━━━━━━━━╇━━━━━━━━━━━━━━━┩\n",
       "│ dense (\u001b[38;5;33mDense\u001b[0m)                   │ (\u001b[38;5;45mNone\u001b[0m, \u001b[38;5;34m4096\u001b[0m)           │    \u001b[38;5;34m22,888,448\u001b[0m │\n",
       "├─────────────────────────────────┼────────────────────────┼───────────────┤\n",
       "│ dense_1 (\u001b[38;5;33mDense\u001b[0m)                 │ (\u001b[38;5;45mNone\u001b[0m, \u001b[38;5;34m2048\u001b[0m)           │     \u001b[38;5;34m8,390,656\u001b[0m │\n",
       "├─────────────────────────────────┼────────────────────────┼───────────────┤\n",
       "│ dense_2 (\u001b[38;5;33mDense\u001b[0m)                 │ (\u001b[38;5;45mNone\u001b[0m, \u001b[38;5;34m1024\u001b[0m)           │     \u001b[38;5;34m2,098,176\u001b[0m │\n",
       "├─────────────────────────────────┼────────────────────────┼───────────────┤\n",
       "│ dense_3 (\u001b[38;5;33mDense\u001b[0m)                 │ (\u001b[38;5;45mNone\u001b[0m, \u001b[38;5;34m64\u001b[0m)             │        \u001b[38;5;34m65,600\u001b[0m │\n",
       "├─────────────────────────────────┼────────────────────────┼───────────────┤\n",
       "│ dense_4 (\u001b[38;5;33mDense\u001b[0m)                 │ (\u001b[38;5;45mNone\u001b[0m, \u001b[38;5;34m6\u001b[0m)              │           \u001b[38;5;34m390\u001b[0m │\n",
       "└─────────────────────────────────┴────────────────────────┴───────────────┘\n"
      ]
     },
     "metadata": {},
     "output_type": "display_data"
    },
    {
     "data": {
      "text/html": [
       "<pre style=\"white-space:pre;overflow-x:auto;line-height:normal;font-family:Menlo,'DejaVu Sans Mono',consolas,'Courier New',monospace\"><span style=\"font-weight: bold\"> Total params: </span><span style=\"color: #00af00; text-decoration-color: #00af00\">33,443,270</span> (127.58 MB)\n",
       "</pre>\n"
      ],
      "text/plain": [
       "\u001b[1m Total params: \u001b[0m\u001b[38;5;34m33,443,270\u001b[0m (127.58 MB)\n"
      ]
     },
     "metadata": {},
     "output_type": "display_data"
    },
    {
     "data": {
      "text/html": [
       "<pre style=\"white-space:pre;overflow-x:auto;line-height:normal;font-family:Menlo,'DejaVu Sans Mono',consolas,'Courier New',monospace\"><span style=\"font-weight: bold\"> Trainable params: </span><span style=\"color: #00af00; text-decoration-color: #00af00\">33,443,270</span> (127.58 MB)\n",
       "</pre>\n"
      ],
      "text/plain": [
       "\u001b[1m Trainable params: \u001b[0m\u001b[38;5;34m33,443,270\u001b[0m (127.58 MB)\n"
      ]
     },
     "metadata": {},
     "output_type": "display_data"
    },
    {
     "data": {
      "text/html": [
       "<pre style=\"white-space:pre;overflow-x:auto;line-height:normal;font-family:Menlo,'DejaVu Sans Mono',consolas,'Courier New',monospace\"><span style=\"font-weight: bold\"> Non-trainable params: </span><span style=\"color: #00af00; text-decoration-color: #00af00\">0</span> (0.00 B)\n",
       "</pre>\n"
      ],
      "text/plain": [
       "\u001b[1m Non-trainable params: \u001b[0m\u001b[38;5;34m0\u001b[0m (0.00 B)\n"
      ]
     },
     "metadata": {},
     "output_type": "display_data"
    }
   ],
   "source": [
    "modelo_dsa_v1.summary()"
   ]
  },
  {
   "cell_type": "markdown",
   "metadata": {
    "id": "m_j16qFX_B8s"
   },
   "source": [
    "### Passo 5:  Callbacks e Early Stopping"
   ]
  },
  {
   "cell_type": "code",
   "execution_count": 44,
   "metadata": {
    "id": "WUcREhSf_B8s"
   },
   "outputs": [],
   "source": [
    "# Função para os parâmetros de scheduler da taxa de aprendizado\n",
    "def step_decay(epoch):\n",
    "    initial_lrate = 0.001\n",
    "    drop = 0.5\n",
    "    epochs_drop = 10.0\n",
    "    lrate = initial_lrate * math.pow(drop, math.floor((1 + epoch) / epochs_drop))\n",
    "    return lrate"
   ]
  },
  {
   "cell_type": "code",
   "execution_count": 45,
   "metadata": {
    "id": "S-hf_dDs_B8s"
   },
   "outputs": [],
   "source": [
    "# Scheduler da taxa de aprendizado\n",
    "lr_scheduler = LearningRateScheduler(step_decay)"
   ]
  },
  {
   "cell_type": "code",
   "execution_count": 46,
   "metadata": {
    "id": "1yXOjM6s_B8s"
   },
   "outputs": [],
   "source": [
    "# Early Stopping\n",
    "early_stopping = EarlyStopping(monitor = 'val_loss', restore_best_weights = True, patience = 3)"
   ]
  },
  {
   "cell_type": "markdown",
   "metadata": {
    "id": "3QIyqFqV_B8s"
   },
   "source": [
    "### Passo 6:  Treinamento do Modelo"
   ]
  },
  {
   "cell_type": "code",
   "execution_count": 47,
   "metadata": {
    "id": "nmwKTxzk_B8t"
   },
   "outputs": [],
   "source": [
    "# Hiperparâmetros\n",
    "num_epochs = 20\n",
    "tamanho_batch = 256"
   ]
  },
  {
   "cell_type": "markdown",
   "metadata": {
    "id": "7m-TQxZU_B8t"
   },
   "source": [
    "Treinamento do modelo."
   ]
  },
  {
   "cell_type": "code",
   "execution_count": 48,
   "metadata": {
    "colab": {
     "base_uri": "https://localhost:8080/"
    },
    "id": "rDA9sT3O_B8t",
    "outputId": "54ccf679-e3b0-4e25-f794-19c7e8c82094"
   },
   "outputs": [
    {
     "name": "stdout",
     "output_type": "stream",
     "text": [
      "Epoch 1/20\n",
      "\u001b[1m50/50\u001b[0m \u001b[32m━━━━━━━━━━━━━━━━━━━━\u001b[0m\u001b[37m\u001b[0m \u001b[1m5s\u001b[0m 87ms/step - accuracy: 0.4936 - auc: 0.7685 - loss: 77.7632 - precision: 0.6318 - recall: 0.2671 - val_accuracy: 0.7897 - val_auc: 0.9632 - val_loss: 2.2629 - val_precision: 0.8626 - val_recall: 0.6691 - learning_rate: 0.0010\n",
      "Epoch 2/20\n",
      "\u001b[1m50/50\u001b[0m \u001b[32m━━━━━━━━━━━━━━━━━━━━\u001b[0m\u001b[37m\u001b[0m \u001b[1m4s\u001b[0m 84ms/step - accuracy: 0.8166 - auc: 0.9705 - loss: 1.6958 - precision: 0.8838 - recall: 0.7184 - val_accuracy: 0.8091 - val_auc: 0.9686 - val_loss: 1.3448 - val_precision: 0.8655 - val_recall: 0.7237 - learning_rate: 0.0010\n",
      "Epoch 3/20\n",
      "\u001b[1m50/50\u001b[0m \u001b[32m━━━━━━━━━━━━━━━━━━━━\u001b[0m\u001b[37m\u001b[0m \u001b[1m4s\u001b[0m 83ms/step - accuracy: 0.8421 - auc: 0.9785 - loss: 1.1996 - precision: 0.9030 - recall: 0.7788 - val_accuracy: 0.8144 - val_auc: 0.9691 - val_loss: 1.2274 - val_precision: 0.8726 - val_recall: 0.7297 - learning_rate: 0.0010\n",
      "Epoch 4/20\n",
      "\u001b[1m50/50\u001b[0m \u001b[32m━━━━━━━━━━━━━━━━━━━━\u001b[0m\u001b[37m\u001b[0m \u001b[1m4s\u001b[0m 83ms/step - accuracy: 0.8721 - auc: 0.9837 - loss: 1.0482 - precision: 0.9103 - recall: 0.8167 - val_accuracy: 0.8125 - val_auc: 0.9727 - val_loss: 1.1187 - val_precision: 0.8618 - val_recall: 0.7622 - learning_rate: 0.0010\n",
      "Epoch 5/20\n",
      "\u001b[1m50/50\u001b[0m \u001b[32m━━━━━━━━━━━━━━━━━━━━\u001b[0m\u001b[37m\u001b[0m \u001b[1m4s\u001b[0m 84ms/step - accuracy: 0.8904 - auc: 0.9890 - loss: 0.9285 - precision: 0.9221 - recall: 0.8520 - val_accuracy: 0.8303 - val_auc: 0.9745 - val_loss: 1.1012 - val_precision: 0.8747 - val_recall: 0.7872 - learning_rate: 0.0010\n",
      "Epoch 6/20\n",
      "\u001b[1m50/50\u001b[0m \u001b[32m━━━━━━━━━━━━━━━━━━━━\u001b[0m\u001b[37m\u001b[0m \u001b[1m4s\u001b[0m 84ms/step - accuracy: 0.9084 - auc: 0.9910 - loss: 0.8951 - precision: 0.9295 - recall: 0.8760 - val_accuracy: 0.8256 - val_auc: 0.9753 - val_loss: 1.0573 - val_precision: 0.8550 - val_recall: 0.7981 - learning_rate: 0.0010\n",
      "Epoch 7/20\n",
      "\u001b[1m50/50\u001b[0m \u001b[32m━━━━━━━━━━━━━━━━━━━━\u001b[0m\u001b[37m\u001b[0m \u001b[1m4s\u001b[0m 85ms/step - accuracy: 0.9205 - auc: 0.9936 - loss: 0.8089 - precision: 0.9377 - recall: 0.8968 - val_accuracy: 0.8378 - val_auc: 0.9774 - val_loss: 1.0381 - val_precision: 0.8729 - val_recall: 0.8047 - learning_rate: 0.0010\n",
      "Epoch 8/20\n",
      "\u001b[1m50/50\u001b[0m \u001b[32m━━━━━━━━━━━━━━━━━━━━\u001b[0m\u001b[37m\u001b[0m \u001b[1m4s\u001b[0m 85ms/step - accuracy: 0.9327 - auc: 0.9946 - loss: 0.7730 - precision: 0.9478 - recall: 0.9129 - val_accuracy: 0.8459 - val_auc: 0.9768 - val_loss: 1.0646 - val_precision: 0.8738 - val_recall: 0.8047 - learning_rate: 0.0010\n",
      "Epoch 9/20\n",
      "\u001b[1m50/50\u001b[0m \u001b[32m━━━━━━━━━━━━━━━━━━━━\u001b[0m\u001b[37m\u001b[0m \u001b[1m4s\u001b[0m 84ms/step - accuracy: 0.9335 - auc: 0.9953 - loss: 0.7821 - precision: 0.9481 - recall: 0.9159 - val_accuracy: 0.8409 - val_auc: 0.9745 - val_loss: 1.1155 - val_precision: 0.8606 - val_recall: 0.8103 - learning_rate: 0.0010\n",
      "Epoch 10/20\n",
      "\u001b[1m50/50\u001b[0m \u001b[32m━━━━━━━━━━━━━━━━━━━━\u001b[0m\u001b[37m\u001b[0m \u001b[1m4s\u001b[0m 85ms/step - accuracy: 0.9558 - auc: 0.9971 - loss: 0.7015 - precision: 0.9640 - recall: 0.9443 - val_accuracy: 0.8441 - val_auc: 0.9779 - val_loss: 0.7968 - val_precision: 0.8667 - val_recall: 0.8147 - learning_rate: 5.0000e-04\n",
      "Epoch 11/20\n",
      "\u001b[1m50/50\u001b[0m \u001b[32m━━━━━━━━━━━━━━━━━━━━\u001b[0m\u001b[37m\u001b[0m \u001b[1m4s\u001b[0m 85ms/step - accuracy: 0.9711 - auc: 0.9983 - loss: 0.4679 - precision: 0.9756 - recall: 0.9634 - val_accuracy: 0.8456 - val_auc: 0.9785 - val_loss: 0.7537 - val_precision: 0.8686 - val_recall: 0.8219 - learning_rate: 5.0000e-04\n",
      "Epoch 12/20\n",
      "\u001b[1m50/50\u001b[0m \u001b[32m━━━━━━━━━━━━━━━━━━━━\u001b[0m\u001b[37m\u001b[0m \u001b[1m4s\u001b[0m 85ms/step - accuracy: 0.9741 - auc: 0.9987 - loss: 0.4319 - precision: 0.9783 - recall: 0.9685 - val_accuracy: 0.8466 - val_auc: 0.9782 - val_loss: 0.7497 - val_precision: 0.8680 - val_recall: 0.8219 - learning_rate: 5.0000e-04\n",
      "Epoch 13/20\n",
      "\u001b[1m50/50\u001b[0m \u001b[32m━━━━━━━━━━━━━━━━━━━━\u001b[0m\u001b[37m\u001b[0m \u001b[1m4s\u001b[0m 85ms/step - accuracy: 0.9747 - auc: 0.9990 - loss: 0.4224 - precision: 0.9790 - recall: 0.9689 - val_accuracy: 0.8375 - val_auc: 0.9767 - val_loss: 0.7724 - val_precision: 0.8572 - val_recall: 0.8159 - learning_rate: 5.0000e-04\n",
      "Epoch 14/20\n",
      "\u001b[1m50/50\u001b[0m \u001b[32m━━━━━━━━━━━━━━━━━━━━\u001b[0m\u001b[37m\u001b[0m \u001b[1m4s\u001b[0m 84ms/step - accuracy: 0.9767 - auc: 0.9989 - loss: 0.4269 - precision: 0.9804 - recall: 0.9701 - val_accuracy: 0.8291 - val_auc: 0.9737 - val_loss: 0.7961 - val_precision: 0.8508 - val_recall: 0.8075 - learning_rate: 5.0000e-04\n",
      "Epoch 15/20\n",
      "\u001b[1m50/50\u001b[0m \u001b[32m━━━━━━━━━━━━━━━━━━━━\u001b[0m\u001b[37m\u001b[0m \u001b[1m4s\u001b[0m 84ms/step - accuracy: 0.9727 - auc: 0.9986 - loss: 0.4212 - precision: 0.9772 - recall: 0.9668 - val_accuracy: 0.8428 - val_auc: 0.9765 - val_loss: 0.7550 - val_precision: 0.8609 - val_recall: 0.8222 - learning_rate: 5.0000e-04\n",
      "CPU times: user 8min 53s, sys: 2min 30s, total: 11min 23s\n",
      "Wall time: 1min 4s\n"
     ]
    }
   ],
   "source": [
    "%%time\n",
    "history = modelo_dsa_v1.fit(X_treino,\n",
    "                            y_treino_encoded,\n",
    "                            validation_data = (X_val, y_val_encoded),\n",
    "                            epochs = num_epochs,\n",
    "                            batch_size = tamanho_batch,\n",
    "                            callbacks = [early_stopping, lr_scheduler])"
   ]
  },
  {
   "cell_type": "markdown",
   "metadata": {
    "id": "NDN8mfgs_B8t"
   },
   "source": [
    "### Passo 7:  Avaliação do Modelo"
   ]
  },
  {
   "cell_type": "code",
   "execution_count": 49,
   "metadata": {
    "id": "pA2FkW5Z_B8t"
   },
   "outputs": [],
   "source": [
    "# Extrai o erro em treino e validação\n",
    "loss, val_loss = history.history['loss'], history.history['val_loss']"
   ]
  },
  {
   "cell_type": "code",
   "execution_count": 50,
   "metadata": {
    "colab": {
     "base_uri": "https://localhost:8080/",
     "height": 430
    },
    "id": "oiqOam3F_B8t",
    "outputId": "71d91d06-f52e-42a1-98d6-5f46f2a003e3"
   },
   "outputs": [
    {
     "data": {
      "image/png": "[encoded data removed]",
      "text/plain": [
       "<Figure size 640x480 with 1 Axes>"
      ]
     },
     "metadata": {},
     "output_type": "display_data"
    }
   ],
   "source": [
    "# Plot\n",
    "plt.plot(loss, label = 'loss')\n",
    "plt.plot(val_loss, label = 'val_loss')\n",
    "plt.legend()\n",
    "plt.show()"
   ]
  },
  {
   "cell_type": "code",
   "execution_count": 51,
   "metadata": {
    "colab": {
     "base_uri": "https://localhost:8080/"
    },
    "id": "BWB9523v_B8t",
    "outputId": "d5fbfb22-d585-4b5c-c22e-efeadfdfc552"
   },
   "outputs": [
    {
     "name": "stdout",
     "output_type": "stream",
     "text": [
      "\u001b[1m63/63\u001b[0m \u001b[32m━━━━━━━━━━━━━━━━━━━━\u001b[0m\u001b[37m\u001b[0m \u001b[1m0s\u001b[0m 6ms/step\n"
     ]
    }
   ],
   "source": [
    "# Previsões com dados de teste\n",
    "previsoes_v1 = modelo_dsa_v1.predict(X_teste_array)"
   ]
  },
  {
   "cell_type": "code",
   "execution_count": 52,
   "metadata": {
    "id": "l7wrUFAs_B8u"
   },
   "outputs": [],
   "source": [
    "# Extrai os labels\n",
    "previsoes_v1_labels = previsoes_v1.argmax(axis = 1)"
   ]
  },
  {
   "cell_type": "code",
   "execution_count": 53,
   "metadata": {
    "colab": {
     "base_uri": "https://localhost:8080/"
    },
    "id": "FFtiXl1T_B8u",
    "outputId": "94d53e54-e91b-4050-fbc5-ba432d00c3d6"
   },
   "outputs": [
    {
     "name": "stdout",
     "output_type": "stream",
     "text": [
      "              precision    recall  f1-score   support\n",
      "\n",
      "           0       0.86      0.80      0.83       275\n",
      "           1       0.74      0.88      0.80       224\n",
      "           2       0.88      0.90      0.89       695\n",
      "           3       0.72      0.70      0.71       159\n",
      "           4       0.91      0.86      0.88       581\n",
      "           5       0.77      0.67      0.72        66\n",
      "\n",
      "    accuracy                           0.85      2000\n",
      "   macro avg       0.81      0.80      0.81      2000\n",
      "weighted avg       0.85      0.85      0.85      2000\n",
      "\n"
     ]
    }
   ],
   "source": [
    "print(classification_report(y_teste_le, previsoes_v1_labels))"
   ]
  },
  {
   "cell_type": "code",
   "execution_count": 54,
   "metadata": {
    "colab": {
     "base_uri": "https://localhost:8080/"
    },
    "id": "irA-OZkk_B8u",
    "outputId": "217f458b-320e-4d45-c910-98f75c9071c3"
   },
   "outputs": [
    {
     "name": "stdout",
     "output_type": "stream",
     "text": [
      "[[220  22   8   3  22   0]\n",
      " [  6 198   5   0   7   8]\n",
      " [  6   8 626  37  14   4]\n",
      " [  3   2  34 112   7   1]\n",
      " [ 20  27  30   4 500   0]\n",
      " [  2  11   8   0   1  44]]\n"
     ]
    }
   ],
   "source": [
    "print(confusion_matrix(y_teste_le, previsoes_v1_labels))"
   ]
  },
  {
   "cell_type": "code",
   "execution_count": 55,
   "metadata": {
    "colab": {
     "base_uri": "https://localhost:8080/"
    },
    "id": "wFJMJfzX_B8u",
    "outputId": "17631f3e-478a-4d6d-87fa-e6f7448ff3ce"
   },
   "outputs": [
    {
     "name": "stdout",
     "output_type": "stream",
     "text": [
      "0.85\n"
     ]
    }
   ],
   "source": [
    "print(accuracy_score(y_teste_le, previsoes_v1_labels))"
   ]
  },
  {
   "cell_type": "code",
   "execution_count": 56,
   "metadata": {
    "id": "A5m0h6Vr_B8u"
   },
   "outputs": [],
   "source": [
    "# Salva o modelo\n",
    "modelo_dsa_v1.save('modelo_dsa_v1.keras')"
   ]
  },
  {
   "cell_type": "markdown",
   "metadata": {
    "id": "8gFwDU9B_B8u"
   },
   "source": [
    "### Passo 8:  Deploy da Versão 1 do Modelo"
   ]
  },
  {
   "cell_type": "code",
   "execution_count": 57,
   "metadata": {
    "id": "QFJHqqgZ_B8u"
   },
   "outputs": [],
   "source": [
    "# Carrega o modelo\n",
    "modelo_carregado = load_model('modelo_dsa_v1.keras')"
   ]
  },
  {
   "cell_type": "code",
   "execution_count": 58,
   "metadata": {
    "id": "RIiMbRcP_B8v"
   },
   "outputs": [],
   "source": [
    "# Nova frase (sentimento = medo (fear))\n",
    "frase = \"i even feel a little shaky\""
   ]
  },
  {
   "cell_type": "code",
   "execution_count": 59,
   "metadata": {
    "id": "kwZ9ssgq_B8v"
   },
   "outputs": [],
   "source": [
    "# Cria um dataframe com a frase\n",
    "df_novo = pd.DataFrame({'Frase': [frase]})"
   ]
  },
  {
   "cell_type": "code",
   "execution_count": 60,
   "metadata": {
    "id": "-H3FhJQY_B8v"
   },
   "outputs": [],
   "source": [
    "# Aplica a função de processamento\n",
    "df_novo['Frase_Processada'] = df_novo['Frase'].apply(dsa_preprocessa_texto)"
   ]
  },
  {
   "cell_type": "code",
   "execution_count": 61,
   "metadata": {
    "colab": {
     "base_uri": "https://localhost:8080/",
     "height": 89
    },
    "id": "sBc-b0PF_B8v",
    "outputId": "44cc32cd-d2c7-4b9b-8e76-acb8c33bf4b1"
   },
   "outputs": [
    {
     "data": {
      "text/html": [
       "<div>\n",
       "<style scoped>\n",
       "    .dataframe tbody tr th:only-of-type {\n",
       "        vertical-align: middle;\n",
       "    }\n",
       "\n",
       "    .dataframe tbody tr th {\n",
       "        vertical-align: top;\n",
       "    }\n",
       "\n",
       "    .dataframe thead th {\n",
       "        text-align: right;\n",
       "    }\n",
       "</style>\n",
       "<table border=\"1\" class=\"dataframe\">\n",
       "  <thead>\n",
       "    <tr style=\"text-align: right;\">\n",
       "      <th></th>\n",
       "      <th>Frase</th>\n",
       "      <th>Frase_Processada</th>\n",
       "    </tr>\n",
       "  </thead>\n",
       "  <tbody>\n",
       "    <tr>\n",
       "      <th>0</th>\n",
       "      <td>i even feel a little shaky</td>\n",
       "      <td>feel little shaky</td>\n",
       "    </tr>\n",
       "  </tbody>\n",
       "</table>\n",
       "</div>"
      ],
      "text/plain": [
       "                        Frase   Frase_Processada\n",
       "0  i even feel a little shaky  feel little shaky"
      ]
     },
     "execution_count": 61,
     "metadata": {},
     "output_type": "execute_result"
    }
   ],
   "source": [
    "df_novo"
   ]
  },
  {
   "cell_type": "code",
   "execution_count": 62,
   "metadata": {
    "id": "DBSl1uIe_B8v"
   },
   "outputs": [],
   "source": [
    "# Aplica a vetorização\n",
    "df_novo_tfidf = dsa_tfidf.transform(df_novo['Frase_Processada'])"
   ]
  },
  {
   "cell_type": "code",
   "execution_count": 63,
   "metadata": {
    "id": "Obf4wS_d_B8v"
   },
   "outputs": [],
   "source": [
    "# Transforma em array\n",
    "df_novo_array = df_novo_tfidf.toarray()"
   ]
  },
  {
   "cell_type": "code",
   "execution_count": 64,
   "metadata": {
    "colab": {
     "base_uri": "https://localhost:8080/"
    },
    "id": "aKQuAQrd_B8v",
    "outputId": "de2fef9d-e6f3-4fa8-a715-0c0fa0077631"
   },
   "outputs": [
    {
     "name": "stdout",
     "output_type": "stream",
     "text": [
      "\u001b[1m1/1\u001b[0m \u001b[32m━━━━━━━━━━━━━━━━━━━━\u001b[0m\u001b[37m\u001b[0m \u001b[1m0s\u001b[0m 23ms/step\n"
     ]
    }
   ],
   "source": [
    "# Previsões\n",
    "previsoes = modelo_carregado.predict(df_novo_array)"
   ]
  },
  {
   "cell_type": "code",
   "execution_count": 65,
   "metadata": {
    "colab": {
     "base_uri": "https://localhost:8080/"
    },
    "id": "dwvNFOSz_B8w",
    "outputId": "daac1d15-88a9-473a-83c5-fdf450be14fe"
   },
   "outputs": [
    {
     "data": {
      "text/plain": [
       "array([[4.4243778e-05, 9.9911934e-01, 2.7936380e-04, 1.4233536e-08,\n",
       "        8.0804341e-05, 4.7623465e-04]], dtype=float32)"
      ]
     },
     "execution_count": 65,
     "metadata": {},
     "output_type": "execute_result"
    }
   ],
   "source": [
    "previsoes"
   ]
  },
  {
   "cell_type": "code",
   "execution_count": 66,
   "metadata": {
    "id": "dv92ZHir_B8w"
   },
   "outputs": [],
   "source": [
    "# Seleciona a classe com maior probabilidade\n",
    "classe_maior_prob = np.argmax(previsoes, axis = 1)"
   ]
  },
  {
   "cell_type": "code",
   "execution_count": 67,
   "metadata": {
    "colab": {
     "base_uri": "https://localhost:8080/"
    },
    "id": "0jjohMDa_B8w",
    "outputId": "7eb7cb14-92e2-483d-ffa2-4098ae11653f"
   },
   "outputs": [
    {
     "data": {
      "text/plain": [
       "array([1])"
      ]
     },
     "execution_count": 67,
     "metadata": {},
     "output_type": "execute_result"
    }
   ],
   "source": [
    "classe_maior_prob"
   ]
  },
  {
   "cell_type": "code",
   "execution_count": 68,
   "metadata": {
    "id": "_Tq4I_Lr_B8w"
   },
   "outputs": [],
   "source": [
    "# Obtém o nome da classe\n",
    "nome_classe = dsa_le_v1.inverse_transform(classe_maior_prob)"
   ]
  },
  {
   "cell_type": "code",
   "execution_count": 69,
   "metadata": {
    "colab": {
     "base_uri": "https://localhost:8080/"
    },
    "id": "3nEiv8cJ_B8w",
    "outputId": "9d6983e2-f9c7-4ac0-9541-6a63f6d6fa34"
   },
   "outputs": [
    {
     "data": {
      "text/plain": [
       "array(['fear'], dtype=object)"
      ]
     },
     "execution_count": 69,
     "metadata": {},
     "output_type": "execute_result"
    }
   ],
   "source": [
    "# Classe prevista\n",
    "nome_classe"
   ]
  },
  {
   "cell_type": "markdown",
   "metadata": {
    "id": "nVMz5a3p_B8w"
   },
   "source": [
    "## Versão 2 do Modelo - LSTM (Long Short-Term Memory)\n",
    "\n",
    "Usaremos os dados processados com SpaCy e então faremos o processamento específico para o modelo LSTM, assim como fizemos com o modelo da versão 1."
   ]
  },
  {
   "cell_type": "code",
   "execution_count": 70,
   "metadata": {
    "colab": {
     "base_uri": "https://localhost:8080/",
     "height": 206
    },
    "id": "-YITMldP_B8w",
    "outputId": "f7995abd-902a-414e-dc1f-32603d11529e"
   },
   "outputs": [
    {
     "data": {
      "text/html": [
       "<div>\n",
       "<style scoped>\n",
       "    .dataframe tbody tr th:only-of-type {\n",
       "        vertical-align: middle;\n",
       "    }\n",
       "\n",
       "    .dataframe tbody tr th {\n",
       "        vertical-align: top;\n",
       "    }\n",
       "\n",
       "    .dataframe thead th {\n",
       "        text-align: right;\n",
       "    }\n",
       "</style>\n",
       "<table border=\"1\" class=\"dataframe\">\n",
       "  <thead>\n",
       "    <tr style=\"text-align: right;\">\n",
       "      <th></th>\n",
       "      <th>texto</th>\n",
       "      <th>sentimento</th>\n",
       "      <th>texto_processado</th>\n",
       "    </tr>\n",
       "  </thead>\n",
       "  <tbody>\n",
       "    <tr>\n",
       "      <th>0</th>\n",
       "      <td>i am feeling completely overwhelmed i have two...</td>\n",
       "      <td>fear</td>\n",
       "      <td>feel completely overwhelmed strategy help feel...</td>\n",
       "    </tr>\n",
       "    <tr>\n",
       "      <th>1</th>\n",
       "      <td>i have the feeling she was amused and delighted</td>\n",
       "      <td>joy</td>\n",
       "      <td>feeling amuse delight</td>\n",
       "    </tr>\n",
       "    <tr>\n",
       "      <th>2</th>\n",
       "      <td>i was able to help chai lifeline with your sup...</td>\n",
       "      <td>joy</td>\n",
       "      <td>able help chai lifeline support encouragement ...</td>\n",
       "    </tr>\n",
       "    <tr>\n",
       "      <th>3</th>\n",
       "      <td>i already feel like i fucked up though because...</td>\n",
       "      <td>anger</td>\n",
       "      <td>feel like fuck not usually eat morning</td>\n",
       "    </tr>\n",
       "    <tr>\n",
       "      <th>4</th>\n",
       "      <td>i still love my so and wish the best for him i...</td>\n",
       "      <td>sadness</td>\n",
       "      <td>love wish good long tolerate effect bm life fa...</td>\n",
       "    </tr>\n",
       "  </tbody>\n",
       "</table>\n",
       "</div>"
      ],
      "text/plain": [
       "                                               texto sentimento  \\\n",
       "0  i am feeling completely overwhelmed i have two...       fear   \n",
       "1    i have the feeling she was amused and delighted        joy   \n",
       "2  i was able to help chai lifeline with your sup...        joy   \n",
       "3  i already feel like i fucked up though because...      anger   \n",
       "4  i still love my so and wish the best for him i...    sadness   \n",
       "\n",
       "                                    texto_processado  \n",
       "0  feel completely overwhelmed strategy help feel...  \n",
       "1                              feeling amuse delight  \n",
       "2  able help chai lifeline support encouragement ...  \n",
       "3             feel like fuck not usually eat morning  \n",
       "4  love wish good long tolerate effect bm life fa...  "
      ]
     },
     "execution_count": 70,
     "metadata": {},
     "output_type": "execute_result"
    }
   ],
   "source": [
    "# Dados processados com SpaCy\n",
    "dados_dsa_treino.head()"
   ]
  },
  {
   "cell_type": "code",
   "execution_count": 71,
   "metadata": {
    "id": "w7U9_7rK_B8x"
   },
   "outputs": [],
   "source": [
    "# Criação do tokenizador\n",
    "# from keras.preprocessing.text import Tokenizer\n",
    "dsa_tokenizador = Tokenizer()"
   ]
  },
  {
   "cell_type": "code",
   "execution_count": 72,
   "metadata": {
    "id": "3fNXw5yf_B8x"
   },
   "outputs": [],
   "source": [
    "# Ajuste do tokenizador com os textos processados\n",
    "dsa_tokenizador.fit_on_texts(dados_dsa_treino['texto_processado'])"
   ]
  },
  {
   "cell_type": "code",
   "execution_count": 73,
   "metadata": {
    "id": "lT4V_UXV_B8x"
   },
   "outputs": [],
   "source": [
    "# Extrai o índice de palavras\n",
    "word_index = dsa_tokenizador.word_index"
   ]
  },
  {
   "cell_type": "code",
   "execution_count": 74,
   "metadata": {
    "colab": {
     "base_uri": "https://localhost:8080/"
    },
    "id": "07jK0PT0_B8x",
    "outputId": "a2e7c8ef-83e8-4275-bac1-dd1da04c4c4e"
   },
   "outputs": [
    {
     "data": {
      "text/plain": [
       "11837"
      ]
     },
     "execution_count": 74,
     "metadata": {},
     "output_type": "execute_result"
    }
   ],
   "source": [
    "len(word_index)"
   ]
  },
  {
   "cell_type": "code",
   "execution_count": 75,
   "metadata": {
    "colab": {
     "base_uri": "https://localhost:8080/"
    },
    "id": "iegWTyBg_B8x",
    "outputId": "f81c6d7f-4a6b-408e-b48e-6b24175e2899"
   },
   "outputs": [
    {
     "name": "stdout",
     "output_type": "stream",
     "text": [
      "feel 1\n",
      "like 2\n",
      "m 3\n",
      "not 4\n",
      "feeling 5\n",
      "know 6\n",
      "time 7\n",
      "t 8\n",
      "want 9\n",
      "think 10\n"
     ]
    }
   ],
   "source": [
    "# Itera sobre os pares chave-valor do dicionário\n",
    "for i, (chave, valor) in enumerate(word_index.items()):\n",
    "    print(chave, valor)\n",
    "    # Interrompe o loop após imprimir 10 itens\n",
    "    if i == 9:\n",
    "        break"
   ]
  },
  {
   "cell_type": "code",
   "execution_count": 76,
   "metadata": {
    "id": "xTNz5qlX_B8x"
   },
   "outputs": [],
   "source": [
    "# Conversão dos textos de treino para sequências de tokens\n",
    "sequencias_treino = dsa_tokenizador.texts_to_sequences(dados_dsa_treino['texto_processado'])"
   ]
  },
  {
   "cell_type": "code",
   "execution_count": 77,
   "metadata": {
    "id": "KK17wsLz_B8x"
   },
   "outputs": [],
   "source": [
    "# Definindo o comprimento máximo das sequências\n",
    "max_length = 100"
   ]
  },
  {
   "cell_type": "code",
   "execution_count": 78,
   "metadata": {
    "id": "DG6O8Fs4UNma"
   },
   "outputs": [],
   "source": [
    "from tensorflow.keras.preprocessing.text import Tokenizer\n",
    "from tensorflow.keras.utils import pad_sequences"
   ]
  },
  {
   "cell_type": "code",
   "execution_count": 79,
   "metadata": {
    "id": "bV9MHm4y_B8x"
   },
   "outputs": [],
   "source": [
    "# Padding das sequências de treino\n",
    "sequencias_treino_padded = pad_sequences(sequencias_treino, maxlen = max_length, truncating = 'post')"
   ]
  },
  {
   "cell_type": "markdown",
   "metadata": {
    "id": "oGdKbXk5_B8y"
   },
   "source": [
    "O \"padding\" é uma técnica comumente usada no processamento de sequências de dados, especialmente em tarefas de processamento de linguagem natural (PLN). O padding é usado para padronizar o comprimento das sequências. Isso é feito adicionando um valor especial (geralmente 0) no início ou no final das sequências para aumentá-las até um comprimento máximo definido. Isso permite que o modelo processe lotes de sequências simultaneamente, o que é essencial para a eficiência do treinamento.\n",
    "\n",
    "Na linha acima:\n",
    "\n",
    "**maxlen = max_length**: Este argumento define o comprimento máximo das sequências após o padding. Se uma sequência for mais curta que max_length, ela será estendida com zeros até alcançar esse comprimento. Se for mais longa, será truncada.\n",
    "\n",
    "**truncating = 'post'**: Este argumento especifica como as sequências devem ser truncadas para o comprimento máximo, caso sejam mais longas que max_length. O valor 'post' indica que o truncamento deve ocorrer no final da sequência. Alternativamente, 'pre' truncaria no início.\n",
    "\n",
    "O resultado, sequencias_treino_padded, será uma matriz onde cada sequência tem exatamente max_length elementos, com padding de zeros adicionado conforme necessário. Isso torna as sequências compatíveis com muitos modelos de aprendizado de máquina, especialmente aqueles usados em PLN."
   ]
  },
  {
   "cell_type": "code",
   "execution_count": 80,
   "metadata": {
    "id": "Irjyb6Ka_B8y"
   },
   "outputs": [],
   "source": [
    "# Conversão dos textos de teste para sequências de tokens\n",
    "sequencias_teste = dsa_tokenizador.texts_to_sequences(dados_dsa_teste['texto_processado'])"
   ]
  },
  {
   "cell_type": "code",
   "execution_count": 81,
   "metadata": {
    "id": "Ro78x4RK_B8y"
   },
   "outputs": [],
   "source": [
    "# Padding das sequências de teste\n",
    "sequencias_teste_padded = pad_sequences(sequencias_teste, maxlen = max_length)"
   ]
  },
  {
   "cell_type": "code",
   "execution_count": 82,
   "metadata": {
    "id": "5KCX4ZQX_B8y"
   },
   "outputs": [],
   "source": [
    "# Criação do codificador de rótulos\n",
    "dsa_le_v2 = LabelEncoder()"
   ]
  },
  {
   "cell_type": "code",
   "execution_count": 83,
   "metadata": {
    "id": "0G84anSu_B8y"
   },
   "outputs": [],
   "source": [
    "# Fit e transform dos rótulos de sentimento para treino\n",
    "y_treino_le = dsa_le_v2.fit_transform(dados_dsa_treino['sentimento'])"
   ]
  },
  {
   "cell_type": "code",
   "execution_count": 84,
   "metadata": {
    "id": "sPgRjSVD_B8y"
   },
   "outputs": [],
   "source": [
    "# Transformação dos rótulos de sentimento para teste\n",
    "y_teste_le = dsa_le_v2.transform(dados_dsa_teste['sentimento'])"
   ]
  },
  {
   "cell_type": "code",
   "execution_count": 85,
   "metadata": {
    "id": "TwBxVnCz_B8y"
   },
   "outputs": [],
   "source": [
    "# Conversão dos rótulos em variáveis categóricas\n",
    "y_treino_encoded = to_categorical(y_treino_le)\n",
    "y_teste_encoded = to_categorical(y_teste_le)"
   ]
  },
  {
   "cell_type": "code",
   "execution_count": 86,
   "metadata": {
    "id": "QfN72vuj_B8y"
   },
   "outputs": [],
   "source": [
    "# Definindo o tamanho do vocabulário\n",
    "vocab_size = len(dsa_tokenizador.word_index) + 1"
   ]
  },
  {
   "cell_type": "code",
   "execution_count": 87,
   "metadata": {
    "colab": {
     "base_uri": "https://localhost:8080/"
    },
    "id": "qd5XGyCa_B8z",
    "outputId": "47d6648b-0d0b-4bcb-ac3d-39924d2934c9"
   },
   "outputs": [
    {
     "name": "stdout",
     "output_type": "stream",
     "text": [
      "11838\n"
     ]
    }
   ],
   "source": [
    "print(vocab_size)"
   ]
  },
  {
   "cell_type": "code",
   "execution_count": 88,
   "metadata": {
    "id": "xem1LSDC_B8z"
   },
   "outputs": [],
   "source": [
    "# Definindo a dimensão do embedding\n",
    "embedding_dim = max_length"
   ]
  },
  {
   "cell_type": "code",
   "execution_count": 89,
   "metadata": {
    "id": "hZgkGUjA_B8z"
   },
   "outputs": [],
   "source": [
    "# Construção do modelo LSTM\n",
    "modelo_dsa_v2 = tf.keras.Sequential([Embedding(vocab_size, embedding_dim, input_length = max_length),\n",
    "                                     Bidirectional(LSTM(64)),\n",
    "                                     Dropout(0.4),\n",
    "                                     Dense(32, activation = 'leaky_relu', kernel_regularizer = l1_l2(l1 = 0.01,\n",
    "                                                                                                     l2 = 0.01)),\n",
    "                                     Dropout(0.4),\n",
    "                                     Dense(6, activation = 'softmax')])"
   ]
  },
  {
   "cell_type": "code",
   "execution_count": 90,
   "metadata": {
    "id": "EB8nAXsG_B8z"
   },
   "outputs": [],
   "source": [
    "# Compilação do modelo\n",
    "modelo_dsa_v2.compile(loss = 'categorical_crossentropy',\n",
    "                      optimizer = 'adam',\n",
    "                      metrics = ['accuracy', Precision(), Recall(), AUC()])"
   ]
  },
  {
   "cell_type": "code",
   "execution_count": 91,
   "metadata": {
    "colab": {
     "base_uri": "https://localhost:8080/",
     "height": 348
    },
    "id": "dTwFmwKo_B8z",
    "outputId": "67123f95-4c3b-4c34-df63-1e31fed16237"
   },
   "outputs": [
    {
     "data": {
      "text/html": [
       "<pre style=\"white-space:pre;overflow-x:auto;line-height:normal;font-family:Menlo,'DejaVu Sans Mono',consolas,'Courier New',monospace\"><span style=\"font-weight: bold\">Model: \"sequential_1\"</span>\n",
       "</pre>\n"
      ],
      "text/plain": [
       "\u001b[1mModel: \"sequential_1\"\u001b[0m\n"
      ]
     },
     "metadata": {},
     "output_type": "display_data"
    },
    {
     "data": {
      "text/html": [
       "<pre style=\"white-space:pre;overflow-x:auto;line-height:normal;font-family:Menlo,'DejaVu Sans Mono',consolas,'Courier New',monospace\">┏━━━━━━━━━━━━━━━━━━━━━━━━━━━━━━━━━┳━━━━━━━━━━━━━━━━━━━━━━━━┳━━━━━━━━━━━━━━━┓\n",
       "┃<span style=\"font-weight: bold\"> Layer (type)                    </span>┃<span style=\"font-weight: bold\"> Output Shape           </span>┃<span style=\"font-weight: bold\">       Param # </span>┃\n",
       "┡━━━━━━━━━━━━━━━━━━━━━━━━━━━━━━━━━╇━━━━━━━━━━━━━━━━━━━━━━━━╇━━━━━━━━━━━━━━━┩\n",
       "│ embedding (<span style=\"color: #0087ff; text-decoration-color: #0087ff\">Embedding</span>)           │ ?                      │   <span style=\"color: #00af00; text-decoration-color: #00af00\">0</span> (unbuilt) │\n",
       "├─────────────────────────────────┼────────────────────────┼───────────────┤\n",
       "│ bidirectional (<span style=\"color: #0087ff; text-decoration-color: #0087ff\">Bidirectional</span>)   │ ?                      │   <span style=\"color: #00af00; text-decoration-color: #00af00\">0</span> (unbuilt) │\n",
       "├─────────────────────────────────┼────────────────────────┼───────────────┤\n",
       "│ dropout (<span style=\"color: #0087ff; text-decoration-color: #0087ff\">Dropout</span>)               │ ?                      │             <span style=\"color: #00af00; text-decoration-color: #00af00\">0</span> │\n",
       "├─────────────────────────────────┼────────────────────────┼───────────────┤\n",
       "│ dense_5 (<span style=\"color: #0087ff; text-decoration-color: #0087ff\">Dense</span>)                 │ ?                      │   <span style=\"color: #00af00; text-decoration-color: #00af00\">0</span> (unbuilt) │\n",
       "├─────────────────────────────────┼────────────────────────┼───────────────┤\n",
       "│ dropout_1 (<span style=\"color: #0087ff; text-decoration-color: #0087ff\">Dropout</span>)             │ ?                      │             <span style=\"color: #00af00; text-decoration-color: #00af00\">0</span> │\n",
       "├─────────────────────────────────┼────────────────────────┼───────────────┤\n",
       "│ dense_6 (<span style=\"color: #0087ff; text-decoration-color: #0087ff\">Dense</span>)                 │ ?                      │   <span style=\"color: #00af00; text-decoration-color: #00af00\">0</span> (unbuilt) │\n",
       "└─────────────────────────────────┴────────────────────────┴───────────────┘\n",
       "</pre>\n"
      ],
      "text/plain": [
       "┏━━━━━━━━━━━━━━━━━━━━━━━━━━━━━━━━━┳━━━━━━━━━━━━━━━━━━━━━━━━┳━━━━━━━━━━━━━━━┓\n",
       "┃\u001b[1m \u001b[0m\u001b[1mLayer (type)                   \u001b[0m\u001b[1m \u001b[0m┃\u001b[1m \u001b[0m\u001b[1mOutput Shape          \u001b[0m\u001b[1m \u001b[0m┃\u001b[1m \u001b[0m\u001b[1m      Param #\u001b[0m\u001b[1m \u001b[0m┃\n",
       "┡━━━━━━━━━━━━━━━━━━━━━━━━━━━━━━━━━╇━━━━━━━━━━━━━━━━━━━━━━━━╇━━━━━━━━━━━━━━━┩\n",
       "│ embedding (\u001b[38;5;33mEmbedding\u001b[0m)           │ ?                      │   \u001b[38;5;34m0\u001b[0m (unbuilt) │\n",
       "├─────────────────────────────────┼────────────────────────┼───────────────┤\n",
       "│ bidirectional (\u001b[38;5;33mBidirectional\u001b[0m)   │ ?                      │   \u001b[38;5;34m0\u001b[0m (unbuilt) │\n",
       "├─────────────────────────────────┼────────────────────────┼───────────────┤\n",
       "│ dropout (\u001b[38;5;33mDropout\u001b[0m)               │ ?                      │             \u001b[38;5;34m0\u001b[0m │\n",
       "├─────────────────────────────────┼────────────────────────┼───────────────┤\n",
       "│ dense_5 (\u001b[38;5;33mDense\u001b[0m)                 │ ?                      │   \u001b[38;5;34m0\u001b[0m (unbuilt) │\n",
       "├─────────────────────────────────┼────────────────────────┼───────────────┤\n",
       "│ dropout_1 (\u001b[38;5;33mDropout\u001b[0m)             │ ?                      │             \u001b[38;5;34m0\u001b[0m │\n",
       "├─────────────────────────────────┼────────────────────────┼───────────────┤\n",
       "│ dense_6 (\u001b[38;5;33mDense\u001b[0m)                 │ ?                      │   \u001b[38;5;34m0\u001b[0m (unbuilt) │\n",
       "└─────────────────────────────────┴────────────────────────┴───────────────┘\n"
      ]
     },
     "metadata": {},
     "output_type": "display_data"
    },
    {
     "data": {
      "text/html": [
       "<pre style=\"white-space:pre;overflow-x:auto;line-height:normal;font-family:Menlo,'DejaVu Sans Mono',consolas,'Courier New',monospace\"><span style=\"font-weight: bold\"> Total params: </span><span style=\"color: #00af00; text-decoration-color: #00af00\">0</span> (0.00 B)\n",
       "</pre>\n"
      ],
      "text/plain": [
       "\u001b[1m Total params: \u001b[0m\u001b[38;5;34m0\u001b[0m (0.00 B)\n"
      ]
     },
     "metadata": {},
     "output_type": "display_data"
    },
    {
     "data": {
      "text/html": [
       "<pre style=\"white-space:pre;overflow-x:auto;line-height:normal;font-family:Menlo,'DejaVu Sans Mono',consolas,'Courier New',monospace\"><span style=\"font-weight: bold\"> Trainable params: </span><span style=\"color: #00af00; text-decoration-color: #00af00\">0</span> (0.00 B)\n",
       "</pre>\n"
      ],
      "text/plain": [
       "\u001b[1m Trainable params: \u001b[0m\u001b[38;5;34m0\u001b[0m (0.00 B)\n"
      ]
     },
     "metadata": {},
     "output_type": "display_data"
    },
    {
     "data": {
      "text/html": [
       "<pre style=\"white-space:pre;overflow-x:auto;line-height:normal;font-family:Menlo,'DejaVu Sans Mono',consolas,'Courier New',monospace\"><span style=\"font-weight: bold\"> Non-trainable params: </span><span style=\"color: #00af00; text-decoration-color: #00af00\">0</span> (0.00 B)\n",
       "</pre>\n"
      ],
      "text/plain": [
       "\u001b[1m Non-trainable params: \u001b[0m\u001b[38;5;34m0\u001b[0m (0.00 B)\n"
      ]
     },
     "metadata": {},
     "output_type": "display_data"
    },
    {
     "name": "stdout",
     "output_type": "stream",
     "text": [
      "None\n"
     ]
    }
   ],
   "source": [
    "# Exibindo o resumo do modelo\n",
    "print(modelo_dsa_v2.summary())"
   ]
  },
  {
   "cell_type": "code",
   "execution_count": 92,
   "metadata": {
    "id": "-UPJmX3B_B8z"
   },
   "outputs": [],
   "source": [
    "# Definindo os dados de entrada como array\n",
    "dados_entrada = np.array(sequencias_treino_padded)"
   ]
  },
  {
   "cell_type": "code",
   "execution_count": 93,
   "metadata": {
    "id": "yjp2QrL0_B8z"
   },
   "outputs": [],
   "source": [
    "# Definindo os dados de saída como array\n",
    "dados_saida = np.array(y_treino_encoded)"
   ]
  },
  {
   "cell_type": "code",
   "execution_count": 94,
   "metadata": {
    "id": "AGQrV8D3_B80"
   },
   "outputs": [],
   "source": [
    "# Definição de hiperparâmetros\n",
    "num_epochs = 35\n",
    "validation_split_value = 0.2\n",
    "paciencia = 5"
   ]
  },
  {
   "cell_type": "code",
   "execution_count": 95,
   "metadata": {
    "id": "_ZGpDRPU_B80"
   },
   "outputs": [],
   "source": [
    "# Configuração de Early Stopping\n",
    "early_stopping = tf.keras.callbacks.EarlyStopping(patience = paciencia)"
   ]
  },
  {
   "cell_type": "markdown",
   "metadata": {
    "id": "8J2wTeKP_B80"
   },
   "source": [
    "> Treinamento do Modelo."
   ]
  },
  {
   "cell_type": "code",
   "execution_count": 96,
   "metadata": {
    "colab": {
     "base_uri": "https://localhost:8080/"
    },
    "id": "OZlcPqbv_B80",
    "outputId": "705af72b-62e0-4728-9107-d762bec16a27"
   },
   "outputs": [
    {
     "name": "stdout",
     "output_type": "stream",
     "text": [
      "Epoch 1/35\n",
      "\u001b[1m400/400\u001b[0m \u001b[32m━━━━━━━━━━━━━━━━━━━━\u001b[0m\u001b[37m\u001b[0m \u001b[1m16s\u001b[0m 38ms/step - accuracy: 0.3218 - auc_1: 0.6881 - loss: 3.5840 - precision_1: 0.3497 - recall_1: 0.0011 - val_accuracy: 0.3262 - val_auc_1: 0.7139 - val_loss: 1.6366 - val_precision_1: 0.0000e+00 - val_recall_1: 0.0000e+00\n",
      "Epoch 2/35\n",
      "\u001b[1m400/400\u001b[0m \u001b[32m━━━━━━━━━━━━━━━━━━━━\u001b[0m\u001b[37m\u001b[0m \u001b[1m16s\u001b[0m 40ms/step - accuracy: 0.3556 - auc_1: 0.7339 - loss: 1.5934 - precision_1: 0.6111 - recall_1: 0.0338 - val_accuracy: 0.6741 - val_auc_1: 0.9211 - val_loss: 1.0611 - val_precision_1: 0.8988 - val_recall_1: 0.5494\n",
      "Epoch 3/35\n",
      "\u001b[1m400/400\u001b[0m \u001b[32m━━━━━━━━━━━━━━━━━━━━\u001b[0m\u001b[37m\u001b[0m \u001b[1m16s\u001b[0m 40ms/step - accuracy: 0.7147 - auc_1: 0.9393 - loss: 0.9623 - precision_1: 0.9244 - recall_1: 0.5651 - val_accuracy: 0.8109 - val_auc_1: 0.9650 - val_loss: 0.7650 - val_precision_1: 0.9046 - val_recall_1: 0.6753\n",
      "Epoch 4/35\n",
      "\u001b[1m400/400\u001b[0m \u001b[32m━━━━━━━━━━━━━━━━━━━━\u001b[0m\u001b[37m\u001b[0m \u001b[1m16s\u001b[0m 39ms/step - accuracy: 0.8447 - auc_1: 0.9762 - loss: 0.6877 - precision_1: 0.9393 - recall_1: 0.7227 - val_accuracy: 0.8456 - val_auc_1: 0.9718 - val_loss: 0.6851 - val_precision_1: 0.8962 - val_recall_1: 0.7878\n",
      "Epoch 5/35\n",
      "\u001b[1m400/400\u001b[0m \u001b[32m━━━━━━━━━━━━━━━━━━━━\u001b[0m\u001b[37m\u001b[0m \u001b[1m16s\u001b[0m 39ms/step - accuracy: 0.8864 - auc_1: 0.9857 - loss: 0.5653 - precision_1: 0.9373 - recall_1: 0.8152 - val_accuracy: 0.8469 - val_auc_1: 0.9741 - val_loss: 0.6515 - val_precision_1: 0.8865 - val_recall_1: 0.8253\n",
      "Epoch 6/35\n",
      "\u001b[1m400/400\u001b[0m \u001b[32m━━━━━━━━━━━━━━━━━━━━\u001b[0m\u001b[37m\u001b[0m \u001b[1m16s\u001b[0m 39ms/step - accuracy: 0.9049 - auc_1: 0.9900 - loss: 0.4926 - precision_1: 0.9460 - recall_1: 0.8541 - val_accuracy: 0.8619 - val_auc_1: 0.9767 - val_loss: 0.5931 - val_precision_1: 0.8923 - val_recall_1: 0.8469\n",
      "Epoch 7/35\n",
      "\u001b[1m400/400\u001b[0m \u001b[32m━━━━━━━━━━━━━━━━━━━━\u001b[0m\u001b[37m\u001b[0m \u001b[1m16s\u001b[0m 39ms/step - accuracy: 0.9152 - auc_1: 0.9927 - loss: 0.4350 - precision_1: 0.9490 - recall_1: 0.8853 - val_accuracy: 0.8609 - val_auc_1: 0.9756 - val_loss: 0.5961 - val_precision_1: 0.8980 - val_recall_1: 0.8475\n",
      "Epoch 8/35\n",
      "\u001b[1m400/400\u001b[0m \u001b[32m━━━━━━━━━━━━━━━━━━━━\u001b[0m\u001b[37m\u001b[0m \u001b[1m15s\u001b[0m 38ms/step - accuracy: 0.9258 - auc_1: 0.9942 - loss: 0.3992 - precision_1: 0.9584 - recall_1: 0.8982 - val_accuracy: 0.8625 - val_auc_1: 0.9734 - val_loss: 0.6195 - val_precision_1: 0.8873 - val_recall_1: 0.8462\n",
      "Epoch 9/35\n",
      "\u001b[1m400/400\u001b[0m \u001b[32m━━━━━━━━━━━━━━━━━━━━\u001b[0m\u001b[37m\u001b[0m \u001b[1m16s\u001b[0m 39ms/step - accuracy: 0.9356 - auc_1: 0.9954 - loss: 0.3618 - precision_1: 0.9620 - recall_1: 0.9112 - val_accuracy: 0.8806 - val_auc_1: 0.9731 - val_loss: 0.6008 - val_precision_1: 0.9000 - val_recall_1: 0.8553\n",
      "Epoch 10/35\n",
      "\u001b[1m400/400\u001b[0m \u001b[32m━━━━━━━━━━━━━━━━━━━━\u001b[0m\u001b[37m\u001b[0m \u001b[1m16s\u001b[0m 40ms/step - accuracy: 0.9449 - auc_1: 0.9963 - loss: 0.3433 - precision_1: 0.9622 - recall_1: 0.9127 - val_accuracy: 0.8800 - val_auc_1: 0.9735 - val_loss: 0.5875 - val_precision_1: 0.9002 - val_recall_1: 0.8622\n",
      "Epoch 11/35\n",
      "\u001b[1m400/400\u001b[0m \u001b[32m━━━━━━━━━━━━━━━━━━━━\u001b[0m\u001b[37m\u001b[0m \u001b[1m15s\u001b[0m 38ms/step - accuracy: 0.9530 - auc_1: 0.9968 - loss: 0.3193 - precision_1: 0.9664 - recall_1: 0.9302 - val_accuracy: 0.8813 - val_auc_1: 0.9756 - val_loss: 0.5743 - val_precision_1: 0.8963 - val_recall_1: 0.8747\n",
      "Epoch 12/35\n",
      "\u001b[1m400/400\u001b[0m \u001b[32m━━━━━━━━━━━━━━━━━━━━\u001b[0m\u001b[37m\u001b[0m \u001b[1m15s\u001b[0m 38ms/step - accuracy: 0.9576 - auc_1: 0.9972 - loss: 0.3026 - precision_1: 0.9703 - recall_1: 0.9409 - val_accuracy: 0.8853 - val_auc_1: 0.9744 - val_loss: 0.5798 - val_precision_1: 0.8984 - val_recall_1: 0.8791\n",
      "Epoch 13/35\n",
      "\u001b[1m400/400\u001b[0m \u001b[32m━━━━━━━━━━━━━━━━━━━━\u001b[0m\u001b[37m\u001b[0m \u001b[1m15s\u001b[0m 39ms/step - accuracy: 0.9617 - auc_1: 0.9980 - loss: 0.2753 - precision_1: 0.9724 - recall_1: 0.9490 - val_accuracy: 0.8838 - val_auc_1: 0.9756 - val_loss: 0.5805 - val_precision_1: 0.8956 - val_recall_1: 0.8766\n",
      "Epoch 14/35\n",
      "\u001b[1m400/400\u001b[0m \u001b[32m━━━━━━━━━━━━━━━━━━━━\u001b[0m\u001b[37m\u001b[0m \u001b[1m15s\u001b[0m 38ms/step - accuracy: 0.9631 - auc_1: 0.9978 - loss: 0.2712 - precision_1: 0.9731 - recall_1: 0.9501 - val_accuracy: 0.8800 - val_auc_1: 0.9738 - val_loss: 0.5875 - val_precision_1: 0.8923 - val_recall_1: 0.8747\n",
      "Epoch 15/35\n",
      "\u001b[1m400/400\u001b[0m \u001b[32m━━━━━━━━━━━━━━━━━━━━\u001b[0m\u001b[37m\u001b[0m \u001b[1m15s\u001b[0m 38ms/step - accuracy: 0.9611 - auc_1: 0.9971 - loss: 0.2803 - precision_1: 0.9692 - recall_1: 0.9520 - val_accuracy: 0.8881 - val_auc_1: 0.9728 - val_loss: 0.5887 - val_precision_1: 0.8971 - val_recall_1: 0.8831\n",
      "Epoch 16/35\n",
      "\u001b[1m400/400\u001b[0m \u001b[32m━━━━━━━━━━━━━━━━━━━━\u001b[0m\u001b[37m\u001b[0m \u001b[1m15s\u001b[0m 38ms/step - accuracy: 0.9666 - auc_1: 0.9981 - loss: 0.2434 - precision_1: 0.9739 - recall_1: 0.9592 - val_accuracy: 0.8859 - val_auc_1: 0.9750 - val_loss: 0.5826 - val_precision_1: 0.8975 - val_recall_1: 0.8784\n",
      "CPU times: user 4min 12s, sys: 1min 52s, total: 6min 5s\n",
      "Wall time: 4min 8s\n"
     ]
    }
   ],
   "source": [
    "%%time\n",
    "history = modelo_dsa_v2.fit(dados_entrada,\n",
    "                            dados_saida,\n",
    "                            epochs = num_epochs,\n",
    "                            verbose = 1,\n",
    "                            validation_split = validation_split_value,\n",
    "                            callbacks = [early_stopping])"
   ]
  },
  {
   "cell_type": "code",
   "execution_count": 97,
   "metadata": {
    "colab": {
     "base_uri": "https://localhost:8080/",
     "height": 430
    },
    "id": "SUgzAiFc_B80",
    "outputId": "856c9e9e-ae3f-4665-9c8f-902bcb7a0e6e"
   },
   "outputs": [
    {
     "data": {
      "image/png": "[encoded data removed]",
      "text/plain": [
       "<Figure size 640x480 with 1 Axes>"
      ]
     },
     "metadata": {},
     "output_type": "display_data"
    }
   ],
   "source": [
    "# Plot das curvas de erro\n",
    "loss, val_loss = history.history['loss'], history.history['val_loss']\n",
    "plt.plot(loss, label = 'Erro em Treino')\n",
    "plt.plot(val_loss, label = 'Erro em Validação')\n",
    "plt.legend()\n",
    "plt.show()"
   ]
  },
  {
   "cell_type": "code",
   "execution_count": 98,
   "metadata": {
    "colab": {
     "base_uri": "https://localhost:8080/"
    },
    "id": "1dok3ENI_B80",
    "outputId": "84752b4e-06d6-4405-ca1b-63130aa6ef2c"
   },
   "outputs": [
    {
     "name": "stdout",
     "output_type": "stream",
     "text": [
      "\u001b[1m63/63\u001b[0m \u001b[32m━━━━━━━━━━━━━━━━━━━━\u001b[0m\u001b[37m\u001b[0m \u001b[1m1s\u001b[0m 7ms/step\n"
     ]
    }
   ],
   "source": [
    "# Previsões com dados de teste\n",
    "previsoes = modelo_dsa_v2.predict(sequencias_teste_padded)"
   ]
  },
  {
   "cell_type": "code",
   "execution_count": 99,
   "metadata": {
    "id": "Hhp7Xb7v_B80"
   },
   "outputs": [],
   "source": [
    "# Determinação dos rótulos previstos\n",
    "labels_previstos = previsoes.argmax(axis = 1)"
   ]
  },
  {
   "cell_type": "code",
   "execution_count": 100,
   "metadata": {
    "colab": {
     "base_uri": "https://localhost:8080/"
    },
    "id": "8jjyZ8ir_B81",
    "outputId": "2264b052-14b0-48ee-a5ce-f238c22df0cf"
   },
   "outputs": [
    {
     "name": "stdout",
     "output_type": "stream",
     "text": [
      "              precision    recall  f1-score   support\n",
      "\n",
      "           0       0.90      0.87      0.88       275\n",
      "           1       0.86      0.88      0.87       224\n",
      "           2       0.91      0.92      0.91       695\n",
      "           3       0.76      0.76      0.76       159\n",
      "           4       0.94      0.93      0.93       581\n",
      "           5       0.76      0.76      0.76        66\n",
      "\n",
      "    accuracy                           0.89      2000\n",
      "   macro avg       0.85      0.85      0.85      2000\n",
      "weighted avg       0.89      0.89      0.89      2000\n",
      "\n"
     ]
    }
   ],
   "source": [
    "# Exibição do relatório de classificação\n",
    "print(classification_report(y_teste_le, labels_previstos))"
   ]
  },
  {
   "cell_type": "code",
   "execution_count": 101,
   "metadata": {
    "colab": {
     "base_uri": "https://localhost:8080/"
    },
    "id": "s4TLf_Qx_B81",
    "outputId": "d5ede95e-6604-415c-e5fb-c5ea0b2b2d36"
   },
   "outputs": [
    {
     "name": "stdout",
     "output_type": "stream",
     "text": [
      "[[240  10   7   2  16   0]\n",
      " [  9 196   3   0   6  10]\n",
      " [  0   5 639  35  11   5]\n",
      " [  3   3  31 121   0   1]\n",
      " [ 16   4  20   1 540   0]\n",
      " [  0  10   4   0   2  50]]\n"
     ]
    }
   ],
   "source": [
    "# Exibição da matriz de confusão\n",
    "print(confusion_matrix(y_teste_le, labels_previstos))"
   ]
  },
  {
   "cell_type": "code",
   "execution_count": 102,
   "metadata": {
    "colab": {
     "base_uri": "https://localhost:8080/"
    },
    "id": "2ZWpuQV6_B81",
    "outputId": "1027a46e-b056-4b22-a3c3-24560ca7cd8f"
   },
   "outputs": [
    {
     "name": "stdout",
     "output_type": "stream",
     "text": [
      "0.893\n"
     ]
    }
   ],
   "source": [
    "# Exibição da precisão do modelo\n",
    "print(accuracy_score(y_teste_le, labels_previstos))"
   ]
  },
  {
   "cell_type": "code",
   "execution_count": 103,
   "metadata": {
    "id": "Zpo0Ffb-_B81"
   },
   "outputs": [],
   "source": [
    "# Salva o modelo\n",
    "modelo_dsa_v2.save('modelo_dsa_v2.keras')"
   ]
  },
  {
   "cell_type": "markdown",
   "metadata": {
    "id": "GF_GUbiM_B81"
   },
   "source": [
    "> Deploy do Modelo."
   ]
  },
  {
   "cell_type": "code",
   "execution_count": 104,
   "metadata": {
    "id": "SG0xH0ot_B81"
   },
   "outputs": [],
   "source": [
    "# Carrega o modelo salvo\n",
    "modelo_carregado = load_model('modelo_dsa_v2.keras')"
   ]
  },
  {
   "cell_type": "code",
   "execution_count": 105,
   "metadata": {
    "id": "23mKQV1D_B81"
   },
   "outputs": [],
   "source": [
    "# Nova frase (sentimento = medo (fear))\n",
    "frase = \"i even feel a little shaky\""
   ]
  },
  {
   "cell_type": "code",
   "execution_count": 106,
   "metadata": {
    "id": "K-ldWym3_B81"
   },
   "outputs": [],
   "source": [
    "# Cria um dataframe com a frase\n",
    "df_novo = pd.DataFrame({'Frase': [frase]})"
   ]
  },
  {
   "cell_type": "code",
   "execution_count": 107,
   "metadata": {
    "id": "eTT2tG8f_B81"
   },
   "outputs": [],
   "source": [
    "# Aplica a função de processamento\n",
    "df_novo['Frase_Processada'] = df_novo['Frase'].apply(dsa_preprocessa_texto)"
   ]
  },
  {
   "cell_type": "code",
   "execution_count": 108,
   "metadata": {
    "id": "EHy_FYa2_B82"
   },
   "outputs": [],
   "source": [
    "# Processar os novos dados\n",
    "sequencias_novos = dsa_tokenizador.texts_to_sequences(df_novo['Frase_Processada'])\n",
    "sequencias_novos_padded = pad_sequences(sequencias_novos, maxlen = max_length)"
   ]
  },
  {
   "cell_type": "code",
   "execution_count": 109,
   "metadata": {
    "colab": {
     "base_uri": "https://localhost:8080/"
    },
    "id": "ooazTxHt_B82",
    "outputId": "b5cd89c6-b334-46be-cfac-bba6164086ce"
   },
   "outputs": [
    {
     "name": "stdout",
     "output_type": "stream",
     "text": [
      "\u001b[1m1/1\u001b[0m \u001b[32m━━━━━━━━━━━━━━━━━━━━\u001b[0m\u001b[37m\u001b[0m \u001b[1m0s\u001b[0m 72ms/step\n"
     ]
    }
   ],
   "source": [
    "# Fazer previsões com o modelo carregado\n",
    "previsoes = modelo_carregado.predict(sequencias_novos_padded)"
   ]
  },
  {
   "cell_type": "code",
   "execution_count": 110,
   "metadata": {
    "id": "5sSMIETH_B82"
   },
   "outputs": [],
   "source": [
    "# Seleciona a classe com maior probabilidade\n",
    "classe_maior_prob = np.argmax(previsoes, axis = 1)"
   ]
  },
  {
   "cell_type": "code",
   "execution_count": 111,
   "metadata": {
    "colab": {
     "base_uri": "https://localhost:8080/"
    },
    "id": "mPJupd_h_B82",
    "outputId": "e72b375d-2225-4e2e-cefd-0b7518e5153a"
   },
   "outputs": [
    {
     "data": {
      "text/plain": [
       "array([1])"
      ]
     },
     "execution_count": 111,
     "metadata": {},
     "output_type": "execute_result"
    }
   ],
   "source": [
    "classe_maior_prob"
   ]
  },
  {
   "cell_type": "code",
   "execution_count": 112,
   "metadata": {
    "id": "dl8uZVUP_B82"
   },
   "outputs": [],
   "source": [
    "# Obtém o nome da classe\n",
    "nome_classe = dsa_le_v2.inverse_transform(classe_maior_prob)"
   ]
  },
  {
   "cell_type": "code",
   "execution_count": 113,
   "metadata": {
    "colab": {
     "base_uri": "https://localhost:8080/"
    },
    "id": "ILYIwS7m_B82",
    "outputId": "69a7ce76-f9ba-4fe7-863c-d8f1f665a4d9"
   },
   "outputs": [
    {
     "data": {
      "text/plain": [
       "array(['fear'], dtype=object)"
      ]
     },
     "execution_count": 113,
     "metadata": {},
     "output_type": "execute_result"
    }
   ],
   "source": [
    "# Classe prevista\n",
    "nome_classe"
   ]
  },
  {
   "cell_type": "markdown",
   "metadata": {
    "id": "OVEydxHH_B82"
   },
   "source": [
    "## Versão 3 do Modelo - Fine Tuning de Modelo Transformer Pré-Treinado\n",
    "\n",
    "Usaremos os dados processados com SpaCy e então faremos o processamento específico para o modelo BERT, assim como fizemos com o modelo da versão 1."
   ]
  },
  {
   "cell_type": "code",
   "execution_count": 114,
   "metadata": {
    "colab": {
     "base_uri": "https://localhost:8080/",
     "height": 206
    },
    "id": "XpcqA0uO_B83",
    "outputId": "43003410-2b2f-46c0-cab3-71bbb8afc0e6"
   },
   "outputs": [
    {
     "data": {
      "text/html": [
       "<div>\n",
       "<style scoped>\n",
       "    .dataframe tbody tr th:only-of-type {\n",
       "        vertical-align: middle;\n",
       "    }\n",
       "\n",
       "    .dataframe tbody tr th {\n",
       "        vertical-align: top;\n",
       "    }\n",
       "\n",
       "    .dataframe thead th {\n",
       "        text-align: right;\n",
       "    }\n",
       "</style>\n",
       "<table border=\"1\" class=\"dataframe\">\n",
       "  <thead>\n",
       "    <tr style=\"text-align: right;\">\n",
       "      <th></th>\n",
       "      <th>texto</th>\n",
       "      <th>sentimento</th>\n",
       "      <th>texto_processado</th>\n",
       "    </tr>\n",
       "  </thead>\n",
       "  <tbody>\n",
       "    <tr>\n",
       "      <th>0</th>\n",
       "      <td>i am feeling completely overwhelmed i have two...</td>\n",
       "      <td>fear</td>\n",
       "      <td>feel completely overwhelmed strategy help feel...</td>\n",
       "    </tr>\n",
       "    <tr>\n",
       "      <th>1</th>\n",
       "      <td>i have the feeling she was amused and delighted</td>\n",
       "      <td>joy</td>\n",
       "      <td>feeling amuse delight</td>\n",
       "    </tr>\n",
       "    <tr>\n",
       "      <th>2</th>\n",
       "      <td>i was able to help chai lifeline with your sup...</td>\n",
       "      <td>joy</td>\n",
       "      <td>able help chai lifeline support encouragement ...</td>\n",
       "    </tr>\n",
       "    <tr>\n",
       "      <th>3</th>\n",
       "      <td>i already feel like i fucked up though because...</td>\n",
       "      <td>anger</td>\n",
       "      <td>feel like fuck not usually eat morning</td>\n",
       "    </tr>\n",
       "    <tr>\n",
       "      <th>4</th>\n",
       "      <td>i still love my so and wish the best for him i...</td>\n",
       "      <td>sadness</td>\n",
       "      <td>love wish good long tolerate effect bm life fa...</td>\n",
       "    </tr>\n",
       "  </tbody>\n",
       "</table>\n",
       "</div>"
      ],
      "text/plain": [
       "                                               texto sentimento  \\\n",
       "0  i am feeling completely overwhelmed i have two...       fear   \n",
       "1    i have the feeling she was amused and delighted        joy   \n",
       "2  i was able to help chai lifeline with your sup...        joy   \n",
       "3  i already feel like i fucked up though because...      anger   \n",
       "4  i still love my so and wish the best for him i...    sadness   \n",
       "\n",
       "                                    texto_processado  \n",
       "0  feel completely overwhelmed strategy help feel...  \n",
       "1                              feeling amuse delight  \n",
       "2  able help chai lifeline support encouragement ...  \n",
       "3             feel like fuck not usually eat morning  \n",
       "4  love wish good long tolerate effect bm life fa...  "
      ]
     },
     "execution_count": 114,
     "metadata": {},
     "output_type": "execute_result"
    }
   ],
   "source": [
    "# Dados processados com SpaCy\n",
    "dados_dsa_treino.head()"
   ]
  },
  {
   "cell_type": "code",
   "execution_count": 115,
   "metadata": {
    "id": "ofSLLm62_B83"
   },
   "outputs": [],
   "source": [
    "# Função para codificar texto em sequências de inteiros para entrada no modelo BERT\n",
    "def dsa_encode(texts, tokenizer, chunk_size = 256, maxlen = 512):\n",
    "\n",
    "    # Configura o tokenizador para truncar textos para o comprimento máximo especificado\n",
    "    tokenizer.enable_truncation(max_length = maxlen)\n",
    "\n",
    "    # Configura o tokenizador para aplicar padding até o comprimento máximo especificado\n",
    "    tokenizer.enable_padding(length = maxlen)\n",
    "\n",
    "    # Lista para armazenar os IDs de entrada gerados pelo tokenizador\n",
    "    input_ids = []\n",
    "\n",
    "    # Lista para armazenar as máscaras de atenção geradas pelo tokenizador\n",
    "    attention_masks = []\n",
    "\n",
    "    # Itera sobre os textos em blocos do tamanho especificado por chunk_size\n",
    "    for i in tqdm(range(0, len(texts), chunk_size)):\n",
    "\n",
    "        # Seleciona um pedaço (chunk) de textos para processar\n",
    "        text_chunk = texts[i:i+chunk_size].tolist()\n",
    "\n",
    "        # Codifica o pedaço de texto em lotes usando o tokenizador\n",
    "        encs = tokenizer.encode_batch(text_chunk)\n",
    "\n",
    "        # Adiciona os IDs de entrada codificados à lista input_ids\n",
    "        input_ids.extend([enc.ids for enc in encs])\n",
    "\n",
    "        # Adiciona as máscaras de atenção geradas à lista attention_masks\n",
    "        attention_masks.extend([enc.attention_mask for enc in encs])\n",
    "\n",
    "    # Retorna os IDs de entrada e as máscaras de atenção como arrays numpy\n",
    "    return np.array(input_ids), np.array(attention_masks)"
   ]
  },
  {
   "cell_type": "markdown",
   "metadata": {
    "id": "b64O8OU7_B83"
   },
   "source": [
    "https://huggingface.co/distilbert-base-multilingual-cased"
   ]
  },
  {
   "cell_type": "code",
   "execution_count": 116,
   "metadata": {
    "colab": {
     "base_uri": "https://localhost:8080/",
     "height": 145,
     "referenced_widgets": [
      "7ec5b77d839f4204b42cf43e5f1b5a07",
      "805814a5fbbb44398d51975667673d3f",
      "ee8a237cbe8d4975a4cdf388175bb5c0",
      "83a4628aa26a4913a23d938e34175179",
      "58d2585e6093472796f3ff10cc3e3469",
      "33f77b2910ab4ad88c110d9644490390",
      "fafaa95125884c1b97bebf2d9430c72b",
      "c1b23cbd0dd14b71b0d9085436e12e3c",
      "b412e1ba21bf41cdbf88d4bdb29291f9",
      "8bed9b8e97504a449faa331fccec7bff",
      "910e1af09557488bb4ec08693db80aa2",
      "4365122157f6494bb3274776aab11ed2",
      "b6072d7b2db6448ba1132629e0cb79ba",
      "949e33ad4af14689a0a9486422ae4e5a",
      "15e26ec6228b426fa4582c96344904ef",
      "d6b1e61036794638bc33f6fce9e0e842",
      "b4c58eefb5004ce292ebeed8d106f800",
      "0e059051a899420db97133a2652f6abf",
      "214acf884fb74cf4841db7a3cdced787",
      "b6e117335f1741a59e098d344a16f98a",
      "918864ae98504ab99ecbe8e51c67218b",
      "e8d8361315234d7588d7b2ebabe3078a",
      "932e1e4b943d4785bbfd93d4ff0fa67c",
      "7f3951acc92f43ee95b289beac36444e",
      "f881d2dcdb9a438fbc89ba0345f19b56",
      "0883ab102c8b4a69ab53a0fa95406b2b",
      "f8caf14213e745a79b3ceef04cc08f40",
      "dac3d05d4d4d43769f5ab00b876c34f9",
      "375b8050617f4259bf7615e6a3b22a2f",
      "cfcae1e9fbc74fd6bcaa9dd3bdbfe4c0",
      "09703ab7e20d4f36b00767742d5e5980",
      "98acdbc1ab43445884972709f42628fa",
      "e30346dcb7c347d1ab396ab0db01ae79",
      "a14e4d8ac6d2409b86b82c6e98ab442d",
      "c7cd6260a2564aef92b565b509a3106e",
      "5a342a86060645159ad45ca82107dc1b",
      "198154842b954ef3be09cb73e26dde66",
      "878cf62a328a428090ba6ed0c806b39c",
      "ae7063ed2349495d9b7314deb0a241fa",
      "577a6449a5bd449e8fad9f027f3dd20a",
      "78effcc384a549b6b7f07fabc33be284",
      "c62c834d60f74776be3235631befab53",
      "c11015fef40f43b987d52cf12d9c8afe",
      "8868bd6d77a54e01b529f9c7d61d1e9f"
     ]
    },
    "id": "16AIDXlW_B83",
    "outputId": "f76d07b8-f2fe-47a3-9296-6ff0d32cca8d"
   },
   "outputs": [
    {
     "data": {
      "application/vnd.jupyter.widget-view+json": {
       "model_id": "96207c7afaa6425eb18775620bf41148",
       "version_major": 2,
       "version_minor": 0
      },
      "text/plain": [
       "tokenizer_config.json:   0%|          | 0.00/49.0 [00:00<?, ?B/s]"
      ]
     },
     "metadata": {},
     "output_type": "display_data"
    },
    {
     "data": {
      "application/vnd.jupyter.widget-view+json": {
       "model_id": "63854f35751541db9e63a06c4ef7c7b0",
       "version_major": 2,
       "version_minor": 0
      },
      "text/plain": [
       "vocab.txt:   0%|          | 0.00/996k [00:00<?, ?B/s]"
      ]
     },
     "metadata": {},
     "output_type": "display_data"
    },
    {
     "data": {
      "application/vnd.jupyter.widget-view+json": {
       "model_id": "fd7fced626ce4312999d9ccd9a60edfc",
       "version_major": 2,
       "version_minor": 0
      },
      "text/plain": [
       "tokenizer.json:   0%|          | 0.00/1.96M [00:00<?, ?B/s]"
      ]
     },
     "metadata": {},
     "output_type": "display_data"
    },
    {
     "data": {
      "application/vnd.jupyter.widget-view+json": {
       "model_id": "ab31ffd2e9cb42ba8b2446aef0cabfa4",
       "version_major": 2,
       "version_minor": 0
      },
      "text/plain": [
       "config.json:   0%|          | 0.00/466 [00:00<?, ?B/s]"
      ]
     },
     "metadata": {},
     "output_type": "display_data"
    }
   ],
   "source": [
    "# Carrega o tokenizador do modelo pré-treinado\n",
    "tokenizador_bert = transformers.DistilBertTokenizer.from_pretrained('distilbert-base-multilingual-cased')"
   ]
  },
  {
   "cell_type": "code",
   "execution_count": 117,
   "metadata": {
    "colab": {
     "base_uri": "https://localhost:8080/"
    },
    "id": "i5jG9B1O_B83",
    "outputId": "078906bf-17da-4886-a2b9-26cacce23df1"
   },
   "outputs": [
    {
     "data": {
      "text/plain": [
       "('./tokenizer_config.json',\n",
       " './special_tokens_map.json',\n",
       " './vocab.txt',\n",
       " './added_tokens.json')"
      ]
     },
     "execution_count": 117,
     "metadata": {},
     "output_type": "execute_result"
    }
   ],
   "source": [
    "# Salva o tokenizador e o vocabulário localmente\n",
    "tokenizador_bert.save_pretrained('.')"
   ]
  },
  {
   "cell_type": "code",
   "execution_count": 118,
   "metadata": {
    "id": "jn_GDqa1_B83"
   },
   "outputs": [],
   "source": [
    "# Carrega um tokenizador mais veloz usando o vocabulário do tokenizador principal\n",
    "# from tokenizers import BertWordPieceTokenizer\n",
    "fast_tokenizer = BertWordPieceTokenizer('vocab.txt', lowercase = False)"
   ]
  },
  {
   "cell_type": "code",
   "execution_count": 119,
   "metadata": {
    "colab": {
     "base_uri": "https://localhost:8080/"
    },
    "id": "46g5Jekb_B83",
    "outputId": "433d73bc-38b0-4c8e-d892-e00b1a51e867"
   },
   "outputs": [
    {
     "data": {
      "text/plain": [
       "Tokenizer(vocabulary_size=119547, model=BertWordPiece, unk_token=[UNK], sep_token=[SEP], cls_token=[CLS], pad_token=[PAD], mask_token=[MASK], clean_text=True, handle_chinese_chars=True, strip_accents=None, lowercase=False, wordpieces_prefix=##)"
      ]
     },
     "execution_count": 119,
     "metadata": {},
     "output_type": "execute_result"
    }
   ],
   "source": [
    "# Visualiza o tokenizador\n",
    "fast_tokenizer"
   ]
  },
  {
   "cell_type": "code",
   "execution_count": 120,
   "metadata": {
    "id": "oqN31ULB_B84"
   },
   "outputs": [],
   "source": [
    "# Divide os dados em treino e validação com amostragem estratificada\n",
    "X_treino, X_valid, Y_treino, Y_valid = train_test_split(dados_dsa_treino['texto_processado'].values,\n",
    "                                                        dados_dsa_treino['sentimento'].values,\n",
    "                                                        test_size = 0.2,\n",
    "                                                        random_state = 42,\n",
    "                                                        stratify = dados_dsa_treino['sentimento'])"
   ]
  },
  {
   "cell_type": "markdown",
   "metadata": {
    "id": "VdOCTtV4_B84"
   },
   "source": [
    "A amostragem estratificada é uma técnica usada em estatística para garantir que subgrupos (ou estratos) de uma população sejam adequadamente representados dentro de uma amostra. É particularmente útil em situações onde a população é heterogênea e os subgrupos têm características diferentes que são importantes para a pesquisa."
   ]
  },
  {
   "cell_type": "code",
   "execution_count": 121,
   "metadata": {
    "id": "Stj6fzBm_B84"
   },
   "outputs": [],
   "source": [
    "# Comprimento máximo usado no texto\n",
    "max_length = 100"
   ]
  },
  {
   "cell_type": "code",
   "execution_count": 122,
   "metadata": {
    "colab": {
     "base_uri": "https://localhost:8080/"
    },
    "id": "K_eWVyx7_B84",
    "outputId": "cd9701be-d3be-4156-971e-52fd3ac676cd"
   },
   "outputs": [
    {
     "name": "stderr",
     "output_type": "stream",
     "text": [
      "100%|███████████████████████████████████████████████████████████████████████████████████████████████| 50/50 [00:00<00:00, 592.22it/s]\n",
      "100%|███████████████████████████████████████████████████████████████████████████████████████████████| 13/13 [00:00<00:00, 674.93it/s]\n",
      "100%|█████████████████████████████████████████████████████████████████████████████████████████████████| 8/8 [00:00<00:00, 696.86it/s]\n"
     ]
    }
   ],
   "source": [
    "# Aplica a codificação (tokenização) em nossos dados\n",
    "X_treino_final, mask_treino = dsa_encode(X_treino, fast_tokenizer, maxlen=max_length)\n",
    "X_valid_final, mask_valid = dsa_encode(X_valid, fast_tokenizer, maxlen=max_length)\n",
    "X_teste_final, mask_teste = dsa_encode(dados_dsa_teste['texto_processado'].to_numpy(), fast_tokenizer, maxlen=max_length)\n"
   ]
  },
  {
   "cell_type": "code",
   "execution_count": 123,
   "metadata": {
    "colab": {
     "base_uri": "https://localhost:8080/"
    },
    "id": "g4JGDvoo_B84",
    "outputId": "cae7aac6-63d2-406a-d894-baf004aeb5de"
   },
   "outputs": [
    {
     "data": {
      "text/plain": [
       "(12800, 100)"
      ]
     },
     "execution_count": 123,
     "metadata": {},
     "output_type": "execute_result"
    }
   ],
   "source": [
    "X_treino_final.shape"
   ]
  },
  {
   "cell_type": "code",
   "execution_count": 124,
   "metadata": {
    "id": "C9Yihpb3_B84"
   },
   "outputs": [],
   "source": [
    "# Define o encoder dos dados de saída\n",
    "dsa_le_v3 = LabelEncoder()"
   ]
  },
  {
   "cell_type": "code",
   "execution_count": 125,
   "metadata": {
    "id": "K_JvTAMg_B84"
   },
   "outputs": [],
   "source": [
    "# Aplica o codificador (fit_transform somente nos dados de treino)\n",
    "y_treino_le = dsa_le_v3.fit_transform(Y_treino)\n",
    "y_valid_le = dsa_le_v3.transform(Y_valid)\n",
    "y_teste_le = dsa_le_v3.transform(dados_dsa_teste['sentimento'])"
   ]
  },
  {
   "cell_type": "code",
   "execution_count": 126,
   "metadata": {
    "id": "pvNi0II8_B84"
   },
   "outputs": [],
   "source": [
    "# Converte a variável de saída em categórica\n",
    "y_treino_encoded = to_categorical(y_treino_le)\n",
    "y_valid_encoded = to_categorical(y_valid_le)\n",
    "y_teste_encoded = to_categorical(y_teste_le)"
   ]
  },
  {
   "cell_type": "code",
   "execution_count": 127,
   "metadata": {
    "id": "Qz5KV0j-_B85"
   },
   "outputs": [],
   "source": [
    "# Tamanho do batch\n",
    "BATCH_SIZE = 16"
   ]
  },
  {
   "cell_type": "code",
   "execution_count": 128,
   "metadata": {
    "id": "Xt1iHzYq_B85"
   },
   "outputs": [],
   "source": [
    "# Prepara o dataset de treino no formato esperado pelo TensorFlow\n",
    "dataset_treino = (\n",
    "    tf.data.Dataset\n",
    "    .from_tensor_slices(((X_treino_final, mask_treino), y_treino_encoded))\n",
    "    .repeat()\n",
    "    .shuffle(2048)\n",
    "    .batch(BATCH_SIZE)\n",
    ")"
   ]
  },
  {
   "cell_type": "code",
   "execution_count": 129,
   "metadata": {
    "id": "RtGIHVsE_B85"
   },
   "outputs": [],
   "source": [
    "# Prepara o dataset de validação no formato esperado pelo TensorFlow\n",
    "dataset_valid = (\n",
    "    tf.data.Dataset\n",
    "    .from_tensor_slices(((X_valid_final, mask_valid), y_valid_encoded))\n",
    "    .batch(BATCH_SIZE)\n",
    "    .cache()\n",
    ")"
   ]
  },
  {
   "cell_type": "code",
   "execution_count": 130,
   "metadata": {
    "id": "3MdiPXT8_B85"
   },
   "outputs": [],
   "source": [
    "# Prepara o dataset de teste no formato esperado pelo TensorFlow\n",
    "dataset_teste = (\n",
    "    tf.data.Dataset\n",
    "    .from_tensor_slices(((X_teste_final, mask_teste), y_teste_encoded))\n",
    "    .batch(BATCH_SIZE)\n",
    ")"
   ]
  },
  {
   "cell_type": "code",
   "execution_count": 131,
   "metadata": {
    "id": "-XPmVgxp_B85"
   },
   "outputs": [],
   "source": [
    "# Função para criar o modelo\n",
    "def dsa_cria_modelo(transformer, max_len = 512):\n",
    "\n",
    "    # Camada de entrada para IDs das palavras\n",
    "    input_word_ids = tf.keras.layers.Input(\n",
    "        shape = (max_len,), dtype = tf.int32, name = \"input_word_ids\"\n",
    "    )\n",
    "\n",
    "    # Camada de entrada para a máscara de atenção\n",
    "    attention_mask = tf.keras.layers.Input(\n",
    "        shape = (max_len,), dtype = tf.int32, name = \"attention_mask\"\n",
    "    )\n",
    "\n",
    "    # Camada personalizada para o Transformer\n",
    "    sequence_output = TransformerLayer(transformer)(\n",
    "        [input_word_ids, attention_mask]\n",
    "    )\n",
    "\n",
    "    # Selecionando o token CLS (primeiro token)\n",
    "    cls_token = sequence_output[:, 0, :]\n",
    "\n",
    "    # Camada densa com softmax para classificação\n",
    "    out = Dense(6, activation = \"softmax\")(cls_token)\n",
    "\n",
    "    # Modelo Keras\n",
    "    modelo = tf.keras.Model(\n",
    "        inputs = [input_word_ids, attention_mask], outputs=out\n",
    "    )\n",
    "\n",
    "    # Compilando o modelo\n",
    "    modelo.compile(\n",
    "        optimizer = Adam(learning_rate = 1e-5),\n",
    "        loss = \"categorical_crossentropy\",\n",
    "        metrics = [\"accuracy\", Precision(), Recall(), AUC()],\n",
    "    )\n",
    "\n",
    "    return modelo"
   ]
  },
  {
   "cell_type": "markdown",
   "metadata": {
    "id": "jHKjc2P1_B85"
   },
   "source": [
    "> Carregando o Modelo Pré-Treinado:"
   ]
  },
  {
   "cell_type": "markdown",
   "metadata": {
    "id": "jb3vgkeTep5r"
   },
   "source": [
    "https://huggingface.co/distilbert-base-multilingual-cased"
   ]
  },
  {
   "cell_type": "code",
   "execution_count": 132,
   "metadata": {
    "id": "hC9oxPJ7SOQH"
   },
   "outputs": [],
   "source": [
    "# Registra a classe TransformerLayer como serializável no Keras\n",
    "@register_keras_serializable(package = \"Custom\", name = \"TransformerLayer\")\n",
    "class TransformerLayer(Layer):\n",
    "\n",
    "    # Inicializa a classe TransformerLayer com o modelo Transformer e outras configurações\n",
    "    def __init__(self, transformer, **kwargs):\n",
    "\n",
    "        # Inicializa a classe base Layer\n",
    "        super().__init__(**kwargs)\n",
    "\n",
    "        # Armazena o modelo Transformer na classe\n",
    "        self.transformer = transformer\n",
    "\n",
    "    # Define a operação de chamada da camada, executada no momento do treinamento ou inferência\n",
    "    def call(self, inputs):\n",
    "\n",
    "        # Desempacota as entradas (input_ids e attention_mask)\n",
    "        input_ids, attention_mask = inputs\n",
    "\n",
    "        # Executa o modelo Transformer\n",
    "        outputs = self.transformer(input_ids=input_ids, attention_mask=attention_mask)\n",
    "\n",
    "        # Retorna a última saída oculta do modelo Transformer\n",
    "        return outputs.last_hidden_state\n",
    "\n",
    "    # Define como a camada será serializada\n",
    "    def get_config(self):\n",
    "\n",
    "        # Obtém a configuração da classe base\n",
    "        config = super().get_config()\n",
    "\n",
    "        # Adiciona a configuração completa do modelo Transformer\n",
    "        config.update({\n",
    "            \"transformer_config\": self.transformer.config.to_dict()  # Salva a configuração do Transformer\n",
    "        })\n",
    "        return config  # Retorna a configuração completa da camada\n",
    "\n",
    "    # Método para recriar a camada a partir de uma configuração salva\n",
    "    @classmethod\n",
    "    def from_config(cls, config):\n",
    "\n",
    "        # Reconstrói a configuração do modelo Transformer a partir do dicionário salvo\n",
    "        transformer_config = DistilBertConfig.from_dict(config[\"transformer_config\"])\n",
    "\n",
    "        # Carrega o modelo Transformer pré-treinado com a configuração reconstruída\n",
    "        transformer = TFDistilBertModel.from_pretrained(\n",
    "            \"distilbert-base-multilingual-cased\",\n",
    "            config=transformer_config\n",
    "        )\n",
    "\n",
    "        # Retorna uma nova instância da camada TransformerLayer\n",
    "        return cls(transformer=transformer)"
   ]
  },
  {
   "cell_type": "code",
   "execution_count": 133,
   "metadata": {
    "colab": {
     "base_uri": "https://localhost:8080/",
     "height": 194,
     "referenced_widgets": [
      "ecc8b741e3624838a52c0546eed740fc",
      "f613090b803c4cc8ba939d8866a67097",
      "bfec94fd67284ad08a4dbb7695b1f95f",
      "411df74dd4304284b3c6cde69fb54ff8",
      "8e401abe7bda43a3965d20c0c42c8a9b",
      "3b66d91750b1487a861483ec998a6c83",
      "81873e2dc8b64f51af3148b05e85132f",
      "d4a7992ee23f454cb3c5915c8573e2c9",
      "ff30af6c8c06473ca9e6421440fede26",
      "30250e8cf6dd4db590a0848af33aae89",
      "0a96f709b6ee4e008eeb224c377aa6fb"
     ]
    },
    "id": "4xmhiHJ3_B85",
    "outputId": "2aa1cdaa-8e2c-43fa-e7e6-77ed192bb088"
   },
   "outputs": [
    {
     "data": {
      "application/vnd.jupyter.widget-view+json": {
       "model_id": "48ff48ce8d174d95ade2d5cc37265040",
       "version_major": 2,
       "version_minor": 0
      },
      "text/plain": [
       "model.safetensors:   0%|          | 0.00/542M [00:00<?, ?B/s]"
      ]
     },
     "metadata": {},
     "output_type": "display_data"
    },
    {
     "name": "stderr",
     "output_type": "stream",
     "text": [
      "Some weights of the PyTorch model were not used when initializing the TF 2.0 model TFDistilBertModel: ['vocab_transform.weight', 'vocab_projector.bias', 'vocab_transform.bias', 'vocab_layer_norm.bias', 'vocab_layer_norm.weight']\n",
      "- This IS expected if you are initializing TFDistilBertModel from a PyTorch model trained on another task or with another architecture (e.g. initializing a TFBertForSequenceClassification model from a BertForPreTraining model).\n",
      "- This IS NOT expected if you are initializing TFDistilBertModel from a PyTorch model that you expect to be exactly identical (e.g. initializing a TFBertForSequenceClassification model from a BertForSequenceClassification model).\n",
      "All the weights of TFDistilBertModel were initialized from the PyTorch model.\n",
      "If your task is similar to the task the model of the checkpoint was trained on, you can already use TFDistilBertModel for predictions without further training.\n"
     ]
    }
   ],
   "source": [
    "# Carregando o modelo pré-treinado\n",
    "transformer_layer = TFDistilBertModel.from_pretrained(\n",
    "    \"distilbert-base-multilingual-cased\"\n",
    ")"
   ]
  },
  {
   "cell_type": "markdown",
   "metadata": {
    "id": "AfNWz9xI_B86"
   },
   "source": [
    "**TFDistilBertModel**: É uma classe dentro da biblioteca transformers. Ela representa o modelo DistilBERT adaptado para TensorFlow. O DistilBERT é uma versão simplificada do BERT que oferece um bom balanço entre desempenho e eficiência. Ele foi treinado para destilar o conhecimento do BERT mantendo a maior parte de sua eficácia, mas com uma arquitetura mais leve e mais rápida para treinamento e inferência.\n",
    "\n",
    "**from_pretrained**: Este é um método da classe TFDistilBertModel que permite carregar um modelo pré-treinado. Utilizar um modelo pré-treinado permite aproveitar um modelo que já foi treinado em um grande conjunto de dados e aprendeu um bom entendimento da linguagem. Isso é especialmente útil para tarefas de PLN, onde treinar um modelo do zero requer grandes quantidades de dados e poder computacional.\n",
    "\n",
    "**'distilbert-base-multilingual-cased'**: Este é o identificador do modelo pré-treinado específico que está sendo carregado. Neste caso, é o distilbert-base-multilingual-cased, que é uma versão do DistilBERT que suporta múltiplos idiomas (multilingual) e distingue entre letras maiúsculas e minúsculas (cased). Este modelo foi treinado com textos em vários idiomas, tornando-o útil para aplicações que precisam entender e processar texto em múltiplas línguas."
   ]
  },
  {
   "cell_type": "code",
   "execution_count": 134,
   "metadata": {
    "id": "IWYmfHO2_B86"
   },
   "outputs": [],
   "source": [
    "# Cria o modelo com as camadas do transformador pré-treinado e nossas camadas customizadas para o ajuste fino\n",
    "modelo_dsa_v3 = dsa_cria_modelo(transformer_layer, max_len = max_length)"
   ]
  },
  {
   "cell_type": "code",
   "execution_count": 135,
   "metadata": {
    "colab": {
     "base_uri": "https://localhost:8080/",
     "height": 347
    },
    "id": "JgJ2iNaS_B86",
    "outputId": "17b710f8-38d9-4f0d-eafb-c13a4758720b"
   },
   "outputs": [
    {
     "data": {
      "text/html": [
       "<pre style=\"white-space:pre;overflow-x:auto;line-height:normal;font-family:Menlo,'DejaVu Sans Mono',consolas,'Courier New',monospace\"><span style=\"font-weight: bold\">Model: \"functional_17\"</span>\n",
       "</pre>\n"
      ],
      "text/plain": [
       "\u001b[1mModel: \"functional_17\"\u001b[0m\n"
      ]
     },
     "metadata": {},
     "output_type": "display_data"
    },
    {
     "data": {
      "text/html": [
       "<pre style=\"white-space:pre;overflow-x:auto;line-height:normal;font-family:Menlo,'DejaVu Sans Mono',consolas,'Courier New',monospace\">┏━━━━━━━━━━━━━━━━━━━━━┳━━━━━━━━━━━━━━━━━━━┳━━━━━━━━━━━━┳━━━━━━━━━━━━━━━━━━━┓\n",
       "┃<span style=\"font-weight: bold\"> Layer (type)        </span>┃<span style=\"font-weight: bold\"> Output Shape      </span>┃<span style=\"font-weight: bold\">    Param # </span>┃<span style=\"font-weight: bold\"> Connected to      </span>┃\n",
       "┡━━━━━━━━━━━━━━━━━━━━━╇━━━━━━━━━━━━━━━━━━━╇━━━━━━━━━━━━╇━━━━━━━━━━━━━━━━━━━┩\n",
       "│ input_word_ids      │ (<span style=\"color: #00d7ff; text-decoration-color: #00d7ff\">None</span>, <span style=\"color: #00af00; text-decoration-color: #00af00\">100</span>)       │          <span style=\"color: #00af00; text-decoration-color: #00af00\">0</span> │ -                 │\n",
       "│ (<span style=\"color: #0087ff; text-decoration-color: #0087ff\">InputLayer</span>)        │                   │            │                   │\n",
       "├─────────────────────┼───────────────────┼────────────┼───────────────────┤\n",
       "│ attention_mask      │ (<span style=\"color: #00d7ff; text-decoration-color: #00d7ff\">None</span>, <span style=\"color: #00af00; text-decoration-color: #00af00\">100</span>)       │          <span style=\"color: #00af00; text-decoration-color: #00af00\">0</span> │ -                 │\n",
       "│ (<span style=\"color: #0087ff; text-decoration-color: #0087ff\">InputLayer</span>)        │                   │            │                   │\n",
       "├─────────────────────┼───────────────────┼────────────┼───────────────────┤\n",
       "│ transformer_layer   │ (<span style=\"color: #00d7ff; text-decoration-color: #00d7ff\">None</span>, <span style=\"color: #00af00; text-decoration-color: #00af00\">100</span>, <span style=\"color: #00af00; text-decoration-color: #00af00\">768</span>)  │          <span style=\"color: #00af00; text-decoration-color: #00af00\">0</span> │ input_word_ids[<span style=\"color: #00af00; text-decoration-color: #00af00\">0</span>… │\n",
       "│ (<span style=\"color: #0087ff; text-decoration-color: #0087ff\">TransformerLayer</span>)  │                   │            │ attention_mask[<span style=\"color: #00af00; text-decoration-color: #00af00\">0</span>… │\n",
       "├─────────────────────┼───────────────────┼────────────┼───────────────────┤\n",
       "│ get_item (<span style=\"color: #0087ff; text-decoration-color: #0087ff\">GetItem</span>)  │ (<span style=\"color: #00d7ff; text-decoration-color: #00d7ff\">None</span>, <span style=\"color: #00af00; text-decoration-color: #00af00\">768</span>)       │          <span style=\"color: #00af00; text-decoration-color: #00af00\">0</span> │ transformer_laye… │\n",
       "├─────────────────────┼───────────────────┼────────────┼───────────────────┤\n",
       "│ dense_7 (<span style=\"color: #0087ff; text-decoration-color: #0087ff\">Dense</span>)     │ (<span style=\"color: #00d7ff; text-decoration-color: #00d7ff\">None</span>, <span style=\"color: #00af00; text-decoration-color: #00af00\">6</span>)         │      <span style=\"color: #00af00; text-decoration-color: #00af00\">4,614</span> │ get_item[<span style=\"color: #00af00; text-decoration-color: #00af00\">0</span>][<span style=\"color: #00af00; text-decoration-color: #00af00\">0</span>]    │\n",
       "└─────────────────────┴───────────────────┴────────────┴───────────────────┘\n",
       "</pre>\n"
      ],
      "text/plain": [
       "┏━━━━━━━━━━━━━━━━━━━━━┳━━━━━━━━━━━━━━━━━━━┳━━━━━━━━━━━━┳━━━━━━━━━━━━━━━━━━━┓\n",
       "┃\u001b[1m \u001b[0m\u001b[1mLayer (type)       \u001b[0m\u001b[1m \u001b[0m┃\u001b[1m \u001b[0m\u001b[1mOutput Shape     \u001b[0m\u001b[1m \u001b[0m┃\u001b[1m \u001b[0m\u001b[1m   Param #\u001b[0m\u001b[1m \u001b[0m┃\u001b[1m \u001b[0m\u001b[1mConnected to     \u001b[0m\u001b[1m \u001b[0m┃\n",
       "┡━━━━━━━━━━━━━━━━━━━━━╇━━━━━━━━━━━━━━━━━━━╇━━━━━━━━━━━━╇━━━━━━━━━━━━━━━━━━━┩\n",
       "│ input_word_ids      │ (\u001b[38;5;45mNone\u001b[0m, \u001b[38;5;34m100\u001b[0m)       │          \u001b[38;5;34m0\u001b[0m │ -                 │\n",
       "│ (\u001b[38;5;33mInputLayer\u001b[0m)        │                   │            │                   │\n",
       "├─────────────────────┼───────────────────┼────────────┼───────────────────┤\n",
       "│ attention_mask      │ (\u001b[38;5;45mNone\u001b[0m, \u001b[38;5;34m100\u001b[0m)       │          \u001b[38;5;34m0\u001b[0m │ -                 │\n",
       "│ (\u001b[38;5;33mInputLayer\u001b[0m)        │                   │            │                   │\n",
       "├─────────────────────┼───────────────────┼────────────┼───────────────────┤\n",
       "│ transformer_layer   │ (\u001b[38;5;45mNone\u001b[0m, \u001b[38;5;34m100\u001b[0m, \u001b[38;5;34m768\u001b[0m)  │          \u001b[38;5;34m0\u001b[0m │ input_word_ids[\u001b[38;5;34m0\u001b[0m… │\n",
       "│ (\u001b[38;5;33mTransformerLayer\u001b[0m)  │                   │            │ attention_mask[\u001b[38;5;34m0\u001b[0m… │\n",
       "├─────────────────────┼───────────────────┼────────────┼───────────────────┤\n",
       "│ get_item (\u001b[38;5;33mGetItem\u001b[0m)  │ (\u001b[38;5;45mNone\u001b[0m, \u001b[38;5;34m768\u001b[0m)       │          \u001b[38;5;34m0\u001b[0m │ transformer_laye… │\n",
       "├─────────────────────┼───────────────────┼────────────┼───────────────────┤\n",
       "│ dense_7 (\u001b[38;5;33mDense\u001b[0m)     │ (\u001b[38;5;45mNone\u001b[0m, \u001b[38;5;34m6\u001b[0m)         │      \u001b[38;5;34m4,614\u001b[0m │ get_item[\u001b[38;5;34m0\u001b[0m][\u001b[38;5;34m0\u001b[0m]    │\n",
       "└─────────────────────┴───────────────────┴────────────┴───────────────────┘\n"
      ]
     },
     "metadata": {},
     "output_type": "display_data"
    },
    {
     "data": {
      "text/html": [
       "<pre style=\"white-space:pre;overflow-x:auto;line-height:normal;font-family:Menlo,'DejaVu Sans Mono',consolas,'Courier New',monospace\"><span style=\"font-weight: bold\"> Total params: </span><span style=\"color: #00af00; text-decoration-color: #00af00\">4,614</span> (18.02 KB)\n",
       "</pre>\n"
      ],
      "text/plain": [
       "\u001b[1m Total params: \u001b[0m\u001b[38;5;34m4,614\u001b[0m (18.02 KB)\n"
      ]
     },
     "metadata": {},
     "output_type": "display_data"
    },
    {
     "data": {
      "text/html": [
       "<pre style=\"white-space:pre;overflow-x:auto;line-height:normal;font-family:Menlo,'DejaVu Sans Mono',consolas,'Courier New',monospace\"><span style=\"font-weight: bold\"> Trainable params: </span><span style=\"color: #00af00; text-decoration-color: #00af00\">4,614</span> (18.02 KB)\n",
       "</pre>\n"
      ],
      "text/plain": [
       "\u001b[1m Trainable params: \u001b[0m\u001b[38;5;34m4,614\u001b[0m (18.02 KB)\n"
      ]
     },
     "metadata": {},
     "output_type": "display_data"
    },
    {
     "data": {
      "text/html": [
       "<pre style=\"white-space:pre;overflow-x:auto;line-height:normal;font-family:Menlo,'DejaVu Sans Mono',consolas,'Courier New',monospace\"><span style=\"font-weight: bold\"> Non-trainable params: </span><span style=\"color: #00af00; text-decoration-color: #00af00\">0</span> (0.00 B)\n",
       "</pre>\n"
      ],
      "text/plain": [
       "\u001b[1m Non-trainable params: \u001b[0m\u001b[38;5;34m0\u001b[0m (0.00 B)\n"
      ]
     },
     "metadata": {},
     "output_type": "display_data"
    }
   ],
   "source": [
    "# Resumo do modelo\n",
    "modelo_dsa_v3.summary()"
   ]
  },
  {
   "cell_type": "code",
   "execution_count": 136,
   "metadata": {
    "id": "Jow5L-RQ_B86"
   },
   "outputs": [],
   "source": [
    "# Definindo as primeiras três camadas do modelo como não treináveis\n",
    "modelo_dsa_v3.layers[0].trainable = False\n",
    "modelo_dsa_v3.layers[1].trainable = False\n",
    "modelo_dsa_v3.layers[2].trainable = False"
   ]
  },
  {
   "cell_type": "markdown",
   "metadata": {
    "id": "4GNSlgl7_B86"
   },
   "source": [
    "Estes índices acima acessam especificamente a primeira, segunda e terceira camadas do modelo, respectivamente. Em Python, a indexação começa em 0, portanto, layers[0] é a primeira camada, layers[1] é a segunda e assim por diante.\n",
    "\n",
    "**trainable = False**: Esta instrução define a propriedade trainable da camada especificada para False. Quando uma camada é definida como não treinável, isso significa que seus pesos não serão atualizados durante o treinamento do modelo. Em outras palavras, o estado dessa camada permanecerá o mesmo, independente do processo de aprendizado que o resto do modelo está passando.\n",
    "\n",
    "Queremos treinar somente a parte final do modelo. Isso é o ajuste fino de modelos pré-treinados."
   ]
  },
  {
   "cell_type": "code",
   "execution_count": 137,
   "metadata": {
    "colab": {
     "base_uri": "https://localhost:8080/",
     "height": 347
    },
    "id": "n-qNZdvp_B86",
    "outputId": "908078de-58a1-4f5a-9527-658f927bc3e3"
   },
   "outputs": [
    {
     "data": {
      "text/html": [
       "<pre style=\"white-space:pre;overflow-x:auto;line-height:normal;font-family:Menlo,'DejaVu Sans Mono',consolas,'Courier New',monospace\"><span style=\"font-weight: bold\">Model: \"functional_17\"</span>\n",
       "</pre>\n"
      ],
      "text/plain": [
       "\u001b[1mModel: \"functional_17\"\u001b[0m\n"
      ]
     },
     "metadata": {},
     "output_type": "display_data"
    },
    {
     "data": {
      "text/html": [
       "<pre style=\"white-space:pre;overflow-x:auto;line-height:normal;font-family:Menlo,'DejaVu Sans Mono',consolas,'Courier New',monospace\">┏━━━━━━━━━━━━━━━━━━━━━┳━━━━━━━━━━━━━━━━━━━┳━━━━━━━━━━━━┳━━━━━━━━━━━━━━━━━━━┓\n",
       "┃<span style=\"font-weight: bold\"> Layer (type)        </span>┃<span style=\"font-weight: bold\"> Output Shape      </span>┃<span style=\"font-weight: bold\">    Param # </span>┃<span style=\"font-weight: bold\"> Connected to      </span>┃\n",
       "┡━━━━━━━━━━━━━━━━━━━━━╇━━━━━━━━━━━━━━━━━━━╇━━━━━━━━━━━━╇━━━━━━━━━━━━━━━━━━━┩\n",
       "│ input_word_ids      │ (<span style=\"color: #00d7ff; text-decoration-color: #00d7ff\">None</span>, <span style=\"color: #00af00; text-decoration-color: #00af00\">100</span>)       │          <span style=\"color: #00af00; text-decoration-color: #00af00\">0</span> │ -                 │\n",
       "│ (<span style=\"color: #0087ff; text-decoration-color: #0087ff\">InputLayer</span>)        │                   │            │                   │\n",
       "├─────────────────────┼───────────────────┼────────────┼───────────────────┤\n",
       "│ attention_mask      │ (<span style=\"color: #00d7ff; text-decoration-color: #00d7ff\">None</span>, <span style=\"color: #00af00; text-decoration-color: #00af00\">100</span>)       │          <span style=\"color: #00af00; text-decoration-color: #00af00\">0</span> │ -                 │\n",
       "│ (<span style=\"color: #0087ff; text-decoration-color: #0087ff\">InputLayer</span>)        │                   │            │                   │\n",
       "├─────────────────────┼───────────────────┼────────────┼───────────────────┤\n",
       "│ transformer_layer   │ (<span style=\"color: #00d7ff; text-decoration-color: #00d7ff\">None</span>, <span style=\"color: #00af00; text-decoration-color: #00af00\">100</span>, <span style=\"color: #00af00; text-decoration-color: #00af00\">768</span>)  │          <span style=\"color: #00af00; text-decoration-color: #00af00\">0</span> │ input_word_ids[<span style=\"color: #00af00; text-decoration-color: #00af00\">0</span>… │\n",
       "│ (<span style=\"color: #0087ff; text-decoration-color: #0087ff\">TransformerLayer</span>)  │                   │            │ attention_mask[<span style=\"color: #00af00; text-decoration-color: #00af00\">0</span>… │\n",
       "├─────────────────────┼───────────────────┼────────────┼───────────────────┤\n",
       "│ get_item (<span style=\"color: #0087ff; text-decoration-color: #0087ff\">GetItem</span>)  │ (<span style=\"color: #00d7ff; text-decoration-color: #00d7ff\">None</span>, <span style=\"color: #00af00; text-decoration-color: #00af00\">768</span>)       │          <span style=\"color: #00af00; text-decoration-color: #00af00\">0</span> │ transformer_laye… │\n",
       "├─────────────────────┼───────────────────┼────────────┼───────────────────┤\n",
       "│ dense_7 (<span style=\"color: #0087ff; text-decoration-color: #0087ff\">Dense</span>)     │ (<span style=\"color: #00d7ff; text-decoration-color: #00d7ff\">None</span>, <span style=\"color: #00af00; text-decoration-color: #00af00\">6</span>)         │      <span style=\"color: #00af00; text-decoration-color: #00af00\">4,614</span> │ get_item[<span style=\"color: #00af00; text-decoration-color: #00af00\">0</span>][<span style=\"color: #00af00; text-decoration-color: #00af00\">0</span>]    │\n",
       "└─────────────────────┴───────────────────┴────────────┴───────────────────┘\n",
       "</pre>\n"
      ],
      "text/plain": [
       "┏━━━━━━━━━━━━━━━━━━━━━┳━━━━━━━━━━━━━━━━━━━┳━━━━━━━━━━━━┳━━━━━━━━━━━━━━━━━━━┓\n",
       "┃\u001b[1m \u001b[0m\u001b[1mLayer (type)       \u001b[0m\u001b[1m \u001b[0m┃\u001b[1m \u001b[0m\u001b[1mOutput Shape     \u001b[0m\u001b[1m \u001b[0m┃\u001b[1m \u001b[0m\u001b[1m   Param #\u001b[0m\u001b[1m \u001b[0m┃\u001b[1m \u001b[0m\u001b[1mConnected to     \u001b[0m\u001b[1m \u001b[0m┃\n",
       "┡━━━━━━━━━━━━━━━━━━━━━╇━━━━━━━━━━━━━━━━━━━╇━━━━━━━━━━━━╇━━━━━━━━━━━━━━━━━━━┩\n",
       "│ input_word_ids      │ (\u001b[38;5;45mNone\u001b[0m, \u001b[38;5;34m100\u001b[0m)       │          \u001b[38;5;34m0\u001b[0m │ -                 │\n",
       "│ (\u001b[38;5;33mInputLayer\u001b[0m)        │                   │            │                   │\n",
       "├─────────────────────┼───────────────────┼────────────┼───────────────────┤\n",
       "│ attention_mask      │ (\u001b[38;5;45mNone\u001b[0m, \u001b[38;5;34m100\u001b[0m)       │          \u001b[38;5;34m0\u001b[0m │ -                 │\n",
       "│ (\u001b[38;5;33mInputLayer\u001b[0m)        │                   │            │                   │\n",
       "├─────────────────────┼───────────────────┼────────────┼───────────────────┤\n",
       "│ transformer_layer   │ (\u001b[38;5;45mNone\u001b[0m, \u001b[38;5;34m100\u001b[0m, \u001b[38;5;34m768\u001b[0m)  │          \u001b[38;5;34m0\u001b[0m │ input_word_ids[\u001b[38;5;34m0\u001b[0m… │\n",
       "│ (\u001b[38;5;33mTransformerLayer\u001b[0m)  │                   │            │ attention_mask[\u001b[38;5;34m0\u001b[0m… │\n",
       "├─────────────────────┼───────────────────┼────────────┼───────────────────┤\n",
       "│ get_item (\u001b[38;5;33mGetItem\u001b[0m)  │ (\u001b[38;5;45mNone\u001b[0m, \u001b[38;5;34m768\u001b[0m)       │          \u001b[38;5;34m0\u001b[0m │ transformer_laye… │\n",
       "├─────────────────────┼───────────────────┼────────────┼───────────────────┤\n",
       "│ dense_7 (\u001b[38;5;33mDense\u001b[0m)     │ (\u001b[38;5;45mNone\u001b[0m, \u001b[38;5;34m6\u001b[0m)         │      \u001b[38;5;34m4,614\u001b[0m │ get_item[\u001b[38;5;34m0\u001b[0m][\u001b[38;5;34m0\u001b[0m]    │\n",
       "└─────────────────────┴───────────────────┴────────────┴───────────────────┘\n"
      ]
     },
     "metadata": {},
     "output_type": "display_data"
    },
    {
     "data": {
      "text/html": [
       "<pre style=\"white-space:pre;overflow-x:auto;line-height:normal;font-family:Menlo,'DejaVu Sans Mono',consolas,'Courier New',monospace\"><span style=\"font-weight: bold\"> Total params: </span><span style=\"color: #00af00; text-decoration-color: #00af00\">4,614</span> (18.02 KB)\n",
       "</pre>\n"
      ],
      "text/plain": [
       "\u001b[1m Total params: \u001b[0m\u001b[38;5;34m4,614\u001b[0m (18.02 KB)\n"
      ]
     },
     "metadata": {},
     "output_type": "display_data"
    },
    {
     "data": {
      "text/html": [
       "<pre style=\"white-space:pre;overflow-x:auto;line-height:normal;font-family:Menlo,'DejaVu Sans Mono',consolas,'Courier New',monospace\"><span style=\"font-weight: bold\"> Trainable params: </span><span style=\"color: #00af00; text-decoration-color: #00af00\">4,614</span> (18.02 KB)\n",
       "</pre>\n"
      ],
      "text/plain": [
       "\u001b[1m Trainable params: \u001b[0m\u001b[38;5;34m4,614\u001b[0m (18.02 KB)\n"
      ]
     },
     "metadata": {},
     "output_type": "display_data"
    },
    {
     "data": {
      "text/html": [
       "<pre style=\"white-space:pre;overflow-x:auto;line-height:normal;font-family:Menlo,'DejaVu Sans Mono',consolas,'Courier New',monospace\"><span style=\"font-weight: bold\"> Non-trainable params: </span><span style=\"color: #00af00; text-decoration-color: #00af00\">0</span> (0.00 B)\n",
       "</pre>\n"
      ],
      "text/plain": [
       "\u001b[1m Non-trainable params: \u001b[0m\u001b[38;5;34m0\u001b[0m (0.00 B)\n"
      ]
     },
     "metadata": {},
     "output_type": "display_data"
    }
   ],
   "source": [
    "# Resumo\n",
    "modelo_dsa_v3.summary()"
   ]
  },
  {
   "cell_type": "code",
   "execution_count": 138,
   "metadata": {
    "id": "UAtPTHoz_B86"
   },
   "outputs": [],
   "source": [
    "# Hiperparâmetros\n",
    "n_steps = X_treino_final.shape[0] // BATCH_SIZE\n",
    "num_epochs = 3"
   ]
  },
  {
   "cell_type": "markdown",
   "metadata": {
    "id": "lwQKcK7W_B86"
   },
   "source": [
    "> Treinamento do Modelo."
   ]
  },
  {
   "cell_type": "markdown",
   "metadata": {},
   "source": [
    "Obs: Para obter performance melhor pode ser necessário treinar por mais tempo, refazer o pré-processamento dos dados, reajustar os hiperparâmetros ou ajustar a arquitetura do modelo. E isso pode ser necessário SEMPRE que novas versões dos pacotes forem usadas."
   ]
  },
  {
   "cell_type": "code",
   "execution_count": 139,
   "metadata": {
    "colab": {
     "base_uri": "https://localhost:8080/"
    },
    "id": "e8ZqAHgj_B87",
    "outputId": "857abba4-5a0c-4a62-82a4-3e0be89652f8"
   },
   "outputs": [
    {
     "name": "stdout",
     "output_type": "stream",
     "text": [
      "Epoch 1/3\n",
      "\u001b[1m800/800\u001b[0m \u001b[32m━━━━━━━━━━━━━━━━━━━━\u001b[0m\u001b[37m\u001b[0m \u001b[1m286s\u001b[0m 356ms/step - accuracy: 0.1484 - auc_2: 0.4934 - loss: 1.8544 - precision_2: 0.0000e+00 - recall_2: 0.0000e+00 - val_accuracy: 0.3162 - val_auc_2: 0.6820 - val_loss: 1.6443 - val_precision_2: 0.0000e+00 - val_recall_2: 0.0000e+00\n",
      "Epoch 2/3\n",
      "\u001b[1m800/800\u001b[0m \u001b[32m━━━━━━━━━━━━━━━━━━━━\u001b[0m\u001b[37m\u001b[0m \u001b[1m279s\u001b[0m 349ms/step - accuracy: 0.3148 - auc_2: 0.6932 - loss: 1.6250 - precision_2: 0.1519 - recall_2: 7.1764e-05 - val_accuracy: 0.3313 - val_auc_2: 0.7067 - val_loss: 1.6012 - val_precision_2: 0.0000e+00 - val_recall_2: 0.0000e+00\n",
      "Epoch 3/3\n",
      "\u001b[1m800/800\u001b[0m \u001b[32m━━━━━━━━━━━━━━━━━━━━\u001b[0m\u001b[37m\u001b[0m \u001b[1m279s\u001b[0m 349ms/step - accuracy: 0.3266 - auc_2: 0.7091 - loss: 1.5951 - precision_2: 0.5779 - recall_2: 2.5017e-04 - val_accuracy: 0.3469 - val_auc_2: 0.7140 - val_loss: 1.5851 - val_precision_2: 0.0000e+00 - val_recall_2: 0.0000e+00\n",
      "CPU times: user 1h 32min 44s, sys: 17min 55s, total: 1h 50min 40s\n",
      "Wall time: 14min 4s\n"
     ]
    }
   ],
   "source": [
    "%%time\n",
    "history = modelo_dsa_v3.fit(dataset_treino,\n",
    "                            steps_per_epoch = n_steps,\n",
    "                            validation_data = dataset_valid,\n",
    "                            epochs = num_epochs)"
   ]
  },
  {
   "cell_type": "code",
   "execution_count": 140,
   "metadata": {
    "colab": {
     "base_uri": "https://localhost:8080/",
     "height": 430
    },
    "id": "1Mc2vFw4_B87",
    "outputId": "6b77c10b-6d21-4e26-9fcc-eaade5b473a8"
   },
   "outputs": [
    {
     "data": {
      "image/png": "[encoded data removed]",
      "text/plain": [
       "<Figure size 640x480 with 1 Axes>"
      ]
     },
     "metadata": {},
     "output_type": "display_data"
    }
   ],
   "source": [
    "# Curvas de aprendizado\n",
    "loss, val_loss = history.history['loss'], history.history['val_loss']\n",
    "plt.plot(loss, label = 'Erro em Treino')\n",
    "plt.plot(val_loss, label = 'Erro em Validação')\n",
    "plt.legend()\n",
    "plt.show()"
   ]
  },
  {
   "cell_type": "code",
   "execution_count": 141,
   "metadata": {
    "colab": {
     "base_uri": "https://localhost:8080/"
    },
    "id": "pQg_EGH0_B87",
    "outputId": "c78442a4-21da-46ec-dfd0-7b957853b98a"
   },
   "outputs": [
    {
     "name": "stderr",
     "output_type": "stream",
     "text": [
      "100%|█████████████████████████████████████████████████████████████████████████████████████████████████| 8/8 [00:00<00:00, 624.90it/s]\n"
     ]
    },
    {
     "name": "stdout",
     "output_type": "stream",
     "text": [
      "\u001b[1m63/63\u001b[0m \u001b[32m━━━━━━━━━━━━━━━━━━━━\u001b[0m\u001b[37m\u001b[0m \u001b[1m27s\u001b[0m 432ms/step\n"
     ]
    }
   ],
   "source": [
    "# Geração dos tensores de entrada e máscara\n",
    "X_teste_final, mask_teste = dsa_encode(\n",
    "    dados_dsa_teste['texto_processado'].to_numpy(),\n",
    "    fast_tokenizer,\n",
    "    maxlen = max_length\n",
    ")\n",
    "\n",
    "# Realizar a previsão com ambos os tensores\n",
    "previsoes = modelo_dsa_v3.predict((X_teste_final, mask_teste))"
   ]
  },
  {
   "cell_type": "code",
   "execution_count": 142,
   "metadata": {
    "id": "esb_InV__B87"
   },
   "outputs": [],
   "source": [
    "# Labels\n",
    "labels_previstos = previsoes.argmax(axis = 1)"
   ]
  },
  {
   "cell_type": "code",
   "execution_count": 143,
   "metadata": {
    "colab": {
     "base_uri": "https://localhost:8080/"
    },
    "id": "hegE4Iix_B87",
    "outputId": "4428f0e9-3420-4859-89ef-60b036d4bccb"
   },
   "outputs": [
    {
     "name": "stdout",
     "output_type": "stream",
     "text": [
      "              precision    recall  f1-score   support\n",
      "\n",
      "           0       0.00      0.00      0.00       275\n",
      "           1       0.00      0.00      0.00       224\n",
      "           2       0.37      0.71      0.49       695\n",
      "           3       0.00      0.00      0.00       159\n",
      "           4       0.31      0.35      0.33       581\n",
      "           5       0.00      0.00      0.00        66\n",
      "\n",
      "    accuracy                           0.35      2000\n",
      "   macro avg       0.11      0.18      0.14      2000\n",
      "weighted avg       0.22      0.35      0.27      2000\n",
      "\n"
     ]
    }
   ],
   "source": [
    "print(classification_report(y_teste_le, labels_previstos))"
   ]
  },
  {
   "cell_type": "code",
   "execution_count": 144,
   "metadata": {
    "colab": {
     "base_uri": "https://localhost:8080/"
    },
    "id": "JKE_yR2o_B87",
    "outputId": "da500ba3-78ba-4a4a-b037-18781422b524"
   },
   "outputs": [
    {
     "name": "stdout",
     "output_type": "stream",
     "text": [
      "[[  0   0 165   0 110   0]\n",
      " [  0   0 150   0  74   0]\n",
      " [  1   0 495   0 199   0]\n",
      " [  0   0 100   0  59   0]\n",
      " [  0   0 375   0 206   0]\n",
      " [  0   0  44   0  22   0]]\n"
     ]
    }
   ],
   "source": [
    "print(confusion_matrix(y_teste_le, labels_previstos))"
   ]
  },
  {
   "cell_type": "code",
   "execution_count": 145,
   "metadata": {
    "colab": {
     "base_uri": "https://localhost:8080/"
    },
    "id": "b6YGnMZr_B87",
    "outputId": "cd3437ea-296a-4c79-f4ff-571f52d08241"
   },
   "outputs": [
    {
     "name": "stdout",
     "output_type": "stream",
     "text": [
      "0.3505\n"
     ]
    }
   ],
   "source": [
    "print(accuracy_score(y_teste_le, labels_previstos))"
   ]
  },
  {
   "cell_type": "code",
   "execution_count": 146,
   "metadata": {
    "id": "yGkLuWHe_B88"
   },
   "outputs": [],
   "source": [
    "# Salva o modelo no formato do TensorFlow\n",
    "modelo_dsa_v3.save(\"modelo_dsa_v3.keras\")"
   ]
  },
  {
   "cell_type": "markdown",
   "metadata": {
    "id": "8Ho9mmiv_B88"
   },
   "source": [
    "> Deploy do Modelo."
   ]
  },
  {
   "cell_type": "markdown",
   "metadata": {
    "id": "X8Taem_4_B88"
   },
   "source": [
    "Nota: O TensorFlow não reconhece automaticamente camadas personalizadas ou objetos que não fazem parte do núcleo do Keras/TensorFlow, como é o caso do TFDistilBertModel do pacote transformers.\n",
    "\n",
    "Para resolver isso, você precisa registrar a camada personalizada (neste caso, TFDistilBertModel) antes de carregar o modelo, conforme abaixo:"
   ]
  },
  {
   "cell_type": "code",
   "execution_count": 147,
   "metadata": {
    "colab": {
     "base_uri": "https://localhost:8080/"
    },
    "id": "4pebICRJ_B88",
    "outputId": "57a7f613-9634-411c-89c9-a481d941491d"
   },
   "outputs": [
    {
     "name": "stderr",
     "output_type": "stream",
     "text": [
      "Some weights of the PyTorch model were not used when initializing the TF 2.0 model TFDistilBertModel: ['vocab_transform.weight', 'vocab_projector.bias', 'vocab_transform.bias', 'vocab_layer_norm.bias', 'vocab_layer_norm.weight']\n",
      "- This IS expected if you are initializing TFDistilBertModel from a PyTorch model trained on another task or with another architecture (e.g. initializing a TFBertForSequenceClassification model from a BertForPreTraining model).\n",
      "- This IS NOT expected if you are initializing TFDistilBertModel from a PyTorch model that you expect to be exactly identical (e.g. initializing a TFBertForSequenceClassification model from a BertForSequenceClassification model).\n",
      "All the weights of TFDistilBertModel were initialized from the PyTorch model.\n",
      "If your task is similar to the task the model of the checkpoint was trained on, you can already use TFDistilBertModel for predictions without further training.\n"
     ]
    }
   ],
   "source": [
    "# Carregando o modelo\n",
    "\n",
    "# Imports\n",
    "from transformers import TFDistilBertModel\n",
    "from tensorflow.keras.models import load_model\n",
    "from tensorflow.keras.utils import custom_object_scope\n",
    "\n",
    "modelo_recarregado = load_model(\n",
    "    \"modelo_dsa_v3.keras\",\n",
    "    custom_objects = {\"TransformerLayer\": TransformerLayer}\n",
    ")"
   ]
  },
  {
   "cell_type": "code",
   "execution_count": 148,
   "metadata": {
    "id": "CHoyEN7G_B88"
   },
   "outputs": [],
   "source": [
    "# Nova frase (sentimento = medo (fear))\n",
    "frase = \"i even feel a little shaky\""
   ]
  },
  {
   "cell_type": "code",
   "execution_count": 149,
   "metadata": {
    "id": "DUwK7Vuu_B88"
   },
   "outputs": [],
   "source": [
    "# Cria um dataframe com a frase\n",
    "df_novo = pd.DataFrame({'Frase': [frase]})"
   ]
  },
  {
   "cell_type": "code",
   "execution_count": 150,
   "metadata": {
    "id": "YcSYK5dG_B88"
   },
   "outputs": [],
   "source": [
    "# Aplica a função de processamento\n",
    "df_novo['Frase_Processada'] = df_novo['Frase'].apply(dsa_preprocessa_texto)"
   ]
  },
  {
   "cell_type": "code",
   "execution_count": 151,
   "metadata": {
    "colab": {
     "base_uri": "https://localhost:8080/"
    },
    "id": "f1EunuXc_B89",
    "outputId": "0b1867dd-7e58-4af9-9093-634daae61fd6"
   },
   "outputs": [
    {
     "name": "stderr",
     "output_type": "stream",
     "text": [
      "100%|████████████████████████████████████████████████████████████████████████████████████████████████| 1/1 [00:00<00:00, 7194.35it/s]\n"
     ]
    }
   ],
   "source": [
    "novos_dados = dsa_encode(df_novo['Frase_Processada'], fast_tokenizer, maxlen = max_length)"
   ]
  },
  {
   "cell_type": "code",
   "execution_count": 152,
   "metadata": {
    "colab": {
     "base_uri": "https://localhost:8080/"
    },
    "id": "zohdc9B5_B89",
    "outputId": "eb5b5f1a-884a-4117-e439-e3c73a4e3080"
   },
   "outputs": [
    {
     "name": "stdout",
     "output_type": "stream",
     "text": [
      "\u001b[1m1/1\u001b[0m \u001b[32m━━━━━━━━━━━━━━━━━━━━\u001b[0m\u001b[37m\u001b[0m \u001b[1m0s\u001b[0m 35ms/step\n"
     ]
    }
   ],
   "source": [
    "# Fazer previsões com o modelo carregado\n",
    "previsoes = modelo_dsa_v3.predict(novos_dados)"
   ]
  },
  {
   "cell_type": "code",
   "execution_count": 153,
   "metadata": {
    "id": "kSh0B2lP_B89"
   },
   "outputs": [],
   "source": [
    "# Seleciona a classe com maior probabilidade\n",
    "classe_maior_prob = np.argmax(previsoes, axis = 1)"
   ]
  },
  {
   "cell_type": "code",
   "execution_count": 154,
   "metadata": {
    "colab": {
     "base_uri": "https://localhost:8080/"
    },
    "id": "WmFJeEo1_B89",
    "outputId": "fa512354-96c9-4ec6-f43a-58a1b9111324"
   },
   "outputs": [
    {
     "data": {
      "text/plain": [
       "array([4])"
      ]
     },
     "execution_count": 154,
     "metadata": {},
     "output_type": "execute_result"
    }
   ],
   "source": [
    "classe_maior_prob"
   ]
  },
  {
   "cell_type": "code",
   "execution_count": 155,
   "metadata": {
    "id": "lWS_Hd7q_B89"
   },
   "outputs": [],
   "source": [
    "# Obtém o nome da classe\n",
    "nome_classe = dsa_le_v3.inverse_transform(classe_maior_prob)"
   ]
  },
  {
   "cell_type": "code",
   "execution_count": 156,
   "metadata": {
    "colab": {
     "base_uri": "https://localhost:8080/"
    },
    "id": "MCQWwi-q_B89",
    "outputId": "ed0dc845-2b00-4483-ea1f-3085bad7cd07"
   },
   "outputs": [
    {
     "data": {
      "text/plain": [
       "array(['sadness'], dtype=object)"
      ]
     },
     "execution_count": 156,
     "metadata": {},
     "output_type": "execute_result"
    }
   ],
   "source": [
    "# Classe prevista\n",
    "nome_classe"
   ]
  },
  {
   "cell_type": "markdown",
   "metadata": {
    "id": "PksCv5If_B89"
   },
   "source": [
    "Foram 3 modelos treinados, 3 modelos avaliados, 3 modelos implementados (deploy). Todo o processo mostrado passo a passo, 3 vezes, com 3 arquiteturas de Deep Learning diferentes e 3 diferentes estratégias de processamento dos dados.\n",
    "\n",
    "E este foi apenas o Projeto 2 do curso. ;-)"
   ]
  },
  {
   "cell_type": "code",
   "execution_count": 157,
   "metadata": {
    "colab": {
     "base_uri": "https://localhost:8080/"
    },
    "id": "A0zpY690_B8-",
    "outputId": "fe45ff8e-35aa-4edc-8ca5-debbdf26ae56"
   },
   "outputs": [
    {
     "name": "stdout",
     "output_type": "stream",
     "text": [
      "env: TOKENIZERS_PARALLELISM=false\n"
     ]
    }
   ],
   "source": [
    "# Desliga o paralelismo do pacote Transformer\n",
    "%env TOKENIZERS_PARALLELISM=false"
   ]
  },
  {
   "cell_type": "code",
   "execution_count": 158,
   "metadata": {
    "colab": {
     "base_uri": "https://localhost:8080/"
    },
    "id": "SRKoLqcm_B8-",
    "outputId": "ddec5faa-06e6-45e5-ae3a-f6dc0a74926b"
   },
   "outputs": [
    {
     "name": "stdout",
     "output_type": "stream",
     "text": [
      "Author: Data Science Academy\n",
      "\n"
     ]
    }
   ],
   "source": [
    "%watermark -a \"Data Science Academy\""
   ]
  },
  {
   "cell_type": "code",
   "execution_count": 159,
   "metadata": {
    "id": "5l1_O_vI_B8-"
   },
   "outputs": [],
   "source": [
    "#%watermark -v -m"
   ]
  },
  {
   "cell_type": "code",
   "execution_count": 160,
   "metadata": {
    "id": "2BzOfS6r_B8-"
   },
   "outputs": [],
   "source": [
    "#%watermark --iversions"
   ]
  },
  {
   "cell_type": "markdown",
   "metadata": {
    "id": "jr83rcgFfUXc"
   },
   "source": [
    "# Fim"
   ]
  }
 ],
 "metadata": {
  "accelerator": "GPU",
  "colab": {
   "gpuType": "A100",
   "machine_shape": "hm",
   "provenance": []
  },
  "kernelspec": {
   "display_name": "Python 3 (ipykernel)",
   "language": "python",
   "name": "python3"
  },
  "language_info": {
   "codemirror_mode": {
    "name": "ipython",
    "version": 3
   },
   "file_extension": ".py",
   "mimetype": "text/x-python",
   "name": "python",
   "nbconvert_exporter": "python",
   "pygments_lexer": "ipython3",
   "version": "3.12.11"
  },
  "widgets": {
   "application/vnd.jupyter.widget-state+json": {
    "0883ab102c8b4a69ab53a0fa95406b2b": {
     "model_module": "@jupyter-widgets/controls",
     "model_module_version": "1.5.0",
     "model_name": "HTMLModel",
     "state": {
      "_dom_classes": [],
      "_model_module": "@jupyter-widgets/controls",
      "_model_module_version": "1.5.0",
      "_model_name": "HTMLModel",
      "_view_count": null,
      "_view_module": "@jupyter-widgets/controls",
      "_view_module_version": "1.5.0",
      "_view_name": "HTMLView",
      "description": "",
      "description_tooltip": null,
      "layout": "IPY_MODEL_98acdbc1ab43445884972709f42628fa",
      "placeholder": "​",
      "style": "IPY_MODEL_e30346dcb7c347d1ab396ab0db01ae79",
      "value": " 1.96M/1.96M [00:00&lt;00:00, 16.4MB/s]"
     }
    },
    "09703ab7e20d4f36b00767742d5e5980": {
     "model_module": "@jupyter-widgets/controls",
     "model_module_version": "1.5.0",
     "model_name": "ProgressStyleModel",
     "state": {
      "_model_module": "@jupyter-widgets/controls",
      "_model_module_version": "1.5.0",
      "_model_name": "ProgressStyleModel",
      "_view_count": null,
      "_view_module": "@jupyter-widgets/base",
      "_view_module_version": "1.2.0",
      "_view_name": "StyleView",
      "bar_color": null,
      "description_width": ""
     }
    },
    "0a96f709b6ee4e008eeb224c377aa6fb": {
     "model_module": "@jupyter-widgets/controls",
     "model_module_version": "1.5.0",
     "model_name": "DescriptionStyleModel",
     "state": {
      "_model_module": "@jupyter-widgets/controls",
      "_model_module_version": "1.5.0",
      "_model_name": "DescriptionStyleModel",
      "_view_count": null,
      "_view_module": "@jupyter-widgets/base",
      "_view_module_version": "1.2.0",
      "_view_name": "StyleView",
      "description_width": ""
     }
    },
    "0e059051a899420db97133a2652f6abf": {
     "model_module": "@jupyter-widgets/controls",
     "model_module_version": "1.5.0",
     "model_name": "DescriptionStyleModel",
     "state": {
      "_model_module": "@jupyter-widgets/controls",
      "_model_module_version": "1.5.0",
      "_model_name": "DescriptionStyleModel",
      "_view_count": null,
      "_view_module": "@jupyter-widgets/base",
      "_view_module_version": "1.2.0",
      "_view_name": "StyleView",
      "description_width": ""
     }
    },
    "15e26ec6228b426fa4582c96344904ef": {
     "model_module": "@jupyter-widgets/controls",
     "model_module_version": "1.5.0",
     "model_name": "HTMLModel",
     "state": {
      "_dom_classes": [],
      "_model_module": "@jupyter-widgets/controls",
      "_model_module_version": "1.5.0",
      "_model_name": "HTMLModel",
      "_view_count": null,
      "_view_module": "@jupyter-widgets/controls",
      "_view_module_version": "1.5.0",
      "_view_name": "HTMLView",
      "description": "",
      "description_tooltip": null,
      "layout": "IPY_MODEL_918864ae98504ab99ecbe8e51c67218b",
      "placeholder": "​",
      "style": "IPY_MODEL_e8d8361315234d7588d7b2ebabe3078a",
      "value": " 996k/996k [00:00&lt;00:00, 13.9MB/s]"
     }
    },
    "198154842b954ef3be09cb73e26dde66": {
     "model_module": "@jupyter-widgets/controls",
     "model_module_version": "1.5.0",
     "model_name": "HTMLModel",
     "state": {
      "_dom_classes": [],
      "_model_module": "@jupyter-widgets/controls",
      "_model_module_version": "1.5.0",
      "_model_name": "HTMLModel",
      "_view_count": null,
      "_view_module": "@jupyter-widgets/controls",
      "_view_module_version": "1.5.0",
      "_view_name": "HTMLView",
      "description": "",
      "description_tooltip": null,
      "layout": "IPY_MODEL_c11015fef40f43b987d52cf12d9c8afe",
      "placeholder": "​",
      "style": "IPY_MODEL_8868bd6d77a54e01b529f9c7d61d1e9f",
      "value": " 466/466 [00:00&lt;00:00, 57.5kB/s]"
     }
    },
    "214acf884fb74cf4841db7a3cdced787": {
     "model_module": "@jupyter-widgets/base",
     "model_module_version": "1.2.0",
     "model_name": "LayoutModel",
     "state": {
      "_model_module": "@jupyter-widgets/base",
      "_model_module_version": "1.2.0",
      "_model_name": "LayoutModel",
      "_view_count": null,
      "_view_module": "@jupyter-widgets/base",
      "_view_module_version": "1.2.0",
      "_view_name": "LayoutView",
      "align_content": null,
      "align_items": null,
      "align_self": null,
      "border": null,
      "bottom": null,
      "display": null,
      "flex": null,
      "flex_flow": null,
      "grid_area": null,
      "grid_auto_columns": null,
      "grid_auto_flow": null,
      "grid_auto_rows": null,
      "grid_column": null,
      "grid_gap": null,
      "grid_row": null,
      "grid_template_areas": null,
      "grid_template_columns": null,
      "grid_template_rows": null,
      "height": null,
      "justify_content": null,
      "justify_items": null,
      "left": null,
      "margin": null,
      "max_height": null,
      "max_width": null,
      "min_height": null,
      "min_width": null,
      "object_fit": null,
      "object_position": null,
      "order": null,
      "overflow": null,
      "overflow_x": null,
      "overflow_y": null,
      "padding": null,
      "right": null,
      "top": null,
      "visibility": null,
      "width": null
     }
    },
    "30250e8cf6dd4db590a0848af33aae89": {
     "model_module": "@jupyter-widgets/base",
     "model_module_version": "1.2.0",
     "model_name": "LayoutModel",
     "state": {
      "_model_module": "@jupyter-widgets/base",
      "_model_module_version": "1.2.0",
      "_model_name": "LayoutModel",
      "_view_count": null,
      "_view_module": "@jupyter-widgets/base",
      "_view_module_version": "1.2.0",
      "_view_name": "LayoutView",
      "align_content": null,
      "align_items": null,
      "align_self": null,
      "border": null,
      "bottom": null,
      "display": null,
      "flex": null,
      "flex_flow": null,
      "grid_area": null,
      "grid_auto_columns": null,
      "grid_auto_flow": null,
      "grid_auto_rows": null,
      "grid_column": null,
      "grid_gap": null,
      "grid_row": null,
      "grid_template_areas": null,
      "grid_template_columns": null,
      "grid_template_rows": null,
      "height": null,
      "justify_content": null,
      "justify_items": null,
      "left": null,
      "margin": null,
      "max_height": null,
      "max_width": null,
      "min_height": null,
      "min_width": null,
      "object_fit": null,
      "object_position": null,
      "order": null,
      "overflow": null,
      "overflow_x": null,
      "overflow_y": null,
      "padding": null,
      "right": null,
      "top": null,
      "visibility": null,
      "width": null
     }
    },
    "33f77b2910ab4ad88c110d9644490390": {
     "model_module": "@jupyter-widgets/base",
     "model_module_version": "1.2.0",
     "model_name": "LayoutModel",
     "state": {
      "_model_module": "@jupyter-widgets/base",
      "_model_module_version": "1.2.0",
      "_model_name": "LayoutModel",
      "_view_count": null,
      "_view_module": "@jupyter-widgets/base",
      "_view_module_version": "1.2.0",
      "_view_name": "LayoutView",
      "align_content": null,
      "align_items": null,
      "align_self": null,
      "border": null,
      "bottom": null,
      "display": null,
      "flex": null,
      "flex_flow": null,
      "grid_area": null,
      "grid_auto_columns": null,
      "grid_auto_flow": null,
      "grid_auto_rows": null,
      "grid_column": null,
      "grid_gap": null,
      "grid_row": null,
      "grid_template_areas": null,
      "grid_template_columns": null,
      "grid_template_rows": null,
      "height": null,
      "justify_content": null,
      "justify_items": null,
      "left": null,
      "margin": null,
      "max_height": null,
      "max_width": null,
      "min_height": null,
      "min_width": null,
      "object_fit": null,
      "object_position": null,
      "order": null,
      "overflow": null,
      "overflow_x": null,
      "overflow_y": null,
      "padding": null,
      "right": null,
      "top": null,
      "visibility": null,
      "width": null
     }
    },
    "375b8050617f4259bf7615e6a3b22a2f": {
     "model_module": "@jupyter-widgets/controls",
     "model_module_version": "1.5.0",
     "model_name": "DescriptionStyleModel",
     "state": {
      "_model_module": "@jupyter-widgets/controls",
      "_model_module_version": "1.5.0",
      "_model_name": "DescriptionStyleModel",
      "_view_count": null,
      "_view_module": "@jupyter-widgets/base",
      "_view_module_version": "1.2.0",
      "_view_name": "StyleView",
      "description_width": ""
     }
    },
    "3b66d91750b1487a861483ec998a6c83": {
     "model_module": "@jupyter-widgets/base",
     "model_module_version": "1.2.0",
     "model_name": "LayoutModel",
     "state": {
      "_model_module": "@jupyter-widgets/base",
      "_model_module_version": "1.2.0",
      "_model_name": "LayoutModel",
      "_view_count": null,
      "_view_module": "@jupyter-widgets/base",
      "_view_module_version": "1.2.0",
      "_view_name": "LayoutView",
      "align_content": null,
      "align_items": null,
      "align_self": null,
      "border": null,
      "bottom": null,
      "display": null,
      "flex": null,
      "flex_flow": null,
      "grid_area": null,
      "grid_auto_columns": null,
      "grid_auto_flow": null,
      "grid_auto_rows": null,
      "grid_column": null,
      "grid_gap": null,
      "grid_row": null,
      "grid_template_areas": null,
      "grid_template_columns": null,
      "grid_template_rows": null,
      "height": null,
      "justify_content": null,
      "justify_items": null,
      "left": null,
      "margin": null,
      "max_height": null,
      "max_width": null,
      "min_height": null,
      "min_width": null,
      "object_fit": null,
      "object_position": null,
      "order": null,
      "overflow": null,
      "overflow_x": null,
      "overflow_y": null,
      "padding": null,
      "right": null,
      "top": null,
      "visibility": null,
      "width": null
     }
    },
    "411df74dd4304284b3c6cde69fb54ff8": {
     "model_module": "@jupyter-widgets/controls",
     "model_module_version": "1.5.0",
     "model_name": "HTMLModel",
     "state": {
      "_dom_classes": [],
      "_model_module": "@jupyter-widgets/controls",
      "_model_module_version": "1.5.0",
      "_model_name": "HTMLModel",
      "_view_count": null,
      "_view_module": "@jupyter-widgets/controls",
      "_view_module_version": "1.5.0",
      "_view_name": "HTMLView",
      "description": "",
      "description_tooltip": null,
      "layout": "IPY_MODEL_30250e8cf6dd4db590a0848af33aae89",
      "placeholder": "​",
      "style": "IPY_MODEL_0a96f709b6ee4e008eeb224c377aa6fb",
      "value": " 542M/542M [00:02&lt;00:00, 272MB/s]"
     }
    },
    "4365122157f6494bb3274776aab11ed2": {
     "model_module": "@jupyter-widgets/controls",
     "model_module_version": "1.5.0",
     "model_name": "HBoxModel",
     "state": {
      "_dom_classes": [],
      "_model_module": "@jupyter-widgets/controls",
      "_model_module_version": "1.5.0",
      "_model_name": "HBoxModel",
      "_view_count": null,
      "_view_module": "@jupyter-widgets/controls",
      "_view_module_version": "1.5.0",
      "_view_name": "HBoxView",
      "box_style": "",
      "children": [
       "IPY_MODEL_b6072d7b2db6448ba1132629e0cb79ba",
       "IPY_MODEL_949e33ad4af14689a0a9486422ae4e5a",
       "IPY_MODEL_15e26ec6228b426fa4582c96344904ef"
      ],
      "layout": "IPY_MODEL_d6b1e61036794638bc33f6fce9e0e842"
     }
    },
    "577a6449a5bd449e8fad9f027f3dd20a": {
     "model_module": "@jupyter-widgets/controls",
     "model_module_version": "1.5.0",
     "model_name": "DescriptionStyleModel",
     "state": {
      "_model_module": "@jupyter-widgets/controls",
      "_model_module_version": "1.5.0",
      "_model_name": "DescriptionStyleModel",
      "_view_count": null,
      "_view_module": "@jupyter-widgets/base",
      "_view_module_version": "1.2.0",
      "_view_name": "StyleView",
      "description_width": ""
     }
    },
    "58d2585e6093472796f3ff10cc3e3469": {
     "model_module": "@jupyter-widgets/base",
     "model_module_version": "1.2.0",
     "model_name": "LayoutModel",
     "state": {
      "_model_module": "@jupyter-widgets/base",
      "_model_module_version": "1.2.0",
      "_model_name": "LayoutModel",
      "_view_count": null,
      "_view_module": "@jupyter-widgets/base",
      "_view_module_version": "1.2.0",
      "_view_name": "LayoutView",
      "align_content": null,
      "align_items": null,
      "align_self": null,
      "border": null,
      "bottom": null,
      "display": null,
      "flex": null,
      "flex_flow": null,
      "grid_area": null,
      "grid_auto_columns": null,
      "grid_auto_flow": null,
      "grid_auto_rows": null,
      "grid_column": null,
      "grid_gap": null,
      "grid_row": null,
      "grid_template_areas": null,
      "grid_template_columns": null,
      "grid_template_rows": null,
      "height": null,
      "justify_content": null,
      "justify_items": null,
      "left": null,
      "margin": null,
      "max_height": null,
      "max_width": null,
      "min_height": null,
      "min_width": null,
      "object_fit": null,
      "object_position": null,
      "order": null,
      "overflow": null,
      "overflow_x": null,
      "overflow_y": null,
      "padding": null,
      "right": null,
      "top": null,
      "visibility": null,
      "width": null
     }
    },
    "5a342a86060645159ad45ca82107dc1b": {
     "model_module": "@jupyter-widgets/controls",
     "model_module_version": "1.5.0",
     "model_name": "FloatProgressModel",
     "state": {
      "_dom_classes": [],
      "_model_module": "@jupyter-widgets/controls",
      "_model_module_version": "1.5.0",
      "_model_name": "FloatProgressModel",
      "_view_count": null,
      "_view_module": "@jupyter-widgets/controls",
      "_view_module_version": "1.5.0",
      "_view_name": "ProgressView",
      "bar_style": "success",
      "description": "",
      "description_tooltip": null,
      "layout": "IPY_MODEL_78effcc384a549b6b7f07fabc33be284",
      "max": 466,
      "min": 0,
      "orientation": "horizontal",
      "style": "IPY_MODEL_c62c834d60f74776be3235631befab53",
      "value": 466
     }
    },
    "78effcc384a549b6b7f07fabc33be284": {
     "model_module": "@jupyter-widgets/base",
     "model_module_version": "1.2.0",
     "model_name": "LayoutModel",
     "state": {
      "_model_module": "@jupyter-widgets/base",
      "_model_module_version": "1.2.0",
      "_model_name": "LayoutModel",
      "_view_count": null,
      "_view_module": "@jupyter-widgets/base",
      "_view_module_version": "1.2.0",
      "_view_name": "LayoutView",
      "align_content": null,
      "align_items": null,
      "align_self": null,
      "border": null,
      "bottom": null,
      "display": null,
      "flex": null,
      "flex_flow": null,
      "grid_area": null,
      "grid_auto_columns": null,
      "grid_auto_flow": null,
      "grid_auto_rows": null,
      "grid_column": null,
      "grid_gap": null,
      "grid_row": null,
      "grid_template_areas": null,
      "grid_template_columns": null,
      "grid_template_rows": null,
      "height": null,
      "justify_content": null,
      "justify_items": null,
      "left": null,
      "margin": null,
      "max_height": null,
      "max_width": null,
      "min_height": null,
      "min_width": null,
      "object_fit": null,
      "object_position": null,
      "order": null,
      "overflow": null,
      "overflow_x": null,
      "overflow_y": null,
      "padding": null,
      "right": null,
      "top": null,
      "visibility": null,
      "width": null
     }
    },
    "7ec5b77d839f4204b42cf43e5f1b5a07": {
     "model_module": "@jupyter-widgets/controls",
     "model_module_version": "1.5.0",
     "model_name": "HBoxModel",
     "state": {
      "_dom_classes": [],
      "_model_module": "@jupyter-widgets/controls",
      "_model_module_version": "1.5.0",
      "_model_name": "HBoxModel",
      "_view_count": null,
      "_view_module": "@jupyter-widgets/controls",
      "_view_module_version": "1.5.0",
      "_view_name": "HBoxView",
      "box_style": "",
      "children": [
       "IPY_MODEL_805814a5fbbb44398d51975667673d3f",
       "IPY_MODEL_ee8a237cbe8d4975a4cdf388175bb5c0",
       "IPY_MODEL_83a4628aa26a4913a23d938e34175179"
      ],
      "layout": "IPY_MODEL_58d2585e6093472796f3ff10cc3e3469"
     }
    },
    "7f3951acc92f43ee95b289beac36444e": {
     "model_module": "@jupyter-widgets/controls",
     "model_module_version": "1.5.0",
     "model_name": "HTMLModel",
     "state": {
      "_dom_classes": [],
      "_model_module": "@jupyter-widgets/controls",
      "_model_module_version": "1.5.0",
      "_model_name": "HTMLModel",
      "_view_count": null,
      "_view_module": "@jupyter-widgets/controls",
      "_view_module_version": "1.5.0",
      "_view_name": "HTMLView",
      "description": "",
      "description_tooltip": null,
      "layout": "IPY_MODEL_dac3d05d4d4d43769f5ab00b876c34f9",
      "placeholder": "​",
      "style": "IPY_MODEL_375b8050617f4259bf7615e6a3b22a2f",
      "value": "tokenizer.json: 100%"
     }
    },
    "805814a5fbbb44398d51975667673d3f": {
     "model_module": "@jupyter-widgets/controls",
     "model_module_version": "1.5.0",
     "model_name": "HTMLModel",
     "state": {
      "_dom_classes": [],
      "_model_module": "@jupyter-widgets/controls",
      "_model_module_version": "1.5.0",
      "_model_name": "HTMLModel",
      "_view_count": null,
      "_view_module": "@jupyter-widgets/controls",
      "_view_module_version": "1.5.0",
      "_view_name": "HTMLView",
      "description": "",
      "description_tooltip": null,
      "layout": "IPY_MODEL_33f77b2910ab4ad88c110d9644490390",
      "placeholder": "​",
      "style": "IPY_MODEL_fafaa95125884c1b97bebf2d9430c72b",
      "value": "tokenizer_config.json: 100%"
     }
    },
    "81873e2dc8b64f51af3148b05e85132f": {
     "model_module": "@jupyter-widgets/controls",
     "model_module_version": "1.5.0",
     "model_name": "DescriptionStyleModel",
     "state": {
      "_model_module": "@jupyter-widgets/controls",
      "_model_module_version": "1.5.0",
      "_model_name": "DescriptionStyleModel",
      "_view_count": null,
      "_view_module": "@jupyter-widgets/base",
      "_view_module_version": "1.2.0",
      "_view_name": "StyleView",
      "description_width": ""
     }
    },
    "83a4628aa26a4913a23d938e34175179": {
     "model_module": "@jupyter-widgets/controls",
     "model_module_version": "1.5.0",
     "model_name": "HTMLModel",
     "state": {
      "_dom_classes": [],
      "_model_module": "@jupyter-widgets/controls",
      "_model_module_version": "1.5.0",
      "_model_name": "HTMLModel",
      "_view_count": null,
      "_view_module": "@jupyter-widgets/controls",
      "_view_module_version": "1.5.0",
      "_view_name": "HTMLView",
      "description": "",
      "description_tooltip": null,
      "layout": "IPY_MODEL_8bed9b8e97504a449faa331fccec7bff",
      "placeholder": "​",
      "style": "IPY_MODEL_910e1af09557488bb4ec08693db80aa2",
      "value": " 49.0/49.0 [00:00&lt;00:00, 5.84kB/s]"
     }
    },
    "878cf62a328a428090ba6ed0c806b39c": {
     "model_module": "@jupyter-widgets/base",
     "model_module_version": "1.2.0",
     "model_name": "LayoutModel",
     "state": {
      "_model_module": "@jupyter-widgets/base",
      "_model_module_version": "1.2.0",
      "_model_name": "LayoutModel",
      "_view_count": null,
      "_view_module": "@jupyter-widgets/base",
      "_view_module_version": "1.2.0",
      "_view_name": "LayoutView",
      "align_content": null,
      "align_items": null,
      "align_self": null,
      "border": null,
      "bottom": null,
      "display": null,
      "flex": null,
      "flex_flow": null,
      "grid_area": null,
      "grid_auto_columns": null,
      "grid_auto_flow": null,
      "grid_auto_rows": null,
      "grid_column": null,
      "grid_gap": null,
      "grid_row": null,
      "grid_template_areas": null,
      "grid_template_columns": null,
      "grid_template_rows": null,
      "height": null,
      "justify_content": null,
      "justify_items": null,
      "left": null,
      "margin": null,
      "max_height": null,
      "max_width": null,
      "min_height": null,
      "min_width": null,
      "object_fit": null,
      "object_position": null,
      "order": null,
      "overflow": null,
      "overflow_x": null,
      "overflow_y": null,
      "padding": null,
      "right": null,
      "top": null,
      "visibility": null,
      "width": null
     }
    },
    "8868bd6d77a54e01b529f9c7d61d1e9f": {
     "model_module": "@jupyter-widgets/controls",
     "model_module_version": "1.5.0",
     "model_name": "DescriptionStyleModel",
     "state": {
      "_model_module": "@jupyter-widgets/controls",
      "_model_module_version": "1.5.0",
      "_model_name": "DescriptionStyleModel",
      "_view_count": null,
      "_view_module": "@jupyter-widgets/base",
      "_view_module_version": "1.2.0",
      "_view_name": "StyleView",
      "description_width": ""
     }
    },
    "8bed9b8e97504a449faa331fccec7bff": {
     "model_module": "@jupyter-widgets/base",
     "model_module_version": "1.2.0",
     "model_name": "LayoutModel",
     "state": {
      "_model_module": "@jupyter-widgets/base",
      "_model_module_version": "1.2.0",
      "_model_name": "LayoutModel",
      "_view_count": null,
      "_view_module": "@jupyter-widgets/base",
      "_view_module_version": "1.2.0",
      "_view_name": "LayoutView",
      "align_content": null,
      "align_items": null,
      "align_self": null,
      "border": null,
      "bottom": null,
      "display": null,
      "flex": null,
      "flex_flow": null,
      "grid_area": null,
      "grid_auto_columns": null,
      "grid_auto_flow": null,
      "grid_auto_rows": null,
      "grid_column": null,
      "grid_gap": null,
      "grid_row": null,
      "grid_template_areas": null,
      "grid_template_columns": null,
      "grid_template_rows": null,
      "height": null,
      "justify_content": null,
      "justify_items": null,
      "left": null,
      "margin": null,
      "max_height": null,
      "max_width": null,
      "min_height": null,
      "min_width": null,
      "object_fit": null,
      "object_position": null,
      "order": null,
      "overflow": null,
      "overflow_x": null,
      "overflow_y": null,
      "padding": null,
      "right": null,
      "top": null,
      "visibility": null,
      "width": null
     }
    },
    "8e401abe7bda43a3965d20c0c42c8a9b": {
     "model_module": "@jupyter-widgets/base",
     "model_module_version": "1.2.0",
     "model_name": "LayoutModel",
     "state": {
      "_model_module": "@jupyter-widgets/base",
      "_model_module_version": "1.2.0",
      "_model_name": "LayoutModel",
      "_view_count": null,
      "_view_module": "@jupyter-widgets/base",
      "_view_module_version": "1.2.0",
      "_view_name": "LayoutView",
      "align_content": null,
      "align_items": null,
      "align_self": null,
      "border": null,
      "bottom": null,
      "display": null,
      "flex": null,
      "flex_flow": null,
      "grid_area": null,
      "grid_auto_columns": null,
      "grid_auto_flow": null,
      "grid_auto_rows": null,
      "grid_column": null,
      "grid_gap": null,
      "grid_row": null,
      "grid_template_areas": null,
      "grid_template_columns": null,
      "grid_template_rows": null,
      "height": null,
      "justify_content": null,
      "justify_items": null,
      "left": null,
      "margin": null,
      "max_height": null,
      "max_width": null,
      "min_height": null,
      "min_width": null,
      "object_fit": null,
      "object_position": null,
      "order": null,
      "overflow": null,
      "overflow_x": null,
      "overflow_y": null,
      "padding": null,
      "right": null,
      "top": null,
      "visibility": null,
      "width": null
     }
    },
    "910e1af09557488bb4ec08693db80aa2": {
     "model_module": "@jupyter-widgets/controls",
     "model_module_version": "1.5.0",
     "model_name": "DescriptionStyleModel",
     "state": {
      "_model_module": "@jupyter-widgets/controls",
      "_model_module_version": "1.5.0",
      "_model_name": "DescriptionStyleModel",
      "_view_count": null,
      "_view_module": "@jupyter-widgets/base",
      "_view_module_version": "1.2.0",
      "_view_name": "StyleView",
      "description_width": ""
     }
    },
    "918864ae98504ab99ecbe8e51c67218b": {
     "model_module": "@jupyter-widgets/base",
     "model_module_version": "1.2.0",
     "model_name": "LayoutModel",
     "state": {
      "_model_module": "@jupyter-widgets/base",
      "_model_module_version": "1.2.0",
      "_model_name": "LayoutModel",
      "_view_count": null,
      "_view_module": "@jupyter-widgets/base",
      "_view_module_version": "1.2.0",
      "_view_name": "LayoutView",
      "align_content": null,
      "align_items": null,
      "align_self": null,
      "border": null,
      "bottom": null,
      "display": null,
      "flex": null,
      "flex_flow": null,
      "grid_area": null,
      "grid_auto_columns": null,
      "grid_auto_flow": null,
      "grid_auto_rows": null,
      "grid_column": null,
      "grid_gap": null,
      "grid_row": null,
      "grid_template_areas": null,
      "grid_template_columns": null,
      "grid_template_rows": null,
      "height": null,
      "justify_content": null,
      "justify_items": null,
      "left": null,
      "margin": null,
      "max_height": null,
      "max_width": null,
      "min_height": null,
      "min_width": null,
      "object_fit": null,
      "object_position": null,
      "order": null,
      "overflow": null,
      "overflow_x": null,
      "overflow_y": null,
      "padding": null,
      "right": null,
      "top": null,
      "visibility": null,
      "width": null
     }
    },
    "932e1e4b943d4785bbfd93d4ff0fa67c": {
     "model_module": "@jupyter-widgets/controls",
     "model_module_version": "1.5.0",
     "model_name": "HBoxModel",
     "state": {
      "_dom_classes": [],
      "_model_module": "@jupyter-widgets/controls",
      "_model_module_version": "1.5.0",
      "_model_name": "HBoxModel",
      "_view_count": null,
      "_view_module": "@jupyter-widgets/controls",
      "_view_module_version": "1.5.0",
      "_view_name": "HBoxView",
      "box_style": "",
      "children": [
       "IPY_MODEL_7f3951acc92f43ee95b289beac36444e",
       "IPY_MODEL_f881d2dcdb9a438fbc89ba0345f19b56",
       "IPY_MODEL_0883ab102c8b4a69ab53a0fa95406b2b"
      ],
      "layout": "IPY_MODEL_f8caf14213e745a79b3ceef04cc08f40"
     }
    },
    "949e33ad4af14689a0a9486422ae4e5a": {
     "model_module": "@jupyter-widgets/controls",
     "model_module_version": "1.5.0",
     "model_name": "FloatProgressModel",
     "state": {
      "_dom_classes": [],
      "_model_module": "@jupyter-widgets/controls",
      "_model_module_version": "1.5.0",
      "_model_name": "FloatProgressModel",
      "_view_count": null,
      "_view_module": "@jupyter-widgets/controls",
      "_view_module_version": "1.5.0",
      "_view_name": "ProgressView",
      "bar_style": "success",
      "description": "",
      "description_tooltip": null,
      "layout": "IPY_MODEL_214acf884fb74cf4841db7a3cdced787",
      "max": 995526,
      "min": 0,
      "orientation": "horizontal",
      "style": "IPY_MODEL_b6e117335f1741a59e098d344a16f98a",
      "value": 995526
     }
    },
    "98acdbc1ab43445884972709f42628fa": {
     "model_module": "@jupyter-widgets/base",
     "model_module_version": "1.2.0",
     "model_name": "LayoutModel",
     "state": {
      "_model_module": "@jupyter-widgets/base",
      "_model_module_version": "1.2.0",
      "_model_name": "LayoutModel",
      "_view_count": null,
      "_view_module": "@jupyter-widgets/base",
      "_view_module_version": "1.2.0",
      "_view_name": "LayoutView",
      "align_content": null,
      "align_items": null,
      "align_self": null,
      "border": null,
      "bottom": null,
      "display": null,
      "flex": null,
      "flex_flow": null,
      "grid_area": null,
      "grid_auto_columns": null,
      "grid_auto_flow": null,
      "grid_auto_rows": null,
      "grid_column": null,
      "grid_gap": null,
      "grid_row": null,
      "grid_template_areas": null,
      "grid_template_columns": null,
      "grid_template_rows": null,
      "height": null,
      "justify_content": null,
      "justify_items": null,
      "left": null,
      "margin": null,
      "max_height": null,
      "max_width": null,
      "min_height": null,
      "min_width": null,
      "object_fit": null,
      "object_position": null,
      "order": null,
      "overflow": null,
      "overflow_x": null,
      "overflow_y": null,
      "padding": null,
      "right": null,
      "top": null,
      "visibility": null,
      "width": null
     }
    },
    "a14e4d8ac6d2409b86b82c6e98ab442d": {
     "model_module": "@jupyter-widgets/controls",
     "model_module_version": "1.5.0",
     "model_name": "HBoxModel",
     "state": {
      "_dom_classes": [],
      "_model_module": "@jupyter-widgets/controls",
      "_model_module_version": "1.5.0",
      "_model_name": "HBoxModel",
      "_view_count": null,
      "_view_module": "@jupyter-widgets/controls",
      "_view_module_version": "1.5.0",
      "_view_name": "HBoxView",
      "box_style": "",
      "children": [
       "IPY_MODEL_c7cd6260a2564aef92b565b509a3106e",
       "IPY_MODEL_5a342a86060645159ad45ca82107dc1b",
       "IPY_MODEL_198154842b954ef3be09cb73e26dde66"
      ],
      "layout": "IPY_MODEL_878cf62a328a428090ba6ed0c806b39c"
     }
    },
    "ae7063ed2349495d9b7314deb0a241fa": {
     "model_module": "@jupyter-widgets/base",
     "model_module_version": "1.2.0",
     "model_name": "LayoutModel",
     "state": {
      "_model_module": "@jupyter-widgets/base",
      "_model_module_version": "1.2.0",
      "_model_name": "LayoutModel",
      "_view_count": null,
      "_view_module": "@jupyter-widgets/base",
      "_view_module_version": "1.2.0",
      "_view_name": "LayoutView",
      "align_content": null,
      "align_items": null,
      "align_self": null,
      "border": null,
      "bottom": null,
      "display": null,
      "flex": null,
      "flex_flow": null,
      "grid_area": null,
      "grid_auto_columns": null,
      "grid_auto_flow": null,
      "grid_auto_rows": null,
      "grid_column": null,
      "grid_gap": null,
      "grid_row": null,
      "grid_template_areas": null,
      "grid_template_columns": null,
      "grid_template_rows": null,
      "height": null,
      "justify_content": null,
      "justify_items": null,
      "left": null,
      "margin": null,
      "max_height": null,
      "max_width": null,
      "min_height": null,
      "min_width": null,
      "object_fit": null,
      "object_position": null,
      "order": null,
      "overflow": null,
      "overflow_x": null,
      "overflow_y": null,
      "padding": null,
      "right": null,
      "top": null,
      "visibility": null,
      "width": null
     }
    },
    "b412e1ba21bf41cdbf88d4bdb29291f9": {
     "model_module": "@jupyter-widgets/controls",
     "model_module_version": "1.5.0",
     "model_name": "ProgressStyleModel",
     "state": {
      "_model_module": "@jupyter-widgets/controls",
      "_model_module_version": "1.5.0",
      "_model_name": "ProgressStyleModel",
      "_view_count": null,
      "_view_module": "@jupyter-widgets/base",
      "_view_module_version": "1.2.0",
      "_view_name": "StyleView",
      "bar_color": null,
      "description_width": ""
     }
    },
    "b4c58eefb5004ce292ebeed8d106f800": {
     "model_module": "@jupyter-widgets/base",
     "model_module_version": "1.2.0",
     "model_name": "LayoutModel",
     "state": {
      "_model_module": "@jupyter-widgets/base",
      "_model_module_version": "1.2.0",
      "_model_name": "LayoutModel",
      "_view_count": null,
      "_view_module": "@jupyter-widgets/base",
      "_view_module_version": "1.2.0",
      "_view_name": "LayoutView",
      "align_content": null,
      "align_items": null,
      "align_self": null,
      "border": null,
      "bottom": null,
      "display": null,
      "flex": null,
      "flex_flow": null,
      "grid_area": null,
      "grid_auto_columns": null,
      "grid_auto_flow": null,
      "grid_auto_rows": null,
      "grid_column": null,
      "grid_gap": null,
      "grid_row": null,
      "grid_template_areas": null,
      "grid_template_columns": null,
      "grid_template_rows": null,
      "height": null,
      "justify_content": null,
      "justify_items": null,
      "left": null,
      "margin": null,
      "max_height": null,
      "max_width": null,
      "min_height": null,
      "min_width": null,
      "object_fit": null,
      "object_position": null,
      "order": null,
      "overflow": null,
      "overflow_x": null,
      "overflow_y": null,
      "padding": null,
      "right": null,
      "top": null,
      "visibility": null,
      "width": null
     }
    },
    "b6072d7b2db6448ba1132629e0cb79ba": {
     "model_module": "@jupyter-widgets/controls",
     "model_module_version": "1.5.0",
     "model_name": "HTMLModel",
     "state": {
      "_dom_classes": [],
      "_model_module": "@jupyter-widgets/controls",
      "_model_module_version": "1.5.0",
      "_model_name": "HTMLModel",
      "_view_count": null,
      "_view_module": "@jupyter-widgets/controls",
      "_view_module_version": "1.5.0",
      "_view_name": "HTMLView",
      "description": "",
      "description_tooltip": null,
      "layout": "IPY_MODEL_b4c58eefb5004ce292ebeed8d106f800",
      "placeholder": "​",
      "style": "IPY_MODEL_0e059051a899420db97133a2652f6abf",
      "value": "vocab.txt: 100%"
     }
    },
    "b6e117335f1741a59e098d344a16f98a": {
     "model_module": "@jupyter-widgets/controls",
     "model_module_version": "1.5.0",
     "model_name": "ProgressStyleModel",
     "state": {
      "_model_module": "@jupyter-widgets/controls",
      "_model_module_version": "1.5.0",
      "_model_name": "ProgressStyleModel",
      "_view_count": null,
      "_view_module": "@jupyter-widgets/base",
      "_view_module_version": "1.2.0",
      "_view_name": "StyleView",
      "bar_color": null,
      "description_width": ""
     }
    },
    "bfec94fd67284ad08a4dbb7695b1f95f": {
     "model_module": "@jupyter-widgets/controls",
     "model_module_version": "1.5.0",
     "model_name": "FloatProgressModel",
     "state": {
      "_dom_classes": [],
      "_model_module": "@jupyter-widgets/controls",
      "_model_module_version": "1.5.0",
      "_model_name": "FloatProgressModel",
      "_view_count": null,
      "_view_module": "@jupyter-widgets/controls",
      "_view_module_version": "1.5.0",
      "_view_name": "ProgressView",
      "bar_style": "success",
      "description": "",
      "description_tooltip": null,
      "layout": "IPY_MODEL_d4a7992ee23f454cb3c5915c8573e2c9",
      "max": 541795680,
      "min": 0,
      "orientation": "horizontal",
      "style": "IPY_MODEL_ff30af6c8c06473ca9e6421440fede26",
      "value": 541795680
     }
    },
    "c11015fef40f43b987d52cf12d9c8afe": {
     "model_module": "@jupyter-widgets/base",
     "model_module_version": "1.2.0",
     "model_name": "LayoutModel",
     "state": {
      "_model_module": "@jupyter-widgets/base",
      "_model_module_version": "1.2.0",
      "_model_name": "LayoutModel",
      "_view_count": null,
      "_view_module": "@jupyter-widgets/base",
      "_view_module_version": "1.2.0",
      "_view_name": "LayoutView",
      "align_content": null,
      "align_items": null,
      "align_self": null,
      "border": null,
      "bottom": null,
      "display": null,
      "flex": null,
      "flex_flow": null,
      "grid_area": null,
      "grid_auto_columns": null,
      "grid_auto_flow": null,
      "grid_auto_rows": null,
      "grid_column": null,
      "grid_gap": null,
      "grid_row": null,
      "grid_template_areas": null,
      "grid_template_columns": null,
      "grid_template_rows": null,
      "height": null,
      "justify_content": null,
      "justify_items": null,
      "left": null,
      "margin": null,
      "max_height": null,
      "max_width": null,
      "min_height": null,
      "min_width": null,
      "object_fit": null,
      "object_position": null,
      "order": null,
      "overflow": null,
      "overflow_x": null,
      "overflow_y": null,
      "padding": null,
      "right": null,
      "top": null,
      "visibility": null,
      "width": null
     }
    },
    "c1b23cbd0dd14b71b0d9085436e12e3c": {
     "model_module": "@jupyter-widgets/base",
     "model_module_version": "1.2.0",
     "model_name": "LayoutModel",
     "state": {
      "_model_module": "@jupyter-widgets/base",
      "_model_module_version": "1.2.0",
      "_model_name": "LayoutModel",
      "_view_count": null,
      "_view_module": "@jupyter-widgets/base",
      "_view_module_version": "1.2.0",
      "_view_name": "LayoutView",
      "align_content": null,
      "align_items": null,
      "align_self": null,
      "border": null,
      "bottom": null,
      "display": null,
      "flex": null,
      "flex_flow": null,
      "grid_area": null,
      "grid_auto_columns": null,
      "grid_auto_flow": null,
      "grid_auto_rows": null,
      "grid_column": null,
      "grid_gap": null,
      "grid_row": null,
      "grid_template_areas": null,
      "grid_template_columns": null,
      "grid_template_rows": null,
      "height": null,
      "justify_content": null,
      "justify_items": null,
      "left": null,
      "margin": null,
      "max_height": null,
      "max_width": null,
      "min_height": null,
      "min_width": null,
      "object_fit": null,
      "object_position": null,
      "order": null,
      "overflow": null,
      "overflow_x": null,
      "overflow_y": null,
      "padding": null,
      "right": null,
      "top": null,
      "visibility": null,
      "width": null
     }
    },
    "c62c834d60f74776be3235631befab53": {
     "model_module": "@jupyter-widgets/controls",
     "model_module_version": "1.5.0",
     "model_name": "ProgressStyleModel",
     "state": {
      "_model_module": "@jupyter-widgets/controls",
      "_model_module_version": "1.5.0",
      "_model_name": "ProgressStyleModel",
      "_view_count": null,
      "_view_module": "@jupyter-widgets/base",
      "_view_module_version": "1.2.0",
      "_view_name": "StyleView",
      "bar_color": null,
      "description_width": ""
     }
    },
    "c7cd6260a2564aef92b565b509a3106e": {
     "model_module": "@jupyter-widgets/controls",
     "model_module_version": "1.5.0",
     "model_name": "HTMLModel",
     "state": {
      "_dom_classes": [],
      "_model_module": "@jupyter-widgets/controls",
      "_model_module_version": "1.5.0",
      "_model_name": "HTMLModel",
      "_view_count": null,
      "_view_module": "@jupyter-widgets/controls",
      "_view_module_version": "1.5.0",
      "_view_name": "HTMLView",
      "description": "",
      "description_tooltip": null,
      "layout": "IPY_MODEL_ae7063ed2349495d9b7314deb0a241fa",
      "placeholder": "​",
      "style": "IPY_MODEL_577a6449a5bd449e8fad9f027f3dd20a",
      "value": "config.json: 100%"
     }
    },
    "cfcae1e9fbc74fd6bcaa9dd3bdbfe4c0": {
     "model_module": "@jupyter-widgets/base",
     "model_module_version": "1.2.0",
     "model_name": "LayoutModel",
     "state": {
      "_model_module": "@jupyter-widgets/base",
      "_model_module_version": "1.2.0",
      "_model_name": "LayoutModel",
      "_view_count": null,
      "_view_module": "@jupyter-widgets/base",
      "_view_module_version": "1.2.0",
      "_view_name": "LayoutView",
      "align_content": null,
      "align_items": null,
      "align_self": null,
      "border": null,
      "bottom": null,
      "display": null,
      "flex": null,
      "flex_flow": null,
      "grid_area": null,
      "grid_auto_columns": null,
      "grid_auto_flow": null,
      "grid_auto_rows": null,
      "grid_column": null,
      "grid_gap": null,
      "grid_row": null,
      "grid_template_areas": null,
      "grid_template_columns": null,
      "grid_template_rows": null,
      "height": null,
      "justify_content": null,
      "justify_items": null,
      "left": null,
      "margin": null,
      "max_height": null,
      "max_width": null,
      "min_height": null,
      "min_width": null,
      "object_fit": null,
      "object_position": null,
      "order": null,
      "overflow": null,
      "overflow_x": null,
      "overflow_y": null,
      "padding": null,
      "right": null,
      "top": null,
      "visibility": null,
      "width": null
     }
    },
    "d4a7992ee23f454cb3c5915c8573e2c9": {
     "model_module": "@jupyter-widgets/base",
     "model_module_version": "1.2.0",
     "model_name": "LayoutModel",
     "state": {
      "_model_module": "@jupyter-widgets/base",
      "_model_module_version": "1.2.0",
      "_model_name": "LayoutModel",
      "_view_count": null,
      "_view_module": "@jupyter-widgets/base",
      "_view_module_version": "1.2.0",
      "_view_name": "LayoutView",
      "align_content": null,
      "align_items": null,
      "align_self": null,
      "border": null,
      "bottom": null,
      "display": null,
      "flex": null,
      "flex_flow": null,
      "grid_area": null,
      "grid_auto_columns": null,
      "grid_auto_flow": null,
      "grid_auto_rows": null,
      "grid_column": null,
      "grid_gap": null,
      "grid_row": null,
      "grid_template_areas": null,
      "grid_template_columns": null,
      "grid_template_rows": null,
      "height": null,
      "justify_content": null,
      "justify_items": null,
      "left": null,
      "margin": null,
      "max_height": null,
      "max_width": null,
      "min_height": null,
      "min_width": null,
      "object_fit": null,
      "object_position": null,
      "order": null,
      "overflow": null,
      "overflow_x": null,
      "overflow_y": null,
      "padding": null,
      "right": null,
      "top": null,
      "visibility": null,
      "width": null
     }
    },
    "d6b1e61036794638bc33f6fce9e0e842": {
     "model_module": "@jupyter-widgets/base",
     "model_module_version": "1.2.0",
     "model_name": "LayoutModel",
     "state": {
      "_model_module": "@jupyter-widgets/base",
      "_model_module_version": "1.2.0",
      "_model_name": "LayoutModel",
      "_view_count": null,
      "_view_module": "@jupyter-widgets/base",
      "_view_module_version": "1.2.0",
      "_view_name": "LayoutView",
      "align_content": null,
      "align_items": null,
      "align_self": null,
      "border": null,
      "bottom": null,
      "display": null,
      "flex": null,
      "flex_flow": null,
      "grid_area": null,
      "grid_auto_columns": null,
      "grid_auto_flow": null,
      "grid_auto_rows": null,
      "grid_column": null,
      "grid_gap": null,
      "grid_row": null,
      "grid_template_areas": null,
      "grid_template_columns": null,
      "grid_template_rows": null,
      "height": null,
      "justify_content": null,
      "justify_items": null,
      "left": null,
      "margin": null,
      "max_height": null,
      "max_width": null,
      "min_height": null,
      "min_width": null,
      "object_fit": null,
      "object_position": null,
      "order": null,
      "overflow": null,
      "overflow_x": null,
      "overflow_y": null,
      "padding": null,
      "right": null,
      "top": null,
      "visibility": null,
      "width": null
     }
    },
    "dac3d05d4d4d43769f5ab00b876c34f9": {
     "model_module": "@jupyter-widgets/base",
     "model_module_version": "1.2.0",
     "model_name": "LayoutModel",
     "state": {
      "_model_module": "@jupyter-widgets/base",
      "_model_module_version": "1.2.0",
      "_model_name": "LayoutModel",
      "_view_count": null,
      "_view_module": "@jupyter-widgets/base",
      "_view_module_version": "1.2.0",
      "_view_name": "LayoutView",
      "align_content": null,
      "align_items": null,
      "align_self": null,
      "border": null,
      "bottom": null,
      "display": null,
      "flex": null,
      "flex_flow": null,
      "grid_area": null,
      "grid_auto_columns": null,
      "grid_auto_flow": null,
      "grid_auto_rows": null,
      "grid_column": null,
      "grid_gap": null,
      "grid_row": null,
      "grid_template_areas": null,
      "grid_template_columns": null,
      "grid_template_rows": null,
      "height": null,
      "justify_content": null,
      "justify_items": null,
      "left": null,
      "margin": null,
      "max_height": null,
      "max_width": null,
      "min_height": null,
      "min_width": null,
      "object_fit": null,
      "object_position": null,
      "order": null,
      "overflow": null,
      "overflow_x": null,
      "overflow_y": null,
      "padding": null,
      "right": null,
      "top": null,
      "visibility": null,
      "width": null
     }
    },
    "e30346dcb7c347d1ab396ab0db01ae79": {
     "model_module": "@jupyter-widgets/controls",
     "model_module_version": "1.5.0",
     "model_name": "DescriptionStyleModel",
     "state": {
      "_model_module": "@jupyter-widgets/controls",
      "_model_module_version": "1.5.0",
      "_model_name": "DescriptionStyleModel",
      "_view_count": null,
      "_view_module": "@jupyter-widgets/base",
      "_view_module_version": "1.2.0",
      "_view_name": "StyleView",
      "description_width": ""
     }
    },
    "e8d8361315234d7588d7b2ebabe3078a": {
     "model_module": "@jupyter-widgets/controls",
     "model_module_version": "1.5.0",
     "model_name": "DescriptionStyleModel",
     "state": {
      "_model_module": "@jupyter-widgets/controls",
      "_model_module_version": "1.5.0",
      "_model_name": "DescriptionStyleModel",
      "_view_count": null,
      "_view_module": "@jupyter-widgets/base",
      "_view_module_version": "1.2.0",
      "_view_name": "StyleView",
      "description_width": ""
     }
    },
    "ecc8b741e3624838a52c0546eed740fc": {
     "model_module": "@jupyter-widgets/controls",
     "model_module_version": "1.5.0",
     "model_name": "HBoxModel",
     "state": {
      "_dom_classes": [],
      "_model_module": "@jupyter-widgets/controls",
      "_model_module_version": "1.5.0",
      "_model_name": "HBoxModel",
      "_view_count": null,
      "_view_module": "@jupyter-widgets/controls",
      "_view_module_version": "1.5.0",
      "_view_name": "HBoxView",
      "box_style": "",
      "children": [
       "IPY_MODEL_f613090b803c4cc8ba939d8866a67097",
       "IPY_MODEL_bfec94fd67284ad08a4dbb7695b1f95f",
       "IPY_MODEL_411df74dd4304284b3c6cde69fb54ff8"
      ],
      "layout": "IPY_MODEL_8e401abe7bda43a3965d20c0c42c8a9b"
     }
    },
    "ee8a237cbe8d4975a4cdf388175bb5c0": {
     "model_module": "@jupyter-widgets/controls",
     "model_module_version": "1.5.0",
     "model_name": "FloatProgressModel",
     "state": {
      "_dom_classes": [],
      "_model_module": "@jupyter-widgets/controls",
      "_model_module_version": "1.5.0",
      "_model_name": "FloatProgressModel",
      "_view_count": null,
      "_view_module": "@jupyter-widgets/controls",
      "_view_module_version": "1.5.0",
      "_view_name": "ProgressView",
      "bar_style": "success",
      "description": "",
      "description_tooltip": null,
      "layout": "IPY_MODEL_c1b23cbd0dd14b71b0d9085436e12e3c",
      "max": 49,
      "min": 0,
      "orientation": "horizontal",
      "style": "IPY_MODEL_b412e1ba21bf41cdbf88d4bdb29291f9",
      "value": 49
     }
    },
    "f613090b803c4cc8ba939d8866a67097": {
     "model_module": "@jupyter-widgets/controls",
     "model_module_version": "1.5.0",
     "model_name": "HTMLModel",
     "state": {
      "_dom_classes": [],
      "_model_module": "@jupyter-widgets/controls",
      "_model_module_version": "1.5.0",
      "_model_name": "HTMLModel",
      "_view_count": null,
      "_view_module": "@jupyter-widgets/controls",
      "_view_module_version": "1.5.0",
      "_view_name": "HTMLView",
      "description": "",
      "description_tooltip": null,
      "layout": "IPY_MODEL_3b66d91750b1487a861483ec998a6c83",
      "placeholder": "​",
      "style": "IPY_MODEL_81873e2dc8b64f51af3148b05e85132f",
      "value": "model.safetensors: 100%"
     }
    },
    "f881d2dcdb9a438fbc89ba0345f19b56": {
     "model_module": "@jupyter-widgets/controls",
     "model_module_version": "1.5.0",
     "model_name": "FloatProgressModel",
     "state": {
      "_dom_classes": [],
      "_model_module": "@jupyter-widgets/controls",
      "_model_module_version": "1.5.0",
      "_model_name": "FloatProgressModel",
      "_view_count": null,
      "_view_module": "@jupyter-widgets/controls",
      "_view_module_version": "1.5.0",
      "_view_name": "ProgressView",
      "bar_style": "success",
      "description": "",
      "description_tooltip": null,
      "layout": "IPY_MODEL_cfcae1e9fbc74fd6bcaa9dd3bdbfe4c0",
      "max": 1961828,
      "min": 0,
      "orientation": "horizontal",
      "style": "IPY_MODEL_09703ab7e20d4f36b00767742d5e5980",
      "value": 1961828
     }
    },
    "f8caf14213e745a79b3ceef04cc08f40": {
     "model_module": "@jupyter-widgets/base",
     "model_module_version": "1.2.0",
     "model_name": "LayoutModel",
     "state": {
      "_model_module": "@jupyter-widgets/base",
      "_model_module_version": "1.2.0",
      "_model_name": "LayoutModel",
      "_view_count": null,
      "_view_module": "@jupyter-widgets/base",
      "_view_module_version": "1.2.0",
      "_view_name": "LayoutView",
      "align_content": null,
      "align_items": null,
      "align_self": null,
      "border": null,
      "bottom": null,
      "display": null,
      "flex": null,
      "flex_flow": null,
      "grid_area": null,
      "grid_auto_columns": null,
      "grid_auto_flow": null,
      "grid_auto_rows": null,
      "grid_column": null,
      "grid_gap": null,
      "grid_row": null,
      "grid_template_areas": null,
      "grid_template_columns": null,
      "grid_template_rows": null,
      "height": null,
      "justify_content": null,
      "justify_items": null,
      "left": null,
      "margin": null,
      "max_height": null,
      "max_width": null,
      "min_height": null,
      "min_width": null,
      "object_fit": null,
      "object_position": null,
      "order": null,
      "overflow": null,
      "overflow_x": null,
      "overflow_y": null,
      "padding": null,
      "right": null,
      "top": null,
      "visibility": null,
      "width": null
     }
    },
    "fafaa95125884c1b97bebf2d9430c72b": {
     "model_module": "@jupyter-widgets/controls",
     "model_module_version": "1.5.0",
     "model_name": "DescriptionStyleModel",
     "state": {
      "_model_module": "@jupyter-widgets/controls",
      "_model_module_version": "1.5.0",
      "_model_name": "DescriptionStyleModel",
      "_view_count": null,
      "_view_module": "@jupyter-widgets/base",
      "_view_module_version": "1.2.0",
      "_view_name": "StyleView",
      "description_width": ""
     }
    },
    "ff30af6c8c06473ca9e6421440fede26": {
     "model_module": "@jupyter-widgets/controls",
     "model_module_version": "1.5.0",
     "model_name": "ProgressStyleModel",
     "state": {
      "_model_module": "@jupyter-widgets/controls",
      "_model_module_version": "1.5.0",
      "_model_name": "ProgressStyleModel",
      "_view_count": null,
      "_view_module": "@jupyter-widgets/base",
      "_view_module_version": "1.2.0",
      "_view_name": "StyleView",
      "bar_color": null,
      "description_width": ""
     }
    }
   }
  }
 },
 "nbformat": 4,
 "nbformat_minor": 4
}
