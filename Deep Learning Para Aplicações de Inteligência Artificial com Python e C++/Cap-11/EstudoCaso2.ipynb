{
 "cells": [
  {
   "cell_type": "markdown",
   "metadata": {},
   "source": [
    "<!-- Projeto Desenvolvido na Data Science Academy - www.datascienceacademy.com.br -->\n",
    "# <font color='blue'>Data Science Academy</font>\n",
    "## <font color='blue'>Deep Learning Para Aplicações de Inteligência Artificial com Python e C++</font>\n",
    "## <font color='blue'>Estudo de Caso 2</font>\n",
    "## <font color='blue'>Construindo e Treinando Um LLM a Partir do Zero</font>"
   ]
  },
  {
   "cell_type": "code",
   "execution_count": 1,
   "metadata": {},
   "outputs": [],
   "source": [
    "# Para atualizar um pacote, execute o comando abaixo no terminal ou prompt de comando:\n",
    "# pip install -U nome_pacote\n",
    "\n",
    "# Para instalar a versão exata de um pacote, execute o comando abaixo no terminal ou prompt de comando:\n",
    "# !pip install nome_pacote==versão_desejada\n",
    "\n",
    "# Depois de instalar ou atualizar o pacote, reinicie o jupyter notebook.\n",
    "\n",
    "# Instala o pacote watermark.\n",
    "# Esse pacote é usado para gravar as versões de outros pacotes usados neste jupyter notebook.\n",
    "!pip install -q -U watermark"
   ]
  },
  {
   "cell_type": "code",
   "execution_count": 2,
   "metadata": {},
   "outputs": [],
   "source": [
    "import random\n",
    "random.seed(10)"
   ]
  },
  {
   "cell_type": "code",
   "execution_count": 3,
   "metadata": {
    "id": "XQhwlGcdpydo"
   },
   "outputs": [],
   "source": [
    "# Imports\n",
    "import re\n",
    "import math\n",
    "import torch\n",
    "import numpy as np\n",
    "import torch.nn as nn\n",
    "import torch.nn.functional as F\n",
    "import torch.optim as optim\n",
    "from random import *"
   ]
  },
  {
   "cell_type": "code",
   "execution_count": 4,
   "metadata": {},
   "outputs": [
    {
     "name": "stdout",
     "output_type": "stream",
     "text": [
      "Author: Data Science Academy\n",
      "\n"
     ]
    }
   ],
   "source": [
    "# Versões dos pacotes usados neste jupyter notebook\n",
    "%reload_ext watermark\n",
    "%watermark -a \"Data Science Academy\" "
   ]
  },
  {
   "cell_type": "markdown",
   "metadata": {},
   "source": [
    "## Carregando os Dados de Texto"
   ]
  },
  {
   "cell_type": "code",
   "execution_count": 5,
   "metadata": {},
   "outputs": [],
   "source": [
    "# Carrega os dados de texto\n",
    "dsa_texto = open('texto.txt', 'r').read()"
   ]
  },
  {
   "cell_type": "code",
   "execution_count": 6,
   "metadata": {},
   "outputs": [
    {
     "data": {
      "text/plain": [
       "str"
      ]
     },
     "execution_count": 6,
     "metadata": {},
     "output_type": "execute_result"
    }
   ],
   "source": [
    "type(dsa_texto)"
   ]
  },
  {
   "cell_type": "code",
   "execution_count": 7,
   "metadata": {},
   "outputs": [
    {
     "name": "stdout",
     "output_type": "stream",
     "text": [
      "'Olá, como vai? Eu sou a Camila.\\n'\n",
      "'Olá, Camila, meu nome é Fernando. Muito prazer.\\n'\n",
      "'Prazer em conhecer você também. Como você está hoje?\\n'\n",
      "'Ótimo. Meu time de futebol venceu a competição.\\n'\n",
      "'Uau, Parabéns Fernando!\\n'\n",
      "'Obrigado Camila.\\n'\n",
      "'Vamos comer uma pizza mais tarde para celebrar?\\n'\n",
      "'Claro. Você recomenda algum restaurante Camila?\\n'\n",
      "'Sim, abriu um restaurante novo e dizem que a pizza de banana é fenomenal.\\n'\n",
      "'Ok. Nos encontramos no restaurante às sete da noite, pode ser?\\n'\n",
      "'Pode sim. Nos vemos mais tarde então.'\n"
     ]
    }
   ],
   "source": [
    "print(dsa_texto)"
   ]
  },
  {
   "cell_type": "markdown",
   "metadata": {},
   "source": [
    "## Pré-Processamento dos Dados de Texto e Construção do Vocabulário"
   ]
  },
  {
   "cell_type": "code",
   "execution_count": 8,
   "metadata": {},
   "outputs": [],
   "source": [
    "# Filtramos caracteres especiais: '.', ',', '?', '!'\n",
    "sentences = re.sub(\"[.,!?\\\\-]\", '', dsa_texto.lower()).split('\\n') "
   ]
  },
  {
   "cell_type": "code",
   "execution_count": 9,
   "metadata": {},
   "outputs": [
    {
     "name": "stdout",
     "output_type": "stream",
     "text": [
      "[\"'olá como vai eu sou a camila\\\\n'\", \"'olá camila meu nome é fernando muito prazer\\\\n'\", \"'prazer em conhecer você também como você está hoje\\\\n'\", \"'ótimo meu time de futebol venceu a competição\\\\n'\", \"'uau parabéns fernando\\\\n'\", \"'obrigado camila\\\\n'\", \"'vamos comer uma pizza mais tarde para celebrar\\\\n'\", \"'claro você recomenda algum restaurante camila\\\\n'\", \"'sim abriu um restaurante novo e dizem que a pizza de banana é fenomenal\\\\n'\", \"'ok nos encontramos no restaurante às sete da noite pode ser\\\\n'\", \"'pode sim nos vemos mais tarde então'\"]\n"
     ]
    }
   ],
   "source": [
    "print(sentences)"
   ]
  },
  {
   "cell_type": "code",
   "execution_count": 10,
   "metadata": {},
   "outputs": [],
   "source": [
    "# Dividimos as frases em palavras e criamos uma lista de palavras\n",
    "word_list = list(set(\" \".join(sentences).split()))"
   ]
  },
  {
   "cell_type": "code",
   "execution_count": 11,
   "metadata": {},
   "outputs": [
    {
     "name": "stdout",
     "output_type": "stream",
     "text": [
      "['novo', \"fernando\\\\n'\", \"'ótimo\", 'comer', 'abriu', 'sou', \"'ok\", 'noite', 'em', 'pode', \"'vamos\", 'eu', 'é', 'às', \"'claro\", 'sim', \"celebrar\\\\n'\", 'pizza', 'está', 'da', 'nome', 'tarde', 'um', 'vemos', 'de', \"fenomenal\\\\n'\", 'uma', \"'sim\", 'vai', 'você', 'no', \"ser\\\\n'\", \"prazer\\\\n'\", \"competição\\\\n'\", \"hoje\\\\n'\", 'meu', 'algum', \"então'\", \"camila\\\\n'\", 'muito', 'banana', \"'prazer\", 'futebol', 'sete', 'time', 'mais', 'também', 'fernando', 'restaurante', 'nos', 'como', 'recomenda', 'parabéns', \"'uau\", 'dizem', 'e', 'para', 'conhecer', \"'olá\", 'a', 'camila', 'que', \"'pode\", 'venceu', \"'obrigado\", 'encontramos']\n"
     ]
    }
   ],
   "source": [
    "print(word_list)"
   ]
  },
  {
   "cell_type": "code",
   "execution_count": 12,
   "metadata": {},
   "outputs": [],
   "source": [
    "# Inicializa o dicionário de palavras com os tokens especiais do BERT\n",
    "word_dict = {'[PAD]': 0, '[CLS]': 1, '[SEP]': 2, '[MASK]': 3}"
   ]
  },
  {
   "cell_type": "code",
   "execution_count": 13,
   "metadata": {},
   "outputs": [
    {
     "name": "stdout",
     "output_type": "stream",
     "text": [
      "{'[PAD]': 0, '[CLS]': 1, '[SEP]': 2, '[MASK]': 3}\n"
     ]
    }
   ],
   "source": [
    "print(word_dict)"
   ]
  },
  {
   "cell_type": "code",
   "execution_count": 14,
   "metadata": {},
   "outputs": [],
   "source": [
    "# Incluímos as palavras no dicionário e criamos índices\n",
    "for i, w in enumerate(word_list):\n",
    "    word_dict[w] = i + 4"
   ]
  },
  {
   "cell_type": "code",
   "execution_count": 15,
   "metadata": {},
   "outputs": [
    {
     "name": "stdout",
     "output_type": "stream",
     "text": [
      "{'[PAD]': 0, '[CLS]': 1, '[SEP]': 2, '[MASK]': 3, 'novo': 4, \"fernando\\\\n'\": 5, \"'ótimo\": 6, 'comer': 7, 'abriu': 8, 'sou': 9, \"'ok\": 10, 'noite': 11, 'em': 12, 'pode': 13, \"'vamos\": 14, 'eu': 15, 'é': 16, 'às': 17, \"'claro\": 18, 'sim': 19, \"celebrar\\\\n'\": 20, 'pizza': 21, 'está': 22, 'da': 23, 'nome': 24, 'tarde': 25, 'um': 26, 'vemos': 27, 'de': 28, \"fenomenal\\\\n'\": 29, 'uma': 30, \"'sim\": 31, 'vai': 32, 'você': 33, 'no': 34, \"ser\\\\n'\": 35, \"prazer\\\\n'\": 36, \"competição\\\\n'\": 37, \"hoje\\\\n'\": 38, 'meu': 39, 'algum': 40, \"então'\": 41, \"camila\\\\n'\": 42, 'muito': 43, 'banana': 44, \"'prazer\": 45, 'futebol': 46, 'sete': 47, 'time': 48, 'mais': 49, 'também': 50, 'fernando': 51, 'restaurante': 52, 'nos': 53, 'como': 54, 'recomenda': 55, 'parabéns': 56, \"'uau\": 57, 'dizem': 58, 'e': 59, 'para': 60, 'conhecer': 61, \"'olá\": 62, 'a': 63, 'camila': 64, 'que': 65, \"'pode\": 66, 'venceu': 67, \"'obrigado\": 68, 'encontramos': 69}\n"
     ]
    }
   ],
   "source": [
    "print(word_dict)"
   ]
  },
  {
   "cell_type": "code",
   "execution_count": 16,
   "metadata": {},
   "outputs": [],
   "source": [
    "# Invertemos a ordem e colocamos os índices como chave e as palavras como valor no dicionário\n",
    "number_dict = {i: w for i, w in enumerate(word_dict)}"
   ]
  },
  {
   "cell_type": "code",
   "execution_count": 17,
   "metadata": {},
   "outputs": [
    {
     "data": {
      "text/plain": [
       "{0: '[PAD]',\n",
       " 1: '[CLS]',\n",
       " 2: '[SEP]',\n",
       " 3: '[MASK]',\n",
       " 4: 'novo',\n",
       " 5: \"fernando\\\\n'\",\n",
       " 6: \"'ótimo\",\n",
       " 7: 'comer',\n",
       " 8: 'abriu',\n",
       " 9: 'sou',\n",
       " 10: \"'ok\",\n",
       " 11: 'noite',\n",
       " 12: 'em',\n",
       " 13: 'pode',\n",
       " 14: \"'vamos\",\n",
       " 15: 'eu',\n",
       " 16: 'é',\n",
       " 17: 'às',\n",
       " 18: \"'claro\",\n",
       " 19: 'sim',\n",
       " 20: \"celebrar\\\\n'\",\n",
       " 21: 'pizza',\n",
       " 22: 'está',\n",
       " 23: 'da',\n",
       " 24: 'nome',\n",
       " 25: 'tarde',\n",
       " 26: 'um',\n",
       " 27: 'vemos',\n",
       " 28: 'de',\n",
       " 29: \"fenomenal\\\\n'\",\n",
       " 30: 'uma',\n",
       " 31: \"'sim\",\n",
       " 32: 'vai',\n",
       " 33: 'você',\n",
       " 34: 'no',\n",
       " 35: \"ser\\\\n'\",\n",
       " 36: \"prazer\\\\n'\",\n",
       " 37: \"competição\\\\n'\",\n",
       " 38: \"hoje\\\\n'\",\n",
       " 39: 'meu',\n",
       " 40: 'algum',\n",
       " 41: \"então'\",\n",
       " 42: \"camila\\\\n'\",\n",
       " 43: 'muito',\n",
       " 44: 'banana',\n",
       " 45: \"'prazer\",\n",
       " 46: 'futebol',\n",
       " 47: 'sete',\n",
       " 48: 'time',\n",
       " 49: 'mais',\n",
       " 50: 'também',\n",
       " 51: 'fernando',\n",
       " 52: 'restaurante',\n",
       " 53: 'nos',\n",
       " 54: 'como',\n",
       " 55: 'recomenda',\n",
       " 56: 'parabéns',\n",
       " 57: \"'uau\",\n",
       " 58: 'dizem',\n",
       " 59: 'e',\n",
       " 60: 'para',\n",
       " 61: 'conhecer',\n",
       " 62: \"'olá\",\n",
       " 63: 'a',\n",
       " 64: 'camila',\n",
       " 65: 'que',\n",
       " 66: \"'pode\",\n",
       " 67: 'venceu',\n",
       " 68: \"'obrigado\",\n",
       " 69: 'encontramos'}"
      ]
     },
     "execution_count": 17,
     "metadata": {},
     "output_type": "execute_result"
    }
   ],
   "source": [
    "number_dict"
   ]
  },
  {
   "cell_type": "code",
   "execution_count": 18,
   "metadata": {},
   "outputs": [
    {
     "name": "stdout",
     "output_type": "stream",
     "text": [
      "70\n"
     ]
    }
   ],
   "source": [
    "# Tamanho do vocabulário\n",
    "vocab_size = len(word_dict)\n",
    "print(vocab_size)"
   ]
  },
  {
   "cell_type": "code",
   "execution_count": 19,
   "metadata": {},
   "outputs": [],
   "source": [
    "# Criamos uma lista para os tokens\n",
    "token_list = list()"
   ]
  },
  {
   "cell_type": "code",
   "execution_count": 20,
   "metadata": {
    "id": "dZXQM7TIpydr"
   },
   "outputs": [],
   "source": [
    "# Loop pelas sentenças para criar a lista de tokens\n",
    "for sentence in sentences:\n",
    "    arr = [word_dict[s] for s in sentence.split()]\n",
    "    token_list.append(arr)"
   ]
  },
  {
   "cell_type": "code",
   "execution_count": 21,
   "metadata": {
    "colab": {
     "base_uri": "https://localhost:8080/"
    },
    "id": "tab7hDxUpyds",
    "outputId": "d95b8e7c-85a3-4c3e-9c89-68525c297b71"
   },
   "outputs": [
    {
     "data": {
      "text/plain": [
       "[[62, 54, 32, 15, 9, 63, 42],\n",
       " [62, 64, 39, 24, 16, 51, 43, 36],\n",
       " [45, 12, 61, 33, 50, 54, 33, 22, 38],\n",
       " [6, 39, 48, 28, 46, 67, 63, 37],\n",
       " [57, 56, 5],\n",
       " [68, 42],\n",
       " [14, 7, 30, 21, 49, 25, 60, 20],\n",
       " [18, 33, 55, 40, 52, 42],\n",
       " [31, 8, 26, 52, 4, 59, 58, 65, 63, 21, 28, 44, 16, 29],\n",
       " [10, 53, 69, 34, 52, 17, 47, 23, 11, 13, 35],\n",
       " [66, 19, 53, 27, 49, 25, 41]]"
      ]
     },
     "execution_count": 21,
     "metadata": {},
     "output_type": "execute_result"
    }
   ],
   "source": [
    "token_list"
   ]
  },
  {
   "cell_type": "code",
   "execution_count": 22,
   "metadata": {},
   "outputs": [
    {
     "data": {
      "text/plain": [
       "\"'Olá, como vai? Eu sou a Cami\""
      ]
     },
     "execution_count": 22,
     "metadata": {},
     "output_type": "execute_result"
    }
   ],
   "source": [
    "# Primeira frase\n",
    "dsa_texto[0:29]"
   ]
  },
  {
   "cell_type": "code",
   "execution_count": 23,
   "metadata": {},
   "outputs": [
    {
     "data": {
      "text/plain": [
       "[62, 54, 32, 15, 9, 63, 42]"
      ]
     },
     "execution_count": 23,
     "metadata": {},
     "output_type": "execute_result"
    }
   ],
   "source": [
    "# Primeira frase no formato de token (o que será usado para treinar o modelo BERT)\n",
    "token_list[0]"
   ]
  },
  {
   "cell_type": "markdown",
   "metadata": {},
   "source": [
    "## Definição dos Hiperparâmetros"
   ]
  },
  {
   "cell_type": "code",
   "execution_count": 24,
   "metadata": {
    "id": "_HzEd-kcpydt"
   },
   "outputs": [],
   "source": [
    "# Hiperparâmetros\n",
    "batch_size = 6\n",
    "n_segments = 2\n",
    "dropout = 0.2\n",
    "\n",
    "# Comprimento máximo\n",
    "maxlen = 100 \n",
    "\n",
    "# Número máximo de tokens que serão previstos\n",
    "max_pred = 7\n",
    "\n",
    "# Número de camadas \n",
    "n_layers = 6 \n",
    "\n",
    "# Número de cabeças no multi-head attention\n",
    "n_heads = 12\n",
    "\n",
    "# Tamanho da embedding\n",
    "d_model = 768\n",
    "\n",
    "# Tamanho da dimensão feedforward: 4 * d_model\n",
    "d_ff = d_model * 4\n",
    "\n",
    "# Dimensão de K(=Q)V\n",
    "d_k = d_v = 64 \n",
    "\n",
    "# Epochs\n",
    "NUM_EPOCHS = 50"
   ]
  },
  {
   "cell_type": "markdown",
   "metadata": {},
   "source": [
    "## Criação dos Batches de Dados e Aplicação dos Tokens Especiais"
   ]
  },
  {
   "cell_type": "markdown",
   "metadata": {},
   "source": [
    "A função dsa_make_batch() abaixo cria lotes (batches) de dados para o treinamento do modelo BERT. Ela é responsável por gerar a entrada correta necessária para o treinamento do BERT, que inclui os tokens de entrada, os tokens mascarados, as posições dos tokens mascarados, os IDs de segmentos e um rótulo indicando se a segunda sentença segue imediatamente a primeira. Vamos descrever cada uma das partes da função e usar imagens para facilitar a compreensão.\n",
    "\n",
    "**Inicialização**: A função começa inicializando um lote vazio e contadores para sentenças positivas e negativas. Sentenças positivas são pares de sentenças onde a segunda sentença segue imediatamente a primeira, enquanto as negativas são pares onde isso não ocorre. O lote deve ser equilibrado entre sentenças positivas e negativas.\n",
    "\n",
    "**Geração de pares de sentenças**: Para cada instância no lote, a função seleciona aleatoriamente duas sentenças do conjunto de dados. Cada sentença é então convertida em uma lista de IDs de tokens e os tokens especiais [CLS] e [SEP] são adicionados nos lugares apropriados.\n",
    "\n",
    "**Segment IDs**: Para cada par de sentenças, a função gera IDs de segmentos, que são 0 para tokens na primeira sentença e 1 para tokens na segunda sentença.\n",
    "\n",
    "**Masked Language Model (MLM)**: A função então seleciona aleatoriamente 15% dos tokens para mascarar para a tarefa de MLM, garantindo que os tokens [CLS] e [SEP] não sejam mascarados. Esses tokens são substituídos pelo token [MASK], por um token aleatório ou permanecem inalterados, dependendo de um sorteio aleatório.\n",
    "\n",
    "![DSA](imagens/dsa_bert1.png)\n",
    "\n",
    "**Padding**: A função adiciona padding aos IDs de entrada, aos IDs de segmento, aos tokens mascarados e às posições mascaradas para garantir que todas as listas tenham o mesmo comprimento.\n",
    "\n",
    "**Next Sentence Prediction**: Por último, a função verifica se a segunda sentença segue imediatamente a primeira. Se sim, ela adiciona um rótulo True à instância e incrementa o contador de positivos. Se não, ela adiciona um rótulo False e incrementa o contador de negativos.\n",
    "\n",
    "![DSA](imagens/dsa_bert2.png)\n",
    "\n",
    "Esta função continua gerando instâncias até que o lote esteja cheio e contenha uma quantidade igual de instâncias positivas e negativas. Então, o lote é retornado.\n",
    "\n",
    "Note que esta função é apenas um exemplo de como os dados podem ser preparados para o treinamento do BERT. Dependendo do conjunto de dados e da tarefa específica, pode ser necessário ajustar esta função.\n",
    "\n",
    "<!-- Projeto Desenvolvido na Data Science Academy - www.datascienceacademy.com.br -->"
   ]
  },
  {
   "cell_type": "markdown",
   "metadata": {},
   "source": [
    "A principal inovação técnica do BERT é aplicar o treinamento bidirecional do Transformer, um modelo de atenção popular, à modelagem de linguagem. Isso contrasta com os esforços anteriores que analisavam uma sequência de texto da esquerda para a direita ou um treinamento combinado da esquerda para a direita e da direita para a esquerda. Os resultados do artigo mostram que um modelo de linguagem que é treinado bidirecionalmente pode ter um senso mais profundo de contexto e fluxo de linguagem do que modelos de linguagem de direção única. \n",
    "\n",
    "No artigo, os pesquisadores detalham uma nova técnica chamada Masked LM (MLM), que permite o treinamento bidirecional em modelos nos quais antes era impossível. \n",
    "\n",
    "Link do artigo do BERT: https://arxiv.org/abs/1810.04805"
   ]
  },
  {
   "cell_type": "code",
   "execution_count": 25,
   "metadata": {
    "id": "fYLFtroMpydu"
   },
   "outputs": [],
   "source": [
    "# Define a função para criar lotes de dados\n",
    "def dsa_make_batch():\n",
    "    \n",
    "    # Inicializa o lote como uma lista vazia\n",
    "    batch = []\n",
    "    \n",
    "    # Inicializa contadores para exemplos positivos e negativos\n",
    "    positive = negative = 0\n",
    "    \n",
    "    # Continua até que a metade do lote seja de exemplos positivos e a outra metade de exemplos negativos\n",
    "    while positive != batch_size/2 or negative != batch_size/2:\n",
    "        \n",
    "        # Escolhe índices aleatórios para duas sentenças\n",
    "        tokens_a_index, tokens_b_index = randrange(len(sentences)), randrange(len(sentences))\n",
    "        \n",
    "        # Recupera os tokens correspondentes aos índices\n",
    "        tokens_a, tokens_b = token_list[tokens_a_index], token_list[tokens_b_index]\n",
    "        \n",
    "        # Prepara os ids de entrada adicionando tokens especiais [CLS] e [SEP]\n",
    "        input_ids = [word_dict['[CLS]']] + tokens_a + [word_dict['[SEP]']] + tokens_b + [word_dict['[SEP]']]\n",
    "        \n",
    "        # Define os segment ids para diferenciar as duas sentenças\n",
    "        segment_ids = [0] * (1 + len(tokens_a) + 1) + [1] * (len(tokens_b) + 1)\n",
    "        \n",
    "        # Calcula o número de previsões a serem feitas (15% dos tokens)\n",
    "        n_pred =  min(max_pred, max(1, int(round(len(input_ids) * 0.15)))) \n",
    "        \n",
    "        # Identifica as posições candidatas para mascaramento que não sejam [CLS] ou [SEP]\n",
    "        cand_maked_pos = [i for i, token in enumerate(input_ids) if token != word_dict['[CLS]'] and token != word_dict['[SEP]']]\n",
    "        \n",
    "        # Embaralha as posições candidatas\n",
    "        shuffle(cand_maked_pos)\n",
    "        \n",
    "        # Inicializa listas para tokens mascarados e suas posições\n",
    "        masked_tokens, masked_pos = [], []\n",
    "        \n",
    "        # Mascara tokens até atingir o número de previsões desejado\n",
    "        for pos in cand_maked_pos[:n_pred]:\n",
    "            masked_pos.append(pos)\n",
    "            masked_tokens.append(input_ids[pos])\n",
    "            \n",
    "            # Máscara aleatória\n",
    "            if random() < 0.8:  \n",
    "                input_ids[pos] = word_dict['[MASK]'] \n",
    "            \n",
    "            # Substitui por outro token 10% das vezes (20% do tempo restante)\n",
    "            elif random() < 0.5:  \n",
    "                index = randint(0, vocab_size - 1) \n",
    "                input_ids[pos] = word_dict[number_dict[index]] \n",
    "        \n",
    "        # Adiciona zero padding aos ids de entrada e segment ids para atingir o comprimento máximo\n",
    "        n_pad = maxlen - len(input_ids)\n",
    "        input_ids.extend([0] * n_pad)\n",
    "        segment_ids.extend([0] * n_pad)\n",
    "        \n",
    "        # Adiciona zero padding aos tokens mascarados e suas posições se necessário\n",
    "        if max_pred > n_pred:\n",
    "            n_pad = max_pred - n_pred\n",
    "            masked_tokens.extend([0] * n_pad)\n",
    "            masked_pos.extend([0] * n_pad)\n",
    "        \n",
    "        # Adiciona ao lote como um exemplo positivo se as sentenças forem consecutivas\n",
    "        if tokens_a_index + 1 == tokens_b_index and positive < batch_size / 2:\n",
    "            batch.append([input_ids, segment_ids, masked_tokens, masked_pos, True]) \n",
    "            positive += 1\n",
    "        \n",
    "        # Adiciona ao lote como um exemplo negativo se as sentenças não forem consecutivas\n",
    "        elif tokens_a_index + 1 != tokens_b_index and negative < batch_size / 2:\n",
    "            batch.append([input_ids, segment_ids, masked_tokens, masked_pos, False]) \n",
    "            negative += 1\n",
    "    \n",
    "    # Retorna o lote completo\n",
    "    return batch"
   ]
  },
  {
   "cell_type": "code",
   "execution_count": 26,
   "metadata": {
    "id": "tun2vU1dpydv"
   },
   "outputs": [],
   "source": [
    "# Função para o padding\n",
    "def dsa_get_attn_pad_masked(seq_q, seq_k):\n",
    "    \n",
    "    batch_size, len_q = seq_q.size()\n",
    "    \n",
    "    batch_size, len_k = seq_k.size()\n",
    "    \n",
    "    pad_attn_masked = seq_k.data.eq(0).unsqueeze(1)\n",
    "    \n",
    "    return pad_attn_masked.expand(batch_size, len_q, len_k)"
   ]
  },
  {
   "cell_type": "markdown",
   "metadata": {},
   "source": [
    "A função acima cria uma máscara de atenção para tokens de padding em uma sequência.\n",
    "\n",
    "**Entradas**: A função aceita duas sequências, seq_q e seq_k. Estas são tipicamente a sequência de consulta (query) e a sequência chave (key) em uma operação de atenção.\n",
    "\n",
    "**Extração de tamanho**: A função extrai o tamanho do lote (batch_size) e os comprimentos das sequências (len_q e len_k) a partir das dimensões das sequências de entrada.\n",
    "\n",
    "**Criação da máscara**: A máscara de atenção é criada verificando quais elementos em seq_k são iguais a zero (o que indica um token de padding). Isso produz uma matriz booleana do mesmo tamanho que seq_k, onde True indica um token de padding e False indica um token real.\n",
    "\n",
    "**Adição de uma dimensão**: A dimensão é adicionada à máscara usando o método unsqueeze(1), que adiciona uma dimensão extra no índice 1. Isso é necessário porque a máscara de atenção deve ter a mesma dimensão que as matrizes de atenção no Transformer.\n",
    "\n",
    "**Expansão da máscara**: Finalmente, a máscara é expandida para ter o mesmo tamanho que a matriz de atenção, que tem dimensões (batch_size, len_q, len_k). A máscara expandida é retornada pela função.\n",
    "\n",
    "Em resumo, a função cria uma máscara que pode ser usada para impedir que o modelo preste atenção aos tokens de padding quando calcula a atenção. Tokens de padding são usados para preencher sequências para que todas tenham o mesmo comprimento, mas eles não carregam nenhuma informação útil, por isso é importante garantir que o modelo os ignore.\n",
    "\n",
    "<!-- Projeto Desenvolvido na Data Science Academy - www.datascienceacademy.com.br -->"
   ]
  },
  {
   "cell_type": "code",
   "execution_count": 27,
   "metadata": {
    "id": "Fq2BFQ0kpydw"
   },
   "outputs": [],
   "source": [
    "# Cria um batch\n",
    "batch = dsa_make_batch()"
   ]
  },
  {
   "cell_type": "code",
   "execution_count": 28,
   "metadata": {
    "id": "l1sOb8tbpydx"
   },
   "outputs": [],
   "source": [
    "# Extrai os elementos do batch\n",
    "input_ids, segment_ids, masked_tokens, masked_pos, isNext = map(torch.LongTensor, zip(*batch))"
   ]
  },
  {
   "cell_type": "code",
   "execution_count": 29,
   "metadata": {},
   "outputs": [
    {
     "data": {
      "text/plain": [
       "tensor([[ 1, 10, 53, 69, 34, 52,  3, 47, 23, 11, 13, 35,  2,  3, 54, 32, 15,  9,\n",
       "         63, 42,  2,  0,  0,  0,  0,  0,  0,  0,  0,  0,  0,  0,  0,  0,  0,  0,\n",
       "          0,  0,  0,  0,  0,  0,  0,  0,  0,  0,  0,  0,  0,  0,  0,  0,  0,  0,\n",
       "          0,  0,  0,  0,  0,  0,  0,  0,  0,  0,  0,  0,  0,  0,  0,  0,  0,  0,\n",
       "          0,  0,  0,  0,  0,  0,  0,  0,  0,  0,  0,  0,  0,  0,  0,  0,  0,  0,\n",
       "          0,  0,  0,  0,  0,  0,  0,  0,  0,  0],\n",
       "        [ 1, 66, 19, 53, 27, 49, 25,  3,  2, 57, 56,  3,  2,  0,  0,  0,  0,  0,\n",
       "          0,  0,  0,  0,  0,  0,  0,  0,  0,  0,  0,  0,  0,  0,  0,  0,  0,  0,\n",
       "          0,  0,  0,  0,  0,  0,  0,  0,  0,  0,  0,  0,  0,  0,  0,  0,  0,  0,\n",
       "          0,  0,  0,  0,  0,  0,  0,  0,  0,  0,  0,  0,  0,  0,  0,  0,  0,  0,\n",
       "          0,  0,  0,  0,  0,  0,  0,  0,  0,  0,  0,  0,  0,  0,  0,  0,  0,  0,\n",
       "          0,  0,  0,  0,  0,  0,  0,  0,  0,  0],\n",
       "        [ 1, 62, 54, 32, 15,  9, 63, 42,  2,  6, 39, 48, 28,  3,  3, 63, 37,  2,\n",
       "          0,  0,  0,  0,  0,  0,  0,  0,  0,  0,  0,  0,  0,  0,  0,  0,  0,  0,\n",
       "          0,  0,  0,  0,  0,  0,  0,  0,  0,  0,  0,  0,  0,  0,  0,  0,  0,  0,\n",
       "          0,  0,  0,  0,  0,  0,  0,  0,  0,  0,  0,  0,  0,  0,  0,  0,  0,  0,\n",
       "          0,  0,  0,  0,  0,  0,  0,  0,  0,  0,  0,  0,  0,  0,  0,  0,  0,  0,\n",
       "          0,  0,  0,  0,  0,  0,  0,  0,  0,  0],\n",
       "        [ 1, 31,  8, 26, 52,  4, 59, 58,  3,  3, 21, 28, 44, 16, 29,  2, 10,  3,\n",
       "         69, 34,  3, 17, 47, 23, 11, 13, 35,  2,  0,  0,  0,  0,  0,  0,  0,  0,\n",
       "          0,  0,  0,  0,  0,  0,  0,  0,  0,  0,  0,  0,  0,  0,  0,  0,  0,  0,\n",
       "          0,  0,  0,  0,  0,  0,  0,  0,  0,  0,  0,  0,  0,  0,  0,  0,  0,  0,\n",
       "          0,  0,  0,  0,  0,  0,  0,  0,  0,  0,  0,  0,  0,  0,  0,  0,  0,  0,\n",
       "          0,  0,  0,  0,  0,  0,  0,  0,  0,  0],\n",
       "        [ 1, 62, 64,  3, 24, 16, 51, 43, 36,  2, 45, 12, 61, 33, 50, 56,  3, 22,\n",
       "         38,  2,  0,  0,  0,  0,  0,  0,  0,  0,  0,  0,  0,  0,  0,  0,  0,  0,\n",
       "          0,  0,  0,  0,  0,  0,  0,  0,  0,  0,  0,  0,  0,  0,  0,  0,  0,  0,\n",
       "          0,  0,  0,  0,  0,  0,  0,  0,  0,  0,  0,  0,  0,  0,  0,  0,  0,  0,\n",
       "          0,  0,  0,  0,  0,  0,  0,  0,  0,  0,  0,  0,  0,  0,  0,  0,  0,  0,\n",
       "          0,  0,  0,  0,  0,  0,  0,  0,  0,  0],\n",
       "        [ 1, 57, 56,  5,  2, 68,  3,  2,  0,  0,  0,  0,  0,  0,  0,  0,  0,  0,\n",
       "          0,  0,  0,  0,  0,  0,  0,  0,  0,  0,  0,  0,  0,  0,  0,  0,  0,  0,\n",
       "          0,  0,  0,  0,  0,  0,  0,  0,  0,  0,  0,  0,  0,  0,  0,  0,  0,  0,\n",
       "          0,  0,  0,  0,  0,  0,  0,  0,  0,  0,  0,  0,  0,  0,  0,  0,  0,  0,\n",
       "          0,  0,  0,  0,  0,  0,  0,  0,  0,  0,  0,  0,  0,  0,  0,  0,  0,  0,\n",
       "          0,  0,  0,  0,  0,  0,  0,  0,  0,  0]])"
      ]
     },
     "execution_count": 29,
     "metadata": {},
     "output_type": "execute_result"
    }
   ],
   "source": [
    "# Ids das sentenças\n",
    "input_ids"
   ]
  },
  {
   "cell_type": "code",
   "execution_count": 30,
   "metadata": {},
   "outputs": [
    {
     "data": {
      "text/plain": [
       "tensor([ 1, 10, 53, 69, 34, 52,  3, 47, 23, 11, 13, 35,  2,  3, 54, 32, 15,  9,\n",
       "        63, 42,  2,  0,  0,  0,  0,  0,  0,  0,  0,  0,  0,  0,  0,  0,  0,  0,\n",
       "         0,  0,  0,  0,  0,  0,  0,  0,  0,  0,  0,  0,  0,  0,  0,  0,  0,  0,\n",
       "         0,  0,  0,  0,  0,  0,  0,  0,  0,  0,  0,  0,  0,  0,  0,  0,  0,  0,\n",
       "         0,  0,  0,  0,  0,  0,  0,  0,  0,  0,  0,  0,  0,  0,  0,  0,  0,  0,\n",
       "         0,  0,  0,  0,  0,  0,  0,  0,  0,  0])"
      ]
     },
     "execution_count": 30,
     "metadata": {},
     "output_type": "execute_result"
    }
   ],
   "source": [
    "# Ids de entrada da primeira sentença\n",
    "input_ids[0]"
   ]
  },
  {
   "cell_type": "code",
   "execution_count": 31,
   "metadata": {},
   "outputs": [
    {
     "data": {
      "text/plain": [
       "tensor([0, 0, 0, 0, 0, 0, 0, 0, 0, 0, 0, 0, 0, 1, 1, 1, 1, 1, 1, 1, 1, 0, 0, 0,\n",
       "        0, 0, 0, 0, 0, 0, 0, 0, 0, 0, 0, 0, 0, 0, 0, 0, 0, 0, 0, 0, 0, 0, 0, 0,\n",
       "        0, 0, 0, 0, 0, 0, 0, 0, 0, 0, 0, 0, 0, 0, 0, 0, 0, 0, 0, 0, 0, 0, 0, 0,\n",
       "        0, 0, 0, 0, 0, 0, 0, 0, 0, 0, 0, 0, 0, 0, 0, 0, 0, 0, 0, 0, 0, 0, 0, 0,\n",
       "        0, 0, 0, 0])"
      ]
     },
     "execution_count": 31,
     "metadata": {},
     "output_type": "execute_result"
    }
   ],
   "source": [
    "segment_ids[0]"
   ]
  },
  {
   "cell_type": "code",
   "execution_count": 32,
   "metadata": {},
   "outputs": [
    {
     "data": {
      "text/plain": [
       "tensor([15, 62, 17,  0,  0,  0,  0])"
      ]
     },
     "execution_count": 32,
     "metadata": {},
     "output_type": "execute_result"
    }
   ],
   "source": [
    "masked_tokens[0]"
   ]
  },
  {
   "cell_type": "code",
   "execution_count": 33,
   "metadata": {},
   "outputs": [
    {
     "data": {
      "text/plain": [
       "tensor([16, 13,  6,  0,  0,  0,  0])"
      ]
     },
     "execution_count": 33,
     "metadata": {},
     "output_type": "execute_result"
    }
   ],
   "source": [
    "masked_pos[0]"
   ]
  },
  {
   "cell_type": "code",
   "execution_count": 34,
   "metadata": {},
   "outputs": [
    {
     "data": {
      "text/plain": [
       "tensor(0)"
      ]
     },
     "execution_count": 34,
     "metadata": {},
     "output_type": "execute_result"
    }
   ],
   "source": [
    "isNext[0]"
   ]
  },
  {
   "cell_type": "code",
   "execution_count": 35,
   "metadata": {
    "colab": {
     "base_uri": "https://localhost:8080/"
    },
    "id": "eGWch4cvpydx",
    "outputId": "ef366521-5f38-41eb-c170-62de1cfa8c75"
   },
   "outputs": [
    {
     "data": {
      "text/plain": [
       "(tensor([False, False, False, False, False, False, False, False, False, False,\n",
       "         False, False, False, False, False, False, False, False, False, False,\n",
       "         False,  True,  True,  True,  True,  True,  True,  True,  True,  True,\n",
       "          True,  True,  True,  True,  True,  True,  True,  True,  True,  True,\n",
       "          True,  True,  True,  True,  True,  True,  True,  True,  True,  True,\n",
       "          True,  True,  True,  True,  True,  True,  True,  True,  True,  True,\n",
       "          True,  True,  True,  True,  True,  True,  True,  True,  True,  True,\n",
       "          True,  True,  True,  True,  True,  True,  True,  True,  True,  True,\n",
       "          True,  True,  True,  True,  True,  True,  True,  True,  True,  True,\n",
       "          True,  True,  True,  True,  True,  True,  True,  True,  True,  True]),\n",
       " tensor([ 1, 10, 53, 69, 34, 52,  3, 47, 23, 11, 13, 35,  2,  3, 54, 32, 15,  9,\n",
       "         63, 42,  2,  0,  0,  0,  0,  0,  0,  0,  0,  0,  0,  0,  0,  0,  0,  0,\n",
       "          0,  0,  0,  0,  0,  0,  0,  0,  0,  0,  0,  0,  0,  0,  0,  0,  0,  0,\n",
       "          0,  0,  0,  0,  0,  0,  0,  0,  0,  0,  0,  0,  0,  0,  0,  0,  0,  0,\n",
       "          0,  0,  0,  0,  0,  0,  0,  0,  0,  0,  0,  0,  0,  0,  0,  0,  0,  0,\n",
       "          0,  0,  0,  0,  0,  0,  0,  0,  0,  0]))"
      ]
     },
     "execution_count": 35,
     "metadata": {},
     "output_type": "execute_result"
    }
   ],
   "source": [
    "# Aplica a função de padding\n",
    "dsa_get_attn_pad_masked(input_ids, input_ids)[0][0], input_ids[0]"
   ]
  },
  {
   "cell_type": "markdown",
   "metadata": {},
   "source": [
    "## Construção do Modelo\n",
    "\n",
    "A imagem abaixo é uma descrição de alto nível do codificador Transformer. A entrada é uma sequência de tokens, que são primeiro incorporados em vetores e depois processados na rede neural. A saída é uma sequência de vetores de tamanho H, em que cada vetor corresponde a um token de entrada com o mesmo índice.\n",
    "\n",
    "Em termos técnicos, a previsão das palavras de saída requer:\n",
    "\n",
    "- 1- Adicionar uma camada de classificação na parte superior da saída do codificador.\n",
    "- 2- Multiplicar os vetores de saída pela matriz embedding, transformando-os na dimensão do vocabulário.\n",
    "- 3- Calcular a probabilidade de cada palavra no vocabulário com softmax.\n",
    "\n",
    "A função de perda no modelo BERT leva em consideração apenas a previsão dos valores mascarados e ignora a previsão das palavras não mascaradas. Como consequência, o modelo converge mais lentamente do que os modelos direcionais, uma característica que é compensada por sua maior percepção do contexto.\n",
    "\n",
    "![DSA](imagens/dsa_bert3.png)\n",
    "\n",
    "No processo de treinamento BERT, o modelo recebe pares de sentenças como entrada e aprende a prever se a segunda sentença do par é a sentença subsequente no documento original. Durante o treinamento, 50% das entradas são um par em que a segunda sentença é a sentença subsequente no documento original, enquanto nos outros 50% uma sentença aleatória do corpus é escolhida como a segunda sentença. \n",
    "\n",
    "Para ajudar o modelo a distinguir entre as duas sentenças em treinamento, a entrada é processada da seguinte maneira antes de entrar no modelo:\n",
    "\n",
    "- 1- Um token [CLS] é inserido no início da primeira frase e um token [SEP] é inserido no final de cada frase.\n",
    "- 2- Uma embedding de frase indicando a Sentença A ou a Sentença B é adicionada a cada token. As embeddings de sentença são semelhantes em conceito às embeddings de token com um vocabulário de 2.\n",
    "- 3- Uma embedding posicional é adicionada a cada token para indicar sua posição na sequência. O conceito e a implementação da embedding posicional são apresentados no artigo Transformer.\n",
    "\n",
    "De fato a embedding usada para treinar o modelo é uma combinação de várias embeddings.\n",
    "\n",
    "![DSA](imagens/dsa_bert4.png)\n",
    "<!-- Projeto Desenvolvido na Data Science Academy - www.datascienceacademy.com.br -->"
   ]
  },
  {
   "cell_type": "code",
   "execution_count": 36,
   "metadata": {},
   "outputs": [],
   "source": [
    "# Função de ativação GeLu\n",
    "def gelu(x):\n",
    "    return x * 0.5 * (1.0 + torch.erf(x / math.sqrt(2.0)))"
   ]
  },
  {
   "cell_type": "markdown",
   "metadata": {},
   "source": [
    "### 1- Módulo Embedding\n",
    "\n",
    "A classe de Embedding abaixo faz parte da arquitetura BERT. Componentes individuais da Classe:\n",
    "\n",
    "Inicialização (def init(self)): O construtor da classe inicializa os componentes necessários para as embeddings.\n",
    "\n",
    "self.tok_embed: Esta é a camada de embedding de token que mapeia cada token para um vetor de dimensão d_model.\n",
    "\n",
    "self.pos_embed: Esta é a camada de embedding de posição que mapeia a posição de um token dentro de uma sequência para um vetor de dimensão d_model.\n",
    "\n",
    "self.seg_embed: Esta é a camada de embedding de segmento que mapeia o tipo de token (0 para a primeira sentença e 1 para a segunda sentença) para um vetor de dimensão d_model.\n",
    "\n",
    "self.norm: Este é o componente de normalização da camada que é usado para normalizar os vetores de embedding.\n",
    "\n",
    "Método Forward (def forward(self, x, seg)): O método forward é onde a embedding real acontece.\n",
    "\n",
    "- Primeiro, ele calcula a posição de cada token na sequência.\n",
    "- Em seguida, ele cria uma matriz de posições da mesma forma que a entrada x usando pos.unsqueeze(0).expand_as(x).\n",
    "- Depois, ele calcula a embedding total como a soma das embeddings de token, posição e segmento.\n",
    "- Finalmente, ele normaliza a embedding usando a camada de normalização e retorna o resultado.\n",
    "\n",
    "A combinação dessas três embeddings permite ao BERT levar em consideração tanto o significado individual dos tokens quanto a ordem em que aparecem na sequência, bem como se o token pertence à primeira ou à segunda sentença. Isso torna a embedding do BERT muito poderosa e flexível."
   ]
  },
  {
   "cell_type": "code",
   "execution_count": 37,
   "metadata": {},
   "outputs": [],
   "source": [
    "# Classe Embedding\n",
    "class Embedding(nn.Module):\n",
    "    \n",
    "    # Método construtor\n",
    "    def __init__(self):\n",
    "        \n",
    "        super(Embedding, self).__init__()\n",
    "        \n",
    "        # Token embedding\n",
    "        self.tok_embed = nn.Embedding(vocab_size, d_model)  \n",
    "        \n",
    "        # Position embedding\n",
    "        self.pos_embed = nn.Embedding(maxlen, d_model)  \n",
    "        \n",
    "        # Segment (tipo de token) embedding\n",
    "        self.seg_embed = nn.Embedding(n_segments, d_model)  \n",
    "        \n",
    "        # Normalização de camada\n",
    "        self.norm = nn.LayerNorm(d_model)\n",
    "\n",
    "    # Método Forward\n",
    "    def forward(self, x, seg):\n",
    "        \n",
    "        seq_len = x.size(1)\n",
    "        \n",
    "        pos = torch.arange(seq_len, dtype = torch.long)\n",
    "        \n",
    "        # (seq_len,) -> (batch_size, seq_len)\n",
    "        pos = pos.unsqueeze(0).expand_as(x)  \n",
    "        \n",
    "        embedding = self.tok_embed(x) + self.pos_embed(pos) + self.seg_embed(seg)\n",
    "        \n",
    "        return self.norm(embedding)"
   ]
  },
  {
   "cell_type": "markdown",
   "metadata": {},
   "source": [
    "### 2- Módulo Scaled Dot Product Attention\n",
    "\n",
    "Abaixo está a implementação do mecanismo de Atenção por Produto Escalar Normalizado (Scaled Dot-Product Attention), que é uma parte chave do modelo Transformer, utilizado no BERT e em outros modelos de processamento de linguagem natural.\n",
    "\n",
    "Aqui está uma explicação linha a linha do método forward:\n",
    "\n",
    "**Pontuações (Scores)**: O produto escalar de Q (matriz de consulta) e K (matriz chave) é calculado para determinar a pontuação para cada par de chave-consulta. Essas pontuações determinam o quanto cada elemento da sequência de entrada deve ser atendido na produção da representação de saída para um determinado elemento. A pontuação é então escalada pela raiz quadrada da dimensão das chaves (d_k) para evitar que os valores de produto escalar se tornem muito grandes em ambientes de alta dimensão.\n",
    "\n",
    "**Máscara de Atenção**: A máscara de atenção é aplicada às pontuações ao preencher os locais onde a máscara tem valor 1 com um número muito grande negativo (-1e9). Isso garante que esses locais recebam um peso próximo de zero quando a softmax for aplicada.\n",
    "\n",
    "**Softmax**: A função softmax é aplicada ao último eixo das pontuações para obter os pesos de atenção. Isso garante que todos os pesos são positivos e somam 1, então eles podem ser interpretados como probabilidades.\n",
    "\n",
    "**Contexto**: Os pesos de atenção são então multiplicados pela matriz de valores V (value) para obter a saída do mecanismo de atenção. Cada valor é ponderado pela quantidade que deveríamos \"atender\" a esse valor, conforme determinado pelos pesos de atenção.\n",
    "\n",
    "O método retorna o contexto (a saída ponderada) e a matriz de atenção.\n",
    "\n",
    "No modelo Transformer, a Atenção por Produto Escalar Normalizado é usada várias vezes em cada camada, permitindo que o modelo dê atenção a diferentes partes da entrada ao produzir cada elemento da saída. Isso permite que o Transformer lide efetivamente com as dependências de longo alcance entre as palavras nas sequências de entrada."
   ]
  },
  {
   "cell_type": "code",
   "execution_count": 38,
   "metadata": {},
   "outputs": [],
   "source": [
    "# Define a classe para realizar a atenção por produto escalar normalizado\n",
    "class ScaledDotProductAttention(nn.Module):\n",
    "    \n",
    "    # Método de inicialização da classe\n",
    "    def __init__(self):\n",
    "        \n",
    "        # Inicializa a classe base\n",
    "        super(ScaledDotProductAttention, self).__init__()\n",
    "\n",
    "    # Método forward para definir a passagem para frente dos dados\n",
    "    def forward(self, Q, K, V, attn_mask):\n",
    "        \n",
    "        # Calcula os scores de atenção como o produto de Q e K, e normaliza pelo tamanho da chave\n",
    "        scores = torch.matmul(Q, K.transpose(-1, -2)) / np.sqrt(d_k)\n",
    "        \n",
    "        # Aplica a máscara de atenção para evitar atenção a certos tokens\n",
    "        scores.masked_fill_(attn_mask, -1e9)\n",
    "        \n",
    "        # Aplica a softmax para obter pesos de atenção normalizados\n",
    "        attn = nn.Softmax(dim = -1)(scores)\n",
    "        \n",
    "        # Multiplica os pesos de atenção por V para obter o contexto\n",
    "        context = torch.matmul(attn, V)\n",
    "        \n",
    "        # Retorna o contexto e os pesos de atenção\n",
    "        return context, attn"
   ]
  },
  {
   "cell_type": "markdown",
   "metadata": {},
   "source": [
    "### 3- Módulo Multi-Head Attention\n",
    "\n",
    "Abaixo está a implementação de Atenção Multi-Cabeças (Multi-Head Attention), que é um componente chave da arquitetura Transformer, usada em modelos como BERT. A ideia da atenção multi-cabeças é aplicar a atenção do produto escalar normalizado várias vezes em paralelo, cada uma com diferentes pesos aprendidos. Isso permite ao modelo focar em diferentes posições e capturar vários tipos de informação.\n",
    "\n",
    "Vamos analisar linha a linha o método forward:\n",
    "\n",
    "**Inicialização**: residual e batch_size são inicializados com Q e o tamanho do primeiro eixo de Q, respectivamente. O residual será utilizado mais tarde para o caminho de conexão residual.\n",
    "\n",
    "**Transformações Lineares**: Aplicamos transformações lineares aos dados de entrada (Q, K e V) usando pesos diferentes. Essas transformações geram múltiplas \"cabeças\" de atenção.\n",
    "\n",
    "**Remodelagem**: As saídas dessas transformações lineares são então reformuladas e transpostas para terem a forma apropriada para a atenção de produto escalar normalizado.\n",
    "\n",
    "**Máscara de Atenção**: A máscara de atenção é ajustada para corresponder ao formato das cabeças de atenção.\n",
    "\n",
    "**Atenção de Produto Escalar Normalizado**: A atenção de produto escalar normalizado é então aplicada a cada uma das cabeças de atenção.\n",
    "\n",
    "**Remodelagem do Contexto**: A saída (contexto) de cada cabeça de atenção é então reformulada e concatenada.\n",
    "\n",
    "**Transformação Linear e Normalização**: Uma transformação linear é aplicada ao contexto concatenado, seguida de uma normalização de camada.\n",
    "\n",
    "**Conexão Residual**: O resultado final é obtido somando a saída da normalização de camada ao caminho de conexão residual (entrada original Q).\n",
    "\n",
    "Finalmente, a função retorna a saída normalizada e a matriz de atenção. A atenção multi-cabeças permite que o modelo considere informações de diferentes partes da sequência de entrada, em diferentes subespaços de representação, ao mesmo tempo, o que melhora a capacidade do modelo de capturar várias características do texto."
   ]
  },
  {
   "cell_type": "code",
   "execution_count": 39,
   "metadata": {
    "id": "FEMcW2aEpydy"
   },
   "outputs": [],
   "source": [
    "# Define a classe para realizar atenção multi-cabeça\n",
    "class MultiHeadAttention(nn.Module):\n",
    "    \n",
    "    def __init__(self) -> None:\n",
    "        \n",
    "        # Inicializa a classe base\n",
    "        super(MultiHeadAttention, self).__init__()\n",
    "        \n",
    "        # Define a matriz de pesos para as consultas Q\n",
    "        self.W_Q = nn.Linear(d_model, d_k * n_heads)\n",
    "        \n",
    "        # Define a matriz de pesos para as chaves K\n",
    "        self.W_K = nn.Linear(d_model, d_k * n_heads)\n",
    "        \n",
    "        # Define a matriz de pesos para os valores V\n",
    "        self.W_V = nn.Linear(d_model, d_v * n_heads)\n",
    "\n",
    "    # Método forward para definir a passagem para frente dos dados\n",
    "    def forward(self, Q, K, V, attn_mask):\n",
    "        \n",
    "        # Salva a entrada Q para usar no residual e obtém o tamanho do batch\n",
    "        residual, batch_size = Q, Q.size(0)\n",
    "        \n",
    "        # Processa Q através de W_Q e organiza o resultado para ter [n_heads] na segunda dimensão\n",
    "        q_s = self.W_Q(Q).view(batch_size, -1, n_heads, d_k).transpose(1,2)\n",
    "        \n",
    "        # Processa K através de W_K e organiza o resultado para ter [n_heads] na segunda dimensão\n",
    "        k_s = self.W_K(K).view(batch_size, -1, n_heads, d_k).transpose(1,2)\n",
    "        \n",
    "        # Processa V através de W_V e organiza o resultado para ter [n_heads] na segunda dimensão\n",
    "        v_s = self.W_V(V).view(batch_size, -1, n_heads, d_v).transpose(1,2)\n",
    "        \n",
    "        # Adapta attn_mask para ser compatível com as dimensões de q_s, k_s, v_s\n",
    "        attn_mask = attn_mask.unsqueeze(1).repeat(1, n_heads, 1, 1)\n",
    "        \n",
    "        # Calcula a atenção escalonada do produto ponto e o contexto para cada cabeça de atenção\n",
    "        context, attn = ScaledDotProductAttention()(q_s, k_s, v_s, attn_mask)\n",
    "        \n",
    "        # Reorganiza o contexto para combinar as cabeças de atenção e volta para o formato original\n",
    "        context = context.transpose(1,2).contiguous().view(batch_size, -1, n_heads * d_v)\n",
    "        \n",
    "        # Aplica uma transformação linear ao contexto combinado\n",
    "        output = nn.Linear(n_heads * d_v, d_model)(context)\n",
    "        \n",
    "        # Normaliza a camada de saída e adiciona o residual\n",
    "        return nn.LayerNorm(d_model)(output + residual), attn"
   ]
  },
  {
   "cell_type": "code",
   "execution_count": 40,
   "metadata": {},
   "outputs": [],
   "source": [
    "# Cria o objeto Embedding\n",
    "emb = Embedding()"
   ]
  },
  {
   "cell_type": "code",
   "execution_count": 41,
   "metadata": {},
   "outputs": [],
   "source": [
    "# Gera as Embeddings\n",
    "embeds = emb(input_ids, segment_ids)"
   ]
  },
  {
   "cell_type": "code",
   "execution_count": 42,
   "metadata": {},
   "outputs": [],
   "source": [
    "# Gera a máscara de atenção\n",
    "attenM = dsa_get_attn_pad_masked(input_ids, input_ids)"
   ]
  },
  {
   "cell_type": "code",
   "execution_count": 43,
   "metadata": {},
   "outputs": [],
   "source": [
    "# Gera o MultiHeadAttention\n",
    "MHA = MultiHeadAttention()(embeds, embeds, embeds, attenM)"
   ]
  },
  {
   "cell_type": "code",
   "execution_count": 44,
   "metadata": {
    "colab": {
     "base_uri": "https://localhost:8080/"
    },
    "id": "AYpEq8Kgpydy",
    "outputId": "fc0b2840-f834-4c29-dbcf-0a9b1d017438"
   },
   "outputs": [],
   "source": [
    "# Saída\n",
    "output, A = MHA"
   ]
  },
  {
   "cell_type": "code",
   "execution_count": 45,
   "metadata": {},
   "outputs": [
    {
     "data": {
      "text/plain": [
       "tensor([[0.0404, 0.0240, 0.0439,  ..., 0.0000, 0.0000, 0.0000],\n",
       "        [0.0359, 0.0259, 0.0623,  ..., 0.0000, 0.0000, 0.0000],\n",
       "        [0.0419, 0.0280, 0.0538,  ..., 0.0000, 0.0000, 0.0000],\n",
       "        ...,\n",
       "        [0.0354, 0.0390, 0.0521,  ..., 0.0000, 0.0000, 0.0000],\n",
       "        [0.0481, 0.0355, 0.0540,  ..., 0.0000, 0.0000, 0.0000],\n",
       "        [0.0324, 0.0418, 0.0460,  ..., 0.0000, 0.0000, 0.0000]],\n",
       "       grad_fn=<SelectBackward0>)"
      ]
     },
     "execution_count": 45,
     "metadata": {},
     "output_type": "execute_result"
    }
   ],
   "source": [
    "A[0][0]"
   ]
  },
  {
   "cell_type": "markdown",
   "metadata": {},
   "source": [
    "### 4- Módulo Feedforward Posicional\n",
    "\n",
    "Esta é a implementação da Rede Feedforward Posicional (PoswiseFeedForward), que é um componente da arquitetura Transformer, utilizada em modelos como o BERT.\n",
    "\n",
    "A Rede Feedforward Posicional é composta por duas camadas lineares com uma ativação GELU (Gaussian Error Linear Unit) entre elas.\n",
    "\n",
    "Aqui está a explicação detalhada do método forward:\n",
    "\n",
    "**Primeira Camada Linear (self.fc1)**: A entrada x é passada por uma camada linear (também chamada de camada totalmente conectada). Essa camada tem uma transformação linear com d_model entradas e d_ff saídas, onde d_model é a dimensão do espaço de incorporação e d_ff é a dimensão da camada oculta da rede feed-forward. Isso permite ao modelo aprender representações não-lineares.\n",
    "\n",
    "**Ativação GELU**: Em seguida, a ativação GELU é aplicada. A função GELU permite ao modelo aprender transformações mais complexas e não lineares. Ela ajuda a lidar com o problema do desaparecimento do gradiente, permitindo que mais informações passem através da rede.\n",
    "\n",
    "**Segunda Camada Linear (self.fc2)**: Por fim, a saída da ativação GELU é passada por uma segunda camada linear, que transforma a saída de volta para a dimensão original d_model. Isso é feito para que a saída desta rede feedforward possa ser somada à entrada original (conexão residual) no Transformer.\n",
    "\n",
    "O retorno da função é, portanto, a saída dessa segunda camada linear, que passou pela transformação da primeira camada linear, ativação GELU, e segunda camada linear.\n",
    "\n",
    "As redes feed-forward posicionais são uma parte importante dos modelos Transformer, permitindo-lhes aprender representações mais complexas e fazer transformações não-lineares dos dados de entrada."
   ]
  },
  {
   "cell_type": "code",
   "execution_count": 46,
   "metadata": {},
   "outputs": [],
   "source": [
    "# Define a classe para a rede Feed Forward Posicional\n",
    "class PoswiseFeedForward(nn.Module):\n",
    "    \n",
    "    def __init__(self) -> None:\n",
    "        \n",
    "        # Inicializa a classe base\n",
    "        super(PoswiseFeedForward, self).__init__()\n",
    "        \n",
    "        # Primeira camada linear que aumenta a dimensão dos dados de d_model para d_ff\n",
    "        self.fc1 = nn.Linear(d_model, d_ff)\n",
    "        \n",
    "        # Segunda camada linear que reduz a dimensão de volta de d_ff para d_model\n",
    "        self.fc2 = nn.Linear(d_ff, d_model)\n",
    "\n",
    "    # Método forward para definir a passagem para frente dos dados\n",
    "    def forward(self, x):\n",
    "        \n",
    "        # Aplica a primeira transformação linear, seguida pela função de ativação GELU \n",
    "        # e então a segunda transformação linear\n",
    "        return self.fc2(gelu(self.fc1(x)))"
   ]
  },
  {
   "cell_type": "markdown",
   "metadata": {},
   "source": [
    "### 5- Módulo Encoder Layer\n",
    "\n",
    "Esta classe define uma Camada de Codificador (EncoderLayer), que é um componente da arquitetura Transformer e também é usado em modelos como BERT. Cada camada de codificador no Transformer contém duas subcamadas: uma camada de Atenção Multi-Cabeças e uma Rede Feed-Forward Posicional.\n",
    "\n",
    "Aqui está a explicação detalhada do método forward:\n",
    "\n",
    "**Atenção Multi-Cabeças (self.enc_self_attn)**: A entrada enc_inputs passa por uma camada de Atenção Multi-Cabeças, que é usada para que cada palavra na entrada tenha atenção direcionada a todas as outras palavras. Essa camada também recebe uma máscara (enc_self_attn_mask), que é usada para evitar que o modelo preste atenção a certas palavras (como as de preenchimento). A saída da Atenção Multi-Cabeças é outra sequência de representações vetoriais, com a mesma dimensão da entrada. A matriz de atenção que mostra como cada palavra se atentou a todas as outras também é retornada.\n",
    "\n",
    "**Rede Feed-Forward Posicional (self.pos_ffn)**: A saída da camada de Atenção Multi-Cabeças passa então por uma Rede Feed-Forward Posicional. Esta é uma rede neural simples que opera independentemente em cada posição da sequência (ou seja, a mesma rede é aplicada a cada posição). Isso permite ao modelo aprender representações mais complexas e realizar transformações não-lineares dos dados.\n",
    "\n",
    "A função retorna a saída desta camada de codificador, que é a saída da Rede Feed-Forward Posicional, junto com a matriz de atenção. Portanto, a entrada e a saída desta camada do codificador têm a mesma dimensão, o que permite que várias dessas camadas de codificador sejam empilhadas para formar o codificador completo do Transformer."
   ]
  },
  {
   "cell_type": "code",
   "execution_count": 47,
   "metadata": {
    "id": "f6Eij7fGpydz"
   },
   "outputs": [],
   "source": [
    "# Define a classe para a camada do codificador\n",
    "class EncoderLayer(nn.Module):\n",
    "    \n",
    "    def __init__(self) -> None:\n",
    "        \n",
    "        # Inicializa a classe base\n",
    "        super(EncoderLayer, self).__init__()\n",
    "        \n",
    "        # Instancia a atenção multi-cabeças para a auto-atenção do codificador\n",
    "        self.enc_self_attn = MultiHeadAttention()\n",
    "        \n",
    "        # Instancia a rede Feed Forward Posicional para usar após a auto-atenção\n",
    "        self.pos_ffn = PoswiseFeedForward()\n",
    "\n",
    "    # Método forward para definir a passagem para frente dos dados\n",
    "    def forward(self, enc_inputs, enc_self_attn_mask):\n",
    "        \n",
    "        # Aplica auto-atenção aos dados de entrada\n",
    "        enc_inputs, atnn = self.enc_self_attn(enc_inputs, enc_inputs, enc_inputs, enc_self_attn_mask)\n",
    "        \n",
    "        # Após a auto-atenção, passa o resultado pela rede Feed Forward Posicional\n",
    "        enc_inputs = self.pos_ffn(enc_inputs)\n",
    "        \n",
    "        # Retorna a saída do codificador e os pesos de atenção\n",
    "        return enc_inputs, atnn"
   ]
  },
  {
   "cell_type": "markdown",
   "metadata": {},
   "source": [
    "### 6- Arquitetura Final do LLM (Modelo BERT)\n",
    "\n",
    "Esta classe define o modelo BERT (Bidirectional Encoder Representations from Transformers), um modelo de linguagem de última geração que usa transformers e atenção bidirecional para entender a semântica das palavras dentro de um contexto.\n",
    "\n",
    "Vamos analisar em detalhes o método forward:\n",
    "\n",
    "Embedding (self.embedding): Transforma as entradas (input_ids e segment_ids) em vetores densos (embeddings).\n",
    "\n",
    "Máscara de Atenção (get_attn_pad_masked): Gera uma máscara de atenção para ignorar os tokens de preenchimento (pad) nas entradas.\n",
    "\n",
    "Camadas de Codificação (self.layers): Passa a saída do embedding e a máscara de atenção através de várias camadas do codificador. Cada camada de codificador é composta por uma camada de atenção multi-cabeças e uma rede feed-forward posicional.\n",
    "\n",
    "Pooling (self.activ1(self.fc(output[:, 0]))): Aplica uma camada totalmente conectada e uma ativação tangente hiperbólica à primeira posição (o token de classificação) de cada sequência na saída do codificador. Isso resulta em um vetor de representação de sequência.\n",
    "\n",
    "Classificador (self.classifier): Uma camada totalmente conectada que gera os logits para a tarefa de classificação de próxima sentença.\n",
    "\n",
    "Extração de Tokens Mascarados (torch.gather(output, 1, masked_pos)): Selecione os vetores de saída correspondentes aos tokens mascarados.\n",
    "\n",
    "Transformação dos Tokens Mascarados (self.norm(self.activ2(self.linear(h_masked)))): Aplica uma transformação linear, uma ativação GELU e normalização à saída dos tokens mascarados.\n",
    "\n",
    "Decoder (self.decoder): Uma camada linear que gera os logits para a tarefa de modelagem de linguagem mascarada. Usa os mesmos pesos que a camada de embedding de tokens para a consistência no espaço de representação. Esta função decoder é usada somente para gerar os logits finais e não é usada no processo de aprendizado do modelo.\n",
    "\n",
    "O método retorna os logits para a tarefa de modelagem de linguagem mascarada e a tarefa de classificação de próxima sentença. Esses logits podem então ser usados para calcular as perdas para ambas as tarefas durante o treinamento."
   ]
  },
  {
   "cell_type": "code",
   "execution_count": 48,
   "metadata": {
    "id": "-hstWm_rpydz"
   },
   "outputs": [],
   "source": [
    "# Modelo BERT\n",
    "class BERT(nn.Module):\n",
    "    \n",
    "    def __init__(self) -> None:\n",
    "        \n",
    "        super(BERT, self).__init__()\n",
    "        \n",
    "        self.embedding = Embedding()\n",
    "        \n",
    "        self.layers = nn.ModuleList([EncoderLayer() for _ in range(n_layers)])\n",
    "        \n",
    "        self.fc = nn.Linear(d_model, d_model)\n",
    "        \n",
    "        self.activ1 = nn.Tanh()\n",
    "        \n",
    "        self.linear = nn.Linear(d_model, d_model)\n",
    "        \n",
    "        self.activ2 = gelu\n",
    "        \n",
    "        self.norm = nn.LayerNorm(d_model)\n",
    "        \n",
    "        self.classifier = nn.Linear(d_model, 2)\n",
    "        \n",
    "        embed_weight = self.embedding.tok_embed.weight\n",
    "        \n",
    "        n_vocab, n_dim = embed_weight.size()\n",
    "        \n",
    "        self.decoder = nn.Linear(n_dim, n_vocab, bias=False)\n",
    "        \n",
    "        self.decoder.weight = embed_weight\n",
    "        \n",
    "        self.decoder_bias = nn.Parameter(torch.zeros(n_vocab))\n",
    "\n",
    "    def forward(self, input_ids, segment_ids, masked_pos):\n",
    "        \n",
    "        output = self.embedding(input_ids, segment_ids)\n",
    "        \n",
    "        enc_self_attn_mask = dsa_get_attn_pad_masked(input_ids, input_ids)\n",
    "        \n",
    "        for layer in self.layers:\n",
    "            output, enc_self_attn = layer(output, enc_self_attn_mask)\n",
    "        \n",
    "        h_pooled = self.activ1(self.fc(output[:, 0]))\n",
    "        \n",
    "        logits_clsf = self.classifier(h_pooled)\n",
    "        \n",
    "        masked_pos = masked_pos[:, :, None].expand(-1, -1, output.size(-1))\n",
    "        \n",
    "        h_masked = torch.gather(output, 1, masked_pos)\n",
    "        \n",
    "        h_masked = self.norm(self.activ2(self.linear(h_masked)))\n",
    "        \n",
    "        logits_lm = self.decoder(h_masked) + self.decoder_bias\n",
    "        \n",
    "        return logits_lm, logits_clsf"
   ]
  },
  {
   "cell_type": "markdown",
   "metadata": {},
   "source": [
    "## Treinamento e Avaliação do LLM"
   ]
  },
  {
   "cell_type": "code",
   "execution_count": 49,
   "metadata": {},
   "outputs": [],
   "source": [
    "# Cria o modelo\n",
    "modelo_dsa = BERT()"
   ]
  },
  {
   "cell_type": "code",
   "execution_count": 50,
   "metadata": {},
   "outputs": [],
   "source": [
    "# Função de erro\n",
    "criterion = nn.CrossEntropyLoss()"
   ]
  },
  {
   "cell_type": "code",
   "execution_count": 51,
   "metadata": {},
   "outputs": [],
   "source": [
    "# Otimizador\n",
    "optimizer = optim.Adam(modelo_dsa.parameters(), lr = 0.001)"
   ]
  },
  {
   "cell_type": "code",
   "execution_count": 52,
   "metadata": {},
   "outputs": [],
   "source": [
    "batch = dsa_make_batch()"
   ]
  },
  {
   "cell_type": "code",
   "execution_count": 53,
   "metadata": {},
   "outputs": [],
   "source": [
    "input_ids, segment_ids, masked_tokens, masked_pos, isNext = map(torch.LongTensor, zip(*batch))"
   ]
  },
  {
   "cell_type": "markdown",
   "metadata": {},
   "source": [
    "Abaixo está o ciclo típico de treinamento de uma época em um modelo de aprendizado de máquina. Vamos quebrá-lo em etapas:\n",
    "\n",
    "**optimizer.zero_grad()**: Zera os gradientes de todas as variáveis otimizadas. Isso é feito porque os gradientes no PyTorch são acumulados, ou seja, cada vez que chamamos .backward(), os gradientes são somados em vez de substituídos. Então, precisamos limpar esses gradientes acumulados antes de cada passo de otimização.\n",
    "\n",
    "**logits_lm, logits_clsf = model(input_ids, segment_ids, masked_pos)**: Alimenta os dados de entrada no modelo e obtém a saída do modelo. A saída é composta de logits_lm e logits_clsf, que são os resultados brutos não normalizados para a tarefa de modelagem de linguagem e a tarefa de classificação, respectivamente.\n",
    "\n",
    "**loss_lm = criterion(logits_lm.transpose(1,2), masked_tokens)**: Calcula a perda da tarefa de modelagem de linguagem mascarada. criterion é a função de perda, logits_lm.transpose(1,2) são as previsões do modelo e masked_tokens são os alvos verdadeiros.\n",
    "\n",
    "**loss_lm = (loss_lm.float()).mean()**: Converte a perda em um tipo de dados de ponto flutuante (se ainda não for) e, em seguida, calcula a média da perda.\n",
    "\n",
    "**loss_clsf = criterion(logits_clsf, isNext)**: Calcula a perda da tarefa de classificação da próxima frase.\n",
    "\n",
    "**loss = loss_lm + loss_clsf**: Combina as duas perdas em uma única perda escalar.\n",
    "\n",
    "**loss.backward()**: Calcula os gradientes de todas as variáveis otimizadas. Os gradientes são computados com respeito à perda.\n",
    "\n",
    "**optimizer.step()**: Atualiza os parâmetros do modelo usando os gradientes calculados.\n",
    "\n",
    "Essas etapas são repetidas para cada época de treinamento. Cada época é um ciclo completo através do conjunto de treinamento. Portanto, se NUM_EPOCHS é 10, então o processo de treinamento completo é executado 10 vezes."
   ]
  },
  {
   "cell_type": "code",
   "execution_count": 54,
   "metadata": {
    "id": "OtgfwJ17pyd0"
   },
   "outputs": [
    {
     "name": "stdout",
     "output_type": "stream",
     "text": [
      "Epoch: 1 | Loss 81.6977\n",
      "Epoch: 2 | Loss 89.3353\n",
      "Epoch: 3 | Loss 379.5759\n",
      "Epoch: 4 | Loss 46.9996\n",
      "Epoch: 5 | Loss 49.3941\n",
      "Epoch: 6 | Loss 19.2554\n",
      "Epoch: 7 | Loss 44.1877\n",
      "Epoch: 8 | Loss 51.8902\n",
      "Epoch: 9 | Loss 30.9011\n",
      "Epoch: 10 | Loss 13.8272\n",
      "Epoch: 11 | Loss 21.3458\n",
      "Epoch: 12 | Loss 22.2943\n",
      "Epoch: 13 | Loss 22.1509\n",
      "Epoch: 14 | Loss 23.7744\n",
      "Epoch: 15 | Loss 19.7176\n",
      "Epoch: 16 | Loss 19.2777\n",
      "Epoch: 17 | Loss 16.9918\n",
      "Epoch: 18 | Loss 19.4686\n",
      "Epoch: 19 | Loss 16.4230\n",
      "Epoch: 20 | Loss 15.8092\n",
      "Epoch: 21 | Loss 15.7265\n",
      "Epoch: 22 | Loss 15.8017\n",
      "Epoch: 23 | Loss 15.2301\n",
      "Epoch: 24 | Loss 16.1666\n",
      "Epoch: 25 | Loss 15.7213\n",
      "Epoch: 26 | Loss 16.3425\n",
      "Epoch: 27 | Loss 16.2232\n",
      "Epoch: 28 | Loss 15.5268\n",
      "Epoch: 29 | Loss 15.1480\n",
      "Epoch: 30 | Loss 14.3166\n",
      "Epoch: 31 | Loss 13.4411\n",
      "Epoch: 32 | Loss 14.5302\n",
      "Epoch: 33 | Loss 12.7148\n",
      "Epoch: 34 | Loss 12.4154\n",
      "Epoch: 35 | Loss 12.2172\n",
      "Epoch: 36 | Loss 12.8381\n",
      "Epoch: 37 | Loss 11.8375\n",
      "Epoch: 38 | Loss 12.0554\n",
      "Epoch: 39 | Loss 11.1153\n",
      "Epoch: 40 | Loss 10.6074\n",
      "Epoch: 41 | Loss 11.2692\n",
      "Epoch: 42 | Loss 10.0111\n",
      "Epoch: 43 | Loss 9.1884\n",
      "Epoch: 44 | Loss 9.2488\n",
      "Epoch: 45 | Loss 9.2759\n",
      "Epoch: 46 | Loss 8.7372\n",
      "Epoch: 47 | Loss 9.2856\n",
      "Epoch: 48 | Loss 8.1113\n",
      "Epoch: 49 | Loss 8.1633\n",
      "Epoch: 50 | Loss 7.6905\n",
      "CPU times: user 15.3 s, sys: 13.1 s, total: 28.3 s\n",
      "Wall time: 9.64 s\n"
     ]
    }
   ],
   "source": [
    "%%time\n",
    "\n",
    "# Inicia o loop de treino para um número definido de épocas\n",
    "for epoch in range(NUM_EPOCHS):\n",
    "    \n",
    "    # Zera os gradientes do otimizador para evitar acumulação de gradientes de épocas anteriores\n",
    "    optimizer.zero_grad()\n",
    "    \n",
    "    # Passa os dados de entrada pelo modelo e obtém os logits para mascaramento de linguagem \n",
    "    # e classificação de próxima sentença\n",
    "    logits_lm, logits_clsf = modelo_dsa(input_ids, segment_ids, masked_pos)\n",
    "    \n",
    "    # Calcula a perda para a tarefa de mascaramento de linguagem comparando os logits previstos \n",
    "    # com os tokens reais\n",
    "    loss_lm = criterion(logits_lm.transpose(1,2), masked_tokens)\n",
    "    \n",
    "    # Calcula a média da perda para normalizar\n",
    "    loss_lm = (loss_lm.float()).mean()\n",
    "    \n",
    "    # Calcula a perda para a tarefa de classificação de próxima sentença\n",
    "    loss_clsf = criterion(logits_clsf, isNext)\n",
    "    \n",
    "    # Soma as perdas das duas tarefas para obter a perda total\n",
    "    loss = loss_lm + loss_clsf\n",
    "    \n",
    "    # Exibe a época atual e a perda total\n",
    "    print(f'Epoch: {epoch + 1} | Loss {loss:.4f}')\n",
    "    \n",
    "    # Realiza o backpropagation para calcular os gradientes\n",
    "    loss.backward()\n",
    "    \n",
    "    # Atualiza os parâmetros do modelo com base nos gradientes calculados\n",
    "    optimizer.step()"
   ]
  },
  {
   "cell_type": "markdown",
   "metadata": {},
   "source": [
    "## Extraindo as Previsões do LLM Treinado"
   ]
  },
  {
   "cell_type": "code",
   "execution_count": 55,
   "metadata": {},
   "outputs": [
    {
     "name": "stdout",
     "output_type": "stream",
     "text": [
      "'Olá, como vai? Eu sou a Camila.\\n'\n",
      "'Olá, Camila, meu nome é Fernando. Muito prazer.\\n'\n",
      "'Prazer em conhecer você também. Como você está hoje?\\n'\n",
      "'Ótimo. Meu time de futebol venceu a competição.\\n'\n",
      "'Uau, Parabéns Fernando!\\n'\n",
      "'Obrigado Camila.\\n'\n",
      "'Vamos comer uma pizza mais tarde para celebrar?\\n'\n",
      "'Claro. Você recomenda algum restaurante Camila?\\n'\n",
      "'Sim, abriu um restaurante novo e dizem que a pizza de banana é fenomenal.\\n'\n",
      "'Ok. Nos encontramos no restaurante às sete da noite, pode ser?\\n'\n",
      "'Pode sim. Nos vemos mais tarde então.'\n",
      "['[CLS]', \"'olá\", '[MASK]', 'vai', 'eu', 'sou', 'a', \"camila\\\\n'\", '[SEP]', \"'ok\", 'nos', 'encontramos', 'no', 'restaurante', 'às', 'sete', '[MASK]', 'noite', 'pode', \"'vamos\", '[SEP]']\n"
     ]
    }
   ],
   "source": [
    "# Extrai o batch\n",
    "input_ids, segment_ids, masked_tokens, masked_pos, isNext = map(torch.LongTensor, zip(batch[0]))\n",
    "print(dsa_texto)\n",
    "print([number_dict[w.item()] for w in input_ids[0] if number_dict[w.item()] != '[PAD]'])"
   ]
  },
  {
   "cell_type": "code",
   "execution_count": 56,
   "metadata": {},
   "outputs": [
    {
     "name": "stdout",
     "output_type": "stream",
     "text": [
      "Lista de Masked Tokens Reais:  [35, 54, 23]\n",
      "Lista de Masked Tokens Previstos:  []\n"
     ]
    }
   ],
   "source": [
    "# Extrai as previsões dos tokens\n",
    "logits_lm, logits_clsf = modelo_dsa(input_ids, segment_ids, masked_pos)\n",
    "logits_lm = logits_lm.data.max(2)[1][0].data.numpy()\n",
    "print('Lista de Masked Tokens Reais: ', [pos.item() for pos in masked_tokens[0] if pos.item() != 0])\n",
    "print('Lista de Masked Tokens Previstos: ', [pos for pos in logits_lm if pos != 0])"
   ]
  },
  {
   "cell_type": "code",
   "execution_count": 57,
   "metadata": {
    "colab": {
     "base_uri": "https://localhost:8080/"
    },
    "id": "jsAhgTZCpyd0",
    "outputId": "ccd4cae3-835d-4678-da37-41018d77354f"
   },
   "outputs": [
    {
     "name": "stdout",
     "output_type": "stream",
     "text": [
      "isNext (Valor Real):  False\n",
      "isNext (Valor Previsto):  False\n"
     ]
    }
   ],
   "source": [
    "# Extrai as previsões do próximo token\n",
    "logits_clsf = logits_clsf.data.max(1)[1].data.numpy()[0]\n",
    "print('isNext (Valor Real): ', True if isNext else False)\n",
    "print('isNext (Valor Previsto): ', True if logits_clsf else False)"
   ]
  },
  {
   "cell_type": "code",
   "execution_count": 58,
   "metadata": {},
   "outputs": [
    {
     "name": "stdout",
     "output_type": "stream",
     "text": [
      "Author: Data Science Academy\n",
      "\n"
     ]
    }
   ],
   "source": [
    "%watermark -a \"Data Science Academy\""
   ]
  },
  {
   "cell_type": "code",
   "execution_count": 59,
   "metadata": {},
   "outputs": [],
   "source": [
    "#%watermark -v -m"
   ]
  },
  {
   "cell_type": "code",
   "execution_count": 60,
   "metadata": {},
   "outputs": [],
   "source": [
    "#%watermark --iversions"
   ]
  },
  {
   "cell_type": "markdown",
   "metadata": {},
   "source": [
    "# Fim"
   ]
  }
 ],
 "metadata": {
  "accelerator": "GPU",
  "colab": {
   "gpuType": "T4",
   "provenance": []
  },
  "gpuClass": "standard",
  "kernelspec": {
   "display_name": "Python 3 (ipykernel)",
   "language": "python",
   "name": "python3"
  },
  "language_info": {
   "codemirror_mode": {
    "name": "ipython",
    "version": 3
   },
   "file_extension": ".py",
   "mimetype": "text/x-python",
   "name": "python",
   "nbconvert_exporter": "python",
   "pygments_lexer": "ipython3",
   "version": "3.12.11"
  }
 },
 "nbformat": 4,
 "nbformat_minor": 4
}
