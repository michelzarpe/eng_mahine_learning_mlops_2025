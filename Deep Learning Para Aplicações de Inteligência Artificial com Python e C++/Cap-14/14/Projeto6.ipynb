{
 "cells": [
  {
   "cell_type": "markdown",
   "metadata": {},
   "source": [
    "<!-- Projeto Desenvolvido na Data Science Academy - www.datascienceacademy.com.br -->\n",
    "# <font color='blue'>Data Science Academy</font>\n",
    "## <font color='blue'>Deep Learning Para Aplicações de Inteligência Artificial com Python e C++</font>\n",
    "## <font color='blue'>Projeto 6</font>\n",
    "### <font color='blue'>Temporal Fusion Transformers Para Prever o Retorno de Investimentos</font>"
   ]
  },
  {
   "cell_type": "markdown",
   "metadata": {},
   "source": [
    "## Instalando e Carregando os Pacotes"
   ]
  },
  {
   "cell_type": "code",
   "execution_count": 1,
   "metadata": {},
   "outputs": [],
   "source": [
    "# Para atualizar um pacote, execute o comando abaixo no terminal ou prompt de comando:\n",
    "# pip install -U nome_pacote\n",
    "\n",
    "# Para instalar a versão exata de um pacote, execute o comando abaixo no terminal ou prompt de comando:\n",
    "# !pip install nome_pacote==versão_desejada\n",
    "\n",
    "# Depois de instalar ou atualizar o pacote, reinicie o jupyter notebook.\n",
    "\n",
    "# Instala o pacote watermark. \n",
    "# Esse pacote é usado para gravar as versões de outros pacotes usados neste jupyter notebook.\n",
    "!pip install -q -U watermark"
   ]
  },
  {
   "cell_type": "code",
   "execution_count": 2,
   "metadata": {},
   "outputs": [
    {
     "name": "stdout",
     "output_type": "stream",
     "text": [
      "env: TF_CPP_MIN_LOG_LEVEL=3\n"
     ]
    }
   ],
   "source": [
    "%env TF_CPP_MIN_LOG_LEVEL=3"
   ]
  },
  {
   "cell_type": "markdown",
   "metadata": {},
   "source": [
    "Obs: Os pacotes abaixo estão aqui apenas para referência. Todas as versões e dependências estão no arquivo requirements.txt e o procedimento de instalação no arquivo LEIAME.txt."
   ]
  },
  {
   "cell_type": "code",
   "execution_count": 3,
   "metadata": {},
   "outputs": [],
   "source": [
    "# https://www.tensorflow.org/\n",
    "#!pip install -q tensorflow"
   ]
  },
  {
   "cell_type": "code",
   "execution_count": 4,
   "metadata": {
    "colab": {
     "base_uri": "https://localhost:8080/"
    },
    "id": "4XrkYw2uQfGg",
    "outputId": "9b8366f5-dc32-4246-b4aa-1d74f46f94a4"
   },
   "outputs": [],
   "source": [
    "# https://pypi.org/project/yfinance/\n",
    "#!pip install -q yfinance"
   ]
  },
  {
   "cell_type": "code",
   "execution_count": 5,
   "metadata": {},
   "outputs": [],
   "source": [
    "# https://pypi.org/project/ta/\n",
    "#!pip install -q ta"
   ]
  },
  {
   "cell_type": "code",
   "execution_count": 6,
   "metadata": {
    "id": "IhTKSGJXQvSo"
   },
   "outputs": [],
   "source": [
    "# Imports\n",
    "import ta\n",
    "import sklearn\n",
    "import pandas as pd\n",
    "import numpy as np\n",
    "import tensorflow\n",
    "import yfinance as yf\n",
    "import matplotlib.pyplot as plt\n",
    "from tensorflow import keras\n",
    "from keras import layers\n",
    "from sklearn.preprocessing import StandardScaler\n",
    "from sklearn import metrics\n",
    "import warnings\n",
    "warnings.filterwarnings(\"ignore\")"
   ]
  },
  {
   "cell_type": "code",
   "execution_count": 7,
   "metadata": {},
   "outputs": [
    {
     "name": "stdout",
     "output_type": "stream",
     "text": [
      "Author: Data Science Academy\n",
      "\n"
     ]
    }
   ],
   "source": [
    "%reload_ext watermark\n",
    "%watermark -a \"Data Science Academy\""
   ]
  },
  {
   "cell_type": "markdown",
   "metadata": {
    "id": "Qn_NRjZL7n5f"
   },
   "source": [
    "## Extração dos Dados Direto da Fonte\n",
    "\n",
    "https://finance.yahoo.com/"
   ]
  },
  {
   "cell_type": "markdown",
   "metadata": {},
   "source": [
    "### Função usada para a versão anterior do yfinance\n",
    "def dsa_extrai_dados(ticker):\n",
    "    \n",
    "    # Busca todos os dados a partir de 01/01/2000 até 31/12/2023\n",
    "    dados = yf.download(ticker, start = \"2000-01-01\", end = \"2023-12-31\")\n",
    "    \n",
    "    # Colunas do dataframe\n",
    "    dados.columns = [\"open\", \"high\", \"low\", \"close\", \"adj close\", \"volume\"]\n",
    "    \n",
    "    # Data como índice\n",
    "    dados.index.name = \"date\"\n",
    "    \n",
    "    return dados"
   ]
  },
  {
   "cell_type": "markdown",
   "metadata": {},
   "source": [
    "Obs: Versões de pacotes mudam o tempo todo. SEMPRE visite a documentação dos pacotes para verificar as mudanças e ajustar o código conforme necessário!!!"
   ]
  },
  {
   "cell_type": "code",
   "execution_count": 8,
   "metadata": {},
   "outputs": [],
   "source": [
    "# Função usada para a versão mais recente do yfinance\n",
    "def dsa_extrai_dados(ticker):\n",
    "    \n",
    "    # Força que venha 'Adj Close' definindo auto_adjust=False\n",
    "    dados = yf.download(ticker, start = \"2000-01-01\", end = \"2023-12-31\", auto_adjust = False)\n",
    "\n",
    "    # Mapeamento dos nomes originais para minúsculas e underscore\n",
    "    mapeamento = {\n",
    "        'Open':       'open',\n",
    "        'High':       'high',\n",
    "        'Low':        'low',\n",
    "        'Close':      'close',\n",
    "        'Adj Close':  'adj_close',\n",
    "        'Volume':     'volume'\n",
    "    }\n",
    "\n",
    "    # Aplica apenas aos que estiverem no DataFrame\n",
    "    presentes = {col: novo for col, novo in mapeamento.items() if col in dados.columns}\n",
    "    dados.rename(columns = presentes, inplace = True)\n",
    "\n",
    "    # Data como índice\n",
    "    dados.index.name = \"date\"\n",
    "    \n",
    "    return dados"
   ]
  },
  {
   "cell_type": "code",
   "execution_count": 9,
   "metadata": {},
   "outputs": [
    {
     "name": "stderr",
     "output_type": "stream",
     "text": [
      "[*********************100%***********************]  1 of 1 completed\n"
     ]
    }
   ],
   "source": [
    "# Extração dos dados\n",
    "df = dsa_extrai_dados(\"MSFT\")"
   ]
  },
  {
   "cell_type": "code",
   "execution_count": 10,
   "metadata": {},
   "outputs": [
    {
     "data": {
      "text/plain": [
       "(6037, 6)"
      ]
     },
     "execution_count": 10,
     "metadata": {},
     "output_type": "execute_result"
    }
   ],
   "source": [
    "# Shape\n",
    "df.shape"
   ]
  },
  {
   "cell_type": "code",
   "execution_count": 11,
   "metadata": {},
   "outputs": [
    {
     "data": {
      "text/html": [
       "<div>\n",
       "<style scoped>\n",
       "    .dataframe tbody tr th:only-of-type {\n",
       "        vertical-align: middle;\n",
       "    }\n",
       "\n",
       "    .dataframe tbody tr th {\n",
       "        vertical-align: top;\n",
       "    }\n",
       "\n",
       "    .dataframe thead tr th {\n",
       "        text-align: left;\n",
       "    }\n",
       "\n",
       "    .dataframe thead tr:last-of-type th {\n",
       "        text-align: right;\n",
       "    }\n",
       "</style>\n",
       "<table border=\"1\" class=\"dataframe\">\n",
       "  <thead>\n",
       "    <tr>\n",
       "      <th>Price</th>\n",
       "      <th>adj_close</th>\n",
       "      <th>close</th>\n",
       "      <th>high</th>\n",
       "      <th>low</th>\n",
       "      <th>open</th>\n",
       "      <th>volume</th>\n",
       "    </tr>\n",
       "    <tr>\n",
       "      <th>Ticker</th>\n",
       "      <th>MSFT</th>\n",
       "      <th>MSFT</th>\n",
       "      <th>MSFT</th>\n",
       "      <th>MSFT</th>\n",
       "      <th>MSFT</th>\n",
       "      <th>MSFT</th>\n",
       "    </tr>\n",
       "    <tr>\n",
       "      <th>date</th>\n",
       "      <th></th>\n",
       "      <th></th>\n",
       "      <th></th>\n",
       "      <th></th>\n",
       "      <th></th>\n",
       "      <th></th>\n",
       "    </tr>\n",
       "  </thead>\n",
       "  <tbody>\n",
       "    <tr>\n",
       "      <th>2000-01-03</th>\n",
       "      <td>35.726719</td>\n",
       "      <td>58.28125</td>\n",
       "      <td>59.3125</td>\n",
       "      <td>56.00000</td>\n",
       "      <td>58.68750</td>\n",
       "      <td>53228400</td>\n",
       "    </tr>\n",
       "    <tr>\n",
       "      <th>2000-01-04</th>\n",
       "      <td>34.519855</td>\n",
       "      <td>56.31250</td>\n",
       "      <td>58.5625</td>\n",
       "      <td>56.12500</td>\n",
       "      <td>56.78125</td>\n",
       "      <td>54119000</td>\n",
       "    </tr>\n",
       "    <tr>\n",
       "      <th>2000-01-05</th>\n",
       "      <td>34.883842</td>\n",
       "      <td>56.90625</td>\n",
       "      <td>58.1875</td>\n",
       "      <td>54.68750</td>\n",
       "      <td>55.56250</td>\n",
       "      <td>64059600</td>\n",
       "    </tr>\n",
       "    <tr>\n",
       "      <th>2000-01-06</th>\n",
       "      <td>33.715313</td>\n",
       "      <td>55.00000</td>\n",
       "      <td>56.9375</td>\n",
       "      <td>54.18750</td>\n",
       "      <td>56.09375</td>\n",
       "      <td>54976600</td>\n",
       "    </tr>\n",
       "    <tr>\n",
       "      <th>2000-01-07</th>\n",
       "      <td>34.155899</td>\n",
       "      <td>55.71875</td>\n",
       "      <td>56.1250</td>\n",
       "      <td>53.65625</td>\n",
       "      <td>54.31250</td>\n",
       "      <td>62013600</td>\n",
       "    </tr>\n",
       "  </tbody>\n",
       "</table>\n",
       "</div>"
      ],
      "text/plain": [
       "Price       adj_close     close     high       low      open    volume\n",
       "Ticker           MSFT      MSFT     MSFT      MSFT      MSFT      MSFT\n",
       "date                                                                  \n",
       "2000-01-03  35.726719  58.28125  59.3125  56.00000  58.68750  53228400\n",
       "2000-01-04  34.519855  56.31250  58.5625  56.12500  56.78125  54119000\n",
       "2000-01-05  34.883842  56.90625  58.1875  54.68750  55.56250  64059600\n",
       "2000-01-06  33.715313  55.00000  56.9375  54.18750  56.09375  54976600\n",
       "2000-01-07  34.155899  55.71875  56.1250  53.65625  54.31250  62013600"
      ]
     },
     "execution_count": 11,
     "metadata": {},
     "output_type": "execute_result"
    }
   ],
   "source": [
    "# Primeiras linhas\n",
    "df.head()"
   ]
  },
  {
   "cell_type": "code",
   "execution_count": 12,
   "metadata": {},
   "outputs": [
    {
     "data": {
      "text/html": [
       "<div>\n",
       "<style scoped>\n",
       "    .dataframe tbody tr th:only-of-type {\n",
       "        vertical-align: middle;\n",
       "    }\n",
       "\n",
       "    .dataframe tbody tr th {\n",
       "        vertical-align: top;\n",
       "    }\n",
       "\n",
       "    .dataframe thead tr th {\n",
       "        text-align: left;\n",
       "    }\n",
       "\n",
       "    .dataframe thead tr:last-of-type th {\n",
       "        text-align: right;\n",
       "    }\n",
       "</style>\n",
       "<table border=\"1\" class=\"dataframe\">\n",
       "  <thead>\n",
       "    <tr>\n",
       "      <th>Price</th>\n",
       "      <th>adj_close</th>\n",
       "      <th>close</th>\n",
       "      <th>high</th>\n",
       "      <th>low</th>\n",
       "      <th>open</th>\n",
       "      <th>volume</th>\n",
       "    </tr>\n",
       "    <tr>\n",
       "      <th>Ticker</th>\n",
       "      <th>MSFT</th>\n",
       "      <th>MSFT</th>\n",
       "      <th>MSFT</th>\n",
       "      <th>MSFT</th>\n",
       "      <th>MSFT</th>\n",
       "      <th>MSFT</th>\n",
       "    </tr>\n",
       "    <tr>\n",
       "      <th>date</th>\n",
       "      <th></th>\n",
       "      <th></th>\n",
       "      <th></th>\n",
       "      <th></th>\n",
       "      <th></th>\n",
       "      <th></th>\n",
       "    </tr>\n",
       "  </thead>\n",
       "  <tbody>\n",
       "    <tr>\n",
       "      <th>2023-12-22</th>\n",
       "      <td>370.375732</td>\n",
       "      <td>374.579987</td>\n",
       "      <td>375.179993</td>\n",
       "      <td>372.709991</td>\n",
       "      <td>373.679993</td>\n",
       "      <td>17091100</td>\n",
       "    </tr>\n",
       "    <tr>\n",
       "      <th>2023-12-26</th>\n",
       "      <td>370.454834</td>\n",
       "      <td>374.660004</td>\n",
       "      <td>376.940002</td>\n",
       "      <td>373.500000</td>\n",
       "      <td>375.000000</td>\n",
       "      <td>12673100</td>\n",
       "    </tr>\n",
       "    <tr>\n",
       "      <th>2023-12-27</th>\n",
       "      <td>369.871490</td>\n",
       "      <td>374.070007</td>\n",
       "      <td>375.059998</td>\n",
       "      <td>372.809998</td>\n",
       "      <td>373.690002</td>\n",
       "      <td>14905400</td>\n",
       "    </tr>\n",
       "    <tr>\n",
       "      <th>2023-12-28</th>\n",
       "      <td>371.067902</td>\n",
       "      <td>375.279999</td>\n",
       "      <td>376.459991</td>\n",
       "      <td>374.160004</td>\n",
       "      <td>375.369995</td>\n",
       "      <td>14327000</td>\n",
       "    </tr>\n",
       "    <tr>\n",
       "      <th>2023-12-29</th>\n",
       "      <td>371.819366</td>\n",
       "      <td>376.040009</td>\n",
       "      <td>377.160004</td>\n",
       "      <td>373.480011</td>\n",
       "      <td>376.000000</td>\n",
       "      <td>18723000</td>\n",
       "    </tr>\n",
       "  </tbody>\n",
       "</table>\n",
       "</div>"
      ],
      "text/plain": [
       "Price        adj_close       close        high         low        open  \\\n",
       "Ticker            MSFT        MSFT        MSFT        MSFT        MSFT   \n",
       "date                                                                     \n",
       "2023-12-22  370.375732  374.579987  375.179993  372.709991  373.679993   \n",
       "2023-12-26  370.454834  374.660004  376.940002  373.500000  375.000000   \n",
       "2023-12-27  369.871490  374.070007  375.059998  372.809998  373.690002   \n",
       "2023-12-28  371.067902  375.279999  376.459991  374.160004  375.369995   \n",
       "2023-12-29  371.819366  376.040009  377.160004  373.480011  376.000000   \n",
       "\n",
       "Price         volume  \n",
       "Ticker          MSFT  \n",
       "date                  \n",
       "2023-12-22  17091100  \n",
       "2023-12-26  12673100  \n",
       "2023-12-27  14905400  \n",
       "2023-12-28  14327000  \n",
       "2023-12-29  18723000  "
      ]
     },
     "execution_count": 12,
     "metadata": {},
     "output_type": "execute_result"
    }
   ],
   "source": [
    "# Últimas linhas\n",
    "df.tail()"
   ]
  },
  {
   "cell_type": "markdown",
   "metadata": {
    "id": "KEY6GR3irvGz"
   },
   "source": [
    "## Engenharia de Atributos de Dados Financeiros"
   ]
  },
  {
   "cell_type": "markdown",
   "metadata": {},
   "source": [
    "No videobook do Capítulo 14 há uma definição completa dos novos atributos criados.\n",
    "\n",
    "Pacote ta: Technical Analysis Library in Python\n",
    "\n",
    "https://github.com/bukosabino/ta"
   ]
  },
  {
   "cell_type": "markdown",
   "metadata": {
    "id": "5F4LvOoJad4N"
   },
   "source": [
    "### Função para engenharia de atributos com dados coletados na versão anterior do yfinance\n",
    "def dsa_func_engenharia_atributos(df):\n",
    "\n",
    "    # Cópia do dataframe\n",
    "    df_copy = df.copy()\n",
    "\n",
    "    # Cria a variável com o retorno (mudança percentual do fechamento - close)\n",
    "    # Essa será nossa variável alvo\n",
    "    df_copy[\"retorno\"] = df_copy[\"close\"].pct_change(1)\n",
    "\n",
    "    # Shift das colunas de preço do ativo financeiro\n",
    "    df_copy[\"op\"] = df_copy[\"open\"].shift(1)\n",
    "    df_copy[\"hi\"] = df_copy[\"high\"].shift(1)\n",
    "    df_copy[\"lo\"] = df_copy[\"low\"].shift(1)\n",
    "    df_copy[\"clo\"] = df_copy[\"close\"].shift(1)\n",
    "\n",
    "    # Shift da coluna Volume\n",
    "    df_copy[\"vol\"] = df_copy[\"volume\"].shift(1)\n",
    "\n",
    "    # Simple Moving Average (SMA)\n",
    "    df_copy[\"SMA 15\"] = df_copy[[\"close\"]].rolling(15).mean().shift(1)\n",
    "    df_copy[\"SMA 60\"] = df_copy[[\"close\"]].rolling(60).mean().shift(1)\n",
    "\n",
    "    # Moving Standard Deviation (MSD) - Volatilidade\n",
    "    df_copy[\"MSD 15\"] = df_copy[\"retorno\"].rolling(15).std().shift(1)\n",
    "    df_copy[\"MSD 60\"] = df_copy[\"retorno\"].rolling(60).std().shift(1)\n",
    "\n",
    "    # Volume Weighted Average Price (VWAP)\n",
    "    vwap = ta.volume.VolumeWeightedAveragePrice(high = df['high'],\n",
    "                                                low = df['low'],\n",
    "                                                close = df['close'],\n",
    "                                                volume = df['volume'],\n",
    "                                                window = 5)\n",
    "    df_copy[\"VWAP\"] = vwap.vwap.shift(1)\n",
    "\n",
    "    # Relative Strength Index (RSI)\n",
    "    RSI = ta.momentum.RSIIndicator(df_copy[\"close\"], window = 5, fillna = False)\n",
    "    df_copy[\"RSI\"] = RSI.rsi().shift(1)\n",
    "\n",
    "    return df_copy.dropna()"
   ]
  },
  {
   "cell_type": "code",
   "execution_count": 13,
   "metadata": {},
   "outputs": [],
   "source": [
    "# Função para engenharia de atributos com dados coletados na versão mais recente do yfinance\n",
    "def dsa_func_engenharia_atributos(df):\n",
    "\n",
    "    # Cópia do dataframe\n",
    "    df_copy = df.copy()\n",
    "    \n",
    "    # Se houver MultiIndex nas colunas, mantém só o primeiro nível\n",
    "    if isinstance(df_copy.columns, pd.MultiIndex):\n",
    "        df_copy.columns = df_copy.columns.get_level_values(0)\n",
    "    \n",
    "    # Cria a variável com o retorno (mudança percentual do fechamento - close)\n",
    "    # Essa será nossa variável alvo\n",
    "    df_copy[\"retorno\"] = df_copy[\"close\"].pct_change(1)\n",
    "    \n",
    "    # Shift das colunas de preço do ativo financeiro\n",
    "    df_copy[\"op\"]  = df_copy[\"open\"].shift(1)\n",
    "    df_copy[\"hi\"]  = df_copy[\"high\"].shift(1)\n",
    "    df_copy[\"lo\"]  = df_copy[\"low\"].shift(1)\n",
    "    df_copy[\"clo\"] = df_copy[\"close\"].shift(1)\n",
    "\n",
    "    # Shift da coluna Volume\n",
    "    df_copy[\"vol\"] = df_copy[\"volume\"].shift(1)\n",
    "    \n",
    "    # Simple Moving Average (SMA)\n",
    "    df_copy[\"SMA 15\"] = df_copy[\"close\"].rolling(15).mean().shift(1)\n",
    "    df_copy[\"SMA 60\"] = df_copy[\"close\"].rolling(60).mean().shift(1)\n",
    "\n",
    "    # Moving Standard Deviation (MSD) - Volatilidade\n",
    "    df_copy[\"MSD 15\"] = df_copy[\"retorno\"].rolling(15).std().shift(1)\n",
    "    df_copy[\"MSD 60\"] = df_copy[\"retorno\"].rolling(60).std().shift(1)\n",
    "    \n",
    "    # Volume Weighted Average Price (VWAP)\n",
    "    vwap = ta.volume.VolumeWeightedAveragePrice(high   = df_copy[\"high\"],\n",
    "                                                low    = df_copy[\"low\"],\n",
    "                                                close  = df_copy[\"close\"],\n",
    "                                                volume = df_copy[\"volume\"],\n",
    "                                                window = 5)\n",
    "    \n",
    "    df_copy[\"VWAP\"] = vwap.vwap.shift(1)\n",
    "    \n",
    "    # RSI (agora df_copy[\"close\"] é Series 1D)\n",
    "    rsi = ta.momentum.RSIIndicator(df_copy[\"close\"], window = 5, fillna = False)\n",
    "    df_copy[\"RSI\"] = rsi.rsi().shift(1)\n",
    "    \n",
    "    return df_copy.dropna()"
   ]
  },
  {
   "cell_type": "code",
   "execution_count": 14,
   "metadata": {
    "colab": {
     "base_uri": "https://localhost:8080/",
     "height": 536
    },
    "id": "u12-bjaOp2uA",
    "outputId": "e6713cfb-6d6c-4966-d047-d634ef4562c5"
   },
   "outputs": [],
   "source": [
    "# Engenharia de atributos\n",
    "df = dsa_func_engenharia_atributos(df)"
   ]
  },
  {
   "cell_type": "code",
   "execution_count": 15,
   "metadata": {},
   "outputs": [
    {
     "data": {
      "text/html": [
       "<div>\n",
       "<style scoped>\n",
       "    .dataframe tbody tr th:only-of-type {\n",
       "        vertical-align: middle;\n",
       "    }\n",
       "\n",
       "    .dataframe tbody tr th {\n",
       "        vertical-align: top;\n",
       "    }\n",
       "\n",
       "    .dataframe thead th {\n",
       "        text-align: right;\n",
       "    }\n",
       "</style>\n",
       "<table border=\"1\" class=\"dataframe\">\n",
       "  <thead>\n",
       "    <tr style=\"text-align: right;\">\n",
       "      <th>Price</th>\n",
       "      <th>adj_close</th>\n",
       "      <th>close</th>\n",
       "      <th>high</th>\n",
       "      <th>low</th>\n",
       "      <th>open</th>\n",
       "      <th>volume</th>\n",
       "      <th>retorno</th>\n",
       "      <th>op</th>\n",
       "      <th>hi</th>\n",
       "      <th>lo</th>\n",
       "      <th>clo</th>\n",
       "      <th>vol</th>\n",
       "      <th>SMA 15</th>\n",
       "      <th>SMA 60</th>\n",
       "      <th>MSD 15</th>\n",
       "      <th>MSD 60</th>\n",
       "      <th>VWAP</th>\n",
       "      <th>RSI</th>\n",
       "    </tr>\n",
       "    <tr>\n",
       "      <th>date</th>\n",
       "      <th></th>\n",
       "      <th></th>\n",
       "      <th></th>\n",
       "      <th></th>\n",
       "      <th></th>\n",
       "      <th></th>\n",
       "      <th></th>\n",
       "      <th></th>\n",
       "      <th></th>\n",
       "      <th></th>\n",
       "      <th></th>\n",
       "      <th></th>\n",
       "      <th></th>\n",
       "      <th></th>\n",
       "      <th></th>\n",
       "      <th></th>\n",
       "      <th></th>\n",
       "      <th></th>\n",
       "    </tr>\n",
       "  </thead>\n",
       "  <tbody>\n",
       "    <tr>\n",
       "      <th>2000-03-30</th>\n",
       "      <td>31.684711</td>\n",
       "      <td>51.687500</td>\n",
       "      <td>54.312500</td>\n",
       "      <td>51.250000</td>\n",
       "      <td>53.093750</td>\n",
       "      <td>64178400</td>\n",
       "      <td>-0.035569</td>\n",
       "      <td>52.593750</td>\n",
       "      <td>54.468750</td>\n",
       "      <td>52.562500</td>\n",
       "      <td>53.593750</td>\n",
       "      <td>64363800.0</td>\n",
       "      <td>50.891667</td>\n",
       "      <td>50.815625</td>\n",
       "      <td>0.038358</td>\n",
       "      <td>0.031934</td>\n",
       "      <td>54.201657</td>\n",
       "      <td>60.893094</td>\n",
       "    </tr>\n",
       "    <tr>\n",
       "      <th>2000-03-31</th>\n",
       "      <td>32.565899</td>\n",
       "      <td>53.125000</td>\n",
       "      <td>54.125000</td>\n",
       "      <td>52.062500</td>\n",
       "      <td>53.000000</td>\n",
       "      <td>64281400</td>\n",
       "      <td>0.027811</td>\n",
       "      <td>53.093750</td>\n",
       "      <td>54.312500</td>\n",
       "      <td>51.250000</td>\n",
       "      <td>51.687500</td>\n",
       "      <td>64178400.0</td>\n",
       "      <td>51.004167</td>\n",
       "      <td>50.738542</td>\n",
       "      <td>0.038388</td>\n",
       "      <td>0.031966</td>\n",
       "      <td>53.585763</td>\n",
       "      <td>46.533808</td>\n",
       "    </tr>\n",
       "    <tr>\n",
       "      <th>2000-04-03</th>\n",
       "      <td>27.853424</td>\n",
       "      <td>45.437500</td>\n",
       "      <td>48.250000</td>\n",
       "      <td>45.000000</td>\n",
       "      <td>47.218750</td>\n",
       "      <td>260118200</td>\n",
       "      <td>-0.144706</td>\n",
       "      <td>53.000000</td>\n",
       "      <td>54.125000</td>\n",
       "      <td>52.062500</td>\n",
       "      <td>53.125000</td>\n",
       "      <td>64281400.0</td>\n",
       "      <td>51.179167</td>\n",
       "      <td>50.675521</td>\n",
       "      <td>0.038895</td>\n",
       "      <td>0.032148</td>\n",
       "      <td>52.790422</td>\n",
       "      <td>56.257046</td>\n",
       "    </tr>\n",
       "    <tr>\n",
       "      <th>2000-04-04</th>\n",
       "      <td>27.144657</td>\n",
       "      <td>44.281250</td>\n",
       "      <td>46.000000</td>\n",
       "      <td>42.468750</td>\n",
       "      <td>45.781250</td>\n",
       "      <td>181244400</td>\n",
       "      <td>-0.025447</td>\n",
       "      <td>47.218750</td>\n",
       "      <td>48.250000</td>\n",
       "      <td>45.000000</td>\n",
       "      <td>45.437500</td>\n",
       "      <td>260118200.0</td>\n",
       "      <td>50.941667</td>\n",
       "      <td>50.516146</td>\n",
       "      <td>0.054311</td>\n",
       "      <td>0.036926</td>\n",
       "      <td>49.611815</td>\n",
       "      <td>25.390430</td>\n",
       "    </tr>\n",
       "    <tr>\n",
       "      <th>2000-04-05</th>\n",
       "      <td>26.474173</td>\n",
       "      <td>43.187500</td>\n",
       "      <td>44.250000</td>\n",
       "      <td>42.937500</td>\n",
       "      <td>44.125000</td>\n",
       "      <td>82887600</td>\n",
       "      <td>-0.024700</td>\n",
       "      <td>45.781250</td>\n",
       "      <td>46.000000</td>\n",
       "      <td>42.468750</td>\n",
       "      <td>44.281250</td>\n",
       "      <td>181244400.0</td>\n",
       "      <td>50.722917</td>\n",
       "      <td>50.325521</td>\n",
       "      <td>0.054188</td>\n",
       "      <td>0.036985</td>\n",
       "      <td>47.728704</td>\n",
       "      <td>23.016202</td>\n",
       "    </tr>\n",
       "    <tr>\n",
       "      <th>...</th>\n",
       "      <td>...</td>\n",
       "      <td>...</td>\n",
       "      <td>...</td>\n",
       "      <td>...</td>\n",
       "      <td>...</td>\n",
       "      <td>...</td>\n",
       "      <td>...</td>\n",
       "      <td>...</td>\n",
       "      <td>...</td>\n",
       "      <td>...</td>\n",
       "      <td>...</td>\n",
       "      <td>...</td>\n",
       "      <td>...</td>\n",
       "      <td>...</td>\n",
       "      <td>...</td>\n",
       "      <td>...</td>\n",
       "      <td>...</td>\n",
       "      <td>...</td>\n",
       "    </tr>\n",
       "    <tr>\n",
       "      <th>2023-12-22</th>\n",
       "      <td>370.375732</td>\n",
       "      <td>374.579987</td>\n",
       "      <td>375.179993</td>\n",
       "      <td>372.709991</td>\n",
       "      <td>373.679993</td>\n",
       "      <td>17091100</td>\n",
       "      <td>0.002784</td>\n",
       "      <td>372.559998</td>\n",
       "      <td>374.410004</td>\n",
       "      <td>370.040009</td>\n",
       "      <td>373.540009</td>\n",
       "      <td>17708000.0</td>\n",
       "      <td>371.795335</td>\n",
       "      <td>352.972669</td>\n",
       "      <td>0.010610</td>\n",
       "      <td>0.013211</td>\n",
       "      <td>371.030030</td>\n",
       "      <td>55.957485</td>\n",
       "    </tr>\n",
       "    <tr>\n",
       "      <th>2023-12-26</th>\n",
       "      <td>370.454834</td>\n",
       "      <td>374.660004</td>\n",
       "      <td>376.940002</td>\n",
       "      <td>373.500000</td>\n",
       "      <td>375.000000</td>\n",
       "      <td>12673100</td>\n",
       "      <td>0.000214</td>\n",
       "      <td>373.679993</td>\n",
       "      <td>375.179993</td>\n",
       "      <td>372.709991</td>\n",
       "      <td>374.579987</td>\n",
       "      <td>17091100.0</td>\n",
       "      <td>371.800000</td>\n",
       "      <td>353.988336</td>\n",
       "      <td>0.010216</td>\n",
       "      <td>0.013211</td>\n",
       "      <td>372.476155</td>\n",
       "      <td>59.580089</td>\n",
       "    </tr>\n",
       "    <tr>\n",
       "      <th>2023-12-27</th>\n",
       "      <td>369.871490</td>\n",
       "      <td>374.070007</td>\n",
       "      <td>375.059998</td>\n",
       "      <td>372.809998</td>\n",
       "      <td>373.690002</td>\n",
       "      <td>14905400</td>\n",
       "      <td>-0.001575</td>\n",
       "      <td>375.000000</td>\n",
       "      <td>376.940002</td>\n",
       "      <td>373.500000</td>\n",
       "      <td>374.660004</td>\n",
       "      <td>12673100.0</td>\n",
       "      <td>372.167999</td>\n",
       "      <td>354.970169</td>\n",
       "      <td>0.009410</td>\n",
       "      <td>0.013207</td>\n",
       "      <td>373.058044</td>\n",
       "      <td>59.897331</td>\n",
       "    </tr>\n",
       "    <tr>\n",
       "      <th>2023-12-28</th>\n",
       "      <td>371.067902</td>\n",
       "      <td>375.279999</td>\n",
       "      <td>376.459991</td>\n",
       "      <td>374.160004</td>\n",
       "      <td>375.369995</td>\n",
       "      <td>14327000</td>\n",
       "      <td>0.003235</td>\n",
       "      <td>373.690002</td>\n",
       "      <td>375.059998</td>\n",
       "      <td>372.809998</td>\n",
       "      <td>374.070007</td>\n",
       "      <td>14905400.0</td>\n",
       "      <td>372.271334</td>\n",
       "      <td>355.841336</td>\n",
       "      <td>0.009152</td>\n",
       "      <td>0.013046</td>\n",
       "      <td>373.430889</td>\n",
       "      <td>55.856718</td>\n",
       "    </tr>\n",
       "    <tr>\n",
       "      <th>2023-12-29</th>\n",
       "      <td>371.819366</td>\n",
       "      <td>376.040009</td>\n",
       "      <td>377.160004</td>\n",
       "      <td>373.480011</td>\n",
       "      <td>376.000000</td>\n",
       "      <td>18723000</td>\n",
       "      <td>0.002025</td>\n",
       "      <td>375.369995</td>\n",
       "      <td>376.459991</td>\n",
       "      <td>374.160004</td>\n",
       "      <td>375.279999</td>\n",
       "      <td>14327000.0</td>\n",
       "      <td>372.703335</td>\n",
       "      <td>356.872836</td>\n",
       "      <td>0.008715</td>\n",
       "      <td>0.012489</td>\n",
       "      <td>374.135981</td>\n",
       "      <td>62.365107</td>\n",
       "    </tr>\n",
       "  </tbody>\n",
       "</table>\n",
       "<p>5976 rows × 18 columns</p>\n",
       "</div>"
      ],
      "text/plain": [
       "Price        adj_close       close        high         low        open  \\\n",
       "date                                                                     \n",
       "2000-03-30   31.684711   51.687500   54.312500   51.250000   53.093750   \n",
       "2000-03-31   32.565899   53.125000   54.125000   52.062500   53.000000   \n",
       "2000-04-03   27.853424   45.437500   48.250000   45.000000   47.218750   \n",
       "2000-04-04   27.144657   44.281250   46.000000   42.468750   45.781250   \n",
       "2000-04-05   26.474173   43.187500   44.250000   42.937500   44.125000   \n",
       "...                ...         ...         ...         ...         ...   \n",
       "2023-12-22  370.375732  374.579987  375.179993  372.709991  373.679993   \n",
       "2023-12-26  370.454834  374.660004  376.940002  373.500000  375.000000   \n",
       "2023-12-27  369.871490  374.070007  375.059998  372.809998  373.690002   \n",
       "2023-12-28  371.067902  375.279999  376.459991  374.160004  375.369995   \n",
       "2023-12-29  371.819366  376.040009  377.160004  373.480011  376.000000   \n",
       "\n",
       "Price          volume   retorno          op          hi          lo  \\\n",
       "date                                                                  \n",
       "2000-03-30   64178400 -0.035569   52.593750   54.468750   52.562500   \n",
       "2000-03-31   64281400  0.027811   53.093750   54.312500   51.250000   \n",
       "2000-04-03  260118200 -0.144706   53.000000   54.125000   52.062500   \n",
       "2000-04-04  181244400 -0.025447   47.218750   48.250000   45.000000   \n",
       "2000-04-05   82887600 -0.024700   45.781250   46.000000   42.468750   \n",
       "...               ...       ...         ...         ...         ...   \n",
       "2023-12-22   17091100  0.002784  372.559998  374.410004  370.040009   \n",
       "2023-12-26   12673100  0.000214  373.679993  375.179993  372.709991   \n",
       "2023-12-27   14905400 -0.001575  375.000000  376.940002  373.500000   \n",
       "2023-12-28   14327000  0.003235  373.690002  375.059998  372.809998   \n",
       "2023-12-29   18723000  0.002025  375.369995  376.459991  374.160004   \n",
       "\n",
       "Price              clo          vol      SMA 15      SMA 60    MSD 15  \\\n",
       "date                                                                    \n",
       "2000-03-30   53.593750   64363800.0   50.891667   50.815625  0.038358   \n",
       "2000-03-31   51.687500   64178400.0   51.004167   50.738542  0.038388   \n",
       "2000-04-03   53.125000   64281400.0   51.179167   50.675521  0.038895   \n",
       "2000-04-04   45.437500  260118200.0   50.941667   50.516146  0.054311   \n",
       "2000-04-05   44.281250  181244400.0   50.722917   50.325521  0.054188   \n",
       "...                ...          ...         ...         ...       ...   \n",
       "2023-12-22  373.540009   17708000.0  371.795335  352.972669  0.010610   \n",
       "2023-12-26  374.579987   17091100.0  371.800000  353.988336  0.010216   \n",
       "2023-12-27  374.660004   12673100.0  372.167999  354.970169  0.009410   \n",
       "2023-12-28  374.070007   14905400.0  372.271334  355.841336  0.009152   \n",
       "2023-12-29  375.279999   14327000.0  372.703335  356.872836  0.008715   \n",
       "\n",
       "Price         MSD 60        VWAP        RSI  \n",
       "date                                         \n",
       "2000-03-30  0.031934   54.201657  60.893094  \n",
       "2000-03-31  0.031966   53.585763  46.533808  \n",
       "2000-04-03  0.032148   52.790422  56.257046  \n",
       "2000-04-04  0.036926   49.611815  25.390430  \n",
       "2000-04-05  0.036985   47.728704  23.016202  \n",
       "...              ...         ...        ...  \n",
       "2023-12-22  0.013211  371.030030  55.957485  \n",
       "2023-12-26  0.013211  372.476155  59.580089  \n",
       "2023-12-27  0.013207  373.058044  59.897331  \n",
       "2023-12-28  0.013046  373.430889  55.856718  \n",
       "2023-12-29  0.012489  374.135981  62.365107  \n",
       "\n",
       "[5976 rows x 18 columns]"
      ]
     },
     "execution_count": 15,
     "metadata": {},
     "output_type": "execute_result"
    }
   ],
   "source": [
    "df"
   ]
  },
  {
   "cell_type": "markdown",
   "metadata": {},
   "source": [
    "Veja o e-book no Capítulo 14 com detalhes sobre o uso do Shift na série temporal."
   ]
  },
  {
   "cell_type": "markdown",
   "metadata": {
    "id": "riFjHKOU22aO"
   },
   "source": [
    "<!-- Projeto Desenvolvido na Data Science Academy - www.datascienceacademy.com.br -->\n",
    "## Pré-Processamento dos Dados"
   ]
  },
  {
   "cell_type": "markdown",
   "metadata": {
    "id": "iNZcj-s6Vp2R"
   },
   "source": [
    "> Divisão dos Dados em Treino, Validação e Teste"
   ]
  },
  {
   "cell_type": "code",
   "execution_count": 16,
   "metadata": {},
   "outputs": [],
   "source": [
    "# Percentual de split de treino e validação\n",
    "split = int(0.85 * len(df))\n",
    "split_val = int(0.95 * len(df))"
   ]
  },
  {
   "cell_type": "markdown",
   "metadata": {},
   "source": [
    "Teremos 85% dos dados para treino, 10% para validação e 5% para teste."
   ]
  },
  {
   "cell_type": "code",
   "execution_count": 17,
   "metadata": {},
   "outputs": [
    {
     "data": {
      "text/plain": [
       "Index(['adj_close', 'close', 'high', 'low', 'open', 'volume', 'retorno', 'op',\n",
       "       'hi', 'lo', 'clo', 'vol', 'SMA 15', 'SMA 60', 'MSD 15', 'MSD 60',\n",
       "       'VWAP', 'RSI'],\n",
       "      dtype='object', name='Price')"
      ]
     },
     "execution_count": 17,
     "metadata": {},
     "output_type": "execute_result"
    }
   ],
   "source": [
    "df.columns"
   ]
  },
  {
   "cell_type": "code",
   "execution_count": 18,
   "metadata": {},
   "outputs": [],
   "source": [
    "# Dataset de treino\n",
    "x_treino = df[['VWAP','RSI','SMA 15','SMA 60','MSD 15','MSD 60','op','hi','lo','clo','vol']].iloc[:split,:]\n",
    "y_treino = df[['retorno']].iloc[:split,:]"
   ]
  },
  {
   "cell_type": "code",
   "execution_count": 19,
   "metadata": {},
   "outputs": [],
   "source": [
    "# Dataset de validação\n",
    "x_valid = df[['VWAP','RSI','SMA 15','SMA 60','MSD 15','MSD 60','op','hi','lo','clo','vol']].iloc[split:split_val,:]\n",
    "y_valid = df[['retorno']].iloc[split:split_val,:]"
   ]
  },
  {
   "cell_type": "code",
   "execution_count": 20,
   "metadata": {},
   "outputs": [],
   "source": [
    "# Dataset de teste\n",
    "x_teste = df[['VWAP','RSI','SMA 15','SMA 60','MSD 15','MSD 60','op','hi','lo','clo','vol']].iloc[split_val:,:]\n",
    "y_teste = df[['retorno']].iloc[split_val:,:]"
   ]
  },
  {
   "cell_type": "markdown",
   "metadata": {},
   "source": [
    "> Padronização"
   ]
  },
  {
   "cell_type": "code",
   "execution_count": 21,
   "metadata": {},
   "outputs": [],
   "source": [
    "# Cria o padronizador\n",
    "sc = StandardScaler()"
   ]
  },
  {
   "cell_type": "code",
   "execution_count": 22,
   "metadata": {},
   "outputs": [],
   "source": [
    "# Fit e transform nos dados de treino\n",
    "x_treino_sc = sc.fit_transform(x_treino)"
   ]
  },
  {
   "cell_type": "code",
   "execution_count": 23,
   "metadata": {},
   "outputs": [],
   "source": [
    "# Transform nos dados de validação\n",
    "x_valid_sc = sc.transform(x_valid)"
   ]
  },
  {
   "cell_type": "code",
   "execution_count": 24,
   "metadata": {
    "id": "SBaewsY_p2uB"
   },
   "outputs": [],
   "source": [
    "# Transform nos dados de teste\n",
    "x_teste_sc = sc.transform(x_teste)"
   ]
  },
  {
   "cell_type": "markdown",
   "metadata": {},
   "source": [
    "## Ajuste no Formato dos Dados"
   ]
  },
  {
   "cell_type": "markdown",
   "metadata": {
    "id": "DrtdAn2rERcP"
   },
   "source": [
    "O código abaixo realiza as seguintes operações:\n",
    "\n",
    "Primeiro, verifica se as entradas X_s e y_s possuem a mesma extensão. Se não, imprime um aviso.\n",
    "\n",
    "Em seguida, cria a variável X_train. Essa variável é criada iterando sobre todas as variáveis em X_s e criando 'janelas' de tamanho lag para cada uma delas. Ou seja, para cada ponto no tempo i, ele pega os lag pontos anteriores para cada variável e armazena isso em uma lista. Ao final do processo, temos uma lista de listas para cada variável.\n",
    "\n",
    "X_train é então transformado em um array NumPy e as dimensões são reordenadas. A chamada ao método swapaxes é feita duas vezes para garantir que as dimensões estejam na ordem correta para a entrada do modelo. A ordem final é (amostras, passos de tempo, características).\n",
    "<!-- Projeto Desenvolvido na Data Science Academy - www.datascienceacademy.com.br -->\n",
    "Depois, a função cria y_train que contém a variável alvo correspondente para cada janela em X_train. Ele faz isso iterando sobre y_s de lag até o final e armazenando cada valor em uma lista.\n",
    "\n",
    "Por fim, y_train é convertido em um array NumPy usando o método concatenate, que combina uma lista de arrays NumPy em um único array.\n",
    "\n",
    "A função retorna X_train e y_train, que estão agora em um formato adequado para serem usados para treinar uma RNN. A ideia geral aqui é que, para prever o valor de y em um certo ponto no tempo, você usará os lag pontos anteriores de X."
   ]
  },
  {
   "cell_type": "code",
   "execution_count": 25,
   "metadata": {},
   "outputs": [
    {
     "data": {
      "text/html": [
       "<div>\n",
       "<style scoped>\n",
       "    .dataframe tbody tr th:only-of-type {\n",
       "        vertical-align: middle;\n",
       "    }\n",
       "\n",
       "    .dataframe tbody tr th {\n",
       "        vertical-align: top;\n",
       "    }\n",
       "\n",
       "    .dataframe thead th {\n",
       "        text-align: right;\n",
       "    }\n",
       "</style>\n",
       "<table border=\"1\" class=\"dataframe\">\n",
       "  <thead>\n",
       "    <tr style=\"text-align: right;\">\n",
       "      <th>Price</th>\n",
       "      <th>VWAP</th>\n",
       "      <th>RSI</th>\n",
       "      <th>SMA 15</th>\n",
       "      <th>SMA 60</th>\n",
       "      <th>MSD 15</th>\n",
       "      <th>MSD 60</th>\n",
       "      <th>op</th>\n",
       "      <th>hi</th>\n",
       "      <th>lo</th>\n",
       "      <th>clo</th>\n",
       "      <th>vol</th>\n",
       "    </tr>\n",
       "    <tr>\n",
       "      <th>date</th>\n",
       "      <th></th>\n",
       "      <th></th>\n",
       "      <th></th>\n",
       "      <th></th>\n",
       "      <th></th>\n",
       "      <th></th>\n",
       "      <th></th>\n",
       "      <th></th>\n",
       "      <th></th>\n",
       "      <th></th>\n",
       "      <th></th>\n",
       "    </tr>\n",
       "  </thead>\n",
       "  <tbody>\n",
       "    <tr>\n",
       "      <th>2000-03-30</th>\n",
       "      <td>54.201657</td>\n",
       "      <td>60.893094</td>\n",
       "      <td>50.891667</td>\n",
       "      <td>50.815625</td>\n",
       "      <td>0.038358</td>\n",
       "      <td>0.031934</td>\n",
       "      <td>52.593750</td>\n",
       "      <td>54.468750</td>\n",
       "      <td>52.562500</td>\n",
       "      <td>53.593750</td>\n",
       "      <td>64363800.0</td>\n",
       "    </tr>\n",
       "    <tr>\n",
       "      <th>2000-03-31</th>\n",
       "      <td>53.585763</td>\n",
       "      <td>46.533808</td>\n",
       "      <td>51.004167</td>\n",
       "      <td>50.738542</td>\n",
       "      <td>0.038388</td>\n",
       "      <td>0.031966</td>\n",
       "      <td>53.093750</td>\n",
       "      <td>54.312500</td>\n",
       "      <td>51.250000</td>\n",
       "      <td>51.687500</td>\n",
       "      <td>64178400.0</td>\n",
       "    </tr>\n",
       "    <tr>\n",
       "      <th>2000-04-03</th>\n",
       "      <td>52.790422</td>\n",
       "      <td>56.257046</td>\n",
       "      <td>51.179167</td>\n",
       "      <td>50.675521</td>\n",
       "      <td>0.038895</td>\n",
       "      <td>0.032148</td>\n",
       "      <td>53.000000</td>\n",
       "      <td>54.125000</td>\n",
       "      <td>52.062500</td>\n",
       "      <td>53.125000</td>\n",
       "      <td>64281400.0</td>\n",
       "    </tr>\n",
       "    <tr>\n",
       "      <th>2000-04-04</th>\n",
       "      <td>49.611815</td>\n",
       "      <td>25.390430</td>\n",
       "      <td>50.941667</td>\n",
       "      <td>50.516146</td>\n",
       "      <td>0.054311</td>\n",
       "      <td>0.036926</td>\n",
       "      <td>47.218750</td>\n",
       "      <td>48.250000</td>\n",
       "      <td>45.000000</td>\n",
       "      <td>45.437500</td>\n",
       "      <td>260118200.0</td>\n",
       "    </tr>\n",
       "    <tr>\n",
       "      <th>2000-04-05</th>\n",
       "      <td>47.728704</td>\n",
       "      <td>23.016202</td>\n",
       "      <td>50.722917</td>\n",
       "      <td>50.325521</td>\n",
       "      <td>0.054188</td>\n",
       "      <td>0.036985</td>\n",
       "      <td>45.781250</td>\n",
       "      <td>46.000000</td>\n",
       "      <td>42.468750</td>\n",
       "      <td>44.281250</td>\n",
       "      <td>181244400.0</td>\n",
       "    </tr>\n",
       "    <tr>\n",
       "      <th>...</th>\n",
       "      <td>...</td>\n",
       "      <td>...</td>\n",
       "      <td>...</td>\n",
       "      <td>...</td>\n",
       "      <td>...</td>\n",
       "      <td>...</td>\n",
       "      <td>...</td>\n",
       "      <td>...</td>\n",
       "      <td>...</td>\n",
       "      <td>...</td>\n",
       "      <td>...</td>\n",
       "    </tr>\n",
       "    <tr>\n",
       "      <th>2020-06-02</th>\n",
       "      <td>182.002271</td>\n",
       "      <td>52.051215</td>\n",
       "      <td>182.979333</td>\n",
       "      <td>167.693000</td>\n",
       "      <td>0.011101</td>\n",
       "      <td>0.043753</td>\n",
       "      <td>182.539993</td>\n",
       "      <td>183.000000</td>\n",
       "      <td>181.460007</td>\n",
       "      <td>182.830002</td>\n",
       "      <td>22622400.0</td>\n",
       "    </tr>\n",
       "    <tr>\n",
       "      <th>2020-06-03</th>\n",
       "      <td>182.096349</td>\n",
       "      <td>66.789606</td>\n",
       "      <td>182.857333</td>\n",
       "      <td>168.082000</td>\n",
       "      <td>0.011118</td>\n",
       "      <td>0.043579</td>\n",
       "      <td>184.250000</td>\n",
       "      <td>185.000000</td>\n",
       "      <td>181.350006</td>\n",
       "      <td>184.910004</td>\n",
       "      <td>30794600.0</td>\n",
       "    </tr>\n",
       "    <tr>\n",
       "      <th>2020-06-04</th>\n",
       "      <td>183.090688</td>\n",
       "      <td>69.338338</td>\n",
       "      <td>183.047334</td>\n",
       "      <td>168.661000</td>\n",
       "      <td>0.009303</td>\n",
       "      <td>0.042572</td>\n",
       "      <td>184.820007</td>\n",
       "      <td>185.940002</td>\n",
       "      <td>183.580002</td>\n",
       "      <td>185.360001</td>\n",
       "      <td>27311000.0</td>\n",
       "    </tr>\n",
       "    <tr>\n",
       "      <th>2020-06-05</th>\n",
       "      <td>183.452162</td>\n",
       "      <td>45.612391</td>\n",
       "      <td>183.258667</td>\n",
       "      <td>169.027667</td>\n",
       "      <td>0.009070</td>\n",
       "      <td>0.041788</td>\n",
       "      <td>184.300003</td>\n",
       "      <td>185.839996</td>\n",
       "      <td>182.300003</td>\n",
       "      <td>182.919998</td>\n",
       "      <td>28761800.0</td>\n",
       "    </tr>\n",
       "    <tr>\n",
       "      <th>2020-06-08</th>\n",
       "      <td>184.266327</td>\n",
       "      <td>68.926036</td>\n",
       "      <td>183.703334</td>\n",
       "      <td>169.587167</td>\n",
       "      <td>0.010724</td>\n",
       "      <td>0.041381</td>\n",
       "      <td>182.619995</td>\n",
       "      <td>187.729996</td>\n",
       "      <td>182.009995</td>\n",
       "      <td>187.199997</td>\n",
       "      <td>39893600.0</td>\n",
       "    </tr>\n",
       "  </tbody>\n",
       "</table>\n",
       "<p>5079 rows × 11 columns</p>\n",
       "</div>"
      ],
      "text/plain": [
       "Price             VWAP        RSI      SMA 15      SMA 60    MSD 15    MSD 60  \\\n",
       "date                                                                            \n",
       "2000-03-30   54.201657  60.893094   50.891667   50.815625  0.038358  0.031934   \n",
       "2000-03-31   53.585763  46.533808   51.004167   50.738542  0.038388  0.031966   \n",
       "2000-04-03   52.790422  56.257046   51.179167   50.675521  0.038895  0.032148   \n",
       "2000-04-04   49.611815  25.390430   50.941667   50.516146  0.054311  0.036926   \n",
       "2000-04-05   47.728704  23.016202   50.722917   50.325521  0.054188  0.036985   \n",
       "...                ...        ...         ...         ...       ...       ...   \n",
       "2020-06-02  182.002271  52.051215  182.979333  167.693000  0.011101  0.043753   \n",
       "2020-06-03  182.096349  66.789606  182.857333  168.082000  0.011118  0.043579   \n",
       "2020-06-04  183.090688  69.338338  183.047334  168.661000  0.009303  0.042572   \n",
       "2020-06-05  183.452162  45.612391  183.258667  169.027667  0.009070  0.041788   \n",
       "2020-06-08  184.266327  68.926036  183.703334  169.587167  0.010724  0.041381   \n",
       "\n",
       "Price               op          hi          lo         clo          vol  \n",
       "date                                                                     \n",
       "2000-03-30   52.593750   54.468750   52.562500   53.593750   64363800.0  \n",
       "2000-03-31   53.093750   54.312500   51.250000   51.687500   64178400.0  \n",
       "2000-04-03   53.000000   54.125000   52.062500   53.125000   64281400.0  \n",
       "2000-04-04   47.218750   48.250000   45.000000   45.437500  260118200.0  \n",
       "2000-04-05   45.781250   46.000000   42.468750   44.281250  181244400.0  \n",
       "...                ...         ...         ...         ...          ...  \n",
       "2020-06-02  182.539993  183.000000  181.460007  182.830002   22622400.0  \n",
       "2020-06-03  184.250000  185.000000  181.350006  184.910004   30794600.0  \n",
       "2020-06-04  184.820007  185.940002  183.580002  185.360001   27311000.0  \n",
       "2020-06-05  184.300003  185.839996  182.300003  182.919998   28761800.0  \n",
       "2020-06-08  182.619995  187.729996  182.009995  187.199997   39893600.0  \n",
       "\n",
       "[5079 rows x 11 columns]"
      ]
     },
     "execution_count": 25,
     "metadata": {},
     "output_type": "execute_result"
    }
   ],
   "source": [
    "x_treino"
   ]
  },
  {
   "cell_type": "code",
   "execution_count": 26,
   "metadata": {},
   "outputs": [
    {
     "data": {
      "text/plain": [
       "array([[ 0.28234306,  0.42380325,  0.18781321, ...,  0.24671724,\n",
       "         0.26071236,  0.30086637],\n",
       "       [ 0.26384156, -0.31101364,  0.1912202 , ...,  0.20705   ,\n",
       "         0.2037284 ,  0.29497362],\n",
       "       [ 0.23994947,  0.18655982,  0.19651996, ...,  0.23160591,\n",
       "         0.24669991,  0.29824737],\n",
       "       ...,\n",
       "       [ 4.15417528,  0.85597705,  4.19006279, ...,  4.2064143 ,\n",
       "         4.19963047, -0.87682002],\n",
       "       [ 4.16503397, -0.35816589,  4.19646288, ...,  4.16772933,\n",
       "         4.12669093, -0.83070778],\n",
       "       [ 4.18949152,  0.83487808,  4.20992932, ...,  4.1589645 ,\n",
       "         4.2546339 , -0.47689459]])"
      ]
     },
     "execution_count": 26,
     "metadata": {},
     "output_type": "execute_result"
    }
   ],
   "source": [
    "x_treino_sc"
   ]
  },
  {
   "cell_type": "code",
   "execution_count": 27,
   "metadata": {
    "id": "xDqD3eTDEWvo"
   },
   "outputs": [],
   "source": [
    "# Função para ajustar o formato dos dados\n",
    "def dsa_ajusta_formato_dados(X_s, y_s, lag):\n",
    "\n",
    "    # Verifica se o comprimento de X_s é igual ao comprimento de y_s\n",
    "    if len(X_s) != len(y_s):\n",
    "        print(\"Warnings\")\n",
    "\n",
    "    # Inicializa a lista X_train\n",
    "    X_train = []\n",
    "    \n",
    "    # Itera sobre cada variável (coluna) em X_s\n",
    "    for variable in range(0, X_s.shape[1]):\n",
    "        \n",
    "        # Inicializa a lista X para a variável atual\n",
    "        X = []\n",
    "        \n",
    "        # Cria sequências de tamanho 'lag' para a variável atual\n",
    "        for i in range(lag, X_s.shape[0]):\n",
    "            X.append(X_s[i-lag:i, variable])\n",
    "        \n",
    "        # Adiciona a lista de sequências para a variável atual em X_train\n",
    "        X_train.append(X)\n",
    "    \n",
    "    # Converte X_train para um array numpy e ajusta os eixos\n",
    "    X_train, np.array(X_train)\n",
    "    X_train = np.swapaxes(np.swapaxes(X_train, 0, 1), 1, 2)\n",
    "\n",
    "    # Inicializa a lista y_train\n",
    "    y_train = []\n",
    "    \n",
    "    # Cria a lista de rótulos ajustada de acordo com 'lag'\n",
    "    for i in range(lag, y_s.shape[0]):\n",
    "        y_train.append(y_s[i, :].reshape(-1,1).transpose())\n",
    "    \n",
    "    # Concatena a lista de rótulos em um array numpy\n",
    "    y_train = np.concatenate(y_train, axis = 0)\n",
    "    \n",
    "    # Retorna X_train e y_train ajustados\n",
    "    return X_train, y_train"
   ]
  },
  {
   "cell_type": "code",
   "execution_count": 28,
   "metadata": {},
   "outputs": [],
   "source": [
    "# Valor do Lag\n",
    "lag = 15"
   ]
  },
  {
   "cell_type": "code",
   "execution_count": 29,
   "metadata": {},
   "outputs": [],
   "source": [
    "# Aplica a função nos dados de treino\n",
    "x_treino_final, y_treino_final = dsa_ajusta_formato_dados(x_treino_sc, y_treino.values, lag)"
   ]
  },
  {
   "cell_type": "code",
   "execution_count": 30,
   "metadata": {},
   "outputs": [],
   "source": [
    "# Aplica a função nos dados de validação\n",
    "x_valid_final, y_valid_final = dsa_ajusta_formato_dados(x_valid_sc, y_valid.values, lag)"
   ]
  },
  {
   "cell_type": "code",
   "execution_count": 31,
   "metadata": {
    "id": "rlJJ4cRVHshH"
   },
   "outputs": [],
   "source": [
    "# Aplica a função nos dados de teste\n",
    "x_teste_final, y_teste_final = dsa_ajusta_formato_dados(x_teste_sc, y_teste.values, lag)"
   ]
  },
  {
   "cell_type": "code",
   "execution_count": 32,
   "metadata": {
    "colab": {
     "base_uri": "https://localhost:8080/"
    },
    "id": "yCmIi9AzgpaG",
    "outputId": "eb59d9de-94d7-489f-8007-ea630a282590"
   },
   "outputs": [
    {
     "name": "stdout",
     "output_type": "stream",
     "text": [
      "Shape dos dados de treino: (5064, 15, 11)\n",
      "Shape dos dados de validação: (583, 15, 11)\n",
      "Shape dos dados de teste: (284, 15, 11)\n"
     ]
    }
   ],
   "source": [
    "print(f\"Shape dos dados de treino: {x_treino_final.shape}\")\n",
    "print(f\"Shape dos dados de validação: {x_valid_final.shape}\")\n",
    "print(f\"Shape dos dados de teste: {x_teste_final.shape}\")"
   ]
  },
  {
   "cell_type": "code",
   "execution_count": 33,
   "metadata": {},
   "outputs": [
    {
     "data": {
      "text/plain": [
       "array([[[ 2.82343062e-01,  4.23803255e-01,  1.87813208e-01, ...,\n",
       "          2.46717235e-01,  2.60712355e-01,  3.00866375e-01],\n",
       "        [ 2.63841560e-01, -3.11013636e-01,  1.91220199e-01, ...,\n",
       "          2.07049997e-01,  2.03728396e-01,  2.94973620e-01],\n",
       "        [ 2.39949475e-01,  1.86559817e-01,  1.96519961e-01, ...,\n",
       "          2.31605907e-01,  2.46699906e-01,  2.98247373e-01],\n",
       "        ...,\n",
       "        [-1.41049800e-01, -2.07226198e+00,  2.83155879e-02, ...,\n",
       "         -2.34956366e-01, -2.33460013e-01,  3.06143437e+00],\n",
       "        [-1.67386778e-01, -1.53616601e+00, -1.39090405e-04, ...,\n",
       "         -2.38734198e-01, -2.07303442e-01,  2.06196725e+00],\n",
       "        [-1.75794926e-01, -4.06171416e-01, -2.41142074e-02, ...,\n",
       "         -1.95289128e-01, -1.37241197e-01,  1.17272707e+00]],\n",
       "\n",
       "       [[ 2.63841560e-01, -3.11013636e-01,  1.91220199e-01, ...,\n",
       "          2.07049997e-01,  2.03728396e-01,  2.94973620e-01],\n",
       "        [ 2.39949475e-01,  1.86559817e-01,  1.96519961e-01, ...,\n",
       "          2.31605907e-01,  2.46699906e-01,  2.98247373e-01],\n",
       "        [ 1.44464001e-01, -1.39299714e+00,  1.89327426e-01, ...,\n",
       "          1.81583892e-02,  1.68957426e-02,  6.52272526e+00],\n",
       "        ...,\n",
       "        [-1.67386778e-01, -1.53616601e+00, -1.39090405e-04, ...,\n",
       "         -2.38734198e-01, -2.07303442e-01,  2.06196725e+00],\n",
       "        [-1.75794926e-01, -4.06171416e-01, -2.41142074e-02, ...,\n",
       "         -1.95289128e-01, -1.37241197e-01,  1.17272707e+00],\n",
       "        [-1.83372253e-01, -6.91546323e-01, -5.28843478e-02, ...,\n",
       "         -1.61288639e-01, -1.65266095e-01, -3.75824273e-02]],\n",
       "\n",
       "       [[ 2.39949475e-01,  1.86559817e-01,  1.96519961e-01, ...,\n",
       "          2.31605907e-01,  2.46699906e-01,  2.98247373e-01],\n",
       "        [ 1.44464001e-01, -1.39299714e+00,  1.89327426e-01, ...,\n",
       "          1.81583892e-02,  1.68957426e-02,  6.52272526e+00],\n",
       "        [ 8.78952543e-02, -1.51449501e+00,  1.82702723e-01, ...,\n",
       "         -5.83427121e-02, -1.76682983e-02,  4.01579998e+00],\n",
       "        ...,\n",
       "        [-1.75794926e-01, -4.06171416e-01, -2.41142074e-02, ...,\n",
       "         -1.95289128e-01, -1.37241197e-01,  1.17272707e+00],\n",
       "        [-1.83372253e-01, -6.91546323e-01, -5.28843478e-02, ...,\n",
       "         -1.61288639e-01, -1.65266095e-01, -3.75824273e-02],\n",
       "        [-1.89434632e-01, -6.28028174e-01, -7.75534814e-02, ...,\n",
       "         -1.70733219e-01, -1.61529441e-01, -7.97915863e-02]],\n",
       "\n",
       "       ...,\n",
       "\n",
       "       [[ 4.18358329e+00,  9.47836067e-02,  4.04574770e+00, ...,\n",
       "          4.16772933e+00,  4.11443460e+00, -7.26570667e-01],\n",
       "        [ 4.15913769e+00, -4.65662588e-01,  4.05832580e+00, ...,\n",
       "          3.99364653e+00,  4.03192947e+00, -3.23762433e-01],\n",
       "        [ 4.12771623e+00, -2.73938271e-01,  4.07671850e+00, ...,\n",
       "          3.96765503e+00,  4.05524614e+00, -4.13952726e-01],\n",
       "        ...,\n",
       "        [ 4.12524139e+00,  1.77031627e-01,  4.19173849e+00, ...,\n",
       "          4.11060853e+00,  4.13655575e+00, -4.05800129e-01],\n",
       "        [ 4.12147918e+00, -2.86678316e-02,  4.18800344e+00, ...,\n",
       "          4.14234241e+00,  4.12400065e+00, -1.02584250e+00],\n",
       "        [ 4.12430528e+00,  7.25549211e-01,  4.18430875e+00, ...,\n",
       "          4.13901790e+00,  4.18617861e+00, -7.66097256e-01]],\n",
       "\n",
       "       [[ 4.15913769e+00, -4.65662588e-01,  4.05832580e+00, ...,\n",
       "          3.99364653e+00,  4.03192947e+00, -3.23762433e-01],\n",
       "        [ 4.12771623e+00, -2.73938271e-01,  4.07671850e+00, ...,\n",
       "          3.96765503e+00,  4.05524614e+00, -4.13952726e-01],\n",
       "        [ 4.11901528e+00,  3.15708147e-01,  4.09410172e+00, ...,\n",
       "          4.00754916e+00,  4.13386547e+00, -2.63407785e-01],\n",
       "        ...,\n",
       "        [ 4.12147918e+00, -2.86678316e-02,  4.18800344e+00, ...,\n",
       "          4.14234241e+00,  4.12400065e+00, -1.02584250e+00],\n",
       "        [ 4.12430528e+00,  7.25549211e-01,  4.18430875e+00, ...,\n",
       "          4.13901790e+00,  4.18617861e+00, -7.66097256e-01],\n",
       "        [ 4.15417528e+00,  8.55977050e-01,  4.19006279e+00, ...,\n",
       "          4.20641430e+00,  4.19963047e+00, -8.76820017e-01]],\n",
       "\n",
       "       [[ 4.12771623e+00, -2.73938271e-01,  4.07671850e+00, ...,\n",
       "          3.96765503e+00,  4.05524614e+00, -4.13952726e-01],\n",
       "        [ 4.11901528e+00,  3.15708147e-01,  4.09410172e+00, ...,\n",
       "          4.00754916e+00,  4.13386547e+00, -2.63407785e-01],\n",
       "        [ 4.11791585e+00,  6.40060777e-01,  4.11602760e+00, ...,\n",
       "          4.21789905e+00,  4.18617861e+00, -6.24025931e-01],\n",
       "        ...,\n",
       "        [ 4.12430528e+00,  7.25549211e-01,  4.18430875e+00, ...,\n",
       "          4.13901790e+00,  4.18617861e+00, -7.66097256e-01],\n",
       "        [ 4.15417528e+00,  8.55977050e-01,  4.19006279e+00, ...,\n",
       "          4.20641430e+00,  4.19963047e+00, -8.76820017e-01],\n",
       "        [ 4.16503397e+00, -3.58165895e-01,  4.19646288e+00, ...,\n",
       "          4.16772933e+00,  4.12669093e+00, -8.30707782e-01]]])"
      ]
     },
     "execution_count": 33,
     "metadata": {},
     "output_type": "execute_result"
    }
   ],
   "source": [
    "x_treino_final"
   ]
  },
  {
   "cell_type": "markdown",
   "metadata": {},
   "source": [
    "## Construção do Modelo Temporal Fusion Transformer\n",
    "\n",
    "https://arxiv.org/abs/1912.09363"
   ]
  },
  {
   "cell_type": "code",
   "execution_count": 34,
   "metadata": {
    "id": "YZ5ltq1L397v"
   },
   "outputs": [],
   "source": [
    "# Função do transformer encoder\n",
    "def dsa_transformer_encoder(inputs, head_size, num_heads, ff_dim, dropout = 0):\n",
    "    \n",
    "    # Normaliza as entradas com camadas de normalização\n",
    "    x = layers.LayerNormalization(epsilon = 1e-6)(inputs)\n",
    "    \n",
    "    # Aplica a atenção multi-cabeça nas entradas\n",
    "    x = layers.MultiHeadAttention(key_dim = head_size, num_heads = num_heads, dropout = dropout)(x, x, x)\n",
    "    \n",
    "    # Aplica Dropout na saída da camada de atenção\n",
    "    x = layers.Dropout(dropout)(x)\n",
    "    \n",
    "    # Adiciona as entradas iniciais como conexão residual\n",
    "    res = x + inputs\n",
    "\n",
    "    # Normaliza a soma da conexão residual\n",
    "    x = layers.LayerNormalization(epsilon = 1e-6)(res)\n",
    "    \n",
    "    # Aplica uma camada convolucional com ativação ReLU\n",
    "    x = layers.Conv1D(filters = ff_dim, kernel_size = 1, activation = \"relu\")(x)\n",
    "    \n",
    "    # Aplica Dropout após a camada convolucional\n",
    "    x = layers.Dropout(dropout)(x)\n",
    "    \n",
    "    # Aplica uma segunda camada convolucional\n",
    "    x = layers.Conv1D(filters = inputs.shape[-1], kernel_size = 1)(x)\n",
    "    \n",
    "    # Retorna a soma da segunda camada convolucional com a conexão residual\n",
    "    return x + res"
   ]
  },
  {
   "cell_type": "markdown",
   "metadata": {},
   "source": [
    "Veja a definição do processo no videobook no Capítulo 14 do curso.\n",
    "\n",
    "A função dsa_transformer_encoder define um bloco de codificador de transformer, um componente-chave na arquitetura do Transformer, adaptado para utilizar camadas convolucionais em vez de camadas totalmente conectadas. Aqui está uma breve explicação de cada passo da função:\n",
    "\n",
    "**Normalização de Camada**: A função começa normalizando as entradas usando layers.LayerNormalization. A normalização é feita para estabilizar a aprendizagem, acelerando a convergência ao normalizar as saídas de cada camada para ter uma média zero e variância unitária.\n",
    "\n",
    "**Atenção Multi-Cabeça**: Em seguida, a função aplica atenção multi-cabeça (layers.MultiHeadAttention) nas entradas normalizadas. A atenção multi-cabeça permite que o modelo entenda diferentes partes da entrada simultaneamente, melhorando sua capacidade de capturar relações complexas dentro dos dados.\n",
    "\n",
    "**Dropout**: Após a atenção, um dropout é aplicado para regularizar o modelo, ajudando a prevenir o overfitting. O dropout aleatoriamente desativa uma porcentagem dos neurônios durante o treinamento, o que ajuda a tornar o modelo mais robusto.\n",
    "\n",
    "**Conexão Residual**: A saída da camada de dropout é somada com as entradas originais, formando uma conexão residual. Essa conexão ajuda a evitar o problema do desvanecimento do gradiente em redes profundas, permitindo que o gradiente flua diretamente através das camadas sem ser atenuado.\n",
    "\n",
    "**Segunda Normalização de Camada**: A soma resultante é novamente normalizada para manter as propriedades de estabilização do treinamento.\n",
    "\n",
    "**Camadas Convolucionais**: Duas camadas convolucionais são aplicadas sequencialmente. A primeira camada convolucional (Conv1D) utiliza uma função de ativação ReLU e é destinada a introduzir não-linearidades, permitindo ao modelo aprender representações mais complexas. A segunda camada convolucional transforma a saída para ter a mesma dimensão que as entradas originais.\n",
    "\n",
    "**Dropout após Convolucional**: Um segundo dropout é aplicado após a primeira camada convolucional para continuar a regularização do modelo.\n",
    "\n",
    "**Saída Final**: Finalmente, a saída da última camada convolucional é somada à conexão residual original e esse resultado é retornado como a saída do bloco do codificador. Isso completa outro passo na construção de representações profundas e ricas dos dados de entrada.\n",
    "\n",
    "https://www.researchgate.net/publication/352448180_Temporal_Fusion_Transformers_for_interpretable_multi-horizon_time_series_forecasting"
   ]
  },
  {
   "cell_type": "markdown",
   "metadata": {
    "id": "Et2peKf3Z4H_"
   },
   "source": [
    "A função abaixo é usada para construir o modelo final com LSTM, GRU e Transformer."
   ]
  },
  {
   "cell_type": "code",
   "execution_count": 35,
   "metadata": {
    "id": "HUAVPayh4MKc"
   },
   "outputs": [],
   "source": [
    "# Função de criação do modelo\n",
    "def dsa_cria_modelo(input_shape, \n",
    "                    head_size, \n",
    "                    num_heads, \n",
    "                    ff_dim, \n",
    "                    num_transformer_blocks, \n",
    "                    mlp_units, \n",
    "                    dropout = 0, \n",
    "                    mlp_dropout = 0):\n",
    "    \n",
    "    # Define a entrada do modelo com a forma especificada\n",
    "    inputs = keras.Input(shape = input_shape)\n",
    "    \n",
    "    # Inicializa a entrada do modelo na variável x\n",
    "    x = inputs\n",
    "    \n",
    "    # Adiciona uma camada LSTM com 10 unidades e retorna sequências\n",
    "    x = layers.LSTM(10, return_sequences = True)(x)\n",
    "    \n",
    "    # Adiciona blocos de transformer ao modelo\n",
    "    for _ in range(num_transformer_blocks):\n",
    "        x = dsa_transformer_encoder(x, head_size, num_heads, ff_dim, dropout)\n",
    "    \n",
    "    # Adiciona uma camada GRU com 100 unidades e não retorna sequências\n",
    "    x = layers.GRU(100, return_sequences = False)(x)\n",
    "    \n",
    "    # Adiciona uma camada Dropout com a taxa especificada\n",
    "    x = layers.Dropout(mlp_dropout)(x)\n",
    "    \n",
    "    # Adiciona uma camada densa com unidades especificadas e ativação ReLU\n",
    "    x = layers.Dense(mlp_units, activation = \"relu\")(x)\n",
    "    \n",
    "    # Define a camada de saída com 1 unidade (saída do modelo)\n",
    "    outputs = layers.Dense(1)(x)\n",
    "    \n",
    "    # Retorna o modelo criado com as entradas e saídas definidas\n",
    "    return keras.Model(inputs, outputs)"
   ]
  },
  {
   "cell_type": "markdown",
   "metadata": {},
   "source": [
    "Veja a definição do processo no videobook no Capítulo 14 do curso.\n",
    "\n",
    "A função dsa_cria_modelo é responsável por construir um modelo de Deep Learning que combina diferentes tipos de camadas, incluindo LSTM, GRU e blocos do Transformer, para processar sequências temporais. Aqui está uma explicação detalhada de cada parte da função:\n",
    "\n",
    "**Entrada do Modelo**: A função inicia definindo a entrada do modelo utilizando keras.Input, que especifica a forma (shape) dos dados de entrada que o modelo espera.\n",
    "\n",
    "**Camada LSTM**: Após definir a entrada, a função adiciona uma camada LSTM (layers.LSTM) com 10 unidades. A opção return_sequences=True indica que a camada deve retornar a sequência completa de saídas para todas as unidades de tempo, o que é necessário para conectar a saída desta camada a outras que também operam em sequências.\n",
    "\n",
    "**Blocos de Transformer**: A função então entra em um loop para adicionar um número especificado de blocos de Transformer (num_transformer_blocks) ao modelo. Cada bloco é adicionado chamando a função dsa_transformer_encoder, que aplica um conjunto de operações, incluindo atenção multi-cabeça e convoluções, para processar e transformar a sequência de entrada.\n",
    "\n",
    "**Camada GRU**: Após os blocos de Transformer, a função adiciona uma camada GRU (layers.GRU) com 100 unidades. Diferente da LSTM, return_sequences=False é usado aqui, o que significa que apenas a saída do último passo temporal é retornada. Isso é útil para tarefas onde o resultado final depende de uma compreensão global da sequência inteira.\n",
    "\n",
    "**Dropout**: Um dropout (layers.Dropout) é então aplicado para ajudar a prevenir o overfitting, usando a taxa de dropout especificada em mlp_dropout. O dropout desativa aleatoriamente uma porção dos neurônios durante o treinamento, o que ajuda a fazer o modelo ser mais robusto e menos propenso a memorizar os dados de treinamento.\n",
    "\n",
    "**Camada Densa com Ativação ReLU**: Uma camada densa (layers.Dense) com um número de unidades especificado em mlp_units e ativação ReLU é adicionada. Esta camada densa serve para consolidar as informações aprendidas pelas camadas anteriores em um formato mais compacto e é comumente usada para introduzir não-linearidades adicionais ao modelo.\n",
    "\n",
    "**Camada de Saída**: Finalmente, uma camada densa com uma única unidade é adicionada como a camada de saída do modelo. Esta camada não especifica uma função de ativação, indicando que ela é destinada a uma tarefa de regressão.\n",
    "\n",
    "**Construção do Modelo**: A função conclui retornando o modelo composto pelas entradas e saídas definidas, usando keras.Model. Isso encapsula toda a arquitetura em um objeto que pode ser treinado e utilizado para fazer previsões."
   ]
  },
  {
   "cell_type": "code",
   "execution_count": 36,
   "metadata": {},
   "outputs": [],
   "source": [
    "# Shape de entrada\n",
    "input_shape = x_treino_final.shape[1:]"
   ]
  },
  {
   "cell_type": "code",
   "execution_count": 37,
   "metadata": {},
   "outputs": [],
   "source": [
    "# Cria o modelo\n",
    "modelo_dsa = dsa_cria_modelo(input_shape,\n",
    "                             head_size = 16,\n",
    "                             num_heads = 1,\n",
    "                             ff_dim = 4,\n",
    "                             num_transformer_blocks = 1,\n",
    "                             mlp_units = 125,\n",
    "                             dropout = 0.1,\n",
    "                             mlp_dropout = 0.25)"
   ]
  },
  {
   "cell_type": "code",
   "execution_count": 38,
   "metadata": {},
   "outputs": [],
   "source": [
    "# Compila o modelo\n",
    "modelo_dsa.compile(loss = \"mean_squared_error\", optimizer = keras.optimizers.Adam())"
   ]
  },
  {
   "cell_type": "code",
   "execution_count": 39,
   "metadata": {},
   "outputs": [
    {
     "data": {
      "text/html": [
       "<pre style=\"white-space:pre;overflow-x:auto;line-height:normal;font-family:Menlo,'DejaVu Sans Mono',consolas,'Courier New',monospace\"><span style=\"font-weight: bold\">Model: \"functional\"</span>\n",
       "</pre>\n"
      ],
      "text/plain": [
       "\u001b[1mModel: \"functional\"\u001b[0m\n"
      ]
     },
     "metadata": {},
     "output_type": "display_data"
    },
    {
     "data": {
      "text/html": [
       "<pre style=\"white-space:pre;overflow-x:auto;line-height:normal;font-family:Menlo,'DejaVu Sans Mono',consolas,'Courier New',monospace\">┏━━━━━━━━━━━━━━━━━━━━━┳━━━━━━━━━━━━━━━━━━━┳━━━━━━━━━━━━┳━━━━━━━━━━━━━━━━━━━┓\n",
       "┃<span style=\"font-weight: bold\"> Layer (type)        </span>┃<span style=\"font-weight: bold\"> Output Shape      </span>┃<span style=\"font-weight: bold\">    Param # </span>┃<span style=\"font-weight: bold\"> Connected to      </span>┃\n",
       "┡━━━━━━━━━━━━━━━━━━━━━╇━━━━━━━━━━━━━━━━━━━╇━━━━━━━━━━━━╇━━━━━━━━━━━━━━━━━━━┩\n",
       "│ input_layer         │ (<span style=\"color: #00d7ff; text-decoration-color: #00d7ff\">None</span>, <span style=\"color: #00af00; text-decoration-color: #00af00\">15</span>, <span style=\"color: #00af00; text-decoration-color: #00af00\">11</span>)    │          <span style=\"color: #00af00; text-decoration-color: #00af00\">0</span> │ -                 │\n",
       "│ (<span style=\"color: #0087ff; text-decoration-color: #0087ff\">InputLayer</span>)        │                   │            │                   │\n",
       "├─────────────────────┼───────────────────┼────────────┼───────────────────┤\n",
       "│ lstm (<span style=\"color: #0087ff; text-decoration-color: #0087ff\">LSTM</span>)         │ (<span style=\"color: #00d7ff; text-decoration-color: #00d7ff\">None</span>, <span style=\"color: #00af00; text-decoration-color: #00af00\">15</span>, <span style=\"color: #00af00; text-decoration-color: #00af00\">10</span>)    │        <span style=\"color: #00af00; text-decoration-color: #00af00\">880</span> │ input_layer[<span style=\"color: #00af00; text-decoration-color: #00af00\">0</span>][<span style=\"color: #00af00; text-decoration-color: #00af00\">0</span>] │\n",
       "├─────────────────────┼───────────────────┼────────────┼───────────────────┤\n",
       "│ layer_normalization │ (<span style=\"color: #00d7ff; text-decoration-color: #00d7ff\">None</span>, <span style=\"color: #00af00; text-decoration-color: #00af00\">15</span>, <span style=\"color: #00af00; text-decoration-color: #00af00\">10</span>)    │         <span style=\"color: #00af00; text-decoration-color: #00af00\">20</span> │ lstm[<span style=\"color: #00af00; text-decoration-color: #00af00\">0</span>][<span style=\"color: #00af00; text-decoration-color: #00af00\">0</span>]        │\n",
       "│ (<span style=\"color: #0087ff; text-decoration-color: #0087ff\">LayerNormalizatio…</span> │                   │            │                   │\n",
       "├─────────────────────┼───────────────────┼────────────┼───────────────────┤\n",
       "│ multi_head_attenti… │ (<span style=\"color: #00d7ff; text-decoration-color: #00d7ff\">None</span>, <span style=\"color: #00af00; text-decoration-color: #00af00\">15</span>, <span style=\"color: #00af00; text-decoration-color: #00af00\">10</span>)    │        <span style=\"color: #00af00; text-decoration-color: #00af00\">698</span> │ layer_normalizat… │\n",
       "│ (<span style=\"color: #0087ff; text-decoration-color: #0087ff\">MultiHeadAttentio…</span> │                   │            │ layer_normalizat… │\n",
       "│                     │                   │            │ layer_normalizat… │\n",
       "├─────────────────────┼───────────────────┼────────────┼───────────────────┤\n",
       "│ dropout_1 (<span style=\"color: #0087ff; text-decoration-color: #0087ff\">Dropout</span>) │ (<span style=\"color: #00d7ff; text-decoration-color: #00d7ff\">None</span>, <span style=\"color: #00af00; text-decoration-color: #00af00\">15</span>, <span style=\"color: #00af00; text-decoration-color: #00af00\">10</span>)    │          <span style=\"color: #00af00; text-decoration-color: #00af00\">0</span> │ multi_head_atten… │\n",
       "├─────────────────────┼───────────────────┼────────────┼───────────────────┤\n",
       "│ add (<span style=\"color: #0087ff; text-decoration-color: #0087ff\">Add</span>)           │ (<span style=\"color: #00d7ff; text-decoration-color: #00d7ff\">None</span>, <span style=\"color: #00af00; text-decoration-color: #00af00\">15</span>, <span style=\"color: #00af00; text-decoration-color: #00af00\">10</span>)    │          <span style=\"color: #00af00; text-decoration-color: #00af00\">0</span> │ dropout_1[<span style=\"color: #00af00; text-decoration-color: #00af00\">0</span>][<span style=\"color: #00af00; text-decoration-color: #00af00\">0</span>],  │\n",
       "│                     │                   │            │ lstm[<span style=\"color: #00af00; text-decoration-color: #00af00\">0</span>][<span style=\"color: #00af00; text-decoration-color: #00af00\">0</span>]        │\n",
       "├─────────────────────┼───────────────────┼────────────┼───────────────────┤\n",
       "│ layer_normalizatio… │ (<span style=\"color: #00d7ff; text-decoration-color: #00d7ff\">None</span>, <span style=\"color: #00af00; text-decoration-color: #00af00\">15</span>, <span style=\"color: #00af00; text-decoration-color: #00af00\">10</span>)    │         <span style=\"color: #00af00; text-decoration-color: #00af00\">20</span> │ add[<span style=\"color: #00af00; text-decoration-color: #00af00\">0</span>][<span style=\"color: #00af00; text-decoration-color: #00af00\">0</span>]         │\n",
       "│ (<span style=\"color: #0087ff; text-decoration-color: #0087ff\">LayerNormalizatio…</span> │                   │            │                   │\n",
       "├─────────────────────┼───────────────────┼────────────┼───────────────────┤\n",
       "│ conv1d (<span style=\"color: #0087ff; text-decoration-color: #0087ff\">Conv1D</span>)     │ (<span style=\"color: #00d7ff; text-decoration-color: #00d7ff\">None</span>, <span style=\"color: #00af00; text-decoration-color: #00af00\">15</span>, <span style=\"color: #00af00; text-decoration-color: #00af00\">4</span>)     │         <span style=\"color: #00af00; text-decoration-color: #00af00\">44</span> │ layer_normalizat… │\n",
       "├─────────────────────┼───────────────────┼────────────┼───────────────────┤\n",
       "│ dropout_2 (<span style=\"color: #0087ff; text-decoration-color: #0087ff\">Dropout</span>) │ (<span style=\"color: #00d7ff; text-decoration-color: #00d7ff\">None</span>, <span style=\"color: #00af00; text-decoration-color: #00af00\">15</span>, <span style=\"color: #00af00; text-decoration-color: #00af00\">4</span>)     │          <span style=\"color: #00af00; text-decoration-color: #00af00\">0</span> │ conv1d[<span style=\"color: #00af00; text-decoration-color: #00af00\">0</span>][<span style=\"color: #00af00; text-decoration-color: #00af00\">0</span>]      │\n",
       "├─────────────────────┼───────────────────┼────────────┼───────────────────┤\n",
       "│ conv1d_1 (<span style=\"color: #0087ff; text-decoration-color: #0087ff\">Conv1D</span>)   │ (<span style=\"color: #00d7ff; text-decoration-color: #00d7ff\">None</span>, <span style=\"color: #00af00; text-decoration-color: #00af00\">15</span>, <span style=\"color: #00af00; text-decoration-color: #00af00\">10</span>)    │         <span style=\"color: #00af00; text-decoration-color: #00af00\">50</span> │ dropout_2[<span style=\"color: #00af00; text-decoration-color: #00af00\">0</span>][<span style=\"color: #00af00; text-decoration-color: #00af00\">0</span>]   │\n",
       "├─────────────────────┼───────────────────┼────────────┼───────────────────┤\n",
       "│ add_1 (<span style=\"color: #0087ff; text-decoration-color: #0087ff\">Add</span>)         │ (<span style=\"color: #00d7ff; text-decoration-color: #00d7ff\">None</span>, <span style=\"color: #00af00; text-decoration-color: #00af00\">15</span>, <span style=\"color: #00af00; text-decoration-color: #00af00\">10</span>)    │          <span style=\"color: #00af00; text-decoration-color: #00af00\">0</span> │ conv1d_1[<span style=\"color: #00af00; text-decoration-color: #00af00\">0</span>][<span style=\"color: #00af00; text-decoration-color: #00af00\">0</span>],   │\n",
       "│                     │                   │            │ add[<span style=\"color: #00af00; text-decoration-color: #00af00\">0</span>][<span style=\"color: #00af00; text-decoration-color: #00af00\">0</span>]         │\n",
       "├─────────────────────┼───────────────────┼────────────┼───────────────────┤\n",
       "│ gru (<span style=\"color: #0087ff; text-decoration-color: #0087ff\">GRU</span>)           │ (<span style=\"color: #00d7ff; text-decoration-color: #00d7ff\">None</span>, <span style=\"color: #00af00; text-decoration-color: #00af00\">100</span>)       │     <span style=\"color: #00af00; text-decoration-color: #00af00\">33,600</span> │ add_1[<span style=\"color: #00af00; text-decoration-color: #00af00\">0</span>][<span style=\"color: #00af00; text-decoration-color: #00af00\">0</span>]       │\n",
       "├─────────────────────┼───────────────────┼────────────┼───────────────────┤\n",
       "│ dropout_3 (<span style=\"color: #0087ff; text-decoration-color: #0087ff\">Dropout</span>) │ (<span style=\"color: #00d7ff; text-decoration-color: #00d7ff\">None</span>, <span style=\"color: #00af00; text-decoration-color: #00af00\">100</span>)       │          <span style=\"color: #00af00; text-decoration-color: #00af00\">0</span> │ gru[<span style=\"color: #00af00; text-decoration-color: #00af00\">0</span>][<span style=\"color: #00af00; text-decoration-color: #00af00\">0</span>]         │\n",
       "├─────────────────────┼───────────────────┼────────────┼───────────────────┤\n",
       "│ dense (<span style=\"color: #0087ff; text-decoration-color: #0087ff\">Dense</span>)       │ (<span style=\"color: #00d7ff; text-decoration-color: #00d7ff\">None</span>, <span style=\"color: #00af00; text-decoration-color: #00af00\">125</span>)       │     <span style=\"color: #00af00; text-decoration-color: #00af00\">12,625</span> │ dropout_3[<span style=\"color: #00af00; text-decoration-color: #00af00\">0</span>][<span style=\"color: #00af00; text-decoration-color: #00af00\">0</span>]   │\n",
       "├─────────────────────┼───────────────────┼────────────┼───────────────────┤\n",
       "│ dense_1 (<span style=\"color: #0087ff; text-decoration-color: #0087ff\">Dense</span>)     │ (<span style=\"color: #00d7ff; text-decoration-color: #00d7ff\">None</span>, <span style=\"color: #00af00; text-decoration-color: #00af00\">1</span>)         │        <span style=\"color: #00af00; text-decoration-color: #00af00\">126</span> │ dense[<span style=\"color: #00af00; text-decoration-color: #00af00\">0</span>][<span style=\"color: #00af00; text-decoration-color: #00af00\">0</span>]       │\n",
       "└─────────────────────┴───────────────────┴────────────┴───────────────────┘\n",
       "</pre>\n"
      ],
      "text/plain": [
       "┏━━━━━━━━━━━━━━━━━━━━━┳━━━━━━━━━━━━━━━━━━━┳━━━━━━━━━━━━┳━━━━━━━━━━━━━━━━━━━┓\n",
       "┃\u001b[1m \u001b[0m\u001b[1mLayer (type)       \u001b[0m\u001b[1m \u001b[0m┃\u001b[1m \u001b[0m\u001b[1mOutput Shape     \u001b[0m\u001b[1m \u001b[0m┃\u001b[1m \u001b[0m\u001b[1m   Param #\u001b[0m\u001b[1m \u001b[0m┃\u001b[1m \u001b[0m\u001b[1mConnected to     \u001b[0m\u001b[1m \u001b[0m┃\n",
       "┡━━━━━━━━━━━━━━━━━━━━━╇━━━━━━━━━━━━━━━━━━━╇━━━━━━━━━━━━╇━━━━━━━━━━━━━━━━━━━┩\n",
       "│ input_layer         │ (\u001b[38;5;45mNone\u001b[0m, \u001b[38;5;34m15\u001b[0m, \u001b[38;5;34m11\u001b[0m)    │          \u001b[38;5;34m0\u001b[0m │ -                 │\n",
       "│ (\u001b[38;5;33mInputLayer\u001b[0m)        │                   │            │                   │\n",
       "├─────────────────────┼───────────────────┼────────────┼───────────────────┤\n",
       "│ lstm (\u001b[38;5;33mLSTM\u001b[0m)         │ (\u001b[38;5;45mNone\u001b[0m, \u001b[38;5;34m15\u001b[0m, \u001b[38;5;34m10\u001b[0m)    │        \u001b[38;5;34m880\u001b[0m │ input_layer[\u001b[38;5;34m0\u001b[0m][\u001b[38;5;34m0\u001b[0m] │\n",
       "├─────────────────────┼───────────────────┼────────────┼───────────────────┤\n",
       "│ layer_normalization │ (\u001b[38;5;45mNone\u001b[0m, \u001b[38;5;34m15\u001b[0m, \u001b[38;5;34m10\u001b[0m)    │         \u001b[38;5;34m20\u001b[0m │ lstm[\u001b[38;5;34m0\u001b[0m][\u001b[38;5;34m0\u001b[0m]        │\n",
       "│ (\u001b[38;5;33mLayerNormalizatio…\u001b[0m │                   │            │                   │\n",
       "├─────────────────────┼───────────────────┼────────────┼───────────────────┤\n",
       "│ multi_head_attenti… │ (\u001b[38;5;45mNone\u001b[0m, \u001b[38;5;34m15\u001b[0m, \u001b[38;5;34m10\u001b[0m)    │        \u001b[38;5;34m698\u001b[0m │ layer_normalizat… │\n",
       "│ (\u001b[38;5;33mMultiHeadAttentio…\u001b[0m │                   │            │ layer_normalizat… │\n",
       "│                     │                   │            │ layer_normalizat… │\n",
       "├─────────────────────┼───────────────────┼────────────┼───────────────────┤\n",
       "│ dropout_1 (\u001b[38;5;33mDropout\u001b[0m) │ (\u001b[38;5;45mNone\u001b[0m, \u001b[38;5;34m15\u001b[0m, \u001b[38;5;34m10\u001b[0m)    │          \u001b[38;5;34m0\u001b[0m │ multi_head_atten… │\n",
       "├─────────────────────┼───────────────────┼────────────┼───────────────────┤\n",
       "│ add (\u001b[38;5;33mAdd\u001b[0m)           │ (\u001b[38;5;45mNone\u001b[0m, \u001b[38;5;34m15\u001b[0m, \u001b[38;5;34m10\u001b[0m)    │          \u001b[38;5;34m0\u001b[0m │ dropout_1[\u001b[38;5;34m0\u001b[0m][\u001b[38;5;34m0\u001b[0m],  │\n",
       "│                     │                   │            │ lstm[\u001b[38;5;34m0\u001b[0m][\u001b[38;5;34m0\u001b[0m]        │\n",
       "├─────────────────────┼───────────────────┼────────────┼───────────────────┤\n",
       "│ layer_normalizatio… │ (\u001b[38;5;45mNone\u001b[0m, \u001b[38;5;34m15\u001b[0m, \u001b[38;5;34m10\u001b[0m)    │         \u001b[38;5;34m20\u001b[0m │ add[\u001b[38;5;34m0\u001b[0m][\u001b[38;5;34m0\u001b[0m]         │\n",
       "│ (\u001b[38;5;33mLayerNormalizatio…\u001b[0m │                   │            │                   │\n",
       "├─────────────────────┼───────────────────┼────────────┼───────────────────┤\n",
       "│ conv1d (\u001b[38;5;33mConv1D\u001b[0m)     │ (\u001b[38;5;45mNone\u001b[0m, \u001b[38;5;34m15\u001b[0m, \u001b[38;5;34m4\u001b[0m)     │         \u001b[38;5;34m44\u001b[0m │ layer_normalizat… │\n",
       "├─────────────────────┼───────────────────┼────────────┼───────────────────┤\n",
       "│ dropout_2 (\u001b[38;5;33mDropout\u001b[0m) │ (\u001b[38;5;45mNone\u001b[0m, \u001b[38;5;34m15\u001b[0m, \u001b[38;5;34m4\u001b[0m)     │          \u001b[38;5;34m0\u001b[0m │ conv1d[\u001b[38;5;34m0\u001b[0m][\u001b[38;5;34m0\u001b[0m]      │\n",
       "├─────────────────────┼───────────────────┼────────────┼───────────────────┤\n",
       "│ conv1d_1 (\u001b[38;5;33mConv1D\u001b[0m)   │ (\u001b[38;5;45mNone\u001b[0m, \u001b[38;5;34m15\u001b[0m, \u001b[38;5;34m10\u001b[0m)    │         \u001b[38;5;34m50\u001b[0m │ dropout_2[\u001b[38;5;34m0\u001b[0m][\u001b[38;5;34m0\u001b[0m]   │\n",
       "├─────────────────────┼───────────────────┼────────────┼───────────────────┤\n",
       "│ add_1 (\u001b[38;5;33mAdd\u001b[0m)         │ (\u001b[38;5;45mNone\u001b[0m, \u001b[38;5;34m15\u001b[0m, \u001b[38;5;34m10\u001b[0m)    │          \u001b[38;5;34m0\u001b[0m │ conv1d_1[\u001b[38;5;34m0\u001b[0m][\u001b[38;5;34m0\u001b[0m],   │\n",
       "│                     │                   │            │ add[\u001b[38;5;34m0\u001b[0m][\u001b[38;5;34m0\u001b[0m]         │\n",
       "├─────────────────────┼───────────────────┼────────────┼───────────────────┤\n",
       "│ gru (\u001b[38;5;33mGRU\u001b[0m)           │ (\u001b[38;5;45mNone\u001b[0m, \u001b[38;5;34m100\u001b[0m)       │     \u001b[38;5;34m33,600\u001b[0m │ add_1[\u001b[38;5;34m0\u001b[0m][\u001b[38;5;34m0\u001b[0m]       │\n",
       "├─────────────────────┼───────────────────┼────────────┼───────────────────┤\n",
       "│ dropout_3 (\u001b[38;5;33mDropout\u001b[0m) │ (\u001b[38;5;45mNone\u001b[0m, \u001b[38;5;34m100\u001b[0m)       │          \u001b[38;5;34m0\u001b[0m │ gru[\u001b[38;5;34m0\u001b[0m][\u001b[38;5;34m0\u001b[0m]         │\n",
       "├─────────────────────┼───────────────────┼────────────┼───────────────────┤\n",
       "│ dense (\u001b[38;5;33mDense\u001b[0m)       │ (\u001b[38;5;45mNone\u001b[0m, \u001b[38;5;34m125\u001b[0m)       │     \u001b[38;5;34m12,625\u001b[0m │ dropout_3[\u001b[38;5;34m0\u001b[0m][\u001b[38;5;34m0\u001b[0m]   │\n",
       "├─────────────────────┼───────────────────┼────────────┼───────────────────┤\n",
       "│ dense_1 (\u001b[38;5;33mDense\u001b[0m)     │ (\u001b[38;5;45mNone\u001b[0m, \u001b[38;5;34m1\u001b[0m)         │        \u001b[38;5;34m126\u001b[0m │ dense[\u001b[38;5;34m0\u001b[0m][\u001b[38;5;34m0\u001b[0m]       │\n",
       "└─────────────────────┴───────────────────┴────────────┴───────────────────┘\n"
      ]
     },
     "metadata": {},
     "output_type": "display_data"
    },
    {
     "data": {
      "text/html": [
       "<pre style=\"white-space:pre;overflow-x:auto;line-height:normal;font-family:Menlo,'DejaVu Sans Mono',consolas,'Courier New',monospace\"><span style=\"font-weight: bold\"> Total params: </span><span style=\"color: #00af00; text-decoration-color: #00af00\">48,063</span> (187.75 KB)\n",
       "</pre>\n"
      ],
      "text/plain": [
       "\u001b[1m Total params: \u001b[0m\u001b[38;5;34m48,063\u001b[0m (187.75 KB)\n"
      ]
     },
     "metadata": {},
     "output_type": "display_data"
    },
    {
     "data": {
      "text/html": [
       "<pre style=\"white-space:pre;overflow-x:auto;line-height:normal;font-family:Menlo,'DejaVu Sans Mono',consolas,'Courier New',monospace\"><span style=\"font-weight: bold\"> Trainable params: </span><span style=\"color: #00af00; text-decoration-color: #00af00\">48,063</span> (187.75 KB)\n",
       "</pre>\n"
      ],
      "text/plain": [
       "\u001b[1m Trainable params: \u001b[0m\u001b[38;5;34m48,063\u001b[0m (187.75 KB)\n"
      ]
     },
     "metadata": {},
     "output_type": "display_data"
    },
    {
     "data": {
      "text/html": [
       "<pre style=\"white-space:pre;overflow-x:auto;line-height:normal;font-family:Menlo,'DejaVu Sans Mono',consolas,'Courier New',monospace\"><span style=\"font-weight: bold\"> Non-trainable params: </span><span style=\"color: #00af00; text-decoration-color: #00af00\">0</span> (0.00 B)\n",
       "</pre>\n"
      ],
      "text/plain": [
       "\u001b[1m Non-trainable params: \u001b[0m\u001b[38;5;34m0\u001b[0m (0.00 B)\n"
      ]
     },
     "metadata": {},
     "output_type": "display_data"
    }
   ],
   "source": [
    "modelo_dsa.summary()"
   ]
  },
  {
   "cell_type": "code",
   "execution_count": 40,
   "metadata": {},
   "outputs": [],
   "source": [
    "# Callbacks\n",
    "callbacks = [keras.callbacks.EarlyStopping(patience = 5, restore_best_weights = True)]"
   ]
  },
  {
   "cell_type": "markdown",
   "metadata": {},
   "source": [
    "## Treinamento e Avaliação do modelo"
   ]
  },
  {
   "cell_type": "code",
   "execution_count": 41,
   "metadata": {
    "colab": {
     "base_uri": "https://localhost:8080/"
    },
    "id": "ZzacEsJip2uB",
    "outputId": "7091065d-1184-48dc-e52d-fc3f28cde029"
   },
   "outputs": [
    {
     "name": "stdout",
     "output_type": "stream",
     "text": [
      "Epoch 1/20\n",
      "\u001b[1m80/80\u001b[0m \u001b[32m━━━━━━━━━━━━━━━━━━━━\u001b[0m\u001b[37m\u001b[0m \u001b[1m2s\u001b[0m 8ms/step - loss: 0.0167 - val_loss: 4.8495e-04\n",
      "Epoch 2/20\n",
      "\u001b[1m80/80\u001b[0m \u001b[32m━━━━━━━━━━━━━━━━━━━━\u001b[0m\u001b[37m\u001b[0m \u001b[1m1s\u001b[0m 7ms/step - loss: 9.8356e-04 - val_loss: 7.0926e-04\n",
      "Epoch 3/20\n",
      "\u001b[1m80/80\u001b[0m \u001b[32m━━━━━━━━━━━━━━━━━━━━\u001b[0m\u001b[37m\u001b[0m \u001b[1m1s\u001b[0m 7ms/step - loss: 7.0672e-04 - val_loss: 6.6357e-04\n",
      "Epoch 4/20\n",
      "\u001b[1m80/80\u001b[0m \u001b[32m━━━━━━━━━━━━━━━━━━━━\u001b[0m\u001b[37m\u001b[0m \u001b[1m1s\u001b[0m 7ms/step - loss: 6.8066e-04 - val_loss: 5.6324e-04\n",
      "Epoch 5/20\n",
      "\u001b[1m80/80\u001b[0m \u001b[32m━━━━━━━━━━━━━━━━━━━━\u001b[0m\u001b[37m\u001b[0m \u001b[1m1s\u001b[0m 7ms/step - loss: 5.2580e-04 - val_loss: 3.7201e-04\n",
      "Epoch 6/20\n",
      "\u001b[1m80/80\u001b[0m \u001b[32m━━━━━━━━━━━━━━━━━━━━\u001b[0m\u001b[37m\u001b[0m \u001b[1m1s\u001b[0m 7ms/step - loss: 4.7849e-04 - val_loss: 3.5161e-04\n",
      "Epoch 7/20\n",
      "\u001b[1m80/80\u001b[0m \u001b[32m━━━━━━━━━━━━━━━━━━━━\u001b[0m\u001b[37m\u001b[0m \u001b[1m1s\u001b[0m 7ms/step - loss: 4.7743e-04 - val_loss: 3.6783e-04\n",
      "Epoch 8/20\n",
      "\u001b[1m80/80\u001b[0m \u001b[32m━━━━━━━━━━━━━━━━━━━━\u001b[0m\u001b[37m\u001b[0m \u001b[1m1s\u001b[0m 7ms/step - loss: 5.0265e-04 - val_loss: 3.3110e-04\n",
      "Epoch 9/20\n",
      "\u001b[1m80/80\u001b[0m \u001b[32m━━━━━━━━━━━━━━━━━━━━\u001b[0m\u001b[37m\u001b[0m \u001b[1m1s\u001b[0m 7ms/step - loss: 4.7999e-04 - val_loss: 3.2870e-04\n",
      "Epoch 10/20\n",
      "\u001b[1m80/80\u001b[0m \u001b[32m━━━━━━━━━━━━━━━━━━━━\u001b[0m\u001b[37m\u001b[0m \u001b[1m1s\u001b[0m 8ms/step - loss: 4.4057e-04 - val_loss: 3.2458e-04\n",
      "Epoch 11/20\n",
      "\u001b[1m80/80\u001b[0m \u001b[32m━━━━━━━━━━━━━━━━━━━━\u001b[0m\u001b[37m\u001b[0m \u001b[1m1s\u001b[0m 7ms/step - loss: 4.3781e-04 - val_loss: 3.1577e-04\n",
      "Epoch 12/20\n",
      "\u001b[1m80/80\u001b[0m \u001b[32m━━━━━━━━━━━━━━━━━━━━\u001b[0m\u001b[37m\u001b[0m \u001b[1m1s\u001b[0m 7ms/step - loss: 4.2540e-04 - val_loss: 3.1530e-04\n",
      "Epoch 13/20\n",
      "\u001b[1m80/80\u001b[0m \u001b[32m━━━━━━━━━━━━━━━━━━━━\u001b[0m\u001b[37m\u001b[0m \u001b[1m1s\u001b[0m 7ms/step - loss: 4.2182e-04 - val_loss: 3.3977e-04\n",
      "Epoch 14/20\n",
      "\u001b[1m80/80\u001b[0m \u001b[32m━━━━━━━━━━━━━━━━━━━━\u001b[0m\u001b[37m\u001b[0m \u001b[1m1s\u001b[0m 7ms/step - loss: 4.0836e-04 - val_loss: 3.5793e-04\n",
      "Epoch 15/20\n",
      "\u001b[1m80/80\u001b[0m \u001b[32m━━━━━━━━━━━━━━━━━━━━\u001b[0m\u001b[37m\u001b[0m \u001b[1m1s\u001b[0m 7ms/step - loss: 4.4699e-04 - val_loss: 3.5236e-04\n",
      "Epoch 16/20\n",
      "\u001b[1m80/80\u001b[0m \u001b[32m━━━━━━━━━━━━━━━━━━━━\u001b[0m\u001b[37m\u001b[0m \u001b[1m1s\u001b[0m 7ms/step - loss: 4.3322e-04 - val_loss: 3.4323e-04\n",
      "Epoch 17/20\n",
      "\u001b[1m80/80\u001b[0m \u001b[32m━━━━━━━━━━━━━━━━━━━━\u001b[0m\u001b[37m\u001b[0m \u001b[1m1s\u001b[0m 7ms/step - loss: 4.0932e-04 - val_loss: 3.3347e-04\n",
      "CPU times: user 11.5 s, sys: 3.65 s, total: 15.1 s\n",
      "Wall time: 10.6 s\n"
     ]
    },
    {
     "data": {
      "text/plain": [
       "<keras.src.callbacks.history.History at 0x16bcd5b50>"
      ]
     },
     "execution_count": 41,
     "metadata": {},
     "output_type": "execute_result"
    }
   ],
   "source": [
    "%%time\n",
    "\n",
    "modelo_dsa.fit(x_treino_final,\n",
    "               y_treino_final,\n",
    "               validation_data = (x_valid_final, y_valid_final),\n",
    "               epochs = 20,\n",
    "               batch_size = 64,\n",
    "               callbacks = callbacks)"
   ]
  },
  {
   "cell_type": "code",
   "execution_count": 42,
   "metadata": {
    "colab": {
     "base_uri": "https://localhost:8080/",
     "height": 364
    },
    "id": "BfM3jqhSI5Ns",
    "outputId": "71b8773f-167f-4928-a5c6-d14f5fb04d95"
   },
   "outputs": [
    {
     "data": {
      "text/plain": [
       "<Axes: >"
      ]
     },
     "execution_count": 42,
     "metadata": {},
     "output_type": "execute_result"
    },
    {
     "data": {
      "image/png": "[encoded data removed]",
      "text/plain": [
       "<Figure size 640x480 with 1 Axes>"
      ]
     },
     "metadata": {},
     "output_type": "display_data"
    }
   ],
   "source": [
    "# Plot\n",
    "pd.DataFrame(modelo_dsa.history.history).plot()"
   ]
  },
  {
   "cell_type": "code",
   "execution_count": 43,
   "metadata": {},
   "outputs": [
    {
     "name": "stdout",
     "output_type": "stream",
     "text": [
      "\u001b[1m9/9\u001b[0m \u001b[32m━━━━━━━━━━━━━━━━━━━━\u001b[0m\u001b[37m\u001b[0m \u001b[1m0s\u001b[0m 13ms/step\n"
     ]
    }
   ],
   "source": [
    "# Previsões\n",
    "pred = modelo_dsa.predict(x_teste_final)"
   ]
  },
  {
   "cell_type": "code",
   "execution_count": 44,
   "metadata": {},
   "outputs": [],
   "source": [
    "# Calcula o score\n",
    "score = np.sqrt(metrics.mean_squared_error(pred, y_teste_final))"
   ]
  },
  {
   "cell_type": "code",
   "execution_count": 45,
   "metadata": {
    "colab": {
     "base_uri": "https://localhost:8080/"
    },
    "id": "DqiV9Oq2p2uB",
    "outputId": "3d8db221-9b40-4b5f-86d5-b2296060bc29"
   },
   "outputs": [
    {
     "name": "stdout",
     "output_type": "stream",
     "text": [
      "Score (RMSE): 0.016347729300526484\n"
     ]
    }
   ],
   "source": [
    "print(\"Score (RMSE): {}\".format(score))"
   ]
  },
  {
   "cell_type": "markdown",
   "metadata": {},
   "source": [
    "## Previsões e Cálculo do Retorno\n",
    "\n",
    "A linha de código abaixo está realizando a seguinte operação:\n",
    "\n",
    "- Está prevendo valores para a entrada x_treino_final. Essa previsão retorna um array NumPy.\n",
    "\n",
    "- Está criando um array NumPy de zeros com dimensões [lag,1]. A variável lag é geralmente um número inteiro que se refere a um período de atraso ou defasagem (por exemplo, se você está trabalhando com séries temporais e deseja considerar os 5 valores anteriores, o lag seria 5).\n",
    "\n",
    "- Depois disso, está concatenando o array de zeros com as previsões do modelo ao longo do eixo 0 (ou seja, verticalmente). A razão para fazer isso é para ajustar o formato dos dados, porque você teve um deslocamento de lag ao criar os dados de entrada para o modelo, então agora precisa preencher esses primeiros pontos nos dados de saída."
   ]
  },
  {
   "cell_type": "code",
   "execution_count": 46,
   "metadata": {},
   "outputs": [
    {
     "name": "stdout",
     "output_type": "stream",
     "text": [
      "\u001b[1m159/159\u001b[0m \u001b[32m━━━━━━━━━━━━━━━━━━━━\u001b[0m\u001b[37m\u001b[0m \u001b[1m0s\u001b[0m 1ms/step\n"
     ]
    }
   ],
   "source": [
    "y_pred_treino = np.concatenate((np.zeros([lag,1]), modelo_dsa.predict(x_treino_final)), axis = 0)"
   ]
  },
  {
   "cell_type": "markdown",
   "metadata": {},
   "source": [
    "Repetimos o mesmo com dados de validação e teste e então concatenamos."
   ]
  },
  {
   "cell_type": "code",
   "execution_count": 47,
   "metadata": {},
   "outputs": [
    {
     "name": "stdout",
     "output_type": "stream",
     "text": [
      "\u001b[1m19/19\u001b[0m \u001b[32m━━━━━━━━━━━━━━━━━━━━\u001b[0m\u001b[37m\u001b[0m \u001b[1m0s\u001b[0m 1ms/step\n"
     ]
    }
   ],
   "source": [
    "y_pred_valid = np.concatenate((np.zeros([lag,1]), modelo_dsa.predict(x_valid_final)), axis = 0)"
   ]
  },
  {
   "cell_type": "code",
   "execution_count": 48,
   "metadata": {},
   "outputs": [
    {
     "name": "stdout",
     "output_type": "stream",
     "text": [
      "\u001b[1m9/9\u001b[0m \u001b[32m━━━━━━━━━━━━━━━━━━━━\u001b[0m\u001b[37m\u001b[0m \u001b[1m0s\u001b[0m 2ms/step\n"
     ]
    }
   ],
   "source": [
    "y_pred_teste = np.concatenate((np.zeros([lag,1]), modelo_dsa.predict(x_teste_final)), axis = 0)"
   ]
  },
  {
   "cell_type": "code",
   "execution_count": 49,
   "metadata": {},
   "outputs": [],
   "source": [
    "# Concatena as previsões em treino, valid e teste como previsão final\n",
    "df[\"prediction\"] = np.concatenate((y_pred_treino, y_pred_valid, y_pred_teste), axis = 0)"
   ]
  },
  {
   "cell_type": "code",
   "execution_count": 50,
   "metadata": {},
   "outputs": [
    {
     "data": {
      "text/html": [
       "<div>\n",
       "<style scoped>\n",
       "    .dataframe tbody tr th:only-of-type {\n",
       "        vertical-align: middle;\n",
       "    }\n",
       "\n",
       "    .dataframe tbody tr th {\n",
       "        vertical-align: top;\n",
       "    }\n",
       "\n",
       "    .dataframe thead th {\n",
       "        text-align: right;\n",
       "    }\n",
       "</style>\n",
       "<table border=\"1\" class=\"dataframe\">\n",
       "  <thead>\n",
       "    <tr style=\"text-align: right;\">\n",
       "      <th>Price</th>\n",
       "      <th>adj_close</th>\n",
       "      <th>close</th>\n",
       "      <th>high</th>\n",
       "      <th>low</th>\n",
       "      <th>open</th>\n",
       "      <th>volume</th>\n",
       "      <th>retorno</th>\n",
       "      <th>op</th>\n",
       "      <th>hi</th>\n",
       "      <th>lo</th>\n",
       "      <th>clo</th>\n",
       "      <th>vol</th>\n",
       "      <th>SMA 15</th>\n",
       "      <th>SMA 60</th>\n",
       "      <th>MSD 15</th>\n",
       "      <th>MSD 60</th>\n",
       "      <th>VWAP</th>\n",
       "      <th>RSI</th>\n",
       "      <th>prediction</th>\n",
       "    </tr>\n",
       "    <tr>\n",
       "      <th>date</th>\n",
       "      <th></th>\n",
       "      <th></th>\n",
       "      <th></th>\n",
       "      <th></th>\n",
       "      <th></th>\n",
       "      <th></th>\n",
       "      <th></th>\n",
       "      <th></th>\n",
       "      <th></th>\n",
       "      <th></th>\n",
       "      <th></th>\n",
       "      <th></th>\n",
       "      <th></th>\n",
       "      <th></th>\n",
       "      <th></th>\n",
       "      <th></th>\n",
       "      <th></th>\n",
       "      <th></th>\n",
       "      <th></th>\n",
       "    </tr>\n",
       "  </thead>\n",
       "  <tbody>\n",
       "    <tr>\n",
       "      <th>2023-12-22</th>\n",
       "      <td>370.375732</td>\n",
       "      <td>374.579987</td>\n",
       "      <td>375.179993</td>\n",
       "      <td>372.709991</td>\n",
       "      <td>373.679993</td>\n",
       "      <td>17091100</td>\n",
       "      <td>0.002784</td>\n",
       "      <td>372.559998</td>\n",
       "      <td>374.410004</td>\n",
       "      <td>370.040009</td>\n",
       "      <td>373.540009</td>\n",
       "      <td>17708000.0</td>\n",
       "      <td>371.795335</td>\n",
       "      <td>352.972669</td>\n",
       "      <td>0.010610</td>\n",
       "      <td>0.013211</td>\n",
       "      <td>371.030030</td>\n",
       "      <td>55.957485</td>\n",
       "      <td>-0.005726</td>\n",
       "    </tr>\n",
       "    <tr>\n",
       "      <th>2023-12-26</th>\n",
       "      <td>370.454834</td>\n",
       "      <td>374.660004</td>\n",
       "      <td>376.940002</td>\n",
       "      <td>373.500000</td>\n",
       "      <td>375.000000</td>\n",
       "      <td>12673100</td>\n",
       "      <td>0.000214</td>\n",
       "      <td>373.679993</td>\n",
       "      <td>375.179993</td>\n",
       "      <td>372.709991</td>\n",
       "      <td>374.579987</td>\n",
       "      <td>17091100.0</td>\n",
       "      <td>371.800000</td>\n",
       "      <td>353.988336</td>\n",
       "      <td>0.010216</td>\n",
       "      <td>0.013211</td>\n",
       "      <td>372.476155</td>\n",
       "      <td>59.580089</td>\n",
       "      <td>-0.005814</td>\n",
       "    </tr>\n",
       "    <tr>\n",
       "      <th>2023-12-27</th>\n",
       "      <td>369.871490</td>\n",
       "      <td>374.070007</td>\n",
       "      <td>375.059998</td>\n",
       "      <td>372.809998</td>\n",
       "      <td>373.690002</td>\n",
       "      <td>14905400</td>\n",
       "      <td>-0.001575</td>\n",
       "      <td>375.000000</td>\n",
       "      <td>376.940002</td>\n",
       "      <td>373.500000</td>\n",
       "      <td>374.660004</td>\n",
       "      <td>12673100.0</td>\n",
       "      <td>372.167999</td>\n",
       "      <td>354.970169</td>\n",
       "      <td>0.009410</td>\n",
       "      <td>0.013207</td>\n",
       "      <td>373.058044</td>\n",
       "      <td>59.897331</td>\n",
       "      <td>-0.005975</td>\n",
       "    </tr>\n",
       "    <tr>\n",
       "      <th>2023-12-28</th>\n",
       "      <td>371.067902</td>\n",
       "      <td>375.279999</td>\n",
       "      <td>376.459991</td>\n",
       "      <td>374.160004</td>\n",
       "      <td>375.369995</td>\n",
       "      <td>14327000</td>\n",
       "      <td>0.003235</td>\n",
       "      <td>373.690002</td>\n",
       "      <td>375.059998</td>\n",
       "      <td>372.809998</td>\n",
       "      <td>374.070007</td>\n",
       "      <td>14905400.0</td>\n",
       "      <td>372.271334</td>\n",
       "      <td>355.841336</td>\n",
       "      <td>0.009152</td>\n",
       "      <td>0.013046</td>\n",
       "      <td>373.430889</td>\n",
       "      <td>55.856718</td>\n",
       "      <td>-0.005623</td>\n",
       "    </tr>\n",
       "    <tr>\n",
       "      <th>2023-12-29</th>\n",
       "      <td>371.819366</td>\n",
       "      <td>376.040009</td>\n",
       "      <td>377.160004</td>\n",
       "      <td>373.480011</td>\n",
       "      <td>376.000000</td>\n",
       "      <td>18723000</td>\n",
       "      <td>0.002025</td>\n",
       "      <td>375.369995</td>\n",
       "      <td>376.459991</td>\n",
       "      <td>374.160004</td>\n",
       "      <td>375.279999</td>\n",
       "      <td>14327000.0</td>\n",
       "      <td>372.703335</td>\n",
       "      <td>356.872836</td>\n",
       "      <td>0.008715</td>\n",
       "      <td>0.012489</td>\n",
       "      <td>374.135981</td>\n",
       "      <td>62.365107</td>\n",
       "      <td>-0.005537</td>\n",
       "    </tr>\n",
       "  </tbody>\n",
       "</table>\n",
       "</div>"
      ],
      "text/plain": [
       "Price        adj_close       close        high         low        open  \\\n",
       "date                                                                     \n",
       "2023-12-22  370.375732  374.579987  375.179993  372.709991  373.679993   \n",
       "2023-12-26  370.454834  374.660004  376.940002  373.500000  375.000000   \n",
       "2023-12-27  369.871490  374.070007  375.059998  372.809998  373.690002   \n",
       "2023-12-28  371.067902  375.279999  376.459991  374.160004  375.369995   \n",
       "2023-12-29  371.819366  376.040009  377.160004  373.480011  376.000000   \n",
       "\n",
       "Price         volume   retorno          op          hi          lo  \\\n",
       "date                                                                 \n",
       "2023-12-22  17091100  0.002784  372.559998  374.410004  370.040009   \n",
       "2023-12-26  12673100  0.000214  373.679993  375.179993  372.709991   \n",
       "2023-12-27  14905400 -0.001575  375.000000  376.940002  373.500000   \n",
       "2023-12-28  14327000  0.003235  373.690002  375.059998  372.809998   \n",
       "2023-12-29  18723000  0.002025  375.369995  376.459991  374.160004   \n",
       "\n",
       "Price              clo         vol      SMA 15      SMA 60    MSD 15  \\\n",
       "date                                                                   \n",
       "2023-12-22  373.540009  17708000.0  371.795335  352.972669  0.010610   \n",
       "2023-12-26  374.579987  17091100.0  371.800000  353.988336  0.010216   \n",
       "2023-12-27  374.660004  12673100.0  372.167999  354.970169  0.009410   \n",
       "2023-12-28  374.070007  14905400.0  372.271334  355.841336  0.009152   \n",
       "2023-12-29  375.279999  14327000.0  372.703335  356.872836  0.008715   \n",
       "\n",
       "Price         MSD 60        VWAP        RSI  prediction  \n",
       "date                                                     \n",
       "2023-12-22  0.013211  371.030030  55.957485   -0.005726  \n",
       "2023-12-26  0.013211  372.476155  59.580089   -0.005814  \n",
       "2023-12-27  0.013207  373.058044  59.897331   -0.005975  \n",
       "2023-12-28  0.013046  373.430889  55.856718   -0.005623  \n",
       "2023-12-29  0.012489  374.135981  62.365107   -0.005537  "
      ]
     },
     "execution_count": 50,
     "metadata": {},
     "output_type": "execute_result"
    }
   ],
   "source": [
    "df.tail()"
   ]
  },
  {
   "cell_type": "markdown",
   "metadata": {},
   "source": [
    "A linha de código abaixo está criando uma nova coluna chamada \"dsa_estrategia\" no DataFrame df. Os valores para essa coluna são calculados tomando a coluna \"retorno\" e multiplicando-a pelo sinal da previsão do dia anterior (obtido através de df[\"prediction\"].shift(1)).\n",
    "\n",
    "A função np.sign retorna -1 se o número for negativo, 0 se o número for zero e 1 se o número for positivo.\n",
    "\n",
    "Ao usar shift(1), você está pegando os valores de \"prediction\" do dia anterior, porque shift(1) desloca os valores para baixo em uma linha.\n",
    "\n",
    "Em outras palavras, a estratégia aqui é que se a previsão do dia anterior era positiva, então você assume uma posição longa (compra) e seu retorno é simplesmente o retorno do ativo. Se a previsão do dia anterior era negativa, então você assume uma posição curta (vende), e o seu retorno é o negativo do retorno do ativo (porque quando você vende um ativo a descoberto, você ganha dinheiro quando o preço cai).\n",
    "\n",
    "É uma estratégia de negociação baseada nas previsões do dia anterior. Essa estratégia presume que você pode perfeitamente prever os valores do final do dia com base nas previsões do dia anterior.\n",
    "\n",
    "Nota: A execução dessa estratégia seria um pouco mais complicada e incluiria custos de transação."
   ]
  },
  {
   "cell_type": "code",
   "execution_count": 51,
   "metadata": {
    "colab": {
     "base_uri": "https://localhost:8080/"
    },
    "id": "g_J7dlsDW5ae",
    "outputId": "7d11afc2-f1e5-458d-f8c9-fdc7694bcb71"
   },
   "outputs": [],
   "source": [
    "# Calcula a estratégia\n",
    "df[\"dsa_estrategia\"] = df[\"retorno\"] * np.sign(df[\"prediction\"].shift(1))"
   ]
  },
  {
   "cell_type": "code",
   "execution_count": 52,
   "metadata": {},
   "outputs": [
    {
     "data": {
      "text/html": [
       "<div>\n",
       "<style scoped>\n",
       "    .dataframe tbody tr th:only-of-type {\n",
       "        vertical-align: middle;\n",
       "    }\n",
       "\n",
       "    .dataframe tbody tr th {\n",
       "        vertical-align: top;\n",
       "    }\n",
       "\n",
       "    .dataframe thead th {\n",
       "        text-align: right;\n",
       "    }\n",
       "</style>\n",
       "<table border=\"1\" class=\"dataframe\">\n",
       "  <thead>\n",
       "    <tr style=\"text-align: right;\">\n",
       "      <th>Price</th>\n",
       "      <th>adj_close</th>\n",
       "      <th>close</th>\n",
       "      <th>high</th>\n",
       "      <th>low</th>\n",
       "      <th>open</th>\n",
       "      <th>volume</th>\n",
       "      <th>retorno</th>\n",
       "      <th>op</th>\n",
       "      <th>hi</th>\n",
       "      <th>lo</th>\n",
       "      <th>clo</th>\n",
       "      <th>vol</th>\n",
       "      <th>SMA 15</th>\n",
       "      <th>SMA 60</th>\n",
       "      <th>MSD 15</th>\n",
       "      <th>MSD 60</th>\n",
       "      <th>VWAP</th>\n",
       "      <th>RSI</th>\n",
       "      <th>prediction</th>\n",
       "      <th>dsa_estrategia</th>\n",
       "    </tr>\n",
       "    <tr>\n",
       "      <th>date</th>\n",
       "      <th></th>\n",
       "      <th></th>\n",
       "      <th></th>\n",
       "      <th></th>\n",
       "      <th></th>\n",
       "      <th></th>\n",
       "      <th></th>\n",
       "      <th></th>\n",
       "      <th></th>\n",
       "      <th></th>\n",
       "      <th></th>\n",
       "      <th></th>\n",
       "      <th></th>\n",
       "      <th></th>\n",
       "      <th></th>\n",
       "      <th></th>\n",
       "      <th></th>\n",
       "      <th></th>\n",
       "      <th></th>\n",
       "      <th></th>\n",
       "    </tr>\n",
       "  </thead>\n",
       "  <tbody>\n",
       "    <tr>\n",
       "      <th>2023-12-22</th>\n",
       "      <td>370.375732</td>\n",
       "      <td>374.579987</td>\n",
       "      <td>375.179993</td>\n",
       "      <td>372.709991</td>\n",
       "      <td>373.679993</td>\n",
       "      <td>17091100</td>\n",
       "      <td>0.002784</td>\n",
       "      <td>372.559998</td>\n",
       "      <td>374.410004</td>\n",
       "      <td>370.040009</td>\n",
       "      <td>373.540009</td>\n",
       "      <td>17708000.0</td>\n",
       "      <td>371.795335</td>\n",
       "      <td>352.972669</td>\n",
       "      <td>0.010610</td>\n",
       "      <td>0.013211</td>\n",
       "      <td>371.030030</td>\n",
       "      <td>55.957485</td>\n",
       "      <td>-0.005726</td>\n",
       "      <td>-0.002784</td>\n",
       "    </tr>\n",
       "    <tr>\n",
       "      <th>2023-12-26</th>\n",
       "      <td>370.454834</td>\n",
       "      <td>374.660004</td>\n",
       "      <td>376.940002</td>\n",
       "      <td>373.500000</td>\n",
       "      <td>375.000000</td>\n",
       "      <td>12673100</td>\n",
       "      <td>0.000214</td>\n",
       "      <td>373.679993</td>\n",
       "      <td>375.179993</td>\n",
       "      <td>372.709991</td>\n",
       "      <td>374.579987</td>\n",
       "      <td>17091100.0</td>\n",
       "      <td>371.800000</td>\n",
       "      <td>353.988336</td>\n",
       "      <td>0.010216</td>\n",
       "      <td>0.013211</td>\n",
       "      <td>372.476155</td>\n",
       "      <td>59.580089</td>\n",
       "      <td>-0.005814</td>\n",
       "      <td>-0.000214</td>\n",
       "    </tr>\n",
       "    <tr>\n",
       "      <th>2023-12-27</th>\n",
       "      <td>369.871490</td>\n",
       "      <td>374.070007</td>\n",
       "      <td>375.059998</td>\n",
       "      <td>372.809998</td>\n",
       "      <td>373.690002</td>\n",
       "      <td>14905400</td>\n",
       "      <td>-0.001575</td>\n",
       "      <td>375.000000</td>\n",
       "      <td>376.940002</td>\n",
       "      <td>373.500000</td>\n",
       "      <td>374.660004</td>\n",
       "      <td>12673100.0</td>\n",
       "      <td>372.167999</td>\n",
       "      <td>354.970169</td>\n",
       "      <td>0.009410</td>\n",
       "      <td>0.013207</td>\n",
       "      <td>373.058044</td>\n",
       "      <td>59.897331</td>\n",
       "      <td>-0.005975</td>\n",
       "      <td>0.001575</td>\n",
       "    </tr>\n",
       "    <tr>\n",
       "      <th>2023-12-28</th>\n",
       "      <td>371.067902</td>\n",
       "      <td>375.279999</td>\n",
       "      <td>376.459991</td>\n",
       "      <td>374.160004</td>\n",
       "      <td>375.369995</td>\n",
       "      <td>14327000</td>\n",
       "      <td>0.003235</td>\n",
       "      <td>373.690002</td>\n",
       "      <td>375.059998</td>\n",
       "      <td>372.809998</td>\n",
       "      <td>374.070007</td>\n",
       "      <td>14905400.0</td>\n",
       "      <td>372.271334</td>\n",
       "      <td>355.841336</td>\n",
       "      <td>0.009152</td>\n",
       "      <td>0.013046</td>\n",
       "      <td>373.430889</td>\n",
       "      <td>55.856718</td>\n",
       "      <td>-0.005623</td>\n",
       "      <td>-0.003235</td>\n",
       "    </tr>\n",
       "    <tr>\n",
       "      <th>2023-12-29</th>\n",
       "      <td>371.819366</td>\n",
       "      <td>376.040009</td>\n",
       "      <td>377.160004</td>\n",
       "      <td>373.480011</td>\n",
       "      <td>376.000000</td>\n",
       "      <td>18723000</td>\n",
       "      <td>0.002025</td>\n",
       "      <td>375.369995</td>\n",
       "      <td>376.459991</td>\n",
       "      <td>374.160004</td>\n",
       "      <td>375.279999</td>\n",
       "      <td>14327000.0</td>\n",
       "      <td>372.703335</td>\n",
       "      <td>356.872836</td>\n",
       "      <td>0.008715</td>\n",
       "      <td>0.012489</td>\n",
       "      <td>374.135981</td>\n",
       "      <td>62.365107</td>\n",
       "      <td>-0.005537</td>\n",
       "      <td>-0.002025</td>\n",
       "    </tr>\n",
       "  </tbody>\n",
       "</table>\n",
       "</div>"
      ],
      "text/plain": [
       "Price        adj_close       close        high         low        open  \\\n",
       "date                                                                     \n",
       "2023-12-22  370.375732  374.579987  375.179993  372.709991  373.679993   \n",
       "2023-12-26  370.454834  374.660004  376.940002  373.500000  375.000000   \n",
       "2023-12-27  369.871490  374.070007  375.059998  372.809998  373.690002   \n",
       "2023-12-28  371.067902  375.279999  376.459991  374.160004  375.369995   \n",
       "2023-12-29  371.819366  376.040009  377.160004  373.480011  376.000000   \n",
       "\n",
       "Price         volume   retorno          op          hi          lo  \\\n",
       "date                                                                 \n",
       "2023-12-22  17091100  0.002784  372.559998  374.410004  370.040009   \n",
       "2023-12-26  12673100  0.000214  373.679993  375.179993  372.709991   \n",
       "2023-12-27  14905400 -0.001575  375.000000  376.940002  373.500000   \n",
       "2023-12-28  14327000  0.003235  373.690002  375.059998  372.809998   \n",
       "2023-12-29  18723000  0.002025  375.369995  376.459991  374.160004   \n",
       "\n",
       "Price              clo         vol      SMA 15      SMA 60    MSD 15  \\\n",
       "date                                                                   \n",
       "2023-12-22  373.540009  17708000.0  371.795335  352.972669  0.010610   \n",
       "2023-12-26  374.579987  17091100.0  371.800000  353.988336  0.010216   \n",
       "2023-12-27  374.660004  12673100.0  372.167999  354.970169  0.009410   \n",
       "2023-12-28  374.070007  14905400.0  372.271334  355.841336  0.009152   \n",
       "2023-12-29  375.279999  14327000.0  372.703335  356.872836  0.008715   \n",
       "\n",
       "Price         MSD 60        VWAP        RSI  prediction  dsa_estrategia  \n",
       "date                                                                     \n",
       "2023-12-22  0.013211  371.030030  55.957485   -0.005726       -0.002784  \n",
       "2023-12-26  0.013211  372.476155  59.580089   -0.005814       -0.000214  \n",
       "2023-12-27  0.013207  373.058044  59.897331   -0.005975        0.001575  \n",
       "2023-12-28  0.013046  373.430889  55.856718   -0.005623       -0.003235  \n",
       "2023-12-29  0.012489  374.135981  62.365107   -0.005537       -0.002025  "
      ]
     },
     "execution_count": 52,
     "metadata": {},
     "output_type": "execute_result"
    }
   ],
   "source": [
    "df.tail()"
   ]
  },
  {
   "cell_type": "code",
   "execution_count": 53,
   "metadata": {
    "colab": {
     "base_uri": "https://localhost:8080/",
     "height": 341
    },
    "id": "_X5l7ba_Tk69",
    "outputId": "ef8bda16-4f47-4cb8-ceb3-a4fe6d1fe309"
   },
   "outputs": [
    {
     "data": {
      "image/png": "[encoded data removed]",
      "text/plain": [
       "<Figure size 640x480 with 1 Axes>"
      ]
     },
     "metadata": {},
     "output_type": "display_data"
    }
   ],
   "source": [
    "# Plot do acumulado\n",
    "df[\"dsa_estrategia\"].iloc[:].cumsum().plot()\n",
    "\n",
    "# Adicionando rótulos aos eixos\n",
    "plt.xlabel(\"Tempo\")  \n",
    "plt.ylabel(\"Retorno\")  \n",
    "\n",
    "# Exibindo o gráfico\n",
    "plt.show()"
   ]
  },
  {
   "cell_type": "markdown",
   "metadata": {},
   "source": [
    "Modelos de IA são aproximações. Use cada modelo sempre de forma cautelosa."
   ]
  },
  {
   "cell_type": "code",
   "execution_count": 54,
   "metadata": {},
   "outputs": [
    {
     "name": "stdout",
     "output_type": "stream",
     "text": [
      "Author: Data Science Academy\n",
      "\n"
     ]
    }
   ],
   "source": [
    "%watermark -a \"Data Science Academy\""
   ]
  },
  {
   "cell_type": "code",
   "execution_count": 55,
   "metadata": {},
   "outputs": [],
   "source": [
    "#%watermark -v -m"
   ]
  },
  {
   "cell_type": "code",
   "execution_count": 56,
   "metadata": {},
   "outputs": [],
   "source": [
    "#%watermark --iversions"
   ]
  },
  {
   "cell_type": "markdown",
   "metadata": {},
   "source": [
    "# Fim"
   ]
  }
 ],
 "metadata": {
  "anaconda-cloud": {},
  "colab": {
   "include_colab_link": true,
   "provenance": []
  },
  "gpuClass": "standard",
  "kernelspec": {
   "display_name": "Python 3 (ipykernel)",
   "language": "python",
   "name": "python3"
  },
  "language_info": {
   "codemirror_mode": {
    "name": "ipython",
    "version": 3
   },
   "file_extension": ".py",
   "mimetype": "text/x-python",
   "name": "python",
   "nbconvert_exporter": "python",
   "pygments_lexer": "ipython3",
   "version": "3.12.11"
  }
 },
 "nbformat": 4,
 "nbformat_minor": 4
}
